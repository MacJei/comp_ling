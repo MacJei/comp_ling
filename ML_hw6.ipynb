{
  "nbformat": 4,
  "nbformat_minor": 0,
  "metadata": {
    "colab": {
      "name": "ML_hw6.ipynb",
      "provenance": [],
      "authorship_tag": "ABX9TyMCt9HqQQhiozygB3hrousd",
      "include_colab_link": true
    },
    "kernelspec": {
      "name": "python3",
      "display_name": "Python 3"
    },
    "accelerator": "GPU"
  },
  "cells": [
    {
      "cell_type": "markdown",
      "metadata": {
        "id": "view-in-github",
        "colab_type": "text"
      },
      "source": [
        "<a href=\"https://colab.research.google.com/github/lnpetrova/comp_ling/blob/master/ML_hw6.ipynb\" target=\"_parent\"><img src=\"https://colab.research.google.com/assets/colab-badge.svg\" alt=\"Open In Colab\"/></a>"
      ]
    },
    {
      "cell_type": "markdown",
      "metadata": {
        "id": "rgrvYEq6h7FE",
        "colab_type": "text"
      },
      "source": [
        "# **Импорты**"
      ]
    },
    {
      "cell_type": "code",
      "metadata": {
        "id": "Q44rhmA-hwLh",
        "colab_type": "code",
        "colab": {}
      },
      "source": [
        "import tensorflow as tf\n",
        "import pandas as pd\n",
        "import numpy as np\n",
        "from string import punctuation\n",
        "from sklearn.model_selection import train_test_split\n",
        "from sklearn.metrics import classification_report\n",
        "from collections import Counter\n",
        "import matplotlib.pyplot as plt\n",
        "%matplotlib inline"
      ],
      "execution_count": 1,
      "outputs": []
    },
    {
      "cell_type": "markdown",
      "metadata": {
        "id": "UGOjf_qPitn6",
        "colab_type": "text"
      },
      "source": [
        "# **Данные**"
      ]
    },
    {
      "cell_type": "code",
      "metadata": {
        "id": "dSiuhNSlXyJw",
        "colab_type": "code",
        "colab": {
          "base_uri": "https://localhost:8080/",
          "height": 384
        },
        "outputId": "5927cb62-eb91-468d-c7af-ac74c90accfe"
      },
      "source": [
        "!wget https://www.dropbox.com/s/kztcxbki36m8yrn/quora.csv?dl=0"
      ],
      "execution_count": 2,
      "outputs": [
        {
          "output_type": "stream",
          "text": [
            "--2020-06-28 12:04:15--  https://www.dropbox.com/s/kztcxbki36m8yrn/quora.csv?dl=0\n",
            "Resolving www.dropbox.com (www.dropbox.com)... 162.125.66.1, 2620:100:6022:1::a27d:4201\n",
            "Connecting to www.dropbox.com (www.dropbox.com)|162.125.66.1|:443... connected.\n",
            "HTTP request sent, awaiting response... 301 Moved Permanently\n",
            "Location: /s/raw/kztcxbki36m8yrn/quora.csv [following]\n",
            "--2020-06-28 12:04:15--  https://www.dropbox.com/s/raw/kztcxbki36m8yrn/quora.csv\n",
            "Reusing existing connection to www.dropbox.com:443.\n",
            "HTTP request sent, awaiting response... 302 Found\n",
            "Location: https://uc1bf1c7608c6d6d61c8d57ef08f.dl.dropboxusercontent.com/cd/0/inline/A6iRKi3HkvEawIp5lwlQ3FV4ppZmO-n7XB0kIuR2770s5w9_yDBDFYdTqkeo9eksSt1jUGhhv7A41n5_o-fU-mMlOU8CkD0eXoVI_dKyjMfa1zTrMZHURkNdCDcxedSUTFs/file# [following]\n",
            "--2020-06-28 12:04:16--  https://uc1bf1c7608c6d6d61c8d57ef08f.dl.dropboxusercontent.com/cd/0/inline/A6iRKi3HkvEawIp5lwlQ3FV4ppZmO-n7XB0kIuR2770s5w9_yDBDFYdTqkeo9eksSt1jUGhhv7A41n5_o-fU-mMlOU8CkD0eXoVI_dKyjMfa1zTrMZHURkNdCDcxedSUTFs/file\n",
            "Resolving uc1bf1c7608c6d6d61c8d57ef08f.dl.dropboxusercontent.com (uc1bf1c7608c6d6d61c8d57ef08f.dl.dropboxusercontent.com)... 162.125.66.15, 2620:100:6022:15::a27d:420f\n",
            "Connecting to uc1bf1c7608c6d6d61c8d57ef08f.dl.dropboxusercontent.com (uc1bf1c7608c6d6d61c8d57ef08f.dl.dropboxusercontent.com)|162.125.66.15|:443... connected.\n",
            "HTTP request sent, awaiting response... 200 OK\n",
            "Length: 124206772 (118M) [text/plain]\n",
            "Saving to: ‘quora.csv?dl=0’\n",
            "\n",
            "quora.csv?dl=0      100%[===================>] 118.45M  20.1MB/s    in 5.8s    \n",
            "\n",
            "2020-06-28 12:04:22 (20.5 MB/s) - ‘quora.csv?dl=0’ saved [124206772/124206772]\n",
            "\n"
          ],
          "name": "stdout"
        }
      ]
    },
    {
      "cell_type": "code",
      "metadata": {
        "id": "7_LE5NFUhwS7",
        "colab_type": "code",
        "colab": {}
      },
      "source": [
        "quora = pd.read_csv('quora.csv?dl=0')"
      ],
      "execution_count": 3,
      "outputs": []
    },
    {
      "cell_type": "code",
      "metadata": {
        "id": "ppIc1K3oi-HT",
        "colab_type": "code",
        "colab": {
          "base_uri": "https://localhost:8080/",
          "height": 355
        },
        "outputId": "4fa63c3b-d902-4ab0-afe6-6387db424e5e"
      },
      "source": [
        "quora.head(10)"
      ],
      "execution_count": 4,
      "outputs": [
        {
          "output_type": "execute_result",
          "data": {
            "text/html": [
              "<div>\n",
              "<style scoped>\n",
              "    .dataframe tbody tr th:only-of-type {\n",
              "        vertical-align: middle;\n",
              "    }\n",
              "\n",
              "    .dataframe tbody tr th {\n",
              "        vertical-align: top;\n",
              "    }\n",
              "\n",
              "    .dataframe thead th {\n",
              "        text-align: right;\n",
              "    }\n",
              "</style>\n",
              "<table border=\"1\" class=\"dataframe\">\n",
              "  <thead>\n",
              "    <tr style=\"text-align: right;\">\n",
              "      <th></th>\n",
              "      <th>qid</th>\n",
              "      <th>question_text</th>\n",
              "      <th>target</th>\n",
              "    </tr>\n",
              "  </thead>\n",
              "  <tbody>\n",
              "    <tr>\n",
              "      <th>0</th>\n",
              "      <td>00002165364db923c7e6</td>\n",
              "      <td>How did Quebec nationalists see their province...</td>\n",
              "      <td>0</td>\n",
              "    </tr>\n",
              "    <tr>\n",
              "      <th>1</th>\n",
              "      <td>000032939017120e6e44</td>\n",
              "      <td>Do you have an adopted dog, how would you enco...</td>\n",
              "      <td>0</td>\n",
              "    </tr>\n",
              "    <tr>\n",
              "      <th>2</th>\n",
              "      <td>0000412ca6e4628ce2cf</td>\n",
              "      <td>Why does velocity affect time? Does velocity a...</td>\n",
              "      <td>0</td>\n",
              "    </tr>\n",
              "    <tr>\n",
              "      <th>3</th>\n",
              "      <td>000042bf85aa498cd78e</td>\n",
              "      <td>How did Otto von Guericke used the Magdeburg h...</td>\n",
              "      <td>0</td>\n",
              "    </tr>\n",
              "    <tr>\n",
              "      <th>4</th>\n",
              "      <td>0000455dfa3e01eae3af</td>\n",
              "      <td>Can I convert montra helicon D to a mountain b...</td>\n",
              "      <td>0</td>\n",
              "    </tr>\n",
              "    <tr>\n",
              "      <th>5</th>\n",
              "      <td>00004f9a462a357c33be</td>\n",
              "      <td>Is Gaza slowly becoming Auschwitz, Dachau or T...</td>\n",
              "      <td>0</td>\n",
              "    </tr>\n",
              "    <tr>\n",
              "      <th>6</th>\n",
              "      <td>00005059a06ee19e11ad</td>\n",
              "      <td>Why does Quora automatically ban conservative ...</td>\n",
              "      <td>0</td>\n",
              "    </tr>\n",
              "    <tr>\n",
              "      <th>7</th>\n",
              "      <td>0000559f875832745e2e</td>\n",
              "      <td>Is it crazy if I wash or wipe my groceries off...</td>\n",
              "      <td>0</td>\n",
              "    </tr>\n",
              "    <tr>\n",
              "      <th>8</th>\n",
              "      <td>00005bd3426b2d0c8305</td>\n",
              "      <td>Is there such a thing as dressing moderately, ...</td>\n",
              "      <td>0</td>\n",
              "    </tr>\n",
              "    <tr>\n",
              "      <th>9</th>\n",
              "      <td>00006e6928c5df60eacb</td>\n",
              "      <td>Is it just me or have you ever been in this ph...</td>\n",
              "      <td>0</td>\n",
              "    </tr>\n",
              "  </tbody>\n",
              "</table>\n",
              "</div>"
            ],
            "text/plain": [
              "                    qid  ... target\n",
              "0  00002165364db923c7e6  ...      0\n",
              "1  000032939017120e6e44  ...      0\n",
              "2  0000412ca6e4628ce2cf  ...      0\n",
              "3  000042bf85aa498cd78e  ...      0\n",
              "4  0000455dfa3e01eae3af  ...      0\n",
              "5  00004f9a462a357c33be  ...      0\n",
              "6  00005059a06ee19e11ad  ...      0\n",
              "7  0000559f875832745e2e  ...      0\n",
              "8  00005bd3426b2d0c8305  ...      0\n",
              "9  00006e6928c5df60eacb  ...      0\n",
              "\n",
              "[10 rows x 3 columns]"
            ]
          },
          "metadata": {
            "tags": []
          },
          "execution_count": 4
        }
      ]
    },
    {
      "cell_type": "code",
      "metadata": {
        "id": "6ngPlhg2i-Qn",
        "colab_type": "code",
        "colab": {}
      },
      "source": [
        "def preprocess(text):\n",
        "    tokens = text.lower().split()\n",
        "    tokens = [token.strip(punctuation) for token in tokens]\n",
        "    return tokens"
      ],
      "execution_count": 5,
      "outputs": []
    },
    {
      "cell_type": "code",
      "metadata": {
        "id": "mL_NQlIxi-U3",
        "colab_type": "code",
        "colab": {}
      },
      "source": [
        "vocab = Counter()\n",
        "\n",
        "for text in quora.question_text:\n",
        "    vocab.update(preprocess(text))"
      ],
      "execution_count": 6,
      "outputs": []
    },
    {
      "cell_type": "code",
      "metadata": {
        "id": "yoS476mojxFj",
        "colab_type": "code",
        "colab": {
          "base_uri": "https://localhost:8080/",
          "height": 35
        },
        "outputId": "9954fb4c-c911-4d4b-ae8a-057f15af1dc7"
      },
      "source": [
        "filtered_vocab = set()\n",
        "\n",
        "for word in vocab:\n",
        "    if vocab[word] > 50:\n",
        "        filtered_vocab.add(word)\n",
        "len(filtered_vocab)"
      ],
      "execution_count": 7,
      "outputs": [
        {
          "output_type": "execute_result",
          "data": {
            "text/plain": [
              "14083"
            ]
          },
          "metadata": {
            "tags": []
          },
          "execution_count": 7
        }
      ]
    },
    {
      "cell_type": "code",
      "metadata": {
        "id": "Uac0flrdjxPu",
        "colab_type": "code",
        "colab": {}
      },
      "source": [
        "word2id = {'UNK':1, 'PAD':0}\n",
        "for word in filtered_vocab:\n",
        "    word2id[word] = len(word2id)"
      ],
      "execution_count": 8,
      "outputs": []
    },
    {
      "cell_type": "code",
      "metadata": {
        "id": "7TrJD9HKjxMv",
        "colab_type": "code",
        "colab": {}
      },
      "source": [
        "id2word = {i:word for word, i in word2id.items()}"
      ],
      "execution_count": 9,
      "outputs": []
    },
    {
      "cell_type": "code",
      "metadata": {
        "id": "wN__Rgl_jxJv",
        "colab_type": "code",
        "colab": {}
      },
      "source": [
        "X = []\n",
        "\n",
        "for text in quora.question_text:\n",
        "    tokens = preprocess(text)\n",
        "    ids = [word2id.get(token, 1) for token in tokens]\n",
        "    X.append(ids)"
      ],
      "execution_count": 10,
      "outputs": []
    },
    {
      "cell_type": "code",
      "metadata": {
        "id": "ePpI9oBljxCN",
        "colab_type": "code",
        "colab": {}
      },
      "source": [
        "MAX_LEN = max(len(x) for x in X)"
      ],
      "execution_count": 11,
      "outputs": []
    },
    {
      "cell_type": "code",
      "metadata": {
        "id": "bkFr2L34k0u4",
        "colab_type": "code",
        "colab": {}
      },
      "source": [
        "X = tf.keras.preprocessing.sequence.pad_sequences(X, maxlen=MAX_LEN)"
      ],
      "execution_count": 12,
      "outputs": []
    },
    {
      "cell_type": "code",
      "metadata": {
        "id": "BPc5gRPjk09T",
        "colab_type": "code",
        "colab": {
          "base_uri": "https://localhost:8080/",
          "height": 35
        },
        "outputId": "fc1b935c-6def-4bc3-e3ea-118a48e202f8"
      },
      "source": [
        "X.shape"
      ],
      "execution_count": 13,
      "outputs": [
        {
          "output_type": "execute_result",
          "data": {
            "text/plain": [
              "(1306122, 134)"
            ]
          },
          "metadata": {
            "tags": []
          },
          "execution_count": 13
        }
      ]
    },
    {
      "cell_type": "code",
      "metadata": {
        "id": "MDK3wOzek1BS",
        "colab_type": "code",
        "colab": {}
      },
      "source": [
        "y = quora.target.values"
      ],
      "execution_count": 14,
      "outputs": []
    },
    {
      "cell_type": "code",
      "metadata": {
        "id": "uQpgUqcbk05p",
        "colab_type": "code",
        "colab": {}
      },
      "source": [
        "X_train, X_valid, y_train, y_valid = train_test_split(X, y, test_size=0.05, random_state=42)"
      ],
      "execution_count": 15,
      "outputs": []
    },
    {
      "cell_type": "markdown",
      "metadata": {
        "id": "vG5e0r8ymrAu",
        "colab_type": "text"
      },
      "source": [
        "# **Задание 1**"
      ]
    },
    {
      "cell_type": "markdown",
      "metadata": {
        "id": "DtQR_5MF4GHm",
        "colab_type": "text"
      },
      "source": [
        "**а) конкатенировать эмбединги в один большой эмбединг**"
      ]
    },
    {
      "cell_type": "code",
      "metadata": {
        "id": "w6K26hCtmuhf",
        "colab_type": "code",
        "colab": {}
      },
      "source": [
        "inputs = tf.keras.layers.Input(shape=(MAX_LEN,))\n",
        "\n",
        "embeddings = tf.keras.layers.Embedding(input_dim=len(word2id), output_dim=100)(inputs)\n",
        "flat = tf.keras.layers.Flatten()(embeddings)\n",
        "dense = tf.keras.layers.Dense(32, activation='relu')(flat)\n",
        "dense = tf.keras.layers.Dense(32, activation='relu')(dense)\n",
        "outputs = tf.keras.layers.Dense(1, activation='sigmoid')(dense)\n",
        "\n",
        "model = tf.keras.Model(inputs=inputs, outputs=outputs)\n",
        "optimizer = tf.keras.optimizers.Adam(learning_rate=0.001)\n",
        "model.compile(optimizer=optimizer,\n",
        "              loss='binary_crossentropy',\n",
        "              metrics=['accuracy'])"
      ],
      "execution_count": 85,
      "outputs": []
    },
    {
      "cell_type": "code",
      "metadata": {
        "id": "oQOInRFg6k66",
        "colab_type": "code",
        "colab": {
          "base_uri": "https://localhost:8080/",
          "height": 401
        },
        "outputId": "48865146-9e6e-40a0-d22f-fd035bbb3e7b"
      },
      "source": [
        "model.fit(X_train, y_train, \n",
        "          validation_data=(X_valid, y_valid),\n",
        "          batch_size=512,\n",
        "         epochs=10)"
      ],
      "execution_count": 86,
      "outputs": [
        {
          "output_type": "stream",
          "text": [
            "Epoch 1/10\n",
            "2424/2424 [==============================] - 63s 26ms/step - loss: 0.1249 - accuracy: 0.9515 - val_loss: 0.1112 - val_accuracy: 0.9557\n",
            "Epoch 2/10\n",
            "2424/2424 [==============================] - 65s 27ms/step - loss: 0.1063 - accuracy: 0.9572 - val_loss: 0.1136 - val_accuracy: 0.9556\n",
            "Epoch 3/10\n",
            "2424/2424 [==============================] - 67s 28ms/step - loss: 0.0921 - accuracy: 0.9629 - val_loss: 0.1215 - val_accuracy: 0.9532\n",
            "Epoch 4/10\n",
            "2424/2424 [==============================] - 67s 28ms/step - loss: 0.0746 - accuracy: 0.9705 - val_loss: 0.1390 - val_accuracy: 0.9513\n",
            "Epoch 5/10\n",
            "2424/2424 [==============================] - 66s 27ms/step - loss: 0.0604 - accuracy: 0.9764 - val_loss: 0.1642 - val_accuracy: 0.9500\n",
            "Epoch 6/10\n",
            "2424/2424 [==============================] - 66s 27ms/step - loss: 0.0503 - accuracy: 0.9805 - val_loss: 0.1886 - val_accuracy: 0.9485\n",
            "Epoch 7/10\n",
            "2424/2424 [==============================] - 66s 27ms/step - loss: 0.0427 - accuracy: 0.9835 - val_loss: 0.2269 - val_accuracy: 0.9451\n",
            "Epoch 8/10\n",
            "2424/2424 [==============================] - 66s 27ms/step - loss: 0.0366 - accuracy: 0.9860 - val_loss: 0.2580 - val_accuracy: 0.9450\n",
            "Epoch 9/10\n",
            "2424/2424 [==============================] - 66s 27ms/step - loss: 0.0318 - accuracy: 0.9878 - val_loss: 0.2951 - val_accuracy: 0.9441\n",
            "Epoch 10/10\n",
            "2424/2424 [==============================] - 66s 27ms/step - loss: 0.0280 - accuracy: 0.9894 - val_loss: 0.3217 - val_accuracy: 0.9450\n"
          ],
          "name": "stdout"
        },
        {
          "output_type": "execute_result",
          "data": {
            "text/plain": [
              "<tensorflow.python.keras.callbacks.History at 0x7fd3c40d79e8>"
            ]
          },
          "metadata": {
            "tags": []
          },
          "execution_count": 86
        }
      ]
    },
    {
      "cell_type": "code",
      "metadata": {
        "id": "zD5tESMhEsWT",
        "colab_type": "code",
        "colab": {
          "base_uri": "https://localhost:8080/",
          "height": 313
        },
        "outputId": "fd4f841a-cb75-49fe-96b0-342ef7b18c72"
      },
      "source": [
        "print(model.history.history.keys())\n",
        "# summarize history for accuracy\n",
        "plt.plot(model.history.history['accuracy'])\n",
        "plt.plot(model.history.history['val_accuracy'])\n",
        "plt.title('model accuracy')\n",
        "plt.ylabel('accuracy')\n",
        "plt.xlabel('epoch')\n",
        "plt.legend(['train', 'val'], loc='upper left')\n",
        "plt.show()"
      ],
      "execution_count": 87,
      "outputs": [
        {
          "output_type": "stream",
          "text": [
            "dict_keys(['loss', 'accuracy', 'val_loss', 'val_accuracy'])\n"
          ],
          "name": "stdout"
        },
        {
          "output_type": "display_data",
          "data": {
            "image/png": "[encoded data removed]",
            "text/plain": [
              "<Figure size 432x288 with 1 Axes>"
            ]
          },
          "metadata": {
            "tags": [],
            "needs_background": "light"
          }
        }
      ]
    },
    {
      "cell_type": "code",
      "metadata": {
        "id": "W3EZErWXE4Sr",
        "colab_type": "code",
        "colab": {}
      },
      "source": [
        "preds = model.predict(X_valid).reshape(-1)"
      ],
      "execution_count": 88,
      "outputs": []
    },
    {
      "cell_type": "code",
      "metadata": {
        "id": "ZZ55AlRoE75X",
        "colab_type": "code",
        "colab": {
          "base_uri": "https://localhost:8080/",
          "height": 173
        },
        "outputId": "826a95fb-0575-474c-a59c-8086eefe76ff"
      },
      "source": [
        "print(classification_report(y_valid, (preds > 0.5).astype(int)))"
      ],
      "execution_count": 89,
      "outputs": [
        {
          "output_type": "stream",
          "text": [
            "              precision    recall  f1-score   support\n",
            "\n",
            "           0       0.97      0.97      0.97     61365\n",
            "           1       0.55      0.50      0.52      3942\n",
            "\n",
            "    accuracy                           0.95     65307\n",
            "   macro avg       0.76      0.74      0.75     65307\n",
            "weighted avg       0.94      0.95      0.94     65307\n",
            "\n"
          ],
          "name": "stdout"
        }
      ]
    },
    {
      "cell_type": "markdown",
      "metadata": {
        "id": "DutJqS5BEn5m",
        "colab_type": "text"
      },
      "source": [
        "**б) усреднять эмбединги**"
      ]
    },
    {
      "cell_type": "code",
      "metadata": {
        "id": "vj5Q6Q0RFNXt",
        "colab_type": "code",
        "colab": {}
      },
      "source": [
        "inputs = tf.keras.layers.Input(shape=(MAX_LEN,))\n",
        "\n",
        "embeddings = tf.keras.layers.Embedding(input_dim=len(word2id), output_dim=100)(inputs)\n",
        "mean = tf.keras.layers.Lambda(lambda x: tf.keras.backend.mean(x,  axis=1))(embeddings)\n",
        "dense = tf.keras.layers.Dense(64, activation='relu')(mean)\n",
        "dense = tf.keras.layers.Dense(64, activation='relu')(mean)\n",
        "outputs = tf.keras.layers.Dense(1, activation='sigmoid')(dense)\n",
        "\n",
        "model = tf.keras.Model(inputs=inputs, outputs=outputs)\n",
        "optimizer = tf.keras.optimizers.Adam(learning_rate=0.0001)\n",
        "model.compile(optimizer=optimizer,\n",
        "              loss='binary_crossentropy',\n",
        "              metrics=['accuracy'])"
      ],
      "execution_count": 26,
      "outputs": []
    },
    {
      "cell_type": "code",
      "metadata": {
        "id": "_DLCKz4qFNj4",
        "colab_type": "code",
        "colab": {
          "base_uri": "https://localhost:8080/",
          "height": 401
        },
        "outputId": "6ac6cf54-5ed8-4a54-fe75-f501d3fa971a"
      },
      "source": [
        "model.fit(X_train, y_train, \n",
        "          validation_data=(X_valid, y_valid),\n",
        "          batch_size=512,\n",
        "         epochs=10)"
      ],
      "execution_count": 27,
      "outputs": [
        {
          "output_type": "stream",
          "text": [
            "Epoch 1/10\n",
            "2424/2424 [==============================] - 62s 25ms/step - loss: 0.2687 - accuracy: 0.9380 - val_loss: 0.2078 - val_accuracy: 0.9396\n",
            "Epoch 2/10\n",
            "2424/2424 [==============================] - 61s 25ms/step - loss: 0.1793 - accuracy: 0.9405 - val_loss: 0.1490 - val_accuracy: 0.9458\n",
            "Epoch 3/10\n",
            "2424/2424 [==============================] - 61s 25ms/step - loss: 0.1448 - accuracy: 0.9463 - val_loss: 0.1357 - val_accuracy: 0.9504\n",
            "Epoch 4/10\n",
            "2424/2424 [==============================] - 61s 25ms/step - loss: 0.1345 - accuracy: 0.9490 - val_loss: 0.1280 - val_accuracy: 0.9521\n",
            "Epoch 5/10\n",
            "2424/2424 [==============================] - 61s 25ms/step - loss: 0.1286 - accuracy: 0.9506 - val_loss: 0.1238 - val_accuracy: 0.9526\n",
            "Epoch 6/10\n",
            "2424/2424 [==============================] - 61s 25ms/step - loss: 0.1245 - accuracy: 0.9514 - val_loss: 0.1212 - val_accuracy: 0.9528\n",
            "Epoch 7/10\n",
            "2424/2424 [==============================] - 62s 26ms/step - loss: 0.1216 - accuracy: 0.9523 - val_loss: 0.1189 - val_accuracy: 0.9539\n",
            "Epoch 8/10\n",
            "2424/2424 [==============================] - 62s 26ms/step - loss: 0.1191 - accuracy: 0.9530 - val_loss: 0.1173 - val_accuracy: 0.9543\n",
            "Epoch 9/10\n",
            "2424/2424 [==============================] - 62s 25ms/step - loss: 0.1171 - accuracy: 0.9535 - val_loss: 0.1159 - val_accuracy: 0.9547\n",
            "Epoch 10/10\n",
            "2424/2424 [==============================] - 63s 26ms/step - loss: 0.1154 - accuracy: 0.9540 - val_loss: 0.1148 - val_accuracy: 0.9548\n"
          ],
          "name": "stdout"
        },
        {
          "output_type": "execute_result",
          "data": {
            "text/plain": [
              "<tensorflow.python.keras.callbacks.History at 0x7fd43c112cf8>"
            ]
          },
          "metadata": {
            "tags": []
          },
          "execution_count": 27
        }
      ]
    },
    {
      "cell_type": "code",
      "metadata": {
        "id": "1EizE5tCFNTU",
        "colab_type": "code",
        "colab": {
          "base_uri": "https://localhost:8080/",
          "height": 313
        },
        "outputId": "0aa067d7-3a06-489d-ceb1-d7f00de59a23"
      },
      "source": [
        "print(model.history.history.keys())\n",
        "plt.plot(model.history.history['accuracy'])\n",
        "plt.plot(model.history.history['val_accuracy'])\n",
        "plt.title('model binary_crossentropy')\n",
        "plt.ylabel('accuracy')\n",
        "plt.xlabel('epoch')\n",
        "plt.legend(['train', 'val'], loc='upper left')\n",
        "plt.show()"
      ],
      "execution_count": 28,
      "outputs": [
        {
          "output_type": "stream",
          "text": [
            "dict_keys(['loss', 'accuracy', 'val_loss', 'val_accuracy'])\n"
          ],
          "name": "stdout"
        },
        {
          "output_type": "display_data",
          "data": {
            "image/png": "[encoded data removed]",
            "text/plain": [
              "<Figure size 432x288 with 1 Axes>"
            ]
          },
          "metadata": {
            "tags": [],
            "needs_background": "light"
          }
        }
      ]
    },
    {
      "cell_type": "code",
      "metadata": {
        "id": "M88m3juPF64N",
        "colab_type": "code",
        "colab": {}
      },
      "source": [
        "preds = model.predict(X_valid).reshape(-1)"
      ],
      "execution_count": 29,
      "outputs": []
    },
    {
      "cell_type": "code",
      "metadata": {
        "id": "KjrGvss9F7Fl",
        "colab_type": "code",
        "colab": {
          "base_uri": "https://localhost:8080/",
          "height": 173
        },
        "outputId": "b081e0d9-293d-4085-bed6-eaba62c122b1"
      },
      "source": [
        "print(classification_report(y_valid, (preds > 0.5).astype(int)))"
      ],
      "execution_count": 30,
      "outputs": [
        {
          "output_type": "stream",
          "text": [
            "              precision    recall  f1-score   support\n",
            "\n",
            "           0       0.97      0.99      0.98     61365\n",
            "           1       0.69      0.45      0.55      3942\n",
            "\n",
            "    accuracy                           0.95     65307\n",
            "   macro avg       0.83      0.72      0.76     65307\n",
            "weighted avg       0.95      0.95      0.95     65307\n",
            "\n"
          ],
          "name": "stdout"
        }
      ]
    },
    {
      "cell_type": "markdown",
      "metadata": {
        "id": "1_wz8MkhGwpr",
        "colab_type": "text"
      },
      "source": [
        "**в) складывать эмбединги**"
      ]
    },
    {
      "cell_type": "code",
      "metadata": {
        "id": "tNwpsO-EG2tU",
        "colab_type": "code",
        "colab": {}
      },
      "source": [
        "inputs = tf.keras.layers.Input(shape=(MAX_LEN,))\n",
        "\n",
        "embeddings = tf.keras.layers.Embedding(input_dim=len(word2id), output_dim=100)(inputs)\n",
        "summa = tf.keras.layers.Lambda(lambda x: tf.keras.backend.sum(x, axis=1))(embeddings)\n",
        "dense = tf.keras.layers.Dense(65, activation='relu')(summa)\n",
        "dense = tf.keras.layers.Dense(65, activation='relu')(summa)\n",
        "outputs = tf.keras.layers.Dense(1, activation='sigmoid')(dense)\n",
        "\n",
        "model = tf.keras.Model(inputs=inputs, outputs=outputs)\n",
        "optimizer = tf.keras.optimizers.Adam(learning_rate=0.0001)\n",
        "model.compile(optimizer=optimizer,\n",
        "              loss='binary_crossentropy',\n",
        "              metrics=['accuracy'])"
      ],
      "execution_count": 31,
      "outputs": []
    },
    {
      "cell_type": "code",
      "metadata": {
        "id": "iBmgIuaJG3Zy",
        "colab_type": "code",
        "colab": {
          "base_uri": "https://localhost:8080/",
          "height": 401
        },
        "outputId": "b339bd0a-8a8e-4361-bb02-92587dfe08f1"
      },
      "source": [
        "model.fit(X_train, y_train, \n",
        "          validation_data=(X_valid, y_valid),\n",
        "          batch_size=512,\n",
        "         epochs=10)"
      ],
      "execution_count": 32,
      "outputs": [
        {
          "output_type": "stream",
          "text": [
            "Epoch 1/10\n",
            "2424/2424 [==============================] - 62s 26ms/step - loss: 0.1678 - accuracy: 0.9400 - val_loss: 0.1232 - val_accuracy: 0.9525\n",
            "Epoch 2/10\n",
            "2424/2424 [==============================] - 64s 26ms/step - loss: 0.1207 - accuracy: 0.9528 - val_loss: 0.1154 - val_accuracy: 0.9550\n",
            "Epoch 3/10\n",
            "2424/2424 [==============================] - 64s 26ms/step - loss: 0.1144 - accuracy: 0.9546 - val_loss: 0.1134 - val_accuracy: 0.9561\n",
            "Epoch 4/10\n",
            "2424/2424 [==============================] - 63s 26ms/step - loss: 0.1112 - accuracy: 0.9555 - val_loss: 0.1130 - val_accuracy: 0.9556\n",
            "Epoch 5/10\n",
            "2424/2424 [==============================] - 62s 26ms/step - loss: 0.1093 - accuracy: 0.9562 - val_loss: 0.1123 - val_accuracy: 0.9561\n",
            "Epoch 6/10\n",
            "2424/2424 [==============================] - 62s 25ms/step - loss: 0.1077 - accuracy: 0.9567 - val_loss: 0.1120 - val_accuracy: 0.9560\n",
            "Epoch 7/10\n",
            "2424/2424 [==============================] - 63s 26ms/step - loss: 0.1063 - accuracy: 0.9572 - val_loss: 0.1125 - val_accuracy: 0.9559\n",
            "Epoch 8/10\n",
            "2424/2424 [==============================] - 64s 26ms/step - loss: 0.1053 - accuracy: 0.9576 - val_loss: 0.1145 - val_accuracy: 0.9556\n",
            "Epoch 9/10\n",
            "2424/2424 [==============================] - 63s 26ms/step - loss: 0.1040 - accuracy: 0.9581 - val_loss: 0.1131 - val_accuracy: 0.9558\n",
            "Epoch 10/10\n",
            "2424/2424 [==============================] - 63s 26ms/step - loss: 0.1030 - accuracy: 0.9586 - val_loss: 0.1147 - val_accuracy: 0.9556\n"
          ],
          "name": "stdout"
        },
        {
          "output_type": "execute_result",
          "data": {
            "text/plain": [
              "<tensorflow.python.keras.callbacks.History at 0x7fd436665470>"
            ]
          },
          "metadata": {
            "tags": []
          },
          "execution_count": 32
        }
      ]
    },
    {
      "cell_type": "code",
      "metadata": {
        "id": "DZiInSHpG3Vy",
        "colab_type": "code",
        "colab": {
          "base_uri": "https://localhost:8080/",
          "height": 313
        },
        "outputId": "cc983e7a-a554-4aca-ed3b-dfc91447e486"
      },
      "source": [
        "print(model.history.history.keys())\n",
        "plt.plot(model.history.history['accuracy'])\n",
        "plt.plot(model.history.history['val_accuracy'])\n",
        "plt.title('model binary_crossentropy')\n",
        "plt.ylabel('accuracy')\n",
        "plt.xlabel('epoch')\n",
        "plt.legend(['train', 'val'], loc='upper left')\n",
        "plt.show()"
      ],
      "execution_count": 33,
      "outputs": [
        {
          "output_type": "stream",
          "text": [
            "dict_keys(['loss', 'accuracy', 'val_loss', 'val_accuracy'])\n"
          ],
          "name": "stdout"
        },
        {
          "output_type": "display_data",
          "data": {
            "image/png": "[encoded data removed]",
            "text/plain": [
              "<Figure size 432x288 with 1 Axes>"
            ]
          },
          "metadata": {
            "tags": [],
            "needs_background": "light"
          }
        }
      ]
    },
    {
      "cell_type": "code",
      "metadata": {
        "id": "KpyT0YfhG3Rw",
        "colab_type": "code",
        "colab": {}
      },
      "source": [
        "preds = model.predict(X_valid).reshape(-1)"
      ],
      "execution_count": 39,
      "outputs": []
    },
    {
      "cell_type": "code",
      "metadata": {
        "id": "XeXv_JYoG3NW",
        "colab_type": "code",
        "colab": {
          "base_uri": "https://localhost:8080/",
          "height": 173
        },
        "outputId": "529fdbc6-70d7-4c8c-84c1-82d9d1264d36"
      },
      "source": [
        "print(classification_report(y_valid, (preds > 0.5).astype(int)))"
      ],
      "execution_count": 40,
      "outputs": [
        {
          "output_type": "stream",
          "text": [
            "              precision    recall  f1-score   support\n",
            "\n",
            "           0       0.97      0.99      0.98     61365\n",
            "           1       0.70      0.47      0.56      3942\n",
            "\n",
            "    accuracy                           0.96     65307\n",
            "   macro avg       0.83      0.73      0.77     65307\n",
            "weighted avg       0.95      0.96      0.95     65307\n",
            "\n"
          ],
          "name": "stdout"
        }
      ]
    },
    {
      "cell_type": "markdown",
      "metadata": {
        "id": "ljMNctMTHjoT",
        "colab_type": "text"
      },
      "source": [
        "Если судить по графикам, то график последней модели выглядит лучше всех, по метрикам у нее тоже высокий результат. У модели с усредненными эмбеддингами метрики тоже довольно высокие. У модели с конкатенацией метрики получились чуть хуже."
      ]
    },
    {
      "cell_type": "markdown",
      "metadata": {
        "id": "-kIXxxo8JeUq",
        "colab_type": "text"
      },
      "source": [
        "# **Задание 2**"
      ]
    },
    {
      "cell_type": "code",
      "metadata": {
        "id": "ZMkxglh1Jh9k",
        "colab_type": "code",
        "colab": {}
      },
      "source": [
        "import gensim\n",
        "from gensim.models import FastText\n",
        "from gensim.models import Word2Vec"
      ],
      "execution_count": 41,
      "outputs": []
    },
    {
      "cell_type": "code",
      "metadata": {
        "id": "3cURuWjoKesd",
        "colab_type": "code",
        "colab": {}
      },
      "source": [
        "texts = quora.question_text.apply(preprocess).tolist()"
      ],
      "execution_count": 42,
      "outputs": []
    },
    {
      "cell_type": "code",
      "metadata": {
        "id": "F9NK-RzbKiJQ",
        "colab_type": "code",
        "colab": {}
      },
      "source": [
        "fasttext = FastText(texts, size=100, window=3, iter=2)\n",
        "w2v = Word2Vec(texts, size=100, window=3, iter=2)"
      ],
      "execution_count": 43,
      "outputs": []
    },
    {
      "cell_type": "code",
      "metadata": {
        "id": "1uInlPJwKjYZ",
        "colab_type": "code",
        "colab": {
          "base_uri": "https://localhost:8080/",
          "height": 72
        },
        "outputId": "5f7a749e-eba9-465c-9246-1fed63f2431f"
      },
      "source": [
        "w2v_weights = np.zeros((len(word2id), 100))\n",
        "\n",
        "for word, i in word2id.items():\n",
        "    if word == 'PAD':\n",
        "        continue\n",
        "    \n",
        "    if word == 'UNK':\n",
        "        continue\n",
        "            \n",
        "    try:\n",
        "        w2v_weights[i] = w2v[word] \n",
        "    \n",
        "    except KeyError:\n",
        "        continue"
      ],
      "execution_count": 45,
      "outputs": [
        {
          "output_type": "stream",
          "text": [
            "/usr/local/lib/python3.6/dist-packages/ipykernel_launcher.py:11: DeprecationWarning: Call to deprecated `__getitem__` (Method will be removed in 4.0.0, use self.wv.__getitem__() instead).\n",
            "  # This is added back by InteractiveShellApp.init_path()\n"
          ],
          "name": "stderr"
        }
      ]
    },
    {
      "cell_type": "code",
      "metadata": {
        "id": "dwaac9wWLMZz",
        "colab_type": "code",
        "colab": {
          "base_uri": "https://localhost:8080/",
          "height": 141
        },
        "outputId": "b0840e64-51c3-4df6-db9e-47ab72552b6f"
      },
      "source": [
        "ft_weights = np.zeros((len(word2id), 100))\n",
        "\n",
        "for word, i in word2id.items():\n",
        "    if word == 'PAD':\n",
        "        continue\n",
        "    \n",
        "    if word == 'UNK':\n",
        "        ft_weights[i] = fasttext['abswasfdaorra']\n",
        "    \n",
        "    try:\n",
        "        ft_weights[i] = fasttext[word]\n",
        "    \n",
        "    except KeyError:\n",
        "        ft_weights[i] = fasttext['asdfhkjdshfk']"
      ],
      "execution_count": 46,
      "outputs": [
        {
          "output_type": "stream",
          "text": [
            "/usr/local/lib/python3.6/dist-packages/ipykernel_launcher.py:8: DeprecationWarning: Call to deprecated `__getitem__` (Method will be removed in 4.0.0, use self.wv.__getitem__() instead).\n",
            "  \n",
            "/usr/local/lib/python3.6/dist-packages/ipykernel_launcher.py:11: DeprecationWarning: Call to deprecated `__getitem__` (Method will be removed in 4.0.0, use self.wv.__getitem__() instead).\n",
            "  # This is added back by InteractiveShellApp.init_path()\n",
            "/usr/local/lib/python3.6/dist-packages/ipykernel_launcher.py:14: DeprecationWarning: Call to deprecated `__getitem__` (Method will be removed in 4.0.0, use self.wv.__getitem__() instead).\n",
            "  \n"
          ],
          "name": "stderr"
        }
      ]
    },
    {
      "cell_type": "markdown",
      "metadata": {
        "id": "DV8SCmkJM4S3",
        "colab_type": "text"
      },
      "source": [
        "**Усреднение**"
      ]
    },
    {
      "cell_type": "code",
      "metadata": {
        "id": "sCCi6t3dLNOn",
        "colab_type": "code",
        "colab": {}
      },
      "source": [
        "inputs = tf.keras.layers.Input(shape=(MAX_LEN,))\n",
        "\n",
        "embeddings_ft = tf.keras.layers.Embedding(input_dim=len(word2id), output_dim=100, trainable=False, weights=[ft_weights])(inputs)\n",
        "embeddings_w2v = tf.keras.layers.Embedding(input_dim=len(word2id), output_dim=100, trainable=False, weights=[w2v_weights])(inputs)\n",
        "embeddings = tf.keras.layers.Average()([embeddings_ft, embeddings_w2v])\n",
        "\n",
        "mean = tf.keras.layers.Lambda(lambda x: tf.keras.backend.mean(x, axis=1))(embeddings)\n",
        "dense = tf.keras.layers.Dense(64, activation='relu')(mean)\n",
        "dense = tf.keras.layers.Dense(64, activation='relu')(mean)\n",
        "outputs = tf.keras.layers.Dense(1, activation='sigmoid')(dense)\n",
        "\n",
        "model1 = tf.keras.Model(inputs=inputs, outputs=outputs)\n",
        "optimizer = tf.keras.optimizers.Adam(learning_rate=0.0001)\n",
        "model1.compile(optimizer=optimizer,\n",
        "              loss='binary_crossentropy',\n",
        "              metrics=['accuracy'])"
      ],
      "execution_count": 48,
      "outputs": []
    },
    {
      "cell_type": "code",
      "metadata": {
        "id": "vb-LN_2gKGRE",
        "colab_type": "code",
        "colab": {
          "base_uri": "https://localhost:8080/",
          "height": 401
        },
        "outputId": "a5a7a1a0-dc5f-49d2-9550-2a30c683e02f"
      },
      "source": [
        "model1.fit(X_train, y_train, \n",
        "          validation_data=(X_valid, y_valid),\n",
        "          batch_size=512,\n",
        "         epochs=10)"
      ],
      "execution_count": 49,
      "outputs": [
        {
          "output_type": "stream",
          "text": [
            "Epoch 1/10\n",
            "2424/2424 [==============================] - 30s 12ms/step - loss: 0.2962 - accuracy: 0.9376 - val_loss: 0.1801 - val_accuracy: 0.9407\n",
            "Epoch 2/10\n",
            "2424/2424 [==============================] - 30s 12ms/step - loss: 0.1667 - accuracy: 0.9412 - val_loss: 0.1547 - val_accuracy: 0.9442\n",
            "Epoch 3/10\n",
            "2424/2424 [==============================] - 30s 12ms/step - loss: 0.1561 - accuracy: 0.9431 - val_loss: 0.1493 - val_accuracy: 0.9454\n",
            "Epoch 4/10\n",
            "2424/2424 [==============================] - 30s 12ms/step - loss: 0.1519 - accuracy: 0.9439 - val_loss: 0.1463 - val_accuracy: 0.9460\n",
            "Epoch 5/10\n",
            "2424/2424 [==============================] - 30s 12ms/step - loss: 0.1495 - accuracy: 0.9444 - val_loss: 0.1444 - val_accuracy: 0.9466\n",
            "Epoch 6/10\n",
            "2424/2424 [==============================] - 29s 12ms/step - loss: 0.1480 - accuracy: 0.9447 - val_loss: 0.1430 - val_accuracy: 0.9469\n",
            "Epoch 7/10\n",
            "2424/2424 [==============================] - 29s 12ms/step - loss: 0.1468 - accuracy: 0.9450 - val_loss: 0.1420 - val_accuracy: 0.9472\n",
            "Epoch 8/10\n",
            "2424/2424 [==============================] - 29s 12ms/step - loss: 0.1459 - accuracy: 0.9452 - val_loss: 0.1411 - val_accuracy: 0.9474\n",
            "Epoch 9/10\n",
            "2424/2424 [==============================] - 29s 12ms/step - loss: 0.1451 - accuracy: 0.9454 - val_loss: 0.1404 - val_accuracy: 0.9478\n",
            "Epoch 10/10\n",
            "2424/2424 [==============================] - 29s 12ms/step - loss: 0.1445 - accuracy: 0.9455 - val_loss: 0.1397 - val_accuracy: 0.9480\n"
          ],
          "name": "stdout"
        },
        {
          "output_type": "execute_result",
          "data": {
            "text/plain": [
              "<tensorflow.python.keras.callbacks.History at 0x7fd3d7322160>"
            ]
          },
          "metadata": {
            "tags": []
          },
          "execution_count": 49
        }
      ]
    },
    {
      "cell_type": "code",
      "metadata": {
        "id": "jv2CT-HXMlzT",
        "colab_type": "code",
        "colab": {
          "base_uri": "https://localhost:8080/",
          "height": 313
        },
        "outputId": "c00fb85e-fd12-46e0-c775-a95ad85bbddf"
      },
      "source": [
        "print(model1.history.history.keys())\n",
        "plt.plot(model1.history.history['accuracy'])\n",
        "plt.plot(model1.history.history['val_accuracy'])\n",
        "plt.title('model accuracy')\n",
        "plt.ylabel('accuracy')\n",
        "plt.xlabel('epoch')\n",
        "plt.legend(['train', 'val'], loc='upper left')\n",
        "plt.show()"
      ],
      "execution_count": 51,
      "outputs": [
        {
          "output_type": "stream",
          "text": [
            "dict_keys(['loss', 'accuracy', 'val_loss', 'val_accuracy'])\n"
          ],
          "name": "stdout"
        },
        {
          "output_type": "display_data",
          "data": {
            "image/png": "[encoded data removed]",
            "text/plain": [
              "<Figure size 432x288 with 1 Axes>"
            ]
          },
          "metadata": {
            "tags": [],
            "needs_background": "light"
          }
        }
      ]
    },
    {
      "cell_type": "code",
      "metadata": {
        "id": "9qJr2a9BMvUc",
        "colab_type": "code",
        "colab": {}
      },
      "source": [
        "preds = model1.predict(X_valid).reshape(-1)"
      ],
      "execution_count": 52,
      "outputs": []
    },
    {
      "cell_type": "code",
      "metadata": {
        "id": "2K1uQPkFMzdh",
        "colab_type": "code",
        "colab": {
          "base_uri": "https://localhost:8080/",
          "height": 173
        },
        "outputId": "c3cb4556-49fb-4680-d2a1-2c76b33b2239"
      },
      "source": [
        "print(classification_report(y_valid, (preds > 0.5).astype(int)))"
      ],
      "execution_count": 53,
      "outputs": [
        {
          "output_type": "stream",
          "text": [
            "              precision    recall  f1-score   support\n",
            "\n",
            "           0       0.95      0.99      0.97     61365\n",
            "           1       0.67      0.27      0.39      3942\n",
            "\n",
            "    accuracy                           0.95     65307\n",
            "   macro avg       0.81      0.63      0.68     65307\n",
            "weighted avg       0.94      0.95      0.94     65307\n",
            "\n"
          ],
          "name": "stdout"
        }
      ]
    },
    {
      "cell_type": "markdown",
      "metadata": {
        "id": "OdgLmfz8M97q",
        "colab_type": "text"
      },
      "source": [
        "**Конкатенация**"
      ]
    },
    {
      "cell_type": "code",
      "metadata": {
        "id": "DRVpKW6fNA4b",
        "colab_type": "code",
        "colab": {}
      },
      "source": [
        "inputs = tf.keras.layers.Input(shape=(MAX_LEN,))\n",
        "\n",
        "embeddings1 = tf.keras.layers.Embedding(input_dim=len(word2id), output_dim=100, trainable=False, weights=[w2v_weights])(inputs, )\n",
        "embeddings2 = tf.keras.layers.Embedding(input_dim=len(word2id), output_dim=100, trainable=False,weights=[ft_weights])(inputs, )\n",
        "embeddings = tf.keras.layers.Concatenate()([embeddings1, embeddings2])\n",
        "\n",
        "mean = tf.keras.layers.Flatten()(embeddings)\n",
        "dense = tf.keras.layers.Dense(64, activation='relu')(mean)\n",
        "dense = tf.keras.layers.Dense(64, activation='relu')(dense)\n",
        "outputs = tf.keras.layers.Dense(1, activation='sigmoid')(dense)\n",
        "\n",
        "model2 = tf.keras.Model(inputs=inputs, outputs=outputs)\n",
        "optimizer = tf.keras.optimizers.Adam(learning_rate=0.0001)\n",
        "model2.compile(optimizer=optimizer,\n",
        "              loss='binary_crossentropy',\n",
        "              metrics=['accuracy'])"
      ],
      "execution_count": 54,
      "outputs": []
    },
    {
      "cell_type": "code",
      "metadata": {
        "id": "gUv39XhGNhdq",
        "colab_type": "code",
        "colab": {
          "base_uri": "https://localhost:8080/",
          "height": 401
        },
        "outputId": "8877cd40-abc6-41cb-e077-58572e52f5c5"
      },
      "source": [
        "model2.fit(X_train, y_train, \n",
        "          validation_data=(X_valid, y_valid),\n",
        "          batch_size=512,\n",
        "         epochs=10)"
      ],
      "execution_count": 55,
      "outputs": [
        {
          "output_type": "stream",
          "text": [
            "Epoch 1/10\n",
            "2424/2424 [==============================] - 32s 13ms/step - loss: 0.1462 - accuracy: 0.9452 - val_loss: 0.1330 - val_accuracy: 0.9496\n",
            "Epoch 2/10\n",
            "2424/2424 [==============================] - 32s 13ms/step - loss: 0.1327 - accuracy: 0.9494 - val_loss: 0.1315 - val_accuracy: 0.9499\n",
            "Epoch 3/10\n",
            "2424/2424 [==============================] - 33s 13ms/step - loss: 0.1261 - accuracy: 0.9518 - val_loss: 0.1306 - val_accuracy: 0.9505\n",
            "Epoch 4/10\n",
            "2424/2424 [==============================] - 32s 13ms/step - loss: 0.1199 - accuracy: 0.9542 - val_loss: 0.1322 - val_accuracy: 0.9491\n",
            "Epoch 5/10\n",
            "2424/2424 [==============================] - 33s 13ms/step - loss: 0.1141 - accuracy: 0.9564 - val_loss: 0.1345 - val_accuracy: 0.9492\n",
            "Epoch 6/10\n",
            "2424/2424 [==============================] - 32s 13ms/step - loss: 0.1089 - accuracy: 0.9586 - val_loss: 0.1377 - val_accuracy: 0.9483\n",
            "Epoch 7/10\n",
            "2424/2424 [==============================] - 32s 13ms/step - loss: 0.1041 - accuracy: 0.9606 - val_loss: 0.1406 - val_accuracy: 0.9478\n",
            "Epoch 8/10\n",
            "2424/2424 [==============================] - 32s 13ms/step - loss: 0.0996 - accuracy: 0.9624 - val_loss: 0.1460 - val_accuracy: 0.9473\n",
            "Epoch 9/10\n",
            "2424/2424 [==============================] - 32s 13ms/step - loss: 0.0958 - accuracy: 0.9640 - val_loss: 0.1500 - val_accuracy: 0.9469\n",
            "Epoch 10/10\n",
            "2424/2424 [==============================] - 32s 13ms/step - loss: 0.0921 - accuracy: 0.9655 - val_loss: 0.1556 - val_accuracy: 0.9451\n"
          ],
          "name": "stdout"
        },
        {
          "output_type": "execute_result",
          "data": {
            "text/plain": [
              "<tensorflow.python.keras.callbacks.History at 0x7fd3d51ede10>"
            ]
          },
          "metadata": {
            "tags": []
          },
          "execution_count": 55
        }
      ]
    },
    {
      "cell_type": "code",
      "metadata": {
        "id": "Bx8gX13XPcnr",
        "colab_type": "code",
        "colab": {
          "base_uri": "https://localhost:8080/",
          "height": 313
        },
        "outputId": "3db2d497-b70d-42be-9d97-fc87bc476d6f"
      },
      "source": [
        "print(model2.history.history.keys())\n",
        "plt.plot(model2.history.history['accuracy'])\n",
        "plt.plot(model2.history.history['val_accuracy'])\n",
        "plt.title('model accuracy')\n",
        "plt.ylabel('accuracy')\n",
        "plt.xlabel('epoch')\n",
        "plt.legend(['train', 'val'], loc='upper left')\n",
        "plt.show()"
      ],
      "execution_count": 56,
      "outputs": [
        {
          "output_type": "stream",
          "text": [
            "dict_keys(['loss', 'accuracy', 'val_loss', 'val_accuracy'])\n"
          ],
          "name": "stdout"
        },
        {
          "output_type": "display_data",
          "data": {
            "image/png": "[encoded data removed]",
            "text/plain": [
              "<Figure size 432x288 with 1 Axes>"
            ]
          },
          "metadata": {
            "tags": [],
            "needs_background": "light"
          }
        }
      ]
    },
    {
      "cell_type": "code",
      "metadata": {
        "id": "lqRrSvO8QF2D",
        "colab_type": "code",
        "colab": {}
      },
      "source": [
        "preds = model2.predict(X_valid).reshape(-1)"
      ],
      "execution_count": 58,
      "outputs": []
    },
    {
      "cell_type": "code",
      "metadata": {
        "id": "AAUCaPs-Pip7",
        "colab_type": "code",
        "colab": {
          "base_uri": "https://localhost:8080/",
          "height": 173
        },
        "outputId": "169833eb-abb8-41c4-a59a-fa25bf54d752"
      },
      "source": [
        "print(classification_report(y_valid, (preds > 0.5).astype(int)))"
      ],
      "execution_count": 59,
      "outputs": [
        {
          "output_type": "stream",
          "text": [
            "              precision    recall  f1-score   support\n",
            "\n",
            "           0       0.97      0.98      0.97     61365\n",
            "           1       0.55      0.46      0.50      3942\n",
            "\n",
            "    accuracy                           0.95     65307\n",
            "   macro avg       0.76      0.72      0.74     65307\n",
            "weighted avg       0.94      0.95      0.94     65307\n",
            "\n"
          ],
          "name": "stdout"
        }
      ]
    },
    {
      "cell_type": "markdown",
      "metadata": {
        "id": "d4r3QWbhP2At",
        "colab_type": "text"
      },
      "source": [
        "Если судить по метрикам, модель с конкатенацией справляется лучше, чем с усреднением. "
      ]
    },
    {
      "cell_type": "markdown",
      "metadata": {
        "id": "vAjxWww6QjSr",
        "colab_type": "text"
      },
      "source": [
        "# **Эксперименты**"
      ]
    },
    {
      "cell_type": "markdown",
      "metadata": {
        "id": "aXyLSbI8R-E4",
        "colab_type": "text"
      },
      "source": [
        "**Поэкспериментируем сначала с различными активациями Dense**\n",
        "\n",
        "Возьмем последнюю модель с конкатенацией"
      ]
    },
    {
      "cell_type": "code",
      "metadata": {
        "id": "sLsVU2p5QWdL",
        "colab_type": "code",
        "colab": {}
      },
      "source": [
        "inputs = tf.keras.layers.Input(shape=(MAX_LEN,))\n",
        "\n",
        "embeddings1 = tf.keras.layers.Embedding(input_dim=len(word2id), output_dim=100, trainable=False, weights=[w2v_weights])(inputs, )\n",
        "embeddings2 = tf.keras.layers.Embedding(input_dim=len(word2id), output_dim=100, trainable=False,weights=[ft_weights])(inputs, )\n",
        "embeddings = tf.keras.layers.Concatenate()([embeddings1, embeddings2])\n",
        "\n",
        "mean = tf.keras.layers.Flatten()(embeddings)\n",
        "dense = tf.keras.layers.Dense(32, activation='softmax')(mean)\n",
        "dense = tf.keras.layers.Dense(64, activation='relu')(dense)\n",
        "dense = tf.keras.layers.Dense(64)(dense)\n",
        "outputs = tf.keras.layers.Dense(1, activation='sigmoid')(dense)\n",
        "\n",
        "exp_model = tf.keras.Model(inputs=inputs, outputs=outputs)\n",
        "optimizer = tf.keras.optimizers.Adam(learning_rate=0.0001)\n",
        "exp_model.compile(optimizer=optimizer,\n",
        "              loss='binary_crossentropy',\n",
        "              metrics=['accuracy'])"
      ],
      "execution_count": 62,
      "outputs": []
    },
    {
      "cell_type": "code",
      "metadata": {
        "id": "dGCPQ9meSM5n",
        "colab_type": "code",
        "colab": {
          "base_uri": "https://localhost:8080/",
          "height": 401
        },
        "outputId": "0df0fb1d-66ec-4de6-e2c5-8dc3b2d0a8a2"
      },
      "source": [
        "exp_model.fit(X_train, y_train, \n",
        "          validation_data=(X_valid, y_valid),\n",
        "          batch_size=512,\n",
        "         epochs=10)"
      ],
      "execution_count": 63,
      "outputs": [
        {
          "output_type": "stream",
          "text": [
            "Epoch 1/10\n",
            "2424/2424 [==============================] - 33s 14ms/step - loss: 0.1947 - accuracy: 0.9412 - val_loss: 0.1398 - val_accuracy: 0.9473\n",
            "Epoch 2/10\n",
            "2424/2424 [==============================] - 32s 13ms/step - loss: 0.1392 - accuracy: 0.9470 - val_loss: 0.1355 - val_accuracy: 0.9486\n",
            "Epoch 3/10\n",
            "2424/2424 [==============================] - 32s 13ms/step - loss: 0.1354 - accuracy: 0.9484 - val_loss: 0.1334 - val_accuracy: 0.9498\n",
            "Epoch 4/10\n",
            "2424/2424 [==============================] - 32s 13ms/step - loss: 0.1331 - accuracy: 0.9493 - val_loss: 0.1330 - val_accuracy: 0.9500\n",
            "Epoch 5/10\n",
            "2424/2424 [==============================] - 33s 13ms/step - loss: 0.1312 - accuracy: 0.9500 - val_loss: 0.1319 - val_accuracy: 0.9503\n",
            "Epoch 6/10\n",
            "2424/2424 [==============================] - 32s 13ms/step - loss: 0.1295 - accuracy: 0.9505 - val_loss: 0.1321 - val_accuracy: 0.9499\n",
            "Epoch 7/10\n",
            "2424/2424 [==============================] - 32s 13ms/step - loss: 0.1278 - accuracy: 0.9512 - val_loss: 0.1323 - val_accuracy: 0.9498\n",
            "Epoch 8/10\n",
            "2424/2424 [==============================] - 32s 13ms/step - loss: 0.1263 - accuracy: 0.9518 - val_loss: 0.1325 - val_accuracy: 0.9495\n",
            "Epoch 9/10\n",
            "2424/2424 [==============================] - 32s 13ms/step - loss: 0.1247 - accuracy: 0.9524 - val_loss: 0.1325 - val_accuracy: 0.9497\n",
            "Epoch 10/10\n",
            "2424/2424 [==============================] - 32s 13ms/step - loss: 0.1230 - accuracy: 0.9531 - val_loss: 0.1338 - val_accuracy: 0.9492\n"
          ],
          "name": "stdout"
        },
        {
          "output_type": "execute_result",
          "data": {
            "text/plain": [
              "<tensorflow.python.keras.callbacks.History at 0x7fd3d578b6d8>"
            ]
          },
          "metadata": {
            "tags": []
          },
          "execution_count": 63
        }
      ]
    },
    {
      "cell_type": "code",
      "metadata": {
        "id": "yEqVsLxvTrRe",
        "colab_type": "code",
        "colab": {
          "base_uri": "https://localhost:8080/",
          "height": 313
        },
        "outputId": "b659e1b7-83a3-4db9-a629-cb4c545f27c0"
      },
      "source": [
        "print(exp_model.history.history.keys())\n",
        "plt.plot(exp_model.history.history['accuracy'])\n",
        "plt.plot(exp_model.history.history['val_accuracy'])\n",
        "plt.title('model accuracy')\n",
        "plt.ylabel('accuracy')\n",
        "plt.xlabel('epoch')\n",
        "plt.legend(['train', 'val'], loc='upper left')\n",
        "plt.show()"
      ],
      "execution_count": 65,
      "outputs": [
        {
          "output_type": "stream",
          "text": [
            "dict_keys(['loss', 'accuracy', 'val_loss', 'val_accuracy'])\n"
          ],
          "name": "stdout"
        },
        {
          "output_type": "display_data",
          "data": {
            "image/png": "[encoded data removed]",
            "text/plain": [
              "<Figure size 432x288 with 1 Axes>"
            ]
          },
          "metadata": {
            "tags": [],
            "needs_background": "light"
          }
        }
      ]
    },
    {
      "cell_type": "code",
      "metadata": {
        "id": "39reznDeT2rO",
        "colab_type": "code",
        "colab": {}
      },
      "source": [
        "preds = exp_model.predict(X_valid).reshape(-1)"
      ],
      "execution_count": 66,
      "outputs": []
    },
    {
      "cell_type": "code",
      "metadata": {
        "id": "D5yD7j0TT_0x",
        "colab_type": "code",
        "colab": {
          "base_uri": "https://localhost:8080/",
          "height": 173
        },
        "outputId": "cdf6cc7c-9885-4ab5-8b70-f66e9744ae17"
      },
      "source": [
        "print(classification_report(y_valid, (preds > 0.5).astype(int)))"
      ],
      "execution_count": 67,
      "outputs": [
        {
          "output_type": "stream",
          "text": [
            "              precision    recall  f1-score   support\n",
            "\n",
            "           0       0.96      0.98      0.97     61365\n",
            "           1       0.61      0.43      0.51      3942\n",
            "\n",
            "    accuracy                           0.95     65307\n",
            "   macro avg       0.79      0.71      0.74     65307\n",
            "weighted avg       0.94      0.95      0.95     65307\n",
            "\n"
          ],
          "name": "stdout"
        }
      ]
    },
    {
      "cell_type": "markdown",
      "metadata": {
        "id": "lhNYfwx2UalW",
        "colab_type": "text"
      },
      "source": [
        "Метрики по сравнению с моделью с одинаковой активацией dense слоев не сильно изменились, но и не стали хуже. График стал выглядеть лучше: валидация не так сильно падает."
      ]
    },
    {
      "cell_type": "markdown",
      "metadata": {
        "id": "4VyjD6f3UuO6",
        "colab_type": "text"
      },
      "source": [
        "**Теперь попробуем поэкспериментировать с параметрами эмбеддингов**\n",
        "\n",
        "Возьмем предыдущую модель, сделаем mask_zero= True, а также добавим embeddings_regularizer"
      ]
    },
    {
      "cell_type": "code",
      "metadata": {
        "id": "HpSaC8JzU3gq",
        "colab_type": "code",
        "colab": {}
      },
      "source": [
        "inputs = tf.keras.layers.Input(shape=(MAX_LEN,))\n",
        "\n",
        "embeddings1 = tf.keras.layers.Embedding(input_dim=len(word2id), mask_zero=True, \n",
        "                                        embeddings_regularizer=tf.keras.regularizers.l1_l2(l1=0.02, l2=0.02),\n",
        "                                        output_dim=100, trainable=False, weights=[w2v_weights])(inputs, )\n",
        "embeddings2 = tf.keras.layers.Embedding(input_dim=len(word2id), mask_zero= True,\n",
        "                                        embeddings_regularizer=tf.keras.regularizers.l1_l2(l1=0.02, l2=0.02),\n",
        "                                        output_dim=100, trainable=False,weights=[ft_weights])(inputs, )\n",
        "embeddings = tf.keras.layers.Concatenate()([embeddings1, embeddings2])\n",
        "\n",
        "mean = tf.keras.layers.Flatten()(embeddings)\n",
        "dense = tf.keras.layers.Dense(64, activation='softmax')(mean)\n",
        "dense = tf.keras.layers.Dense(64, activation='relu')(dense)\n",
        "dense = tf.keras.layers.Dense(64)(dense)\n",
        "outputs = tf.keras.layers.Dense(1, activation='sigmoid')(dense)\n",
        "\n",
        "exp_model1 = tf.keras.Model(inputs=inputs, outputs=outputs)\n",
        "optimizer = tf.keras.optimizers.Adam(learning_rate=0.0001)\n",
        "exp_model1.compile(optimizer=optimizer,\n",
        "              loss='binary_crossentropy',\n",
        "              metrics=['accuracy'])"
      ],
      "execution_count": 83,
      "outputs": []
    },
    {
      "cell_type": "code",
      "metadata": {
        "id": "AnT18u4mXNg9",
        "colab_type": "code",
        "colab": {
          "base_uri": "https://localhost:8080/",
          "height": 401
        },
        "outputId": "e868eefc-fa7e-4979-a556-6515eb3c3d8c"
      },
      "source": [
        "exp_model1.fit(X_train, y_train, \n",
        "          validation_data=(X_valid, y_valid),\n",
        "          batch_size=512,\n",
        "         epochs=10)"
      ],
      "execution_count": 84,
      "outputs": [
        {
          "output_type": "stream",
          "text": [
            "Epoch 1/10\n",
            "2424/2424 [==============================] - 58s 24ms/step - loss: 52165.9023 - accuracy: 0.9407 - val_loss: 52164.0312 - val_accuracy: 0.9468\n",
            "Epoch 2/10\n",
            "2424/2424 [==============================] - 57s 23ms/step - loss: 52165.8789 - accuracy: 0.9464 - val_loss: 52164.0312 - val_accuracy: 0.9480\n",
            "Epoch 3/10\n",
            "2424/2424 [==============================] - 57s 23ms/step - loss: 52165.8789 - accuracy: 0.9478 - val_loss: 52164.0312 - val_accuracy: 0.9492\n",
            "Epoch 4/10\n",
            "2424/2424 [==============================] - 57s 23ms/step - loss: 52165.8789 - accuracy: 0.9485 - val_loss: 52164.0273 - val_accuracy: 0.9491\n",
            "Epoch 5/10\n",
            "2424/2424 [==============================] - 57s 24ms/step - loss: 52165.8789 - accuracy: 0.9492 - val_loss: 52164.0234 - val_accuracy: 0.9497\n",
            "Epoch 6/10\n",
            "2424/2424 [==============================] - 57s 24ms/step - loss: 52165.8789 - accuracy: 0.9499 - val_loss: 52164.0273 - val_accuracy: 0.9500\n",
            "Epoch 7/10\n",
            "2424/2424 [==============================] - 57s 24ms/step - loss: 52165.8789 - accuracy: 0.9504 - val_loss: 52164.0273 - val_accuracy: 0.9492\n",
            "Epoch 8/10\n",
            "2424/2424 [==============================] - 58s 24ms/step - loss: 52165.8789 - accuracy: 0.9510 - val_loss: 52164.0273 - val_accuracy: 0.9495\n",
            "Epoch 9/10\n",
            "2424/2424 [==============================] - 58s 24ms/step - loss: 52165.8750 - accuracy: 0.9518 - val_loss: 52164.0273 - val_accuracy: 0.9486\n",
            "Epoch 10/10\n",
            "2424/2424 [==============================] - 56s 23ms/step - loss: 52165.8789 - accuracy: 0.9526 - val_loss: 52164.0273 - val_accuracy: 0.9493\n"
          ],
          "name": "stdout"
        },
        {
          "output_type": "execute_result",
          "data": {
            "text/plain": [
              "<tensorflow.python.keras.callbacks.History at 0x7fd3c43858d0>"
            ]
          },
          "metadata": {
            "tags": []
          },
          "execution_count": 84
        }
      ]
    },
    {
      "cell_type": "code",
      "metadata": {
        "id": "LKccwunbaGC3",
        "colab_type": "code",
        "colab": {
          "base_uri": "https://localhost:8080/",
          "height": 313
        },
        "outputId": "65148b9e-a17b-4012-80e2-631542b70a88"
      },
      "source": [
        "print(exp_model1.history.history.keys())\n",
        "plt.plot(exp_model1.history.history['accuracy'])\n",
        "plt.plot(exp_model1.history.history['val_accuracy'])\n",
        "plt.title('model accuracy')\n",
        "plt.ylabel('accuracy')\n",
        "plt.xlabel('epoch')\n",
        "plt.legend(['train', 'val'], loc='upper left')\n",
        "plt.show()"
      ],
      "execution_count": 73,
      "outputs": [
        {
          "output_type": "stream",
          "text": [
            "dict_keys(['loss', 'accuracy', 'val_loss', 'val_accuracy'])\n"
          ],
          "name": "stdout"
        },
        {
          "output_type": "display_data",
          "data": {
            "image/png": "[encoded data removed]",
            "text/plain": [
              "<Figure size 432x288 with 1 Axes>"
            ]
          },
          "metadata": {
            "tags": [],
            "needs_background": "light"
          }
        }
      ]
    },
    {
      "cell_type": "code",
      "metadata": {
        "id": "ukaN6pPXar-j",
        "colab_type": "code",
        "colab": {}
      },
      "source": [
        "preds = exp_model1.predict(X_valid).reshape(-1)"
      ],
      "execution_count": 75,
      "outputs": []
    },
    {
      "cell_type": "code",
      "metadata": {
        "id": "SaMFJE8Rasm3",
        "colab_type": "code",
        "colab": {
          "base_uri": "https://localhost:8080/",
          "height": 173
        },
        "outputId": "81815e61-f52f-4fcc-d5a7-19260149a869"
      },
      "source": [
        "print(classification_report(y_valid, (preds > 0.5).astype(int)))"
      ],
      "execution_count": 76,
      "outputs": [
        {
          "output_type": "stream",
          "text": [
            "              precision    recall  f1-score   support\n",
            "\n",
            "           0       0.96      0.98      0.97     61365\n",
            "           1       0.62      0.39      0.48      3942\n",
            "\n",
            "    accuracy                           0.95     65307\n",
            "   macro avg       0.79      0.69      0.73     65307\n",
            "weighted avg       0.94      0.95      0.94     65307\n",
            "\n"
          ],
          "name": "stdout"
        }
      ]
    },
    {
      "cell_type": "markdown",
      "metadata": {
        "id": "iR8W_vyleb0d",
        "colab_type": "text"
      },
      "source": [
        "Метрики получились примерно такие же, как и у предыдущей модели без дополнительных параметров. "
      ]
    }
  ]
}