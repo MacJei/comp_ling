{
  "nbformat": 4,
  "nbformat_minor": 0,
  "metadata": {
    "colab": {
      "name": "Exam.ipynb",
      "provenance": [],
      "toc_visible": true,
      "authorship_tag": "ABX9TyN3Vbn5lWZIfLJBNIQ6RoHR",
      "include_colab_link": true
    },
    "kernelspec": {
      "name": "python3",
      "display_name": "Python 3"
    }
  },
  "cells": [
    {
      "cell_type": "markdown",
      "metadata": {
        "id": "view-in-github",
        "colab_type": "text"
      },
      "source": [
        "<a href=\"https://colab.research.google.com/github/lnpetrova/comp_ling/blob/master/ML_Exam.ipynb\" target=\"_parent\"><img src=\"https://colab.research.google.com/assets/colab-badge.svg\" alt=\"Open In Colab\"/></a>"
      ]
    },
    {
      "cell_type": "markdown",
      "metadata": {
        "id": "oDI2jynt75jy",
        "colab_type": "text"
      },
      "source": [
        "# **Импорты**"
      ]
    },
    {
      "cell_type": "code",
      "metadata": {
        "id": "sVTT2fe0vYKR",
        "colab_type": "code",
        "colab": {}
      },
      "source": [
        "import pandas as pd"
      ],
      "execution_count": 105,
      "outputs": []
    },
    {
      "cell_type": "code",
      "metadata": {
        "id": "2rwkAlIoItfH",
        "colab_type": "code",
        "colab": {
          "base_uri": "https://localhost:8080/",
          "height": 52
        },
        "outputId": "484c24fc-8b2a-4c0e-eb3f-f349bca1a04b"
      },
      "source": [
        "import string\n",
        "from string import punctuation\n",
        "import nltk\n",
        "nltk.download('stopwords')\n",
        "from nltk.corpus import stopwords"
      ],
      "execution_count": 4,
      "outputs": [
        {
          "output_type": "stream",
          "text": [
            "[nltk_data] Downloading package stopwords to /root/nltk_data...\n",
            "[nltk_data]   Unzipping corpora/stopwords.zip.\n"
          ],
          "name": "stdout"
        }
      ]
    },
    {
      "cell_type": "code",
      "metadata": {
        "id": "ZmFRA3RtTHcV",
        "colab_type": "code",
        "colab": {
          "base_uri": "https://localhost:8080/",
          "height": 72
        },
        "outputId": "29c6e789-91e7-418e-8b05-7a1da28e7ae0"
      },
      "source": [
        "import seaborn as sns"
      ],
      "execution_count": 197,
      "outputs": [
        {
          "output_type": "stream",
          "text": [
            "/usr/local/lib/python3.6/dist-packages/statsmodels/tools/_testing.py:19: FutureWarning: pandas.util.testing is deprecated. Use the functions in the public API at pandas.testing instead.\n",
            "  import pandas.util.testing as tm\n"
          ],
          "name": "stderr"
        }
      ]
    },
    {
      "cell_type": "markdown",
      "metadata": {
        "id": "_rtr5c3s7-fn",
        "colab_type": "text"
      },
      "source": [
        "# **Данные**"
      ]
    },
    {
      "cell_type": "code",
      "metadata": {
        "id": "xp645dP5zHiA",
        "colab_type": "code",
        "colab": {
          "base_uri": "https://localhost:8080/",
          "height": 453
        },
        "outputId": "568f8a4b-6df6-4dbb-845c-8fb4190eeff8"
      },
      "source": [
        "!wget https://www.dropbox.com/s/uyi7klg0rqt6h9c/validation.csv.zip?dl=0"
      ],
      "execution_count": 107,
      "outputs": [
        {
          "output_type": "stream",
          "text": [
            "--2020-06-26 08:38:56--  https://www.dropbox.com/s/uyi7klg0rqt6h9c/validation.csv.zip?dl=0\n",
            "Resolving www.dropbox.com (www.dropbox.com)... 162.125.1.1, 2620:100:6016:1::a27d:101\n",
            "Connecting to www.dropbox.com (www.dropbox.com)|162.125.1.1|:443... connected.\n",
            "HTTP request sent, awaiting response... 301 Moved Permanently\n",
            "Location: /s/raw/uyi7klg0rqt6h9c/validation.csv.zip [following]\n",
            "--2020-06-26 08:38:56--  https://www.dropbox.com/s/raw/uyi7klg0rqt6h9c/validation.csv.zip\n",
            "Reusing existing connection to www.dropbox.com:443.\n",
            "HTTP request sent, awaiting response... 302 Found\n",
            "Location: https://uceee5634e9d2253001f152fc8ed.dl.dropboxusercontent.com/cd/0/inline/A6U5n8b5JEcN8cw24004FlHvn3ULA9s1hJNBOInhPBDAJECbkmaUhPrPOA8DucwQ-XfyrS3sgjTFChcEyr__1zdfU9rtybphW5eAf2D6NdYX5v1zuFw-QSowILX000rRwG0/file# [following]\n",
            "--2020-06-26 08:38:56--  https://uceee5634e9d2253001f152fc8ed.dl.dropboxusercontent.com/cd/0/inline/A6U5n8b5JEcN8cw24004FlHvn3ULA9s1hJNBOInhPBDAJECbkmaUhPrPOA8DucwQ-XfyrS3sgjTFChcEyr__1zdfU9rtybphW5eAf2D6NdYX5v1zuFw-QSowILX000rRwG0/file\n",
            "Resolving uceee5634e9d2253001f152fc8ed.dl.dropboxusercontent.com (uceee5634e9d2253001f152fc8ed.dl.dropboxusercontent.com)... 162.125.1.15, 2620:100:6016:15::a27d:10f\n",
            "Connecting to uceee5634e9d2253001f152fc8ed.dl.dropboxusercontent.com (uceee5634e9d2253001f152fc8ed.dl.dropboxusercontent.com)|162.125.1.15|:443... connected.\n",
            "HTTP request sent, awaiting response... 302 Found\n",
            "Location: /cd/0/inline2/A6Vzlhk_aEg4LU6H2nZeczBCHwz4sTUIFXAGNMv-bM2jNsA6gX1g1ezlHWfHHa_dT6zKTNn-4Q12g5Y_aMIEWjOLMYNCd90PnnaDvj8TijT4DuWcPb2Sv7Eg_UzkaV3IGGmCHKQFi5lnQ2PXYzD-TsbLIvL9vQwuHwSzqK0QDH163YMGJ5MNOKinZZqBUgsIiKpz5Cdjc9B-v9K-G5xhlYPmDxxgc0pIadw2jSv3vhKqykorIaT5dEksQ7qZVGFZyQ-dw62-1Kn0kj6og2mnTjxvH0yl-nruvttWnd6NztA6D_OE69dPiFdIGCwfAkTRxryo2YNbr_cOb5fD7DTtnhnXe6L8l5L06qHX7cm5YmVQgQ/file [following]\n",
            "--2020-06-26 08:38:57--  https://uceee5634e9d2253001f152fc8ed.dl.dropboxusercontent.com/cd/0/inline2/A6Vzlhk_aEg4LU6H2nZeczBCHwz4sTUIFXAGNMv-bM2jNsA6gX1g1ezlHWfHHa_dT6zKTNn-4Q12g5Y_aMIEWjOLMYNCd90PnnaDvj8TijT4DuWcPb2Sv7Eg_UzkaV3IGGmCHKQFi5lnQ2PXYzD-TsbLIvL9vQwuHwSzqK0QDH163YMGJ5MNOKinZZqBUgsIiKpz5Cdjc9B-v9K-G5xhlYPmDxxgc0pIadw2jSv3vhKqykorIaT5dEksQ7qZVGFZyQ-dw62-1Kn0kj6og2mnTjxvH0yl-nruvttWnd6NztA6D_OE69dPiFdIGCwfAkTRxryo2YNbr_cOb5fD7DTtnhnXe6L8l5L06qHX7cm5YmVQgQ/file\n",
            "Reusing existing connection to uceee5634e9d2253001f152fc8ed.dl.dropboxusercontent.com:443.\n",
            "HTTP request sent, awaiting response... 200 OK\n",
            "Length: 1414661 (1.3M) [application/zip]\n",
            "Saving to: ‘validation.csv.zip?dl=0’\n",
            "\n",
            "\rvalidation.csv.zip?   0%[                    ]       0  --.-KB/s               \rvalidation.csv.zip? 100%[===================>]   1.35M  --.-KB/s    in 0.1s    \n",
            "\n",
            "2020-06-26 08:38:57 (11.6 MB/s) - ‘validation.csv.zip?dl=0’ saved [1414661/1414661]\n",
            "\n"
          ],
          "name": "stdout"
        }
      ]
    },
    {
      "cell_type": "code",
      "metadata": {
        "id": "1nyJxjyJzdjp",
        "colab_type": "code",
        "colab": {
          "base_uri": "https://localhost:8080/",
          "height": 453
        },
        "outputId": "6969d5d7-165e-46cc-c754-8ba8290ef00c"
      },
      "source": [
        "!wget https://www.dropbox.com/s/3tgmzibn8t95ua2/jigsaw-toxic-comment-train.csv.zip?dl=0"
      ],
      "execution_count": 108,
      "outputs": [
        {
          "output_type": "stream",
          "text": [
            "--2020-06-26 08:39:02--  https://www.dropbox.com/s/3tgmzibn8t95ua2/jigsaw-toxic-comment-train.csv.zip?dl=0\n",
            "Resolving www.dropbox.com (www.dropbox.com)... 162.125.1.1, 2620:100:6016:1::a27d:101\n",
            "Connecting to www.dropbox.com (www.dropbox.com)|162.125.1.1|:443... connected.\n",
            "HTTP request sent, awaiting response... 301 Moved Permanently\n",
            "Location: /s/raw/3tgmzibn8t95ua2/jigsaw-toxic-comment-train.csv.zip [following]\n",
            "--2020-06-26 08:39:02--  https://www.dropbox.com/s/raw/3tgmzibn8t95ua2/jigsaw-toxic-comment-train.csv.zip\n",
            "Reusing existing connection to www.dropbox.com:443.\n",
            "HTTP request sent, awaiting response... 302 Found\n",
            "Location: https://uc8522a2c940d93d14ae2ec66c62.dl.dropboxusercontent.com/cd/0/inline/A6W_VyITF9zoIcsrTAAwcDuQ-Iw0bF3-AwAvQP4FOHzPAq1SAvXULMLtuheEm5jbMmgyxJfUnWzvPC6LHfpuKRJ-rwM19cee_ujCm-_NrWCxdb90sYqNEI_sXLIyB_lHEBM/file# [following]\n",
            "--2020-06-26 08:39:03--  https://uc8522a2c940d93d14ae2ec66c62.dl.dropboxusercontent.com/cd/0/inline/A6W_VyITF9zoIcsrTAAwcDuQ-Iw0bF3-AwAvQP4FOHzPAq1SAvXULMLtuheEm5jbMmgyxJfUnWzvPC6LHfpuKRJ-rwM19cee_ujCm-_NrWCxdb90sYqNEI_sXLIyB_lHEBM/file\n",
            "Resolving uc8522a2c940d93d14ae2ec66c62.dl.dropboxusercontent.com (uc8522a2c940d93d14ae2ec66c62.dl.dropboxusercontent.com)... 162.125.1.15, 2620:100:6016:15::a27d:10f\n",
            "Connecting to uc8522a2c940d93d14ae2ec66c62.dl.dropboxusercontent.com (uc8522a2c940d93d14ae2ec66c62.dl.dropboxusercontent.com)|162.125.1.15|:443... connected.\n",
            "HTTP request sent, awaiting response... 302 Found\n",
            "Location: /cd/0/inline2/A6VN0IoSTPMle2esQxXilhvWCpX93GbPfywbK8Kv3WsmqLrCdENGwG6DKci2ChtpjNcvZ6dy5qYLcFM7ElF1NHKODd-uW02qrM0nuAR3IP2IlVDFB5vd0ueY1EiyZ_nwtHGJJFR6bkvHzODyS28fat3uWXBURMIgdhBUHCQsiGwLWqXIdImMq5oW3_IbObVA_ya99NiQrTTSuRHEbZgFEU0TLkAft-RgzXUFZvEQylGUJeaAkjesTjyf0j2QpxrxDfdSXtq_S5z0Corpl_EsylafcgzlZfiqzHHiEM-cy4bpGacNxxkDRNjUeXInJDcan9qESkzJUUNLryK33I0PezQlsmYT28nDBlJbwiE9lDAyFg/file [following]\n",
            "--2020-06-26 08:39:03--  https://uc8522a2c940d93d14ae2ec66c62.dl.dropboxusercontent.com/cd/0/inline2/A6VN0IoSTPMle2esQxXilhvWCpX93GbPfywbK8Kv3WsmqLrCdENGwG6DKci2ChtpjNcvZ6dy5qYLcFM7ElF1NHKODd-uW02qrM0nuAR3IP2IlVDFB5vd0ueY1EiyZ_nwtHGJJFR6bkvHzODyS28fat3uWXBURMIgdhBUHCQsiGwLWqXIdImMq5oW3_IbObVA_ya99NiQrTTSuRHEbZgFEU0TLkAft-RgzXUFZvEQylGUJeaAkjesTjyf0j2QpxrxDfdSXtq_S5z0Corpl_EsylafcgzlZfiqzHHiEM-cy4bpGacNxxkDRNjUeXInJDcan9qESkzJUUNLryK33I0PezQlsmYT28nDBlJbwiE9lDAyFg/file\n",
            "Reusing existing connection to uc8522a2c940d93d14ae2ec66c62.dl.dropboxusercontent.com:443.\n",
            "HTTP request sent, awaiting response... 200 OK\n",
            "Length: 39078413 (37M) [application/zip]\n",
            "Saving to: ‘jigsaw-toxic-comment-train.csv.zip?dl=0’\n",
            "\n",
            "jigsaw-toxic-commen 100%[===================>]  37.27M  53.2MB/s    in 0.7s    \n",
            "\n",
            "2020-06-26 08:39:04 (53.2 MB/s) - ‘jigsaw-toxic-comment-train.csv.zip?dl=0’ saved [39078413/39078413]\n",
            "\n"
          ],
          "name": "stdout"
        }
      ]
    },
    {
      "cell_type": "code",
      "metadata": {
        "id": "b6j8WT6wvORf",
        "colab_type": "code",
        "colab": {
          "base_uri": "https://localhost:8080/",
          "height": 141
        },
        "outputId": "d44ecbae-c0c6-43e6-b504-18b9d4be7fc9"
      },
      "source": [
        "!unzip jigsaw-unintended-bias-train.csv.zip?dl=0\n",
        "!unzip test.csv.zip?dl=0"
      ],
      "execution_count": 109,
      "outputs": [
        {
          "output_type": "stream",
          "text": [
            "unzip:  cannot find or open jigsaw-unintended-bias-train.csv.zip?dl=0, jigsaw-unintended-bias-train.csv.zip?dl=0.zip or jigsaw-unintended-bias-train.csv.zip?dl=0.ZIP.\n",
            "\n",
            "No zipfiles found.\n",
            "unzip:  cannot find or open test.csv.zip?dl=0, test.csv.zip?dl=0.zip or test.csv.zip?dl=0.ZIP.\n",
            "\n",
            "No zipfiles found.\n"
          ],
          "name": "stdout"
        }
      ]
    },
    {
      "cell_type": "code",
      "metadata": {
        "id": "QxXd9bDmzT-u",
        "colab_type": "code",
        "colab": {
          "base_uri": "https://localhost:8080/",
          "height": 87
        },
        "outputId": "9cec4827-9a90-42c1-8c53-b5de439f8d12"
      },
      "source": [
        "!unzip validation.csv.zip?dl=0\n",
        "!unzip jigsaw-toxic-comment-train.csv.zip?dl=0"
      ],
      "execution_count": 110,
      "outputs": [
        {
          "output_type": "stream",
          "text": [
            "Archive:  validation.csv.zip?dl=0\n",
            "  inflating: validation.csv          \n",
            "Archive:  jigsaw-toxic-comment-train.csv.zip?dl=0\n",
            "  inflating: jigsaw-toxic-comment-train.csv  \n"
          ],
          "name": "stdout"
        }
      ]
    },
    {
      "cell_type": "markdown",
      "metadata": {
        "id": "wmTVifK49zZi",
        "colab_type": "text"
      },
      "source": [
        "# **Строка 1**"
      ]
    },
    {
      "cell_type": "markdown",
      "metadata": {
        "id": "i0JyJDYC-4CP",
        "colab_type": "text"
      },
      "source": [
        "\n",
        "Анализ всех дополнительных колонок тональности (как проявляется тот или иной тип токсичности, как в данных это представлено, какие есть пограничные случаи) - 2.5 балла\n",
        "\n"
      ]
    },
    {
      "cell_type": "code",
      "metadata": {
        "id": "J1g5S3MVgV4T",
        "colab_type": "code",
        "colab": {
          "base_uri": "https://localhost:8080/",
          "height": 52
        },
        "outputId": "71638b4c-d57e-49b7-dfa2-27d16ca82698"
      },
      "source": [
        "from nltk.tokenize import word_tokenize, sent_tokenize\n",
        "from nltk.corpus import stopwords\n",
        "from string import punctuation\n",
        "import nltk\n",
        "nltk.download('punkt')\n",
        "import json, os\n",
        "from collections import Counter\n",
        "import numpy as np\n",
        "import re\n",
        "from matplotlib import pyplot as plt\n",
        "%matplotlib inline\n"
      ],
      "execution_count": 114,
      "outputs": [
        {
          "output_type": "stream",
          "text": [
            "[nltk_data] Downloading package punkt to /root/nltk_data...\n",
            "[nltk_data]   Package punkt is already up-to-date!\n"
          ],
          "name": "stdout"
        }
      ]
    },
    {
      "cell_type": "code",
      "metadata": {
        "id": "80bMgx-e0pq5",
        "colab_type": "code",
        "colab": {}
      },
      "source": [
        "toxic_data = pd.read_csv('jigsaw-toxic-comment-train.csv')"
      ],
      "execution_count": 111,
      "outputs": []
    },
    {
      "cell_type": "code",
      "metadata": {
        "id": "aR1bd4_bDtjk",
        "colab_type": "code",
        "colab": {}
      },
      "source": [
        "sample = toxic_data.sample(frac=0.2, replace=True, random_state=1)"
      ],
      "execution_count": 112,
      "outputs": []
    },
    {
      "cell_type": "markdown",
      "metadata": {
        "id": "PS7Dqr3jecj9",
        "colab_type": "text"
      },
      "source": [
        "Нормализуем данные"
      ]
    },
    {
      "cell_type": "code",
      "metadata": {
        "id": "DtD2-hqtIonO",
        "colab_type": "code",
        "colab": {}
      },
      "source": [
        "def normalize(text):\n",
        "\n",
        "  text = re.sub(\"\\n|\\t|\\s\\\"\", \" \", text)\n",
        "  for c in string.punctuation:\n",
        "    text = text.replace(c, f' {c} ')\n",
        "   \n",
        "  return text"
      ],
      "execution_count": 115,
      "outputs": []
    },
    {
      "cell_type": "code",
      "metadata": {
        "id": "upRhQXVuI6TM",
        "colab_type": "code",
        "colab": {}
      },
      "source": [
        "sample['normalized'] = sample['comment_text'].apply(lambda x: normalize(x))"
      ],
      "execution_count": 116,
      "outputs": []
    },
    {
      "cell_type": "code",
      "metadata": {
        "id": "G740E2fBKCG3",
        "colab_type": "code",
        "colab": {
          "base_uri": "https://localhost:8080/",
          "height": 482
        },
        "outputId": "d5c6241e-0389-45e0-8c08-e110f78ea524"
      },
      "source": [
        "sample.head(5)"
      ],
      "execution_count": 195,
      "outputs": [
        {
          "output_type": "execute_result",
          "data": {
            "text/html": [
              "<div>\n",
              "<style scoped>\n",
              "    .dataframe tbody tr th:only-of-type {\n",
              "        vertical-align: middle;\n",
              "    }\n",
              "\n",
              "    .dataframe tbody tr th {\n",
              "        vertical-align: top;\n",
              "    }\n",
              "\n",
              "    .dataframe thead th {\n",
              "        text-align: right;\n",
              "    }\n",
              "</style>\n",
              "<table border=\"1\" class=\"dataframe\">\n",
              "  <thead>\n",
              "    <tr style=\"text-align: right;\">\n",
              "      <th></th>\n",
              "      <th>id</th>\n",
              "      <th>comment_text</th>\n",
              "      <th>toxic</th>\n",
              "      <th>severe_toxic</th>\n",
              "      <th>obscene</th>\n",
              "      <th>threat</th>\n",
              "      <th>insult</th>\n",
              "      <th>identity_hate</th>\n",
              "      <th>normalized</th>\n",
              "    </tr>\n",
              "  </thead>\n",
              "  <tbody>\n",
              "    <tr>\n",
              "      <th>128037</th>\n",
              "      <td>acd47a6c06c4d1f8</td>\n",
              "      <td>Fuck Wikipedia!!! \\n\\nPeace (except to Wikipedia)</td>\n",
              "      <td>1</td>\n",
              "      <td>1</td>\n",
              "      <td>1</td>\n",
              "      <td>0</td>\n",
              "      <td>0</td>\n",
              "      <td>0</td>\n",
              "      <td>Fuck Wikipedia !  !  !    Peace  ( except to W...</td>\n",
              "    </tr>\n",
              "    <tr>\n",
              "      <th>208780</th>\n",
              "      <td>c40dc2b2890a95ab</td>\n",
              "      <td>::That is discussion among experts. 1965 war m...</td>\n",
              "      <td>0</td>\n",
              "      <td>0</td>\n",
              "      <td>0</td>\n",
              "      <td>0</td>\n",
              "      <td>0</td>\n",
              "      <td>0</td>\n",
              "      <td>:  : That is discussion among experts .  1965...</td>\n",
              "    </tr>\n",
              "    <tr>\n",
              "      <th>5192</th>\n",
              "      <td>0dd47ea93d47e518</td>\n",
              "      <td>Re-adding anti-barnstar\\n Anti-Barnstar</td>\n",
              "      <td>0</td>\n",
              "      <td>0</td>\n",
              "      <td>0</td>\n",
              "      <td>0</td>\n",
              "      <td>0</td>\n",
              "      <td>0</td>\n",
              "      <td>Re - adding anti - barnstar  Anti - Barnstar</td>\n",
              "    </tr>\n",
              "    <tr>\n",
              "      <th>50057</th>\n",
              "      <td>85c6afcc7c206a1a</td>\n",
              "      <td>\"\\nCopying to talk page. serenC \"</td>\n",
              "      <td>0</td>\n",
              "      <td>0</td>\n",
              "      <td>0</td>\n",
              "      <td>0</td>\n",
              "      <td>0</td>\n",
              "      <td>0</td>\n",
              "      <td>\"  Copying to talk page .  serenC</td>\n",
              "    </tr>\n",
              "    <tr>\n",
              "      <th>109259</th>\n",
              "      <td>484bf6015ebcb2e2</td>\n",
              "      <td>On edit: forgot to actually .</td>\n",
              "      <td>0</td>\n",
              "      <td>0</td>\n",
              "      <td>0</td>\n",
              "      <td>0</td>\n",
              "      <td>0</td>\n",
              "      <td>0</td>\n",
              "      <td>On edit :  forgot to actually  .</td>\n",
              "    </tr>\n",
              "  </tbody>\n",
              "</table>\n",
              "</div>"
            ],
            "text/plain": [
              "                      id  ...                                         normalized\n",
              "128037  acd47a6c06c4d1f8  ...  Fuck Wikipedia !  !  !    Peace  ( except to W...\n",
              "208780  c40dc2b2890a95ab  ...   :  : That is discussion among experts .  1965...\n",
              "5192    0dd47ea93d47e518  ...       Re - adding anti - barnstar  Anti - Barnstar\n",
              "50057   85c6afcc7c206a1a  ...                 \"  Copying to talk page .  serenC \n",
              "109259  484bf6015ebcb2e2  ...                  On edit :  forgot to actually  . \n",
              "\n",
              "[5 rows x 9 columns]"
            ]
          },
          "metadata": {
            "tags": []
          },
          "execution_count": 195
        }
      ]
    },
    {
      "cell_type": "code",
      "metadata": {
        "id": "W0_Q5oWqANAS",
        "colab_type": "code",
        "colab": {
          "base_uri": "https://localhost:8080/",
          "height": 295
        },
        "outputId": "399c8adc-edfe-4f1a-c744-f774485865a6"
      },
      "source": [
        "sample.info()"
      ],
      "execution_count": 118,
      "outputs": [
        {
          "output_type": "stream",
          "text": [
            "<class 'pandas.core.frame.DataFrame'>\n",
            "Int64Index: 44710 entries, 128037 to 56305\n",
            "Data columns (total 9 columns):\n",
            " #   Column         Non-Null Count  Dtype \n",
            "---  ------         --------------  ----- \n",
            " 0   id             44710 non-null  object\n",
            " 1   comment_text   44710 non-null  object\n",
            " 2   toxic          44710 non-null  int64 \n",
            " 3   severe_toxic   44710 non-null  int64 \n",
            " 4   obscene        44710 non-null  int64 \n",
            " 5   threat         44710 non-null  int64 \n",
            " 6   insult         44710 non-null  int64 \n",
            " 7   identity_hate  44710 non-null  int64 \n",
            " 8   normalized     44710 non-null  object\n",
            "dtypes: int64(6), object(3)\n",
            "memory usage: 3.4+ MB\n"
          ],
          "name": "stdout"
        }
      ]
    },
    {
      "cell_type": "markdown",
      "metadata": {
        "id": "qVKuPl_byI2a",
        "colab_type": "text"
      },
      "source": [
        "Посмотрим на корреляцию переменных"
      ]
    },
    {
      "cell_type": "code",
      "metadata": {
        "id": "T7r830nBCrVB",
        "colab_type": "code",
        "colab": {
          "base_uri": "https://localhost:8080/",
          "height": 233
        },
        "outputId": "d9dda69b-62a6-43f2-dec1-770c101a9146"
      },
      "source": [
        "sample.corr()"
      ],
      "execution_count": 119,
      "outputs": [
        {
          "output_type": "execute_result",
          "data": {
            "text/html": [
              "<div>\n",
              "<style scoped>\n",
              "    .dataframe tbody tr th:only-of-type {\n",
              "        vertical-align: middle;\n",
              "    }\n",
              "\n",
              "    .dataframe tbody tr th {\n",
              "        vertical-align: top;\n",
              "    }\n",
              "\n",
              "    .dataframe thead th {\n",
              "        text-align: right;\n",
              "    }\n",
              "</style>\n",
              "<table border=\"1\" class=\"dataframe\">\n",
              "  <thead>\n",
              "    <tr style=\"text-align: right;\">\n",
              "      <th></th>\n",
              "      <th>toxic</th>\n",
              "      <th>severe_toxic</th>\n",
              "      <th>obscene</th>\n",
              "      <th>threat</th>\n",
              "      <th>insult</th>\n",
              "      <th>identity_hate</th>\n",
              "    </tr>\n",
              "  </thead>\n",
              "  <tbody>\n",
              "    <tr>\n",
              "      <th>toxic</th>\n",
              "      <td>1.000000</td>\n",
              "      <td>0.287582</td>\n",
              "      <td>0.705843</td>\n",
              "      <td>0.159473</td>\n",
              "      <td>0.670094</td>\n",
              "      <td>0.277041</td>\n",
              "    </tr>\n",
              "    <tr>\n",
              "      <th>severe_toxic</th>\n",
              "      <td>0.287582</td>\n",
              "      <td>1.000000</td>\n",
              "      <td>0.375250</td>\n",
              "      <td>0.112835</td>\n",
              "      <td>0.346091</td>\n",
              "      <td>0.198051</td>\n",
              "    </tr>\n",
              "    <tr>\n",
              "      <th>obscene</th>\n",
              "      <td>0.705843</td>\n",
              "      <td>0.375250</td>\n",
              "      <td>1.000000</td>\n",
              "      <td>0.145366</td>\n",
              "      <td>0.735899</td>\n",
              "      <td>0.288693</td>\n",
              "    </tr>\n",
              "    <tr>\n",
              "      <th>threat</th>\n",
              "      <td>0.159473</td>\n",
              "      <td>0.112835</td>\n",
              "      <td>0.145366</td>\n",
              "      <td>1.000000</td>\n",
              "      <td>0.153113</td>\n",
              "      <td>0.122263</td>\n",
              "    </tr>\n",
              "    <tr>\n",
              "      <th>insult</th>\n",
              "      <td>0.670094</td>\n",
              "      <td>0.346091</td>\n",
              "      <td>0.735899</td>\n",
              "      <td>0.153113</td>\n",
              "      <td>1.000000</td>\n",
              "      <td>0.343810</td>\n",
              "    </tr>\n",
              "    <tr>\n",
              "      <th>identity_hate</th>\n",
              "      <td>0.277041</td>\n",
              "      <td>0.198051</td>\n",
              "      <td>0.288693</td>\n",
              "      <td>0.122263</td>\n",
              "      <td>0.343810</td>\n",
              "      <td>1.000000</td>\n",
              "    </tr>\n",
              "  </tbody>\n",
              "</table>\n",
              "</div>"
            ],
            "text/plain": [
              "                  toxic  severe_toxic  ...    insult  identity_hate\n",
              "toxic          1.000000      0.287582  ...  0.670094       0.277041\n",
              "severe_toxic   0.287582      1.000000  ...  0.346091       0.198051\n",
              "obscene        0.705843      0.375250  ...  0.735899       0.288693\n",
              "threat         0.159473      0.112835  ...  0.153113       0.122263\n",
              "insult         0.670094      0.346091  ...  1.000000       0.343810\n",
              "identity_hate  0.277041      0.198051  ...  0.343810       1.000000\n",
              "\n",
              "[6 rows x 6 columns]"
            ]
          },
          "metadata": {
            "tags": []
          },
          "execution_count": 119
        }
      ]
    },
    {
      "cell_type": "code",
      "metadata": {
        "id": "DmKtmCbQH34k",
        "colab_type": "code",
        "colab": {
          "base_uri": "https://localhost:8080/",
          "height": 325
        },
        "outputId": "11295718-a36c-433b-ff17-decec4203b19"
      },
      "source": [
        "fig, ax = plt.subplots(figsize=(10,5))\n",
        "sns.heatmap(data=sample.corr(), \n",
        "            annot=True, ax=ax)\n",
        "plt.show()"
      ],
      "execution_count": 198,
      "outputs": [
        {
          "output_type": "display_data",
          "data": {
            "image/png": "[encoded data removed]",
            "text/plain": [
              "<Figure size 720x360 with 2 Axes>"
            ]
          },
          "metadata": {
            "tags": [],
            "needs_background": "light"
          }
        }
      ]
    },
    {
      "cell_type": "markdown",
      "metadata": {
        "id": "6iclMeEkTVe6",
        "colab_type": "text"
      },
      "source": [
        "Самая большая корреляция наблюдается между \"obscene\" и \"insult\", а также между \"toxic\" и \"obscene\"."
      ]
    },
    {
      "cell_type": "markdown",
      "metadata": {
        "id": "REvpan-BUWZ0",
        "colab_type": "text"
      },
      "source": [
        "Рассмотрим токсичные и нетоксичные комментарии"
      ]
    },
    {
      "cell_type": "code",
      "metadata": {
        "id": "MQCixMnTTq4m",
        "colab_type": "code",
        "colab": {
          "base_uri": "https://localhost:8080/",
          "height": 193
        },
        "outputId": "c1e045d6-133a-44a0-8974-976f461e947f"
      },
      "source": [
        "toxic_comments = sample[sample.toxic==1]\n",
        "for comment in toxic_comments.comment_text.head(5):\n",
        "  print(comment)"
      ],
      "execution_count": 210,
      "outputs": [
        {
          "output_type": "stream",
          "text": [
            "Fuck Wikipedia!!! \n",
            "\n",
            "Peace (except to Wikipedia)\n",
            ":::Yeah, it's all a huge conspiracy to turn the world into communist homosexuals.\n",
            "How so, would you care to atleast give a concise justification of your statement or is it just an empty assertion coming from a pseudo-intellect?\n",
            "MYSTERION IS CLYDE AND ANYONE WHO DOESN'T THINK SO IS A JACKASS\n",
            ". \n",
            "\n",
            "KEEP YOUR ANTI-GREEK SHIT TO YOURSELF! GREEKWARRIOR IS BACK! EVEN THOUGH I HAVE BEEN EDITING BEFORE THAT EVEN!\n"
          ],
          "name": "stdout"
        }
      ]
    },
    {
      "cell_type": "code",
      "metadata": {
        "id": "wNorcD2kTU07",
        "colab_type": "code",
        "colab": {
          "base_uri": "https://localhost:8080/",
          "height": 159
        },
        "outputId": "806f9dd2-bfb2-4d6d-9b1f-3101f68c21eb"
      },
      "source": [
        "non_toxic_comments = sample[sample.toxic==0]\n",
        "for comment in non_toxic_comments.comment_text.head(5):\n",
        "  print(comment)"
      ],
      "execution_count": 211,
      "outputs": [
        {
          "output_type": "stream",
          "text": [
            "::That is discussion among experts. 1965 war maybe 'UN ceasefire', 1999 war's extra note should link to aftermath of the article.\n",
            "Re-adding anti-barnstar\n",
            " Anti-Barnstar\n",
            "\"\n",
            "Copying to talk page. serenC \"\n",
            "On edit: forgot to actually .\n",
            "Who is in charge of Russia? Putin or Medevev? I gather Putin is still the captain of the ship (he just kept the power made the Moscow White House the new Kremlin), whith Medevev as the honorary counsel.\n"
          ],
          "name": "stdout"
        }
      ]
    },
    {
      "cell_type": "markdown",
      "metadata": {
        "id": "Sx6O09mAWJ0G",
        "colab_type": "text"
      },
      "source": [
        "Посмотрим на другие колонки\n",
        "\n",
        "**1) Severe toxic.**"
      ]
    },
    {
      "cell_type": "code",
      "metadata": {
        "id": "Vx1Kv9sJWII2",
        "colab_type": "code",
        "colab": {
          "base_uri": "https://localhost:8080/",
          "height": 159
        },
        "outputId": "696bf43a-6cfd-4116-fa5d-e93623d1eea7"
      },
      "source": [
        "sev_toxic_comments = sample[sample.severe_toxic==1]\n",
        "for comment in sev_toxic_comments.comment_text.head(5):\n",
        "  print(comment)"
      ],
      "execution_count": 219,
      "outputs": [
        {
          "output_type": "stream",
          "text": [
            "Fuck Wikipedia!!! \n",
            "\n",
            "Peace (except to Wikipedia)\n",
            "I am going to fucking kill you, you wanker. I am going to find out where you live, slaughter your family and then torture you to death.\n",
            "GO F**K YOURSELF TOO! LIKE I GIVE A SHIT ABOUT A BAN!\n",
            "DRMIES IS A F**CKING IDIOT!!!!!!\n",
            "GO FUCK YOURSELF NIGGER\n"
          ],
          "name": "stdout"
        }
      ]
    },
    {
      "cell_type": "markdown",
      "metadata": {
        "id": "MgT22RNLXOJY",
        "colab_type": "text"
      },
      "source": [
        "Количество перечесений severe toxic и toxic"
      ]
    },
    {
      "cell_type": "code",
      "metadata": {
        "id": "QC3dX_RVWewD",
        "colab_type": "code",
        "colab": {
          "base_uri": "https://localhost:8080/",
          "height": 35
        },
        "outputId": "c8c0b9b2-9577-4f1d-c5a1-9b60ce78448a"
      },
      "source": [
        "severe_toxic = sample[sample.severe_toxic==1]\n",
        "severe_toxic2 = severe_toxic[severe_toxic.toxic==1]\n",
        "len(severe_toxic2)"
      ],
      "execution_count": 214,
      "outputs": [
        {
          "output_type": "execute_result",
          "data": {
            "text/plain": [
              "381"
            ]
          },
          "metadata": {
            "tags": []
          },
          "execution_count": 214
        }
      ]
    },
    {
      "cell_type": "code",
      "metadata": {
        "id": "hi-H1NOhX2j4",
        "colab_type": "code",
        "colab": {
          "base_uri": "https://localhost:8080/",
          "height": 159
        },
        "outputId": "e463a25d-fba6-4ba5-91d0-ff4b99117bc1"
      },
      "source": [
        "for comment in severe_toxic2.comment_text.head(5):\n",
        "  print(comment)"
      ],
      "execution_count": 217,
      "outputs": [
        {
          "output_type": "stream",
          "text": [
            "Fuck Wikipedia!!! \n",
            "\n",
            "Peace (except to Wikipedia)\n",
            "I am going to fucking kill you, you wanker. I am going to find out where you live, slaughter your family and then torture you to death.\n",
            "GO F**K YOURSELF TOO! LIKE I GIVE A SHIT ABOUT A BAN!\n",
            "DRMIES IS A F**CKING IDIOT!!!!!!\n",
            "GO FUCK YOURSELF NIGGER\n"
          ],
          "name": "stdout"
        }
      ]
    },
    {
      "cell_type": "markdown",
      "metadata": {
        "id": "MhwXMxZKXVYg",
        "colab_type": "text"
      },
      "source": [
        "Посмотрим на пересечение severe toxic и obscene"
      ]
    },
    {
      "cell_type": "code",
      "metadata": {
        "id": "oK1ujtNlXUwu",
        "colab_type": "code",
        "colab": {
          "base_uri": "https://localhost:8080/",
          "height": 35
        },
        "outputId": "505737a1-58a2-403c-d097-f0987231f479"
      },
      "source": [
        "obs_sev = severe_toxic[severe_toxic.obscene ==1]\n",
        "len(obs_sev)"
      ],
      "execution_count": 216,
      "outputs": [
        {
          "output_type": "execute_result",
          "data": {
            "text/plain": [
              "372"
            ]
          },
          "metadata": {
            "tags": []
          },
          "execution_count": 216
        }
      ]
    },
    {
      "cell_type": "code",
      "metadata": {
        "id": "_2KuyBCcYDN6",
        "colab_type": "code",
        "colab": {
          "base_uri": "https://localhost:8080/",
          "height": 159
        },
        "outputId": "73048139-1183-4edd-af11-f117568e255a"
      },
      "source": [
        "for comment in obs_sev.comment_text.head(5):\n",
        "  print(comment)"
      ],
      "execution_count": 218,
      "outputs": [
        {
          "output_type": "stream",
          "text": [
            "Fuck Wikipedia!!! \n",
            "\n",
            "Peace (except to Wikipedia)\n",
            "I am going to fucking kill you, you wanker. I am going to find out where you live, slaughter your family and then torture you to death.\n",
            "GO F**K YOURSELF TOO! LIKE I GIVE A SHIT ABOUT A BAN!\n",
            "DRMIES IS A F**CKING IDIOT!!!!!!\n",
            "GO FUCK YOURSELF NIGGER\n"
          ],
          "name": "stdout"
        }
      ]
    },
    {
      "cell_type": "markdown",
      "metadata": {
        "id": "JTdCxCsIXsiV",
        "colab_type": "text"
      },
      "source": [
        "Как мы видим, в трех случаях примеры совпали."
      ]
    },
    {
      "cell_type": "markdown",
      "metadata": {
        "id": "5pJtMOUlYZpX",
        "colab_type": "text"
      },
      "source": [
        "**2)Obscene**"
      ]
    },
    {
      "cell_type": "code",
      "metadata": {
        "id": "AdvCJYMHY_rl",
        "colab_type": "code",
        "colab": {
          "base_uri": "https://localhost:8080/",
          "height": 193
        },
        "outputId": "c35c3500-07cc-435d-b163-495ea7592d5d"
      },
      "source": [
        "obs_toxic_comments = sample[sample.obscene==1]\n",
        "for comment in obs_toxic_comments.comment_text.head(5):\n",
        "  print(comment)"
      ],
      "execution_count": 220,
      "outputs": [
        {
          "output_type": "stream",
          "text": [
            "Fuck Wikipedia!!! \n",
            "\n",
            "Peace (except to Wikipedia)\n",
            "I agree, this guy is a piece of shit!\n",
            "I am going to fucking kill you, you wanker. I am going to find out where you live, slaughter your family and then torture you to death.\n",
            "oranjblud is an idiot. stop sticking up for him, redrose64. 86.40.176.99\n",
            "\" \n",
            "\n",
            " Disrespectful?  I have her picture on my nighttable and I pray to her visage every night before going to bed that she will save my soul.  I live for the day that her icy cream will fill the nooks and crannies of my mouth, like so much butter on a still-warm English muffin.  However, despite my abject faith in her, she don't get a Wikipedia article.  Life's a bitch sometimes.  ||  \"\n"
          ],
          "name": "stdout"
        }
      ]
    },
    {
      "cell_type": "markdown",
      "metadata": {
        "id": "rRTH2nIgZ88f",
        "colab_type": "text"
      },
      "source": [
        "Пересечение obscene и insult, между которыми очень больше значение корреляции"
      ]
    },
    {
      "cell_type": "code",
      "metadata": {
        "id": "8BOwF-0wZRTI",
        "colab_type": "code",
        "colab": {
          "base_uri": "https://localhost:8080/",
          "height": 35
        },
        "outputId": "710eb71f-42c1-4bcb-8fc5-f5a579a79a63"
      },
      "source": [
        "obscene_toxic = sample[sample.obscene==1]\n",
        "ins_obs_toxic = obscene_toxic[obscene_toxic.insult==1]\n",
        "len(ins_obs_toxic)"
      ],
      "execution_count": 222,
      "outputs": [
        {
          "output_type": "execute_result",
          "data": {
            "text/plain": [
              "1755"
            ]
          },
          "metadata": {
            "tags": []
          },
          "execution_count": 222
        }
      ]
    },
    {
      "cell_type": "code",
      "metadata": {
        "id": "utkhMIP0aJ7J",
        "colab_type": "code",
        "colab": {
          "base_uri": "https://localhost:8080/",
          "height": 193
        },
        "outputId": "d54d7404-4a78-46ef-f026-1599abfbd891"
      },
      "source": [
        "for comment in ins_obs_toxic.comment_text.head(5):\n",
        "  print(comment)"
      ],
      "execution_count": 223,
      "outputs": [
        {
          "output_type": "stream",
          "text": [
            "I agree, this guy is a piece of shit!\n",
            "I am going to fucking kill you, you wanker. I am going to find out where you live, slaughter your family and then torture you to death.\n",
            "oranjblud is an idiot. stop sticking up for him, redrose64. 86.40.176.99\n",
            "\" \n",
            "\n",
            " Disrespectful?  I have her picture on my nighttable and I pray to her visage every night before going to bed that she will save my soul.  I live for the day that her icy cream will fill the nooks and crannies of my mouth, like so much butter on a still-warm English muffin.  However, despite my abject faith in her, she don't get a Wikipedia article.  Life's a bitch sometimes.  ||  \"\n",
            "\"\n",
            "\n",
            "\"\"Bitch, suck my dick before I slap you with it.\"\"\"\"Bitch, suck my dick before I slap you with it.\"\"\"\"Bitch, suck my dick before I slap you with it.\"\"\"\"Bitch, suck my dick before I slap you with it.\"\"\"\"Bitch, suck my dick before I slap you with it.\"\"\"\"Bitch, suck my dick before I slap you with it.\"\"\"\"Bitch, suck my dick before I slap you with it.\"\"\"\"Bitch, suck my dick before I slap you with it.\"\"\"\"Bitch, suck my dick before I slap you with it.\"\"\"\"Bitch, suck my dick before I slap you with it.\"\"\"\"Bitch, suck my dick before I slap you with it.\"\"\"\"Bitch, suck my dick before I slap you with it.\"\"\"\"Bitch, suck my dick before I slap you with it.\"\"\"\"Bitch, suck my dick before I slap you with it.\"\"\"\"Bitch, suck my dick before I slap you with it.\"\"\"\"Bitch, suck my dick before I slap you with it.\"\"\"\"Bitch, suck my dick before I slap you with it.\"\"\"\"Bitch, suck my dick before I slap you with it.\"\"\"\"Bitch, suck my dick before I slap you with it.\"\"\"\"Bitch, suck my dick before I slap you with it.\"\"\"\"Bitch, suck my dick before I slap you with it.\"\"\"\"Bitch, suck my dick before I slap you with it.\"\"\"\"Bitch, suck my dick before I slap you with it.\"\"\"\"Bitch, suck my dick before I slap you with it.\"\"\"\"Bitch, suck my dick before I slap you with it.\"\"\"\"Bitch, suck my dick before I slap you with it.\"\"\"\"Bitch, suck my dick before I slap you with it.\"\"\"\"Bitch, suck my dick before I slap you with it.\"\"\"\n"
          ],
          "name": "stdout"
        }
      ]
    },
    {
      "cell_type": "markdown",
      "metadata": {
        "id": "7ptq8VmIbJf4",
        "colab_type": "text"
      },
      "source": [
        "**3)Threat**"
      ]
    },
    {
      "cell_type": "markdown",
      "metadata": {
        "id": "u4LR6FsRb0RD",
        "colab_type": "text"
      },
      "source": [
        "У этого параметра довольно маленькое значение корреляции с другими колонками, однако все равно посмотрим количество пересечений и примеры."
      ]
    },
    {
      "cell_type": "code",
      "metadata": {
        "id": "tXuMZk4AbZyX",
        "colab_type": "code",
        "colab": {
          "base_uri": "https://localhost:8080/",
          "height": 211
        },
        "outputId": "0d93b588-ef74-459c-da15-140b5c189b75"
      },
      "source": [
        "threat_comment = sample[sample.threat==1]\n",
        "for comment in threat_comment.comment_text.head(5):\n",
        "  print(comment)"
      ],
      "execution_count": 224,
      "outputs": [
        {
          "output_type": "stream",
          "text": [
            "I am going to fucking kill you, you wanker. I am going to find out where you live, slaughter your family and then torture you to death.\n",
            "\"I hate your stupid guts, you shit-head! \"\"Praise be to Allah that I converted to Islam. It is only through him that we wake up and see the reality.\"\" What reality? Perhaps an alternate one! Now you listen here, you Benedict Arnold; if you can't get your awful NPOV comments off of here, I will personally take a gun and blast you through your own damn computer screen! HA HA HA HA HA HAH AHAHAHAHHAHAHA! GET YOUR FRICKEN' ASS OFF OF WIKIPEDIA OR I WILL STICK YOUR HEAD IN A MICROWAVE! I KNOW WHO YOU ARE, \"\"ANONOYMOUS EDITOR\"\"! YOUR NAME IS OSAMA BIN LADEN, AND YOU ARE REMAINING ANONOMYOUS SO THAT YOU CAN ESCAPE THE JUST PUNISHMENT YOU DESERVE! AAAAAAAAAAARRRRRRRRRGGGGGGG!   \n",
            " :\"\n",
            ", I hope your retarded kids get anal raped and murdered for having such a fag as a father. I'm gonna fuck your fat wife and trow her over the bridge. Consider yourself happy, another useful editor of Wikiepia retired. I see more users retired everyday. Don't even dare removing this you peace of shit, I do what ever the fuck I want with my talk page. Report all you want old cunt, I no longer give a fuck. And don't fucking leave a NPA warning template, just block me. That's what you do best.\n",
            "important \n",
            "\n",
            "you and your family shall burn! you have been warned, if you do troll muzemikes talk page i will slaughter you in your sleep. bye...\n",
            "Hey \n",
            "\n",
            "hey faggot, are you dead yet? or are you watching your mom getting raped by filthy pigs? which one is it? I'm coming to rape your mom and shoot your entire family. You have 1 week to live, you motherfucker.\n"
          ],
          "name": "stdout"
        }
      ]
    },
    {
      "cell_type": "markdown",
      "metadata": {
        "id": "r6vhBVd2cClC",
        "colab_type": "text"
      },
      "source": [
        "Посмотрим пересечения с toxic. Их совсем немного."
      ]
    },
    {
      "cell_type": "code",
      "metadata": {
        "id": "1mQA3k15cBjq",
        "colab_type": "code",
        "colab": {
          "base_uri": "https://localhost:8080/",
          "height": 35
        },
        "outputId": "ef6d3bdb-5d6a-4718-a634-6021a68ca172"
      },
      "source": [
        "threat_comment_tox = threat_comment[threat_comment.toxic==1]\n",
        "len(threat_comment_tox)"
      ],
      "execution_count": 225,
      "outputs": [
        {
          "output_type": "execute_result",
          "data": {
            "text/plain": [
              "129"
            ]
          },
          "metadata": {
            "tags": []
          },
          "execution_count": 225
        }
      ]
    },
    {
      "cell_type": "markdown",
      "metadata": {
        "id": "WckkRrHxccEV",
        "colab_type": "text"
      },
      "source": [
        "Примеры threat c toxic и без toxic"
      ]
    },
    {
      "cell_type": "code",
      "metadata": {
        "id": "cvh3RNGlceIF",
        "colab_type": "code",
        "colab": {
          "base_uri": "https://localhost:8080/",
          "height": 211
        },
        "outputId": "202ae068-3122-4d1f-e99f-f919362be3aa"
      },
      "source": [
        "for comment in threat_comment_tox.comment_text.head(5):\n",
        "  print(comment)"
      ],
      "execution_count": 227,
      "outputs": [
        {
          "output_type": "stream",
          "text": [
            "I am going to fucking kill you, you wanker. I am going to find out where you live, slaughter your family and then torture you to death.\n",
            "\"I hate your stupid guts, you shit-head! \"\"Praise be to Allah that I converted to Islam. It is only through him that we wake up and see the reality.\"\" What reality? Perhaps an alternate one! Now you listen here, you Benedict Arnold; if you can't get your awful NPOV comments off of here, I will personally take a gun and blast you through your own damn computer screen! HA HA HA HA HA HAH AHAHAHAHHAHAHA! GET YOUR FRICKEN' ASS OFF OF WIKIPEDIA OR I WILL STICK YOUR HEAD IN A MICROWAVE! I KNOW WHO YOU ARE, \"\"ANONOYMOUS EDITOR\"\"! YOUR NAME IS OSAMA BIN LADEN, AND YOU ARE REMAINING ANONOMYOUS SO THAT YOU CAN ESCAPE THE JUST PUNISHMENT YOU DESERVE! AAAAAAAAAAARRRRRRRRRGGGGGGG!   \n",
            " :\"\n",
            ", I hope your retarded kids get anal raped and murdered for having such a fag as a father. I'm gonna fuck your fat wife and trow her over the bridge. Consider yourself happy, another useful editor of Wikiepia retired. I see more users retired everyday. Don't even dare removing this you peace of shit, I do what ever the fuck I want with my talk page. Report all you want old cunt, I no longer give a fuck. And don't fucking leave a NPA warning template, just block me. That's what you do best.\n",
            "important \n",
            "\n",
            "you and your family shall burn! you have been warned, if you do troll muzemikes talk page i will slaughter you in your sleep. bye...\n",
            "Hey \n",
            "\n",
            "hey faggot, are you dead yet? or are you watching your mom getting raped by filthy pigs? which one is it? I'm coming to rape your mom and shoot your entire family. You have 1 week to live, you motherfucker.\n"
          ],
          "name": "stdout"
        }
      ]
    },
    {
      "cell_type": "code",
      "metadata": {
        "id": "QaICL0rpcu9G",
        "colab_type": "code",
        "colab": {
          "base_uri": "https://localhost:8080/",
          "height": 35
        },
        "outputId": "ecb666d3-55c0-4d88-f5ed-2f36d4576f8c"
      },
      "source": [
        "threat_comment_nontox = threat_comment[threat_comment.toxic==0]\n",
        "len(threat_comment_nontox)"
      ],
      "execution_count": 228,
      "outputs": [
        {
          "output_type": "execute_result",
          "data": {
            "text/plain": [
              "10"
            ]
          },
          "metadata": {
            "tags": []
          },
          "execution_count": 228
        }
      ]
    },
    {
      "cell_type": "code",
      "metadata": {
        "id": "dnutVYnhc1Qq",
        "colab_type": "code",
        "colab": {
          "base_uri": "https://localhost:8080/",
          "height": 263
        },
        "outputId": "e2d1d068-af4a-467d-bd52-d97b1051bea7"
      },
      "source": [
        "for comment in threat_comment_nontox.comment_text.head(5):\n",
        "  print(comment)"
      ],
      "execution_count": 229,
      "outputs": [
        {
          "output_type": "stream",
          "text": [
            "@ Good! Just tell me how delete my account so I can get away from you and 's harassment and abuse. You two have made a powerful and unstoppable enemy once I find who your identities are and if you even come to Washington state. I will destroy you guys' life once I find your identities and you know what I am strong and powerful than you and I am not vandalizing pages like everyone else is on this site, just doing what anyone would do.\n",
            "\"\n",
            "\n",
            " Lock Down \n",
            "\n",
            "I don't know about the \"\"Bulgarian BULLSHIT season\"\", but don't be fooled from where exactly i connect. If i see you editing, or someone else you send, the DDA40X article one more time, you will spend the next few years in prison. I will arrange you a meeting with certain people for suspicions of terrorism. Yes. I can do that. A terror suspect nowadays, you can kiss your young life goodbye. If you file complaints and i'm banned, you and your naked ass will have the whole time in the world, in the cell block, to think what went wrong. 87.252.167.254  \"\n",
            "I shalt sever thy head at the neck. \n",
            "\n",
            "It will be dreadfully slow and painful, in accordance with Wikipedia policies.\n",
            "Regarding your passing \n",
            "\n",
            "Because you willfully violate Wikipedia's copyright and because you intentionally publish libel, I will arrange to have your life terminated.\n",
            "SuPeRTR0LL WiLL LiVe FoReVeR! iF You DoN'T ReSPeCT THe SuPeRTR0LL You WiLL Die You PaTHeTiC FooL! SuPeRTR0LL WiLL LiVe FoReVeR! iF You DoN'T ReSPeCT THe SuPeRTR0LL You WiLL Die You PaTHeTiC FooL! SuPeRTR0LL WiLL LiVe FoReVeR! iF You DoN'T ReSPeCT THe SuPeRTR0LL You WiLL Die You PaTHeTiC FooL! SuPeRTR0LL WiLL LiVe FoReVeR! iF You DoN'T ReSPeCT THe SuPeRTR0LL You WiLL Die You PaTHeTiC FooL! SuPeRTR0LL WiLL LiVe FoReVeR! iF You DoN'T ReSPeCT THe SuPeRTR0LL You WiLL Die You PaTHeTiC FooL! SuPeRTR0LL WiLL LiVe FoReVeR! iF You DoN'T ReSPeCT THe SuPeRTR0LL You WiLL Die You PaTHeTiC FooL! SuPeRTR0LL WiLL LiVe FoReVeR! iF You DoN'T ReSPeCT THe SuPeRTR0LL You WiLL Die You PaTHeTiC FooL! SuPeRTR0LL WiLL LiVe FoReVeR! iF You DoN'T ReSPeCT THe SuPeRTR0LL You WiLL Die You PaTHeTiC FooL! SuPeRTR0LL WiLL LiVe FoReVeR! iF You DoN'T ReSPeCT THe SuPeRTR0LL You WiLL Die You PaTHeTiC FooL! SuPeRTR0LL WiLL LiVe FoReVeR! iF You DoN'T ReSPeCT THe SuPeRTR0LL You WiLL Die You PaTHeTiC FooL! SuPeRTR0LL WiLL LiVe FoReVeR! iF You DoN'T ReSPeCT THe SuPeRTR0LL You WiLL Die You PaTHeTiC FooL! SuPeRTR0LL WiLL LiVe FoReVeR! iF You DoN'T ReSPeCT THe SuPeRTR0LL You WiLL Die You PaTHeTiC FooL! SuPeRTR0LL WiLL LiVe FoReVeR! iF You DoN'T ReSPeCT THe SuPeRTR0LL You WiLL Die You PaTHeTiC FooL! SuPeRTR0LL WiLL LiVe FoReVeR! iF You DoN'T ReSPeCT THe SuPeRTR0LL You WiLL Die You PaTHeTiC FooL! SuPeRTR0LL WiLL LiVe FoReVeR! iF You DoN'T ReSPeCT THe SuPeRTR0LL You WiLL Die You PaTHeTiC FooL! SuPeRTR0LL WiLL LiVe FoReVeR! iF You DoN'T ReSPeCT THe SuPeRTR0LL You WiLL Die You PaTHeTiC FooL! SuPeRTR0LL WiLL LiVe FoReVeR! iF You DoN'T ReSPeCT THe SuPeRTR0LL You WiLL Die You PaTHeTiC FooL! SuPeRTR0LL WiLL LiVe FoReVeR! iF You DoN'T ReSPeCT THe SuPeRTR0LL You WiLL Die You PaTHeTiC FooL! SuPeRTR0LL WiLL LiVe FoReVeR! iF You DoN'T ReSPeCT THe SuPeRTR0LL You WiLL Die You PaTHeTiC FooL! SuPeRTR0LL WiLL LiVe FoReVeR! iF You DoN'T ReSPeCT THe SuPeRTR0LL You WiLL Die You PaTHeTiC FooL! SuPeRTR0LL WiLL LiVe FoReVeR! iF You DoN'T ReSPeCT THe SuPeRTR0LL You WiLL Die You PaTHeTiC FooL! SuPeRTR0LL WiLL LiVe FoReVeR! iF You DoN'T ReSPeCT THe SuPeRTR0LL You WiLL Die You PaTHeTiC FooL! SuPeRTR0LL WiLL LiVe FoReVeR! iF You DoN'T ReSPeCT THe SuPeRTR0LL You WiLL Die You PaTHeTiC FooL!SuPeRTR0LL WiLL LiVe FoReVeR! iF You DoN'T ReSPeCT THe SuPeRTR0LL You WiLL Die You PaTHeTiC FooL! SuPeRTR0LL WiLL LiVe FoReVeR! iF You DoN'T ReSPeCT THe SuPeRTR0LL You WiLL Die You PaTHeTiC FooL! SuPeRTR0LL WiLL LiVe FoReVeR! iF You DoN'T ReSPeCT THe SuPeRTR0LL You WiLL Die You PaTHeTiC FooL! SuPeRTR0LL WiLL LiVe FoReVeR! iF You DoN'T ReSPeCT THe SuPeRTR0LL You WiLL Die You PaTHeTiC FooL! SuPeRTR0LL WiLL LiVe FoReVeR! iF You DoN'T ReSPeCT THe SuPeRTR0LL You WiLL Die You PaTHeTiC FooL! SuPeRTR0LL WiLL LiVe FoReVeR! iF You DoN'T ReSPeCT THe SuPeRTR0LL You WiLL Die You PaTHeTiC FooL! SuPeRTR0LL WiLL LiVe FoReVeR! iF You DoN'T ReSPeCT THe SuPeRTR0LL You WiLL Die You PaTHeTiC FooL! SuPeRTR0LL WiLL LiVe FoReVeR! iF You DoN'T ReSPeCT THe SuPeRTR0LL You WiLL Die You PaTHeTiC FooL! SuPeRTR0LL WiLL LiVe FoReVeR! iF You DoN'T ReSPeCT THe SuPeRTR0LL You WiLL Die You PaTHeTiC FooL! SuPeRTR0LL WiLL LiVe FoReVeR! iF You DoN'T ReSPeCT THe SuPeRTR0LL You WiLL Die You PaTHeTiC FooL! SuPeRTR0LL WiLL LiVe FoReVeR! iF You DoN'T ReSPeCT THe SuPeRTR0LL You WiLL Die You PaTHeTiC FooL! SuPeRTR0LL WiLL LiVe FoReVeR! iF You DoN'T ReSPeCT THe SuPeRTR0LL You WiLL Die You PaTHeTiC FooL! SuPeRTR0LL WiLL LiVe FoReVeR! iF You DoN'T ReSPeCT THe SuPeRTR0LL You WiLL Die You PaTHeTiC FooL! SuPeRTR0LL WiLL LiVe FoReVeR! iF You DoN'T ReSPeCT THe SuPeRTR0LL You WiLL Die You PaTHeTiC FooL! SuPeRTR0LL WiLL LiVe FoReVeR! iF You DoN'T ReSPeCT THe SuPeRTR0LL You WiLL Die You PaTHeTiC FooL! SuPeRTR0LL WiLL LiVe FoReVeR! iF You DoN'T ReSPeCT THe SuPeRTR0LL You WiLL Die You PaTHeTiC FooL! SuPeRTR0LL WiLL LiVe FoReVeR! iF You DoN'T ReSPeCT THe SuPeRTR0LL You WiLL Die You PaTHeTiC FooL! SuPeRTR0LL WiLL LiVe FoReVeR! iF You DoN'T ReSPeCT THe SuPeRTR0LL You WiLL Die You PaTHeTiC FooL! SuPeRTR0LL WiLL LiVe FoReVeR! iF You DoN'T ReSPeCT THe SuPeRTR0LL You WiLL Die You PaTHeTiC FooL! SuPeRTR0LL WiLL LiVe FoReVeR! iF You DoN'T ReSPeCT THe SuPeRTR0LL You WiLL Die You PaTHeTiC FooL! SuPeRTR0LL WiLL LiVe FoReVeR! iF You DoN'T ReSPeCT THe SuPeRTR0LL You WiLL Die You PaTHeTiC FooL! SuPeRTR0LL WiLL LiVe FoReVeR! iF You DoN'T ReSPeCT THe SuPeRTR0LL You WiLL Die You PaTHeTiC FooL! SuPeRTR0LL WiLL LiVe FoReVeR! iF You DoN'T ReSPeCT THe SuPeRTR0LL You WiLL Die You PaTHeTiC FooL!SuPeRTR0LL WiLL LiVe FoReVeR! iF You DoN'T ReSPeCT THe SuPeRTR0LL You WiLL Die You PaTHeTiC FooL! SuPeRTR0LL WiLL LiVe FoReVeR! iF You DoN'T ReSPeCT THe SuPeRTR0LL You WiLL Die You PaTHeTiC FooL! SuPeRTR0LL WiLL LiVe FoReVeR! iF You DoN'T ReSPeCT THe SuPeRTR0LL You WiLL Die You PaTHeTiC FooL! SuPeRTR0LL WiLL LiVe FoReVeR! iF You DoN'T ReSPeCT THe SuPeRTR0LL You WiLL Die You PaTHeTiC FooL! SuPeRTR0LL WiLL LiVe FoReVeR! iF You DoN'T ReSPeCT THe SuPeRTR0LL You WiLL Die You PaTHeTiC Foo\n"
          ],
          "name": "stdout"
        }
      ]
    },
    {
      "cell_type": "markdown",
      "metadata": {
        "id": "iuCeaTsAc9pt",
        "colab_type": "text"
      },
      "source": [
        "Нетоксичных примеров совсем немного(всего 10)"
      ]
    },
    {
      "cell_type": "markdown",
      "metadata": {
        "id": "q6xOMcVQdFi4",
        "colab_type": "text"
      },
      "source": [
        "**4)Indentity_hate**"
      ]
    },
    {
      "cell_type": "code",
      "metadata": {
        "id": "YqE8238WdNfF",
        "colab_type": "code",
        "colab": {
          "base_uri": "https://localhost:8080/",
          "height": 211
        },
        "outputId": "a4fb444a-f3a1-4ca3-a0c2-7b8c3adab9c5"
      },
      "source": [
        "hate_comment = sample[sample.identity_hate==1]\n",
        "for comment in threat_comment.comment_text.head(5):\n",
        "  print(comment)"
      ],
      "execution_count": 230,
      "outputs": [
        {
          "output_type": "stream",
          "text": [
            "I am going to fucking kill you, you wanker. I am going to find out where you live, slaughter your family and then torture you to death.\n",
            "\"I hate your stupid guts, you shit-head! \"\"Praise be to Allah that I converted to Islam. It is only through him that we wake up and see the reality.\"\" What reality? Perhaps an alternate one! Now you listen here, you Benedict Arnold; if you can't get your awful NPOV comments off of here, I will personally take a gun and blast you through your own damn computer screen! HA HA HA HA HA HAH AHAHAHAHHAHAHA! GET YOUR FRICKEN' ASS OFF OF WIKIPEDIA OR I WILL STICK YOUR HEAD IN A MICROWAVE! I KNOW WHO YOU ARE, \"\"ANONOYMOUS EDITOR\"\"! YOUR NAME IS OSAMA BIN LADEN, AND YOU ARE REMAINING ANONOMYOUS SO THAT YOU CAN ESCAPE THE JUST PUNISHMENT YOU DESERVE! AAAAAAAAAAARRRRRRRRRGGGGGGG!   \n",
            " :\"\n",
            ", I hope your retarded kids get anal raped and murdered for having such a fag as a father. I'm gonna fuck your fat wife and trow her over the bridge. Consider yourself happy, another useful editor of Wikiepia retired. I see more users retired everyday. Don't even dare removing this you peace of shit, I do what ever the fuck I want with my talk page. Report all you want old cunt, I no longer give a fuck. And don't fucking leave a NPA warning template, just block me. That's what you do best.\n",
            "important \n",
            "\n",
            "you and your family shall burn! you have been warned, if you do troll muzemikes talk page i will slaughter you in your sleep. bye...\n",
            "Hey \n",
            "\n",
            "hey faggot, are you dead yet? or are you watching your mom getting raped by filthy pigs? which one is it? I'm coming to rape your mom and shoot your entire family. You have 1 week to live, you motherfucker.\n"
          ],
          "name": "stdout"
        }
      ]
    },
    {
      "cell_type": "code",
      "metadata": {
        "id": "9KvikI2RdY12",
        "colab_type": "code",
        "colab": {
          "base_uri": "https://localhost:8080/",
          "height": 35
        },
        "outputId": "899296ac-3ea8-42c3-bcd6-f27f782640e3"
      },
      "source": [
        "hate_comment_nontox = threat_comment[threat_comment.toxic==0]\n",
        "len(threat_comment_tox)"
      ],
      "execution_count": 232,
      "outputs": [
        {
          "output_type": "execute_result",
          "data": {
            "text/plain": [
              "129"
            ]
          },
          "metadata": {
            "tags": []
          },
          "execution_count": 232
        }
      ]
    },
    {
      "cell_type": "code",
      "metadata": {
        "id": "g8Y5xqJedfsW",
        "colab_type": "code",
        "colab": {
          "base_uri": "https://localhost:8080/",
          "height": 263
        },
        "outputId": "9243c2e5-9cff-4444-83d5-e964f7677e61"
      },
      "source": [
        "for comment in hate_comment_nontox.comment_text.head(5):\n",
        "  print(comment)"
      ],
      "execution_count": 233,
      "outputs": [
        {
          "output_type": "stream",
          "text": [
            "@ Good! Just tell me how delete my account so I can get away from you and 's harassment and abuse. You two have made a powerful and unstoppable enemy once I find who your identities are and if you even come to Washington state. I will destroy you guys' life once I find your identities and you know what I am strong and powerful than you and I am not vandalizing pages like everyone else is on this site, just doing what anyone would do.\n",
            "\"\n",
            "\n",
            " Lock Down \n",
            "\n",
            "I don't know about the \"\"Bulgarian BULLSHIT season\"\", but don't be fooled from where exactly i connect. If i see you editing, or someone else you send, the DDA40X article one more time, you will spend the next few years in prison. I will arrange you a meeting with certain people for suspicions of terrorism. Yes. I can do that. A terror suspect nowadays, you can kiss your young life goodbye. If you file complaints and i'm banned, you and your naked ass will have the whole time in the world, in the cell block, to think what went wrong. 87.252.167.254  \"\n",
            "I shalt sever thy head at the neck. \n",
            "\n",
            "It will be dreadfully slow and painful, in accordance with Wikipedia policies.\n",
            "Regarding your passing \n",
            "\n",
            "Because you willfully violate Wikipedia's copyright and because you intentionally publish libel, I will arrange to have your life terminated.\n",
            "SuPeRTR0LL WiLL LiVe FoReVeR! iF You DoN'T ReSPeCT THe SuPeRTR0LL You WiLL Die You PaTHeTiC FooL! SuPeRTR0LL WiLL LiVe FoReVeR! iF You DoN'T ReSPeCT THe SuPeRTR0LL You WiLL Die You PaTHeTiC FooL! SuPeRTR0LL WiLL LiVe FoReVeR! iF You DoN'T ReSPeCT THe SuPeRTR0LL You WiLL Die You PaTHeTiC FooL! SuPeRTR0LL WiLL LiVe FoReVeR! iF You DoN'T ReSPeCT THe SuPeRTR0LL You WiLL Die You PaTHeTiC FooL! SuPeRTR0LL WiLL LiVe FoReVeR! iF You DoN'T ReSPeCT THe SuPeRTR0LL You WiLL Die You PaTHeTiC FooL! SuPeRTR0LL WiLL LiVe FoReVeR! iF You DoN'T ReSPeCT THe SuPeRTR0LL You WiLL Die You PaTHeTiC FooL! SuPeRTR0LL WiLL LiVe FoReVeR! iF You DoN'T ReSPeCT THe SuPeRTR0LL You WiLL Die You PaTHeTiC FooL! SuPeRTR0LL WiLL LiVe FoReVeR! iF You DoN'T ReSPeCT THe SuPeRTR0LL You WiLL Die You PaTHeTiC FooL! SuPeRTR0LL WiLL LiVe FoReVeR! iF You DoN'T ReSPeCT THe SuPeRTR0LL You WiLL Die You PaTHeTiC FooL! SuPeRTR0LL WiLL LiVe FoReVeR! iF You DoN'T ReSPeCT THe SuPeRTR0LL You WiLL Die You PaTHeTiC FooL! SuPeRTR0LL WiLL LiVe FoReVeR! iF You DoN'T ReSPeCT THe SuPeRTR0LL You WiLL Die You PaTHeTiC FooL! SuPeRTR0LL WiLL LiVe FoReVeR! iF You DoN'T ReSPeCT THe SuPeRTR0LL You WiLL Die You PaTHeTiC FooL! SuPeRTR0LL WiLL LiVe FoReVeR! iF You DoN'T ReSPeCT THe SuPeRTR0LL You WiLL Die You PaTHeTiC FooL! SuPeRTR0LL WiLL LiVe FoReVeR! iF You DoN'T ReSPeCT THe SuPeRTR0LL You WiLL Die You PaTHeTiC FooL! SuPeRTR0LL WiLL LiVe FoReVeR! iF You DoN'T ReSPeCT THe SuPeRTR0LL You WiLL Die You PaTHeTiC FooL! SuPeRTR0LL WiLL LiVe FoReVeR! iF You DoN'T ReSPeCT THe SuPeRTR0LL You WiLL Die You PaTHeTiC FooL! SuPeRTR0LL WiLL LiVe FoReVeR! iF You DoN'T ReSPeCT THe SuPeRTR0LL You WiLL Die You PaTHeTiC FooL! SuPeRTR0LL WiLL LiVe FoReVeR! iF You DoN'T ReSPeCT THe SuPeRTR0LL You WiLL Die You PaTHeTiC FooL! SuPeRTR0LL WiLL LiVe FoReVeR! iF You DoN'T ReSPeCT THe SuPeRTR0LL You WiLL Die You PaTHeTiC FooL! SuPeRTR0LL WiLL LiVe FoReVeR! iF You DoN'T ReSPeCT THe SuPeRTR0LL You WiLL Die You PaTHeTiC FooL! SuPeRTR0LL WiLL LiVe FoReVeR! iF You DoN'T ReSPeCT THe SuPeRTR0LL You WiLL Die You PaTHeTiC FooL! SuPeRTR0LL WiLL LiVe FoReVeR! iF You DoN'T ReSPeCT THe SuPeRTR0LL You WiLL Die You PaTHeTiC FooL! SuPeRTR0LL WiLL LiVe FoReVeR! iF You DoN'T ReSPeCT THe SuPeRTR0LL You WiLL Die You PaTHeTiC FooL!SuPeRTR0LL WiLL LiVe FoReVeR! iF You DoN'T ReSPeCT THe SuPeRTR0LL You WiLL Die You PaTHeTiC FooL! SuPeRTR0LL WiLL LiVe FoReVeR! iF You DoN'T ReSPeCT THe SuPeRTR0LL You WiLL Die You PaTHeTiC FooL! SuPeRTR0LL WiLL LiVe FoReVeR! iF You DoN'T ReSPeCT THe SuPeRTR0LL You WiLL Die You PaTHeTiC FooL! SuPeRTR0LL WiLL LiVe FoReVeR! iF You DoN'T ReSPeCT THe SuPeRTR0LL You WiLL Die You PaTHeTiC FooL! SuPeRTR0LL WiLL LiVe FoReVeR! iF You DoN'T ReSPeCT THe SuPeRTR0LL You WiLL Die You PaTHeTiC FooL! SuPeRTR0LL WiLL LiVe FoReVeR! iF You DoN'T ReSPeCT THe SuPeRTR0LL You WiLL Die You PaTHeTiC FooL! SuPeRTR0LL WiLL LiVe FoReVeR! iF You DoN'T ReSPeCT THe SuPeRTR0LL You WiLL Die You PaTHeTiC FooL! SuPeRTR0LL WiLL LiVe FoReVeR! iF You DoN'T ReSPeCT THe SuPeRTR0LL You WiLL Die You PaTHeTiC FooL! SuPeRTR0LL WiLL LiVe FoReVeR! iF You DoN'T ReSPeCT THe SuPeRTR0LL You WiLL Die You PaTHeTiC FooL! SuPeRTR0LL WiLL LiVe FoReVeR! iF You DoN'T ReSPeCT THe SuPeRTR0LL You WiLL Die You PaTHeTiC FooL! SuPeRTR0LL WiLL LiVe FoReVeR! iF You DoN'T ReSPeCT THe SuPeRTR0LL You WiLL Die You PaTHeTiC FooL! SuPeRTR0LL WiLL LiVe FoReVeR! iF You DoN'T ReSPeCT THe SuPeRTR0LL You WiLL Die You PaTHeTiC FooL! SuPeRTR0LL WiLL LiVe FoReVeR! iF You DoN'T ReSPeCT THe SuPeRTR0LL You WiLL Die You PaTHeTiC FooL! SuPeRTR0LL WiLL LiVe FoReVeR! iF You DoN'T ReSPeCT THe SuPeRTR0LL You WiLL Die You PaTHeTiC FooL! SuPeRTR0LL WiLL LiVe FoReVeR! iF You DoN'T ReSPeCT THe SuPeRTR0LL You WiLL Die You PaTHeTiC FooL! SuPeRTR0LL WiLL LiVe FoReVeR! iF You DoN'T ReSPeCT THe SuPeRTR0LL You WiLL Die You PaTHeTiC FooL! SuPeRTR0LL WiLL LiVe FoReVeR! iF You DoN'T ReSPeCT THe SuPeRTR0LL You WiLL Die You PaTHeTiC FooL! SuPeRTR0LL WiLL LiVe FoReVeR! iF You DoN'T ReSPeCT THe SuPeRTR0LL You WiLL Die You PaTHeTiC FooL! SuPeRTR0LL WiLL LiVe FoReVeR! iF You DoN'T ReSPeCT THe SuPeRTR0LL You WiLL Die You PaTHeTiC FooL! SuPeRTR0LL WiLL LiVe FoReVeR! iF You DoN'T ReSPeCT THe SuPeRTR0LL You WiLL Die You PaTHeTiC FooL! SuPeRTR0LL WiLL LiVe FoReVeR! iF You DoN'T ReSPeCT THe SuPeRTR0LL You WiLL Die You PaTHeTiC FooL! SuPeRTR0LL WiLL LiVe FoReVeR! iF You DoN'T ReSPeCT THe SuPeRTR0LL You WiLL Die You PaTHeTiC FooL! SuPeRTR0LL WiLL LiVe FoReVeR! iF You DoN'T ReSPeCT THe SuPeRTR0LL You WiLL Die You PaTHeTiC FooL!SuPeRTR0LL WiLL LiVe FoReVeR! iF You DoN'T ReSPeCT THe SuPeRTR0LL You WiLL Die You PaTHeTiC FooL! SuPeRTR0LL WiLL LiVe FoReVeR! iF You DoN'T ReSPeCT THe SuPeRTR0LL You WiLL Die You PaTHeTiC FooL! SuPeRTR0LL WiLL LiVe FoReVeR! iF You DoN'T ReSPeCT THe SuPeRTR0LL You WiLL Die You PaTHeTiC FooL! SuPeRTR0LL WiLL LiVe FoReVeR! iF You DoN'T ReSPeCT THe SuPeRTR0LL You WiLL Die You PaTHeTiC FooL! SuPeRTR0LL WiLL LiVe FoReVeR! iF You DoN'T ReSPeCT THe SuPeRTR0LL You WiLL Die You PaTHeTiC Foo\n"
          ],
          "name": "stdout"
        }
      ]
    },
    {
      "cell_type": "code",
      "metadata": {
        "id": "AlJE6_hVdVAi",
        "colab_type": "code",
        "colab": {
          "base_uri": "https://localhost:8080/",
          "height": 35
        },
        "outputId": "6dcfee26-24c1-4659-e56e-065d8f67420c"
      },
      "source": [
        "hate_comment_tox = threat_comment[threat_comment.toxic==1]\n",
        "len(threat_comment_tox)"
      ],
      "execution_count": 231,
      "outputs": [
        {
          "output_type": "execute_result",
          "data": {
            "text/plain": [
              "129"
            ]
          },
          "metadata": {
            "tags": []
          },
          "execution_count": 231
        }
      ]
    },
    {
      "cell_type": "code",
      "metadata": {
        "id": "gOMYOTlVdmtq",
        "colab_type": "code",
        "colab": {
          "base_uri": "https://localhost:8080/",
          "height": 211
        },
        "outputId": "928ffacc-5bb4-4112-ce85-1bd6215c25fa"
      },
      "source": [
        "for comment in hate_comment_tox.comment_text.head(5):\n",
        "  print(comment)"
      ],
      "execution_count": 234,
      "outputs": [
        {
          "output_type": "stream",
          "text": [
            "I am going to fucking kill you, you wanker. I am going to find out where you live, slaughter your family and then torture you to death.\n",
            "\"I hate your stupid guts, you shit-head! \"\"Praise be to Allah that I converted to Islam. It is only through him that we wake up and see the reality.\"\" What reality? Perhaps an alternate one! Now you listen here, you Benedict Arnold; if you can't get your awful NPOV comments off of here, I will personally take a gun and blast you through your own damn computer screen! HA HA HA HA HA HAH AHAHAHAHHAHAHA! GET YOUR FRICKEN' ASS OFF OF WIKIPEDIA OR I WILL STICK YOUR HEAD IN A MICROWAVE! I KNOW WHO YOU ARE, \"\"ANONOYMOUS EDITOR\"\"! YOUR NAME IS OSAMA BIN LADEN, AND YOU ARE REMAINING ANONOMYOUS SO THAT YOU CAN ESCAPE THE JUST PUNISHMENT YOU DESERVE! AAAAAAAAAAARRRRRRRRRGGGGGGG!   \n",
            " :\"\n",
            ", I hope your retarded kids get anal raped and murdered for having such a fag as a father. I'm gonna fuck your fat wife and trow her over the bridge. Consider yourself happy, another useful editor of Wikiepia retired. I see more users retired everyday. Don't even dare removing this you peace of shit, I do what ever the fuck I want with my talk page. Report all you want old cunt, I no longer give a fuck. And don't fucking leave a NPA warning template, just block me. That's what you do best.\n",
            "important \n",
            "\n",
            "you and your family shall burn! you have been warned, if you do troll muzemikes talk page i will slaughter you in your sleep. bye...\n",
            "Hey \n",
            "\n",
            "hey faggot, are you dead yet? or are you watching your mom getting raped by filthy pigs? which one is it? I'm coming to rape your mom and shoot your entire family. You have 1 week to live, you motherfucker.\n"
          ],
          "name": "stdout"
        }
      ]
    },
    {
      "cell_type": "markdown",
      "metadata": {
        "id": "N993PsuQdvWt",
        "colab_type": "text"
      },
      "source": [
        "Количество токсичных и нетоксичных примеров с identity_hate в сэмпле оказалось одинаковое количество."
      ]
    },
    {
      "cell_type": "markdown",
      "metadata": {
        "id": "GN47M2nEeDfk",
        "colab_type": "text"
      },
      "source": [
        "По примерам можно сказать, что obscene и severe toxic комментарий отличаются большим количеством излишней пунктуации и букв в верхнем регистре. "
      ]
    },
    {
      "cell_type": "markdown",
      "metadata": {
        "id": "1P31EIGAH9DL",
        "colab_type": "text"
      },
      "source": [
        "# **Строка 2**\n",
        "\n",
        "Бейзлайн модель из sklearn (векторайзер + модель) с отбором признаков (через l1 регуляризацию, на глаз через анализ важных параметров или через permutation importance) - 2 балл"
      ]
    },
    {
      "cell_type": "code",
      "metadata": {
        "id": "xsa5x1ipBpJ_",
        "colab_type": "code",
        "colab": {}
      },
      "source": [
        "from sklearn.model_selection import train_test_split\n",
        "from sklearn.feature_extraction.text import TfidfVectorizer, CountVectorizer\n",
        "import pandas as pd\n",
        "import numpy as np\n",
        "from sklearn import datasets\n",
        "from sklearn.model_selection import train_test_split\n",
        "from sklearn.linear_model import LinearRegression\n",
        "from sklearn.model_selection import RandomizedSearchCV\n",
        "from scipy.stats import uniform as sp_rand\n",
        "from sklearn.svm import LinearSVC\n",
        "from sklearn.pipeline import make_pipeline\n",
        "from sklearn.preprocessing import StandardScaler\n",
        "from sklearn.datasets import make_classification\n",
        "from sklearn.feature_selection import SelectFromModel\n",
        "import numpy as np\n",
        "from sklearn.metrics import roc_auc_score, roc_curve, accuracy_score\n",
        "from matplotlib import pyplot\n",
        "from sklearn.metrics import *\n",
        "from sklearn.linear_model import LogisticRegression"
      ],
      "execution_count": 155,
      "outputs": []
    },
    {
      "cell_type": "code",
      "metadata": {
        "id": "kj2DRh_IFnTt",
        "colab_type": "code",
        "colab": {}
      },
      "source": [
        "tfidf = TfidfVectorizer(max_features=1000)\n",
        "X = tfidf.fit_transform(sample.normalized)\n",
        "X = X.todense()\n",
        "X = np.asarray(X)"
      ],
      "execution_count": null,
      "outputs": []
    },
    {
      "cell_type": "code",
      "metadata": {
        "id": "W0qzmFgD3FqN",
        "colab_type": "code",
        "colab": {
          "base_uri": "https://localhost:8080/",
          "height": 35
        },
        "outputId": "82cba603-07ee-4f03-8ee5-5862f62cf694"
      },
      "source": [
        "type(X)"
      ],
      "execution_count": null,
      "outputs": [
        {
          "output_type": "execute_result",
          "data": {
            "text/plain": [
              "numpy.ndarray"
            ]
          },
          "metadata": {
            "tags": []
          },
          "execution_count": 211
        }
      ]
    },
    {
      "cell_type": "code",
      "metadata": {
        "id": "gs8bfWjsFiSv",
        "colab_type": "code",
        "colab": {
          "base_uri": "https://localhost:8080/",
          "height": 35
        },
        "outputId": "81722f45-1cbb-403c-b0c7-4ebf30b1d2a4"
      },
      "source": [
        "y = sample.toxic\n",
        "y = np.asarray(y)\n",
        "y"
      ],
      "execution_count": null,
      "outputs": [
        {
          "output_type": "execute_result",
          "data": {
            "text/plain": [
              "array([1, 0, 0, ..., 0, 0, 0])"
            ]
          },
          "metadata": {
            "tags": []
          },
          "execution_count": 225
        }
      ]
    },
    {
      "cell_type": "code",
      "metadata": {
        "id": "oNkBkcXCIPgG",
        "colab_type": "code",
        "colab": {}
      },
      "source": [
        "X_train, X_test, y_train, y_test = train_test_split(X, y, test_size=0.33, random_state=42)"
      ],
      "execution_count": null,
      "outputs": []
    },
    {
      "cell_type": "code",
      "metadata": {
        "id": "hQFguN-aCIed",
        "colab_type": "code",
        "colab": {
          "base_uri": "https://localhost:8080/",
          "height": 35
        },
        "outputId": "1aefcc24-117e-4a73-a9e4-342f9be29a47"
      },
      "source": [
        "X_train.shape"
      ],
      "execution_count": null,
      "outputs": [
        {
          "output_type": "execute_result",
          "data": {
            "text/plain": [
              "(29955, 1000)"
            ]
          },
          "metadata": {
            "tags": []
          },
          "execution_count": 272
        }
      ]
    },
    {
      "cell_type": "code",
      "metadata": {
        "id": "b7IrzH4Ux_bF",
        "colab_type": "code",
        "colab": {}
      },
      "source": [
        "lsvc = LinearSVC(C=7e-2, penalty=\"l1\", dual=False).fit(X_train, y_train)\n",
        "model = SelectFromModel(lsvc, prefit=True)\n",
        "X_train = model.transform(X_train)\n",
        "X_test = model.transform(X_test)"
      ],
      "execution_count": null,
      "outputs": []
    },
    {
      "cell_type": "code",
      "metadata": {
        "id": "VTuKf0chCOKq",
        "colab_type": "code",
        "colab": {
          "base_uri": "https://localhost:8080/",
          "height": 35
        },
        "outputId": "df884572-f861-48e2-b712-8e08d96ed102"
      },
      "source": [
        "X_train.shape"
      ],
      "execution_count": null,
      "outputs": [
        {
          "output_type": "execute_result",
          "data": {
            "text/plain": [
              "(29955, 132)"
            ]
          },
          "metadata": {
            "tags": []
          },
          "execution_count": 317
        }
      ]
    },
    {
      "cell_type": "code",
      "metadata": {
        "id": "aGFA82mjBuK5",
        "colab_type": "code",
        "colab": {}
      },
      "source": [
        "clf = LogisticRegression().fit(X_train,y_train)\n",
        "predicted = clf.predict_proba(X_test)"
      ],
      "execution_count": null,
      "outputs": []
    },
    {
      "cell_type": "code",
      "metadata": {
        "id": "ffFFQ0hhBxhD",
        "colab_type": "code",
        "colab": {
          "base_uri": "https://localhost:8080/",
          "height": 35
        },
        "outputId": "123e57a5-a2bc-4dfa-c799-623ba309359f"
      },
      "source": [
        "roc_auc_score(y_test,predicted[:,1])"
      ],
      "execution_count": null,
      "outputs": [
        {
          "output_type": "execute_result",
          "data": {
            "text/plain": [
              "0.9125579754469557"
            ]
          },
          "metadata": {
            "tags": []
          },
          "execution_count": 265
        }
      ]
    },
    {
      "cell_type": "markdown",
      "metadata": {
        "id": "nLWbKQPYEUNe",
        "colab_type": "text"
      },
      "source": [
        "Попробуем постепенно увеличивать С"
      ]
    },
    {
      "cell_type": "code",
      "metadata": {
        "id": "wc5t7My2Idxj",
        "colab_type": "code",
        "colab": {}
      },
      "source": [
        "X_train, X_test, y_train, y_test = train_test_split(X, y, test_size=0.33, random_state=42)"
      ],
      "execution_count": null,
      "outputs": []
    },
    {
      "cell_type": "code",
      "metadata": {
        "id": "TvfXAPVoDh-K",
        "colab_type": "code",
        "colab": {}
      },
      "source": [
        "lsvc = LinearSVC(C=0.1, penalty=\"l1\", dual=False).fit(X_train, y_train)\n",
        "model = SelectFromModel(lsvc, prefit=True)\n",
        "X_train = model.transform(X_train)\n",
        "X_test = model.transform(X_test)"
      ],
      "execution_count": null,
      "outputs": []
    },
    {
      "cell_type": "code",
      "metadata": {
        "id": "3Yd_l7t9FrRY",
        "colab_type": "code",
        "colab": {
          "base_uri": "https://localhost:8080/",
          "height": 35
        },
        "outputId": "981709ae-4b90-42de-ec5c-b168fc15ae5d"
      },
      "source": [
        "X_train.shape"
      ],
      "execution_count": null,
      "outputs": [
        {
          "output_type": "execute_result",
          "data": {
            "text/plain": [
              "(29955, 175)"
            ]
          },
          "metadata": {
            "tags": []
          },
          "execution_count": 310
        }
      ]
    },
    {
      "cell_type": "code",
      "metadata": {
        "id": "gevEvoZPDqxd",
        "colab_type": "code",
        "colab": {
          "base_uri": "https://localhost:8080/",
          "height": 35
        },
        "outputId": "402afc13-b005-4685-d4d9-95bb4ea11d81"
      },
      "source": [
        "clf = LogisticRegression().fit(X_train,y_train)\n",
        "predicted = clf.predict_proba(X_test)\n",
        "roc_auc_score(y_test,predicted[:,1])"
      ],
      "execution_count": null,
      "outputs": [
        {
          "output_type": "execute_result",
          "data": {
            "text/plain": [
              "0.9133957890670272"
            ]
          },
          "metadata": {
            "tags": []
          },
          "execution_count": 284
        }
      ]
    },
    {
      "cell_type": "code",
      "metadata": {
        "id": "FMoDUe6uIgFU",
        "colab_type": "code",
        "colab": {}
      },
      "source": [
        "X_train, X_test, y_train, y_test = train_test_split(X, y, test_size=0.33, random_state=42)"
      ],
      "execution_count": null,
      "outputs": []
    },
    {
      "cell_type": "code",
      "metadata": {
        "id": "2m51H-x3Dz-5",
        "colab_type": "code",
        "colab": {}
      },
      "source": [
        "lsvc = LinearSVC(C=50.0, penalty=\"l1\", dual=False).fit(X_train, y_train)\n",
        "model = SelectFromModel(lsvc, prefit=True)\n",
        "X_train = model.transform(X_train)\n",
        "X_test = model.transform(X_test)"
      ],
      "execution_count": null,
      "outputs": []
    },
    {
      "cell_type": "code",
      "metadata": {
        "id": "SLx0lKZuD4aX",
        "colab_type": "code",
        "colab": {
          "base_uri": "https://localhost:8080/",
          "height": 35
        },
        "outputId": "3146b4f7-1dad-4eb6-a4fb-d49627a7a6f2"
      },
      "source": [
        "clf = LogisticRegression().fit(X_train,y_train)\n",
        "predicted = clf.predict_proba(X_test)\n",
        "roc_auc_score(y_test,predicted[:,1])"
      ],
      "execution_count": null,
      "outputs": [
        {
          "output_type": "execute_result",
          "data": {
            "text/plain": [
              "0.9222301365011911"
            ]
          },
          "metadata": {
            "tags": []
          },
          "execution_count": 302
        }
      ]
    },
    {
      "cell_type": "code",
      "metadata": {
        "id": "s7MHkUYvFgcu",
        "colab_type": "code",
        "colab": {
          "base_uri": "https://localhost:8080/",
          "height": 35
        },
        "outputId": "0904b22c-d7ef-474a-df3e-588d75ced6c2"
      },
      "source": [
        "X_train.shape"
      ],
      "execution_count": null,
      "outputs": [
        {
          "output_type": "execute_result",
          "data": {
            "text/plain": [
              "(29955, 996)"
            ]
          },
          "metadata": {
            "tags": []
          },
          "execution_count": 303
        }
      ]
    },
    {
      "cell_type": "code",
      "metadata": {
        "id": "2NAbyKIFIh6L",
        "colab_type": "code",
        "colab": {}
      },
      "source": [
        "X_train, X_test, y_train, y_test = train_test_split(X, y, test_size=0.33, random_state=42)"
      ],
      "execution_count": null,
      "outputs": []
    },
    {
      "cell_type": "code",
      "metadata": {
        "id": "VUNE3BL6EIjp",
        "colab_type": "code",
        "colab": {}
      },
      "source": [
        "lsvc = LinearSVC(C=1000.0, penalty=\"l1\", dual=False).fit(X_train, y_train)\n",
        "model = SelectFromModel(lsvc, prefit=True)\n",
        "X_train = model.transform(X_train)\n",
        "X_test = model.transform(X_test)"
      ],
      "execution_count": null,
      "outputs": []
    },
    {
      "cell_type": "code",
      "metadata": {
        "id": "o_ZSXTAQF4Mn",
        "colab_type": "code",
        "colab": {
          "base_uri": "https://localhost:8080/",
          "height": 35
        },
        "outputId": "60ae10dc-0dd8-4301-cf0e-64176a3f0896"
      },
      "source": [
        "X_train.shape"
      ],
      "execution_count": null,
      "outputs": [
        {
          "output_type": "execute_result",
          "data": {
            "text/plain": [
              "(29955, 1000)"
            ]
          },
          "metadata": {
            "tags": []
          },
          "execution_count": 314
        }
      ]
    },
    {
      "cell_type": "code",
      "metadata": {
        "id": "RudT4Vc1ENzH",
        "colab_type": "code",
        "colab": {
          "base_uri": "https://localhost:8080/",
          "height": 35
        },
        "outputId": "70a3e4ab-c9d7-415d-a4a3-2afd86df9263"
      },
      "source": [
        "clf = LogisticRegression().fit(X_train,y_train)\n",
        "predicted = clf.predict_proba(X_test)\n",
        "roc_auc_score(y_test,predicted[:,1])"
      ],
      "execution_count": null,
      "outputs": [
        {
          "output_type": "execute_result",
          "data": {
            "text/plain": [
              "0.9222579303758074"
            ]
          },
          "metadata": {
            "tags": []
          },
          "execution_count": 313
        }
      ]
    },
    {
      "cell_type": "markdown",
      "metadata": {
        "id": "cH0rwtBMEgEa",
        "colab_type": "text"
      },
      "source": [
        "При С = 1000 получилось достичь лучших результатов, однако не произошел отбор переменных, поэтому лучше остановиться на меньшем значении С.  \n",
        "Посмотрим на коэффициенты самой первой модели. Занулилось почти 870 параметров.\n",
        "\n"
      ]
    },
    {
      "cell_type": "code",
      "metadata": {
        "id": "0JLE8X7HEmGd",
        "colab_type": "code",
        "colab": {
          "base_uri": "https://localhost:8080/",
          "height": 485
        },
        "outputId": "6c6a961a-00bc-43b9-a27e-2cb5e4059769"
      },
      "source": [
        "clf.coef_"
      ],
      "execution_count": null,
      "outputs": [
        {
          "output_type": "execute_result",
          "data": {
            "text/plain": [
              "array([[-1.67109843, -1.61743157, -1.71079683, -1.7453293 ,  1.65817494,\n",
              "         1.24279167,  1.30027784, -1.1479229 ,  1.82179602, -1.85694144,\n",
              "        -1.10882356, -1.74270268,  5.63226614, -1.64104513,  2.03716768,\n",
              "         2.57193257,  5.06720697,  4.35806545, -1.69056252, -0.79862236,\n",
              "        -1.15252429, -1.72229965,  1.88203033, -1.0974689 , -1.12287624,\n",
              "         3.50508542, -1.58312137,  4.53109046,  3.32406147,  3.00204008,\n",
              "        -1.53796293,  1.14766346,  1.93541714,  1.43932002, -1.09934837,\n",
              "        -1.90824025, -0.97659918,  3.76284162,  3.83615461,  2.59591881,\n",
              "        -1.74505933, -0.85873674,  8.59654789,  7.30791248,  4.24861673,\n",
              "         1.81906136,  1.76799501, -1.39934788,  3.20317026, -1.36923172,\n",
              "         0.71532079,  3.56730077, -1.75111519,  0.94541894,  1.63827317,\n",
              "        -1.13182223,  1.10254293, -2.70537391,  1.68866407, -2.07136486,\n",
              "         1.71493667, -1.00486184,  1.42236388,  1.57627595, -1.3769251 ,\n",
              "         2.15816917,  1.54617451, -2.15757214,  1.60357648,  1.72024684,\n",
              "         1.12541818,  1.82882231, -1.54404205,  1.11805016, -1.5768275 ,\n",
              "        -1.31588638,  1.43979677, -1.34081588,  3.93248375, -1.14008094,\n",
              "        -0.81727442,  2.08105106,  1.63230153, -0.50580681, -0.54786015,\n",
              "         1.26696157,  1.84352882,  1.83280406, -2.73288814, -1.49214135,\n",
              "         0.89345145,  1.30345683, -1.45908263, -1.67783243, -1.4681001 ,\n",
              "        -1.75911212,  1.23558927,  8.00720812,  0.84182213, -1.62082105,\n",
              "        -1.66028176,  2.62222431,  7.02070891, -1.70901192,  1.88117391,\n",
              "         5.38692058,  3.84243113, -3.00495344, -3.48798147, -2.4289431 ,\n",
              "        -1.06015466, -1.72747565, -1.49182247, -0.78184799, -0.48871784,\n",
              "        -1.93087572,  1.76707836, -2.4242844 , -1.72186306,  2.23413074,\n",
              "        -1.84455751, -0.71465395, -0.9786345 , -1.4928117 ,  1.33468233,\n",
              "        -1.30325914,  1.2465006 , -1.48402237, -2.34331331,  3.87560083,\n",
              "         2.91285572,  1.53241165]])"
            ]
          },
          "metadata": {
            "tags": []
          },
          "execution_count": 319
        }
      ]
    },
    {
      "cell_type": "markdown",
      "metadata": {
        "id": "l3kb8CPIvrxE",
        "colab_type": "text"
      },
      "source": [
        "# **Строка 3**"
      ]
    },
    {
      "cell_type": "markdown",
      "metadata": {
        "id": "DPz3BHKGHHMV",
        "colab_type": "text"
      },
      "source": [
        "Стакинг бустингов (как минимум 2 уровня xboost/catboost/lightgbm, можно использовать публичные кернелы любых соревнований) - 3 балла"
      ]
    },
    {
      "cell_type": "code",
      "metadata": {
        "id": "Vgshr4x6yIM4",
        "colab_type": "code",
        "colab": {}
      },
      "source": [
        "import xgboost\n",
        "from lightgbm import LGBMClassifier\n",
        "from xgboost import XGBClassifier\n",
        "from mlxtend.classifier import StackingCVClassifier\n",
        "import itertools\n",
        "import matplotlib.pyplot as plt\n",
        "import matplotlib.gridspec as gridspec\n",
        "import sklearn.model_selection\n",
        "from sklearn.model_selection import cross_val_score, train_test_split\n",
        "from sklearn.model_selection import KFold"
      ],
      "execution_count": null,
      "outputs": []
    },
    {
      "cell_type": "code",
      "metadata": {
        "id": "z0DdMU8SG54E",
        "colab_type": "code",
        "colab": {}
      },
      "source": [
        "X_train, X_test, y_train, y_test = train_test_split(X, y, test_size=0.33, random_state=42)"
      ],
      "execution_count": null,
      "outputs": []
    },
    {
      "cell_type": "code",
      "metadata": {
        "id": "-An01vT80kjU",
        "colab_type": "code",
        "colab": {
          "base_uri": "https://localhost:8080/",
          "height": 35
        },
        "outputId": "180259bc-84b7-40ed-89d4-f9a0363b3801"
      },
      "source": [
        "X_train.shape"
      ],
      "execution_count": null,
      "outputs": [
        {
          "output_type": "execute_result",
          "data": {
            "text/plain": [
              "(29955, 1000)"
            ]
          },
          "metadata": {
            "tags": []
          },
          "execution_count": 325
        }
      ]
    },
    {
      "cell_type": "markdown",
      "metadata": {
        "id": "BXx-KoH3Iviy",
        "colab_type": "text"
      },
      "source": [
        "Я пробовала разные параметры lgbm и xgb_model, а также меняла количество cv. Такие параметры показали лучший результат. "
      ]
    },
    {
      "cell_type": "code",
      "metadata": {
        "id": "ljxXZfI4yIdD",
        "colab_type": "code",
        "colab": {}
      },
      "source": [
        "lgbm = LGBMClassifier(learning_rate=1e-2, n_estimators=1000, silent = False)\n",
        "xgb_model = xgboost.XGBClassifier(learning_rate=1e-2, n_estimators=1000, verbosity=3)\n",
        "lr = LogisticRegression()\n",
        "sclf = StackingCVClassifier(classifiers=[lgbm, xgb_model], use_probas= True,\n",
        "                          meta_classifier=lr, cv = 5, verbose=5)"
      ],
      "execution_count": null,
      "outputs": []
    },
    {
      "cell_type": "code",
      "metadata": {
        "id": "M-5aXZycs0Kh",
        "colab_type": "code",
        "colab": {}
      },
      "source": [
        "sclf.fit(X_train, y_train)\n",
        "\n",
        "y_pred = sclf.predict_proba(X_test)\n",
        "auc = roc_auc_score(y_test, y_pred[:, 1])"
      ],
      "execution_count": null,
      "outputs": []
    },
    {
      "cell_type": "code",
      "metadata": {
        "id": "xX_uA814BZ9L",
        "colab_type": "code",
        "colab": {
          "base_uri": "https://localhost:8080/",
          "height": 35
        },
        "outputId": "239b271b-1019-4c75-b8c7-771f9969cfe8"
      },
      "source": [
        "print(auc)"
      ],
      "execution_count": null,
      "outputs": [
        {
          "output_type": "stream",
          "text": [
            "0.9190097224905028\n"
          ],
          "name": "stdout"
        }
      ]
    },
    {
      "cell_type": "markdown",
      "metadata": {
        "id": "XLxkFV_mFsdF",
        "colab_type": "text"
      },
      "source": [
        "# **Строка 4**\n",
        "\n",
        "\n",
        "Любая нейронная модель (минимум 5 слоев) с Dropout, Pooling и колбеками - 2 балла\n"
      ]
    },
    {
      "cell_type": "code",
      "metadata": {
        "id": "uNa06LYu8Wfg",
        "colab_type": "code",
        "colab": {}
      },
      "source": [
        "import tensorflow as tf\n",
        "\n",
        "from tensorflow import keras"
      ],
      "execution_count": null,
      "outputs": []
    },
    {
      "cell_type": "code",
      "metadata": {
        "id": "oTyoJNNuHFiL",
        "colab_type": "code",
        "colab": {}
      },
      "source": [
        "def preprocess(text):\n",
        "    tokens = text.split()\n",
        "    tokens = [token for token in tokens]\n",
        "    return tokens"
      ],
      "execution_count": null,
      "outputs": []
    },
    {
      "cell_type": "code",
      "metadata": {
        "id": "-EHGdgtIOLl_",
        "colab_type": "code",
        "colab": {}
      },
      "source": [
        "vocab = Counter()\n",
        "for text in sample.normalized:\n",
        "    vocab.update(preprocess(text))"
      ],
      "execution_count": null,
      "outputs": []
    },
    {
      "cell_type": "code",
      "metadata": {
        "id": "RSLxCq2oOMvn",
        "colab_type": "code",
        "colab": {}
      },
      "source": [
        "word2id = {'UNK':1, 'PAD':0}\n",
        "for word in vocab:\n",
        "  if vocab[word] > 5:\n",
        "    word2id[word] = len(word2id)\n",
        "id2word = {i:word for word, i in word2id.items()}"
      ],
      "execution_count": null,
      "outputs": []
    },
    {
      "cell_type": "code",
      "metadata": {
        "id": "JVLitovRaCx7",
        "colab_type": "code",
        "colab": {}
      },
      "source": [
        "MAX_LEN = 70"
      ],
      "execution_count": null,
      "outputs": []
    },
    {
      "cell_type": "code",
      "metadata": {
        "id": "NGh9XG50OMoi",
        "colab_type": "code",
        "colab": {}
      },
      "source": [
        "X = []\n",
        "\n",
        "for text in sample.normalized:\n",
        "    tokens = preprocess(text)\n",
        "    ids = [word2id.get(token, 1) for token in tokens][:MAX_LEN]\n",
        "    X.append(ids)"
      ],
      "execution_count": null,
      "outputs": []
    },
    {
      "cell_type": "code",
      "metadata": {
        "id": "Qwvb6BnfQun2",
        "colab_type": "code",
        "colab": {}
      },
      "source": [
        "X = tf.keras.preprocessing.sequence.pad_sequences(X, maxlen=MAX_LEN)"
      ],
      "execution_count": null,
      "outputs": []
    },
    {
      "cell_type": "code",
      "metadata": {
        "id": "gRhBKhWmQ0X2",
        "colab_type": "code",
        "colab": {
          "base_uri": "https://localhost:8080/",
          "height": 35
        },
        "outputId": "1755560a-36e2-4310-9246-7b9c8eb0c50f"
      },
      "source": [
        "X.shape"
      ],
      "execution_count": null,
      "outputs": [
        {
          "output_type": "execute_result",
          "data": {
            "text/plain": [
              "(44710, 70)"
            ]
          },
          "metadata": {
            "tags": []
          },
          "execution_count": 103
        }
      ]
    },
    {
      "cell_type": "code",
      "metadata": {
        "id": "DMsaxeh_Q7i1",
        "colab_type": "code",
        "colab": {}
      },
      "source": [
        "X_train, X_valid, y_train, y_valid = train_test_split(X, y, test_size=0.33, random_state=42)"
      ],
      "execution_count": null,
      "outputs": []
    },
    {
      "cell_type": "code",
      "metadata": {
        "id": "2HLEfU1j5pNE",
        "colab_type": "code",
        "colab": {}
      },
      "source": [
        "callback1 = tf.keras.callbacks.TerminateOnNaN()\n",
        "callback2 = tf.keras.callbacks.EarlyStopping(patience=10,verbose=1)"
      ],
      "execution_count": null,
      "outputs": []
    },
    {
      "cell_type": "code",
      "metadata": {
        "id": "-Bj5EgwhIJEI",
        "colab_type": "code",
        "colab": {}
      },
      "source": [
        "inputs = tf.keras.layers.Input(shape=(MAX_LEN,))\n",
        "embeddings = tf.keras.layers.Embedding(input_dim=len(word2id), output_dim=50)(inputs, )\n",
        "\n",
        "\n",
        "conv1 = tf.keras.layers.Conv1D(kernel_size=5, filters=32, strides=2, activation='relu', padding='same')(embeddings)\n",
        "conv2 = tf.keras.layers.Conv1D(kernel_size=5, filters=32, strides=2, activation='relu', padding='same')(conv1)\n",
        "conv3 = tf.keras.layers.Conv1D(kernel_size=5, filters=32, strides=2, activation='relu', padding='same')(conv2)\n",
        "conv4 = tf.keras.layers.Conv1D(kernel_size=5, filters=32, strides=2, activation='relu', padding='same')(conv3)\n",
        "conv5 = tf.keras.layers.Conv1D(kernel_size=5, filters=32, strides=1, activation='relu', padding='same')(conv4)\n",
        "pool1 = tf.keras.layers.AveragePooling1D()(conv5)\n",
        "drop1 = tf.keras.layers.Dropout(0.05)(pool1)\n",
        "\n",
        "\n",
        "flatten = tf.keras.layers.Flatten()(drop1)\n",
        "dense = tf.keras.layers.Dense(64)(flatten)\n",
        "relu = tf.keras.layers.ReLU()(dense)\n",
        "outputs = tf.keras.layers.Dense(1, activation='sigmoid')(relu)\n",
        "\n",
        "model = tf.keras.Model(inputs=inputs, outputs=outputs)\n",
        "optimizer = tf.keras.optimizers.Adam(learning_rate=0.001)\n",
        "model.compile(optimizer=optimizer,\n",
        "              loss='binary_crossentropy',\n",
        "              metrics=['accuracy'])"
      ],
      "execution_count": null,
      "outputs": []
    },
    {
      "cell_type": "code",
      "metadata": {
        "id": "mIFfW4vrI4dn",
        "colab_type": "code",
        "colab": {
          "base_uri": "https://localhost:8080/",
          "height": 401
        },
        "outputId": "275f615e-2d91-426a-8eb6-b1e6a364f813"
      },
      "source": [
        "model.fit(X_train, y_train, \n",
        "          validation_data=(X_valid, y_valid),\n",
        "          batch_size=32,\n",
        "         epochs=10,\n",
        "        callbacks=[callback1,callback2]) # 462"
      ],
      "execution_count": null,
      "outputs": [
        {
          "output_type": "stream",
          "text": [
            "Epoch 1/10\n",
            "937/937 [==============================] - 12s 13ms/step - loss: 9.9939e-04 - accuracy: 0.9996 - val_loss: 0.8052 - val_accuracy: 0.9470\n",
            "Epoch 2/10\n",
            "937/937 [==============================] - 12s 13ms/step - loss: 8.0720e-04 - accuracy: 0.9997 - val_loss: 1.1297 - val_accuracy: 0.9455\n",
            "Epoch 3/10\n",
            "937/937 [==============================] - 12s 13ms/step - loss: 0.0068 - accuracy: 0.9984 - val_loss: 0.5002 - val_accuracy: 0.9383\n",
            "Epoch 4/10\n",
            "937/937 [==============================] - 13s 13ms/step - loss: 0.0014 - accuracy: 0.9997 - val_loss: 0.6660 - val_accuracy: 0.9461\n",
            "Epoch 5/10\n",
            "937/937 [==============================] - 12s 13ms/step - loss: 6.2121e-04 - accuracy: 0.9998 - val_loss: 0.6132 - val_accuracy: 0.9465\n",
            "Epoch 6/10\n",
            "937/937 [==============================] - 12s 13ms/step - loss: 4.5638e-04 - accuracy: 0.9998 - val_loss: 0.8209 - val_accuracy: 0.9455\n",
            "Epoch 7/10\n",
            "937/937 [==============================] - 12s 13ms/step - loss: 9.8456e-04 - accuracy: 0.9997 - val_loss: 0.7871 - val_accuracy: 0.9461\n",
            "Epoch 8/10\n",
            "937/937 [==============================] - 12s 13ms/step - loss: 0.0031 - accuracy: 0.9989 - val_loss: 0.5716 - val_accuracy: 0.9440\n",
            "Epoch 9/10\n",
            "937/937 [==============================] - 12s 13ms/step - loss: 0.0031 - accuracy: 0.9993 - val_loss: 0.7496 - val_accuracy: 0.9440\n",
            "Epoch 10/10\n",
            "937/937 [==============================] - 13s 13ms/step - loss: 5.1354e-04 - accuracy: 0.9998 - val_loss: 0.7193 - val_accuracy: 0.9432\n"
          ],
          "name": "stdout"
        },
        {
          "output_type": "execute_result",
          "data": {
            "text/plain": [
              "<tensorflow.python.keras.callbacks.History at 0x7f2caadc2ac8>"
            ]
          },
          "metadata": {
            "tags": []
          },
          "execution_count": 109
        }
      ]
    },
    {
      "cell_type": "code",
      "metadata": {
        "id": "dy1sNns1JuzZ",
        "colab_type": "code",
        "colab": {}
      },
      "source": [
        "predicted = model.predict(X_valid)"
      ],
      "execution_count": null,
      "outputs": []
    },
    {
      "cell_type": "code",
      "metadata": {
        "id": "4_30QsePZZuK",
        "colab_type": "code",
        "colab": {
          "base_uri": "https://localhost:8080/",
          "height": 139
        },
        "outputId": "41cefcd8-ad21-4169-85f2-b31b28929379"
      },
      "source": [
        "predicted"
      ],
      "execution_count": null,
      "outputs": [
        {
          "output_type": "execute_result",
          "data": {
            "text/plain": [
              "array([[5.5169530e-13],\n",
              "       [2.5479597e-08],\n",
              "       [9.5141255e-14],\n",
              "       ...,\n",
              "       [4.2946979e-17],\n",
              "       [1.9278281e-13],\n",
              "       [1.4572178e-09]], dtype=float32)"
            ]
          },
          "metadata": {
            "tags": []
          },
          "execution_count": 111
        }
      ]
    },
    {
      "cell_type": "code",
      "metadata": {
        "id": "l0VTOA4vZDzM",
        "colab_type": "code",
        "colab": {
          "base_uri": "https://localhost:8080/",
          "height": 35
        },
        "outputId": "2926c213-77ad-472d-c84a-f5175384a52e"
      },
      "source": [
        "roc_auc_score(y_valid,predicted)"
      ],
      "execution_count": null,
      "outputs": [
        {
          "output_type": "execute_result",
          "data": {
            "text/plain": [
              "0.9063147361191595"
            ]
          },
          "metadata": {
            "tags": []
          },
          "execution_count": 112
        }
      ]
    },
    {
      "cell_type": "markdown",
      "metadata": {
        "id": "LrbSxh-Imiae",
        "colab_type": "text"
      },
      "source": [
        "# **Строка 5**"
      ]
    },
    {
      "cell_type": "markdown",
      "metadata": {
        "id": "DNgMHDMvmy1D",
        "colab_type": "text"
      },
      "source": [
        "Поиск признаков, которые могут обобщаться на многоязычные данные (минимум 10 признаков рассмотрено,, обучать можно любую модель, оценивать нужно на validation.csv)  - 3 балла"
      ]
    },
    {
      "cell_type": "code",
      "metadata": {
        "id": "Qm7F8_yTJ9dr",
        "colab_type": "code",
        "colab": {}
      },
      "source": [
        "from sklearn import preprocessing"
      ],
      "execution_count": 177,
      "outputs": []
    },
    {
      "cell_type": "code",
      "metadata": {
        "id": "MILxwc7o9qDI",
        "colab_type": "code",
        "colab": {}
      },
      "source": [
        "train= toxic_data.sample(frac=0.2, replace=True, random_state=1)"
      ],
      "execution_count": 149,
      "outputs": []
    },
    {
      "cell_type": "code",
      "metadata": {
        "id": "PTMVZELL_Shw",
        "colab_type": "code",
        "colab": {}
      },
      "source": [
        "train['normalized'] = train['comment_text'].apply(lambda x: normalize(x))"
      ],
      "execution_count": 150,
      "outputs": []
    },
    {
      "cell_type": "code",
      "metadata": {
        "id": "ZOosLeBdtbsE",
        "colab_type": "code",
        "colab": {}
      },
      "source": [
        "valid = pd.read_csv('validation.csv')"
      ],
      "execution_count": 151,
      "outputs": []
    },
    {
      "cell_type": "code",
      "metadata": {
        "id": "6-3gM-wKtgfq",
        "colab_type": "code",
        "colab": {
          "base_uri": "https://localhost:8080/",
          "height": 225
        },
        "outputId": "4a312326-098a-4237-ec99-f04e08581958"
      },
      "source": [
        "valid.comment_text"
      ],
      "execution_count": null,
      "outputs": [
        {
          "output_type": "execute_result",
          "data": {
            "text/plain": [
              "0       Este usuario ni siquiera llega al rango de    ...\n",
              "1       Il testo di questa voce pare esser scopiazzato...\n",
              "2       Vale. Sólo expongo mi pasado. Todo tiempo pasa...\n",
              "3       Bu maddenin alt başlığı olarak  uluslararası i...\n",
              "4       Belçika nın şehirlerinin yanında ilçe ve belde...\n",
              "                              ...                        \n",
              "7995     Il fatto è che la pagina dei personaggi minor...\n",
              "7996    El imbesil ete dela luna no se entera ni ostia...\n",
              "7997    olum sız manyakmısınz siz adam sıze sanal yıld...\n",
              "7998    El mapa del reinado de Alhaken esta ligerament...\n",
              "7999    lasciami la tua email per favore. ad ogni modo...\n",
              "Name: comment_text, Length: 8000, dtype: object"
            ]
          },
          "metadata": {
            "tags": []
          },
          "execution_count": 141
        }
      ]
    },
    {
      "cell_type": "code",
      "metadata": {
        "id": "GP7thPSksV-f",
        "colab_type": "code",
        "colab": {
          "base_uri": "https://localhost:8080/",
          "height": 52
        },
        "outputId": "c8e41f88-2501-4525-fed8-1ed1608f9f8b"
      },
      "source": [
        "import nltk\n",
        "nltk.download('punkt')\n",
        "from nltk import sent_tokenize"
      ],
      "execution_count": null,
      "outputs": [
        {
          "output_type": "stream",
          "text": [
            "[nltk_data] Downloading package punkt to /root/nltk_data...\n",
            "[nltk_data]   Package punkt is already up-to-date!\n"
          ],
          "name": "stdout"
        }
      ]
    },
    {
      "cell_type": "code",
      "metadata": {
        "id": "TugcZFzDmr3T",
        "colab_type": "code",
        "colab": {}
      },
      "source": [
        "def upper_case_ratio(text):\n",
        "  length_of_text = len(text)\n",
        "  upper_case = 0\n",
        "  for char in text:\n",
        "    if char not in string.punctuation and char != \" \":\n",
        "      if char.upper() == char:\n",
        "        upper_case += 1\n",
        "  return upper_case/length_of_text"
      ],
      "execution_count": 129,
      "outputs": []
    },
    {
      "cell_type": "code",
      "metadata": {
        "id": "Xw-cdVog0_dH",
        "colab_type": "code",
        "colab": {}
      },
      "source": [
        "def number_ratio(text):\n",
        "  nums =0\n",
        "  for char in text:\n",
        "    if char.isnumeric():\n",
        "      nums+=1\n",
        "  return nums/len(text)"
      ],
      "execution_count": 130,
      "outputs": []
    },
    {
      "cell_type": "code",
      "metadata": {
        "id": "NfCAkVgJph_1",
        "colab_type": "code",
        "colab": {}
      },
      "source": [
        "def average_sent_length(text):\n",
        "  sent_number = 0\n",
        "  word_number = 0\n",
        "  words = word_tokenize(text)\n",
        "  sents = sent_tokenize(text)\n",
        "  for sent in sents:\n",
        "    sent_number+=1\n",
        "  for word in words:\n",
        "    word_number+=1\n",
        "  return word_number/sent_number"
      ],
      "execution_count": 131,
      "outputs": []
    },
    {
      "cell_type": "code",
      "metadata": {
        "id": "aNNUPbPqxKR0",
        "colab_type": "code",
        "colab": {}
      },
      "source": [
        "def average_token_length(text):\n",
        "  length = 0\n",
        "  tokens=text.split(' ')\n",
        "  if len(tokens) != 0:\n",
        "    for token in tokens:\n",
        "      length+= len(token)\n",
        "  return length/len(tokens)"
      ],
      "execution_count": 132,
      "outputs": []
    },
    {
      "cell_type": "code",
      "metadata": {
        "id": "Q3CwFpH0tO4e",
        "colab_type": "code",
        "colab": {}
      },
      "source": [
        "def punctuation_ratio(text):\n",
        "  length_of_text = len(text)\n",
        "  puncts = 0\n",
        "  for char in text:\n",
        "    if char in string.punctuation:\n",
        "      puncts+=1\n",
        "  return puncts/length_of_text"
      ],
      "execution_count": 133,
      "outputs": []
    },
    {
      "cell_type": "code",
      "metadata": {
        "id": "kNM_y7UrvaBi",
        "colab_type": "code",
        "colab": {}
      },
      "source": [
        "def longest_punct_chain(text):\n",
        "    max_length = 0\n",
        "    punct_number = 0\n",
        "    tokens=text.split(' ')\n",
        "    # print(tokens)\n",
        "    for i in range(len(tokens)):\n",
        "        if punct_number == 0 and tokens[i] in string.punctuation:\n",
        "            punct_number = 1\n",
        "        if i < 1:\n",
        "            continue\n",
        "        if tokens[i] == tokens[i-1] and tokens[i] in string.punctuation:\n",
        "            punct_number+=1\n",
        "        else:\n",
        "            max_length = max(punct_number, max_length)\n",
        "            punct_number = 0          \n",
        "    return max(max_length, punct_number)"
      ],
      "execution_count": 145,
      "outputs": []
    },
    {
      "cell_type": "code",
      "metadata": {
        "id": "m9lhQ-NRlZe1",
        "colab_type": "code",
        "colab": {}
      },
      "source": [
        "def longest_token(text):\n",
        "    tokens=text.split()\n",
        "    return max(map(len, tokens))"
      ],
      "execution_count": 135,
      "outputs": []
    },
    {
      "cell_type": "code",
      "metadata": {
        "id": "0jTcYzawo23F",
        "colab_type": "code",
        "colab": {}
      },
      "source": [
        "def bracket_number(text):\n",
        "  br_number = 0\n",
        "  sents = sent_tokenize(text)\n",
        "  for s in sents:\n",
        "    matches = re.findall(\"[{}]|[\\(\\)]|[\\[\\]]\", s)\n",
        "    # print(matches)\n",
        "    for m in matches:\n",
        "      br_number+=1\n",
        "  return br_number"
      ],
      "execution_count": 146,
      "outputs": []
    },
    {
      "cell_type": "code",
      "metadata": {
        "id": "lHBAawpNtO0C",
        "colab_type": "code",
        "colab": {}
      },
      "source": [
        "def compare_punct_num(text):\n",
        "  n_sents = 1\n",
        "  tokens = text.split()\n",
        "  punct = ['!', '?', '.']\n",
        "  for i in range(len(tokens)-1):\n",
        "    if tokens[i] in punct:\n",
        "      if tokens[i+1] not in string.punctuation:\n",
        "         n_sents+=1\n",
        "  puncts = 0\n",
        "  for char in text:\n",
        "    if char in string.punctuation:\n",
        "      puncts+=1\n",
        "  return puncts/n_sents"
      ],
      "execution_count": 143,
      "outputs": []
    },
    {
      "cell_type": "code",
      "metadata": {
        "id": "5xJGu1Z33QoN",
        "colab_type": "code",
        "colab": {}
      },
      "source": [
        "def text_length(text):\n",
        "  return len(text)"
      ],
      "execution_count": 138,
      "outputs": []
    },
    {
      "cell_type": "code",
      "metadata": {
        "id": "B2ZLKUV7v5SF",
        "colab_type": "code",
        "colab": {}
      },
      "source": [
        "train['text_length'] = train['normalized'].apply(text_length)\n",
        "train['upper_case_ratio'] = train['normalized'].apply(upper_case_ratio)\n",
        "train['average_sent_length'] = train['normalized'].apply(average_sent_length)\n",
        "train['average_token_length'] = train['normalized'].apply(average_token_length)\n",
        "train['punctuation_ratio'] = train['normalized'].apply(punctuation_ratio)\n",
        "train['longest_punct_chain'] = train['normalized'].apply(longest_punct_chain)\n",
        "train['longest_token'] = train['normalized'].apply(longest_token)\n",
        "train['bracket_number'] = train['normalized'].apply(bracket_number)\n",
        "train['compare_punct_num'] = train['normalized'].apply(compare_punct_num)\n",
        "train['number_ratio'] = train['normalized'].apply(number_ratio)\n",
        "\n",
        "valid['normalized'] = valid['comment_text'].apply(normalize)\n",
        "\n",
        "valid['text_length'] = valid['normalized'].apply(text_length)\n",
        "valid['upper_case_ratio'] = valid['normalized'].apply(upper_case_ratio)\n",
        "valid['average_sent_length'] = valid['normalized'].apply(average_sent_length)\n",
        "valid['average_token_length'] = valid['normalized'].apply(average_token_length)\n",
        "valid['punctuation_ratio'] = valid['normalized'].apply(punctuation_ratio)\n",
        "valid['longest_punct_chain'] = valid['normalized'].apply(longest_punct_chain)\n",
        "valid['longest_token'] = valid['normalized'].apply(longest_token)\n",
        "valid['bracket_number'] = valid['normalized'].apply(bracket_number)\n",
        "valid['compare_punct_num'] = valid['normalized'].apply(compare_punct_num)\n",
        "valid['number_ratio'] = valid['normalized'].apply(number_ratio)"
      ],
      "execution_count": 152,
      "outputs": []
    },
    {
      "cell_type": "code",
      "metadata": {
        "id": "jhfAkhKXBS5H",
        "colab_type": "code",
        "colab": {}
      },
      "source": [
        "del train['severe_toxic']\n",
        "del train['threat']\n",
        "del train['obscene']\n",
        "del train['identity_hate']"
      ],
      "execution_count": 160,
      "outputs": []
    },
    {
      "cell_type": "code",
      "metadata": {
        "id": "cnUybKFbEUQR",
        "colab_type": "code",
        "colab": {}
      },
      "source": [
        "del train['id']\n",
        "del train['comment_text']\n",
        "del train['normalized']"
      ],
      "execution_count": 164,
      "outputs": []
    },
    {
      "cell_type": "code",
      "metadata": {
        "id": "t8LX9k_cDxog",
        "colab_type": "code",
        "colab": {
          "base_uri": "https://localhost:8080/",
          "height": 222
        },
        "outputId": "23b828a9-4b93-40e9-ec2a-8703d41f43c4"
      },
      "source": [
        "train.head(5)"
      ],
      "execution_count": 178,
      "outputs": [
        {
          "output_type": "execute_result",
          "data": {
            "text/html": [
              "<div>\n",
              "<style scoped>\n",
              "    .dataframe tbody tr th:only-of-type {\n",
              "        vertical-align: middle;\n",
              "    }\n",
              "\n",
              "    .dataframe tbody tr th {\n",
              "        vertical-align: top;\n",
              "    }\n",
              "\n",
              "    .dataframe thead th {\n",
              "        text-align: right;\n",
              "    }\n",
              "</style>\n",
              "<table border=\"1\" class=\"dataframe\">\n",
              "  <thead>\n",
              "    <tr style=\"text-align: right;\">\n",
              "      <th></th>\n",
              "      <th>toxic</th>\n",
              "      <th>text_length</th>\n",
              "      <th>upper_case_ratio</th>\n",
              "      <th>average_sent_length</th>\n",
              "      <th>average_token_length</th>\n",
              "      <th>punctuation_ratio</th>\n",
              "      <th>longest_punct_chain</th>\n",
              "      <th>longest_token</th>\n",
              "      <th>bracket_number</th>\n",
              "      <th>compare_punct_num</th>\n",
              "      <th>number_ratio</th>\n",
              "    </tr>\n",
              "  </thead>\n",
              "  <tbody>\n",
              "    <tr>\n",
              "      <th>128037</th>\n",
              "      <td>1</td>\n",
              "      <td>57</td>\n",
              "      <td>0.070175</td>\n",
              "      <td>2.75</td>\n",
              "      <td>2.222222</td>\n",
              "      <td>0.087719</td>\n",
              "      <td>3</td>\n",
              "      <td>9</td>\n",
              "      <td>2</td>\n",
              "      <td>2.5</td>\n",
              "      <td>0.000000</td>\n",
              "    </tr>\n",
              "    <tr>\n",
              "      <th>208780</th>\n",
              "      <td>0</td>\n",
              "      <td>145</td>\n",
              "      <td>0.075862</td>\n",
              "      <td>15.00</td>\n",
              "      <td>2.945946</td>\n",
              "      <td>0.055172</td>\n",
              "      <td>1</td>\n",
              "      <td>10</td>\n",
              "      <td>0</td>\n",
              "      <td>4.0</td>\n",
              "      <td>0.055172</td>\n",
              "    </tr>\n",
              "    <tr>\n",
              "      <th>5192</th>\n",
              "      <td>0</td>\n",
              "      <td>44</td>\n",
              "      <td>0.068182</td>\n",
              "      <td>9.00</td>\n",
              "      <td>3.500000</td>\n",
              "      <td>0.068182</td>\n",
              "      <td>1</td>\n",
              "      <td>8</td>\n",
              "      <td>0</td>\n",
              "      <td>3.0</td>\n",
              "      <td>0.000000</td>\n",
              "    </tr>\n",
              "    <tr>\n",
              "      <th>50057</th>\n",
              "      <td>0</td>\n",
              "      <td>35</td>\n",
              "      <td>0.057143</td>\n",
              "      <td>3.50</td>\n",
              "      <td>2.272727</td>\n",
              "      <td>0.057143</td>\n",
              "      <td>1</td>\n",
              "      <td>7</td>\n",
              "      <td>0</td>\n",
              "      <td>1.0</td>\n",
              "      <td>0.000000</td>\n",
              "    </tr>\n",
              "    <tr>\n",
              "      <th>109259</th>\n",
              "      <td>0</td>\n",
              "      <td>33</td>\n",
              "      <td>0.030303</td>\n",
              "      <td>7.00</td>\n",
              "      <td>2.400000</td>\n",
              "      <td>0.060606</td>\n",
              "      <td>1</td>\n",
              "      <td>8</td>\n",
              "      <td>0</td>\n",
              "      <td>2.0</td>\n",
              "      <td>0.000000</td>\n",
              "    </tr>\n",
              "  </tbody>\n",
              "</table>\n",
              "</div>"
            ],
            "text/plain": [
              "        toxic  text_length  ...  compare_punct_num  number_ratio\n",
              "128037      1           57  ...                2.5      0.000000\n",
              "208780      0          145  ...                4.0      0.055172\n",
              "5192        0           44  ...                3.0      0.000000\n",
              "50057       0           35  ...                1.0      0.000000\n",
              "109259      0           33  ...                2.0      0.000000\n",
              "\n",
              "[5 rows x 11 columns]"
            ]
          },
          "metadata": {
            "tags": []
          },
          "execution_count": 178
        }
      ]
    },
    {
      "cell_type": "code",
      "metadata": {
        "id": "A5GcZeTYFWDb",
        "colab_type": "code",
        "colab": {}
      },
      "source": [
        "X = train.loc[:, train.columns != 'toxic']"
      ],
      "execution_count": 169,
      "outputs": []
    },
    {
      "cell_type": "code",
      "metadata": {
        "id": "mmnURHzkEz5j",
        "colab_type": "code",
        "colab": {}
      },
      "source": [
        "y = train.toxic"
      ],
      "execution_count": 168,
      "outputs": []
    },
    {
      "cell_type": "code",
      "metadata": {
        "id": "gNuUGooAK1kR",
        "colab_type": "code",
        "colab": {}
      },
      "source": [
        "scaler = preprocessing.StandardScaler()\n",
        "X_train = scaler.fit_transform(X)"
      ],
      "execution_count": 188,
      "outputs": []
    },
    {
      "cell_type": "code",
      "metadata": {
        "id": "DwJvAwWqCiy8",
        "colab_type": "code",
        "colab": {}
      },
      "source": [
        "del valid['lang']\n",
        "del valid['comment_text']\n",
        "del valid['id']\n",
        "del valid['normalized']"
      ],
      "execution_count": 166,
      "outputs": []
    },
    {
      "cell_type": "code",
      "metadata": {
        "id": "BnBMAPL6FN-e",
        "colab_type": "code",
        "colab": {
          "base_uri": "https://localhost:8080/",
          "height": 222
        },
        "outputId": "4e301c96-ace2-47a6-c254-1046df1fe0de"
      },
      "source": [
        "valid.head(5)"
      ],
      "execution_count": 170,
      "outputs": [
        {
          "output_type": "execute_result",
          "data": {
            "text/html": [
              "<div>\n",
              "<style scoped>\n",
              "    .dataframe tbody tr th:only-of-type {\n",
              "        vertical-align: middle;\n",
              "    }\n",
              "\n",
              "    .dataframe tbody tr th {\n",
              "        vertical-align: top;\n",
              "    }\n",
              "\n",
              "    .dataframe thead th {\n",
              "        text-align: right;\n",
              "    }\n",
              "</style>\n",
              "<table border=\"1\" class=\"dataframe\">\n",
              "  <thead>\n",
              "    <tr style=\"text-align: right;\">\n",
              "      <th></th>\n",
              "      <th>toxic</th>\n",
              "      <th>text_length</th>\n",
              "      <th>upper_case_ratio</th>\n",
              "      <th>average_sent_length</th>\n",
              "      <th>average_token_length</th>\n",
              "      <th>punctuation_ratio</th>\n",
              "      <th>longest_punct_chain</th>\n",
              "      <th>longest_token</th>\n",
              "      <th>bracket_number</th>\n",
              "      <th>compare_punct_num</th>\n",
              "      <th>number_ratio</th>\n",
              "    </tr>\n",
              "  </thead>\n",
              "  <tbody>\n",
              "    <tr>\n",
              "      <th>0</th>\n",
              "      <td>0</td>\n",
              "      <td>268</td>\n",
              "      <td>0.070896</td>\n",
              "      <td>12.250000</td>\n",
              "      <td>2.736111</td>\n",
              "      <td>0.029851</td>\n",
              "      <td>6</td>\n",
              "      <td>9</td>\n",
              "      <td>2</td>\n",
              "      <td>2.000000</td>\n",
              "      <td>0.044776</td>\n",
              "    </tr>\n",
              "    <tr>\n",
              "      <th>1</th>\n",
              "      <td>0</td>\n",
              "      <td>136</td>\n",
              "      <td>0.014706</td>\n",
              "      <td>11.500000</td>\n",
              "      <td>4.074074</td>\n",
              "      <td>0.022059</td>\n",
              "      <td>1</td>\n",
              "      <td>12</td>\n",
              "      <td>0</td>\n",
              "      <td>1.500000</td>\n",
              "      <td>0.000000</td>\n",
              "    </tr>\n",
              "    <tr>\n",
              "      <th>2</th>\n",
              "      <td>1</td>\n",
              "      <td>178</td>\n",
              "      <td>0.039326</td>\n",
              "      <td>6.800000</td>\n",
              "      <td>3.475000</td>\n",
              "      <td>0.033708</td>\n",
              "      <td>1</td>\n",
              "      <td>10</td>\n",
              "      <td>0</td>\n",
              "      <td>1.200000</td>\n",
              "      <td>0.011236</td>\n",
              "    </tr>\n",
              "    <tr>\n",
              "      <th>3</th>\n",
              "      <td>0</td>\n",
              "      <td>415</td>\n",
              "      <td>0.007229</td>\n",
              "      <td>20.666667</td>\n",
              "      <td>4.698630</td>\n",
              "      <td>0.026506</td>\n",
              "      <td>1</td>\n",
              "      <td>13</td>\n",
              "      <td>0</td>\n",
              "      <td>3.666667</td>\n",
              "      <td>0.000000</td>\n",
              "    </tr>\n",
              "    <tr>\n",
              "      <th>4</th>\n",
              "      <td>0</td>\n",
              "      <td>452</td>\n",
              "      <td>0.015487</td>\n",
              "      <td>7.555556</td>\n",
              "      <td>3.923913</td>\n",
              "      <td>0.028761</td>\n",
              "      <td>5</td>\n",
              "      <td>13</td>\n",
              "      <td>2</td>\n",
              "      <td>1.857143</td>\n",
              "      <td>0.004425</td>\n",
              "    </tr>\n",
              "  </tbody>\n",
              "</table>\n",
              "</div>"
            ],
            "text/plain": [
              "   toxic  text_length  ...  compare_punct_num  number_ratio\n",
              "0      0          268  ...           2.000000      0.044776\n",
              "1      0          136  ...           1.500000      0.000000\n",
              "2      1          178  ...           1.200000      0.011236\n",
              "3      0          415  ...           3.666667      0.000000\n",
              "4      0          452  ...           1.857143      0.004425\n",
              "\n",
              "[5 rows x 11 columns]"
            ]
          },
          "metadata": {
            "tags": []
          },
          "execution_count": 170
        }
      ]
    },
    {
      "cell_type": "code",
      "metadata": {
        "id": "By4hCG2IFx_y",
        "colab_type": "code",
        "colab": {}
      },
      "source": [
        "X_test = valid.loc[:, valid.columns != 'toxic']\n",
        "X_test = scaler.transform(X_test)\n",
        "y_test = valid.toxic"
      ],
      "execution_count": 189,
      "outputs": []
    },
    {
      "cell_type": "code",
      "metadata": {
        "id": "Z3VqPv4sMNLP",
        "colab_type": "code",
        "colab": {
          "base_uri": "https://localhost:8080/",
          "height": 243
        },
        "outputId": "25f3bba6-8cd9-4b67-cf09-c2cf1dfa68d6"
      },
      "source": [
        "X_train"
      ],
      "execution_count": 191,
      "outputs": [
        {
          "output_type": "execute_result",
          "data": {
            "text/plain": [
              "array([[-0.56434615,  0.10793722, -0.51326329, ...,  0.20532968,\n",
              "        -0.04846088, -0.32471046],\n",
              "       [-0.42985418,  0.16495557, -0.05703459, ..., -0.34471766,\n",
              "         0.0056708 ,  1.55453226],\n",
              "       [-0.58421429,  0.08794771, -0.28049355, ..., -0.34471766,\n",
              "        -0.03041698, -0.32471046],\n",
              "       ...,\n",
              "       [-0.18226669, -0.36707083, -0.05703459, ..., -0.34471766,\n",
              "        -0.04846088, -0.32471046],\n",
              "       [-0.42068428, -0.46288904,  0.46436965, ..., -0.34471766,\n",
              "         0.04175858, -0.32471046],\n",
              "       [-0.50932671, -0.48787913, -0.01979143, ..., -0.34471766,\n",
              "        -0.06650477, -0.32471046]])"
            ]
          },
          "metadata": {
            "tags": []
          },
          "execution_count": 191
        }
      ]
    },
    {
      "cell_type": "code",
      "metadata": {
        "id": "tUUlw2YUCp3v",
        "colab_type": "code",
        "colab": {}
      },
      "source": [
        "clf = LogisticRegression().fit(X_train,y)\n",
        "predicted = clf.predict_proba(X_test)"
      ],
      "execution_count": 192,
      "outputs": []
    },
    {
      "cell_type": "code",
      "metadata": {
        "id": "2IR__SNFF8uH",
        "colab_type": "code",
        "colab": {
          "base_uri": "https://localhost:8080/",
          "height": 35
        },
        "outputId": "78891d7a-1bad-4686-929f-baee481d7491"
      },
      "source": [
        "roc_auc_score(y_test,predicted[:,1])"
      ],
      "execution_count": 193,
      "outputs": [
        {
          "output_type": "execute_result",
          "data": {
            "text/plain": [
              "0.6583583720623026"
            ]
          },
          "metadata": {
            "tags": []
          },
          "execution_count": 193
        }
      ]
    },
    {
      "cell_type": "code",
      "metadata": {
        "id": "eOS8H-33Gfhl",
        "colab_type": "code",
        "colab": {
          "base_uri": "https://localhost:8080/",
          "height": 87
        },
        "outputId": "2115dc25-031d-4110-ccb8-c40e31aaed39"
      },
      "source": [
        "clf.coef_"
      ],
      "execution_count": 194,
      "outputs": [
        {
          "output_type": "execute_result",
          "data": {
            "text/plain": [
              "array([[ 1.66563631e-04,  3.34390535e-01,  4.04942475e-02,\n",
              "        -5.47452194e-01, -1.30667574e-01, -6.80692977e-01,\n",
              "         7.15923311e-02, -8.59557891e-01,  8.98051242e-02,\n",
              "        -2.02398646e-01]])"
            ]
          },
          "metadata": {
            "tags": []
          },
          "execution_count": 194
        }
      ]
    }
  ]
}