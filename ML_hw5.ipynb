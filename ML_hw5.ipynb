{
  "nbformat": 4,
  "nbformat_minor": 0,
  "metadata": {
    "colab": {
      "name": "ML_hw5.ipynb",
      "provenance": [],
      "authorship_tag": "ABX9TyMDtosUO65GynYRzybNWFZb",
      "include_colab_link": true
    },
    "kernelspec": {
      "name": "python3",
      "display_name": "Python 3"
    }
  },
  "cells": [
    {
      "cell_type": "markdown",
      "metadata": {
        "id": "view-in-github",
        "colab_type": "text"
      },
      "source": [
        "<a href=\"https://colab.research.google.com/github/lnpetrova/comp_ling/blob/master/ML_hw5.ipynb\" target=\"_parent\"><img src=\"https://colab.research.google.com/assets/colab-badge.svg\" alt=\"Open In Colab\"/></a>"
      ]
    },
    {
      "cell_type": "markdown",
      "metadata": {
        "id": "2D2ZCjxuIFqi",
        "colab_type": "text"
      },
      "source": [
        "# **Импорты**"
      ]
    },
    {
      "cell_type": "code",
      "metadata": {
        "id": "fgQQi4EiIJ0y",
        "colab_type": "code",
        "colab": {
          "base_uri": "https://localhost:8080/",
          "height": 191
        },
        "outputId": "aec54682-d596-4ef8-89a9-5690db9221f6"
      },
      "source": [
        "%matplotlib inline\n",
        "\n",
        "import itertools\n",
        "import seaborn as sns\n",
        "import xgboost as xgb\n",
        "import matplotlib.pyplot as plt\n",
        "import matplotlib.gridspec as gridspec\n",
        "from mlxtend.plotting import plot_learning_curves\n",
        "from mlxtend.plotting import plot_decision_regions\n",
        "\n",
        "import numpy as np\n",
        "import pandas as pd\n",
        "import gensim\n",
        "import string\n",
        "import re\n",
        "from string import punctuation\n",
        "from sklearn import datasets\n",
        "from sklearn.pipeline import Pipeline\n",
        "from sklearn.pipeline import FeatureUnion\n",
        "from sklearn.ensemble import ExtraTreesClassifier\n",
        "from sklearn.feature_extraction.text import *\n",
        "from sklearn.metrics import *\n",
        "from sklearn.naive_bayes import MultinomialNB, GaussianNB\n",
        "from sklearn.neighbors import KNeighborsClassifier\n",
        "from sklearn.linear_model import SGDClassifier, LogisticRegression, LinearRegression, LogisticRegressionCV\n",
        "from sklearn.ensemble import RandomForestClassifier,  BaggingClassifier, BaggingRegressor, RandomTreesEmbedding, GradientBoostingClassifier, VotingClassifier, ExtraTreesClassifier, AdaBoostClassifier\n",
        "from sklearn.preprocessing import FunctionTransformer\n",
        "from sklearn.decomposition import TruncatedSVD\n",
        "from sklearn.svm import SVC, LinearSVC\n",
        "from sklearn.tree import DecisionTreeClassifier\n",
        "from sklearn.model_selection import train_test_split, cross_val_score, KFold\n",
        "from sklearn.feature_extraction.text import CountVectorizer, TfidfTransformer\n",
        "from mlxtend.classifier import StackingCVClassifier\n",
        "import nltk\n",
        "from nltk import pos_tag\n",
        "from nltk.corpus import stopwords\n",
        "from nltk.tokenize import word_tokenize\n",
        "from nltk.stem.wordnet import WordNetLemmatizer\n",
        "nltk.download('averaged_perceptron_tagger')\n",
        "nltk.download('wordnet')\n",
        "nltk.download('stopwords')\n",
        "nltk.download('punkt')\n",
        "import warnings\n",
        "warnings.filterwarnings('ignore')\n",
        "lem = WordNetLemmatizer()\n"
      ],
      "execution_count": 4,
      "outputs": [
        {
          "output_type": "stream",
          "text": [
            "[nltk_data] Downloading package averaged_perceptron_tagger to\n",
            "[nltk_data]     /root/nltk_data...\n",
            "[nltk_data]   Package averaged_perceptron_tagger is already up-to-\n",
            "[nltk_data]       date!\n",
            "[nltk_data] Downloading package wordnet to /root/nltk_data...\n",
            "[nltk_data]   Package wordnet is already up-to-date!\n",
            "[nltk_data] Downloading package stopwords to /root/nltk_data...\n",
            "[nltk_data]   Package stopwords is already up-to-date!\n",
            "[nltk_data] Downloading package punkt to /root/nltk_data...\n",
            "[nltk_data]   Package punkt is already up-to-date!\n"
          ],
          "name": "stdout"
        }
      ]
    },
    {
      "cell_type": "code",
      "metadata": {
        "id": "8V8Smc3tYvI2",
        "colab_type": "code",
        "colab": {
          "base_uri": "https://localhost:8080/",
          "height": 208
        },
        "outputId": "3b734998-6ab2-46de-da69-aece4847fdb7"
      },
      "source": [
        "!wget https://raw.githubusercontent.com/TatianaShavrina/hse_ml_m1/master/ensembles/complaints.csv"
      ],
      "execution_count": 9,
      "outputs": [
        {
          "output_type": "stream",
          "text": [
            "--2020-06-28 11:25:23--  https://raw.githubusercontent.com/TatianaShavrina/hse_ml_m1/master/ensembles/complaints.csv\n",
            "Resolving raw.githubusercontent.com (raw.githubusercontent.com)... 151.101.0.133, 151.101.64.133, 151.101.128.133, ...\n",
            "Connecting to raw.githubusercontent.com (raw.githubusercontent.com)|151.101.0.133|:443... connected.\n",
            "HTTP request sent, awaiting response... 200 OK\n",
            "Length: 4148456 (4.0M) [text/plain]\n",
            "Saving to: ‘complaints.csv’\n",
            "\n",
            "complaints.csv      100%[===================>]   3.96M  12.2MB/s    in 0.3s    \n",
            "\n",
            "2020-06-28 11:25:25 (12.2 MB/s) - ‘complaints.csv’ saved [4148456/4148456]\n",
            "\n"
          ],
          "name": "stdout"
        }
      ]
    },
    {
      "cell_type": "code",
      "metadata": {
        "id": "H6QG1oZVIKM7",
        "colab_type": "code",
        "colab": {}
      },
      "source": [
        "def show_metrics(y_test, predictions):\n",
        "  print(\"Precision: {0:6.2f}\".format(precision_score(y_test, predictions, average='macro')))\n",
        "  print(\"Recall: {0:6.2f}\".format(recall_score(y_test, predictions, average='macro')))\n",
        "  print(\"F1-measure: {0:6.2f}\".format(f1_score(y_test, predictions, average='macro')))\n",
        "  print(\"Accuracy: {0:6.2f}\".format(accuracy_score(y_test, predictions)))"
      ],
      "execution_count": 7,
      "outputs": []
    },
    {
      "cell_type": "markdown",
      "metadata": {
        "id": "3URWjSYnY7n7",
        "colab_type": "text"
      },
      "source": [
        "# **Данные**"
      ]
    },
    {
      "cell_type": "code",
      "metadata": {
        "id": "WilBM35cIKXw",
        "colab_type": "code",
        "colab": {
          "base_uri": "https://localhost:8080/",
          "height": 202
        },
        "outputId": "995f55f6-6bdb-4fb1-aad3-cb2b3a762cb1"
      },
      "source": [
        "data = pd.read_csv('complaints.csv', sep='\\t')\n",
        "data.head()"
      ],
      "execution_count": 10,
      "outputs": [
        {
          "output_type": "execute_result",
          "data": {
            "text/html": [
              "<div>\n",
              "<style scoped>\n",
              "    .dataframe tbody tr th:only-of-type {\n",
              "        vertical-align: middle;\n",
              "    }\n",
              "\n",
              "    .dataframe tbody tr th {\n",
              "        vertical-align: top;\n",
              "    }\n",
              "\n",
              "    .dataframe thead th {\n",
              "        text-align: right;\n",
              "    }\n",
              "</style>\n",
              "<table border=\"1\" class=\"dataframe\">\n",
              "  <thead>\n",
              "    <tr style=\"text-align: right;\">\n",
              "      <th></th>\n",
              "      <th>COMPLAINT_ID</th>\n",
              "      <th>DATE</th>\n",
              "      <th>PRODUCT_ID</th>\n",
              "      <th>ISSUE_ID</th>\n",
              "      <th>cleaned_text</th>\n",
              "    </tr>\n",
              "  </thead>\n",
              "  <tbody>\n",
              "    <tr>\n",
              "      <th>0</th>\n",
              "      <td>3178905</td>\n",
              "      <td>03/13/2019</td>\n",
              "      <td>44</td>\n",
              "      <td>318</td>\n",
              "      <td>go year . contact advis never took loan . advi...</td>\n",
              "    </tr>\n",
              "    <tr>\n",
              "      <th>1</th>\n",
              "      <td>3175952</td>\n",
              "      <td>03/12/2019</td>\n",
              "      <td>44</td>\n",
              "      <td>349</td>\n",
              "      <td>mail valid debt xx/xx/19 valid receiv , receiv...</td>\n",
              "    </tr>\n",
              "    <tr>\n",
              "      <th>2</th>\n",
              "      <td>3174747</td>\n",
              "      <td>03/09/2019</td>\n",
              "      <td>44</td>\n",
              "      <td>16</td>\n",
              "      <td>xx/xx/xxxx appli receiv onlin loan bluechip fi...</td>\n",
              "    </tr>\n",
              "    <tr>\n",
              "      <th>3</th>\n",
              "      <td>3173291</td>\n",
              "      <td>03/08/2019</td>\n",
              "      <td>44</td>\n",
              "      <td>16</td>\n",
              "      <td>xx/xx/xxxx appli receiv onlin loan . loan amou...</td>\n",
              "    </tr>\n",
              "    <tr>\n",
              "      <th>4</th>\n",
              "      <td>3172221</td>\n",
              "      <td>03/07/2019</td>\n",
              "      <td>44</td>\n",
              "      <td>48</td>\n",
              "      <td>told husband left bill . debt would pay within...</td>\n",
              "    </tr>\n",
              "  </tbody>\n",
              "</table>\n",
              "</div>"
            ],
            "text/plain": [
              "   COMPLAINT_ID  ...                                       cleaned_text\n",
              "0       3178905  ...  go year . contact advis never took loan . advi...\n",
              "1       3175952  ...  mail valid debt xx/xx/19 valid receiv , receiv...\n",
              "2       3174747  ...  xx/xx/xxxx appli receiv onlin loan bluechip fi...\n",
              "3       3173291  ...  xx/xx/xxxx appli receiv onlin loan . loan amou...\n",
              "4       3172221  ...  told husband left bill . debt would pay within...\n",
              "\n",
              "[5 rows x 5 columns]"
            ]
          },
          "metadata": {
            "tags": []
          },
          "execution_count": 10
        }
      ]
    },
    {
      "cell_type": "code",
      "metadata": {
        "id": "mHyTqVd8ZBXs",
        "colab_type": "code",
        "colab": {}
      },
      "source": [
        "y = data[\"PRODUCT_ID\"]\n",
        "X = data[\"cleaned_text\"]\n",
        "X_train, X_test, y_train, y_test = train_test_split(X, y, test_size=0.1, random_state=42)"
      ],
      "execution_count": 11,
      "outputs": []
    },
    {
      "cell_type": "code",
      "metadata": {
        "id": "deRUsncnZBcF",
        "colab_type": "code",
        "colab": {
          "base_uri": "https://localhost:8080/",
          "height": 202
        },
        "outputId": "04c88ea0-8915-4e69-a214-03c7f7b2b2df"
      },
      "source": [
        "data.head()"
      ],
      "execution_count": 12,
      "outputs": [
        {
          "output_type": "execute_result",
          "data": {
            "text/html": [
              "<div>\n",
              "<style scoped>\n",
              "    .dataframe tbody tr th:only-of-type {\n",
              "        vertical-align: middle;\n",
              "    }\n",
              "\n",
              "    .dataframe tbody tr th {\n",
              "        vertical-align: top;\n",
              "    }\n",
              "\n",
              "    .dataframe thead th {\n",
              "        text-align: right;\n",
              "    }\n",
              "</style>\n",
              "<table border=\"1\" class=\"dataframe\">\n",
              "  <thead>\n",
              "    <tr style=\"text-align: right;\">\n",
              "      <th></th>\n",
              "      <th>COMPLAINT_ID</th>\n",
              "      <th>DATE</th>\n",
              "      <th>PRODUCT_ID</th>\n",
              "      <th>ISSUE_ID</th>\n",
              "      <th>cleaned_text</th>\n",
              "    </tr>\n",
              "  </thead>\n",
              "  <tbody>\n",
              "    <tr>\n",
              "      <th>0</th>\n",
              "      <td>3178905</td>\n",
              "      <td>03/13/2019</td>\n",
              "      <td>44</td>\n",
              "      <td>318</td>\n",
              "      <td>go year . contact advis never took loan . advi...</td>\n",
              "    </tr>\n",
              "    <tr>\n",
              "      <th>1</th>\n",
              "      <td>3175952</td>\n",
              "      <td>03/12/2019</td>\n",
              "      <td>44</td>\n",
              "      <td>349</td>\n",
              "      <td>mail valid debt xx/xx/19 valid receiv , receiv...</td>\n",
              "    </tr>\n",
              "    <tr>\n",
              "      <th>2</th>\n",
              "      <td>3174747</td>\n",
              "      <td>03/09/2019</td>\n",
              "      <td>44</td>\n",
              "      <td>16</td>\n",
              "      <td>xx/xx/xxxx appli receiv onlin loan bluechip fi...</td>\n",
              "    </tr>\n",
              "    <tr>\n",
              "      <th>3</th>\n",
              "      <td>3173291</td>\n",
              "      <td>03/08/2019</td>\n",
              "      <td>44</td>\n",
              "      <td>16</td>\n",
              "      <td>xx/xx/xxxx appli receiv onlin loan . loan amou...</td>\n",
              "    </tr>\n",
              "    <tr>\n",
              "      <th>4</th>\n",
              "      <td>3172221</td>\n",
              "      <td>03/07/2019</td>\n",
              "      <td>44</td>\n",
              "      <td>48</td>\n",
              "      <td>told husband left bill . debt would pay within...</td>\n",
              "    </tr>\n",
              "  </tbody>\n",
              "</table>\n",
              "</div>"
            ],
            "text/plain": [
              "   COMPLAINT_ID  ...                                       cleaned_text\n",
              "0       3178905  ...  go year . contact advis never took loan . advi...\n",
              "1       3175952  ...  mail valid debt xx/xx/19 valid receiv , receiv...\n",
              "2       3174747  ...  xx/xx/xxxx appli receiv onlin loan bluechip fi...\n",
              "3       3173291  ...  xx/xx/xxxx appli receiv onlin loan . loan amou...\n",
              "4       3172221  ...  told husband left bill . debt would pay within...\n",
              "\n",
              "[5 rows x 5 columns]"
            ]
          },
          "metadata": {
            "tags": []
          },
          "execution_count": 12
        }
      ]
    },
    {
      "cell_type": "markdown",
      "metadata": {
        "id": "tUVYfi2i23vZ",
        "colab_type": "text"
      },
      "source": [
        "# **Задание 1**"
      ]
    },
    {
      "cell_type": "markdown",
      "metadata": {
        "id": "pBKgTZf7_-J0",
        "colab_type": "text"
      },
      "source": [
        "Попробуйте поднять качество классификации до 70% с помощью известных вам методов препроцессинга и Voting"
      ]
    },
    {
      "cell_type": "code",
      "metadata": {
        "id": "HfjPXPQE-etD",
        "colab_type": "code",
        "colab": {}
      },
      "source": [
        "from sklearn import preprocessing"
      ],
      "execution_count": null,
      "outputs": []
    },
    {
      "cell_type": "code",
      "metadata": {
        "id": "MtGHywQHCj1a",
        "colab_type": "code",
        "colab": {}
      },
      "source": [
        "clf1 = LogisticRegression(multi_class='multinomial', solver='saga', max_iter=1000)\n",
        "clf2 = RandomForestClassifier(n_estimators=200, random_state=1)\n",
        "clf3 = DecisionTreeClassifier(criterion='entropy', splitter='random', max_depth=5, \n",
        "                              min_samples_split=3, min_samples_leaf=2, max_features=100, random_state=42)\n",
        "clf4 = xgb.XGBClassifier(n_estimators=150)\n",
        "dtree = DecisionTreeClassifier()\n",
        "bagging = BaggingClassifier(base_estimator=dtree, n_estimators=20, max_samples=0.8, max_features=0.8)\n",
        "\n",
        "eclf = VotingClassifier(estimators=[('lr', clf1), ('rf', clf2),\n",
        "                                    ('dtc', clf3), ('xgb', clf4), ('bagging', bagging) ], voting='hard')\n",
        "\n",
        "voting = Pipeline([\n",
        "    ('vect', CountVectorizer( analyzer='word', min_df = 10, max_df = 0.7)),\n",
        "    ('tfidf', TfidfTransformer(sublinear_tf=True, smooth_idf = False)),\n",
        "    ('to_dense', FunctionTransformer(lambda x: x.todense(), accept_sparse=True)), \n",
        "    ('clf', eclf),\n",
        "    ])\n",
        "voting = voting.fit(X_train, y_train)\n",
        "predictions = voting.predict(X_test)\n"
      ],
      "execution_count": 52,
      "outputs": []
    },
    {
      "cell_type": "code",
      "metadata": {
        "id": "qcn_fkdkS-aG",
        "colab_type": "code",
        "colab": {
          "base_uri": "https://localhost:8080/",
          "height": 87
        },
        "outputId": "89fc08ed-1088-436d-a148-10521a55c4e2"
      },
      "source": [
        "show_metrics(y_test, predictions)"
      ],
      "execution_count": 53,
      "outputs": [
        {
          "output_type": "stream",
          "text": [
            "Precision:   0.72\n",
            "Recall:   0.71\n",
            "F1-measure:   0.71\n",
            "Accuracy:   0.71\n"
          ],
          "name": "stdout"
        }
      ]
    },
    {
      "cell_type": "markdown",
      "metadata": {
        "id": "vH6Osj_jAfC4",
        "colab_type": "text"
      },
      "source": [
        "# **Задание 2**"
      ]
    },
    {
      "cell_type": "markdown",
      "metadata": {
        "id": "c5Ibk-IjAi4p",
        "colab_type": "text"
      },
      "source": [
        "Основываясь на своих знаниях об ансамблировании различных моделей, на данных из complaints.csv достигните наилучшего результата"
      ]
    },
    {
      "cell_type": "markdown",
      "metadata": {
        "id": "Gx34fAj6KpF4",
        "colab_type": "text"
      },
      "source": [
        "**Попытка 1**"
      ]
    },
    {
      "cell_type": "code",
      "metadata": {
        "id": "PPeAncvjCjoH",
        "colab_type": "code",
        "colab": {}
      },
      "source": [
        "clf1 = LogisticRegression(multi_class='multinomial', solver='lbfgs')\n",
        "clf2 = RandomForestClassifier(n_estimators=150)\n",
        "xgb_model = xgb.XGBClassifier(n_estimators=150)\n",
        "lr = LogisticRegression()\n",
        "sclf = StackingCVClassifier(classifiers=[clf1, clf2, xgb_model],\n",
        "                          meta_classifier=lr, cv = 5, verbose=5)\n"
      ],
      "execution_count": 23,
      "outputs": []
    },
    {
      "cell_type": "code",
      "metadata": {
        "id": "yFlDxQ0iJ54-",
        "colab_type": "code",
        "colab": {}
      },
      "source": [
        "pipe = Pipeline([\n",
        "                 ('feats', FeatureUnion([\n",
        "                                         ('count', CountVectorizer(min_df = 7, max_df = 0.7)),\n",
        "                                         ('tfidf', TfidfVectorizer(min_df = 30, max_df = 0.2))\n",
        "                                         ])),\n",
        "                 ('to_dense', FunctionTransformer(lambda x: x.todense(), accept_sparse=True)),\n",
        "                 ('clf', sclf)\n",
        "                 ])\n",
        "\n",
        "X_train = np.asarray(X_train)\n",
        "y_train = np.asarray(y_train)\n",
        "pipe = pipe.fit(X_train, y_train)"
      ],
      "execution_count": null,
      "outputs": []
    },
    {
      "cell_type": "code",
      "metadata": {
        "id": "idsw94y6AU4s",
        "colab_type": "code",
        "colab": {
          "base_uri": "https://localhost:8080/",
          "height": 87
        },
        "outputId": "c9da8a56-eb41-4d27-a28f-46eecf09543e"
      },
      "source": [
        "predictions = pipe.predict(X_test)"
      ],
      "execution_count": 25,
      "outputs": [
        {
          "output_type": "stream",
          "text": [
            "[Parallel(n_jobs=1)]: Using backend SequentialBackend with 1 concurrent workers.\n",
            "[Parallel(n_jobs=1)]: Done   1 out of   1 | elapsed:    0.0s remaining:    0.0s\n",
            "[Parallel(n_jobs=1)]: Done   2 out of   2 | elapsed:    0.0s remaining:    0.0s\n",
            "[Parallel(n_jobs=1)]: Done 150 out of 150 | elapsed:    0.1s finished\n"
          ],
          "name": "stderr"
        }
      ]
    },
    {
      "cell_type": "code",
      "metadata": {
        "id": "qoHeJ6YmEx-h",
        "colab_type": "code",
        "colab": {
          "base_uri": "https://localhost:8080/",
          "height": 87
        },
        "outputId": "14e72db9-2421-4b47-cd27-270193b7850a"
      },
      "source": [
        "show_metrics(y_test, predictions)"
      ],
      "execution_count": 26,
      "outputs": [
        {
          "output_type": "stream",
          "text": [
            "Precision:   0.44\n",
            "Recall:   0.43\n",
            "F1-measure:   0.38\n",
            "Accuracy:   0.43\n"
          ],
          "name": "stdout"
        }
      ]
    },
    {
      "cell_type": "markdown",
      "metadata": {
        "id": "s-nFG9ZAKuuz",
        "colab_type": "text"
      },
      "source": [
        "Результат получился хуже, попробуем другие способы"
      ]
    },
    {
      "cell_type": "markdown",
      "metadata": {
        "id": "1x5XpJFzLBlV",
        "colab_type": "text"
      },
      "source": [
        "**Попытка 2**"
      ]
    },
    {
      "cell_type": "code",
      "metadata": {
        "id": "7RvnXiyvLA-X",
        "colab_type": "code",
        "colab": {}
      },
      "source": [
        "clf1 = DecisionTreeClassifier(criterion='entropy', splitter='random', max_depth=5, min_samples_split=3, min_samples_leaf=2, max_features=100, random_state=42)\n",
        "clf2 = RandomForestClassifier(n_estimators = 50, random_state=42)\n",
        "clf3 = MultinomialNB(alpha=0.5) \n",
        "clf4 = xgb.XGBClassifier(n_estimators=150)\n",
        "vot = VotingClassifier(estimators=[('dtc', clf1), ('rf', clf2), ('mn', clf3), ('xgb', clf4)], voting='hard')"
      ],
      "execution_count": 34,
      "outputs": []
    },
    {
      "cell_type": "code",
      "metadata": {
        "id": "sMfNduVnLWmP",
        "colab_type": "code",
        "colab": {}
      },
      "source": [
        "voting = Pipeline([\n",
        "    ('vect', CountVectorizer( analyzer='word', min_df = 10, max_df = 0.7)),\n",
        "    ('tfidf', TfidfTransformer(sublinear_tf=True, smooth_idf = False)),\n",
        "    ('to_dense', FunctionTransformer(lambda x: x.todense(), accept_sparse=True)), \n",
        "    ('clf', vot),\n",
        "    ])\n",
        "voting = voting.fit(X_train, y_train)"
      ],
      "execution_count": 35,
      "outputs": []
    },
    {
      "cell_type": "code",
      "metadata": {
        "id": "1OM3tm4QMQ7W",
        "colab_type": "code",
        "colab": {}
      },
      "source": [
        "predictions_voting = voting.predict(X_test)"
      ],
      "execution_count": 36,
      "outputs": []
    },
    {
      "cell_type": "code",
      "metadata": {
        "id": "i3aOfkUxJeBX",
        "colab_type": "code",
        "colab": {
          "base_uri": "https://localhost:8080/",
          "height": 87
        },
        "outputId": "8c893345-a334-4c72-b586-345a6a6deba2"
      },
      "source": [
        "show_metrics(y_test, predictions_voting)"
      ],
      "execution_count": 37,
      "outputs": [
        {
          "output_type": "stream",
          "text": [
            "Precision:   0.73\n",
            "Recall:   0.69\n",
            "F1-measure:   0.69\n",
            "Accuracy:   0.69\n"
          ],
          "name": "stdout"
        }
      ]
    },
    {
      "cell_type": "markdown",
      "metadata": {
        "id": "Vjh_jxpnNxGU",
        "colab_type": "text"
      },
      "source": [
        "Результаты уже близки к тем, которые были получены в задании1, точность получилась даже выше. Попробуем улучшить результаты с Voting"
      ]
    },
    {
      "cell_type": "markdown",
      "metadata": {
        "id": "3q5LvltpOjDK",
        "colab_type": "text"
      },
      "source": [
        "**Попытка 3**"
      ]
    },
    {
      "cell_type": "code",
      "metadata": {
        "id": "qZok91hm3a-w",
        "colab_type": "code",
        "colab": {}
      },
      "source": [
        "clf1 = LogisticRegression(multi_class='multinomial', solver='saga', max_iter=1000)\n",
        "clf2 = RandomForestClassifier(n_estimators=200, random_state=1)\n",
        "clf3 = GaussianNB()\n",
        "\n",
        "\n",
        "vot2 = VotingClassifier(estimators=[\n",
        "        ('lr', clf1), ('rf', clf2), ('gnb', clf3)], voting='hard')\n",
        "\n",
        "voting = Pipeline([\n",
        "    ('vect', CountVectorizer( analyzer='word', min_df = 10, max_df = 0.7)),\n",
        "    ('tfidf', TfidfTransformer(sublinear_tf=True, smooth_idf = False)),\n",
        "    ('to_dense', FunctionTransformer(lambda x: x.todense(), accept_sparse=True)), \n",
        "    ('clf', vot2),\n",
        "    ])\n",
        "voting = voting.fit(X_train, y_train)\n",
        "predictions = voting.predict(X_test)"
      ],
      "execution_count": null,
      "outputs": []
    },
    {
      "cell_type": "code",
      "metadata": {
        "id": "kiix_1gt57kx",
        "colab_type": "code",
        "colab": {
          "base_uri": "https://localhost:8080/",
          "height": 87
        },
        "outputId": "cd62fb00-dadd-45a4-c332-96d6799775f0"
      },
      "source": [
        "show_metrics(y_test, predictions)"
      ],
      "execution_count": null,
      "outputs": [
        {
          "output_type": "stream",
          "text": [
            "Precision:   0.74\n",
            "Recall:   0.72\n",
            "F1-measure:   0.72\n",
            "Accuracy:   0.72\n"
          ],
          "name": "stdout"
        }
      ]
    }
  ]
}