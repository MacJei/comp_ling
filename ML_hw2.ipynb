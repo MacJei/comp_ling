{
  "nbformat": 4,
  "nbformat_minor": 0,
  "metadata": {
    "colab": {
      "name": "Untitled",
      "provenance": [],
      "authorship_tag": "ABX9TyMKQId435KxEEA/WTSB6CiB",
      "include_colab_link": true
    },
    "kernelspec": {
      "name": "python3",
      "display_name": "Python 3"
    }
  },
  "cells": [
    {
      "cell_type": "markdown",
      "metadata": {
        "id": "view-in-github",
        "colab_type": "text"
      },
      "source": [
        "<a href=\"https://colab.research.google.com/github/lnpetrova/comp_ling/blob/master/ML_hw2.ipynb\" target=\"_parent\"><img src=\"https://colab.research.google.com/assets/colab-badge.svg\" alt=\"Open In Colab\"/></a>"
      ]
    },
    {
      "cell_type": "code",
      "metadata": {
        "id": "CJDjmhakTEYN",
        "colab_type": "code",
        "colab": {}
      },
      "source": [
        "from IPython.display import Image"
      ],
      "execution_count": 0,
      "outputs": []
    },
    {
      "cell_type": "code",
      "metadata": {
        "id": "ayBcv1zfTIYK",
        "colab_type": "code",
        "colab": {}
      },
      "source": [
        "import tarfile\n",
        "import os\n",
        "import pandas as pd\n",
        "from sklearn.utils import shuffle\n",
        "from sklearn.feature_extraction.text import TfidfVectorizer\n",
        "vectorizer = TfidfVectorizer(stop_words='english')\n",
        "from sklearn.linear_model import LogisticRegression\n",
        "from sklearn.naive_bayes import BernoulliNB\n",
        "from sklearn.neighbors import KNeighborsClassifier\n",
        "from matplotlib import pyplot as plt\n",
        "import seaborn as sns\n",
        "from sklearn.metrics import roc_auc_score, roc_curve"
      ],
      "execution_count": 0,
      "outputs": []
    },
    {
      "cell_type": "code",
      "metadata": {
        "id": "1ES6JU_WFElx",
        "colab_type": "code",
        "colab": {
          "base_uri": "https://localhost:8080/",
          "height": 217
        },
        "outputId": "f0c10c19-1261-4795-c5c6-26f7bbe08592"
      },
      "source": [
        "!wget http://ai.stanford.edu/~amaas/data/sentiment/aclImdb_v1.tar.gz"
      ],
      "execution_count": 4,
      "outputs": [
        {
          "output_type": "stream",
          "text": [
            "--2020-02-13 08:40:37--  http://ai.stanford.edu/~amaas/data/sentiment/aclImdb_v1.tar.gz\n",
            "Resolving ai.stanford.edu (ai.stanford.edu)... 171.64.68.10\n",
            "Connecting to ai.stanford.edu (ai.stanford.edu)|171.64.68.10|:80... connected.\n",
            "HTTP request sent, awaiting response... 200 OK\n",
            "Length: 84125825 (80M) [application/x-gzip]\n",
            "Saving to: ‘aclImdb_v1.tar.gz’\n",
            "\n",
            "aclImdb_v1.tar.gz   100%[===================>]  80.23M  22.5MB/s    in 5.7s    \n",
            "\n",
            "2020-02-13 08:40:43 (14.0 MB/s) - ‘aclImdb_v1.tar.gz’ saved [84125825/84125825]\n",
            "\n"
          ],
          "name": "stdout"
        }
      ]
    },
    {
      "cell_type": "code",
      "metadata": {
        "id": "s75N-0MOUVqe",
        "colab_type": "code",
        "colab": {}
      },
      "source": [
        "tarfile.open('/content/aclImdb_v1.tar.gz', 'r').extractall()"
      ],
      "execution_count": 0,
      "outputs": []
    },
    {
      "cell_type": "code",
      "metadata": {
        "id": "pjNV0g3KvB-H",
        "colab_type": "code",
        "colab": {}
      },
      "source": [
        "path_test_neg = '/content/aclImdb/test/neg'\n",
        "path_test_pos = '/content/aclImdb/test/pos'\n",
        "path_train_neg = '/content/aclImdb/train/neg'\n",
        "path_train_pos = '/content/aclImdb/train/pos'"
      ],
      "execution_count": 0,
      "outputs": []
    },
    {
      "cell_type": "code",
      "metadata": {
        "id": "qvLmnpsIQ9LT",
        "colab_type": "code",
        "colab": {}
      },
      "source": [
        "pathes = []\n",
        "pathes.append(path_test_neg)\n",
        "pathes.append(path_test_pos)\n",
        "pathes.append(path_train_pos)\n",
        "pathes.append(path_train_neg)"
      ],
      "execution_count": 0,
      "outputs": []
    },
    {
      "cell_type": "code",
      "metadata": {
        "id": "85pfiCBUO1dV",
        "colab_type": "code",
        "colab": {}
      },
      "source": [
        "def get_files(path):\n",
        "  find_files = os.walk(path)\n",
        "  list_of_files = list(find_files)[0][-1]\n",
        "  return list_of_files"
      ],
      "execution_count": 0,
      "outputs": []
    },
    {
      "cell_type": "code",
      "metadata": {
        "id": "-SP9KjwNScpA",
        "colab_type": "code",
        "colab": {}
      },
      "source": [
        "for path in pathes:\n",
        "  get_files(path)"
      ],
      "execution_count": 0,
      "outputs": []
    },
    {
      "cell_type": "code",
      "metadata": {
        "id": "UTYYybbSylc0",
        "colab_type": "code",
        "colab": {}
      },
      "source": [
        "def collect_texts(path, files):\n",
        "  texts = [open('{}/{}'.format(path, file)).read().lower() for file in files]\n",
        "  return texts"
      ],
      "execution_count": 0,
      "outputs": []
    },
    {
      "cell_type": "code",
      "metadata": {
        "id": "rg6RuZTQzBeG",
        "colab_type": "code",
        "colab": {
          "base_uri": "https://localhost:8080/",
          "height": 198
        },
        "outputId": "e3c487bb-2af2-4563-cbe7-459f0fa47c6d"
      },
      "source": [
        "test_pos_df = pd.DataFrame(collect_texts(path_test_pos, tests_pos),  columns = ['text'])\n",
        "test_pos_df['polarity'] = 1\n",
        "test_pos_df.head()"
      ],
      "execution_count": 46,
      "outputs": [
        {
          "output_type": "execute_result",
          "data": {
            "text/html": [
              "<div>\n",
              "<style scoped>\n",
              "    .dataframe tbody tr th:only-of-type {\n",
              "        vertical-align: middle;\n",
              "    }\n",
              "\n",
              "    .dataframe tbody tr th {\n",
              "        vertical-align: top;\n",
              "    }\n",
              "\n",
              "    .dataframe thead th {\n",
              "        text-align: right;\n",
              "    }\n",
              "</style>\n",
              "<table border=\"1\" class=\"dataframe\">\n",
              "  <thead>\n",
              "    <tr style=\"text-align: right;\">\n",
              "      <th></th>\n",
              "      <th>text</th>\n",
              "      <th>polarity</th>\n",
              "    </tr>\n",
              "  </thead>\n",
              "  <tbody>\n",
              "    <tr>\n",
              "      <th>0</th>\n",
              "      <td>the patriot is a well thought out, well produc...</td>\n",
              "      <td>1</td>\n",
              "    </tr>\n",
              "    <tr>\n",
              "      <th>1</th>\n",
              "      <td>this is by far one of the best films that indi...</td>\n",
              "      <td>1</td>\n",
              "    </tr>\n",
              "    <tr>\n",
              "      <th>2</th>\n",
              "      <td>i saw this movie at the 2005 toronto internati...</td>\n",
              "      <td>1</td>\n",
              "    </tr>\n",
              "    <tr>\n",
              "      <th>3</th>\n",
              "      <td>michael radford, the director of \"the merchant...</td>\n",
              "      <td>1</td>\n",
              "    </tr>\n",
              "    <tr>\n",
              "      <th>4</th>\n",
              "      <td>strangeland seems to have a love/hate relation...</td>\n",
              "      <td>1</td>\n",
              "    </tr>\n",
              "  </tbody>\n",
              "</table>\n",
              "</div>"
            ],
            "text/plain": [
              "                                                text  polarity\n",
              "0  the patriot is a well thought out, well produc...         1\n",
              "1  this is by far one of the best films that indi...         1\n",
              "2  i saw this movie at the 2005 toronto internati...         1\n",
              "3  michael radford, the director of \"the merchant...         1\n",
              "4  strangeland seems to have a love/hate relation...         1"
            ]
          },
          "metadata": {
            "tags": []
          },
          "execution_count": 46
        }
      ]
    },
    {
      "cell_type": "code",
      "metadata": {
        "id": "v026Sve90Ods",
        "colab_type": "code",
        "colab": {
          "base_uri": "https://localhost:8080/",
          "height": 198
        },
        "outputId": "0accc7a0-bba0-432a-a135-595bca1ea64e"
      },
      "source": [
        "test_neg_df = pd.DataFrame(collect_texts(path_test_neg, tests_neg),  columns = ['text'])\n",
        "test_neg_df['polarity'] = 0\n",
        "test_neg_df.head()"
      ],
      "execution_count": 47,
      "outputs": [
        {
          "output_type": "execute_result",
          "data": {
            "text/html": [
              "<div>\n",
              "<style scoped>\n",
              "    .dataframe tbody tr th:only-of-type {\n",
              "        vertical-align: middle;\n",
              "    }\n",
              "\n",
              "    .dataframe tbody tr th {\n",
              "        vertical-align: top;\n",
              "    }\n",
              "\n",
              "    .dataframe thead th {\n",
              "        text-align: right;\n",
              "    }\n",
              "</style>\n",
              "<table border=\"1\" class=\"dataframe\">\n",
              "  <thead>\n",
              "    <tr style=\"text-align: right;\">\n",
              "      <th></th>\n",
              "      <th>text</th>\n",
              "      <th>polarity</th>\n",
              "    </tr>\n",
              "  </thead>\n",
              "  <tbody>\n",
              "    <tr>\n",
              "      <th>0</th>\n",
              "      <td>a \"40 foot long\" giant mutant squid with five ...</td>\n",
              "      <td>0</td>\n",
              "    </tr>\n",
              "    <tr>\n",
              "      <th>1</th>\n",
              "      <td>my house mate and i foolishly purchased the vi...</td>\n",
              "      <td>0</td>\n",
              "    </tr>\n",
              "    <tr>\n",
              "      <th>2</th>\n",
              "      <td>this movie should be called blame it on the sc...</td>\n",
              "      <td>0</td>\n",
              "    </tr>\n",
              "    <tr>\n",
              "      <th>3</th>\n",
              "      <td>oh man, where to even begin.....&lt;br /&gt;&lt;br /&gt;dr...</td>\n",
              "      <td>0</td>\n",
              "    </tr>\n",
              "    <tr>\n",
              "      <th>4</th>\n",
              "      <td>(warning: some spoilers ahead.)&lt;br /&gt;&lt;br /&gt;wha...</td>\n",
              "      <td>0</td>\n",
              "    </tr>\n",
              "  </tbody>\n",
              "</table>\n",
              "</div>"
            ],
            "text/plain": [
              "                                                text  polarity\n",
              "0  a \"40 foot long\" giant mutant squid with five ...         0\n",
              "1  my house mate and i foolishly purchased the vi...         0\n",
              "2  this movie should be called blame it on the sc...         0\n",
              "3  oh man, where to even begin.....<br /><br />dr...         0\n",
              "4  (warning: some spoilers ahead.)<br /><br />wha...         0"
            ]
          },
          "metadata": {
            "tags": []
          },
          "execution_count": 47
        }
      ]
    },
    {
      "cell_type": "code",
      "metadata": {
        "id": "Ab9Gxvu90WPY",
        "colab_type": "code",
        "colab": {
          "base_uri": "https://localhost:8080/",
          "height": 407
        },
        "outputId": "dbe46a34-c21b-4eb2-e718-befb1cbeecf9"
      },
      "source": [
        "test = pd.concat((test_pos_df, test_neg_df))\n",
        "test"
      ],
      "execution_count": 48,
      "outputs": [
        {
          "output_type": "execute_result",
          "data": {
            "text/html": [
              "<div>\n",
              "<style scoped>\n",
              "    .dataframe tbody tr th:only-of-type {\n",
              "        vertical-align: middle;\n",
              "    }\n",
              "\n",
              "    .dataframe tbody tr th {\n",
              "        vertical-align: top;\n",
              "    }\n",
              "\n",
              "    .dataframe thead th {\n",
              "        text-align: right;\n",
              "    }\n",
              "</style>\n",
              "<table border=\"1\" class=\"dataframe\">\n",
              "  <thead>\n",
              "    <tr style=\"text-align: right;\">\n",
              "      <th></th>\n",
              "      <th>text</th>\n",
              "      <th>polarity</th>\n",
              "    </tr>\n",
              "  </thead>\n",
              "  <tbody>\n",
              "    <tr>\n",
              "      <th>0</th>\n",
              "      <td>the patriot is a well thought out, well produc...</td>\n",
              "      <td>1</td>\n",
              "    </tr>\n",
              "    <tr>\n",
              "      <th>1</th>\n",
              "      <td>this is by far one of the best films that indi...</td>\n",
              "      <td>1</td>\n",
              "    </tr>\n",
              "    <tr>\n",
              "      <th>2</th>\n",
              "      <td>i saw this movie at the 2005 toronto internati...</td>\n",
              "      <td>1</td>\n",
              "    </tr>\n",
              "    <tr>\n",
              "      <th>3</th>\n",
              "      <td>michael radford, the director of \"the merchant...</td>\n",
              "      <td>1</td>\n",
              "    </tr>\n",
              "    <tr>\n",
              "      <th>4</th>\n",
              "      <td>strangeland seems to have a love/hate relation...</td>\n",
              "      <td>1</td>\n",
              "    </tr>\n",
              "    <tr>\n",
              "      <th>...</th>\n",
              "      <td>...</td>\n",
              "      <td>...</td>\n",
              "    </tr>\n",
              "    <tr>\n",
              "      <th>12495</th>\n",
              "      <td>another sequel! why on earth do they keep maki...</td>\n",
              "      <td>0</td>\n",
              "    </tr>\n",
              "    <tr>\n",
              "      <th>12496</th>\n",
              "      <td>an anonymous film which could have been direct...</td>\n",
              "      <td>0</td>\n",
              "    </tr>\n",
              "    <tr>\n",
              "      <th>12497</th>\n",
              "      <td>just read through the other comments here, and...</td>\n",
              "      <td>0</td>\n",
              "    </tr>\n",
              "    <tr>\n",
              "      <th>12498</th>\n",
              "      <td>there is so much bad to say about this movie a...</td>\n",
              "      <td>0</td>\n",
              "    </tr>\n",
              "    <tr>\n",
              "      <th>12499</th>\n",
              "      <td>talk about marketing. the poster/home video co...</td>\n",
              "      <td>0</td>\n",
              "    </tr>\n",
              "  </tbody>\n",
              "</table>\n",
              "<p>25000 rows × 2 columns</p>\n",
              "</div>"
            ],
            "text/plain": [
              "                                                    text  polarity\n",
              "0      the patriot is a well thought out, well produc...         1\n",
              "1      this is by far one of the best films that indi...         1\n",
              "2      i saw this movie at the 2005 toronto internati...         1\n",
              "3      michael radford, the director of \"the merchant...         1\n",
              "4      strangeland seems to have a love/hate relation...         1\n",
              "...                                                  ...       ...\n",
              "12495  another sequel! why on earth do they keep maki...         0\n",
              "12496  an anonymous film which could have been direct...         0\n",
              "12497  just read through the other comments here, and...         0\n",
              "12498  there is so much bad to say about this movie a...         0\n",
              "12499  talk about marketing. the poster/home video co...         0\n",
              "\n",
              "[25000 rows x 2 columns]"
            ]
          },
          "metadata": {
            "tags": []
          },
          "execution_count": 48
        }
      ]
    },
    {
      "cell_type": "code",
      "metadata": {
        "id": "Z5XeJAVN0hwN",
        "colab_type": "code",
        "colab": {
          "base_uri": "https://localhost:8080/",
          "height": 198
        },
        "outputId": "68445d62-bb10-4b15-e091-b9c6a0679a37"
      },
      "source": [
        "train_pos_df = pd.DataFrame(collect_texts(path_train_pos, trains_pos),  columns = ['text'])\n",
        "train_pos_df['polarity'] = 1\n",
        "train_pos_df.head()"
      ],
      "execution_count": 50,
      "outputs": [
        {
          "output_type": "execute_result",
          "data": {
            "text/html": [
              "<div>\n",
              "<style scoped>\n",
              "    .dataframe tbody tr th:only-of-type {\n",
              "        vertical-align: middle;\n",
              "    }\n",
              "\n",
              "    .dataframe tbody tr th {\n",
              "        vertical-align: top;\n",
              "    }\n",
              "\n",
              "    .dataframe thead th {\n",
              "        text-align: right;\n",
              "    }\n",
              "</style>\n",
              "<table border=\"1\" class=\"dataframe\">\n",
              "  <thead>\n",
              "    <tr style=\"text-align: right;\">\n",
              "      <th></th>\n",
              "      <th>text</th>\n",
              "      <th>polarity</th>\n",
              "    </tr>\n",
              "  </thead>\n",
              "  <tbody>\n",
              "    <tr>\n",
              "      <th>0</th>\n",
              "      <td>how nice to have a movie the entire family can...</td>\n",
              "      <td>1</td>\n",
              "    </tr>\n",
              "    <tr>\n",
              "      <th>1</th>\n",
              "      <td>an unmarried, twenty-something hick (played by...</td>\n",
              "      <td>1</td>\n",
              "    </tr>\n",
              "    <tr>\n",
              "      <th>2</th>\n",
              "      <td>in the old commercial for blank audio cassette...</td>\n",
              "      <td>1</td>\n",
              "    </tr>\n",
              "    <tr>\n",
              "      <th>3</th>\n",
              "      <td>i have just started watching the tv series \"wh...</td>\n",
              "      <td>1</td>\n",
              "    </tr>\n",
              "    <tr>\n",
              "      <th>4</th>\n",
              "      <td>sidney young (pegg) moves from england to new ...</td>\n",
              "      <td>1</td>\n",
              "    </tr>\n",
              "  </tbody>\n",
              "</table>\n",
              "</div>"
            ],
            "text/plain": [
              "                                                text  polarity\n",
              "0  how nice to have a movie the entire family can...         1\n",
              "1  an unmarried, twenty-something hick (played by...         1\n",
              "2  in the old commercial for blank audio cassette...         1\n",
              "3  i have just started watching the tv series \"wh...         1\n",
              "4  sidney young (pegg) moves from england to new ...         1"
            ]
          },
          "metadata": {
            "tags": []
          },
          "execution_count": 50
        }
      ]
    },
    {
      "cell_type": "code",
      "metadata": {
        "id": "clHe2MDd0tFm",
        "colab_type": "code",
        "colab": {
          "base_uri": "https://localhost:8080/",
          "height": 198
        },
        "outputId": "c9390127-59b8-4230-b275-09ed762ce2a2"
      },
      "source": [
        "train_neg_df = pd.DataFrame(collect_texts(path_train_neg, trains_neg),  columns = ['text'])\n",
        "train_neg_df['polarity'] = 0\n",
        "train_neg_df.head()"
      ],
      "execution_count": 51,
      "outputs": [
        {
          "output_type": "execute_result",
          "data": {
            "text/html": [
              "<div>\n",
              "<style scoped>\n",
              "    .dataframe tbody tr th:only-of-type {\n",
              "        vertical-align: middle;\n",
              "    }\n",
              "\n",
              "    .dataframe tbody tr th {\n",
              "        vertical-align: top;\n",
              "    }\n",
              "\n",
              "    .dataframe thead th {\n",
              "        text-align: right;\n",
              "    }\n",
              "</style>\n",
              "<table border=\"1\" class=\"dataframe\">\n",
              "  <thead>\n",
              "    <tr style=\"text-align: right;\">\n",
              "      <th></th>\n",
              "      <th>text</th>\n",
              "      <th>polarity</th>\n",
              "    </tr>\n",
              "  </thead>\n",
              "  <tbody>\n",
              "    <tr>\n",
              "      <th>0</th>\n",
              "      <td>don't bother. a little prosciutto could go a l...</td>\n",
              "      <td>0</td>\n",
              "    </tr>\n",
              "    <tr>\n",
              "      <th>1</th>\n",
              "      <td>sure i've seen bad movies in my life, but this...</td>\n",
              "      <td>0</td>\n",
              "    </tr>\n",
              "    <tr>\n",
              "      <th>2</th>\n",
              "      <td>night of the comet starts as the world prepare...</td>\n",
              "      <td>0</td>\n",
              "    </tr>\n",
              "    <tr>\n",
              "      <th>3</th>\n",
              "      <td>this dreadful film assembles every asian stere...</td>\n",
              "      <td>0</td>\n",
              "    </tr>\n",
              "    <tr>\n",
              "      <th>4</th>\n",
              "      <td>i usually talk a bit about the plot in the fir...</td>\n",
              "      <td>0</td>\n",
              "    </tr>\n",
              "  </tbody>\n",
              "</table>\n",
              "</div>"
            ],
            "text/plain": [
              "                                                text  polarity\n",
              "0  don't bother. a little prosciutto could go a l...         0\n",
              "1  sure i've seen bad movies in my life, but this...         0\n",
              "2  night of the comet starts as the world prepare...         0\n",
              "3  this dreadful film assembles every asian stere...         0\n",
              "4  i usually talk a bit about the plot in the fir...         0"
            ]
          },
          "metadata": {
            "tags": []
          },
          "execution_count": 51
        }
      ]
    },
    {
      "cell_type": "code",
      "metadata": {
        "id": "SnwgJHCF02T2",
        "colab_type": "code",
        "colab": {
          "base_uri": "https://localhost:8080/",
          "height": 407
        },
        "outputId": "09140189-33f0-4706-9e79-8e579b60faa8"
      },
      "source": [
        "train = pd.concat((train_pos_df, train_neg_df))\n",
        "train"
      ],
      "execution_count": 52,
      "outputs": [
        {
          "output_type": "execute_result",
          "data": {
            "text/html": [
              "<div>\n",
              "<style scoped>\n",
              "    .dataframe tbody tr th:only-of-type {\n",
              "        vertical-align: middle;\n",
              "    }\n",
              "\n",
              "    .dataframe tbody tr th {\n",
              "        vertical-align: top;\n",
              "    }\n",
              "\n",
              "    .dataframe thead th {\n",
              "        text-align: right;\n",
              "    }\n",
              "</style>\n",
              "<table border=\"1\" class=\"dataframe\">\n",
              "  <thead>\n",
              "    <tr style=\"text-align: right;\">\n",
              "      <th></th>\n",
              "      <th>text</th>\n",
              "      <th>polarity</th>\n",
              "    </tr>\n",
              "  </thead>\n",
              "  <tbody>\n",
              "    <tr>\n",
              "      <th>0</th>\n",
              "      <td>how nice to have a movie the entire family can...</td>\n",
              "      <td>1</td>\n",
              "    </tr>\n",
              "    <tr>\n",
              "      <th>1</th>\n",
              "      <td>an unmarried, twenty-something hick (played by...</td>\n",
              "      <td>1</td>\n",
              "    </tr>\n",
              "    <tr>\n",
              "      <th>2</th>\n",
              "      <td>in the old commercial for blank audio cassette...</td>\n",
              "      <td>1</td>\n",
              "    </tr>\n",
              "    <tr>\n",
              "      <th>3</th>\n",
              "      <td>i have just started watching the tv series \"wh...</td>\n",
              "      <td>1</td>\n",
              "    </tr>\n",
              "    <tr>\n",
              "      <th>4</th>\n",
              "      <td>sidney young (pegg) moves from england to new ...</td>\n",
              "      <td>1</td>\n",
              "    </tr>\n",
              "    <tr>\n",
              "      <th>...</th>\n",
              "      <td>...</td>\n",
              "      <td>...</td>\n",
              "    </tr>\n",
              "    <tr>\n",
              "      <th>12495</th>\n",
              "      <td>this movie is all ultra-lightweight fluff, pre...</td>\n",
              "      <td>0</td>\n",
              "    </tr>\n",
              "    <tr>\n",
              "      <th>12496</th>\n",
              "      <td>i had a feeling that after \"submerged\", this o...</td>\n",
              "      <td>0</td>\n",
              "    </tr>\n",
              "    <tr>\n",
              "      <th>12497</th>\n",
              "      <td>return to cabin by the lake does not, in any w...</td>\n",
              "      <td>0</td>\n",
              "    </tr>\n",
              "    <tr>\n",
              "      <th>12498</th>\n",
              "      <td>this film was a big disappointment.&lt;br /&gt;&lt;br /...</td>\n",
              "      <td>0</td>\n",
              "    </tr>\n",
              "    <tr>\n",
              "      <th>12499</th>\n",
              "      <td>a difficult film to categorize. i was never gi...</td>\n",
              "      <td>0</td>\n",
              "    </tr>\n",
              "  </tbody>\n",
              "</table>\n",
              "<p>25000 rows × 2 columns</p>\n",
              "</div>"
            ],
            "text/plain": [
              "                                                    text  polarity\n",
              "0      how nice to have a movie the entire family can...         1\n",
              "1      an unmarried, twenty-something hick (played by...         1\n",
              "2      in the old commercial for blank audio cassette...         1\n",
              "3      i have just started watching the tv series \"wh...         1\n",
              "4      sidney young (pegg) moves from england to new ...         1\n",
              "...                                                  ...       ...\n",
              "12495  this movie is all ultra-lightweight fluff, pre...         0\n",
              "12496  i had a feeling that after \"submerged\", this o...         0\n",
              "12497  return to cabin by the lake does not, in any w...         0\n",
              "12498  this film was a big disappointment.<br /><br /...         0\n",
              "12499  a difficult film to categorize. i was never gi...         0\n",
              "\n",
              "[25000 rows x 2 columns]"
            ]
          },
          "metadata": {
            "tags": []
          },
          "execution_count": 52
        }
      ]
    },
    {
      "cell_type": "code",
      "metadata": {
        "id": "S2DmpnmJ1GwL",
        "colab_type": "code",
        "colab": {
          "base_uri": "https://localhost:8080/",
          "height": 198
        },
        "outputId": "32a51984-892c-480f-cdca-65eb725fbabb"
      },
      "source": [
        "train = shuffle(train, random_state=42)\n",
        "train = train[:10000]\n",
        "train.head()"
      ],
      "execution_count": 53,
      "outputs": [
        {
          "output_type": "execute_result",
          "data": {
            "text/html": [
              "<div>\n",
              "<style scoped>\n",
              "    .dataframe tbody tr th:only-of-type {\n",
              "        vertical-align: middle;\n",
              "    }\n",
              "\n",
              "    .dataframe tbody tr th {\n",
              "        vertical-align: top;\n",
              "    }\n",
              "\n",
              "    .dataframe thead th {\n",
              "        text-align: right;\n",
              "    }\n",
              "</style>\n",
              "<table border=\"1\" class=\"dataframe\">\n",
              "  <thead>\n",
              "    <tr style=\"text-align: right;\">\n",
              "      <th></th>\n",
              "      <th>text</th>\n",
              "      <th>polarity</th>\n",
              "    </tr>\n",
              "  </thead>\n",
              "  <tbody>\n",
              "    <tr>\n",
              "      <th>6868</th>\n",
              "      <td>this movie is ridiculous! that's exactly what ...</td>\n",
              "      <td>1</td>\n",
              "    </tr>\n",
              "    <tr>\n",
              "      <th>11516</th>\n",
              "      <td>i'm here again in your local shopping mall (of...</td>\n",
              "      <td>0</td>\n",
              "    </tr>\n",
              "    <tr>\n",
              "      <th>9668</th>\n",
              "      <td>written and directed by steve gordon. running ...</td>\n",
              "      <td>1</td>\n",
              "    </tr>\n",
              "    <tr>\n",
              "      <th>1140</th>\n",
              "      <td>no laughs whatsoever. yes, i watched this enti...</td>\n",
              "      <td>0</td>\n",
              "    </tr>\n",
              "    <tr>\n",
              "      <th>1518</th>\n",
              "      <td>the producers made a big mistake casting mark ...</td>\n",
              "      <td>0</td>\n",
              "    </tr>\n",
              "  </tbody>\n",
              "</table>\n",
              "</div>"
            ],
            "text/plain": [
              "                                                    text  polarity\n",
              "6868   this movie is ridiculous! that's exactly what ...         1\n",
              "11516  i'm here again in your local shopping mall (of...         0\n",
              "9668   written and directed by steve gordon. running ...         1\n",
              "1140   no laughs whatsoever. yes, i watched this enti...         0\n",
              "1518   the producers made a big mistake casting mark ...         0"
            ]
          },
          "metadata": {
            "tags": []
          },
          "execution_count": 53
        }
      ]
    },
    {
      "cell_type": "code",
      "metadata": {
        "id": "dnfRhevD1OWy",
        "colab_type": "code",
        "colab": {}
      },
      "source": [
        "X_train = vectorizer.fit_transform(train.text)\n",
        "y_train = train.polarity"
      ],
      "execution_count": 0,
      "outputs": []
    },
    {
      "cell_type": "code",
      "metadata": {
        "id": "vzgzzr7R1TG9",
        "colab_type": "code",
        "colab": {
          "base_uri": "https://localhost:8080/",
          "height": 198
        },
        "outputId": "170fdbf0-5527-4f2a-e58b-9460e1a702e3"
      },
      "source": [
        "test = shuffle(test, random_state=42)\n",
        "test = test[:2500]\n",
        "test.head()"
      ],
      "execution_count": 36,
      "outputs": [
        {
          "output_type": "execute_result",
          "data": {
            "text/html": [
              "<div>\n",
              "<style scoped>\n",
              "    .dataframe tbody tr th:only-of-type {\n",
              "        vertical-align: middle;\n",
              "    }\n",
              "\n",
              "    .dataframe tbody tr th {\n",
              "        vertical-align: top;\n",
              "    }\n",
              "\n",
              "    .dataframe thead th {\n",
              "        text-align: right;\n",
              "    }\n",
              "</style>\n",
              "<table border=\"1\" class=\"dataframe\">\n",
              "  <thead>\n",
              "    <tr style=\"text-align: right;\">\n",
              "      <th></th>\n",
              "      <th>text</th>\n",
              "      <th>polarity</th>\n",
              "    </tr>\n",
              "  </thead>\n",
              "  <tbody>\n",
              "    <tr>\n",
              "      <th>11973</th>\n",
              "      <td>again, like many other tv shows, a certain act...</td>\n",
              "      <td>0</td>\n",
              "    </tr>\n",
              "    <tr>\n",
              "      <th>1530</th>\n",
              "      <td>for me this wonderful rollercoaster of a film ...</td>\n",
              "      <td>1</td>\n",
              "    </tr>\n",
              "    <tr>\n",
              "      <th>4343</th>\n",
              "      <td>this movie, without doubt is the best i have s...</td>\n",
              "      <td>1</td>\n",
              "    </tr>\n",
              "    <tr>\n",
              "      <th>5566</th>\n",
              "      <td>i am so angry to the point i normally down mak...</td>\n",
              "      <td>0</td>\n",
              "    </tr>\n",
              "    <tr>\n",
              "      <th>3471</th>\n",
              "      <td>when i first saw the previews for this movie o...</td>\n",
              "      <td>0</td>\n",
              "    </tr>\n",
              "  </tbody>\n",
              "</table>\n",
              "</div>"
            ],
            "text/plain": [
              "                                                    text  polarity\n",
              "11973  again, like many other tv shows, a certain act...         0\n",
              "1530   for me this wonderful rollercoaster of a film ...         1\n",
              "4343   this movie, without doubt is the best i have s...         1\n",
              "5566   i am so angry to the point i normally down mak...         0\n",
              "3471   when i first saw the previews for this movie o...         0"
            ]
          },
          "metadata": {
            "tags": []
          },
          "execution_count": 36
        }
      ]
    },
    {
      "cell_type": "code",
      "metadata": {
        "id": "W0Bf4Dzh1azp",
        "colab_type": "code",
        "colab": {}
      },
      "source": [
        "X_test = vectorizer.transform(test.text)\n",
        "y_test = test.polarity"
      ],
      "execution_count": 0,
      "outputs": []
    },
    {
      "cell_type": "code",
      "metadata": {
        "id": "TkL2bXxWOXdJ",
        "colab_type": "code",
        "colab": {}
      },
      "source": [
        ""
      ],
      "execution_count": 0,
      "outputs": []
    },
    {
      "cell_type": "code",
      "metadata": {
        "id": "SXQTFw8H3WNr",
        "colab_type": "code",
        "colab": {}
      },
      "source": [
        "def eval_sklearn(true, predicted, categories = ['neg', 'pos'], visual=True):\n",
        "    acc = accuracy_score(true, predicted)\n",
        "    micro_p = precision_score(true, predicted, average = 'micro')\n",
        "    macro_p = precision_score(true, predicted, average = 'macro')\n",
        "    weighted_p = precision_score(true, predicted, average = 'weighted')\n",
        "    micro_r = recall_score(true, predicted, average = 'micro')\n",
        "    macro_r = recall_score(true, predicted, average = 'macro')\n",
        "    weighted_r = recall_score(true, predicted, average = 'weighted')\n",
        "    micro_f1 = f1_score(true, predicted, average = 'micro')\n",
        "    macro_f1 = f1_score(true, predicted, average = 'macro')\n",
        "    weighted_f1 = f1_score(true, predicted, average = 'weighted')\n",
        "    fpr, tpr, _ = roc_curve(true, predicted)\n",
        "    roc_auc = roc_auc_score(true, predicted)\n",
        "    if visual:\n",
        "        fig, (ax1, ax2) = plt.subplots(nrows=1, ncols=2, figsize=(10, 5))\n",
        "        ax1.plot(fpr, tpr, marker='.', label='Test')\n",
        "        ax1.set_xlabel('False Positive Rate')\n",
        "        ax1.set_ylabel('True Positive Rate')\n",
        "        ax1.legend()\n",
        "        sns.heatmap(data=confusion_matrix(y_test, logreg_preds), annot=True, fmt=\"d\", cbar=False, xticklabels=categories, yticklabels=categories)\n",
        "        ax2.set_title(\"Confusion matrix\")\n",
        "        plt.show()\n",
        "\n",
        "    print(''' \n",
        "ROC AUC:\\t{:.3f}\n",
        "Accuracy:\\t{:.3f}\n",
        "\\t\\tMicro\\tMacro\\tWeighted\n",
        "Precision:\\t{:.3f}\\t{:.3f}\\t{:.3f}\n",
        "Recall:\\t\\t{:.3f}\\t{:.3f}\\t{:.3f}\n",
        "F-measure:\\t{:.3f}\\t{:.3f}\\t{:.3f}\n",
        "'''.format(roc_auc, acc, micro_p, macro_p, weighted_p, micro_r, macro_r, weighted_r, micro_f1, macro_f1, weighted_f1))"
      ],
      "execution_count": 0,
      "outputs": []
    },
    {
      "cell_type": "code",
      "metadata": {
        "id": "fVv39kkF3dFK",
        "colab_type": "code",
        "colab": {}
      },
      "source": [
        ""
      ],
      "execution_count": 0,
      "outputs": []
    },
    {
      "cell_type": "code",
      "metadata": {
        "id": "UQJptNCCf72H",
        "colab_type": "code",
        "outputId": "d13fc29b-5e00-40bd-cb2d-1c77bcf5e3d1",
        "colab": {
          "base_uri": "https://localhost:8080/",
          "height": 279
        }
      },
      "source": [
        "\n",
        "y_true = np.array([0, 1, 1, 1, 0])\n",
        "y_predicted = np.array([0.1, 0.7, 0.4, 0.2, 0.27])\n",
        "fpr, tpr, _ = roc_curve(y_true, y_predicted)\n",
        "pyplot.plot(fpr, tpr, marker='.', label='Test')\n",
        "# axis labels\n",
        "pyplot.xlabel('False Positive Rate')\n",
        "pyplot.ylabel('True Positive Rate')\n",
        "# show the legend\n",
        "pyplot.legend()\n",
        "# show the plot\n",
        "pyplot.show()"
      ],
      "execution_count": 0,
      "outputs": [
        {
          "output_type": "display_data",
          "data": {
            "image/png": "[encoded data removed]",
            "text/plain": [
              "<Figure size 432x288 with 1 Axes>"
            ]
          },
          "metadata": {
            "tags": []
          }
        }
      ]
    },
    {
      "cell_type": "code",
      "metadata": {
        "id": "j85fyBVOgQgg",
        "colab_type": "code",
        "outputId": "495b5305-0033-4183-c4b9-b24fea7e53be",
        "colab": {
          "base_uri": "https://localhost:8080/",
          "height": 189
        }
      },
      "source": [
        "from sklearn.datasets import fetch_20newsgroups\n",
        "data.target_names"
      ],
      "execution_count": 0,
      "outputs": [
        {
          "output_type": "error",
          "ename": "NameError",
          "evalue": "ignored",
          "traceback": [
            "\u001b[0;31m---------------------------------------------------------------------------\u001b[0m",
            "\u001b[0;31mNameError\u001b[0m                                 Traceback (most recent call last)",
            "\u001b[0;32m<ipython-input-2-e78c3f49f93a>\u001b[0m in \u001b[0;36m<module>\u001b[0;34m()\u001b[0m\n\u001b[1;32m      1\u001b[0m \u001b[0;32mfrom\u001b[0m \u001b[0msklearn\u001b[0m\u001b[0;34m.\u001b[0m\u001b[0mdatasets\u001b[0m \u001b[0;32mimport\u001b[0m \u001b[0mfetch_20newsgroups\u001b[0m\u001b[0;34m\u001b[0m\u001b[0;34m\u001b[0m\u001b[0m\n\u001b[0;32m----> 2\u001b[0;31m \u001b[0mdata\u001b[0m\u001b[0;34m.\u001b[0m\u001b[0mtarget_names\u001b[0m\u001b[0;34m\u001b[0m\u001b[0;34m\u001b[0m\u001b[0m\n\u001b[0m",
            "\u001b[0;31mNameError\u001b[0m: name 'data' is not defined"
          ]
        }
      ]
    }
  ]
}