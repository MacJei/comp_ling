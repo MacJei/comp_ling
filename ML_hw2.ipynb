{
  "nbformat": 4,
  "nbformat_minor": 0,
  "metadata": {
    "colab": {
      "name": "Untitled",
      "provenance": [],
      "authorship_tag": "ABX9TyODHEmUF7X5F9UKGssq2ucl",
      "include_colab_link": true
    },
    "kernelspec": {
      "name": "python3",
      "display_name": "Python 3"
    }
  },
  "cells": [
    {
      "cell_type": "markdown",
      "metadata": {
        "id": "view-in-github",
        "colab_type": "text"
      },
      "source": [
        "<a href=\"https://colab.research.google.com/github/lnpetrova/comp_ling/blob/master/ML_hw2.ipynb\" target=\"_parent\"><img src=\"https://colab.research.google.com/assets/colab-badge.svg\" alt=\"Open In Colab\"/></a>"
      ]
    },
    {
      "cell_type": "code",
      "metadata": {
        "id": "CJDjmhakTEYN",
        "colab_type": "code",
        "colab": {}
      },
      "source": [
        "from IPython.display import Image"
      ],
      "execution_count": 0,
      "outputs": []
    },
    {
      "cell_type": "code",
      "metadata": {
        "id": "ayBcv1zfTIYK",
        "colab_type": "code",
        "colab": {}
      },
      "source": [
        "import tarfile\n",
        "import os\n",
        "import pandas as pd\n",
        "from sklearn.utils import shuffle\n",
        "from sklearn.feature_extraction.text import TfidfVectorizer\n",
        "vectorizer = TfidfVectorizer(stop_words='english')\n",
        "from sklearn.linear_model import LogisticRegression\n",
        "from sklearn.naive_bayes import BernoulliNB\n",
        "from sklearn.neighbors import KNeighborsClassifier\n",
        "from matplotlib import pyplot as plt\n",
        "import seaborn as sns\n",
        "from sklearn.metrics import roc_auc_score, roc_curve"
      ],
      "execution_count": 0,
      "outputs": []
    },
    {
      "cell_type": "code",
      "metadata": {
        "id": "1ES6JU_WFElx",
        "colab_type": "code",
        "outputId": "12248cf6-0bd8-41e9-f88b-61394d385a96",
        "colab": {
          "base_uri": "https://localhost:8080/",
          "height": 0
        }
      },
      "source": [
        "!wget http://ai.stanford.edu/~amaas/data/sentiment/aclImdb_v1.tar.gz"
      ],
      "execution_count": 4,
      "outputs": [
        {
          "output_type": "stream",
          "text": [
            "--2020-02-18 10:20:51--  http://ai.stanford.edu/~amaas/data/sentiment/aclImdb_v1.tar.gz\n",
            "Resolving ai.stanford.edu (ai.stanford.edu)... 171.64.68.10\n",
            "Connecting to ai.stanford.edu (ai.stanford.edu)|171.64.68.10|:80... connected.\n",
            "HTTP request sent, awaiting response... 200 OK\n",
            "Length: 84125825 (80M) [application/x-gzip]\n",
            "Saving to: ‘aclImdb_v1.tar.gz’\n",
            "\n",
            "aclImdb_v1.tar.gz   100%[===================>]  80.23M  24.0MB/s    in 5.7s    \n",
            "\n",
            "2020-02-18 10:20:57 (14.0 MB/s) - ‘aclImdb_v1.tar.gz’ saved [84125825/84125825]\n",
            "\n"
          ],
          "name": "stdout"
        }
      ]
    },
    {
      "cell_type": "code",
      "metadata": {
        "id": "s75N-0MOUVqe",
        "colab_type": "code",
        "colab": {}
      },
      "source": [
        "tarfile.open('/content/aclImdb_v1.tar.gz', 'r').extractall()"
      ],
      "execution_count": 0,
      "outputs": []
    },
    {
      "cell_type": "code",
      "metadata": {
        "id": "pjNV0g3KvB-H",
        "colab_type": "code",
        "colab": {}
      },
      "source": [
        "path_test_neg = '/content/aclImdb/test/neg'\n",
        "path_test_pos = '/content/aclImdb/test/pos'\n",
        "path_train_neg = '/content/aclImdb/train/neg'\n",
        "path_train_pos = '/content/aclImdb/train/pos'"
      ],
      "execution_count": 0,
      "outputs": []
    },
    {
      "cell_type": "code",
      "metadata": {
        "id": "x2FGgaxzzAPr",
        "colab_type": "code",
        "colab": {}
      },
      "source": [
        "find_test_neg = os.walk(path_test_neg)\n",
        "tests_neg = list(find_test_neg)[0][-1]\n",
        "#print(tests_neg)\n",
        "\n",
        "find_test_pos = os.walk(path_test_pos)\n",
        "tests_pos = list(find_test_pos)[0][-1]\n",
        "\n",
        "find_train_neg = os.walk(path_train_neg)\n",
        "trains_neg = list(find_train_neg)[0][-1]\n",
        "\n",
        "find_train_pos = os.walk(path_train_pos)\n",
        "trains_pos = list(find_train_pos)[0][-1]"
      ],
      "execution_count": 0,
      "outputs": []
    },
    {
      "cell_type": "code",
      "metadata": {
        "id": "qvLmnpsIQ9LT",
        "colab_type": "code",
        "colab": {}
      },
      "source": [
        "# pathes = []\n",
        "# pathes.append(path_test_neg)\n",
        "# pathes.append(path_test_pos)\n",
        "# pathes.append(path_train_pos)\n",
        "# pathes.append(path_train_neg)"
      ],
      "execution_count": 0,
      "outputs": []
    },
    {
      "cell_type": "code",
      "metadata": {
        "id": "85pfiCBUO1dV",
        "colab_type": "code",
        "colab": {}
      },
      "source": [
        "# def get_files(path):\n",
        "#   find_files = os.walk(path)\n",
        "#   list_of_files = list(find_files)[0][-1]\n",
        "#   return list_of_files"
      ],
      "execution_count": 0,
      "outputs": []
    },
    {
      "cell_type": "code",
      "metadata": {
        "id": "-SP9KjwNScpA",
        "colab_type": "code",
        "colab": {}
      },
      "source": [
        "# for path in pathes:\n",
        "#   get_files(path)"
      ],
      "execution_count": 0,
      "outputs": []
    },
    {
      "cell_type": "code",
      "metadata": {
        "id": "bd03iMvJ07kG",
        "colab_type": "code",
        "colab": {}
      },
      "source": [
        "def collect_texts(path, files):\n",
        "    texts = [open('{}/{}'.format(path, file)).read().lower() for file in files]\n",
        "    return texts"
      ],
      "execution_count": 0,
      "outputs": []
    },
    {
      "cell_type": "code",
      "metadata": {
        "id": "rg6RuZTQzBeG",
        "colab_type": "code",
        "outputId": "58458a67-6707-44b7-8ae8-f49b80b8530c",
        "colab": {
          "base_uri": "https://localhost:8080/",
          "height": 198
        }
      },
      "source": [
        "test_pos_df = pd.DataFrame(collect_texts(path_test_pos, tests_pos),  columns = ['text'])\n",
        "test_pos_df['polarity'] = 1\n",
        "test_pos_df.head()"
      ],
      "execution_count": 47,
      "outputs": [
        {
          "output_type": "execute_result",
          "data": {
            "text/html": [
              "<div>\n",
              "<style scoped>\n",
              "    .dataframe tbody tr th:only-of-type {\n",
              "        vertical-align: middle;\n",
              "    }\n",
              "\n",
              "    .dataframe tbody tr th {\n",
              "        vertical-align: top;\n",
              "    }\n",
              "\n",
              "    .dataframe thead th {\n",
              "        text-align: right;\n",
              "    }\n",
              "</style>\n",
              "<table border=\"1\" class=\"dataframe\">\n",
              "  <thead>\n",
              "    <tr style=\"text-align: right;\">\n",
              "      <th></th>\n",
              "      <th>text</th>\n",
              "      <th>polarity</th>\n",
              "    </tr>\n",
              "  </thead>\n",
              "  <tbody>\n",
              "    <tr>\n",
              "      <th>0</th>\n",
              "      <td>i've enjoyed this movie ever since i was a kid...</td>\n",
              "      <td>1</td>\n",
              "    </tr>\n",
              "    <tr>\n",
              "      <th>1</th>\n",
              "      <td>this was very funny, even if it fell apart a l...</td>\n",
              "      <td>1</td>\n",
              "    </tr>\n",
              "    <tr>\n",
              "      <th>2</th>\n",
              "      <td>this is the best show ever no matter what you ...</td>\n",
              "      <td>1</td>\n",
              "    </tr>\n",
              "    <tr>\n",
              "      <th>3</th>\n",
              "      <td>to say the truth, i went to see this movie onl...</td>\n",
              "      <td>1</td>\n",
              "    </tr>\n",
              "    <tr>\n",
              "      <th>4</th>\n",
              "      <td>simon wests pg-13 thriller about a babysitter ...</td>\n",
              "      <td>1</td>\n",
              "    </tr>\n",
              "  </tbody>\n",
              "</table>\n",
              "</div>"
            ],
            "text/plain": [
              "                                                text  polarity\n",
              "0  i've enjoyed this movie ever since i was a kid...         1\n",
              "1  this was very funny, even if it fell apart a l...         1\n",
              "2  this is the best show ever no matter what you ...         1\n",
              "3  to say the truth, i went to see this movie onl...         1\n",
              "4  simon wests pg-13 thriller about a babysitter ...         1"
            ]
          },
          "metadata": {
            "tags": []
          },
          "execution_count": 47
        }
      ]
    },
    {
      "cell_type": "code",
      "metadata": {
        "id": "v026Sve90Ods",
        "colab_type": "code",
        "outputId": "f67b9115-7d6d-4347-c95d-492407cc0d20",
        "colab": {
          "base_uri": "https://localhost:8080/",
          "height": 198
        }
      },
      "source": [
        "test_neg_df = pd.DataFrame(collect_texts(path_test_neg, tests_neg),  columns = ['text'])\n",
        "test_neg_df['polarity'] = 0\n",
        "test_neg_df.head()"
      ],
      "execution_count": 49,
      "outputs": [
        {
          "output_type": "execute_result",
          "data": {
            "text/html": [
              "<div>\n",
              "<style scoped>\n",
              "    .dataframe tbody tr th:only-of-type {\n",
              "        vertical-align: middle;\n",
              "    }\n",
              "\n",
              "    .dataframe tbody tr th {\n",
              "        vertical-align: top;\n",
              "    }\n",
              "\n",
              "    .dataframe thead th {\n",
              "        text-align: right;\n",
              "    }\n",
              "</style>\n",
              "<table border=\"1\" class=\"dataframe\">\n",
              "  <thead>\n",
              "    <tr style=\"text-align: right;\">\n",
              "      <th></th>\n",
              "      <th>text</th>\n",
              "      <th>polarity</th>\n",
              "    </tr>\n",
              "  </thead>\n",
              "  <tbody>\n",
              "    <tr>\n",
              "      <th>0</th>\n",
              "      <td>derek jarman has shown us time and time again ...</td>\n",
              "      <td>0</td>\n",
              "    </tr>\n",
              "    <tr>\n",
              "      <th>1</th>\n",
              "      <td>well, i remember when the studio sacked schrad...</td>\n",
              "      <td>0</td>\n",
              "    </tr>\n",
              "    <tr>\n",
              "      <th>2</th>\n",
              "      <td>i was loaned this dvd by the director of a fil...</td>\n",
              "      <td>0</td>\n",
              "    </tr>\n",
              "    <tr>\n",
              "      <th>3</th>\n",
              "      <td>this movie was shot using a digital camera, an...</td>\n",
              "      <td>0</td>\n",
              "    </tr>\n",
              "    <tr>\n",
              "      <th>4</th>\n",
              "      <td>i sat last night to see this film being played...</td>\n",
              "      <td>0</td>\n",
              "    </tr>\n",
              "  </tbody>\n",
              "</table>\n",
              "</div>"
            ],
            "text/plain": [
              "                                                text  polarity\n",
              "0  derek jarman has shown us time and time again ...         0\n",
              "1  well, i remember when the studio sacked schrad...         0\n",
              "2  i was loaned this dvd by the director of a fil...         0\n",
              "3  this movie was shot using a digital camera, an...         0\n",
              "4  i sat last night to see this film being played...         0"
            ]
          },
          "metadata": {
            "tags": []
          },
          "execution_count": 49
        }
      ]
    },
    {
      "cell_type": "code",
      "metadata": {
        "id": "Ab9Gxvu90WPY",
        "colab_type": "code",
        "outputId": "5bded155-321c-4396-a2bd-ab6a5e4a10c8",
        "colab": {
          "base_uri": "https://localhost:8080/",
          "height": 407
        }
      },
      "source": [
        "test = pd.concat((test_pos_df, test_neg_df))\n",
        "test"
      ],
      "execution_count": 50,
      "outputs": [
        {
          "output_type": "execute_result",
          "data": {
            "text/html": [
              "<div>\n",
              "<style scoped>\n",
              "    .dataframe tbody tr th:only-of-type {\n",
              "        vertical-align: middle;\n",
              "    }\n",
              "\n",
              "    .dataframe tbody tr th {\n",
              "        vertical-align: top;\n",
              "    }\n",
              "\n",
              "    .dataframe thead th {\n",
              "        text-align: right;\n",
              "    }\n",
              "</style>\n",
              "<table border=\"1\" class=\"dataframe\">\n",
              "  <thead>\n",
              "    <tr style=\"text-align: right;\">\n",
              "      <th></th>\n",
              "      <th>text</th>\n",
              "      <th>polarity</th>\n",
              "    </tr>\n",
              "  </thead>\n",
              "  <tbody>\n",
              "    <tr>\n",
              "      <th>0</th>\n",
              "      <td>i've enjoyed this movie ever since i was a kid...</td>\n",
              "      <td>1</td>\n",
              "    </tr>\n",
              "    <tr>\n",
              "      <th>1</th>\n",
              "      <td>this was very funny, even if it fell apart a l...</td>\n",
              "      <td>1</td>\n",
              "    </tr>\n",
              "    <tr>\n",
              "      <th>2</th>\n",
              "      <td>this is the best show ever no matter what you ...</td>\n",
              "      <td>1</td>\n",
              "    </tr>\n",
              "    <tr>\n",
              "      <th>3</th>\n",
              "      <td>to say the truth, i went to see this movie onl...</td>\n",
              "      <td>1</td>\n",
              "    </tr>\n",
              "    <tr>\n",
              "      <th>4</th>\n",
              "      <td>simon wests pg-13 thriller about a babysitter ...</td>\n",
              "      <td>1</td>\n",
              "    </tr>\n",
              "    <tr>\n",
              "      <th>...</th>\n",
              "      <td>...</td>\n",
              "      <td>...</td>\n",
              "    </tr>\n",
              "    <tr>\n",
              "      <th>12495</th>\n",
              "      <td>like a lot of movies involving little kids, th...</td>\n",
              "      <td>0</td>\n",
              "    </tr>\n",
              "    <tr>\n",
              "      <th>12496</th>\n",
              "      <td>i love basketball and this seemed like an intr...</td>\n",
              "      <td>0</td>\n",
              "    </tr>\n",
              "    <tr>\n",
              "      <th>12497</th>\n",
              "      <td>i was very excited when paranormal state first...</td>\n",
              "      <td>0</td>\n",
              "    </tr>\n",
              "    <tr>\n",
              "      <th>12498</th>\n",
              "      <td>... once. \"manos, the hands of fate.\" that was...</td>\n",
              "      <td>0</td>\n",
              "    </tr>\n",
              "    <tr>\n",
              "      <th>12499</th>\n",
              "      <td>writer/director michael hurst's sci-fi channel...</td>\n",
              "      <td>0</td>\n",
              "    </tr>\n",
              "  </tbody>\n",
              "</table>\n",
              "<p>25000 rows × 2 columns</p>\n",
              "</div>"
            ],
            "text/plain": [
              "                                                    text  polarity\n",
              "0      i've enjoyed this movie ever since i was a kid...         1\n",
              "1      this was very funny, even if it fell apart a l...         1\n",
              "2      this is the best show ever no matter what you ...         1\n",
              "3      to say the truth, i went to see this movie onl...         1\n",
              "4      simon wests pg-13 thriller about a babysitter ...         1\n",
              "...                                                  ...       ...\n",
              "12495  like a lot of movies involving little kids, th...         0\n",
              "12496  i love basketball and this seemed like an intr...         0\n",
              "12497  i was very excited when paranormal state first...         0\n",
              "12498  ... once. \"manos, the hands of fate.\" that was...         0\n",
              "12499  writer/director michael hurst's sci-fi channel...         0\n",
              "\n",
              "[25000 rows x 2 columns]"
            ]
          },
          "metadata": {
            "tags": []
          },
          "execution_count": 50
        }
      ]
    },
    {
      "cell_type": "code",
      "metadata": {
        "id": "Z5XeJAVN0hwN",
        "colab_type": "code",
        "outputId": "7fdec979-451b-428d-ce8a-bd92a14499b3",
        "colab": {
          "base_uri": "https://localhost:8080/",
          "height": 198
        }
      },
      "source": [
        "train_pos_df = pd.DataFrame(collect_texts(path_train_pos, trains_pos),  columns = ['text'])\n",
        "train_pos_df['polarity'] = 1\n",
        "train_pos_df.head()"
      ],
      "execution_count": 51,
      "outputs": [
        {
          "output_type": "execute_result",
          "data": {
            "text/html": [
              "<div>\n",
              "<style scoped>\n",
              "    .dataframe tbody tr th:only-of-type {\n",
              "        vertical-align: middle;\n",
              "    }\n",
              "\n",
              "    .dataframe tbody tr th {\n",
              "        vertical-align: top;\n",
              "    }\n",
              "\n",
              "    .dataframe thead th {\n",
              "        text-align: right;\n",
              "    }\n",
              "</style>\n",
              "<table border=\"1\" class=\"dataframe\">\n",
              "  <thead>\n",
              "    <tr style=\"text-align: right;\">\n",
              "      <th></th>\n",
              "      <th>text</th>\n",
              "      <th>polarity</th>\n",
              "    </tr>\n",
              "  </thead>\n",
              "  <tbody>\n",
              "    <tr>\n",
              "      <th>0</th>\n",
              "      <td>there are many reasons to watch this movie: to...</td>\n",
              "      <td>1</td>\n",
              "    </tr>\n",
              "    <tr>\n",
              "      <th>1</th>\n",
              "      <td>if you ever see a stand up comedy movie this i...</td>\n",
              "      <td>1</td>\n",
              "    </tr>\n",
              "    <tr>\n",
              "      <th>2</th>\n",
              "      <td>michelle rodrigez was made for this movie, whe...</td>\n",
              "      <td>1</td>\n",
              "    </tr>\n",
              "    <tr>\n",
              "      <th>3</th>\n",
              "      <td>edmund lowe (who reminds me somewhat of warren...</td>\n",
              "      <td>1</td>\n",
              "    </tr>\n",
              "    <tr>\n",
              "      <th>4</th>\n",
              "      <td>what an ambitious project kenneth branagh unde...</td>\n",
              "      <td>1</td>\n",
              "    </tr>\n",
              "  </tbody>\n",
              "</table>\n",
              "</div>"
            ],
            "text/plain": [
              "                                                text  polarity\n",
              "0  there are many reasons to watch this movie: to...         1\n",
              "1  if you ever see a stand up comedy movie this i...         1\n",
              "2  michelle rodrigez was made for this movie, whe...         1\n",
              "3  edmund lowe (who reminds me somewhat of warren...         1\n",
              "4  what an ambitious project kenneth branagh unde...         1"
            ]
          },
          "metadata": {
            "tags": []
          },
          "execution_count": 51
        }
      ]
    },
    {
      "cell_type": "code",
      "metadata": {
        "id": "clHe2MDd0tFm",
        "colab_type": "code",
        "outputId": "70bd3380-17da-48bc-e16f-9ab88d4e8e36",
        "colab": {
          "base_uri": "https://localhost:8080/",
          "height": 198
        }
      },
      "source": [
        "train_neg_df = pd.DataFrame(collect_texts(path_train_neg, trains_neg),  columns = ['text'])\n",
        "train_neg_df['polarity'] = 0\n",
        "train_neg_df.head()"
      ],
      "execution_count": 52,
      "outputs": [
        {
          "output_type": "execute_result",
          "data": {
            "text/html": [
              "<div>\n",
              "<style scoped>\n",
              "    .dataframe tbody tr th:only-of-type {\n",
              "        vertical-align: middle;\n",
              "    }\n",
              "\n",
              "    .dataframe tbody tr th {\n",
              "        vertical-align: top;\n",
              "    }\n",
              "\n",
              "    .dataframe thead th {\n",
              "        text-align: right;\n",
              "    }\n",
              "</style>\n",
              "<table border=\"1\" class=\"dataframe\">\n",
              "  <thead>\n",
              "    <tr style=\"text-align: right;\">\n",
              "      <th></th>\n",
              "      <th>text</th>\n",
              "      <th>polarity</th>\n",
              "    </tr>\n",
              "  </thead>\n",
              "  <tbody>\n",
              "    <tr>\n",
              "      <th>0</th>\n",
              "      <td>this film is justly famous as one of the most ...</td>\n",
              "      <td>0</td>\n",
              "    </tr>\n",
              "    <tr>\n",
              "      <th>1</th>\n",
              "      <td>definitely the worst movie i have ever seen......</td>\n",
              "      <td>0</td>\n",
              "    </tr>\n",
              "    <tr>\n",
              "      <th>2</th>\n",
              "      <td>crazed shotgun toting-incest driven-revenge se...</td>\n",
              "      <td>0</td>\n",
              "    </tr>\n",
              "    <tr>\n",
              "      <th>3</th>\n",
              "      <td>it was a good story, but not very well told. i...</td>\n",
              "      <td>0</td>\n",
              "    </tr>\n",
              "    <tr>\n",
              "      <th>4</th>\n",
              "      <td>so far nightmares and dreamscapes has been err...</td>\n",
              "      <td>0</td>\n",
              "    </tr>\n",
              "  </tbody>\n",
              "</table>\n",
              "</div>"
            ],
            "text/plain": [
              "                                                text  polarity\n",
              "0  this film is justly famous as one of the most ...         0\n",
              "1  definitely the worst movie i have ever seen......         0\n",
              "2  crazed shotgun toting-incest driven-revenge se...         0\n",
              "3  it was a good story, but not very well told. i...         0\n",
              "4  so far nightmares and dreamscapes has been err...         0"
            ]
          },
          "metadata": {
            "tags": []
          },
          "execution_count": 52
        }
      ]
    },
    {
      "cell_type": "code",
      "metadata": {
        "id": "SnwgJHCF02T2",
        "colab_type": "code",
        "outputId": "795408bf-7a3b-4a55-90ca-09b6ab05a188",
        "colab": {
          "base_uri": "https://localhost:8080/",
          "height": 407
        }
      },
      "source": [
        "train = pd.concat((train_pos_df, train_neg_df))\n",
        "train"
      ],
      "execution_count": 53,
      "outputs": [
        {
          "output_type": "execute_result",
          "data": {
            "text/html": [
              "<div>\n",
              "<style scoped>\n",
              "    .dataframe tbody tr th:only-of-type {\n",
              "        vertical-align: middle;\n",
              "    }\n",
              "\n",
              "    .dataframe tbody tr th {\n",
              "        vertical-align: top;\n",
              "    }\n",
              "\n",
              "    .dataframe thead th {\n",
              "        text-align: right;\n",
              "    }\n",
              "</style>\n",
              "<table border=\"1\" class=\"dataframe\">\n",
              "  <thead>\n",
              "    <tr style=\"text-align: right;\">\n",
              "      <th></th>\n",
              "      <th>text</th>\n",
              "      <th>polarity</th>\n",
              "    </tr>\n",
              "  </thead>\n",
              "  <tbody>\n",
              "    <tr>\n",
              "      <th>0</th>\n",
              "      <td>there are many reasons to watch this movie: to...</td>\n",
              "      <td>1</td>\n",
              "    </tr>\n",
              "    <tr>\n",
              "      <th>1</th>\n",
              "      <td>if you ever see a stand up comedy movie this i...</td>\n",
              "      <td>1</td>\n",
              "    </tr>\n",
              "    <tr>\n",
              "      <th>2</th>\n",
              "      <td>michelle rodrigez was made for this movie, whe...</td>\n",
              "      <td>1</td>\n",
              "    </tr>\n",
              "    <tr>\n",
              "      <th>3</th>\n",
              "      <td>edmund lowe (who reminds me somewhat of warren...</td>\n",
              "      <td>1</td>\n",
              "    </tr>\n",
              "    <tr>\n",
              "      <th>4</th>\n",
              "      <td>what an ambitious project kenneth branagh unde...</td>\n",
              "      <td>1</td>\n",
              "    </tr>\n",
              "    <tr>\n",
              "      <th>...</th>\n",
              "      <td>...</td>\n",
              "      <td>...</td>\n",
              "    </tr>\n",
              "    <tr>\n",
              "      <th>12495</th>\n",
              "      <td>i have seen many, many productions of the nutc...</td>\n",
              "      <td>0</td>\n",
              "    </tr>\n",
              "    <tr>\n",
              "      <th>12496</th>\n",
              "      <td>okay, during this past thanksgiving break, whi...</td>\n",
              "      <td>0</td>\n",
              "    </tr>\n",
              "    <tr>\n",
              "      <th>12497</th>\n",
              "      <td>i just got the uk 4-disc special edition of su...</td>\n",
              "      <td>0</td>\n",
              "    </tr>\n",
              "    <tr>\n",
              "      <th>12498</th>\n",
              "      <td>this is loosely based on the ideas of the orig...</td>\n",
              "      <td>0</td>\n",
              "    </tr>\n",
              "    <tr>\n",
              "      <th>12499</th>\n",
              "      <td>it seems like this is the only film that john ...</td>\n",
              "      <td>0</td>\n",
              "    </tr>\n",
              "  </tbody>\n",
              "</table>\n",
              "<p>25000 rows × 2 columns</p>\n",
              "</div>"
            ],
            "text/plain": [
              "                                                    text  polarity\n",
              "0      there are many reasons to watch this movie: to...         1\n",
              "1      if you ever see a stand up comedy movie this i...         1\n",
              "2      michelle rodrigez was made for this movie, whe...         1\n",
              "3      edmund lowe (who reminds me somewhat of warren...         1\n",
              "4      what an ambitious project kenneth branagh unde...         1\n",
              "...                                                  ...       ...\n",
              "12495  i have seen many, many productions of the nutc...         0\n",
              "12496  okay, during this past thanksgiving break, whi...         0\n",
              "12497  i just got the uk 4-disc special edition of su...         0\n",
              "12498  this is loosely based on the ideas of the orig...         0\n",
              "12499  it seems like this is the only film that john ...         0\n",
              "\n",
              "[25000 rows x 2 columns]"
            ]
          },
          "metadata": {
            "tags": []
          },
          "execution_count": 53
        }
      ]
    },
    {
      "cell_type": "code",
      "metadata": {
        "id": "S2DmpnmJ1GwL",
        "colab_type": "code",
        "outputId": "e035f91e-e2d1-4786-99b3-8696c68a722e",
        "colab": {
          "base_uri": "https://localhost:8080/",
          "height": 198
        }
      },
      "source": [
        "train = shuffle(train, random_state=42)\n",
        "train = train[:1000]\n",
        "train.head()"
      ],
      "execution_count": 68,
      "outputs": [
        {
          "output_type": "execute_result",
          "data": {
            "text/html": [
              "<div>\n",
              "<style scoped>\n",
              "    .dataframe tbody tr th:only-of-type {\n",
              "        vertical-align: middle;\n",
              "    }\n",
              "\n",
              "    .dataframe tbody tr th {\n",
              "        vertical-align: top;\n",
              "    }\n",
              "\n",
              "    .dataframe thead th {\n",
              "        text-align: right;\n",
              "    }\n",
              "</style>\n",
              "<table border=\"1\" class=\"dataframe\">\n",
              "  <thead>\n",
              "    <tr style=\"text-align: right;\">\n",
              "      <th></th>\n",
              "      <th>text</th>\n",
              "      <th>polarity</th>\n",
              "    </tr>\n",
              "  </thead>\n",
              "  <tbody>\n",
              "    <tr>\n",
              "      <th>1123</th>\n",
              "      <td>rich, alcoholic robert stack falls in love wit...</td>\n",
              "      <td>1</td>\n",
              "    </tr>\n",
              "    <tr>\n",
              "      <th>11225</th>\n",
              "      <td>this is one of those horror flicks where twent...</td>\n",
              "      <td>0</td>\n",
              "    </tr>\n",
              "    <tr>\n",
              "      <th>1599</th>\n",
              "      <td>along with the \"maratonci trce pocasni krug\" f...</td>\n",
              "      <td>1</td>\n",
              "    </tr>\n",
              "    <tr>\n",
              "      <th>8925</th>\n",
              "      <td>this movie had so much potential - a strong ca...</td>\n",
              "      <td>0</td>\n",
              "    </tr>\n",
              "    <tr>\n",
              "      <th>6580</th>\n",
              "      <td>although the plot was a bit sappy at times, an...</td>\n",
              "      <td>1</td>\n",
              "    </tr>\n",
              "  </tbody>\n",
              "</table>\n",
              "</div>"
            ],
            "text/plain": [
              "                                                    text  polarity\n",
              "1123   rich, alcoholic robert stack falls in love wit...         1\n",
              "11225  this is one of those horror flicks where twent...         0\n",
              "1599   along with the \"maratonci trce pocasni krug\" f...         1\n",
              "8925   this movie had so much potential - a strong ca...         0\n",
              "6580   although the plot was a bit sappy at times, an...         1"
            ]
          },
          "metadata": {
            "tags": []
          },
          "execution_count": 68
        }
      ]
    },
    {
      "cell_type": "code",
      "metadata": {
        "id": "dnfRhevD1OWy",
        "colab_type": "code",
        "colab": {
          "base_uri": "https://localhost:8080/",
          "height": 1000
        },
        "outputId": "94d0eeff-2a90-4fd7-9bba-e944aa22a066"
      },
      "source": [
        "X_train = vectorizer.fit_transform(train.text)\n",
        "print(X_train)\n",
        "y_train = train.polarity\n",
        "print(y_train)"
      ],
      "execution_count": 70,
      "outputs": [
        {
          "output_type": "stream",
          "text": [
            "  (0, 10603)\t0.06813185799949871\n",
            "  (0, 5004)\t0.03784479760805218\n",
            "  (0, 16801)\t0.07499387605718667\n",
            "  (0, 3766)\t0.0924097293736522\n",
            "  (0, 16138)\t0.08598205609838092\n",
            "  (0, 17522)\t0.1143860894560407\n",
            "  (0, 17580)\t0.08244465223143992\n",
            "  (0, 14539)\t0.08046049188588483\n",
            "  (0, 13884)\t0.0515969309083381\n",
            "  (0, 412)\t0.06335856155738169\n",
            "  (0, 16003)\t0.06304463856941929\n",
            "  (0, 18098)\t0.058024604183609385\n",
            "  (0, 4573)\t0.10339790941484646\n",
            "  (0, 6085)\t0.07499387605718667\n",
            "  (0, 7487)\t0.06400569601599242\n",
            "  (0, 17822)\t0.0668959654243227\n",
            "  (0, 17888)\t0.061847648082118775\n",
            "  (0, 9178)\t0.09452654817413314\n",
            "  (0, 15060)\t0.10339790941484646\n",
            "  (0, 5696)\t0.052370381516187434\n",
            "  (0, 7232)\t0.03680189134253006\n",
            "  (0, 7019)\t0.09697023613957517\n",
            "  (0, 18287)\t0.051150349465449836\n",
            "  (0, 14394)\t0.05757802274072113\n",
            "  (0, 8737)\t0.04870666150000781\n",
            "  :\t:\n",
            "  (999, 17900)\t0.10188019410828489\n",
            "  (999, 8518)\t0.1033129394717635\n",
            "  (999, 12006)\t0.0719021608590993\n",
            "  (999, 13169)\t0.07249707595392724\n",
            "  (999, 14825)\t0.08257542148984312\n",
            "  (999, 7010)\t0.07766025821628293\n",
            "  (999, 15817)\t0.07766025821628293\n",
            "  (999, 13106)\t0.10486042235338451\n",
            "  (999, 17526)\t0.10486042235338451\n",
            "  (999, 12444)\t0.08362071470648214\n",
            "  (999, 6920)\t0.07614314959866669\n",
            "  (999, 12596)\t0.05940077881448018\n",
            "  (999, 11096)\t0.059247946278963105\n",
            "  (999, 2851)\t0.050858731193103135\n",
            "  (999, 1207)\t0.08064048646138254\n",
            "  (999, 8791)\t0.08714557657447239\n",
            "  (999, 10682)\t0.07614314959866669\n",
            "  (999, 6207)\t0.08309100444601702\n",
            "  (999, 17579)\t0.0841653483293728\n",
            "  (999, 2506)\t0.07507866708510509\n",
            "  (999, 6651)\t0.0906704384424626\n",
            "  (999, 8737)\t0.05940077881448018\n",
            "  (999, 4673)\t0.07507866708510509\n",
            "  (999, 17815)\t0.09246310716004717\n",
            "  (999, 7109)\t0.03731057269773001\n",
            "1123     1\n",
            "11225    0\n",
            "1599     1\n",
            "8925     0\n",
            "6580     1\n",
            "        ..\n",
            "10567    0\n",
            "3200     0\n",
            "12154    1\n",
            "1488     0\n",
            "9718     0\n",
            "Name: polarity, Length: 1000, dtype: int64\n"
          ],
          "name": "stdout"
        }
      ]
    },
    {
      "cell_type": "code",
      "metadata": {
        "id": "vzgzzr7R1TG9",
        "colab_type": "code",
        "outputId": "56f3161e-cdc0-4404-c978-f4346ec94aa7",
        "colab": {
          "base_uri": "https://localhost:8080/",
          "height": 198
        }
      },
      "source": [
        "test = shuffle(test, random_state=42)\n",
        "test = test[:1000]\n",
        "test.head()"
      ],
      "execution_count": 69,
      "outputs": [
        {
          "output_type": "execute_result",
          "data": {
            "text/html": [
              "<div>\n",
              "<style scoped>\n",
              "    .dataframe tbody tr th:only-of-type {\n",
              "        vertical-align: middle;\n",
              "    }\n",
              "\n",
              "    .dataframe tbody tr th {\n",
              "        vertical-align: top;\n",
              "    }\n",
              "\n",
              "    .dataframe thead th {\n",
              "        text-align: right;\n",
              "    }\n",
              "</style>\n",
              "<table border=\"1\" class=\"dataframe\">\n",
              "  <thead>\n",
              "    <tr style=\"text-align: right;\">\n",
              "      <th></th>\n",
              "      <th>text</th>\n",
              "      <th>polarity</th>\n",
              "    </tr>\n",
              "  </thead>\n",
              "  <tbody>\n",
              "    <tr>\n",
              "      <th>311</th>\n",
              "      <td>first of all, blythe danner doesn't look anywh...</td>\n",
              "      <td>0</td>\n",
              "    </tr>\n",
              "    <tr>\n",
              "      <th>5742</th>\n",
              "      <td>a college professor is working on creating zom...</td>\n",
              "      <td>0</td>\n",
              "    </tr>\n",
              "    <tr>\n",
              "      <th>2760</th>\n",
              "      <td>sex lives of the potato men is about the sex l...</td>\n",
              "      <td>0</td>\n",
              "    </tr>\n",
              "    <tr>\n",
              "      <th>10494</th>\n",
              "      <td>first off, i'm amazed to see that this film ha...</td>\n",
              "      <td>0</td>\n",
              "    </tr>\n",
              "    <tr>\n",
              "      <th>1045</th>\n",
              "      <td>joline (heather graham) sets out after her hus...</td>\n",
              "      <td>1</td>\n",
              "    </tr>\n",
              "  </tbody>\n",
              "</table>\n",
              "</div>"
            ],
            "text/plain": [
              "                                                    text  polarity\n",
              "311    first of all, blythe danner doesn't look anywh...         0\n",
              "5742   a college professor is working on creating zom...         0\n",
              "2760   sex lives of the potato men is about the sex l...         0\n",
              "10494  first off, i'm amazed to see that this film ha...         0\n",
              "1045   joline (heather graham) sets out after her hus...         1"
            ]
          },
          "metadata": {
            "tags": []
          },
          "execution_count": 69
        }
      ]
    },
    {
      "cell_type": "code",
      "metadata": {
        "id": "W0Bf4Dzh1azp",
        "colab_type": "code",
        "colab": {
          "base_uri": "https://localhost:8080/",
          "height": 1000
        },
        "outputId": "a5fa9746-3f42-4bf0-880f-53b61998bff6"
      },
      "source": [
        "X_test = vectorizer.transform(test.text)\n",
        "print(X_test)\n",
        "y_test = test.polarity\n",
        "print(y_test)"
      ],
      "execution_count": 66,
      "outputs": [
        {
          "output_type": "stream",
          "text": [
            "  (0, 50182)\t0.25409307895967775\n",
            "  (0, 46941)\t0.15639587404492783\n",
            "  (0, 46251)\t0.21417445087627973\n",
            "  (0, 45961)\t0.058937567064647756\n",
            "  (0, 44075)\t0.1578856133116422\n",
            "  (0, 43539)\t0.27405239300137674\n",
            "  (0, 40486)\t0.17759122347967154\n",
            "  (0, 40465)\t0.12476110974871775\n",
            "  (0, 40462)\t0.10221909092568313\n",
            "  (0, 36884)\t0.06277443041656679\n",
            "  (0, 34423)\t0.10266496104769067\n",
            "  (0, 34405)\t0.10545440615309042\n",
            "  (0, 30459)\t0.15497943095877356\n",
            "  (0, 30260)\t0.0428151163748678\n",
            "  (0, 29373)\t0.10404555478024789\n",
            "  (0, 27099)\t0.08665252683080375\n",
            "  (0, 26986)\t0.09014090398888251\n",
            "  (0, 26121)\t0.11684251771012187\n",
            "  (0, 26018)\t0.4265238368760321\n",
            "  (0, 25403)\t0.12676506274048152\n",
            "  (0, 24686)\t0.05393605941586017\n",
            "  (0, 22066)\t0.11927015798764942\n",
            "  (0, 21802)\t0.19915741646930435\n",
            "  (0, 19282)\t0.08656676294495368\n",
            "  (0, 19062)\t0.11200389844483977\n",
            "  :\t:\n",
            "  (2499, 16105)\t0.1385676992807104\n",
            "  (2499, 16060)\t0.1446054195719868\n",
            "  (2499, 14590)\t0.14240354348277062\n",
            "  (2499, 14476)\t0.07890168645017724\n",
            "  (2499, 12646)\t0.16505558217498986\n",
            "  (2499, 12563)\t0.05859732201182092\n",
            "  (2499, 12246)\t0.1446054195719868\n",
            "  (2499, 11460)\t0.07478367032152061\n",
            "  (2499, 11037)\t0.16104443505596108\n",
            "  (2499, 10372)\t0.07572421308109727\n",
            "  (2499, 10127)\t0.1266363481285157\n",
            "  (2499, 9749)\t0.1076330035522501\n",
            "  (2499, 8430)\t0.1274175094657411\n",
            "  (2499, 7666)\t0.12182966696609018\n",
            "  (2499, 7273)\t0.12539305691614452\n",
            "  (2499, 6948)\t0.1311651755951453\n",
            "  (2499, 6411)\t0.12043551013225548\n",
            "  (2499, 4472)\t0.20493287737756874\n",
            "  (2499, 3629)\t0.10424162698571378\n",
            "  (2499, 3494)\t0.1446054195719868\n",
            "  (2499, 3178)\t0.09944358664649192\n",
            "  (2499, 2529)\t0.11514363752748272\n",
            "  (2499, 1056)\t0.06500786102235113\n",
            "  (2499, 748)\t0.1133943403640044\n",
            "  (2499, 265)\t0.2954184102388866\n",
            "6868     1\n",
            "11516    0\n",
            "9668     1\n",
            "1140     0\n",
            "1518     0\n",
            "        ..\n",
            "8354     0\n",
            "2808     0\n",
            "738      0\n",
            "9067     0\n",
            "11393    1\n",
            "Name: polarity, Length: 2500, dtype: int64\n"
          ],
          "name": "stdout"
        }
      ]
    },
    {
      "cell_type": "markdown",
      "metadata": {
        "id": "saaPwUxCaUET",
        "colab_type": "text"
      },
      "source": [
        "## **Метод ближайшего соседа**"
      ]
    },
    {
      "cell_type": "code",
      "metadata": {
        "id": "2DvLwZQw_VPx",
        "colab_type": "code",
        "colab": {
          "base_uri": "https://localhost:8080/",
          "height": 171
        },
        "outputId": "136b6b37-7d02-4b1c-d7b1-ca935228ae30"
      },
      "source": [
        "clf_KN = KNeighborsClassifier().fit(X_train_counts, test_data_short.Polarity)"
      ],
      "execution_count": 72,
      "outputs": [
        {
          "output_type": "error",
          "ename": "NameError",
          "evalue": "ignored",
          "traceback": [
            "\u001b[0;31m---------------------------------------------------------------------------\u001b[0m",
            "\u001b[0;31mNameError\u001b[0m                                 Traceback (most recent call last)",
            "\u001b[0;32m<ipython-input-72-956c2d0c9b23>\u001b[0m in \u001b[0;36m<module>\u001b[0;34m()\u001b[0m\n\u001b[0;32m----> 1\u001b[0;31m \u001b[0mclf_KN\u001b[0m \u001b[0;34m=\u001b[0m \u001b[0mKNeighborsClassifier\u001b[0m\u001b[0;34m(\u001b[0m\u001b[0;34m)\u001b[0m\u001b[0;34m.\u001b[0m\u001b[0mfit\u001b[0m\u001b[0;34m(\u001b[0m\u001b[0mX_train_counts\u001b[0m\u001b[0;34m,\u001b[0m \u001b[0mtest_data_short\u001b[0m\u001b[0;34m.\u001b[0m\u001b[0mPolarity\u001b[0m\u001b[0;34m)\u001b[0m\u001b[0;34m\u001b[0m\u001b[0;34m\u001b[0m\u001b[0m\n\u001b[0m",
            "\u001b[0;31mNameError\u001b[0m: name 'X_train_counts' is not defined"
          ]
        }
      ]
    },
    {
      "cell_type": "code",
      "metadata": {
        "id": "fVv39kkF3dFK",
        "colab_type": "code",
        "colab": {
          "base_uri": "https://localhost:8080/",
          "height": 0
        },
        "outputId": "fd14082e-8564-49e3-d7ad-a6fcfbc702e2"
      },
      "source": [
        "logreg = LogisticRegression()\n",
        "logreg.fit(X_train, y_train)"
      ],
      "execution_count": 59,
      "outputs": [
        {
          "output_type": "execute_result",
          "data": {
            "text/plain": [
              "LogisticRegression(C=1.0, class_weight=None, dual=False, fit_intercept=True,\n",
              "                   intercept_scaling=1, l1_ratio=None, max_iter=100,\n",
              "                   multi_class='auto', n_jobs=None, penalty='l2',\n",
              "                   random_state=None, solver='lbfgs', tol=0.0001, verbose=0,\n",
              "                   warm_start=False)"
            ]
          },
          "metadata": {
            "tags": []
          },
          "execution_count": 59
        }
      ]
    },
    {
      "cell_type": "code",
      "metadata": {
        "id": "knboGUMB7f7y",
        "colab_type": "code",
        "colab": {
          "base_uri": "https://localhost:8080/",
          "height": 54
        },
        "outputId": "6e7f1392-80c9-44cc-b11c-254d831365e4"
      },
      "source": [
        "logreg_preds = logreg.predict(X_test)\n",
        "print(y_test.values)\n",
        "print(logreg_preds)"
      ],
      "execution_count": 60,
      "outputs": [
        {
          "output_type": "stream",
          "text": [
            "[1 0 1 ... 0 0 1]\n",
            "[1 0 1 ... 0 0 1]\n"
          ],
          "name": "stdout"
        }
      ]
    },
    {
      "cell_type": "code",
      "metadata": {
        "id": "b46pd1eF7q_d",
        "colab_type": "code",
        "colab": {
          "base_uri": "https://localhost:8080/",
          "height": 298
        },
        "outputId": "65d90779-dfb6-495d-f333-410cf0ef42ce"
      },
      "source": [
        "eval_sklearn(y_test, logreg_preds)"
      ],
      "execution_count": 61,
      "outputs": [
        {
          "output_type": "error",
          "ename": "NameError",
          "evalue": "ignored",
          "traceback": [
            "\u001b[0;31m---------------------------------------------------------------------------\u001b[0m",
            "\u001b[0;31mNameError\u001b[0m                                 Traceback (most recent call last)",
            "\u001b[0;32m<ipython-input-61-0ff26d790556>\u001b[0m in \u001b[0;36m<module>\u001b[0;34m()\u001b[0m\n\u001b[0;32m----> 1\u001b[0;31m \u001b[0meval_sklearn\u001b[0m\u001b[0;34m(\u001b[0m\u001b[0my_test\u001b[0m\u001b[0;34m,\u001b[0m \u001b[0mlogreg_preds\u001b[0m\u001b[0;34m)\u001b[0m\u001b[0;34m\u001b[0m\u001b[0;34m\u001b[0m\u001b[0m\n\u001b[0m",
            "\u001b[0;32m<ipython-input-58-ac314eab2ac3>\u001b[0m in \u001b[0;36meval_sklearn\u001b[0;34m(true, predicted, categories, visual)\u001b[0m\n\u001b[1;32m      1\u001b[0m \u001b[0;32mdef\u001b[0m \u001b[0meval_sklearn\u001b[0m\u001b[0;34m(\u001b[0m\u001b[0mtrue\u001b[0m\u001b[0;34m,\u001b[0m \u001b[0mpredicted\u001b[0m\u001b[0;34m,\u001b[0m \u001b[0mcategories\u001b[0m \u001b[0;34m=\u001b[0m \u001b[0;34m[\u001b[0m\u001b[0;34m'neg'\u001b[0m\u001b[0;34m,\u001b[0m \u001b[0;34m'pos'\u001b[0m\u001b[0;34m]\u001b[0m\u001b[0;34m,\u001b[0m \u001b[0mvisual\u001b[0m\u001b[0;34m=\u001b[0m\u001b[0;32mTrue\u001b[0m\u001b[0;34m)\u001b[0m\u001b[0;34m:\u001b[0m\u001b[0;34m\u001b[0m\u001b[0;34m\u001b[0m\u001b[0m\n\u001b[0;32m----> 2\u001b[0;31m     \u001b[0macc\u001b[0m \u001b[0;34m=\u001b[0m \u001b[0maccuracy_score\u001b[0m\u001b[0;34m(\u001b[0m\u001b[0mtrue\u001b[0m\u001b[0;34m,\u001b[0m \u001b[0mpredicted\u001b[0m\u001b[0;34m)\u001b[0m\u001b[0;34m\u001b[0m\u001b[0;34m\u001b[0m\u001b[0m\n\u001b[0m\u001b[1;32m      3\u001b[0m     \u001b[0mmicro_p\u001b[0m \u001b[0;34m=\u001b[0m \u001b[0mprecision_score\u001b[0m\u001b[0;34m(\u001b[0m\u001b[0mtrue\u001b[0m\u001b[0;34m,\u001b[0m \u001b[0mpredicted\u001b[0m\u001b[0;34m,\u001b[0m \u001b[0maverage\u001b[0m \u001b[0;34m=\u001b[0m \u001b[0;34m'micro'\u001b[0m\u001b[0;34m)\u001b[0m\u001b[0;34m\u001b[0m\u001b[0;34m\u001b[0m\u001b[0m\n\u001b[1;32m      4\u001b[0m     \u001b[0mmacro_p\u001b[0m \u001b[0;34m=\u001b[0m \u001b[0mprecision_score\u001b[0m\u001b[0;34m(\u001b[0m\u001b[0mtrue\u001b[0m\u001b[0;34m,\u001b[0m \u001b[0mpredicted\u001b[0m\u001b[0;34m,\u001b[0m \u001b[0maverage\u001b[0m \u001b[0;34m=\u001b[0m \u001b[0;34m'macro'\u001b[0m\u001b[0;34m)\u001b[0m\u001b[0;34m\u001b[0m\u001b[0;34m\u001b[0m\u001b[0m\n\u001b[1;32m      5\u001b[0m     \u001b[0mweighted_p\u001b[0m \u001b[0;34m=\u001b[0m \u001b[0mprecision_score\u001b[0m\u001b[0;34m(\u001b[0m\u001b[0mtrue\u001b[0m\u001b[0;34m,\u001b[0m \u001b[0mpredicted\u001b[0m\u001b[0;34m,\u001b[0m \u001b[0maverage\u001b[0m \u001b[0;34m=\u001b[0m \u001b[0;34m'weighted'\u001b[0m\u001b[0;34m)\u001b[0m\u001b[0;34m\u001b[0m\u001b[0;34m\u001b[0m\u001b[0m\n",
            "\u001b[0;31mNameError\u001b[0m: name 'accuracy_score' is not defined"
          ]
        }
      ]
    },
    {
      "cell_type": "code",
      "metadata": {
        "id": "UQJptNCCf72H",
        "colab_type": "code",
        "colab": {}
      },
      "source": [
        "\n",
        "y_true = np.array([0, 1, 1, 1, 0])\n",
        "y_predicted = np.array([0.1, 0.7, 0.4, 0.2, 0.27])\n",
        "fpr, tpr, _ = roc_curve(y_true, y_predicted)\n",
        "pyplot.plot(fpr, tpr, marker='.', label='Test')\n",
        "# axis labels\n",
        "pyplot.xlabel('False Positive Rate')\n",
        "pyplot.ylabel('True Positive Rate')\n",
        "# show the legend\n",
        "pyplot.legend()\n",
        "# show the plot\n",
        "pyplot.show()"
      ],
      "execution_count": 0,
      "outputs": []
    },
    {
      "cell_type": "code",
      "metadata": {
        "id": "j85fyBVOgQgg",
        "colab_type": "code",
        "colab": {}
      },
      "source": [
        "from sklearn.datasets import fetch_20newsgroups\n",
        "data.target_names"
      ],
      "execution_count": 0,
      "outputs": []
    }
  ]
}