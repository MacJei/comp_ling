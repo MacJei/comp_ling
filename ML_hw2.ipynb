{
  "nbformat": 4,
  "nbformat_minor": 0,
  "metadata": {
    "colab": {
      "name": "Untitled",
      "provenance": [],
      "authorship_tag": "ABX9TyMlc2Q/OrArwjoDOwaomDF8",
      "include_colab_link": true
    },
    "kernelspec": {
      "name": "python3",
      "display_name": "Python 3"
    }
  },
  "cells": [
    {
      "cell_type": "markdown",
      "metadata": {
        "id": "view-in-github",
        "colab_type": "text"
      },
      "source": [
        "<a href=\"https://colab.research.google.com/github/lnpetrova/comp_ling/blob/master/ML_hw2.ipynb\" target=\"_parent\"><img src=\"https://colab.research.google.com/assets/colab-badge.svg\" alt=\"Open In Colab\"/></a>"
      ]
    },
    {
      "cell_type": "code",
      "metadata": {
        "id": "CJDjmhakTEYN",
        "colab_type": "code",
        "colab": {}
      },
      "source": [
        "from IPython.display import Image"
      ],
      "execution_count": 0,
      "outputs": []
    },
    {
      "cell_type": "code",
      "metadata": {
        "id": "ayBcv1zfTIYK",
        "colab_type": "code",
        "colab": {}
      },
      "source": [
        "import tarfile\n",
        "import os\n",
        "import pandas as pd\n",
        "from sklearn.utils import shuffle\n",
        "from sklearn.metrics import confusion_matrix\n",
        "from sklearn.feature_extraction.text import TfidfVectorizer\n",
        "vectorizer = TfidfVectorizer(stop_words='english')\n",
        "from sklearn.linear_model import LogisticRegression\n",
        "from sklearn.naive_bayes import BernoulliNB\n",
        "from sklearn.neighbors import KNeighborsClassifier\n",
        "from matplotlib import pyplot as plt\n",
        "import seaborn as sns\n",
        "from sklearn.metrics import roc_auc_score, roc_curve"
      ],
      "execution_count": 0,
      "outputs": []
    },
    {
      "cell_type": "code",
      "metadata": {
        "id": "1ES6JU_WFElx",
        "colab_type": "code",
        "outputId": "10a978a5-5bae-4516-88c8-2de6ec123cfa",
        "colab": {
          "base_uri": "https://localhost:8080/",
          "height": 208
        }
      },
      "source": [
        "!wget http://ai.stanford.edu/~amaas/data/sentiment/aclImdb_v1.tar.gz"
      ],
      "execution_count": 4,
      "outputs": [
        {
          "output_type": "stream",
          "text": [
            "--2020-02-24 21:24:02--  http://ai.stanford.edu/~amaas/data/sentiment/aclImdb_v1.tar.gz\n",
            "Resolving ai.stanford.edu (ai.stanford.edu)... 171.64.68.10\n",
            "Connecting to ai.stanford.edu (ai.stanford.edu)|171.64.68.10|:80... connected.\n",
            "HTTP request sent, awaiting response... 200 OK\n",
            "Length: 84125825 (80M) [application/x-gzip]\n",
            "Saving to: ‘aclImdb_v1.tar.gz’\n",
            "\n",
            "aclImdb_v1.tar.gz   100%[===================>]  80.23M  22.9MB/s    in 5.3s    \n",
            "\n",
            "2020-02-24 21:24:08 (15.0 MB/s) - ‘aclImdb_v1.tar.gz’ saved [84125825/84125825]\n",
            "\n"
          ],
          "name": "stdout"
        }
      ]
    },
    {
      "cell_type": "code",
      "metadata": {
        "id": "s75N-0MOUVqe",
        "colab_type": "code",
        "colab": {}
      },
      "source": [
        "tarfile.open('/content/aclImdb_v1.tar.gz', 'r').extractall()"
      ],
      "execution_count": 0,
      "outputs": []
    },
    {
      "cell_type": "code",
      "metadata": {
        "id": "pjNV0g3KvB-H",
        "colab_type": "code",
        "colab": {}
      },
      "source": [
        "path_test_neg = '/content/aclImdb/test/neg'\n",
        "path_test_pos = '/content/aclImdb/test/pos'\n",
        "path_train_neg = '/content/aclImdb/train/neg'\n",
        "path_train_pos = '/content/aclImdb/train/pos'"
      ],
      "execution_count": 0,
      "outputs": []
    },
    {
      "cell_type": "code",
      "metadata": {
        "id": "x2FGgaxzzAPr",
        "colab_type": "code",
        "colab": {}
      },
      "source": [
        "find_test_neg = os.walk(path_test_neg)\n",
        "tests_neg = list(find_test_neg)[0][-1]\n",
        "#print(tests_neg)\n",
        "\n",
        "find_test_pos = os.walk(path_test_pos)\n",
        "tests_pos = list(find_test_pos)[0][-1]\n",
        "\n",
        "find_train_neg = os.walk(path_train_neg)\n",
        "trains_neg = list(find_train_neg)[0][-1]\n",
        "\n",
        "find_train_pos = os.walk(path_train_pos)\n",
        "trains_pos = list(find_train_pos)[0][-1]"
      ],
      "execution_count": 0,
      "outputs": []
    },
    {
      "cell_type": "code",
      "metadata": {
        "id": "qvLmnpsIQ9LT",
        "colab_type": "code",
        "colab": {}
      },
      "source": [
        "# pathes = []\n",
        "# pathes.append(path_test_neg)\n",
        "# pathes.append(path_test_pos)\n",
        "# pathes.append(path_train_pos)\n",
        "# pathes.append(path_train_neg)"
      ],
      "execution_count": 0,
      "outputs": []
    },
    {
      "cell_type": "code",
      "metadata": {
        "id": "85pfiCBUO1dV",
        "colab_type": "code",
        "colab": {}
      },
      "source": [
        "# def get_files(path):\n",
        "#   find_files = os.walk(path)\n",
        "#   list_of_files = list(find_files)[0][-1]\n",
        "#   return list_of_files"
      ],
      "execution_count": 0,
      "outputs": []
    },
    {
      "cell_type": "code",
      "metadata": {
        "id": "-SP9KjwNScpA",
        "colab_type": "code",
        "colab": {}
      },
      "source": [
        "# for path in pathes:\n",
        "#   get_files(path)"
      ],
      "execution_count": 0,
      "outputs": []
    },
    {
      "cell_type": "code",
      "metadata": {
        "id": "bd03iMvJ07kG",
        "colab_type": "code",
        "colab": {}
      },
      "source": [
        "def collect_texts(path, files):\n",
        "    texts = [open('{}/{}'.format(path, file)).read().lower() for file in files]\n",
        "    return texts"
      ],
      "execution_count": 0,
      "outputs": []
    },
    {
      "cell_type": "code",
      "metadata": {
        "id": "rg6RuZTQzBeG",
        "colab_type": "code",
        "outputId": "49d45c55-29a8-42ba-ca4b-f2e0a55e53e1",
        "colab": {
          "base_uri": "https://localhost:8080/",
          "height": 202
        }
      },
      "source": [
        "test_pos_df = pd.DataFrame(collect_texts(path_test_pos, tests_pos),  columns = ['text'])\n",
        "test_pos_df['polarity'] = 1\n",
        "test_pos_df.head()"
      ],
      "execution_count": 12,
      "outputs": [
        {
          "output_type": "execute_result",
          "data": {
            "text/html": [
              "<div>\n",
              "<style scoped>\n",
              "    .dataframe tbody tr th:only-of-type {\n",
              "        vertical-align: middle;\n",
              "    }\n",
              "\n",
              "    .dataframe tbody tr th {\n",
              "        vertical-align: top;\n",
              "    }\n",
              "\n",
              "    .dataframe thead th {\n",
              "        text-align: right;\n",
              "    }\n",
              "</style>\n",
              "<table border=\"1\" class=\"dataframe\">\n",
              "  <thead>\n",
              "    <tr style=\"text-align: right;\">\n",
              "      <th></th>\n",
              "      <th>text</th>\n",
              "      <th>polarity</th>\n",
              "    </tr>\n",
              "  </thead>\n",
              "  <tbody>\n",
              "    <tr>\n",
              "      <th>0</th>\n",
              "      <td>even an old cynical doctor who fan like myself...</td>\n",
              "      <td>1</td>\n",
              "    </tr>\n",
              "    <tr>\n",
              "      <th>1</th>\n",
              "      <td>i just had the opportunity to see 'nuovomondo'...</td>\n",
              "      <td>1</td>\n",
              "    </tr>\n",
              "    <tr>\n",
              "      <th>2</th>\n",
              "      <td>i watched love life on holiday, when it was fi...</td>\n",
              "      <td>1</td>\n",
              "    </tr>\n",
              "    <tr>\n",
              "      <th>3</th>\n",
              "      <td>if you love drive-in cheeze from the early '70...</td>\n",
              "      <td>1</td>\n",
              "    </tr>\n",
              "    <tr>\n",
              "      <th>4</th>\n",
              "      <td>what a trip down memory lane.&lt;br /&gt;&lt;br /&gt;do no...</td>\n",
              "      <td>1</td>\n",
              "    </tr>\n",
              "  </tbody>\n",
              "</table>\n",
              "</div>"
            ],
            "text/plain": [
              "                                                text  polarity\n",
              "0  even an old cynical doctor who fan like myself...         1\n",
              "1  i just had the opportunity to see 'nuovomondo'...         1\n",
              "2  i watched love life on holiday, when it was fi...         1\n",
              "3  if you love drive-in cheeze from the early '70...         1\n",
              "4  what a trip down memory lane.<br /><br />do no...         1"
            ]
          },
          "metadata": {
            "tags": []
          },
          "execution_count": 12
        }
      ]
    },
    {
      "cell_type": "code",
      "metadata": {
        "id": "v026Sve90Ods",
        "colab_type": "code",
        "outputId": "30d2539b-a256-43e9-c01e-6c0d58f74cf3",
        "colab": {
          "base_uri": "https://localhost:8080/",
          "height": 202
        }
      },
      "source": [
        "test_neg_df = pd.DataFrame(collect_texts(path_test_neg, tests_neg),  columns = ['text'])\n",
        "test_neg_df['polarity'] = 0\n",
        "test_neg_df.head()"
      ],
      "execution_count": 13,
      "outputs": [
        {
          "output_type": "execute_result",
          "data": {
            "text/html": [
              "<div>\n",
              "<style scoped>\n",
              "    .dataframe tbody tr th:only-of-type {\n",
              "        vertical-align: middle;\n",
              "    }\n",
              "\n",
              "    .dataframe tbody tr th {\n",
              "        vertical-align: top;\n",
              "    }\n",
              "\n",
              "    .dataframe thead th {\n",
              "        text-align: right;\n",
              "    }\n",
              "</style>\n",
              "<table border=\"1\" class=\"dataframe\">\n",
              "  <thead>\n",
              "    <tr style=\"text-align: right;\">\n",
              "      <th></th>\n",
              "      <th>text</th>\n",
              "      <th>polarity</th>\n",
              "    </tr>\n",
              "  </thead>\n",
              "  <tbody>\n",
              "    <tr>\n",
              "      <th>0</th>\n",
              "      <td>this movie was an absolute waste of time. it's...</td>\n",
              "      <td>0</td>\n",
              "    </tr>\n",
              "    <tr>\n",
              "      <th>1</th>\n",
              "      <td>some spoilers**** a soap has some wonderful mo...</td>\n",
              "      <td>0</td>\n",
              "    </tr>\n",
              "    <tr>\n",
              "      <th>2</th>\n",
              "      <td>i'm not sure what the director and editor were...</td>\n",
              "      <td>0</td>\n",
              "    </tr>\n",
              "    <tr>\n",
              "      <th>3</th>\n",
              "      <td>yes, thats that i felt after i completed watch...</td>\n",
              "      <td>0</td>\n",
              "    </tr>\n",
              "    <tr>\n",
              "      <th>4</th>\n",
              "      <td>first off, i am critical of this movie because...</td>\n",
              "      <td>0</td>\n",
              "    </tr>\n",
              "  </tbody>\n",
              "</table>\n",
              "</div>"
            ],
            "text/plain": [
              "                                                text  polarity\n",
              "0  this movie was an absolute waste of time. it's...         0\n",
              "1  some spoilers**** a soap has some wonderful mo...         0\n",
              "2  i'm not sure what the director and editor were...         0\n",
              "3  yes, thats that i felt after i completed watch...         0\n",
              "4  first off, i am critical of this movie because...         0"
            ]
          },
          "metadata": {
            "tags": []
          },
          "execution_count": 13
        }
      ]
    },
    {
      "cell_type": "code",
      "metadata": {
        "id": "Ab9Gxvu90WPY",
        "colab_type": "code",
        "outputId": "682fc841-5900-41a2-bcaf-3f59e32e2711",
        "colab": {
          "base_uri": "https://localhost:8080/",
          "height": 415
        }
      },
      "source": [
        "test = pd.concat((test_pos_df, test_neg_df))\n",
        "test"
      ],
      "execution_count": 14,
      "outputs": [
        {
          "output_type": "execute_result",
          "data": {
            "text/html": [
              "<div>\n",
              "<style scoped>\n",
              "    .dataframe tbody tr th:only-of-type {\n",
              "        vertical-align: middle;\n",
              "    }\n",
              "\n",
              "    .dataframe tbody tr th {\n",
              "        vertical-align: top;\n",
              "    }\n",
              "\n",
              "    .dataframe thead th {\n",
              "        text-align: right;\n",
              "    }\n",
              "</style>\n",
              "<table border=\"1\" class=\"dataframe\">\n",
              "  <thead>\n",
              "    <tr style=\"text-align: right;\">\n",
              "      <th></th>\n",
              "      <th>text</th>\n",
              "      <th>polarity</th>\n",
              "    </tr>\n",
              "  </thead>\n",
              "  <tbody>\n",
              "    <tr>\n",
              "      <th>0</th>\n",
              "      <td>even an old cynical doctor who fan like myself...</td>\n",
              "      <td>1</td>\n",
              "    </tr>\n",
              "    <tr>\n",
              "      <th>1</th>\n",
              "      <td>i just had the opportunity to see 'nuovomondo'...</td>\n",
              "      <td>1</td>\n",
              "    </tr>\n",
              "    <tr>\n",
              "      <th>2</th>\n",
              "      <td>i watched love life on holiday, when it was fi...</td>\n",
              "      <td>1</td>\n",
              "    </tr>\n",
              "    <tr>\n",
              "      <th>3</th>\n",
              "      <td>if you love drive-in cheeze from the early '70...</td>\n",
              "      <td>1</td>\n",
              "    </tr>\n",
              "    <tr>\n",
              "      <th>4</th>\n",
              "      <td>what a trip down memory lane.&lt;br /&gt;&lt;br /&gt;do no...</td>\n",
              "      <td>1</td>\n",
              "    </tr>\n",
              "    <tr>\n",
              "      <th>...</th>\n",
              "      <td>...</td>\n",
              "      <td>...</td>\n",
              "    </tr>\n",
              "    <tr>\n",
              "      <th>12495</th>\n",
              "      <td>i can't believe i even tried to watch this fil...</td>\n",
              "      <td>0</td>\n",
              "    </tr>\n",
              "    <tr>\n",
              "      <th>12496</th>\n",
              "      <td>what is wrong with curacao ( also known as dea...</td>\n",
              "      <td>0</td>\n",
              "    </tr>\n",
              "    <tr>\n",
              "      <th>12497</th>\n",
              "      <td>inane, awful farce basically about a young man...</td>\n",
              "      <td>0</td>\n",
              "    </tr>\n",
              "    <tr>\n",
              "      <th>12498</th>\n",
              "      <td>when i first saw this show i thought to my sel...</td>\n",
              "      <td>0</td>\n",
              "    </tr>\n",
              "    <tr>\n",
              "      <th>12499</th>\n",
              "      <td>this film is so bad. i mean, who commissions t...</td>\n",
              "      <td>0</td>\n",
              "    </tr>\n",
              "  </tbody>\n",
              "</table>\n",
              "<p>25000 rows × 2 columns</p>\n",
              "</div>"
            ],
            "text/plain": [
              "                                                    text  polarity\n",
              "0      even an old cynical doctor who fan like myself...         1\n",
              "1      i just had the opportunity to see 'nuovomondo'...         1\n",
              "2      i watched love life on holiday, when it was fi...         1\n",
              "3      if you love drive-in cheeze from the early '70...         1\n",
              "4      what a trip down memory lane.<br /><br />do no...         1\n",
              "...                                                  ...       ...\n",
              "12495  i can't believe i even tried to watch this fil...         0\n",
              "12496  what is wrong with curacao ( also known as dea...         0\n",
              "12497  inane, awful farce basically about a young man...         0\n",
              "12498  when i first saw this show i thought to my sel...         0\n",
              "12499  this film is so bad. i mean, who commissions t...         0\n",
              "\n",
              "[25000 rows x 2 columns]"
            ]
          },
          "metadata": {
            "tags": []
          },
          "execution_count": 14
        }
      ]
    },
    {
      "cell_type": "code",
      "metadata": {
        "id": "Z5XeJAVN0hwN",
        "colab_type": "code",
        "outputId": "3f904f39-d0de-4f85-9e3d-5531e3744c65",
        "colab": {
          "base_uri": "https://localhost:8080/",
          "height": 202
        }
      },
      "source": [
        "train_pos_df = pd.DataFrame(collect_texts(path_train_pos, trains_pos),  columns = ['text'])\n",
        "train_pos_df['polarity'] = 1\n",
        "train_pos_df.head()"
      ],
      "execution_count": 15,
      "outputs": [
        {
          "output_type": "execute_result",
          "data": {
            "text/html": [
              "<div>\n",
              "<style scoped>\n",
              "    .dataframe tbody tr th:only-of-type {\n",
              "        vertical-align: middle;\n",
              "    }\n",
              "\n",
              "    .dataframe tbody tr th {\n",
              "        vertical-align: top;\n",
              "    }\n",
              "\n",
              "    .dataframe thead th {\n",
              "        text-align: right;\n",
              "    }\n",
              "</style>\n",
              "<table border=\"1\" class=\"dataframe\">\n",
              "  <thead>\n",
              "    <tr style=\"text-align: right;\">\n",
              "      <th></th>\n",
              "      <th>text</th>\n",
              "      <th>polarity</th>\n",
              "    </tr>\n",
              "  </thead>\n",
              "  <tbody>\n",
              "    <tr>\n",
              "      <th>0</th>\n",
              "      <td>i first saw ice age in the subiaco cinemas whe...</td>\n",
              "      <td>1</td>\n",
              "    </tr>\n",
              "    <tr>\n",
              "      <th>1</th>\n",
              "      <td>what can i say ? an action and allegorical tal...</td>\n",
              "      <td>1</td>\n",
              "    </tr>\n",
              "    <tr>\n",
              "      <th>2</th>\n",
              "      <td>reviewed at the world premiere screening sept....</td>\n",
              "      <td>1</td>\n",
              "    </tr>\n",
              "    <tr>\n",
              "      <th>3</th>\n",
              "      <td>i may be biased, i am the author of the novel ...</td>\n",
              "      <td>1</td>\n",
              "    </tr>\n",
              "    <tr>\n",
              "      <th>4</th>\n",
              "      <td>what a strangely wonderful, if sometimes sligh...</td>\n",
              "      <td>1</td>\n",
              "    </tr>\n",
              "  </tbody>\n",
              "</table>\n",
              "</div>"
            ],
            "text/plain": [
              "                                                text  polarity\n",
              "0  i first saw ice age in the subiaco cinemas whe...         1\n",
              "1  what can i say ? an action and allegorical tal...         1\n",
              "2  reviewed at the world premiere screening sept....         1\n",
              "3  i may be biased, i am the author of the novel ...         1\n",
              "4  what a strangely wonderful, if sometimes sligh...         1"
            ]
          },
          "metadata": {
            "tags": []
          },
          "execution_count": 15
        }
      ]
    },
    {
      "cell_type": "code",
      "metadata": {
        "id": "clHe2MDd0tFm",
        "colab_type": "code",
        "outputId": "6eb9973d-01eb-4d9d-d359-7ed91f322a60",
        "colab": {
          "base_uri": "https://localhost:8080/",
          "height": 202
        }
      },
      "source": [
        "train_neg_df = pd.DataFrame(collect_texts(path_train_neg, trains_neg),  columns = ['text'])\n",
        "train_neg_df['polarity'] = 0\n",
        "train_neg_df.head()"
      ],
      "execution_count": 16,
      "outputs": [
        {
          "output_type": "execute_result",
          "data": {
            "text/html": [
              "<div>\n",
              "<style scoped>\n",
              "    .dataframe tbody tr th:only-of-type {\n",
              "        vertical-align: middle;\n",
              "    }\n",
              "\n",
              "    .dataframe tbody tr th {\n",
              "        vertical-align: top;\n",
              "    }\n",
              "\n",
              "    .dataframe thead th {\n",
              "        text-align: right;\n",
              "    }\n",
              "</style>\n",
              "<table border=\"1\" class=\"dataframe\">\n",
              "  <thead>\n",
              "    <tr style=\"text-align: right;\">\n",
              "      <th></th>\n",
              "      <th>text</th>\n",
              "      <th>polarity</th>\n",
              "    </tr>\n",
              "  </thead>\n",
              "  <tbody>\n",
              "    <tr>\n",
              "      <th>0</th>\n",
              "      <td>this movie is really goofy! i saw it as an 11 ...</td>\n",
              "      <td>0</td>\n",
              "    </tr>\n",
              "    <tr>\n",
              "      <th>1</th>\n",
              "      <td>basically this is about a couple who want to a...</td>\n",
              "      <td>0</td>\n",
              "    </tr>\n",
              "    <tr>\n",
              "      <th>2</th>\n",
              "      <td>hmm i agree with the reviewer who said that \"...</td>\n",
              "      <td>0</td>\n",
              "    </tr>\n",
              "    <tr>\n",
              "      <th>3</th>\n",
              "      <td>'the omen 4: the awakening' is a made-for-tele...</td>\n",
              "      <td>0</td>\n",
              "    </tr>\n",
              "    <tr>\n",
              "      <th>4</th>\n",
              "      <td>bugs bunny accidentally ends up at the south p...</td>\n",
              "      <td>0</td>\n",
              "    </tr>\n",
              "  </tbody>\n",
              "</table>\n",
              "</div>"
            ],
            "text/plain": [
              "                                                text  polarity\n",
              "0  this movie is really goofy! i saw it as an 11 ...         0\n",
              "1  basically this is about a couple who want to a...         0\n",
              "2  hmm\n",
              " i agree with the reviewer who said that \"...         0\n",
              "3  'the omen 4: the awakening' is a made-for-tele...         0\n",
              "4  bugs bunny accidentally ends up at the south p...         0"
            ]
          },
          "metadata": {
            "tags": []
          },
          "execution_count": 16
        }
      ]
    },
    {
      "cell_type": "code",
      "metadata": {
        "id": "SnwgJHCF02T2",
        "colab_type": "code",
        "outputId": "41b3cf08-e3c4-4918-cfa1-0b28348d0d6f",
        "colab": {
          "base_uri": "https://localhost:8080/",
          "height": 415
        }
      },
      "source": [
        "train = pd.concat((train_pos_df, train_neg_df))\n",
        "train"
      ],
      "execution_count": 17,
      "outputs": [
        {
          "output_type": "execute_result",
          "data": {
            "text/html": [
              "<div>\n",
              "<style scoped>\n",
              "    .dataframe tbody tr th:only-of-type {\n",
              "        vertical-align: middle;\n",
              "    }\n",
              "\n",
              "    .dataframe tbody tr th {\n",
              "        vertical-align: top;\n",
              "    }\n",
              "\n",
              "    .dataframe thead th {\n",
              "        text-align: right;\n",
              "    }\n",
              "</style>\n",
              "<table border=\"1\" class=\"dataframe\">\n",
              "  <thead>\n",
              "    <tr style=\"text-align: right;\">\n",
              "      <th></th>\n",
              "      <th>text</th>\n",
              "      <th>polarity</th>\n",
              "    </tr>\n",
              "  </thead>\n",
              "  <tbody>\n",
              "    <tr>\n",
              "      <th>0</th>\n",
              "      <td>i first saw ice age in the subiaco cinemas whe...</td>\n",
              "      <td>1</td>\n",
              "    </tr>\n",
              "    <tr>\n",
              "      <th>1</th>\n",
              "      <td>what can i say ? an action and allegorical tal...</td>\n",
              "      <td>1</td>\n",
              "    </tr>\n",
              "    <tr>\n",
              "      <th>2</th>\n",
              "      <td>reviewed at the world premiere screening sept....</td>\n",
              "      <td>1</td>\n",
              "    </tr>\n",
              "    <tr>\n",
              "      <th>3</th>\n",
              "      <td>i may be biased, i am the author of the novel ...</td>\n",
              "      <td>1</td>\n",
              "    </tr>\n",
              "    <tr>\n",
              "      <th>4</th>\n",
              "      <td>what a strangely wonderful, if sometimes sligh...</td>\n",
              "      <td>1</td>\n",
              "    </tr>\n",
              "    <tr>\n",
              "      <th>...</th>\n",
              "      <td>...</td>\n",
              "      <td>...</td>\n",
              "    </tr>\n",
              "    <tr>\n",
              "      <th>12495</th>\n",
              "      <td>i was shocked by the ridiculously unbelievable...</td>\n",
              "      <td>0</td>\n",
              "    </tr>\n",
              "    <tr>\n",
              "      <th>12496</th>\n",
              "      <td>this movie is just plain bad. it isn't even wo...</td>\n",
              "      <td>0</td>\n",
              "    </tr>\n",
              "    <tr>\n",
              "      <th>12497</th>\n",
              "      <td>aka: mondays in the sun&lt;br /&gt;&lt;br /&gt;i have no i...</td>\n",
              "      <td>0</td>\n",
              "    </tr>\n",
              "    <tr>\n",
              "      <th>12498</th>\n",
              "      <td>after eagerly waiting to the end, i have to sa...</td>\n",
              "      <td>0</td>\n",
              "    </tr>\n",
              "    <tr>\n",
              "      <th>12499</th>\n",
              "      <td>naturally i didn't watch 'gi jane' out of choi...</td>\n",
              "      <td>0</td>\n",
              "    </tr>\n",
              "  </tbody>\n",
              "</table>\n",
              "<p>25000 rows × 2 columns</p>\n",
              "</div>"
            ],
            "text/plain": [
              "                                                    text  polarity\n",
              "0      i first saw ice age in the subiaco cinemas whe...         1\n",
              "1      what can i say ? an action and allegorical tal...         1\n",
              "2      reviewed at the world premiere screening sept....         1\n",
              "3      i may be biased, i am the author of the novel ...         1\n",
              "4      what a strangely wonderful, if sometimes sligh...         1\n",
              "...                                                  ...       ...\n",
              "12495  i was shocked by the ridiculously unbelievable...         0\n",
              "12496  this movie is just plain bad. it isn't even wo...         0\n",
              "12497  aka: mondays in the sun<br /><br />i have no i...         0\n",
              "12498  after eagerly waiting to the end, i have to sa...         0\n",
              "12499  naturally i didn't watch 'gi jane' out of choi...         0\n",
              "\n",
              "[25000 rows x 2 columns]"
            ]
          },
          "metadata": {
            "tags": []
          },
          "execution_count": 17
        }
      ]
    },
    {
      "cell_type": "code",
      "metadata": {
        "id": "S2DmpnmJ1GwL",
        "colab_type": "code",
        "outputId": "e0d67397-27d4-4a81-f962-bc5938ad05ab",
        "colab": {
          "base_uri": "https://localhost:8080/",
          "height": 202
        }
      },
      "source": [
        "train = shuffle(train, random_state=42)\n",
        "train = train[:10000]\n",
        "train.head()"
      ],
      "execution_count": 62,
      "outputs": [
        {
          "output_type": "execute_result",
          "data": {
            "text/html": [
              "<div>\n",
              "<style scoped>\n",
              "    .dataframe tbody tr th:only-of-type {\n",
              "        vertical-align: middle;\n",
              "    }\n",
              "\n",
              "    .dataframe tbody tr th {\n",
              "        vertical-align: top;\n",
              "    }\n",
              "\n",
              "    .dataframe thead th {\n",
              "        text-align: right;\n",
              "    }\n",
              "</style>\n",
              "<table border=\"1\" class=\"dataframe\">\n",
              "  <thead>\n",
              "    <tr style=\"text-align: right;\">\n",
              "      <th></th>\n",
              "      <th>text</th>\n",
              "      <th>polarity</th>\n",
              "    </tr>\n",
              "  </thead>\n",
              "  <tbody>\n",
              "    <tr>\n",
              "      <th>4977</th>\n",
              "      <td>ok, let me again admit that i haven't seen any...</td>\n",
              "      <td>0</td>\n",
              "    </tr>\n",
              "    <tr>\n",
              "      <th>1979</th>\n",
              "      <td>st. elmo's fire has no bearing on life after u...</td>\n",
              "      <td>0</td>\n",
              "    </tr>\n",
              "    <tr>\n",
              "      <th>4547</th>\n",
              "      <td>really the tale of two cocky brothers and thei...</td>\n",
              "      <td>1</td>\n",
              "    </tr>\n",
              "    <tr>\n",
              "      <th>6246</th>\n",
              "      <td>the honey, i shrunk the kids franchise was a h...</td>\n",
              "      <td>0</td>\n",
              "    </tr>\n",
              "    <tr>\n",
              "      <th>8993</th>\n",
              "      <td>i went to see this movie expecting a nice rela...</td>\n",
              "      <td>1</td>\n",
              "    </tr>\n",
              "  </tbody>\n",
              "</table>\n",
              "</div>"
            ],
            "text/plain": [
              "                                                   text  polarity\n",
              "4977  ok, let me again admit that i haven't seen any...         0\n",
              "1979  st. elmo's fire has no bearing on life after u...         0\n",
              "4547  really the tale of two cocky brothers and thei...         1\n",
              "6246  the honey, i shrunk the kids franchise was a h...         0\n",
              "8993  i went to see this movie expecting a nice rela...         1"
            ]
          },
          "metadata": {
            "tags": []
          },
          "execution_count": 62
        }
      ]
    },
    {
      "cell_type": "code",
      "metadata": {
        "id": "dnfRhevD1OWy",
        "colab_type": "code",
        "outputId": "263450fe-81e7-4fe3-a73b-c69146025efc",
        "colab": {
          "base_uri": "https://localhost:8080/",
          "height": 1000
        }
      },
      "source": [
        "x_train = vectorizer.fit_transform(train.text)\n",
        "print(x_train)\n",
        "y_train = train.polarity\n",
        "print(y_train)"
      ],
      "execution_count": 71,
      "outputs": [
        {
          "output_type": "stream",
          "text": [
            "  (0, 3310)\t0.052526167576472264\n",
            "  (0, 16836)\t0.019721170574553644\n",
            "  (0, 332)\t0.052526167576472264\n",
            "  (0, 958)\t0.03314892453206955\n",
            "  (0, 11891)\t0.052526167576472264\n",
            "  (0, 12536)\t0.052526167576472264\n",
            "  (0, 5195)\t0.029292798154840677\n",
            "  (0, 11959)\t0.02595756491431554\n",
            "  (0, 9154)\t0.025795181395747442\n",
            "  (0, 1188)\t0.05565349248107615\n",
            "  (0, 13806)\t0.04011268201305811\n",
            "  (0, 16294)\t0.037158688722884935\n",
            "  (0, 309)\t0.04496109800878623\n",
            "  (0, 4196)\t0.03828943138550487\n",
            "  (0, 2833)\t0.03403136381828105\n",
            "  (0, 10172)\t0.052526167576472264\n",
            "  (0, 15526)\t0.01994367443421485\n",
            "  (0, 924)\t0.04011268201305811\n",
            "  (0, 11962)\t0.030091400395615742\n",
            "  (0, 4611)\t0.01850615079185792\n",
            "  (0, 62)\t0.05030729524493119\n",
            "  (0, 13719)\t0.05310888601415295\n",
            "  (0, 5505)\t0.03380110993633835\n",
            "  (0, 14014)\t0.035298622119748865\n",
            "  (0, 3610)\t0.04011268201305811\n",
            "  :\t:\n",
            "  (999, 288)\t0.12669056808273754\n",
            "  (999, 13450)\t0.07318616457630484\n",
            "  (999, 17129)\t0.12981476475931433\n",
            "  (999, 6814)\t0.1488385393425872\n",
            "  (999, 10764)\t0.07442123607427652\n",
            "  (999, 15679)\t0.10078136236474633\n",
            "  (999, 363)\t0.062219135258418906\n",
            "  (999, 2490)\t0.0751554359372544\n",
            "  (999, 17261)\t0.08651739522600442\n",
            "  (999, 8840)\t0.09738336774298846\n",
            "  (999, 8479)\t0.04736318000009941\n",
            "  (999, 15990)\t0.18878602101251507\n",
            "  (999, 6408)\t0.12263393377782605\n",
            "  (999, 16836)\t0.1276453725074075\n",
            "  (999, 309)\t0.14550546282173388\n",
            "  (999, 4611)\t0.05989057552579947\n",
            "  (999, 1310)\t0.06145440599456211\n",
            "  (999, 10201)\t0.06266687812862878\n",
            "  (999, 16826)\t0.08536956101082412\n",
            "  (999, 9049)\t0.08798379183342976\n",
            "  (999, 9260)\t0.06765073207081346\n",
            "  (999, 10200)\t0.15195010741763781\n",
            "  (999, 1980)\t0.311785914512757\n",
            "  (999, 5871)\t0.03986320865273645\n",
            "  (999, 5884)\t0.06849219362912091\n",
            "4977     0\n",
            "1979     0\n",
            "4547     1\n",
            "6246     0\n",
            "8993     1\n",
            "        ..\n",
            "5689     1\n",
            "1917     0\n",
            "4404     1\n",
            "10146    0\n",
            "838      0\n",
            "Name: polarity, Length: 1000, dtype: int64\n"
          ],
          "name": "stdout"
        }
      ]
    },
    {
      "cell_type": "code",
      "metadata": {
        "id": "vzgzzr7R1TG9",
        "colab_type": "code",
        "outputId": "f7a09c99-018a-4802-a4ec-85462b290b99",
        "colab": {
          "base_uri": "https://localhost:8080/",
          "height": 202
        }
      },
      "source": [
        "test = shuffle(test, random_state=42)\n",
        "test = test[:10000]\n",
        "test.head()"
      ],
      "execution_count": 72,
      "outputs": [
        {
          "output_type": "execute_result",
          "data": {
            "text/html": [
              "<div>\n",
              "<style scoped>\n",
              "    .dataframe tbody tr th:only-of-type {\n",
              "        vertical-align: middle;\n",
              "    }\n",
              "\n",
              "    .dataframe tbody tr th {\n",
              "        vertical-align: top;\n",
              "    }\n",
              "\n",
              "    .dataframe thead th {\n",
              "        text-align: right;\n",
              "    }\n",
              "</style>\n",
              "<table border=\"1\" class=\"dataframe\">\n",
              "  <thead>\n",
              "    <tr style=\"text-align: right;\">\n",
              "      <th></th>\n",
              "      <th>text</th>\n",
              "      <th>polarity</th>\n",
              "    </tr>\n",
              "  </thead>\n",
              "  <tbody>\n",
              "    <tr>\n",
              "      <th>9963</th>\n",
              "      <td>this movie is great i really enjoyed it.&lt;br /&gt;...</td>\n",
              "      <td>1</td>\n",
              "    </tr>\n",
              "    <tr>\n",
              "      <th>2785</th>\n",
              "      <td>this has to be the greatest practical joke eve...</td>\n",
              "      <td>0</td>\n",
              "    </tr>\n",
              "    <tr>\n",
              "      <th>8010</th>\n",
              "      <td>and thus was born the most amorous skunk ever ...</td>\n",
              "      <td>1</td>\n",
              "    </tr>\n",
              "    <tr>\n",
              "      <th>9901</th>\n",
              "      <td>this is a good blueprint for a study of corpor...</td>\n",
              "      <td>0</td>\n",
              "    </tr>\n",
              "    <tr>\n",
              "      <th>8483</th>\n",
              "      <td>this is fantastic! everything from the score -...</td>\n",
              "      <td>1</td>\n",
              "    </tr>\n",
              "  </tbody>\n",
              "</table>\n",
              "</div>"
            ],
            "text/plain": [
              "                                                   text  polarity\n",
              "9963  this movie is great i really enjoyed it.<br />...         1\n",
              "2785  this has to be the greatest practical joke eve...         0\n",
              "8010  and thus was born the most amorous skunk ever ...         1\n",
              "9901  this is a good blueprint for a study of corpor...         0\n",
              "8483  this is fantastic! everything from the score -...         1"
            ]
          },
          "metadata": {
            "tags": []
          },
          "execution_count": 72
        }
      ]
    },
    {
      "cell_type": "code",
      "metadata": {
        "id": "W0Bf4Dzh1azp",
        "colab_type": "code",
        "outputId": "733afbcf-5e8e-4eff-ec2c-cc2e173ef651",
        "colab": {
          "base_uri": "https://localhost:8080/",
          "height": 1000
        }
      },
      "source": [
        "x_test = vectorizer.transform(test.text)\n",
        "print(x_test)\n",
        "y_test = test.polarity\n",
        "print(y_test)"
      ],
      "execution_count": 73,
      "outputs": [
        {
          "output_type": "stream",
          "text": [
            "  (0, 16789)\t0.08998639950205035\n",
            "  (0, 15941)\t0.17117003397311795\n",
            "  (0, 15539)\t0.46726015952162286\n",
            "  (0, 14323)\t0.18578937061594505\n",
            "  (0, 14155)\t0.1188353531258595\n",
            "  (0, 12484)\t0.09550473776175661\n",
            "  (0, 11793)\t0.1382581923870219\n",
            "  (0, 11454)\t0.12356538168401814\n",
            "  (0, 10322)\t0.29574342838050605\n",
            "  (0, 10270)\t0.13601315842647158\n",
            "  (0, 10200)\t0.09677870158210722\n",
            "  (0, 10071)\t0.11681503988040572\n",
            "  (0, 9719)\t0.09941251386469709\n",
            "  (0, 9423)\t0.05200603480459119\n",
            "  (0, 9262)\t0.08050461276298143\n",
            "  (0, 9260)\t0.17234999361724374\n",
            "  (0, 9049)\t0.11207569745911684\n",
            "  (0, 6782)\t0.05043514995217283\n",
            "  (0, 6523)\t0.0689926753884696\n",
            "  (0, 5658)\t0.09228022938292502\n",
            "  (0, 5638)\t0.10310832535263577\n",
            "  (0, 5394)\t0.1188353531258595\n",
            "  (0, 5393)\t0.10522981895792137\n",
            "  (0, 5198)\t0.08648716356637055\n",
            "  (0, 4944)\t0.14435625979857403\n",
            "  :\t:\n",
            "  (999, 3176)\t0.0702347892915819\n",
            "  (999, 3076)\t0.04154476158663926\n",
            "  (999, 2623)\t0.06919829590653047\n",
            "  (999, 2118)\t0.08818626765604907\n",
            "  (999, 2073)\t0.056008579271488085\n",
            "  (999, 2035)\t0.0815714566965334\n",
            "  (999, 1980)\t0.36393335969579904\n",
            "  (999, 1952)\t0.07548526012944212\n",
            "  (999, 1912)\t0.0934367384939093\n",
            "  (999, 1886)\t0.0934367384939093\n",
            "  (999, 1718)\t0.049611407962891735\n",
            "  (999, 1652)\t0.04096914440429126\n",
            "  (999, 1557)\t0.07548526012944212\n",
            "  (999, 998)\t0.0934367384939093\n",
            "  (999, 994)\t0.0934367384939093\n",
            "  (999, 699)\t0.05637337112418465\n",
            "  (999, 403)\t0.0934367384939093\n",
            "  (999, 289)\t0.04983276812939663\n",
            "  (999, 220)\t0.07721439210379412\n",
            "  (999, 106)\t0.08446099931167571\n",
            "  (999, 103)\t0.08818626765604907\n",
            "  (999, 102)\t0.0815714566965334\n",
            "  (999, 100)\t0.08818626765604907\n",
            "  (999, 96)\t0.07548526012944212\n",
            "  (999, 7)\t0.039183833363921346\n",
            "9963    1\n",
            "2785    0\n",
            "8010    1\n",
            "9901    0\n",
            "8483    1\n",
            "       ..\n",
            "3293    0\n",
            "2738    0\n",
            "4070    1\n",
            "6235    1\n",
            "3488    1\n",
            "Name: polarity, Length: 1000, dtype: int64\n"
          ],
          "name": "stdout"
        }
      ]
    },
    {
      "cell_type": "markdown",
      "metadata": {
        "id": "saaPwUxCaUET",
        "colab_type": "text"
      },
      "source": [
        "## **Метод ближайшего соседа**"
      ]
    },
    {
      "cell_type": "code",
      "metadata": {
        "id": "2DvLwZQw_VPx",
        "colab_type": "code",
        "colab": {}
      },
      "source": [
        "clf_KN = KNeighborsClassifier().fit(x_train, y_train)"
      ],
      "execution_count": 0,
      "outputs": []
    },
    {
      "cell_type": "code",
      "metadata": {
        "id": "knboGUMB7f7y",
        "colab_type": "code",
        "outputId": "4e35ab37-861c-47a2-af91-ba075d7f2112",
        "colab": {
          "base_uri": "https://localhost:8080/",
          "height": 139
        }
      },
      "source": [
        "predicted_KN = clf_KN.predict(x_test)\n",
        "print(predicted_proba_KN)"
      ],
      "execution_count": 75,
      "outputs": [
        {
          "output_type": "stream",
          "text": [
            "[[0.8 0.2]\n",
            " [0.6 0.4]\n",
            " [0.2 0.8]\n",
            " ...\n",
            " [0.6 0.4]\n",
            " [0.6 0.4]\n",
            " [0.  1. ]]\n"
          ],
          "name": "stdout"
        }
      ]
    },
    {
      "cell_type": "code",
      "metadata": {
        "id": "WgVCuz_II8YQ",
        "colab_type": "code",
        "colab": {}
      },
      "source": [
        "from sklearn.metrics import accuracy_score\n",
        "from sklearn.metrics import f1_score, precision_score, recall_score"
      ],
      "execution_count": 0,
      "outputs": []
    },
    {
      "cell_type": "code",
      "metadata": {
        "id": "Qn6SlcCwMvou",
        "colab_type": "code",
        "colab": {}
      },
      "source": [
        "def eval_sklearn_visual(true, predicted, categories = ['neg', 'pos'], visual=True):\n",
        "    acc = accuracy_score(true, predicted)\n",
        "    micro_p = precision_score(true, predicted, average = 'micro')\n",
        "    macro_p = precision_score(true, predicted, average = 'macro')\n",
        "    weighted_p = precision_score(true, predicted, average = 'weighted')\n",
        "    micro_r = recall_score(true, predicted, average = 'micro')\n",
        "    macro_r = recall_score(true, predicted, average = 'macro')\n",
        "    weighted_r = recall_score(true, predicted, average = 'weighted')\n",
        "    micro_f1 = f1_score(true, predicted, average = 'micro')\n",
        "    macro_f1 = f1_score(true, predicted, average = 'macro')\n",
        "    weighted_f1 = f1_score(true, predicted, average = 'weighted')\n",
        "    fpr, tpr, _ = roc_curve(true, predicted)\n",
        "    roc_auc = roc_auc_score(true, predicted)\n",
        "    fig, (ax1, ax2) = plt.subplots(nrows=1, ncols=2, figsize=(10, 5))\n",
        "    ax1.plot(fpr, tpr, marker='.', label='Test')\n",
        "    ax1.set_xlabel('False Positive Rate')\n",
        "    ax1.set_ylabel('True Positive Rate')\n",
        "    ax1.legend()\n",
        "    sns.heatmap(data=confusion_matrix(y_test, logreg_preds), annot=True, fmt=\"d\", cbar=False, xticklabels=categories, yticklabels=categories)\n",
        "    ax2.set_title(\"Confusion matrix\")\n",
        "    plt.show()\n",
        "\n",
        "    print(''' \n",
        "ROC AUC:\\t{:.3f}\n",
        "Accuracy:\\t{:.3f}\n",
        "\\t\\tMicro\\tMacro\\tWeighted\n",
        "Precision:\\t{:.3f}\\t{:.3f}\\t{:.3f}\n",
        "Recall:\\t\\t{:.3f}\\t{:.3f}\\t{:.3f}\n",
        "F-measure:\\t{:.3f}\\t{:.3f}\\t{:.3f}\n",
        "'''.format(roc_auc, acc, micro_p, macro_p, weighted_p, micro_r, macro_r, weighted_r, micro_f1, macro_f1, weighted_f1))"
      ],
      "execution_count": 0,
      "outputs": []
    },
    {
      "cell_type": "code",
      "metadata": {
        "id": "b46pd1eF7q_d",
        "colab_type": "code",
        "outputId": "4ad113b0-c938-4c0d-8ee6-caf9bf50311e",
        "colab": {
          "base_uri": "https://localhost:8080/",
          "height": 489
        }
      },
      "source": [
        "eval_sklearn_visual(y_test, predicted_KN)"
      ],
      "execution_count": 76,
      "outputs": [
        {
          "output_type": "display_data",
          "data": {
            "image/png": "[encoded data removed]",
            "text/plain": [
              "<Figure size 720x360 with 2 Axes>"
            ]
          },
          "metadata": {
            "tags": []
          }
        },
        {
          "output_type": "stream",
          "text": [
            " \n",
            "ROC AUC:\t0.632\n",
            "Accuracy:\t0.630\n",
            "\t\tMicro\tMacro\tWeighted\n",
            "Precision:\t0.630\t0.638\t0.639\n",
            "Recall:\t\t0.630\t0.632\t0.630\n",
            "F-measure:\t0.630\t0.627\t0.626\n",
            "\n"
          ],
          "name": "stdout"
        }
      ]
    },
    {
      "cell_type": "markdown",
      "metadata": {
        "id": "XWPVqlhYFJDR",
        "colab_type": "text"
      },
      "source": [
        "## **Логистическая регрессия**"
      ]
    },
    {
      "cell_type": "code",
      "metadata": {
        "id": "jayjHr5FFaqA",
        "colab_type": "code",
        "colab": {
          "base_uri": "https://localhost:8080/",
          "height": 104
        },
        "outputId": "d666dce7-227f-41c7-8fbc-95c30f250352"
      },
      "source": [
        "logreg = LogisticRegression()\n",
        "logreg.fit(x_train, y_train)"
      ],
      "execution_count": 27,
      "outputs": [
        {
          "output_type": "execute_result",
          "data": {
            "text/plain": [
              "LogisticRegression(C=1.0, class_weight=None, dual=False, fit_intercept=True,\n",
              "                   intercept_scaling=1, l1_ratio=None, max_iter=100,\n",
              "                   multi_class='auto', n_jobs=None, penalty='l2',\n",
              "                   random_state=None, solver='lbfgs', tol=0.0001, verbose=0,\n",
              "                   warm_start=False)"
            ]
          },
          "metadata": {
            "tags": []
          },
          "execution_count": 27
        }
      ]
    },
    {
      "cell_type": "code",
      "metadata": {
        "id": "2D4dmkGLGQrs",
        "colab_type": "code",
        "colab": {}
      },
      "source": [
        "logreg_preds = logreg.predict(x_test)"
      ],
      "execution_count": 0,
      "outputs": []
    },
    {
      "cell_type": "code",
      "metadata": {
        "id": "6-wbVCdHGlt-",
        "colab_type": "code",
        "colab": {
          "base_uri": "https://localhost:8080/",
          "height": 489
        },
        "outputId": "27e55933-b3e1-4723-cb39-ebeef9c74de3"
      },
      "source": [
        "eval_sklearn_visual(y_test, logreg_preds)"
      ],
      "execution_count": 70,
      "outputs": [
        {
          "output_type": "display_data",
          "data": {
            "image/png": "[encoded data removed]",
            "text/plain": [
              "<Figure size 720x360 with 2 Axes>"
            ]
          },
          "metadata": {
            "tags": []
          }
        },
        {
          "output_type": "stream",
          "text": [
            " \n",
            "ROC AUC:\t0.800\n",
            "Accuracy:\t0.801\n",
            "\t\tMicro\tMacro\tWeighted\n",
            "Precision:\t0.801\t0.802\t0.802\n",
            "Recall:\t\t0.801\t0.800\t0.801\n",
            "F-measure:\t0.801\t0.800\t0.801\n",
            "\n"
          ],
          "name": "stdout"
        }
      ]
    },
    {
      "cell_type": "markdown",
      "metadata": {
        "id": "_9qb06lmQgRw",
        "colab_type": "text"
      },
      "source": [
        "##**Метод опорных векторов**\n",
        "\n"
      ]
    },
    {
      "cell_type": "code",
      "metadata": {
        "id": "oipJD13kQvA1",
        "colab_type": "code",
        "colab": {}
      },
      "source": [
        ""
      ],
      "execution_count": 0,
      "outputs": []
    }
  ]
}