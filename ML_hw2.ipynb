{
  "nbformat": 4,
  "nbformat_minor": 0,
  "metadata": {
    "colab": {
      "name": "Untitled",
      "provenance": [],
      "authorship_tag": "ABX9TyM3rdODCe1M9Dna1kjB4c6M",
      "include_colab_link": true
    },
    "kernelspec": {
      "name": "python3",
      "display_name": "Python 3"
    }
  },
  "cells": [
    {
      "cell_type": "markdown",
      "metadata": {
        "id": "view-in-github",
        "colab_type": "text"
      },
      "source": [
        "<a href=\"https://colab.research.google.com/github/lnpetrova/comp_ling/blob/master/ML_hw2.ipynb\" target=\"_parent\"><img src=\"https://colab.research.google.com/assets/colab-badge.svg\" alt=\"Open In Colab\"/></a>"
      ]
    },
    {
      "cell_type": "code",
      "metadata": {
        "id": "CJDjmhakTEYN",
        "colab_type": "code",
        "colab": {}
      },
      "source": [
        "from IPython.display import Image"
      ],
      "execution_count": 0,
      "outputs": []
    },
    {
      "cell_type": "code",
      "metadata": {
        "id": "ayBcv1zfTIYK",
        "colab_type": "code",
        "colab": {}
      },
      "source": [
        "import tarfile\n",
        "import os\n",
        "import pandas as pd\n",
        "from sklearn.utils import shuffle\n",
        "from sklearn.metrics import confusion_matrix\n",
        "from sklearn.feature_extraction.text import TfidfVectorizer\n",
        "vectorizer = TfidfVectorizer(stop_words='english')\n",
        "from sklearn.linear_model import LogisticRegression\n",
        "from sklearn.naive_bayes import BernoulliNB\n",
        "from sklearn.neighbors import KNeighborsClassifier\n",
        "from matplotlib import pyplot as plt\n",
        "import seaborn as sns\n",
        "from sklearn.metrics import roc_auc_score, roc_curve"
      ],
      "execution_count": 0,
      "outputs": []
    },
    {
      "cell_type": "code",
      "metadata": {
        "id": "1ES6JU_WFElx",
        "colab_type": "code",
        "outputId": "10a978a5-5bae-4516-88c8-2de6ec123cfa",
        "colab": {
          "base_uri": "https://localhost:8080/",
          "height": 208
        }
      },
      "source": [
        "!wget http://ai.stanford.edu/~amaas/data/sentiment/aclImdb_v1.tar.gz"
      ],
      "execution_count": 4,
      "outputs": [
        {
          "output_type": "stream",
          "text": [
            "--2020-02-24 21:24:02--  http://ai.stanford.edu/~amaas/data/sentiment/aclImdb_v1.tar.gz\n",
            "Resolving ai.stanford.edu (ai.stanford.edu)... 171.64.68.10\n",
            "Connecting to ai.stanford.edu (ai.stanford.edu)|171.64.68.10|:80... connected.\n",
            "HTTP request sent, awaiting response... 200 OK\n",
            "Length: 84125825 (80M) [application/x-gzip]\n",
            "Saving to: ‘aclImdb_v1.tar.gz’\n",
            "\n",
            "aclImdb_v1.tar.gz   100%[===================>]  80.23M  22.9MB/s    in 5.3s    \n",
            "\n",
            "2020-02-24 21:24:08 (15.0 MB/s) - ‘aclImdb_v1.tar.gz’ saved [84125825/84125825]\n",
            "\n"
          ],
          "name": "stdout"
        }
      ]
    },
    {
      "cell_type": "code",
      "metadata": {
        "id": "s75N-0MOUVqe",
        "colab_type": "code",
        "colab": {}
      },
      "source": [
        "tarfile.open('/content/aclImdb_v1.tar.gz', 'r').extractall()"
      ],
      "execution_count": 0,
      "outputs": []
    },
    {
      "cell_type": "code",
      "metadata": {
        "id": "pjNV0g3KvB-H",
        "colab_type": "code",
        "colab": {}
      },
      "source": [
        "path_test_neg = '/content/aclImdb/test/neg'\n",
        "path_test_pos = '/content/aclImdb/test/pos'\n",
        "path_train_neg = '/content/aclImdb/train/neg'\n",
        "path_train_pos = '/content/aclImdb/train/pos'"
      ],
      "execution_count": 0,
      "outputs": []
    },
    {
      "cell_type": "code",
      "metadata": {
        "id": "x2FGgaxzzAPr",
        "colab_type": "code",
        "colab": {}
      },
      "source": [
        "find_test_neg = os.walk(path_test_neg)\n",
        "tests_neg = list(find_test_neg)[0][-1]\n",
        "#print(tests_neg)\n",
        "\n",
        "find_test_pos = os.walk(path_test_pos)\n",
        "tests_pos = list(find_test_pos)[0][-1]\n",
        "\n",
        "find_train_neg = os.walk(path_train_neg)\n",
        "trains_neg = list(find_train_neg)[0][-1]\n",
        "\n",
        "find_train_pos = os.walk(path_train_pos)\n",
        "trains_pos = list(find_train_pos)[0][-1]"
      ],
      "execution_count": 0,
      "outputs": []
    },
    {
      "cell_type": "code",
      "metadata": {
        "id": "qvLmnpsIQ9LT",
        "colab_type": "code",
        "colab": {}
      },
      "source": [
        "# pathes = []\n",
        "# pathes.append(path_test_neg)\n",
        "# pathes.append(path_test_pos)\n",
        "# pathes.append(path_train_pos)\n",
        "# pathes.append(path_train_neg)"
      ],
      "execution_count": 0,
      "outputs": []
    },
    {
      "cell_type": "code",
      "metadata": {
        "id": "85pfiCBUO1dV",
        "colab_type": "code",
        "colab": {}
      },
      "source": [
        "# def get_files(path):\n",
        "#   find_files = os.walk(path)\n",
        "#   list_of_files = list(find_files)[0][-1]\n",
        "#   return list_of_files"
      ],
      "execution_count": 0,
      "outputs": []
    },
    {
      "cell_type": "code",
      "metadata": {
        "id": "-SP9KjwNScpA",
        "colab_type": "code",
        "colab": {}
      },
      "source": [
        "# for path in pathes:\n",
        "#   get_files(path)"
      ],
      "execution_count": 0,
      "outputs": []
    },
    {
      "cell_type": "code",
      "metadata": {
        "id": "bd03iMvJ07kG",
        "colab_type": "code",
        "colab": {}
      },
      "source": [
        "def collect_texts(path, files):\n",
        "    texts = [open('{}/{}'.format(path, file)).read().lower() for file in files]\n",
        "    return texts"
      ],
      "execution_count": 0,
      "outputs": []
    },
    {
      "cell_type": "code",
      "metadata": {
        "id": "rg6RuZTQzBeG",
        "colab_type": "code",
        "outputId": "49d45c55-29a8-42ba-ca4b-f2e0a55e53e1",
        "colab": {
          "base_uri": "https://localhost:8080/",
          "height": 202
        }
      },
      "source": [
        "test_pos_df = pd.DataFrame(collect_texts(path_test_pos, tests_pos),  columns = ['text'])\n",
        "test_pos_df['polarity'] = 1\n",
        "test_pos_df.head()"
      ],
      "execution_count": 12,
      "outputs": [
        {
          "output_type": "execute_result",
          "data": {
            "text/html": [
              "<div>\n",
              "<style scoped>\n",
              "    .dataframe tbody tr th:only-of-type {\n",
              "        vertical-align: middle;\n",
              "    }\n",
              "\n",
              "    .dataframe tbody tr th {\n",
              "        vertical-align: top;\n",
              "    }\n",
              "\n",
              "    .dataframe thead th {\n",
              "        text-align: right;\n",
              "    }\n",
              "</style>\n",
              "<table border=\"1\" class=\"dataframe\">\n",
              "  <thead>\n",
              "    <tr style=\"text-align: right;\">\n",
              "      <th></th>\n",
              "      <th>text</th>\n",
              "      <th>polarity</th>\n",
              "    </tr>\n",
              "  </thead>\n",
              "  <tbody>\n",
              "    <tr>\n",
              "      <th>0</th>\n",
              "      <td>even an old cynical doctor who fan like myself...</td>\n",
              "      <td>1</td>\n",
              "    </tr>\n",
              "    <tr>\n",
              "      <th>1</th>\n",
              "      <td>i just had the opportunity to see 'nuovomondo'...</td>\n",
              "      <td>1</td>\n",
              "    </tr>\n",
              "    <tr>\n",
              "      <th>2</th>\n",
              "      <td>i watched love life on holiday, when it was fi...</td>\n",
              "      <td>1</td>\n",
              "    </tr>\n",
              "    <tr>\n",
              "      <th>3</th>\n",
              "      <td>if you love drive-in cheeze from the early '70...</td>\n",
              "      <td>1</td>\n",
              "    </tr>\n",
              "    <tr>\n",
              "      <th>4</th>\n",
              "      <td>what a trip down memory lane.&lt;br /&gt;&lt;br /&gt;do no...</td>\n",
              "      <td>1</td>\n",
              "    </tr>\n",
              "  </tbody>\n",
              "</table>\n",
              "</div>"
            ],
            "text/plain": [
              "                                                text  polarity\n",
              "0  even an old cynical doctor who fan like myself...         1\n",
              "1  i just had the opportunity to see 'nuovomondo'...         1\n",
              "2  i watched love life on holiday, when it was fi...         1\n",
              "3  if you love drive-in cheeze from the early '70...         1\n",
              "4  what a trip down memory lane.<br /><br />do no...         1"
            ]
          },
          "metadata": {
            "tags": []
          },
          "execution_count": 12
        }
      ]
    },
    {
      "cell_type": "code",
      "metadata": {
        "id": "v026Sve90Ods",
        "colab_type": "code",
        "outputId": "30d2539b-a256-43e9-c01e-6c0d58f74cf3",
        "colab": {
          "base_uri": "https://localhost:8080/",
          "height": 202
        }
      },
      "source": [
        "test_neg_df = pd.DataFrame(collect_texts(path_test_neg, tests_neg),  columns = ['text'])\n",
        "test_neg_df['polarity'] = 0\n",
        "test_neg_df.head()"
      ],
      "execution_count": 13,
      "outputs": [
        {
          "output_type": "execute_result",
          "data": {
            "text/html": [
              "<div>\n",
              "<style scoped>\n",
              "    .dataframe tbody tr th:only-of-type {\n",
              "        vertical-align: middle;\n",
              "    }\n",
              "\n",
              "    .dataframe tbody tr th {\n",
              "        vertical-align: top;\n",
              "    }\n",
              "\n",
              "    .dataframe thead th {\n",
              "        text-align: right;\n",
              "    }\n",
              "</style>\n",
              "<table border=\"1\" class=\"dataframe\">\n",
              "  <thead>\n",
              "    <tr style=\"text-align: right;\">\n",
              "      <th></th>\n",
              "      <th>text</th>\n",
              "      <th>polarity</th>\n",
              "    </tr>\n",
              "  </thead>\n",
              "  <tbody>\n",
              "    <tr>\n",
              "      <th>0</th>\n",
              "      <td>this movie was an absolute waste of time. it's...</td>\n",
              "      <td>0</td>\n",
              "    </tr>\n",
              "    <tr>\n",
              "      <th>1</th>\n",
              "      <td>some spoilers**** a soap has some wonderful mo...</td>\n",
              "      <td>0</td>\n",
              "    </tr>\n",
              "    <tr>\n",
              "      <th>2</th>\n",
              "      <td>i'm not sure what the director and editor were...</td>\n",
              "      <td>0</td>\n",
              "    </tr>\n",
              "    <tr>\n",
              "      <th>3</th>\n",
              "      <td>yes, thats that i felt after i completed watch...</td>\n",
              "      <td>0</td>\n",
              "    </tr>\n",
              "    <tr>\n",
              "      <th>4</th>\n",
              "      <td>first off, i am critical of this movie because...</td>\n",
              "      <td>0</td>\n",
              "    </tr>\n",
              "  </tbody>\n",
              "</table>\n",
              "</div>"
            ],
            "text/plain": [
              "                                                text  polarity\n",
              "0  this movie was an absolute waste of time. it's...         0\n",
              "1  some spoilers**** a soap has some wonderful mo...         0\n",
              "2  i'm not sure what the director and editor were...         0\n",
              "3  yes, thats that i felt after i completed watch...         0\n",
              "4  first off, i am critical of this movie because...         0"
            ]
          },
          "metadata": {
            "tags": []
          },
          "execution_count": 13
        }
      ]
    },
    {
      "cell_type": "code",
      "metadata": {
        "id": "Ab9Gxvu90WPY",
        "colab_type": "code",
        "outputId": "682fc841-5900-41a2-bcaf-3f59e32e2711",
        "colab": {
          "base_uri": "https://localhost:8080/",
          "height": 415
        }
      },
      "source": [
        "test = pd.concat((test_pos_df, test_neg_df))\n",
        "test"
      ],
      "execution_count": 14,
      "outputs": [
        {
          "output_type": "execute_result",
          "data": {
            "text/html": [
              "<div>\n",
              "<style scoped>\n",
              "    .dataframe tbody tr th:only-of-type {\n",
              "        vertical-align: middle;\n",
              "    }\n",
              "\n",
              "    .dataframe tbody tr th {\n",
              "        vertical-align: top;\n",
              "    }\n",
              "\n",
              "    .dataframe thead th {\n",
              "        text-align: right;\n",
              "    }\n",
              "</style>\n",
              "<table border=\"1\" class=\"dataframe\">\n",
              "  <thead>\n",
              "    <tr style=\"text-align: right;\">\n",
              "      <th></th>\n",
              "      <th>text</th>\n",
              "      <th>polarity</th>\n",
              "    </tr>\n",
              "  </thead>\n",
              "  <tbody>\n",
              "    <tr>\n",
              "      <th>0</th>\n",
              "      <td>even an old cynical doctor who fan like myself...</td>\n",
              "      <td>1</td>\n",
              "    </tr>\n",
              "    <tr>\n",
              "      <th>1</th>\n",
              "      <td>i just had the opportunity to see 'nuovomondo'...</td>\n",
              "      <td>1</td>\n",
              "    </tr>\n",
              "    <tr>\n",
              "      <th>2</th>\n",
              "      <td>i watched love life on holiday, when it was fi...</td>\n",
              "      <td>1</td>\n",
              "    </tr>\n",
              "    <tr>\n",
              "      <th>3</th>\n",
              "      <td>if you love drive-in cheeze from the early '70...</td>\n",
              "      <td>1</td>\n",
              "    </tr>\n",
              "    <tr>\n",
              "      <th>4</th>\n",
              "      <td>what a trip down memory lane.&lt;br /&gt;&lt;br /&gt;do no...</td>\n",
              "      <td>1</td>\n",
              "    </tr>\n",
              "    <tr>\n",
              "      <th>...</th>\n",
              "      <td>...</td>\n",
              "      <td>...</td>\n",
              "    </tr>\n",
              "    <tr>\n",
              "      <th>12495</th>\n",
              "      <td>i can't believe i even tried to watch this fil...</td>\n",
              "      <td>0</td>\n",
              "    </tr>\n",
              "    <tr>\n",
              "      <th>12496</th>\n",
              "      <td>what is wrong with curacao ( also known as dea...</td>\n",
              "      <td>0</td>\n",
              "    </tr>\n",
              "    <tr>\n",
              "      <th>12497</th>\n",
              "      <td>inane, awful farce basically about a young man...</td>\n",
              "      <td>0</td>\n",
              "    </tr>\n",
              "    <tr>\n",
              "      <th>12498</th>\n",
              "      <td>when i first saw this show i thought to my sel...</td>\n",
              "      <td>0</td>\n",
              "    </tr>\n",
              "    <tr>\n",
              "      <th>12499</th>\n",
              "      <td>this film is so bad. i mean, who commissions t...</td>\n",
              "      <td>0</td>\n",
              "    </tr>\n",
              "  </tbody>\n",
              "</table>\n",
              "<p>25000 rows × 2 columns</p>\n",
              "</div>"
            ],
            "text/plain": [
              "                                                    text  polarity\n",
              "0      even an old cynical doctor who fan like myself...         1\n",
              "1      i just had the opportunity to see 'nuovomondo'...         1\n",
              "2      i watched love life on holiday, when it was fi...         1\n",
              "3      if you love drive-in cheeze from the early '70...         1\n",
              "4      what a trip down memory lane.<br /><br />do no...         1\n",
              "...                                                  ...       ...\n",
              "12495  i can't believe i even tried to watch this fil...         0\n",
              "12496  what is wrong with curacao ( also known as dea...         0\n",
              "12497  inane, awful farce basically about a young man...         0\n",
              "12498  when i first saw this show i thought to my sel...         0\n",
              "12499  this film is so bad. i mean, who commissions t...         0\n",
              "\n",
              "[25000 rows x 2 columns]"
            ]
          },
          "metadata": {
            "tags": []
          },
          "execution_count": 14
        }
      ]
    },
    {
      "cell_type": "code",
      "metadata": {
        "id": "Z5XeJAVN0hwN",
        "colab_type": "code",
        "outputId": "3f904f39-d0de-4f85-9e3d-5531e3744c65",
        "colab": {
          "base_uri": "https://localhost:8080/",
          "height": 202
        }
      },
      "source": [
        "train_pos_df = pd.DataFrame(collect_texts(path_train_pos, trains_pos),  columns = ['text'])\n",
        "train_pos_df['polarity'] = 1\n",
        "train_pos_df.head()"
      ],
      "execution_count": 15,
      "outputs": [
        {
          "output_type": "execute_result",
          "data": {
            "text/html": [
              "<div>\n",
              "<style scoped>\n",
              "    .dataframe tbody tr th:only-of-type {\n",
              "        vertical-align: middle;\n",
              "    }\n",
              "\n",
              "    .dataframe tbody tr th {\n",
              "        vertical-align: top;\n",
              "    }\n",
              "\n",
              "    .dataframe thead th {\n",
              "        text-align: right;\n",
              "    }\n",
              "</style>\n",
              "<table border=\"1\" class=\"dataframe\">\n",
              "  <thead>\n",
              "    <tr style=\"text-align: right;\">\n",
              "      <th></th>\n",
              "      <th>text</th>\n",
              "      <th>polarity</th>\n",
              "    </tr>\n",
              "  </thead>\n",
              "  <tbody>\n",
              "    <tr>\n",
              "      <th>0</th>\n",
              "      <td>i first saw ice age in the subiaco cinemas whe...</td>\n",
              "      <td>1</td>\n",
              "    </tr>\n",
              "    <tr>\n",
              "      <th>1</th>\n",
              "      <td>what can i say ? an action and allegorical tal...</td>\n",
              "      <td>1</td>\n",
              "    </tr>\n",
              "    <tr>\n",
              "      <th>2</th>\n",
              "      <td>reviewed at the world premiere screening sept....</td>\n",
              "      <td>1</td>\n",
              "    </tr>\n",
              "    <tr>\n",
              "      <th>3</th>\n",
              "      <td>i may be biased, i am the author of the novel ...</td>\n",
              "      <td>1</td>\n",
              "    </tr>\n",
              "    <tr>\n",
              "      <th>4</th>\n",
              "      <td>what a strangely wonderful, if sometimes sligh...</td>\n",
              "      <td>1</td>\n",
              "    </tr>\n",
              "  </tbody>\n",
              "</table>\n",
              "</div>"
            ],
            "text/plain": [
              "                                                text  polarity\n",
              "0  i first saw ice age in the subiaco cinemas whe...         1\n",
              "1  what can i say ? an action and allegorical tal...         1\n",
              "2  reviewed at the world premiere screening sept....         1\n",
              "3  i may be biased, i am the author of the novel ...         1\n",
              "4  what a strangely wonderful, if sometimes sligh...         1"
            ]
          },
          "metadata": {
            "tags": []
          },
          "execution_count": 15
        }
      ]
    },
    {
      "cell_type": "code",
      "metadata": {
        "id": "clHe2MDd0tFm",
        "colab_type": "code",
        "outputId": "6eb9973d-01eb-4d9d-d359-7ed91f322a60",
        "colab": {
          "base_uri": "https://localhost:8080/",
          "height": 202
        }
      },
      "source": [
        "train_neg_df = pd.DataFrame(collect_texts(path_train_neg, trains_neg),  columns = ['text'])\n",
        "train_neg_df['polarity'] = 0\n",
        "train_neg_df.head()"
      ],
      "execution_count": 16,
      "outputs": [
        {
          "output_type": "execute_result",
          "data": {
            "text/html": [
              "<div>\n",
              "<style scoped>\n",
              "    .dataframe tbody tr th:only-of-type {\n",
              "        vertical-align: middle;\n",
              "    }\n",
              "\n",
              "    .dataframe tbody tr th {\n",
              "        vertical-align: top;\n",
              "    }\n",
              "\n",
              "    .dataframe thead th {\n",
              "        text-align: right;\n",
              "    }\n",
              "</style>\n",
              "<table border=\"1\" class=\"dataframe\">\n",
              "  <thead>\n",
              "    <tr style=\"text-align: right;\">\n",
              "      <th></th>\n",
              "      <th>text</th>\n",
              "      <th>polarity</th>\n",
              "    </tr>\n",
              "  </thead>\n",
              "  <tbody>\n",
              "    <tr>\n",
              "      <th>0</th>\n",
              "      <td>this movie is really goofy! i saw it as an 11 ...</td>\n",
              "      <td>0</td>\n",
              "    </tr>\n",
              "    <tr>\n",
              "      <th>1</th>\n",
              "      <td>basically this is about a couple who want to a...</td>\n",
              "      <td>0</td>\n",
              "    </tr>\n",
              "    <tr>\n",
              "      <th>2</th>\n",
              "      <td>hmm i agree with the reviewer who said that \"...</td>\n",
              "      <td>0</td>\n",
              "    </tr>\n",
              "    <tr>\n",
              "      <th>3</th>\n",
              "      <td>'the omen 4: the awakening' is a made-for-tele...</td>\n",
              "      <td>0</td>\n",
              "    </tr>\n",
              "    <tr>\n",
              "      <th>4</th>\n",
              "      <td>bugs bunny accidentally ends up at the south p...</td>\n",
              "      <td>0</td>\n",
              "    </tr>\n",
              "  </tbody>\n",
              "</table>\n",
              "</div>"
            ],
            "text/plain": [
              "                                                text  polarity\n",
              "0  this movie is really goofy! i saw it as an 11 ...         0\n",
              "1  basically this is about a couple who want to a...         0\n",
              "2  hmm\n",
              " i agree with the reviewer who said that \"...         0\n",
              "3  'the omen 4: the awakening' is a made-for-tele...         0\n",
              "4  bugs bunny accidentally ends up at the south p...         0"
            ]
          },
          "metadata": {
            "tags": []
          },
          "execution_count": 16
        }
      ]
    },
    {
      "cell_type": "code",
      "metadata": {
        "id": "SnwgJHCF02T2",
        "colab_type": "code",
        "outputId": "41b3cf08-e3c4-4918-cfa1-0b28348d0d6f",
        "colab": {
          "base_uri": "https://localhost:8080/",
          "height": 415
        }
      },
      "source": [
        "train = pd.concat((train_pos_df, train_neg_df))\n",
        "train"
      ],
      "execution_count": 17,
      "outputs": [
        {
          "output_type": "execute_result",
          "data": {
            "text/html": [
              "<div>\n",
              "<style scoped>\n",
              "    .dataframe tbody tr th:only-of-type {\n",
              "        vertical-align: middle;\n",
              "    }\n",
              "\n",
              "    .dataframe tbody tr th {\n",
              "        vertical-align: top;\n",
              "    }\n",
              "\n",
              "    .dataframe thead th {\n",
              "        text-align: right;\n",
              "    }\n",
              "</style>\n",
              "<table border=\"1\" class=\"dataframe\">\n",
              "  <thead>\n",
              "    <tr style=\"text-align: right;\">\n",
              "      <th></th>\n",
              "      <th>text</th>\n",
              "      <th>polarity</th>\n",
              "    </tr>\n",
              "  </thead>\n",
              "  <tbody>\n",
              "    <tr>\n",
              "      <th>0</th>\n",
              "      <td>i first saw ice age in the subiaco cinemas whe...</td>\n",
              "      <td>1</td>\n",
              "    </tr>\n",
              "    <tr>\n",
              "      <th>1</th>\n",
              "      <td>what can i say ? an action and allegorical tal...</td>\n",
              "      <td>1</td>\n",
              "    </tr>\n",
              "    <tr>\n",
              "      <th>2</th>\n",
              "      <td>reviewed at the world premiere screening sept....</td>\n",
              "      <td>1</td>\n",
              "    </tr>\n",
              "    <tr>\n",
              "      <th>3</th>\n",
              "      <td>i may be biased, i am the author of the novel ...</td>\n",
              "      <td>1</td>\n",
              "    </tr>\n",
              "    <tr>\n",
              "      <th>4</th>\n",
              "      <td>what a strangely wonderful, if sometimes sligh...</td>\n",
              "      <td>1</td>\n",
              "    </tr>\n",
              "    <tr>\n",
              "      <th>...</th>\n",
              "      <td>...</td>\n",
              "      <td>...</td>\n",
              "    </tr>\n",
              "    <tr>\n",
              "      <th>12495</th>\n",
              "      <td>i was shocked by the ridiculously unbelievable...</td>\n",
              "      <td>0</td>\n",
              "    </tr>\n",
              "    <tr>\n",
              "      <th>12496</th>\n",
              "      <td>this movie is just plain bad. it isn't even wo...</td>\n",
              "      <td>0</td>\n",
              "    </tr>\n",
              "    <tr>\n",
              "      <th>12497</th>\n",
              "      <td>aka: mondays in the sun&lt;br /&gt;&lt;br /&gt;i have no i...</td>\n",
              "      <td>0</td>\n",
              "    </tr>\n",
              "    <tr>\n",
              "      <th>12498</th>\n",
              "      <td>after eagerly waiting to the end, i have to sa...</td>\n",
              "      <td>0</td>\n",
              "    </tr>\n",
              "    <tr>\n",
              "      <th>12499</th>\n",
              "      <td>naturally i didn't watch 'gi jane' out of choi...</td>\n",
              "      <td>0</td>\n",
              "    </tr>\n",
              "  </tbody>\n",
              "</table>\n",
              "<p>25000 rows × 2 columns</p>\n",
              "</div>"
            ],
            "text/plain": [
              "                                                    text  polarity\n",
              "0      i first saw ice age in the subiaco cinemas whe...         1\n",
              "1      what can i say ? an action and allegorical tal...         1\n",
              "2      reviewed at the world premiere screening sept....         1\n",
              "3      i may be biased, i am the author of the novel ...         1\n",
              "4      what a strangely wonderful, if sometimes sligh...         1\n",
              "...                                                  ...       ...\n",
              "12495  i was shocked by the ridiculously unbelievable...         0\n",
              "12496  this movie is just plain bad. it isn't even wo...         0\n",
              "12497  aka: mondays in the sun<br /><br />i have no i...         0\n",
              "12498  after eagerly waiting to the end, i have to sa...         0\n",
              "12499  naturally i didn't watch 'gi jane' out of choi...         0\n",
              "\n",
              "[25000 rows x 2 columns]"
            ]
          },
          "metadata": {
            "tags": []
          },
          "execution_count": 17
        }
      ]
    },
    {
      "cell_type": "code",
      "metadata": {
        "id": "S2DmpnmJ1GwL",
        "colab_type": "code",
        "outputId": "e0d67397-27d4-4a81-f962-bc5938ad05ab",
        "colab": {
          "base_uri": "https://localhost:8080/",
          "height": 202
        }
      },
      "source": [
        "train = shuffle(train, random_state=42)\n",
        "train = train[:10000]\n",
        "train.head()"
      ],
      "execution_count": 62,
      "outputs": [
        {
          "output_type": "execute_result",
          "data": {
            "text/html": [
              "<div>\n",
              "<style scoped>\n",
              "    .dataframe tbody tr th:only-of-type {\n",
              "        vertical-align: middle;\n",
              "    }\n",
              "\n",
              "    .dataframe tbody tr th {\n",
              "        vertical-align: top;\n",
              "    }\n",
              "\n",
              "    .dataframe thead th {\n",
              "        text-align: right;\n",
              "    }\n",
              "</style>\n",
              "<table border=\"1\" class=\"dataframe\">\n",
              "  <thead>\n",
              "    <tr style=\"text-align: right;\">\n",
              "      <th></th>\n",
              "      <th>text</th>\n",
              "      <th>polarity</th>\n",
              "    </tr>\n",
              "  </thead>\n",
              "  <tbody>\n",
              "    <tr>\n",
              "      <th>4977</th>\n",
              "      <td>ok, let me again admit that i haven't seen any...</td>\n",
              "      <td>0</td>\n",
              "    </tr>\n",
              "    <tr>\n",
              "      <th>1979</th>\n",
              "      <td>st. elmo's fire has no bearing on life after u...</td>\n",
              "      <td>0</td>\n",
              "    </tr>\n",
              "    <tr>\n",
              "      <th>4547</th>\n",
              "      <td>really the tale of two cocky brothers and thei...</td>\n",
              "      <td>1</td>\n",
              "    </tr>\n",
              "    <tr>\n",
              "      <th>6246</th>\n",
              "      <td>the honey, i shrunk the kids franchise was a h...</td>\n",
              "      <td>0</td>\n",
              "    </tr>\n",
              "    <tr>\n",
              "      <th>8993</th>\n",
              "      <td>i went to see this movie expecting a nice rela...</td>\n",
              "      <td>1</td>\n",
              "    </tr>\n",
              "  </tbody>\n",
              "</table>\n",
              "</div>"
            ],
            "text/plain": [
              "                                                   text  polarity\n",
              "4977  ok, let me again admit that i haven't seen any...         0\n",
              "1979  st. elmo's fire has no bearing on life after u...         0\n",
              "4547  really the tale of two cocky brothers and thei...         1\n",
              "6246  the honey, i shrunk the kids franchise was a h...         0\n",
              "8993  i went to see this movie expecting a nice rela...         1"
            ]
          },
          "metadata": {
            "tags": []
          },
          "execution_count": 62
        }
      ]
    },
    {
      "cell_type": "code",
      "metadata": {
        "id": "dnfRhevD1OWy",
        "colab_type": "code",
        "outputId": "263450fe-81e7-4fe3-a73b-c69146025efc",
        "colab": {
          "base_uri": "https://localhost:8080/",
          "height": 1000
        }
      },
      "source": [
        "x_train = vectorizer.fit_transform(train.text)\n",
        "print(x_train)\n",
        "y_train = train.polarity\n",
        "print(y_train)"
      ],
      "execution_count": 71,
      "outputs": [
        {
          "output_type": "stream",
          "text": [
            "  (0, 3310)\t0.052526167576472264\n",
            "  (0, 16836)\t0.019721170574553644\n",
            "  (0, 332)\t0.052526167576472264\n",
            "  (0, 958)\t0.03314892453206955\n",
            "  (0, 11891)\t0.052526167576472264\n",
            "  (0, 12536)\t0.052526167576472264\n",
            "  (0, 5195)\t0.029292798154840677\n",
            "  (0, 11959)\t0.02595756491431554\n",
            "  (0, 9154)\t0.025795181395747442\n",
            "  (0, 1188)\t0.05565349248107615\n",
            "  (0, 13806)\t0.04011268201305811\n",
            "  (0, 16294)\t0.037158688722884935\n",
            "  (0, 309)\t0.04496109800878623\n",
            "  (0, 4196)\t0.03828943138550487\n",
            "  (0, 2833)\t0.03403136381828105\n",
            "  (0, 10172)\t0.052526167576472264\n",
            "  (0, 15526)\t0.01994367443421485\n",
            "  (0, 924)\t0.04011268201305811\n",
            "  (0, 11962)\t0.030091400395615742\n",
            "  (0, 4611)\t0.01850615079185792\n",
            "  (0, 62)\t0.05030729524493119\n",
            "  (0, 13719)\t0.05310888601415295\n",
            "  (0, 5505)\t0.03380110993633835\n",
            "  (0, 14014)\t0.035298622119748865\n",
            "  (0, 3610)\t0.04011268201305811\n",
            "  :\t:\n",
            "  (999, 288)\t0.12669056808273754\n",
            "  (999, 13450)\t0.07318616457630484\n",
            "  (999, 17129)\t0.12981476475931433\n",
            "  (999, 6814)\t0.1488385393425872\n",
            "  (999, 10764)\t0.07442123607427652\n",
            "  (999, 15679)\t0.10078136236474633\n",
            "  (999, 363)\t0.062219135258418906\n",
            "  (999, 2490)\t0.0751554359372544\n",
            "  (999, 17261)\t0.08651739522600442\n",
            "  (999, 8840)\t0.09738336774298846\n",
            "  (999, 8479)\t0.04736318000009941\n",
            "  (999, 15990)\t0.18878602101251507\n",
            "  (999, 6408)\t0.12263393377782605\n",
            "  (999, 16836)\t0.1276453725074075\n",
            "  (999, 309)\t0.14550546282173388\n",
            "  (999, 4611)\t0.05989057552579947\n",
            "  (999, 1310)\t0.06145440599456211\n",
            "  (999, 10201)\t0.06266687812862878\n",
            "  (999, 16826)\t0.08536956101082412\n",
            "  (999, 9049)\t0.08798379183342976\n",
            "  (999, 9260)\t0.06765073207081346\n",
            "  (999, 10200)\t0.15195010741763781\n",
            "  (999, 1980)\t0.311785914512757\n",
            "  (999, 5871)\t0.03986320865273645\n",
            "  (999, 5884)\t0.06849219362912091\n",
            "4977     0\n",
            "1979     0\n",
            "4547     1\n",
            "6246     0\n",
            "8993     1\n",
            "        ..\n",
            "5689     1\n",
            "1917     0\n",
            "4404     1\n",
            "10146    0\n",
            "838      0\n",
            "Name: polarity, Length: 1000, dtype: int64\n"
          ],
          "name": "stdout"
        }
      ]
    },
    {
      "cell_type": "code",
      "metadata": {
        "id": "vzgzzr7R1TG9",
        "colab_type": "code",
        "outputId": "f7a09c99-018a-4802-a4ec-85462b290b99",
        "colab": {
          "base_uri": "https://localhost:8080/",
          "height": 202
        }
      },
      "source": [
        "test = shuffle(test, random_state=42)\n",
        "test = test[:10000]\n",
        "test.head()"
      ],
      "execution_count": 72,
      "outputs": [
        {
          "output_type": "execute_result",
          "data": {
            "text/html": [
              "<div>\n",
              "<style scoped>\n",
              "    .dataframe tbody tr th:only-of-type {\n",
              "        vertical-align: middle;\n",
              "    }\n",
              "\n",
              "    .dataframe tbody tr th {\n",
              "        vertical-align: top;\n",
              "    }\n",
              "\n",
              "    .dataframe thead th {\n",
              "        text-align: right;\n",
              "    }\n",
              "</style>\n",
              "<table border=\"1\" class=\"dataframe\">\n",
              "  <thead>\n",
              "    <tr style=\"text-align: right;\">\n",
              "      <th></th>\n",
              "      <th>text</th>\n",
              "      <th>polarity</th>\n",
              "    </tr>\n",
              "  </thead>\n",
              "  <tbody>\n",
              "    <tr>\n",
              "      <th>9963</th>\n",
              "      <td>this movie is great i really enjoyed it.&lt;br /&gt;...</td>\n",
              "      <td>1</td>\n",
              "    </tr>\n",
              "    <tr>\n",
              "      <th>2785</th>\n",
              "      <td>this has to be the greatest practical joke eve...</td>\n",
              "      <td>0</td>\n",
              "    </tr>\n",
              "    <tr>\n",
              "      <th>8010</th>\n",
              "      <td>and thus was born the most amorous skunk ever ...</td>\n",
              "      <td>1</td>\n",
              "    </tr>\n",
              "    <tr>\n",
              "      <th>9901</th>\n",
              "      <td>this is a good blueprint for a study of corpor...</td>\n",
              "      <td>0</td>\n",
              "    </tr>\n",
              "    <tr>\n",
              "      <th>8483</th>\n",
              "      <td>this is fantastic! everything from the score -...</td>\n",
              "      <td>1</td>\n",
              "    </tr>\n",
              "  </tbody>\n",
              "</table>\n",
              "</div>"
            ],
            "text/plain": [
              "                                                   text  polarity\n",
              "9963  this movie is great i really enjoyed it.<br />...         1\n",
              "2785  this has to be the greatest practical joke eve...         0\n",
              "8010  and thus was born the most amorous skunk ever ...         1\n",
              "9901  this is a good blueprint for a study of corpor...         0\n",
              "8483  this is fantastic! everything from the score -...         1"
            ]
          },
          "metadata": {
            "tags": []
          },
          "execution_count": 72
        }
      ]
    },
    {
      "cell_type": "code",
      "metadata": {
        "id": "W0Bf4Dzh1azp",
        "colab_type": "code",
        "outputId": "733afbcf-5e8e-4eff-ec2c-cc2e173ef651",
        "colab": {
          "base_uri": "https://localhost:8080/",
          "height": 1000
        }
      },
      "source": [
        "x_test = vectorizer.transform(test.text)\n",
        "print(x_test)\n",
        "y_test = test.polarity\n",
        "print(y_test)"
      ],
      "execution_count": 73,
      "outputs": [
        {
          "output_type": "stream",
          "text": [
            "  (0, 16789)\t0.08998639950205035\n",
            "  (0, 15941)\t0.17117003397311795\n",
            "  (0, 15539)\t0.46726015952162286\n",
            "  (0, 14323)\t0.18578937061594505\n",
            "  (0, 14155)\t0.1188353531258595\n",
            "  (0, 12484)\t0.09550473776175661\n",
            "  (0, 11793)\t0.1382581923870219\n",
            "  (0, 11454)\t0.12356538168401814\n",
            "  (0, 10322)\t0.29574342838050605\n",
            "  (0, 10270)\t0.13601315842647158\n",
            "  (0, 10200)\t0.09677870158210722\n",
            "  (0, 10071)\t0.11681503988040572\n",
            "  (0, 9719)\t0.09941251386469709\n",
            "  (0, 9423)\t0.05200603480459119\n",
            "  (0, 9262)\t0.08050461276298143\n",
            "  (0, 9260)\t0.17234999361724374\n",
            "  (0, 9049)\t0.11207569745911684\n",
            "  (0, 6782)\t0.05043514995217283\n",
            "  (0, 6523)\t0.0689926753884696\n",
            "  (0, 5658)\t0.09228022938292502\n",
            "  (0, 5638)\t0.10310832535263577\n",
            "  (0, 5394)\t0.1188353531258595\n",
            "  (0, 5393)\t0.10522981895792137\n",
            "  (0, 5198)\t0.08648716356637055\n",
            "  (0, 4944)\t0.14435625979857403\n",
            "  :\t:\n",
            "  (999, 3176)\t0.0702347892915819\n",
            "  (999, 3076)\t0.04154476158663926\n",
            "  (999, 2623)\t0.06919829590653047\n",
            "  (999, 2118)\t0.08818626765604907\n",
            "  (999, 2073)\t0.056008579271488085\n",
            "  (999, 2035)\t0.0815714566965334\n",
            "  (999, 1980)\t0.36393335969579904\n",
            "  (999, 1952)\t0.07548526012944212\n",
            "  (999, 1912)\t0.0934367384939093\n",
            "  (999, 1886)\t0.0934367384939093\n",
            "  (999, 1718)\t0.049611407962891735\n",
            "  (999, 1652)\t0.04096914440429126\n",
            "  (999, 1557)\t0.07548526012944212\n",
            "  (999, 998)\t0.0934367384939093\n",
            "  (999, 994)\t0.0934367384939093\n",
            "  (999, 699)\t0.05637337112418465\n",
            "  (999, 403)\t0.0934367384939093\n",
            "  (999, 289)\t0.04983276812939663\n",
            "  (999, 220)\t0.07721439210379412\n",
            "  (999, 106)\t0.08446099931167571\n",
            "  (999, 103)\t0.08818626765604907\n",
            "  (999, 102)\t0.0815714566965334\n",
            "  (999, 100)\t0.08818626765604907\n",
            "  (999, 96)\t0.07548526012944212\n",
            "  (999, 7)\t0.039183833363921346\n",
            "9963    1\n",
            "2785    0\n",
            "8010    1\n",
            "9901    0\n",
            "8483    1\n",
            "       ..\n",
            "3293    0\n",
            "2738    0\n",
            "4070    1\n",
            "6235    1\n",
            "3488    1\n",
            "Name: polarity, Length: 1000, dtype: int64\n"
          ],
          "name": "stdout"
        }
      ]
    },
    {
      "cell_type": "markdown",
      "metadata": {
        "id": "saaPwUxCaUET",
        "colab_type": "text"
      },
      "source": [
        "## **Метод ближайшего соседа**"
      ]
    },
    {
      "cell_type": "code",
      "metadata": {
        "id": "2DvLwZQw_VPx",
        "colab_type": "code",
        "colab": {}
      },
      "source": [
        "clf_KN = KNeighborsClassifier().fit(x_train, y_train)"
      ],
      "execution_count": 0,
      "outputs": []
    },
    {
      "cell_type": "code",
      "metadata": {
        "id": "knboGUMB7f7y",
        "colab_type": "code",
        "outputId": "6cc15b65-ea62-45f4-d673-a7130d5788bd",
        "colab": {
          "base_uri": "https://localhost:8080/",
          "height": 503
        }
      },
      "source": [
        "predicted_KN = clf_KN.predict(x_test)\n",
        "print(predicted_KN)"
      ],
      "execution_count": 85,
      "outputs": [
        {
          "output_type": "stream",
          "text": [
            "[0 0 1 1 0 0 1 0 0 1 0 0 1 1 0 0 1 0 1 0 1 1 1 0 0 1 1 0 0 0 1 1 0 1 1 1 1\n",
            " 0 1 1 1 0 1 0 0 0 0 0 0 0 0 0 0 1 0 0 0 0 0 1 0 1 0 1 1 1 0 0 0 0 1 1 0 0\n",
            " 0 1 1 1 0 1 0 1 1 0 0 0 0 0 0 0 0 1 0 1 1 1 1 1 0 0 1 0 0 1 0 0 0 0 1 1 1\n",
            " 0 1 0 0 0 0 1 0 0 1 1 0 0 0 1 0 0 0 0 0 0 0 0 1 0 0 0 0 0 0 1 1 0 0 1 1 1\n",
            " 1 0 0 0 0 0 1 1 0 0 0 0 0 0 0 1 1 1 0 0 0 1 0 0 1 0 1 0 1 0 0 1 0 0 0 0 0\n",
            " 1 0 1 0 0 0 0 0 0 1 1 1 0 0 0 0 0 1 0 1 1 1 1 1 1 0 1 1 0 0 1 1 1 0 1 1 1\n",
            " 0 1 1 1 1 0 0 0 1 1 0 1 0 0 1 1 0 0 0 0 1 0 1 0 0 0 1 0 0 1 0 0 0 0 1 0 0\n",
            " 1 0 1 1 1 0 0 0 0 0 0 0 0 1 1 1 1 1 0 0 1 1 1 1 0 0 1 0 1 1 0 1 0 0 0 0 0\n",
            " 1 0 1 0 0 1 0 0 0 0 0 1 0 1 1 0 0 0 1 0 1 0 0 1 0 0 0 1 1 1 0 0 0 1 0 0 1\n",
            " 1 0 1 0 1 0 0 0 0 0 0 1 0 0 1 1 1 0 0 0 1 1 0 1 0 0 0 1 1 0 1 1 1 0 1 0 0\n",
            " 1 1 0 0 1 0 0 0 0 1 0 0 0 1 1 0 1 0 0 0 1 0 1 0 1 0 0 0 0 0 0 1 0 1 1 0 1\n",
            " 1 0 0 0 0 0 0 0 0 1 1 0 0 1 1 1 0 1 1 0 1 0 1 0 1 0 0 1 1 0 0 0 1 0 0 1 0\n",
            " 1 0 1 0 0 1 0 1 0 0 1 0 0 0 0 0 0 0 0 1 0 0 0 1 1 1 0 0 0 0 1 1 0 0 0 1 1\n",
            " 0 0 0 1 0 1 0 1 1 1 0 0 1 0 1 0 0 0 0 1 0 0 1 0 1 0 1 1 1 1 1 0 0 1 0 0 1\n",
            " 0 1 0 1 0 0 0 0 0 1 0 1 0 0 0 0 0 0 1 0 1 0 1 0 0 0 1 0 1 0 0 0 0 0 0 0 1\n",
            " 0 0 1 0 0 1 0 0 1 0 1 0 0 1 1 0 0 0 1 0 1 1 0 0 1 0 0 0 0 1 0 0 1 1 1 1 0\n",
            " 1 0 0 0 0 1 1 0 1 1 0 1 1 1 0 0 1 1 1 0 0 0 0 1 1 0 0 0 0 1 1 1 0 0 0 1 0\n",
            " 0 0 0 0 1 1 1 0 0 1 1 0 0 0 0 0 0 0 0 0 1 1 0 0 1 0 1 0 0 0 0 1 0 0 1 0 0\n",
            " 1 0 1 0 0 1 1 0 0 1 0 0 0 1 1 0 1 1 0 1 0 1 1 0 0 1 1 0 0 0 1 0 0 0 1 1 0\n",
            " 1 1 0 0 1 0 0 0 1 0 0 1 1 0 0 1 1 0 1 0 0 1 0 0 0 1 0 0 0 0 0 1 0 1 0 0 0\n",
            " 1 1 0 1 0 0 0 0 1 0 0 0 0 1 0 0 1 0 1 0 0 0 0 0 0 0 1 0 1 0 1 0 0 0 1 0 1\n",
            " 0 1 1 0 1 0 1 0 0 0 1 1 0 0 1 0 0 0 0 0 0 1 0 0 1 0 0 0 0 1 1 1 1 1 0 1 1\n",
            " 0 1 0 0 1 1 1 0 0 1 0 0 0 0 0 0 0 0 1 1 0 1 1 1 1 0 0 1 0 1 0 1 1 0 0 0 1\n",
            " 0 1 0 0 1 1 1 1 0 0 1 0 1 0 0 0 0 0 0 1 0 1 0 0 0 1 1 1 0 0 1 0 1 0 1 0 1\n",
            " 1 0 1 0 0 0 1 1 0 1 1 0 0 0 1 1 0 0 0 0 1 1 1 0 0 0 0 0 0 0 1 0 0 1 0 1 0\n",
            " 0 1 0 1 1 0 1 0 0 0 1 0 0 0 1 0 0 1 0 0 1 0 1 0 0 1 0 1 1 1 0 0 0 1 1 0 0\n",
            " 1 0 1 0 0 0 0 1 1 0 0 1 0 0 0 0 0 0 0 0 1 1 0 0 0 1 1 0 1 0 0 1 1 1 0 1 1\n",
            " 0]\n"
          ],
          "name": "stdout"
        }
      ]
    },
    {
      "cell_type": "code",
      "metadata": {
        "id": "WgVCuz_II8YQ",
        "colab_type": "code",
        "colab": {}
      },
      "source": [
        "from sklearn.metrics import accuracy_score\n",
        "from sklearn.metrics import f1_score, precision_score, recall_score"
      ],
      "execution_count": 0,
      "outputs": []
    },
    {
      "cell_type": "code",
      "metadata": {
        "colab_type": "code",
        "id": "DxEq7DHhX6ct",
        "colab": {}
      },
      "source": [
        "def eval_sklearn_visual(true, predicted, categories = ['neg', 'pos']):\n",
        "    acc = accuracy_score(true, predicted)\n",
        "    micro_p = precision_score(true, predicted, average = 'micro')\n",
        "    macro_p = precision_score(true, predicted, average = 'macro')\n",
        "    weighted_p = precision_score(true, predicted, average = 'weighted')\n",
        "    micro_r = recall_score(true, predicted, average = 'micro')\n",
        "    macro_r = recall_score(true, predicted, average = 'macro')\n",
        "    weighted_r = recall_score(true, predicted, average = 'weighted')\n",
        "    micro_f1 = f1_score(true, predicted, average = 'micro')\n",
        "    macro_f1 = f1_score(true, predicted, average = 'macro')\n",
        "    weighted_f1 = f1_score(true, predicted, average = 'weighted')\n",
        "    fpr, tpr, _ = roc_curve(true, predicted)\n",
        "    roc_auc = roc_auc_score(true, predicted)\n",
        "    fig, (ax1, ax2) = plt.subplots(nrows=1, ncols=2, figsize=(10, 5))\n",
        "    ax1.plot(fpr, tpr, marker='.', label='Test')\n",
        "    ax1.set_xlabel('False Positive Rate')\n",
        "    ax1.set_ylabel('True Positive Rate')\n",
        "    ax1.legend()\n",
        "    sns.heatmap(data=confusion_matrix(true, predicted), annot=True, fmt=\"d\", cbar=False, xticklabels=categories, yticklabels=categories)\n",
        "    ax2.set_title(\"Confusion matrix\")\n",
        "    plt.show()\n",
        "\n",
        "    print(''' \n",
        "ROC AUC:\\t{:.3f}\n",
        "Accuracy:\\t{:.3f}\n",
        "\\t\\tMicro\\tMacro\\tWeighted\n",
        "Precision:\\t{:.3f}\\t{:.3f}\\t{:.3f}\n",
        "Recall:\\t\\t{:.3f}\\t{:.3f}\\t{:.3f}\n",
        "F-measure:\\t{:.3f}\\t{:.3f}\\t{:.3f}\n",
        "'''.format(roc_auc, acc, micro_p, macro_p, weighted_p, micro_r, macro_r, weighted_r, micro_f1, macro_f1, weighted_f1))"
      ],
      "execution_count": 0,
      "outputs": []
    },
    {
      "cell_type": "code",
      "metadata": {
        "id": "b46pd1eF7q_d",
        "colab_type": "code",
        "outputId": "a70e8935-ec1e-44c2-c1c1-f1de8e8ecc1f",
        "colab": {
          "base_uri": "https://localhost:8080/",
          "height": 489
        }
      },
      "source": [
        "eval_sklearn_visual(y_test, predicted_KN)"
      ],
      "execution_count": 112,
      "outputs": [
        {
          "output_type": "display_data",
          "data": {
            "image/png": "[encoded data removed]",
            "text/plain": [
              "<Figure size 720x360 with 2 Axes>"
            ]
          },
          "metadata": {
            "tags": []
          }
        },
        {
          "output_type": "stream",
          "text": [
            " \n",
            "ROC AUC:\t0.632\n",
            "Accuracy:\t0.630\n",
            "\t\tMicro\tMacro\tWeighted\n",
            "Precision:\t0.630\t0.638\t0.639\n",
            "Recall:\t\t0.630\t0.632\t0.630\n",
            "F-measure:\t0.630\t0.627\t0.626\n",
            "\n"
          ],
          "name": "stdout"
        }
      ]
    },
    {
      "cell_type": "markdown",
      "metadata": {
        "id": "XWPVqlhYFJDR",
        "colab_type": "text"
      },
      "source": [
        "## **Логистическая регрессия**"
      ]
    },
    {
      "cell_type": "code",
      "metadata": {
        "id": "jayjHr5FFaqA",
        "colab_type": "code",
        "colab": {
          "base_uri": "https://localhost:8080/",
          "height": 104
        },
        "outputId": "d666dce7-227f-41c7-8fbc-95c30f250352"
      },
      "source": [
        "logreg = LogisticRegression()\n",
        "logreg.fit(x_train, y_train)"
      ],
      "execution_count": 27,
      "outputs": [
        {
          "output_type": "execute_result",
          "data": {
            "text/plain": [
              "LogisticRegression(C=1.0, class_weight=None, dual=False, fit_intercept=True,\n",
              "                   intercept_scaling=1, l1_ratio=None, max_iter=100,\n",
              "                   multi_class='auto', n_jobs=None, penalty='l2',\n",
              "                   random_state=None, solver='lbfgs', tol=0.0001, verbose=0,\n",
              "                   warm_start=False)"
            ]
          },
          "metadata": {
            "tags": []
          },
          "execution_count": 27
        }
      ]
    },
    {
      "cell_type": "code",
      "metadata": {
        "id": "2D4dmkGLGQrs",
        "colab_type": "code",
        "colab": {}
      },
      "source": [
        "logreg_predicted = logreg.predict(x_test)"
      ],
      "execution_count": 0,
      "outputs": []
    },
    {
      "cell_type": "code",
      "metadata": {
        "id": "6-wbVCdHGlt-",
        "colab_type": "code",
        "colab": {
          "base_uri": "https://localhost:8080/",
          "height": 489
        },
        "outputId": "f16d1ebb-6fd7-4aca-b7b0-2c836427bbfa"
      },
      "source": [
        "eval_sklearn_visual(y_test, logreg_predicted)"
      ],
      "execution_count": 111,
      "outputs": [
        {
          "output_type": "display_data",
          "data": {
            "image/png": "[encoded data removed]",
            "text/plain": [
              "<Figure size 720x360 with 2 Axes>"
            ]
          },
          "metadata": {
            "tags": []
          }
        },
        {
          "output_type": "stream",
          "text": [
            " \n",
            "ROC AUC:\t0.800\n",
            "Accuracy:\t0.801\n",
            "\t\tMicro\tMacro\tWeighted\n",
            "Precision:\t0.801\t0.802\t0.802\n",
            "Recall:\t\t0.801\t0.800\t0.801\n",
            "F-measure:\t0.801\t0.800\t0.801\n",
            "\n"
          ],
          "name": "stdout"
        }
      ]
    },
    {
      "cell_type": "markdown",
      "metadata": {
        "id": "_9qb06lmQgRw",
        "colab_type": "text"
      },
      "source": [
        "##**Метод опорных векторов**\n",
        "\n"
      ]
    },
    {
      "cell_type": "code",
      "metadata": {
        "id": "oipJD13kQvA1",
        "colab_type": "code",
        "colab": {}
      },
      "source": [
        "from sklearn.svm import LinearSVC\n",
        "clf = LinearSVC().fit(x_train, y_train)\n",
        "predicted_svc = clf.predict(x_test)"
      ],
      "execution_count": 0,
      "outputs": []
    },
    {
      "cell_type": "code",
      "metadata": {
        "id": "qkujz5T7aOum",
        "colab_type": "code",
        "colab": {
          "base_uri": "https://localhost:8080/",
          "height": 489
        },
        "outputId": "1427cca3-f5da-4f5b-f4cc-f8666345692c"
      },
      "source": [
        "eval_sklearn_visual(y_test, predicted_svc)"
      ],
      "execution_count": 110,
      "outputs": [
        {
          "output_type": "display_data",
          "data": {
            "image/png": "[encoded data removed]",
            "text/plain": [
              "<Figure size 720x360 with 2 Axes>"
            ]
          },
          "metadata": {
            "tags": []
          }
        },
        {
          "output_type": "stream",
          "text": [
            " \n",
            "ROC AUC:\t0.813\n",
            "Accuracy:\t0.813\n",
            "\t\tMicro\tMacro\tWeighted\n",
            "Precision:\t0.813\t0.813\t0.813\n",
            "Recall:\t\t0.813\t0.813\t0.813\n",
            "F-measure:\t0.813\t0.813\t0.813\n",
            "\n"
          ],
          "name": "stdout"
        }
      ]
    },
    {
      "cell_type": "markdown",
      "metadata": {
        "id": "nNDqBZjJa5HW",
        "colab_type": "text"
      },
      "source": [
        "##**Метод наивного Байеса**"
      ]
    },
    {
      "cell_type": "code",
      "metadata": {
        "id": "TgZ5BVgWbIqx",
        "colab_type": "code",
        "colab": {
          "base_uri": "https://localhost:8080/",
          "height": 35
        },
        "outputId": "839e7668-7686-4cb9-8266-7b418469b792"
      },
      "source": [
        "nb = BernoulliNB()\n",
        "nb.fit(x_train, y_train)"
      ],
      "execution_count": 104,
      "outputs": [
        {
          "output_type": "execute_result",
          "data": {
            "text/plain": [
              "BernoulliNB(alpha=1.0, binarize=0.0, class_prior=None, fit_prior=True)"
            ]
          },
          "metadata": {
            "tags": []
          },
          "execution_count": 104
        }
      ]
    },
    {
      "cell_type": "code",
      "metadata": {
        "id": "S3_PbR--bRAG",
        "colab_type": "code",
        "colab": {}
      },
      "source": [
        "predicted_nb = nb.predict(x_test)"
      ],
      "execution_count": 0,
      "outputs": []
    },
    {
      "cell_type": "code",
      "metadata": {
        "id": "0L8EDEQAba43",
        "colab_type": "code",
        "colab": {
          "base_uri": "https://localhost:8080/",
          "height": 489
        },
        "outputId": "c1d03613-161b-477c-f352-e58aed325ebb"
      },
      "source": [
        "eval_sklearn_visual(y_test, predicted_nb)"
      ],
      "execution_count": 109,
      "outputs": [
        {
          "output_type": "display_data",
          "data": {
            "image/png": "[encoded data removed]",
            "text/plain": [
              "<Figure size 720x360 with 2 Axes>"
            ]
          },
          "metadata": {
            "tags": []
          }
        },
        {
          "output_type": "stream",
          "text": [
            " \n",
            "ROC AUC:\t0.804\n",
            "Accuracy:\t0.804\n",
            "\t\tMicro\tMacro\tWeighted\n",
            "Precision:\t0.804\t0.804\t0.804\n",
            "Recall:\t\t0.804\t0.804\t0.804\n",
            "F-measure:\t0.804\t0.804\t0.804\n",
            "\n"
          ],
          "name": "stdout"
        }
      ]
    },
    {
      "cell_type": "markdown",
      "metadata": {
        "id": "-ptCFQM9bv7T",
        "colab_type": "text"
      },
      "source": [
        "##**Деревья решений**"
      ]
    },
    {
      "cell_type": "code",
      "metadata": {
        "id": "OygHBAUfb87x",
        "colab_type": "code",
        "colab": {}
      },
      "source": [
        "from sklearn.tree import DecisionTreeClassifier\n",
        "clf_T = DecisionTreeClassifier().fit(x_train, y_train)\n",
        "predicted_T = clf_T.predict(x_test)\n"
      ],
      "execution_count": 0,
      "outputs": []
    },
    {
      "cell_type": "code",
      "metadata": {
        "id": "AZYEA83OdKS8",
        "colab_type": "code",
        "colab": {
          "base_uri": "https://localhost:8080/",
          "height": 489
        },
        "outputId": "ac978d7a-de3d-43da-83d3-cd75029c1602"
      },
      "source": [
        "eval_sklearn_visual(y_test, predicted_T)"
      ],
      "execution_count": 108,
      "outputs": [
        {
          "output_type": "display_data",
          "data": {
            "image/png": "[encoded data removed]",
            "text/plain": [
              "<Figure size 720x360 with 2 Axes>"
            ]
          },
          "metadata": {
            "tags": []
          }
        },
        {
          "output_type": "stream",
          "text": [
            " \n",
            "ROC AUC:\t0.672\n",
            "Accuracy:\t0.671\n",
            "\t\tMicro\tMacro\tWeighted\n",
            "Precision:\t0.671\t0.673\t0.674\n",
            "Recall:\t\t0.671\t0.672\t0.671\n",
            "F-measure:\t0.671\t0.671\t0.670\n",
            "\n"
          ],
          "name": "stdout"
        }
      ]
    },
    {
      "cell_type": "markdown",
      "metadata": {
        "id": "psYjTDv_dh_M",
        "colab_type": "text"
      },
      "source": [
        "Лучше всего себя по всем мерам оказался метод опорных векторов, а хуже всего - метод ближайшего соседа"
      ]
    },
    {
      "cell_type": "markdown",
      "metadata": {
        "id": "Rfc11bNidwAu",
        "colab_type": "text"
      },
      "source": [
        "##**15 негативных и положительных отзывов**"
      ]
    },
    {
      "cell_type": "code",
      "metadata": {
        "id": "5139F-kcdugh",
        "colab_type": "code",
        "colab": {
          "base_uri": "https://localhost:8080/",
          "height": 139
        },
        "outputId": "0aa23e3a-f582-4715-c281-74d56f890050"
      },
      "source": [
        "svc_probability = clf._predict_proba_lr(x_test)\n",
        "print(svc_probability)\n"
      ],
      "execution_count": 143,
      "outputs": [
        {
          "output_type": "stream",
          "text": [
            "[[0.3778069  0.6221931 ]\n",
            " [0.60806039 0.39193961]\n",
            " [0.37115261 0.62884739]\n",
            " ...\n",
            " [0.51651052 0.48348948]\n",
            " [0.45633757 0.54366243]\n",
            " [0.33936773 0.66063227]]\n"
          ],
          "name": "stdout"
        }
      ]
    },
    {
      "cell_type": "code",
      "metadata": {
        "id": "97T8hAHcfK18",
        "colab_type": "code",
        "colab": {
          "base_uri": "https://localhost:8080/",
          "height": 202
        },
        "outputId": "f8b77799-41b2-46a5-c03a-74a6f765a079"
      },
      "source": [
        "probability_df = pd.DataFrame(svc_probability, columns = ['neg', 'pos'])\n",
        "probability_df['text'] = test.text.values\n",
        "probability_df.head()"
      ],
      "execution_count": 144,
      "outputs": [
        {
          "output_type": "execute_result",
          "data": {
            "text/html": [
              "<div>\n",
              "<style scoped>\n",
              "    .dataframe tbody tr th:only-of-type {\n",
              "        vertical-align: middle;\n",
              "    }\n",
              "\n",
              "    .dataframe tbody tr th {\n",
              "        vertical-align: top;\n",
              "    }\n",
              "\n",
              "    .dataframe thead th {\n",
              "        text-align: right;\n",
              "    }\n",
              "</style>\n",
              "<table border=\"1\" class=\"dataframe\">\n",
              "  <thead>\n",
              "    <tr style=\"text-align: right;\">\n",
              "      <th></th>\n",
              "      <th>neg</th>\n",
              "      <th>pos</th>\n",
              "      <th>text</th>\n",
              "    </tr>\n",
              "  </thead>\n",
              "  <tbody>\n",
              "    <tr>\n",
              "      <th>0</th>\n",
              "      <td>0.377807</td>\n",
              "      <td>0.622193</td>\n",
              "      <td>this movie is great i really enjoyed it.&lt;br /&gt;...</td>\n",
              "    </tr>\n",
              "    <tr>\n",
              "      <th>1</th>\n",
              "      <td>0.608060</td>\n",
              "      <td>0.391940</td>\n",
              "      <td>this has to be the greatest practical joke eve...</td>\n",
              "    </tr>\n",
              "    <tr>\n",
              "      <th>2</th>\n",
              "      <td>0.371153</td>\n",
              "      <td>0.628847</td>\n",
              "      <td>and thus was born the most amorous skunk ever ...</td>\n",
              "    </tr>\n",
              "    <tr>\n",
              "      <th>3</th>\n",
              "      <td>0.484716</td>\n",
              "      <td>0.515284</td>\n",
              "      <td>this is a good blueprint for a study of corpor...</td>\n",
              "    </tr>\n",
              "    <tr>\n",
              "      <th>4</th>\n",
              "      <td>0.437554</td>\n",
              "      <td>0.562446</td>\n",
              "      <td>this is fantastic! everything from the score -...</td>\n",
              "    </tr>\n",
              "  </tbody>\n",
              "</table>\n",
              "</div>"
            ],
            "text/plain": [
              "        neg       pos                                               text\n",
              "0  0.377807  0.622193  this movie is great i really enjoyed it.<br />...\n",
              "1  0.608060  0.391940  this has to be the greatest practical joke eve...\n",
              "2  0.371153  0.628847  and thus was born the most amorous skunk ever ...\n",
              "3  0.484716  0.515284  this is a good blueprint for a study of corpor...\n",
              "4  0.437554  0.562446  this is fantastic! everything from the score -..."
            ]
          },
          "metadata": {
            "tags": []
          },
          "execution_count": 144
        }
      ]
    },
    {
      "cell_type": "code",
      "metadata": {
        "id": "8gvuXBrulBai",
        "colab_type": "code",
        "colab": {
          "base_uri": "https://localhost:8080/",
          "height": 202
        },
        "outputId": "a256b269-610c-4c67-f14c-3c5d12db756c"
      },
      "source": [
        "negative = probability_df.sort_values('neg', ascending=False)\n",
        "negative.head()"
      ],
      "execution_count": 145,
      "outputs": [
        {
          "output_type": "execute_result",
          "data": {
            "text/html": [
              "<div>\n",
              "<style scoped>\n",
              "    .dataframe tbody tr th:only-of-type {\n",
              "        vertical-align: middle;\n",
              "    }\n",
              "\n",
              "    .dataframe tbody tr th {\n",
              "        vertical-align: top;\n",
              "    }\n",
              "\n",
              "    .dataframe thead th {\n",
              "        text-align: right;\n",
              "    }\n",
              "</style>\n",
              "<table border=\"1\" class=\"dataframe\">\n",
              "  <thead>\n",
              "    <tr style=\"text-align: right;\">\n",
              "      <th></th>\n",
              "      <th>neg</th>\n",
              "      <th>pos</th>\n",
              "      <th>text</th>\n",
              "    </tr>\n",
              "  </thead>\n",
              "  <tbody>\n",
              "    <tr>\n",
              "      <th>56</th>\n",
              "      <td>0.838228</td>\n",
              "      <td>0.161772</td>\n",
              "      <td>talk about rubbish! i can't think of one good ...</td>\n",
              "    </tr>\n",
              "    <tr>\n",
              "      <th>114</th>\n",
              "      <td>0.820215</td>\n",
              "      <td>0.179785</td>\n",
              "      <td>what a sad surprise.&lt;br /&gt;&lt;br /&gt;being a die-ha...</td>\n",
              "    </tr>\n",
              "    <tr>\n",
              "      <th>775</th>\n",
              "      <td>0.814296</td>\n",
              "      <td>0.185704</td>\n",
              "      <td>i couldn't make heads or tails out of this ter...</td>\n",
              "    </tr>\n",
              "    <tr>\n",
              "      <th>313</th>\n",
              "      <td>0.813795</td>\n",
              "      <td>0.186205</td>\n",
              "      <td>bad, bad, movie, so bad it is worth watching. ...</td>\n",
              "    </tr>\n",
              "    <tr>\n",
              "      <th>129</th>\n",
              "      <td>0.812635</td>\n",
              "      <td>0.187365</td>\n",
              "      <td>did i waste my time. this is very pretentious ...</td>\n",
              "    </tr>\n",
              "  </tbody>\n",
              "</table>\n",
              "</div>"
            ],
            "text/plain": [
              "          neg       pos                                               text\n",
              "56   0.838228  0.161772  talk about rubbish! i can't think of one good ...\n",
              "114  0.820215  0.179785  what a sad surprise.<br /><br />being a die-ha...\n",
              "775  0.814296  0.185704  i couldn't make heads or tails out of this ter...\n",
              "313  0.813795  0.186205  bad, bad, movie, so bad it is worth watching. ...\n",
              "129  0.812635  0.187365  did i waste my time. this is very pretentious ..."
            ]
          },
          "metadata": {
            "tags": []
          },
          "execution_count": 145
        }
      ]
    },
    {
      "cell_type": "markdown",
      "metadata": {
        "id": "mlxTCxWomdbn",
        "colab_type": "text"
      },
      "source": [
        "15 самых негативных отзыва"
      ]
    },
    {
      "cell_type": "code",
      "metadata": {
        "id": "_11AByGlloRJ",
        "colab_type": "code",
        "colab": {
          "base_uri": "https://localhost:8080/",
          "height": 297
        },
        "outputId": "f9b34f5d-9859-4da4-995f-b3897bcf1b25"
      },
      "source": [
        "negative.text.values.tolist()[:15]"
      ],
      "execution_count": 146,
      "outputs": [
        {
          "output_type": "execute_result",
          "data": {
            "text/plain": [
              "['talk about rubbish! i can\\'t think of one good thing in this movie. the screenplay was poor, the acting was terrible and the effects, well there were no effects. i can\\'t believe the writer of this movie did identity, everything in this movie made me sick to start to finish.<br /><br />the front cover of the video box shows a showman with shark like teeth and scary eyes. i looks like a scary villain, but like the old saying \"never judge a book by it\\'s cover\", the whole villain looked like a cardboard cut out. one part in the film a girl gets killed by a salad tongs, terrible. the setting was bad enough, like they could of set the whole thing in lapland but no, a tropical island instead.<br /><br />i took this movie as a spoof, which i think they wanted it to be but the only thing that made me laugh in a bad way was the tacky effects. you can argue that i haven\\'t watched the first one, but seeing this i would be safe if i wouldn\\'t attempted it.<br /><br />the biggest joke in this movie is the effects, the snowballs looked like they were home made, and that carrot was a complete embarrassment. if i would of guess the budget of this movie would of probably be between 8 to 9 pounds fifty. the producer in a last minute panic must of grabbed the actors for the street gave them the script told them they have 6 minutes to practise these lines and shoot on a island.<br /><br />lastly the acting in the film was painful, it was like the actors forgot their ordinary lines and made them up the way through.<br /><br />in conclusion i give this film: 0 stars out of 5',\n",
              " 'what a sad surprise.<br /><br />being a die-hard fan of the original series (starring don adams) i was really looking forward to this. poor fool me. this is sillier and more brain dead than a monkey\\'s bottom.<br /><br />to say it was bad would be a severe understatement. it is/was the worst movie (well first 30 minutes of one) i have seen for a long time. i couldn\\'t stand more than the first half hour, preferring to watch my hard drive de-fragment.<br /><br />i can tolerate bad... bad is o.k., sometimes even cute. but up with contrived hollywood crap (and this has to be the worst in many years) i will not put. this movie is a gross insult to the collective intelligence of humanity! my five year-old daughter could have written better - and she is not even dislexic!!! i\\'m really tempted to try watching the rest of it, but i\\'m afraid i have better things to do... like making pizza dough and watching it rise.<br /><br />what a sad disappointment. no... i\\'m buggered off! what a swindle! as mel brookes once said; \"piece of shirt!\"',\n",
              " 'i couldn\\'t make heads or tails out of this terrible film noir.<br /><br />the plot was confusing, the acting was alright, but the picture quality was awful! though i bought this at a \"gansters double pack\" (8 movies on two discs) at walmart for $5.50 and when you put the dvd in, it apologizes for the awful picture quality that some of the movies may have.<br /><br />the plot was flip flopping everywhere i couldn\\'t understand it and had no idea what was going on...then \"the end\" popped up and the movie was over. <br /><br />what a waste of my time!<br /><br />i say don\\'t waste your money or time on this! or if you too bought that gansters double pack then just skip over this one...<br /><br />2/10',\n",
              " \"bad, bad, movie, so bad it is worth watching. as long as you watch this movie knowing that it is bad and you'll be spending 2 hours of your time watching a bad movie, it's worth it. the special effects are cheesy and the animals look fake and the acting is bad, but watching the faces of the actors as they try to look frightened is just very funny. if your sister is about to be eaten by a giant komodo dragon wouldn't you do a little something to try and save her? if she did get eaten wouldn't you fall on your knees crying your heart out? this guy just sat in a chair and ran his fingers through his hair. how anti-climatic is that? maybe he was supposed to be in shock or something. he does join his sister in the komodo's belly - oh didn't mean to spoil it for you.\",\n",
              " \"did i waste my time. this is very pretentious film. in the beginning you will think there's something going on but by the time some 30 minutes go by you realize nothing is happening. i waited for another 20 minutes and by then i was so frustrated that i started reading reviews on imdb and realized that the director has wasted precious time of so many people. <br /><br />unbelievably boring pointless film. stay away. so many good soundtracks. i will give one point for the police inspector joke because that worked for me. i laughed for a long time but otherwise a very bad film. stay away.1 on 10.\",\n",
              " 'you know, i was very surprised when watching this movie. it aired during the day once when i was sick, and having nothing else to do, i continued watching. this is by far the worst movie ever! but to my surprise i kept watching. i sat there saying, this is terrible, but yet didn\\'t change the channel because i was so amused at how bad it was. maybe it was the guy that looked like big tom from survivor or the dreadful moustaches and mohawks these characters had, that kept me watching. however, the girls weren\\'t half bad, but if that\\'s what you want, there is far better. oh, and there\\'s \"ninjas\" and \"pajama boys!\"<br /><br />so if you like ninja\\'s, bad acting, hilarious(and terrible) dialogue, and two twins who are five feet tall and killing everything in their sight, then this movie is for you. it\\'s so bad it\\'s good. however, i just had to give it a 1 out of ten. i couldn\\'t have put a 10 on it up there with lord of the rings.<br /><br />enjoy!!!!!!!!! :)',\n",
              " 'this movie obviously had good intentions. at the end there is a dedication to someone named kellie who, as a viewer, i can only assume found herself in a situation similar to the one the movie depicts. perhaps she made the \"wrong\" choice. that dedication is the only redeeming quality of love & suicide.<br /><br />the movie becomes unbearable from the opening sequence. once the viewer is already that irritated only about five minutes into the film, it\\'s pretty much going to be downhill after that...which it was. i know the film was low budget and the camera shots were actually pretty good...unfortunately, everything else was horrid. the acting, the plot, the sound quality, the picture quality...the acting. i\\'m sorry but the acting is horrible. beyond horrible. it\\'s as if the actors are trying to act like people acting. that\\'s the only way i can think to describe it. as i watched, i actually pictured the script with the stage direction in my mind. none of the movements were natural and none of the characters\\' reactions to one another fit. in short: the timing is way off. the timing of the entire film is way off. i\\'m no director so i know the limits of my knowledge but i really feel there had to be some way to convey the passing of time...until they explained about graduation not being too far away i was under the impression that the first portion of the movie had taken place over the span of a week...a month at most.<br /><br />all that being said, it\\'s really a shame. this movie truly could have been powerful with a little tweaking. all the moments in the film in which we are supposed to feel something are obvious but only because the set-up is obvious (which is a bad thing). the moving scenes totally fell flat. for instance, when kaye\\'s brother takes his hat of his head and puts it on hers, we should feel the understanding he has for her, the innocence and protectiveness of the love of her brother...somehow it just doesn\\'t come off that way. there are so many more scenes like this (for example: all of the fight scenes) and all they do is take away from the movie. all these things put together, love & suicide comes off as one long, cheesy, low-budget commercial.',\n",
              " 'movies just don\\'t get worse than this. horrible plot, terribly timed, pathetic characters and effects and yes this is using \"b\" standards.<br /><br />and for the guys: nothing, this movie is a terrible let down, couple scenes that could have been great but you get nothing but build up with no delivery.<br /><br />this movie appeals to no one, horrible movie,it had bad; plot, acting, \"b\" flavor, special effects and everything else. plus no nudity or erotics for guys or the girls.',\n",
              " \"when the movie first started i thought cheesy. the first ten minutes were really boring. after the slow beginning and some of the soap opera antics, i started liking it. the plot was different than anything i had ever seen. now, was it a horror? not really. it shouldn't have been classied as a horror or the producers should have put more money into the movie to make it scary. as it was, the creatures where only there for a short time. i can only assume this was for money reason.<br /><br />the good side was that the movie was very entertaining. it held my interest (after the start) and did make me wonder about creatures from another dimension.<br /><br />it was obvious that this was a first time movie for the director, but there were a couple of highlights. by the end, i was hooked. too bad hollywood didn't put more money behind this.\",\n",
              " 'i really, really don\\'t understand how that movie could get a rating bigger than 4 here on imdb. it\\'s simply a huge mess, and i have to admit that i actually liked avp 1: close to no story, okay, i can live with that, but at least they got to the point pretty much at once. avp 2 does not. after the stupid premise has been presented there is well over half an hour of stupid and unfitting teenager clichés, dumb as hell dialog and close to nothing else, except for a few alien scenes that feel like an excuse to have that first half of the movie and predator scenes that make you ask yourself whether those guys making the film even watched any other predator movie or just didn\\'t care enough to be bothered.<br /><br />after that, that crap-fest finally gets to the point where the predator starts attacking the aliens, or at least pretends doing so. and boy, is that predator stupid, blind and deaf. it\\'s awful. how he even managed to earn that stuff he has is beyond me. he misses with almost every shot, only notices aliens when they\\'re right in his face or if it\\'s absolutely necessary for the script, so that he can move where he has to be. he even gets caught on surprise by puny human teenagers and deputies all of the time. what\\'s that guy supposed to be? after the first hour of that abomination i was more or less constantly shaking my head at every scene. close to no scene in this movie passes by without unbelievably stupid dialogs, stupid predator actions or stupid lack there-of or stupid actions from our \"heroes\".<br /><br />then, that thing finally ended. to my surprise not only me and my friends didn\\'t know whether to laugh or to cry, but everybody i overheard leaving the room was half-crying, half-laughing about those 1 1/2 hours they just wasted.<br /><br />don\\'t watch. never.',\n",
              " \"zombie movies are hot, i love 'em. can't get enough. why i would purchase a film of this caliber goes without explanation, i just really love zombies. surprise, this really isn't much of a zombie movie; low-budget i can handle, being duped just irritates me.<br /><br />a group of horror-film clichés hold up in a warehouse/lab/who-knows-what to escape a fire storm outside. panic, yelling, low-light, and (eventually) zombies ensue.<br /><br />i kind of feel bad for the film makers, as it is obvious that they really thought they were putting together something good; a serious, scary horror film. it isn't, far from it, it's a boring mess of wooden acting, cheesy fx, poor lighting, excessive dialogue, and over editing.<br /><br />things first go awry when it takes a good 10+ minutes for the characters to ever sit down and start to figure out what is going on. it gets worse when another 20 minutes go by and they are still sitting around trying to figure out what is going on. all of this is littered with non-acting and bad dialogue.<br /><br />finally some one gets attached (not by a zombie though) and hope flickers just a touch before the characters are again lounging around whining (the only emotion any one every generates) about how much this sucks. me too guys, me too.<br /><br />finally zombies are in the mix, but no one watching cares any more. i think there was some blood and gore tossed in, but i was too busy praying for the credits to roll to notice. and when the screen finally did fade to black i felt even more cheated by the pointlessly 'cube' inspired ending.<br /><br />i will give credit for trying very hard, even if it failed miserably. that and the punk chick was very hot if totally under used.<br /><br />can't really recommend this to anyone, save for film students looking for 'no-no' pointers.<br /><br />4/10\",\n",
              " \"most awful casting i've ever seen. clark kent as a crack head, a very feminine looking woman as a trans and on and on.............<br /><br />stupid ass violence just for the sake of being violent. no content, no meaning. this person has never been on the streets. it's a joke!<br /><br />the only thing dumber than this movie is the fact that i finished watching it. i just kept thinking it couldn't get any worse but it did to the very end.<br /><br />trying way to hard to be an off the hook movie. trying to be freaky. so stupid! i really have no more to say but can't leave a comment unless i write more.<br /><br />please take this advice and do not bother watching this movie!!!!! awful!!!\",\n",
              " 'everything about this movie is awful.<br /><br />you can tell in the first five minutes that this movie is going to be terrible. you can\\'t however, gauge how bad it\\'s going to be.<br /><br />we start the movie with a seemingly endless intro scene aided with gay music and no dialogue. having the camera move up and down big guys who are trying too hard to look like mentals doesn\\'t provoke the slightest emotion.<br /><br />what then starts seems to be one of two separate stories. the first half of the movie consists of the wogs going around competing in paid, midnight fights with other ethnic groups. the wogs always win of course, because they apparently lift weights and have \"respect\". it is in these scenes that we first get to see the degree of bad acting, editing, scripting and hatred for the people who funded this film.<br /><br />eventually the main character and his mate get sent to prison. the entire prison part of the movie is unrelated to what i assume is the plot, and consists of a bunch of fights.<br /><br />once out of prison(3 years for murder?) the main character and his mate reunite with the wogs. they then go to the \"other side of town\" and try to lay low, because apparently everyone wants to kill them.<br /><br />soon the wogs get set up for the rape of another gang members girl , and run around town fighting off hordes of different gangs. this point of the movie can be compared to an arcade game, as the wogs simply run around and fight off enemies who seemingly get worse and worse as the movie goes on.<br /><br />anyway the movie ends with some massive climatic fight scene in which the remaining wogs (the two main characters) take on every gang they\\'ve fought so far. apparently the other gangs don\\'t have a problem uniting to take on the remaining wogs(the skinheads don\\'t mind asians). after about a million more people get beaten up by the invincible wog brothers the movie ends with the main characters heading home. they don\\'t make it home however, because they are burned to death by the the thousands of angry film critics who storm the set and leave angry letters everywhere.<br /><br />this movie may be more like a computer game then a movie, because that would explain how two guys can take about a million punches to the face from a million different people who the majority of the time are twice their size.<br /><br />there are also tonnes more stupid unexplainable events in this movie, such as an asian fighting off his own gang and taking a katana to the head just to let the wogs get away.<br /><br />like someone else mentioned, this movie isn\\'t so bad its funny, it\\'s just so bad.',\n",
              " \"horrible horrible movie, i still can't believe my friend talked me into seeing this! no plot, bad acting, unfunny scenes, and very very stupid dialogue. all i have to say is that this movie is the worst movie i have seen and it's worse than halloween iii which i gave 0 stars too. so i give it 0 stars and a 0 out of 10, well on here a 1, but you get the point.\",\n",
              " \"aliens let lose a giant monster named zarkorr, then send down a hologram that looks your average stupid teenage girl to tell postman, tommy ward (rhys pugh, in the only movie you ever see him in) that has been chosen to fight. also if he loses the plant goes doom, so he goes off to fight zarkorr the invader! this movie is bad, very bad. so bad it you need negative numbers just to gave it a rattan. horridly written, bad directing, way below power rangers over-the-top wooden acting that you're just whiting for a horde of lumberjacks to come out of no where and cut them down! and don't get me started on the theme song at the end. the people who made this stemming pall of s$@# should not be aloud near a camera or any thing to do with films. zarkorr is a cool looking monster that should have been in a movie a million times better than this one. do your self a favour and don't see this movie, it's 80 or so minute of life. the actors that are in this never worked again by way.<br /><br />3/10\"]"
            ]
          },
          "metadata": {
            "tags": []
          },
          "execution_count": 146
        }
      ]
    },
    {
      "cell_type": "code",
      "metadata": {
        "id": "0sxaD7cvl3tQ",
        "colab_type": "code",
        "colab": {
          "base_uri": "https://localhost:8080/",
          "height": 202
        },
        "outputId": "64bc684b-0fc8-4454-bda3-2875fcd27a79"
      },
      "source": [
        "positive = probability_df.sort_values('pos', ascending=False)\n",
        "positive.head()"
      ],
      "execution_count": 147,
      "outputs": [
        {
          "output_type": "execute_result",
          "data": {
            "text/html": [
              "<div>\n",
              "<style scoped>\n",
              "    .dataframe tbody tr th:only-of-type {\n",
              "        vertical-align: middle;\n",
              "    }\n",
              "\n",
              "    .dataframe tbody tr th {\n",
              "        vertical-align: top;\n",
              "    }\n",
              "\n",
              "    .dataframe thead th {\n",
              "        text-align: right;\n",
              "    }\n",
              "</style>\n",
              "<table border=\"1\" class=\"dataframe\">\n",
              "  <thead>\n",
              "    <tr style=\"text-align: right;\">\n",
              "      <th></th>\n",
              "      <th>neg</th>\n",
              "      <th>pos</th>\n",
              "      <th>text</th>\n",
              "    </tr>\n",
              "  </thead>\n",
              "  <tbody>\n",
              "    <tr>\n",
              "      <th>212</th>\n",
              "      <td>0.220967</td>\n",
              "      <td>0.779033</td>\n",
              "      <td>universal studios version of \"flipper\" (1996) ...</td>\n",
              "    </tr>\n",
              "    <tr>\n",
              "      <th>360</th>\n",
              "      <td>0.221898</td>\n",
              "      <td>0.778102</td>\n",
              "      <td>for a movie that was pg, this is one fun film....</td>\n",
              "    </tr>\n",
              "    <tr>\n",
              "      <th>791</th>\n",
              "      <td>0.230978</td>\n",
              "      <td>0.769022</td>\n",
              "      <td>i first encountered arthur penn's \"four friend...</td>\n",
              "    </tr>\n",
              "    <tr>\n",
              "      <th>36</th>\n",
              "      <td>0.231161</td>\n",
              "      <td>0.768839</td>\n",
              "      <td>two great stars and a legendary director creat...</td>\n",
              "    </tr>\n",
              "    <tr>\n",
              "      <th>766</th>\n",
              "      <td>0.235455</td>\n",
              "      <td>0.764545</td>\n",
              "      <td>this is a really great film in the pulp fictio...</td>\n",
              "    </tr>\n",
              "  </tbody>\n",
              "</table>\n",
              "</div>"
            ],
            "text/plain": [
              "          neg       pos                                               text\n",
              "212  0.220967  0.779033  universal studios version of \"flipper\" (1996) ...\n",
              "360  0.221898  0.778102  for a movie that was pg, this is one fun film....\n",
              "791  0.230978  0.769022  i first encountered arthur penn's \"four friend...\n",
              "36   0.231161  0.768839  two great stars and a legendary director creat...\n",
              "766  0.235455  0.764545  this is a really great film in the pulp fictio..."
            ]
          },
          "metadata": {
            "tags": []
          },
          "execution_count": 147
        }
      ]
    },
    {
      "cell_type": "markdown",
      "metadata": {
        "id": "go7Cv_qpmXut",
        "colab_type": "text"
      },
      "source": [
        "15 самых положительных отзыва"
      ]
    },
    {
      "cell_type": "code",
      "metadata": {
        "id": "PVuROvAQmIt7",
        "colab_type": "code",
        "colab": {
          "base_uri": "https://localhost:8080/",
          "height": 297
        },
        "outputId": "9de057ac-cd1e-444d-e162-003fe8fcdc3d"
      },
      "source": [
        "positive.text.values.tolist()[:15]"
      ],
      "execution_count": 148,
      "outputs": [
        {
          "output_type": "execute_result",
          "data": {
            "text/plain": [
              "['universal studios version of \"flipper\" (1996) is a great heartwarming film for the entire family with good values and sentimentality. it is the story of sandy ricks, a teenager from chicago who reluctantly spends his vacation with his uncle porter ricks in the bahamas. this ultimately changes the teenagers life and he grows up in the process. he learns to appreciate nature and to have a respect for the environment. i grew up in the 1960\\'s and the nbc television show \"flipper\" was my favorite childhood show. elijah wood is perfectly cast as a 1990\\'s sandy ricks and gives an excellent performance. as much as i liked the nbc television show and mgm theatrical feature films with luke halpin as sandy in the 1960\\'s i liked this feature the best! i feel elijah wood is the best sandy ricks. with respect to luke halpin i feel elijah wood has more of a range of acting talent and emotes more as an actor which makes his performance excellent and more believable. i think elijah wood is the best young actor working today in films. director alan shapiro also wrote the screenplay and has done an excellent job as both writer and director of this film. paul hogan gives a comical and likable performance as sandy\\'s uncle porter ricks. mr. hogan\\'s performance perfectly offsets elijah\\'s role as sandy. i am a big fan of underwater films. this film was beautifully shot in the bahamas like \"thunderball\" (1965 ua) was. the director of photography was bill butler a.s.c. who lensed the film \"jaws\" in 1975. mr. butler is a very talented cinematographer. the underwater director of photography was pete romano. he did a superb job with the underwater cinematography. i enjoyed the film score by joel mcneely. this good film score featured crosby, stills and nash among other talented artists. this motion picture was shot in panavision like \"thunderball\" in the aspect ratio of 2.35:1 if possible try to see this film in a scope version as originally framed and visioned by alan shapiro and bill butler. another very nice thing is that mr. shapiro gave the \"original\" sandy ricks (luke halpin) a small part in this remake. he portrayed bounty fisherman #3 in this film. this was a very kind gesture on mr. shapiro\\'s part! as you can tell i am a real true fan of this film. sadly this beautiful film was met with harsh words by the majority of movie critics. i originally saw this movie on my birthday, may 31st of 1996 in a movie theater. it meant a lot to me. i have it on numerous video versions. the vhs versions are in \"pan and scan\". the laserdisc version is \"letterboxed\" 2.35:1! i even have a vcd in 2.35:1 from hong kong which is \"letterboxed\". but my most prized possession is an \"original\" 16mm theatrical feature print which i will treasure for the rest of my life! thank you mr. shapiro, elijah wood, paul hogan and everyone involved for making this a memorable movie for me to enjoy!<br /><br />p.s. i must add that the quality of the universal dvd is superb! it is the best dvd as far as quality i have ever seen. the color and resolution is spectacular. the soundtrack is great. i think universal must have used the same transfer for the dvd that they did for the laserdisc version. the 35mm scope print is \"mint\" and alan\\'s film really has a wonderful look to it. a great tribute to a wonderful film! the dvd\\'s resolution is even superior to the laserdisc quality! it\\'s just spectacular! thank you universal home video for the great quality control and transfer. many thank\\'s for doing a superb job on this wonderful family film. also many thank\\'s to you alan for all your extreme kindness to me!!! it\\'s a real honor to know you!!! (review revised/updated june 27, 2005)',\n",
              " \"for a movie that was pg, this is one fun film. i grew up on watching this film over and over. its really fun, i don't know how today audience would react, but if you grew up on it, or loved the 80s, then this is a great film. stephen furst is great as harold, who, i think, is one of the best characters in the film. paul ruebens also pops in for about 10 minutes. i love nostalgia.\",\n",
              " 'i first encountered arthur penn\\'s \"four friends\" late one night on hbo. having never heard of it, i expected very little, but watched because i was interested in seeing what a creation by a teaming of penn and screenwriter steve tesich would be like. for the next two hours or so, i sat mesmerized, watching this incredible teaming of talent and the story they wove. a semi-autobiographical tale of a young immigrant to america growing up amidst the turbulence of the 1960s, \"four friends\" follows the story of danilo, an eastern european immigrant (the brilliant craig wasson), from his arrival in the united states through a decade that changed the american landscape. accompanying danilo on his journey are his friends georgia (the radiant jodi thelan, in a role that sadly, she has never had the opportunity to equal), tom (jim metzler) and david (michael huddleston). \"four friends\" covers way too much territory for me to attempt to explain it here, but if you haven\\'t seen this film, i urge you to find a copy (it\\'s just been released on dvd) and watch it. you won\\'t be disappointed. tesich\\'s script is wonderfully poignant \\x97 at times funny, at times incredibly sad, but always fascinating and honest. penn directs with a sure hand, and an obvious love for the period and the people whose lives we\\'re following. the cast is uniformly superb. this film should have made a major star out of wasson who is truly one of this country\\'s most wasted talents. jodi thelan, not your standard brainless hollywood sexpot, heats up the screen in a performance that makes the audience fall in love with her character as easily as the characters in the film. metzler and huddleston subtle performances could easily be overlooked in the shadow of their co-stars, but they are excellent and help anchor the film. also superb are miklos simon and elizabeth lawrence as danilo\\'s parents, as well as reed birney and lois smith. i have not been without a copy of \"four friends\" since the day after i first saw it on hbo those many years ago. it has been and remains one of my all-time favorite films for more than 20 years now. i can\\'t recommend it enough and feel, if you give it a chance, you\\'ll feel the same way.',\n",
              " \"two great stars and a legendary director created a magnificent throbbing love story that is memorable and moving on so many levels.<br /><br />henry king directed jennifer jones in her first hit song of bernadette and he again directs jennifer jones in this film and miss jones is perfect in this role and gives a edgy, beautiful performance that captures the conflict in the character and bill holden who hit home run after home run in the l950's with a series of smash hit films beginning with sunset blvd, stalag 17, born yesterday,country girl, picnic, and of course river kwai is superb in this role.hard to imagine anyone but holden in this movie i loved the ending and cry every time i see it. for anyone who has ever loved and lost, you will understand. for those who haven't, you won't.\",\n",
              " \"this is a really great film in the pulp fiction genre with a touch of film noir thrown in. truly one of emma thompson's best performances to date...this film has everything, it's well written, well directed, beautifully films, and has some great performances. i don't know why it didn't catch on. it's spectacular!\",\n",
              " 'when i was in 7th grade(back in 1977), i was asked to read the novel that this was based on as part of my english class studies. i can remember being very touched by it and excited when a tv version came out a year later.<br /><br />kristy mcnichol was a popular tv actress when this film was produced and was already playing a daughter in a dysfunctional family on the hit tv series \"family\". it was clear that she had the range and ability to pull off this part. i recall her as being a bit \"stiff\" at times, but over all she does a good job. she carries the movie well.<br /><br />esther rolle is fantastic as the domestic who appears to be the only one in the household that seems to truly care for her. barbara barrie as the somewhat frightened and slightly neurotic mother is also good, as is young robin lively (who would eventually appear as the black widow lana milford in \"twin peaks\")as the sweet younger sister who seems to be the focus of the parent\\'s affection. bruce davidson is also appropriately appealing as the german soldier of the title<br /><br />the best performance, however, belongs to michael constantine. it is truly powerful and merited more recognition than it got at the time. the bitterness and coldness he expresses makes the scenes in which he appears difficult to watch, but makes it much easier to understand the quiet desperation of the rejected daughter. constantine gives everything the right intensity and seems to have a good understanding of the underlying psychological motivations.<br /><br />the film differs from the book only in some small ways. it is wonderful and inspiring to watch, and i hope that it gets released again on to video or dvd.<br /><br />',\n",
              " \"i don't want to write too much about the film but basically it's an action/comedy with a little bit of romance thrown in about two men who come together in unlikely circumstances and become highway men together. fantastic performance by robert carlysle and everybody else involved. a brilliant 'baddy' who really makes you hate him. some great comical lines - actually laugh out loud, amazing action and a great plot. choice of music and ambiance all fantastic, basically brilliantly directed and brilliants written. i recommend this film to anyone who likes a good british movie or a good bit of action, i don't know why the film never took off, i thought it got no where near as much recognition as it deserved. if for nothing else, watch this film for one of the greatest finale's of all time. not to give anything away, but this one really get's the heart beating!\",\n",
              " 'i was one of the lucky people to be invited to view this film in new york. it is a compelling story of how a group of extremely tight friends dealt with the tragedy of september 11th. this film made me laugh and cry and showed me how the human spirit, through love and friendship can endure and create wonderful things out of one of our darkest days. the film makers truly captured the emotions of the individuals involved. it was amazing to see how the same story was told through the eyes of so many different people. i walked out of the theater that day wanting to call all my friends just to say hello. i would recommend everyone see this documentary. i would rate this movie with an a++++++++++. see it if you get a chance.',\n",
              " 'this is a masterpiece. \\'the big snit\\' is a crazy, weird, hilarious and eventually touching look at an old married couple and their quiet life, who argue over sawing and scrabble while a nuclear war rages on outside. everything in this great animated short stands out as memorable: the eye shaking of the wife, the vacuuming binge, the husband\\'s saw fetish (keep an eye on those backgrounds!), the very verbal cat, the demented game show, the \"informative\" news anchor, the \"beautiful\" accordion serenade and the moving and memorable ending. i am so glad i found \\'the big snit\\', which is hands down one of the greatest works of film ever produced.',\n",
              " \"one of the funniest films i ever saw in the theater back in the early '70s, and sadly, it's only been on tv a few times since. this movie should be released on video. it's sellers at his sleaziest, slimiest best as a crooked hospital administrator. great cast, great movie. if anyone has a good vhs copy, i'd love to buy it.\",\n",
              " \"river's edge is an excellent film and it's a shame that it hasn't made more of a mark for itself in cinematic history. there were a number of gritty films based around school kids made in the eighties, but of all the ones i've seen; this is certainly the most nihilistic and disturbing. the film takes a storyline that is disturbing in its own right and adds the theme of teenage slackers and their uncaring attitude about things, which takes the story onto another level. the film works because the central story is interesting and it's played out by complex characters. the film begins with a murder. we then follow the murderer, nicknamed john, as he goes back to school and tells all his friends about what he has done. rather than give the expected reaction, most of them hardly react at all and the strongest reaction that the murderer gets comes from layne; who makes it his number one priority to help john clear up the mess he's in and get him out of it. the other friends mull over the crime, and before long one of them goes to the police...<br /><br />river's edge features a host of great performances from its young cast. keanu reeves has a reputation for wooden acting, and for good reason; but he fits in very well to this early role and this performance is easily one of his best. crispin glover is the biggest standout as the slightly insane layne. glover always stands out in every film he's in, and while he does go over the top a little bit; he convinces well as the lead in this movie. reeves and glover receive good support from a talented young cast that includes daniel roebuck and joshua john miller, as well as the great dennis hopper in another wild role. the film features a very gritty picture which bodes well with its nihilistic tone. the central characters are all of the 'slacker/stoner' generation and the way that they genuinely don't seem to care about the murder of their friend is more shocking than the murder itself; and the point that the film tries to make about modern society is both strong and well defined. the film is also rather funny, owing to some of the characters' lines; but the humour is pitch black and clearly this film was never meant to be a comedy. overall, this is an excellent and memorable film that is definitely worth seeing!\",\n",
              " \"this movie has it all. great actors, good dialog, drama, comedy, and excellent writing and directing by paul thomas anderson. i have seen this film several times and enjoy it more each time. it doesn't get old, it is consistently entertaining and stimulating. easily burt reynolds best role, and he does a great job. john c. reilly and don cheadle also give excellent comedic performances. there is not a weak element in this film.\",\n",
              " \"this is a solid underrated little thriller, that has thrills-a plenty, with a cool story, sandra bullock is terrific!. all the characters are great, and i was surprised by how unpredictable it was as there were only a few predictable moments, plus sandra bullock is simply amazing in this!. jeremy northam played an awesome villain, and i know what bullock's character in this is all about, because i'm kind of the same type of person(i hardly ever go out), plus this is pretty well made and written for the most part. this should be higher then 5.5 in my opinion, plus denis miller was surprisingly better then expected in his small role. the scene where northam terrorizes bullock on his boat was quite suspenseful, and was one of my favorite moments, and i also liked the chase scene in the carnival, plus i liked the ending too, as it was quite well done, even if i did think northam was defeated too quickly. there are lots of other good chase scenes as well, and it's also clever at times too, plus there are quite a few shocking moments as well, this is a solid underrated little thriller, that has thrills a-plenty, with a cool story, sandra bullock is terrific, i highly recommend this one!. the direction is great!. irwin winkler does a great! job here with excellent camera work, adding good atmosphere, good angles and keeping the film at a very fast pace. the acting is fantastic!. sandra bullock is amazing as always and is amazing here, she is extremely likable, tough as nails yet quite vulnerable, and i was able to feel for her because as i said i'm sort of like angela,i hardly ever go out, i really enjoyed her work in this movie! (bullock rules!!!!!!!). jeremy northam is excellent as the villain, he was sneaky, unpredictable and very menacing, he was great. dennis miller is surprisingly ok and non annoying in his small role, and managed to bring some comic relief. rest of the cast are fine. overall i highly recommend this one!. ***1/2 out of 5\",\n",
              " \"director mikhail kalatozov's film the cranes are flying (letyat zhuravli) is a glorious piece of cinema. from the screenplay by viktor rozov, based on his own play, kalatozov shows us a vision of the heroism of war and the suffering by those left at home. inundated with countless war movies showing us the frontlines and the carnage, the topic itself becomes tedious and avoidable. however, this russian gem shows how the tale of hardship can be told in a different way; by telling us, straight from a soldier's mouth how war is hated by all, that they hope those who died did so for a cause that will allow for peace and the end of fighting, we see a new vision of wwii. we have young men volunteering to wage war for peace, to keep their families and loved ones safe at home rather than draftees fighting a battle they don't believe in. with so much hatred towards our current situation in the middle east, and how people are dying for no reason, against their will, it's nice to see a film that shows just how selfless and heroic these soldiers are, as well as those awaiting their return.<br /><br />communist russia shows how involved all were in the war. while boris may have volunteered to go to the frontlines, his father is head doctor of a hospital aiding in the mending of soldiers injured and his sister is helping him there as well as his girl veronika, doing all she can to keep her mind off the fact that no letter has arrived from her love. an entire city comes out to send the boys off in celebration. even the factory that boris and his friend stepan work for send representatives over with gifts of gratitude. whether this is all a glorified look into russia at the outset of wwii or not, i don't know. there are no protests or badmouthing of these boys risking their lives for a country, it is all praise and thanks. some in america could learn a lesson from this because whether you agree with the war at hand or not, protesting and wreaking havoc in its name only sullies what these men and women are sacrificing each and everyday.<br /><br />the acting is top-notch throughout, but some deserve singling out. i really enjoyed antonina bogdanova in a small role as boris' grandmother. she is the one family member he can trust and her sadness at his leaving is very evident on her face and through her body language. vasili merkuryev, as the patriarch fyodor ivanovich, brings what is perhaps the best performance. as spoken at the end, about fathers needing to choke back hidden tears, merkuryev epitomizes those sentiments. he puts on a tough exterior, especially cracking jokes and riding his son hard when he finds out about his volunteering just hours before he must leave. but when boris exits to go to the assembly station we see the true pain of the man, seated in sorrow at the table. he loves his son dearly and although he may not be able to show it to him, his actions throughout the film express it to the audience. aleksey batalov is effective as boris, a happy-go-lucky young man, and idealist, doing what he believes is right, and aleksandr shvorin is good as the villainous mark, staying home due to his talented piano skills, or maybe just to steal his cousin's love. that love, played by tatyana samojlova, really draws the audience in to her grief, dejection, and slim glimmer of hope. the true star of the film, she must go through many emotions on a journey where she does lose her way, needing to steer back on course, hoping that she did so soon enough for boris' return.<br /><br />besides the realism to the story, as well as being unafraid to use tragedy to get the theme across, i also loved the visual style of the film. sergei urusevsky's cinematography is amazing, especially when considering the movie was shot in fullscreen. it is one thing to create stunning compositions in a widescreen panorama; it is completely different to do so in a square frame. right from the beginning we get a beautiful static shot of a winding walkway along water, a bridge in the background at the top, as our two lovers skip their way up the screen and into the distance. there are multiple instances of the camera being behind barriers yet still allowing for the action to be seen, creating unique spatial depth and interest at all times. sharp angles are utilized, as well as careful blocking to allow for overhead shots and exaggerated juxtapositions of characters in frame together.<br /><br />the real feats, however, are those instances of the long shot. used well towards the end to follow veronika through the mass of returning soldiers, it is magnificent earlier on as she roams through those saying goodbye to their loved ones while she searches for boris, her own farewell needing to be said. the planning for this shot must have been extensive because while she weaves in and out of people, the camera focuses on couples kisses, people yelling to one another, and more, all purposely in frame at specific moments while the camera moves through. everyone needed to hit his mark precisely and it leads to a brilliant piece of cinema. it's just one part of an overall masterpiece of tone and style; the cranes are flying shows how successful placement and mise en scène can be in showing the audience what it needs in as simple a way as possible. composition and professionalism from the actors and crew can work wonders, adding something that huge setpieces and special effects can never do.\",\n",
              " 'a truly terrific, touching film. female melodrama at its finest, with a lot of comedy: great dialogue, characters and writing. any woman can relate to the story because it\\'s a classic: you\\'re in love with \"mr. right\" but he has no interest in you until some guy who seems completely wrong comes along and you fall head-over-heels in love. but of course, it\\'s not that simplistic. the characters are real and all of the performances are perfect. the movie is hilarious as well, every scene skewers society. i\\'d recommend this film to anyone who loves a well-written screenplay of humor and melodrama. you can relate to every character and the plot moves in unexpected directions. a great, underrated movie.']"
            ]
          },
          "metadata": {
            "tags": []
          },
          "execution_count": 148
        }
      ]
    },
    {
      "cell_type": "markdown",
      "metadata": {
        "id": "b-unriEsmh_P",
        "colab_type": "text"
      },
      "source": [
        "##**Метрики**"
      ]
    },
    {
      "cell_type": "code",
      "metadata": {
        "id": "4QaKYvP4mtDN",
        "colab_type": "code",
        "colab": {}
      },
      "source": [
        "def evaluation(true, predicted):\n",
        "    tp = 0 \n",
        "    fp = 0\n",
        "    tn = 0\n",
        "    fn = 0\n",
        "    for t, p in zip(true, predicted):\n",
        "        if t == p and t == 0: \n",
        "            tn +=1\n",
        "        elif t == p and t == 1: \n",
        "            tp +=1\n",
        "        elif t != p and p == 0: \n",
        "            fn +=1\n",
        "        elif t != p and p == 1: \n",
        "            fp +=1\n",
        "    precision = tp/(tp+fp)\n",
        "    recall = tp/(tp+fn)\n",
        "    f1 = 2*precision*recall/(precision+recall)\n",
        "    print('''\n",
        "    Precision:\\t{:.3f}\n",
        "    Recall:\\t{:.3f}\n",
        "    F-measure:\\t{:.3f}\n",
        "    '''.format(precision, recall, f1))"
      ],
      "execution_count": 0,
      "outputs": []
    },
    {
      "cell_type": "code",
      "metadata": {
        "id": "0KaewOXHnN-1",
        "colab_type": "code",
        "colab": {
          "base_uri": "https://localhost:8080/",
          "height": 104
        },
        "outputId": "a9306007-9bee-45b4-866e-b842c9022c9c"
      },
      "source": [
        "evaluation(y_test, logreg_predicted)"
      ],
      "execution_count": 157,
      "outputs": [
        {
          "output_type": "stream",
          "text": [
            "\n",
            "    Precision:\t0.789\n",
            "    Recall:\t0.834\n",
            "    F-measure:\t0.811\n",
            "    \n"
          ],
          "name": "stdout"
        }
      ]
    },
    {
      "cell_type": "code",
      "metadata": {
        "id": "0bTVM_OZsj-o",
        "colab_type": "code",
        "colab": {
          "base_uri": "https://localhost:8080/",
          "height": 104
        },
        "outputId": "850b9722-8033-4699-cb42-f3c12baa814f"
      },
      "source": [
        "evaluation(y_test,predicted_KN)"
      ],
      "execution_count": 150,
      "outputs": [
        {
          "output_type": "stream",
          "text": [
            "\n",
            "    Precision:\t0.678\n",
            "    Recall:\t0.526\n",
            "    F-measure:\t0.593\n",
            "    \n"
          ],
          "name": "stdout"
        }
      ]
    },
    {
      "cell_type": "code",
      "metadata": {
        "id": "ag_urPQuswiM",
        "colab_type": "code",
        "colab": {
          "base_uri": "https://localhost:8080/",
          "height": 104
        },
        "outputId": "7e92e64b-f14a-4a2c-e8d2-0147ed05fc86"
      },
      "source": [
        "evaluation(y_test,predicted_svc)"
      ],
      "execution_count": 151,
      "outputs": [
        {
          "output_type": "stream",
          "text": [
            "\n",
            "    Precision:\t0.809\n",
            "    Recall:\t0.830\n",
            "    F-measure:\t0.819\n",
            "    \n"
          ],
          "name": "stdout"
        }
      ]
    },
    {
      "cell_type": "code",
      "metadata": {
        "id": "_tuuXbBas1lT",
        "colab_type": "code",
        "colab": {
          "base_uri": "https://localhost:8080/",
          "height": 104
        },
        "outputId": "6f567f25-ca4b-4d7c-cf74-f104801f1a23"
      },
      "source": [
        "evaluation(y_test,predicted_nb)"
      ],
      "execution_count": 152,
      "outputs": [
        {
          "output_type": "stream",
          "text": [
            "\n",
            "    Precision:\t0.800\n",
            "    Recall:\t0.822\n",
            "    F-measure:\t0.811\n",
            "    \n"
          ],
          "name": "stdout"
        }
      ]
    },
    {
      "cell_type": "code",
      "metadata": {
        "id": "hwQPiWMAs6wJ",
        "colab_type": "code",
        "colab": {
          "base_uri": "https://localhost:8080/",
          "height": 104
        },
        "outputId": "863c8e2d-4e02-4ef3-d29d-db35d60442e7"
      },
      "source": [
        "evaluation(y_test,predicted_T)"
      ],
      "execution_count": 153,
      "outputs": [
        {
          "output_type": "stream",
          "text": [
            "\n",
            "    Precision:\t0.699\n",
            "    Recall:\t0.626\n",
            "    F-measure:\t0.660\n",
            "    \n"
          ],
          "name": "stdout"
        }
      ]
    }
  ]
}