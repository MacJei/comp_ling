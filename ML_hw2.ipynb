{
  "nbformat": 4,
  "nbformat_minor": 0,
  "metadata": {
    "colab": {
      "name": "Untitled",
      "provenance": [],
      "authorship_tag": "ABX9TyOLoKrNbL1m2HYrF58pVzsL",
      "include_colab_link": true
    },
    "kernelspec": {
      "name": "python3",
      "display_name": "Python 3"
    }
  },
  "cells": [
    {
      "cell_type": "markdown",
      "metadata": {
        "id": "view-in-github",
        "colab_type": "text"
      },
      "source": [
        "<a href=\"https://colab.research.google.com/github/lnpetrova/comp_ling/blob/master/ML_hw2.ipynb\" target=\"_parent\"><img src=\"https://colab.research.google.com/assets/colab-badge.svg\" alt=\"Open In Colab\"/></a>"
      ]
    },
    {
      "cell_type": "code",
      "metadata": {
        "id": "CJDjmhakTEYN",
        "colab_type": "code",
        "colab": {}
      },
      "source": [
        "from IPython.display import Image"
      ],
      "execution_count": 0,
      "outputs": []
    },
    {
      "cell_type": "code",
      "metadata": {
        "id": "ayBcv1zfTIYK",
        "colab_type": "code",
        "colab": {}
      },
      "source": [
        "import tarfile\n",
        "import os\n",
        "import pandas as pd\n",
        "from sklearn.utils import shuffle\n",
        "from sklearn.feature_extraction.text import TfidfVectorizer\n",
        "vectorizer = TfidfVectorizer(stop_words='english')\n",
        "from sklearn.linear_model import LogisticRegression\n",
        "from sklearn.naive_bayes import BernoulliNB\n",
        "from sklearn.neighbors import KNeighborsClassifier\n",
        "from matplotlib import pyplot as plt\n",
        "import seaborn as sns\n",
        "from sklearn.metrics import roc_auc_score, roc_curve"
      ],
      "execution_count": 0,
      "outputs": []
    },
    {
      "cell_type": "code",
      "metadata": {
        "id": "1ES6JU_WFElx",
        "colab_type": "code",
        "outputId": "10a978a5-5bae-4516-88c8-2de6ec123cfa",
        "colab": {
          "base_uri": "https://localhost:8080/",
          "height": 208
        }
      },
      "source": [
        "!wget http://ai.stanford.edu/~amaas/data/sentiment/aclImdb_v1.tar.gz"
      ],
      "execution_count": 4,
      "outputs": [
        {
          "output_type": "stream",
          "text": [
            "--2020-02-24 21:24:02--  http://ai.stanford.edu/~amaas/data/sentiment/aclImdb_v1.tar.gz\n",
            "Resolving ai.stanford.edu (ai.stanford.edu)... 171.64.68.10\n",
            "Connecting to ai.stanford.edu (ai.stanford.edu)|171.64.68.10|:80... connected.\n",
            "HTTP request sent, awaiting response... 200 OK\n",
            "Length: 84125825 (80M) [application/x-gzip]\n",
            "Saving to: ‘aclImdb_v1.tar.gz’\n",
            "\n",
            "aclImdb_v1.tar.gz   100%[===================>]  80.23M  22.9MB/s    in 5.3s    \n",
            "\n",
            "2020-02-24 21:24:08 (15.0 MB/s) - ‘aclImdb_v1.tar.gz’ saved [84125825/84125825]\n",
            "\n"
          ],
          "name": "stdout"
        }
      ]
    },
    {
      "cell_type": "code",
      "metadata": {
        "id": "s75N-0MOUVqe",
        "colab_type": "code",
        "colab": {}
      },
      "source": [
        "tarfile.open('/content/aclImdb_v1.tar.gz', 'r').extractall()"
      ],
      "execution_count": 0,
      "outputs": []
    },
    {
      "cell_type": "code",
      "metadata": {
        "id": "pjNV0g3KvB-H",
        "colab_type": "code",
        "colab": {}
      },
      "source": [
        "path_test_neg = '/content/aclImdb/test/neg'\n",
        "path_test_pos = '/content/aclImdb/test/pos'\n",
        "path_train_neg = '/content/aclImdb/train/neg'\n",
        "path_train_pos = '/content/aclImdb/train/pos'"
      ],
      "execution_count": 0,
      "outputs": []
    },
    {
      "cell_type": "code",
      "metadata": {
        "id": "x2FGgaxzzAPr",
        "colab_type": "code",
        "colab": {}
      },
      "source": [
        "find_test_neg = os.walk(path_test_neg)\n",
        "tests_neg = list(find_test_neg)[0][-1]\n",
        "#print(tests_neg)\n",
        "\n",
        "find_test_pos = os.walk(path_test_pos)\n",
        "tests_pos = list(find_test_pos)[0][-1]\n",
        "\n",
        "find_train_neg = os.walk(path_train_neg)\n",
        "trains_neg = list(find_train_neg)[0][-1]\n",
        "\n",
        "find_train_pos = os.walk(path_train_pos)\n",
        "trains_pos = list(find_train_pos)[0][-1]"
      ],
      "execution_count": 0,
      "outputs": []
    },
    {
      "cell_type": "code",
      "metadata": {
        "id": "qvLmnpsIQ9LT",
        "colab_type": "code",
        "colab": {}
      },
      "source": [
        "# pathes = []\n",
        "# pathes.append(path_test_neg)\n",
        "# pathes.append(path_test_pos)\n",
        "# pathes.append(path_train_pos)\n",
        "# pathes.append(path_train_neg)"
      ],
      "execution_count": 0,
      "outputs": []
    },
    {
      "cell_type": "code",
      "metadata": {
        "id": "85pfiCBUO1dV",
        "colab_type": "code",
        "colab": {}
      },
      "source": [
        "# def get_files(path):\n",
        "#   find_files = os.walk(path)\n",
        "#   list_of_files = list(find_files)[0][-1]\n",
        "#   return list_of_files"
      ],
      "execution_count": 0,
      "outputs": []
    },
    {
      "cell_type": "code",
      "metadata": {
        "id": "-SP9KjwNScpA",
        "colab_type": "code",
        "colab": {}
      },
      "source": [
        "# for path in pathes:\n",
        "#   get_files(path)"
      ],
      "execution_count": 0,
      "outputs": []
    },
    {
      "cell_type": "code",
      "metadata": {
        "id": "bd03iMvJ07kG",
        "colab_type": "code",
        "colab": {}
      },
      "source": [
        "def collect_texts(path, files):\n",
        "    texts = [open('{}/{}'.format(path, file)).read().lower() for file in files]\n",
        "    return texts"
      ],
      "execution_count": 0,
      "outputs": []
    },
    {
      "cell_type": "code",
      "metadata": {
        "id": "rg6RuZTQzBeG",
        "colab_type": "code",
        "outputId": "49d45c55-29a8-42ba-ca4b-f2e0a55e53e1",
        "colab": {
          "base_uri": "https://localhost:8080/",
          "height": 202
        }
      },
      "source": [
        "test_pos_df = pd.DataFrame(collect_texts(path_test_pos, tests_pos),  columns = ['text'])\n",
        "test_pos_df['polarity'] = 1\n",
        "test_pos_df.head()"
      ],
      "execution_count": 12,
      "outputs": [
        {
          "output_type": "execute_result",
          "data": {
            "text/html": [
              "<div>\n",
              "<style scoped>\n",
              "    .dataframe tbody tr th:only-of-type {\n",
              "        vertical-align: middle;\n",
              "    }\n",
              "\n",
              "    .dataframe tbody tr th {\n",
              "        vertical-align: top;\n",
              "    }\n",
              "\n",
              "    .dataframe thead th {\n",
              "        text-align: right;\n",
              "    }\n",
              "</style>\n",
              "<table border=\"1\" class=\"dataframe\">\n",
              "  <thead>\n",
              "    <tr style=\"text-align: right;\">\n",
              "      <th></th>\n",
              "      <th>text</th>\n",
              "      <th>polarity</th>\n",
              "    </tr>\n",
              "  </thead>\n",
              "  <tbody>\n",
              "    <tr>\n",
              "      <th>0</th>\n",
              "      <td>even an old cynical doctor who fan like myself...</td>\n",
              "      <td>1</td>\n",
              "    </tr>\n",
              "    <tr>\n",
              "      <th>1</th>\n",
              "      <td>i just had the opportunity to see 'nuovomondo'...</td>\n",
              "      <td>1</td>\n",
              "    </tr>\n",
              "    <tr>\n",
              "      <th>2</th>\n",
              "      <td>i watched love life on holiday, when it was fi...</td>\n",
              "      <td>1</td>\n",
              "    </tr>\n",
              "    <tr>\n",
              "      <th>3</th>\n",
              "      <td>if you love drive-in cheeze from the early '70...</td>\n",
              "      <td>1</td>\n",
              "    </tr>\n",
              "    <tr>\n",
              "      <th>4</th>\n",
              "      <td>what a trip down memory lane.&lt;br /&gt;&lt;br /&gt;do no...</td>\n",
              "      <td>1</td>\n",
              "    </tr>\n",
              "  </tbody>\n",
              "</table>\n",
              "</div>"
            ],
            "text/plain": [
              "                                                text  polarity\n",
              "0  even an old cynical doctor who fan like myself...         1\n",
              "1  i just had the opportunity to see 'nuovomondo'...         1\n",
              "2  i watched love life on holiday, when it was fi...         1\n",
              "3  if you love drive-in cheeze from the early '70...         1\n",
              "4  what a trip down memory lane.<br /><br />do no...         1"
            ]
          },
          "metadata": {
            "tags": []
          },
          "execution_count": 12
        }
      ]
    },
    {
      "cell_type": "code",
      "metadata": {
        "id": "v026Sve90Ods",
        "colab_type": "code",
        "outputId": "30d2539b-a256-43e9-c01e-6c0d58f74cf3",
        "colab": {
          "base_uri": "https://localhost:8080/",
          "height": 202
        }
      },
      "source": [
        "test_neg_df = pd.DataFrame(collect_texts(path_test_neg, tests_neg),  columns = ['text'])\n",
        "test_neg_df['polarity'] = 0\n",
        "test_neg_df.head()"
      ],
      "execution_count": 13,
      "outputs": [
        {
          "output_type": "execute_result",
          "data": {
            "text/html": [
              "<div>\n",
              "<style scoped>\n",
              "    .dataframe tbody tr th:only-of-type {\n",
              "        vertical-align: middle;\n",
              "    }\n",
              "\n",
              "    .dataframe tbody tr th {\n",
              "        vertical-align: top;\n",
              "    }\n",
              "\n",
              "    .dataframe thead th {\n",
              "        text-align: right;\n",
              "    }\n",
              "</style>\n",
              "<table border=\"1\" class=\"dataframe\">\n",
              "  <thead>\n",
              "    <tr style=\"text-align: right;\">\n",
              "      <th></th>\n",
              "      <th>text</th>\n",
              "      <th>polarity</th>\n",
              "    </tr>\n",
              "  </thead>\n",
              "  <tbody>\n",
              "    <tr>\n",
              "      <th>0</th>\n",
              "      <td>this movie was an absolute waste of time. it's...</td>\n",
              "      <td>0</td>\n",
              "    </tr>\n",
              "    <tr>\n",
              "      <th>1</th>\n",
              "      <td>some spoilers**** a soap has some wonderful mo...</td>\n",
              "      <td>0</td>\n",
              "    </tr>\n",
              "    <tr>\n",
              "      <th>2</th>\n",
              "      <td>i'm not sure what the director and editor were...</td>\n",
              "      <td>0</td>\n",
              "    </tr>\n",
              "    <tr>\n",
              "      <th>3</th>\n",
              "      <td>yes, thats that i felt after i completed watch...</td>\n",
              "      <td>0</td>\n",
              "    </tr>\n",
              "    <tr>\n",
              "      <th>4</th>\n",
              "      <td>first off, i am critical of this movie because...</td>\n",
              "      <td>0</td>\n",
              "    </tr>\n",
              "  </tbody>\n",
              "</table>\n",
              "</div>"
            ],
            "text/plain": [
              "                                                text  polarity\n",
              "0  this movie was an absolute waste of time. it's...         0\n",
              "1  some spoilers**** a soap has some wonderful mo...         0\n",
              "2  i'm not sure what the director and editor were...         0\n",
              "3  yes, thats that i felt after i completed watch...         0\n",
              "4  first off, i am critical of this movie because...         0"
            ]
          },
          "metadata": {
            "tags": []
          },
          "execution_count": 13
        }
      ]
    },
    {
      "cell_type": "code",
      "metadata": {
        "id": "Ab9Gxvu90WPY",
        "colab_type": "code",
        "outputId": "682fc841-5900-41a2-bcaf-3f59e32e2711",
        "colab": {
          "base_uri": "https://localhost:8080/",
          "height": 415
        }
      },
      "source": [
        "test = pd.concat((test_pos_df, test_neg_df))\n",
        "test"
      ],
      "execution_count": 14,
      "outputs": [
        {
          "output_type": "execute_result",
          "data": {
            "text/html": [
              "<div>\n",
              "<style scoped>\n",
              "    .dataframe tbody tr th:only-of-type {\n",
              "        vertical-align: middle;\n",
              "    }\n",
              "\n",
              "    .dataframe tbody tr th {\n",
              "        vertical-align: top;\n",
              "    }\n",
              "\n",
              "    .dataframe thead th {\n",
              "        text-align: right;\n",
              "    }\n",
              "</style>\n",
              "<table border=\"1\" class=\"dataframe\">\n",
              "  <thead>\n",
              "    <tr style=\"text-align: right;\">\n",
              "      <th></th>\n",
              "      <th>text</th>\n",
              "      <th>polarity</th>\n",
              "    </tr>\n",
              "  </thead>\n",
              "  <tbody>\n",
              "    <tr>\n",
              "      <th>0</th>\n",
              "      <td>even an old cynical doctor who fan like myself...</td>\n",
              "      <td>1</td>\n",
              "    </tr>\n",
              "    <tr>\n",
              "      <th>1</th>\n",
              "      <td>i just had the opportunity to see 'nuovomondo'...</td>\n",
              "      <td>1</td>\n",
              "    </tr>\n",
              "    <tr>\n",
              "      <th>2</th>\n",
              "      <td>i watched love life on holiday, when it was fi...</td>\n",
              "      <td>1</td>\n",
              "    </tr>\n",
              "    <tr>\n",
              "      <th>3</th>\n",
              "      <td>if you love drive-in cheeze from the early '70...</td>\n",
              "      <td>1</td>\n",
              "    </tr>\n",
              "    <tr>\n",
              "      <th>4</th>\n",
              "      <td>what a trip down memory lane.&lt;br /&gt;&lt;br /&gt;do no...</td>\n",
              "      <td>1</td>\n",
              "    </tr>\n",
              "    <tr>\n",
              "      <th>...</th>\n",
              "      <td>...</td>\n",
              "      <td>...</td>\n",
              "    </tr>\n",
              "    <tr>\n",
              "      <th>12495</th>\n",
              "      <td>i can't believe i even tried to watch this fil...</td>\n",
              "      <td>0</td>\n",
              "    </tr>\n",
              "    <tr>\n",
              "      <th>12496</th>\n",
              "      <td>what is wrong with curacao ( also known as dea...</td>\n",
              "      <td>0</td>\n",
              "    </tr>\n",
              "    <tr>\n",
              "      <th>12497</th>\n",
              "      <td>inane, awful farce basically about a young man...</td>\n",
              "      <td>0</td>\n",
              "    </tr>\n",
              "    <tr>\n",
              "      <th>12498</th>\n",
              "      <td>when i first saw this show i thought to my sel...</td>\n",
              "      <td>0</td>\n",
              "    </tr>\n",
              "    <tr>\n",
              "      <th>12499</th>\n",
              "      <td>this film is so bad. i mean, who commissions t...</td>\n",
              "      <td>0</td>\n",
              "    </tr>\n",
              "  </tbody>\n",
              "</table>\n",
              "<p>25000 rows × 2 columns</p>\n",
              "</div>"
            ],
            "text/plain": [
              "                                                    text  polarity\n",
              "0      even an old cynical doctor who fan like myself...         1\n",
              "1      i just had the opportunity to see 'nuovomondo'...         1\n",
              "2      i watched love life on holiday, when it was fi...         1\n",
              "3      if you love drive-in cheeze from the early '70...         1\n",
              "4      what a trip down memory lane.<br /><br />do no...         1\n",
              "...                                                  ...       ...\n",
              "12495  i can't believe i even tried to watch this fil...         0\n",
              "12496  what is wrong with curacao ( also known as dea...         0\n",
              "12497  inane, awful farce basically about a young man...         0\n",
              "12498  when i first saw this show i thought to my sel...         0\n",
              "12499  this film is so bad. i mean, who commissions t...         0\n",
              "\n",
              "[25000 rows x 2 columns]"
            ]
          },
          "metadata": {
            "tags": []
          },
          "execution_count": 14
        }
      ]
    },
    {
      "cell_type": "code",
      "metadata": {
        "id": "Z5XeJAVN0hwN",
        "colab_type": "code",
        "outputId": "3f904f39-d0de-4f85-9e3d-5531e3744c65",
        "colab": {
          "base_uri": "https://localhost:8080/",
          "height": 202
        }
      },
      "source": [
        "train_pos_df = pd.DataFrame(collect_texts(path_train_pos, trains_pos),  columns = ['text'])\n",
        "train_pos_df['polarity'] = 1\n",
        "train_pos_df.head()"
      ],
      "execution_count": 15,
      "outputs": [
        {
          "output_type": "execute_result",
          "data": {
            "text/html": [
              "<div>\n",
              "<style scoped>\n",
              "    .dataframe tbody tr th:only-of-type {\n",
              "        vertical-align: middle;\n",
              "    }\n",
              "\n",
              "    .dataframe tbody tr th {\n",
              "        vertical-align: top;\n",
              "    }\n",
              "\n",
              "    .dataframe thead th {\n",
              "        text-align: right;\n",
              "    }\n",
              "</style>\n",
              "<table border=\"1\" class=\"dataframe\">\n",
              "  <thead>\n",
              "    <tr style=\"text-align: right;\">\n",
              "      <th></th>\n",
              "      <th>text</th>\n",
              "      <th>polarity</th>\n",
              "    </tr>\n",
              "  </thead>\n",
              "  <tbody>\n",
              "    <tr>\n",
              "      <th>0</th>\n",
              "      <td>i first saw ice age in the subiaco cinemas whe...</td>\n",
              "      <td>1</td>\n",
              "    </tr>\n",
              "    <tr>\n",
              "      <th>1</th>\n",
              "      <td>what can i say ? an action and allegorical tal...</td>\n",
              "      <td>1</td>\n",
              "    </tr>\n",
              "    <tr>\n",
              "      <th>2</th>\n",
              "      <td>reviewed at the world premiere screening sept....</td>\n",
              "      <td>1</td>\n",
              "    </tr>\n",
              "    <tr>\n",
              "      <th>3</th>\n",
              "      <td>i may be biased, i am the author of the novel ...</td>\n",
              "      <td>1</td>\n",
              "    </tr>\n",
              "    <tr>\n",
              "      <th>4</th>\n",
              "      <td>what a strangely wonderful, if sometimes sligh...</td>\n",
              "      <td>1</td>\n",
              "    </tr>\n",
              "  </tbody>\n",
              "</table>\n",
              "</div>"
            ],
            "text/plain": [
              "                                                text  polarity\n",
              "0  i first saw ice age in the subiaco cinemas whe...         1\n",
              "1  what can i say ? an action and allegorical tal...         1\n",
              "2  reviewed at the world premiere screening sept....         1\n",
              "3  i may be biased, i am the author of the novel ...         1\n",
              "4  what a strangely wonderful, if sometimes sligh...         1"
            ]
          },
          "metadata": {
            "tags": []
          },
          "execution_count": 15
        }
      ]
    },
    {
      "cell_type": "code",
      "metadata": {
        "id": "clHe2MDd0tFm",
        "colab_type": "code",
        "outputId": "6eb9973d-01eb-4d9d-d359-7ed91f322a60",
        "colab": {
          "base_uri": "https://localhost:8080/",
          "height": 202
        }
      },
      "source": [
        "train_neg_df = pd.DataFrame(collect_texts(path_train_neg, trains_neg),  columns = ['text'])\n",
        "train_neg_df['polarity'] = 0\n",
        "train_neg_df.head()"
      ],
      "execution_count": 16,
      "outputs": [
        {
          "output_type": "execute_result",
          "data": {
            "text/html": [
              "<div>\n",
              "<style scoped>\n",
              "    .dataframe tbody tr th:only-of-type {\n",
              "        vertical-align: middle;\n",
              "    }\n",
              "\n",
              "    .dataframe tbody tr th {\n",
              "        vertical-align: top;\n",
              "    }\n",
              "\n",
              "    .dataframe thead th {\n",
              "        text-align: right;\n",
              "    }\n",
              "</style>\n",
              "<table border=\"1\" class=\"dataframe\">\n",
              "  <thead>\n",
              "    <tr style=\"text-align: right;\">\n",
              "      <th></th>\n",
              "      <th>text</th>\n",
              "      <th>polarity</th>\n",
              "    </tr>\n",
              "  </thead>\n",
              "  <tbody>\n",
              "    <tr>\n",
              "      <th>0</th>\n",
              "      <td>this movie is really goofy! i saw it as an 11 ...</td>\n",
              "      <td>0</td>\n",
              "    </tr>\n",
              "    <tr>\n",
              "      <th>1</th>\n",
              "      <td>basically this is about a couple who want to a...</td>\n",
              "      <td>0</td>\n",
              "    </tr>\n",
              "    <tr>\n",
              "      <th>2</th>\n",
              "      <td>hmm i agree with the reviewer who said that \"...</td>\n",
              "      <td>0</td>\n",
              "    </tr>\n",
              "    <tr>\n",
              "      <th>3</th>\n",
              "      <td>'the omen 4: the awakening' is a made-for-tele...</td>\n",
              "      <td>0</td>\n",
              "    </tr>\n",
              "    <tr>\n",
              "      <th>4</th>\n",
              "      <td>bugs bunny accidentally ends up at the south p...</td>\n",
              "      <td>0</td>\n",
              "    </tr>\n",
              "  </tbody>\n",
              "</table>\n",
              "</div>"
            ],
            "text/plain": [
              "                                                text  polarity\n",
              "0  this movie is really goofy! i saw it as an 11 ...         0\n",
              "1  basically this is about a couple who want to a...         0\n",
              "2  hmm\n",
              " i agree with the reviewer who said that \"...         0\n",
              "3  'the omen 4: the awakening' is a made-for-tele...         0\n",
              "4  bugs bunny accidentally ends up at the south p...         0"
            ]
          },
          "metadata": {
            "tags": []
          },
          "execution_count": 16
        }
      ]
    },
    {
      "cell_type": "code",
      "metadata": {
        "id": "SnwgJHCF02T2",
        "colab_type": "code",
        "outputId": "41b3cf08-e3c4-4918-cfa1-0b28348d0d6f",
        "colab": {
          "base_uri": "https://localhost:8080/",
          "height": 415
        }
      },
      "source": [
        "train = pd.concat((train_pos_df, train_neg_df))\n",
        "train"
      ],
      "execution_count": 17,
      "outputs": [
        {
          "output_type": "execute_result",
          "data": {
            "text/html": [
              "<div>\n",
              "<style scoped>\n",
              "    .dataframe tbody tr th:only-of-type {\n",
              "        vertical-align: middle;\n",
              "    }\n",
              "\n",
              "    .dataframe tbody tr th {\n",
              "        vertical-align: top;\n",
              "    }\n",
              "\n",
              "    .dataframe thead th {\n",
              "        text-align: right;\n",
              "    }\n",
              "</style>\n",
              "<table border=\"1\" class=\"dataframe\">\n",
              "  <thead>\n",
              "    <tr style=\"text-align: right;\">\n",
              "      <th></th>\n",
              "      <th>text</th>\n",
              "      <th>polarity</th>\n",
              "    </tr>\n",
              "  </thead>\n",
              "  <tbody>\n",
              "    <tr>\n",
              "      <th>0</th>\n",
              "      <td>i first saw ice age in the subiaco cinemas whe...</td>\n",
              "      <td>1</td>\n",
              "    </tr>\n",
              "    <tr>\n",
              "      <th>1</th>\n",
              "      <td>what can i say ? an action and allegorical tal...</td>\n",
              "      <td>1</td>\n",
              "    </tr>\n",
              "    <tr>\n",
              "      <th>2</th>\n",
              "      <td>reviewed at the world premiere screening sept....</td>\n",
              "      <td>1</td>\n",
              "    </tr>\n",
              "    <tr>\n",
              "      <th>3</th>\n",
              "      <td>i may be biased, i am the author of the novel ...</td>\n",
              "      <td>1</td>\n",
              "    </tr>\n",
              "    <tr>\n",
              "      <th>4</th>\n",
              "      <td>what a strangely wonderful, if sometimes sligh...</td>\n",
              "      <td>1</td>\n",
              "    </tr>\n",
              "    <tr>\n",
              "      <th>...</th>\n",
              "      <td>...</td>\n",
              "      <td>...</td>\n",
              "    </tr>\n",
              "    <tr>\n",
              "      <th>12495</th>\n",
              "      <td>i was shocked by the ridiculously unbelievable...</td>\n",
              "      <td>0</td>\n",
              "    </tr>\n",
              "    <tr>\n",
              "      <th>12496</th>\n",
              "      <td>this movie is just plain bad. it isn't even wo...</td>\n",
              "      <td>0</td>\n",
              "    </tr>\n",
              "    <tr>\n",
              "      <th>12497</th>\n",
              "      <td>aka: mondays in the sun&lt;br /&gt;&lt;br /&gt;i have no i...</td>\n",
              "      <td>0</td>\n",
              "    </tr>\n",
              "    <tr>\n",
              "      <th>12498</th>\n",
              "      <td>after eagerly waiting to the end, i have to sa...</td>\n",
              "      <td>0</td>\n",
              "    </tr>\n",
              "    <tr>\n",
              "      <th>12499</th>\n",
              "      <td>naturally i didn't watch 'gi jane' out of choi...</td>\n",
              "      <td>0</td>\n",
              "    </tr>\n",
              "  </tbody>\n",
              "</table>\n",
              "<p>25000 rows × 2 columns</p>\n",
              "</div>"
            ],
            "text/plain": [
              "                                                    text  polarity\n",
              "0      i first saw ice age in the subiaco cinemas whe...         1\n",
              "1      what can i say ? an action and allegorical tal...         1\n",
              "2      reviewed at the world premiere screening sept....         1\n",
              "3      i may be biased, i am the author of the novel ...         1\n",
              "4      what a strangely wonderful, if sometimes sligh...         1\n",
              "...                                                  ...       ...\n",
              "12495  i was shocked by the ridiculously unbelievable...         0\n",
              "12496  this movie is just plain bad. it isn't even wo...         0\n",
              "12497  aka: mondays in the sun<br /><br />i have no i...         0\n",
              "12498  after eagerly waiting to the end, i have to sa...         0\n",
              "12499  naturally i didn't watch 'gi jane' out of choi...         0\n",
              "\n",
              "[25000 rows x 2 columns]"
            ]
          },
          "metadata": {
            "tags": []
          },
          "execution_count": 17
        }
      ]
    },
    {
      "cell_type": "code",
      "metadata": {
        "id": "S2DmpnmJ1GwL",
        "colab_type": "code",
        "outputId": "29242f97-86a2-4309-d8db-93f3fb4d8e4a",
        "colab": {
          "base_uri": "https://localhost:8080/",
          "height": 202
        }
      },
      "source": [
        "train = shuffle(train, random_state=42)\n",
        "train = train[:1000]\n",
        "train.head()"
      ],
      "execution_count": 18,
      "outputs": [
        {
          "output_type": "execute_result",
          "data": {
            "text/html": [
              "<div>\n",
              "<style scoped>\n",
              "    .dataframe tbody tr th:only-of-type {\n",
              "        vertical-align: middle;\n",
              "    }\n",
              "\n",
              "    .dataframe tbody tr th {\n",
              "        vertical-align: top;\n",
              "    }\n",
              "\n",
              "    .dataframe thead th {\n",
              "        text-align: right;\n",
              "    }\n",
              "</style>\n",
              "<table border=\"1\" class=\"dataframe\">\n",
              "  <thead>\n",
              "    <tr style=\"text-align: right;\">\n",
              "      <th></th>\n",
              "      <th>text</th>\n",
              "      <th>polarity</th>\n",
              "    </tr>\n",
              "  </thead>\n",
              "  <tbody>\n",
              "    <tr>\n",
              "      <th>6868</th>\n",
              "      <td>i'm always surprised about how many times you'...</td>\n",
              "      <td>1</td>\n",
              "    </tr>\n",
              "    <tr>\n",
              "      <th>11516</th>\n",
              "      <td>this is one of the worst movies i have seen to...</td>\n",
              "      <td>0</td>\n",
              "    </tr>\n",
              "    <tr>\n",
              "      <th>9668</th>\n",
              "      <td>i just came back from hong kong on my summer v...</td>\n",
              "      <td>1</td>\n",
              "    </tr>\n",
              "    <tr>\n",
              "      <th>1140</th>\n",
              "      <td>the best thing about camp films in general is ...</td>\n",
              "      <td>0</td>\n",
              "    </tr>\n",
              "    <tr>\n",
              "      <th>1518</th>\n",
              "      <td>i realise that the us army was demoralised by ...</td>\n",
              "      <td>0</td>\n",
              "    </tr>\n",
              "  </tbody>\n",
              "</table>\n",
              "</div>"
            ],
            "text/plain": [
              "                                                    text  polarity\n",
              "6868   i'm always surprised about how many times you'...         1\n",
              "11516  this is one of the worst movies i have seen to...         0\n",
              "9668   i just came back from hong kong on my summer v...         1\n",
              "1140   the best thing about camp films in general is ...         0\n",
              "1518   i realise that the us army was demoralised by ...         0"
            ]
          },
          "metadata": {
            "tags": []
          },
          "execution_count": 18
        }
      ]
    },
    {
      "cell_type": "code",
      "metadata": {
        "id": "dnfRhevD1OWy",
        "colab_type": "code",
        "outputId": "1bf69d31-9b53-4d7c-f0d3-94e96c02e9f1",
        "colab": {
          "base_uri": "https://localhost:8080/",
          "height": 1000
        }
      },
      "source": [
        "x_train = vectorizer.fit_transform(train.text)\n",
        "print(x_train)\n",
        "y_train = train.polarity\n",
        "print(y_train)"
      ],
      "execution_count": 24,
      "outputs": [
        {
          "output_type": "stream",
          "text": [
            "  (0, 7)\t0.03472561660519713\n",
            "  (0, 1060)\t0.059682910412275955\n",
            "  (0, 8095)\t0.03713525261106065\n",
            "  (0, 2584)\t0.046576283066411046\n",
            "  (0, 6912)\t0.08280579206339418\n",
            "  (0, 1457)\t0.06433599873109724\n",
            "  (0, 13917)\t0.05211745515199976\n",
            "  (0, 364)\t0.03862177604573049\n",
            "  (0, 9246)\t0.034050367273367375\n",
            "  (0, 9217)\t0.0416815873430294\n",
            "  (0, 10405)\t0.06842917464702541\n",
            "  (0, 958)\t0.04932166571327133\n",
            "  (0, 13586)\t0.04436253451554382\n",
            "  (0, 8094)\t0.05528771896537951\n",
            "  (0, 17151)\t0.04786707228684303\n",
            "  (0, 4031)\t0.09315256613282209\n",
            "  (0, 8677)\t0.053820712419480846\n",
            "  (0, 15272)\t0.058246547216578036\n",
            "  (0, 1608)\t0.07019819672389235\n",
            "  (0, 14071)\t0.07815270374457291\n",
            "  (0, 7040)\t0.049015622834365107\n",
            "  (0, 1652)\t0.03630780041383884\n",
            "  (0, 8920)\t0.04136715869259077\n",
            "  (0, 8479)\t0.02177543081503454\n",
            "  (0, 15817)\t0.058246547216578036\n",
            "  :\t:\n",
            "  (999, 1495)\t0.040806643322571015\n",
            "  (999, 8279)\t0.10674248727450274\n",
            "  (999, 6653)\t0.1690648497500728\n",
            "  (999, 11322)\t0.03777554093390307\n",
            "  (999, 6250)\t0.042224377985992496\n",
            "  (999, 9262)\t0.12501312441069015\n",
            "  (999, 14982)\t0.06396028709062052\n",
            "  (999, 14852)\t0.1758996205924359\n",
            "  (999, 6052)\t0.05506261298644167\n",
            "  (999, 8577)\t0.056354949916690926\n",
            "  (999, 4724)\t0.11902290007706219\n",
            "  (999, 3946)\t0.04064164499184832\n",
            "  (999, 7225)\t0.0432135322500081\n",
            "  (999, 17292)\t0.03452485841210726\n",
            "  (999, 9027)\t0.14748801609850212\n",
            "  (999, 9409)\t0.03777554093390307\n",
            "  (999, 12468)\t0.06273671658053417\n",
            "  (999, 14418)\t0.07910262420201843\n",
            "  (999, 6782)\t0.052212790126746296\n",
            "  (999, 1623)\t0.028642194980143757\n",
            "  (999, 2734)\t0.05782008068934079\n",
            "  (999, 5738)\t0.0432135322500081\n",
            "  (999, 5667)\t0.038973695464196684\n",
            "  (999, 14774)\t0.07291089613338769\n",
            "  (999, 1980)\t0.1027895253019441\n",
            "6868     1\n",
            "11516    0\n",
            "9668     1\n",
            "1140     0\n",
            "1518     0\n",
            "        ..\n",
            "11819    0\n",
            "3671     0\n",
            "2898     1\n",
            "3396     1\n",
            "3000     1\n",
            "Name: polarity, Length: 1000, dtype: int64\n"
          ],
          "name": "stdout"
        }
      ]
    },
    {
      "cell_type": "code",
      "metadata": {
        "id": "vzgzzr7R1TG9",
        "colab_type": "code",
        "outputId": "94aab684-c9c7-42d1-ac91-d7f71a1b99fd",
        "colab": {
          "base_uri": "https://localhost:8080/",
          "height": 202
        }
      },
      "source": [
        "test = shuffle(test, random_state=42)\n",
        "test = test[:1000]\n",
        "test.head()"
      ],
      "execution_count": 25,
      "outputs": [
        {
          "output_type": "execute_result",
          "data": {
            "text/html": [
              "<div>\n",
              "<style scoped>\n",
              "    .dataframe tbody tr th:only-of-type {\n",
              "        vertical-align: middle;\n",
              "    }\n",
              "\n",
              "    .dataframe tbody tr th {\n",
              "        vertical-align: top;\n",
              "    }\n",
              "\n",
              "    .dataframe thead th {\n",
              "        text-align: right;\n",
              "    }\n",
              "</style>\n",
              "<table border=\"1\" class=\"dataframe\">\n",
              "  <thead>\n",
              "    <tr style=\"text-align: right;\">\n",
              "      <th></th>\n",
              "      <th>text</th>\n",
              "      <th>polarity</th>\n",
              "    </tr>\n",
              "  </thead>\n",
              "  <tbody>\n",
              "    <tr>\n",
              "      <th>4977</th>\n",
              "      <td>well, i like to watch bad horror b-movies, cau...</td>\n",
              "      <td>0</td>\n",
              "    </tr>\n",
              "    <tr>\n",
              "      <th>1979</th>\n",
              "      <td>this film is a third rate attempt at a compell...</td>\n",
              "      <td>0</td>\n",
              "    </tr>\n",
              "    <tr>\n",
              "      <th>4547</th>\n",
              "      <td>william h. macy is terrific in this alfred hit...</td>\n",
              "      <td>1</td>\n",
              "    </tr>\n",
              "    <tr>\n",
              "      <th>6246</th>\n",
              "      <td>edge vs. michaels-boring in general (loved the...</td>\n",
              "      <td>0</td>\n",
              "    </tr>\n",
              "    <tr>\n",
              "      <th>8993</th>\n",
              "      <td>a gem from japan, where so many of the world's...</td>\n",
              "      <td>1</td>\n",
              "    </tr>\n",
              "  </tbody>\n",
              "</table>\n",
              "</div>"
            ],
            "text/plain": [
              "                                                   text  polarity\n",
              "4977  well, i like to watch bad horror b-movies, cau...         0\n",
              "1979  this film is a third rate attempt at a compell...         0\n",
              "4547  william h. macy is terrific in this alfred hit...         1\n",
              "6246  edge vs. michaels-boring in general (loved the...         0\n",
              "8993  a gem from japan, where so many of the world's...         1"
            ]
          },
          "metadata": {
            "tags": []
          },
          "execution_count": 25
        }
      ]
    },
    {
      "cell_type": "code",
      "metadata": {
        "id": "W0Bf4Dzh1azp",
        "colab_type": "code",
        "outputId": "0a872ce0-53f5-40e0-8721-31228c3d6df3",
        "colab": {
          "base_uri": "https://localhost:8080/",
          "height": 1000
        }
      },
      "source": [
        "x_test = vectorizer.transform(test.text)\n",
        "print(x_test)\n",
        "y_test = test.polarity\n",
        "print(y_test)"
      ],
      "execution_count": 26,
      "outputs": [
        {
          "output_type": "stream",
          "text": [
            "  (0, 17168)\t0.1804390439179778\n",
            "  (0, 17151)\t0.11110630777087148\n",
            "  (0, 17126)\t0.15527697126023418\n",
            "  (0, 16838)\t0.13367600683366715\n",
            "  (0, 16836)\t0.06810873782318937\n",
            "  (0, 16805)\t0.15883388257545247\n",
            "  (0, 16184)\t0.10205315786451177\n",
            "  (0, 15572)\t0.18140358163824816\n",
            "  (0, 15526)\t0.0688771738034484\n",
            "  (0, 14896)\t0.16294003534259943\n",
            "  (0, 14457)\t0.16294003534259943\n",
            "  (0, 13896)\t0.13086949068076265\n",
            "  (0, 13703)\t0.11448262675586716\n",
            "  (0, 13613)\t0.13933687584656348\n",
            "  (0, 13531)\t0.11753020579090735\n",
            "  (0, 11301)\t0.06412912812860423\n",
            "  (0, 10201)\t0.33437655347927703\n",
            "  (0, 10200)\t0.1216158074321822\n",
            "  (0, 9428)\t0.07884617322200371\n",
            "  (0, 9246)\t0.0790357631090347\n",
            "  (0, 9049)\t0.09389239724025848\n",
            "  (0, 8095)\t0.17239244468635045\n",
            "  (0, 7908)\t0.31055394252046836\n",
            "  (0, 7542)\t0.11308034158809271\n",
            "  (0, 7492)\t0.1913230557760151\n",
            "  :\t:\n",
            "  (999, 2852)\t0.10324781089112807\n",
            "  (999, 2738)\t0.06074428131139913\n",
            "  (999, 2538)\t0.09332959845528035\n",
            "  (999, 2231)\t0.06498353580798964\n",
            "  (999, 2096)\t0.0776096036702755\n",
            "  (999, 1980)\t0.044683022146576164\n",
            "  (999, 1582)\t0.0744166524361149\n",
            "  (999, 1504)\t0.09744602854197093\n",
            "  (999, 1373)\t0.10324781089112807\n",
            "  (999, 1249)\t0.09013664722111976\n",
            "  (999, 1140)\t0.08752781610612322\n",
            "  (999, 1055)\t0.07885464562604255\n",
            "  (999, 1054)\t0.06893643319019484\n",
            "  (999, 986)\t0.14525139708764248\n",
            "  (999, 956)\t0.08021843478527203\n",
            "  (999, 900)\t0.08021843478527203\n",
            "  (999, 721)\t0.076464276096404\n",
            "  (999, 563)\t0.09013664722111976\n",
            "  (999, 339)\t0.09013664722111976\n",
            "  (999, 311)\t0.08341138601943264\n",
            "  (999, 289)\t0.055065323372141935\n",
            "  (999, 286)\t0.08752781610612322\n",
            "  (999, 201)\t0.076464276096404\n",
            "  (999, 33)\t0.07180782132111835\n",
            "  (999, 7)\t0.04329822596934227\n",
            "4977     0\n",
            "1979     0\n",
            "4547     1\n",
            "6246     0\n",
            "8993     1\n",
            "        ..\n",
            "5689     1\n",
            "1917     0\n",
            "4404     1\n",
            "10146    0\n",
            "838      0\n",
            "Name: polarity, Length: 1000, dtype: int64\n"
          ],
          "name": "stdout"
        }
      ]
    },
    {
      "cell_type": "markdown",
      "metadata": {
        "id": "saaPwUxCaUET",
        "colab_type": "text"
      },
      "source": [
        "## **Метод ближайшего соседа**"
      ]
    },
    {
      "cell_type": "code",
      "metadata": {
        "id": "2DvLwZQw_VPx",
        "colab_type": "code",
        "colab": {}
      },
      "source": [
        "clf_KN = KNeighborsClassifier().fit(x_train, y_train)"
      ],
      "execution_count": 0,
      "outputs": []
    },
    {
      "cell_type": "code",
      "metadata": {
        "id": "knboGUMB7f7y",
        "colab_type": "code",
        "outputId": "e67dd448-9195-4c6f-aaba-38954d7ac96d",
        "colab": {
          "base_uri": "https://localhost:8080/",
          "height": 139
        }
      },
      "source": [
        "predicted_KN = clf_KN.predict(x_test)\n",
        "predicted_proba_KN = clf_KN.predict_proba(x_test)\n",
        "print(predicted_proba_KN)"
      ],
      "execution_count": 46,
      "outputs": [
        {
          "output_type": "stream",
          "text": [
            "[[0.8 0.2]\n",
            " [0.6 0.4]\n",
            " [0.2 0.8]\n",
            " ...\n",
            " [0.6 0.4]\n",
            " [0.6 0.4]\n",
            " [0.  1. ]]\n"
          ],
          "name": "stdout"
        }
      ]
    },
    {
      "cell_type": "code",
      "metadata": {
        "id": "WgVCuz_II8YQ",
        "colab_type": "code",
        "colab": {}
      },
      "source": [
        "from sklearn.metrics import accuracy_score\n",
        "from sklearn.metrics import f1_score, precision_score, recall_score"
      ],
      "execution_count": 0,
      "outputs": []
    },
    {
      "cell_type": "code",
      "metadata": {
        "id": "_b-DEfzsIiWU",
        "colab_type": "code",
        "colab": {
          "base_uri": "https://localhost:8080/",
          "height": 87
        },
        "outputId": "f8b87120-0044-4afa-844b-9b67169cbc0c"
      },
      "source": [
        "acc = accuracy_score(predicted_KN, y_test)\n",
        "micro_f1 = f1_score(predicted_KN, y_test, average = 'micro')\n",
        "micro_p = precision_score(predicted_KN,y_test, average = 'micro')\n",
        "micro_r = recall_score(predicted_KN, y_test, average = 'micro')\n",
        "macro_f1 = f1_score(predicted_KN, y_test, average = 'macro')\n",
        "macro_p = precision_score(predicted_KN, y_test, average = 'macro')\n",
        "macro_r = recall_score(predicted_KN, y_test, average = 'macro')\n",
        "print('acc={0:1.4f}'.format(acc))\n",
        "print('micro F1={0:1.4f}, micro P={1:1.4f}, micro R={2:1.4f}'.format(micro_f1, micro_p, micro_r))\n",
        "print('macro F1={0:1.4f}, macro P={1:1.4f}, macro R={2:1.4f}\\n'.format(macro_f1, macro_p, macro_r))"
      ],
      "execution_count": 48,
      "outputs": [
        {
          "output_type": "stream",
          "text": [
            "acc=0.6300\n",
            "micro F1=0.6300, micro P=0.6300, micro R=0.6300\n",
            "macro F1=0.6268, macro P=0.6323, macro R=0.6381\n",
            "\n"
          ],
          "name": "stdout"
        }
      ]
    },
    {
      "cell_type": "code",
      "metadata": {
        "id": "b46pd1eF7q_d",
        "colab_type": "code",
        "outputId": "512527b1-364e-4b04-e656-afa62e3e7993",
        "colab": {
          "base_uri": "https://localhost:8080/",
          "height": 629
        }
      },
      "source": [
        "eval_sklearn(y_test, predicted_KN)"
      ],
      "execution_count": 49,
      "outputs": [
        {
          "output_type": "error",
          "ename": "NameError",
          "evalue": "ignored",
          "traceback": [
            "\u001b[0;31m---------------------------------------------------------------------------\u001b[0m",
            "\u001b[0;31mNameError\u001b[0m                                 Traceback (most recent call last)",
            "\u001b[0;32m<ipython-input-49-4f7eaf2e2f34>\u001b[0m in \u001b[0;36m<module>\u001b[0;34m()\u001b[0m\n\u001b[0;32m----> 1\u001b[0;31m \u001b[0meval_sklearn\u001b[0m\u001b[0;34m(\u001b[0m\u001b[0my_test\u001b[0m\u001b[0;34m,\u001b[0m \u001b[0mpredicted_KN\u001b[0m\u001b[0;34m)\u001b[0m\u001b[0;34m\u001b[0m\u001b[0;34m\u001b[0m\u001b[0m\n\u001b[0m",
            "\u001b[0;32m<ipython-input-32-ac314eab2ac3>\u001b[0m in \u001b[0;36meval_sklearn\u001b[0;34m(true, predicted, categories, visual)\u001b[0m\n\u001b[1;32m     18\u001b[0m         \u001b[0max1\u001b[0m\u001b[0;34m.\u001b[0m\u001b[0mset_ylabel\u001b[0m\u001b[0;34m(\u001b[0m\u001b[0;34m'True Positive Rate'\u001b[0m\u001b[0;34m)\u001b[0m\u001b[0;34m\u001b[0m\u001b[0;34m\u001b[0m\u001b[0m\n\u001b[1;32m     19\u001b[0m         \u001b[0max1\u001b[0m\u001b[0;34m.\u001b[0m\u001b[0mlegend\u001b[0m\u001b[0;34m(\u001b[0m\u001b[0;34m)\u001b[0m\u001b[0;34m\u001b[0m\u001b[0;34m\u001b[0m\u001b[0m\n\u001b[0;32m---> 20\u001b[0;31m         \u001b[0msns\u001b[0m\u001b[0;34m.\u001b[0m\u001b[0mheatmap\u001b[0m\u001b[0;34m(\u001b[0m\u001b[0mdata\u001b[0m\u001b[0;34m=\u001b[0m\u001b[0mconfusion_matrix\u001b[0m\u001b[0;34m(\u001b[0m\u001b[0my_test\u001b[0m\u001b[0;34m,\u001b[0m \u001b[0mlogreg_preds\u001b[0m\u001b[0;34m)\u001b[0m\u001b[0;34m,\u001b[0m \u001b[0mannot\u001b[0m\u001b[0;34m=\u001b[0m\u001b[0;32mTrue\u001b[0m\u001b[0;34m,\u001b[0m \u001b[0mfmt\u001b[0m\u001b[0;34m=\u001b[0m\u001b[0;34m\"d\"\u001b[0m\u001b[0;34m,\u001b[0m \u001b[0mcbar\u001b[0m\u001b[0;34m=\u001b[0m\u001b[0;32mFalse\u001b[0m\u001b[0;34m,\u001b[0m \u001b[0mxticklabels\u001b[0m\u001b[0;34m=\u001b[0m\u001b[0mcategories\u001b[0m\u001b[0;34m,\u001b[0m \u001b[0myticklabels\u001b[0m\u001b[0;34m=\u001b[0m\u001b[0mcategories\u001b[0m\u001b[0;34m)\u001b[0m\u001b[0;34m\u001b[0m\u001b[0;34m\u001b[0m\u001b[0m\n\u001b[0m\u001b[1;32m     21\u001b[0m         \u001b[0max2\u001b[0m\u001b[0;34m.\u001b[0m\u001b[0mset_title\u001b[0m\u001b[0;34m(\u001b[0m\u001b[0;34m\"Confusion matrix\"\u001b[0m\u001b[0;34m)\u001b[0m\u001b[0;34m\u001b[0m\u001b[0;34m\u001b[0m\u001b[0m\n\u001b[1;32m     22\u001b[0m         \u001b[0mplt\u001b[0m\u001b[0;34m.\u001b[0m\u001b[0mshow\u001b[0m\u001b[0;34m(\u001b[0m\u001b[0;34m)\u001b[0m\u001b[0;34m\u001b[0m\u001b[0;34m\u001b[0m\u001b[0m\n",
            "\u001b[0;31mNameError\u001b[0m: name 'confusion_matrix' is not defined"
          ]
        },
        {
          "output_type": "display_data",
          "data": {
            "image/png": "[encoded data removed]",
            "text/plain": [
              "<Figure size 720x360 with 2 Axes>"
            ]
          },
          "metadata": {
            "tags": []
          }
        }
      ]
    },
    {
      "cell_type": "code",
      "metadata": {
        "id": "UQJptNCCf72H",
        "colab_type": "code",
        "colab": {}
      },
      "source": [
        "\n",
        "y_true = np.array([0, 1, 1, 1, 0])\n",
        "y_predicted = np.array([0.1, 0.7, 0.4, 0.2, 0.27])\n",
        "fpr, tpr, _ = roc_curve(y_true, y_predicted)\n",
        "pyplot.plot(fpr, tpr, marker='.', label='Test')\n",
        "# axis labels\n",
        "pyplot.xlabel('False Positive Rate')\n",
        "pyplot.ylabel('True Positive Rate')\n",
        "# show the legend\n",
        "pyplot.legend()\n",
        "# show the plot\n",
        "pyplot.show()"
      ],
      "execution_count": 0,
      "outputs": []
    },
    {
      "cell_type": "code",
      "metadata": {
        "id": "j85fyBVOgQgg",
        "colab_type": "code",
        "colab": {}
      },
      "source": [
        "from sklearn.datasets import fetch_20newsgroups\n",
        "data.target_names"
      ],
      "execution_count": 0,
      "outputs": []
    },
    {
      "cell_type": "code",
      "metadata": {
        "id": "Fd9eRmjSFIB6",
        "colab_type": "code",
        "colab": {}
      },
      "source": [
        ""
      ],
      "execution_count": 0,
      "outputs": []
    },
    {
      "cell_type": "code",
      "metadata": {
        "id": "HWJ04bXY1J25",
        "colab_type": "code",
        "colab": {}
      },
      "source": [
        "def eval_sklearn(true, predicted, categories = ['neg', 'pos'], visual=True):\n",
        "    acc = accuracy_score(true, predicted)\n",
        "    micro_p = precision_score(true, predicted, average = 'micro')\n",
        "    macro_p = precision_score(true, predicted, average = 'macro')\n",
        "    weighted_p = precision_score(true, predicted, average = 'weighted')\n",
        "    micro_r = recall_score(true, predicted, average = 'micro')\n",
        "    macro_r = recall_score(true, predicted, average = 'macro')\n",
        "    weighted_r = recall_score(true, predicted, average = 'weighted')\n",
        "    micro_f1 = f1_score(true, predicted, average = 'micro')\n",
        "    macro_f1 = f1_score(true, predicted, average = 'macro')\n",
        "    weighted_f1 = f1_score(true, predicted, average = 'weighted')\n",
        "    fpr, tpr, _ = roc_curve(true, predicted)\n",
        "    roc_auc = roc_auc_score(true, predicted)\n",
        "    if visual:\n",
        "        fig, (ax1, ax2) = plt.subplots(nrows=1, ncols=2, figsize=(10, 5))\n",
        "        ax1.plot(fpr, tpr, marker='.', label='Test')\n",
        "        ax1.set_xlabel('False Positive Rate')\n",
        "        ax1.set_ylabel('True Positive Rate')\n",
        "        ax1.legend()\n",
        "        sns.heatmap(data=confusion_matrix(y_test, logreg_preds), annot=True, fmt=\"d\", cbar=False, xticklabels=categories, yticklabels=categories)\n",
        "        ax2.set_title(\"Confusion matrix\")\n",
        "        plt.show()\n",
        "\n",
        "    print(''' \n",
        "ROC AUC:\\t{:.3f}\n",
        "Accuracy:\\t{:.3f}\n",
        "\\t\\tMicro\\tMacro\\tWeighted\n",
        "Precision:\\t{:.3f}\\t{:.3f}\\t{:.3f}\n",
        "Recall:\\t\\t{:.3f}\\t{:.3f}\\t{:.3f}\n",
        "F-measure:\\t{:.3f}\\t{:.3f}\\t{:.3f}\n",
        "'''.format(roc_auc, acc, micro_p, macro_p, weighted_p, micro_r, macro_r, weighted_r, micro_f1, macro_f1, weighted_f1))"
      ],
      "execution_count": 0,
      "outputs": []
    },
    {
      "cell_type": "markdown",
      "metadata": {
        "id": "XWPVqlhYFJDR",
        "colab_type": "text"
      },
      "source": [
        "## **Логистическая регрессия**"
      ]
    },
    {
      "cell_type": "code",
      "metadata": {
        "id": "jayjHr5FFaqA",
        "colab_type": "code",
        "colab": {
          "base_uri": "https://localhost:8080/",
          "height": 104
        },
        "outputId": "d666dce7-227f-41c7-8fbc-95c30f250352"
      },
      "source": [
        "logreg = LogisticRegression()\n",
        "logreg.fit(x_train, y_train)"
      ],
      "execution_count": 27,
      "outputs": [
        {
          "output_type": "execute_result",
          "data": {
            "text/plain": [
              "LogisticRegression(C=1.0, class_weight=None, dual=False, fit_intercept=True,\n",
              "                   intercept_scaling=1, l1_ratio=None, max_iter=100,\n",
              "                   multi_class='auto', n_jobs=None, penalty='l2',\n",
              "                   random_state=None, solver='lbfgs', tol=0.0001, verbose=0,\n",
              "                   warm_start=False)"
            ]
          },
          "metadata": {
            "tags": []
          },
          "execution_count": 27
        }
      ]
    },
    {
      "cell_type": "code",
      "metadata": {
        "id": "2D4dmkGLGQrs",
        "colab_type": "code",
        "colab": {
          "base_uri": "https://localhost:8080/",
          "height": 988
        },
        "outputId": "53e19d12-c962-47ed-9c0d-c952c35f43ed"
      },
      "source": [
        "logreg_preds = logreg.predict(x_test)\n",
        "print(y_test.values)\n",
        "print(logreg_preds)"
      ],
      "execution_count": 28,
      "outputs": [
        {
          "output_type": "stream",
          "text": [
            "[0 0 1 0 1 1 0 1 1 0 0 0 1 0 1 1 1 1 1 0 0 1 1 1 0 0 0 0 1 1 0 1 1 0 0 0 0\n",
            " 1 0 0 1 1 0 0 0 1 0 0 1 0 0 0 1 0 1 0 1 0 1 1 0 0 1 0 1 0 0 0 1 0 1 1 0 1\n",
            " 1 1 0 0 1 1 0 1 0 0 1 1 1 1 0 1 0 0 0 1 1 0 0 0 0 0 0 1 0 1 0 1 0 0 0 1 1\n",
            " 1 0 0 1 1 1 0 0 1 1 0 0 1 1 0 1 1 0 0 1 0 1 0 1 1 1 1 0 1 1 1 1 1 0 0 0 1\n",
            " 1 0 0 0 0 1 0 0 0 1 0 0 1 0 0 1 0 0 1 0 1 0 0 1 1 1 1 0 1 0 1 1 1 1 1 0 1\n",
            " 0 1 0 1 1 0 0 1 1 1 0 0 1 0 0 1 1 0 0 0 1 0 0 1 1 0 1 0 1 0 1 1 0 1 1 1 1\n",
            " 0 0 0 1 0 1 0 0 0 1 1 1 1 0 0 0 0 0 0 0 1 0 1 0 1 1 0 1 0 0 1 1 0 1 0 1 0\n",
            " 1 0 1 1 1 1 0 0 0 0 0 0 0 0 0 1 1 1 0 0 0 1 1 1 0 0 1 1 0 1 0 1 1 0 0 1 1\n",
            " 1 0 0 0 0 0 0 0 0 1 1 0 1 0 0 1 1 0 1 1 0 1 1 0 1 1 1 1 1 0 0 0 1 0 0 0 1\n",
            " 1 1 1 1 0 0 0 0 1 0 1 1 0 0 1 0 1 1 1 0 1 1 0 1 1 1 1 0 0 1 1 0 0 1 1 0 0\n",
            " 1 1 1 0 1 1 1 1 1 0 0 0 1 1 0 0 1 1 0 1 0 1 0 0 1 0 1 1 1 1 1 1 1 0 0 0 1\n",
            " 0 0 0 0 0 1 0 0 1 1 1 0 1 1 0 0 1 0 0 0 0 1 0 0 1 1 0 0 1 1 0 1 0 0 0 0 0\n",
            " 1 1 0 1 0 0 1 1 0 1 1 0 1 0 0 1 0 1 0 0 1 0 1 0 0 1 0 0 0 0 0 1 0 0 1 0 1\n",
            " 0 1 0 1 0 0 0 0 0 0 0 1 1 1 0 1 1 0 0 1 1 1 1 1 0 1 1 0 1 1 1 1 0 0 0 0 0\n",
            " 0 1 1 0 1 1 1 0 1 0 1 1 1 0 1 0 0 1 1 1 0 0 1 0 1 1 0 0 1 0 1 0 1 1 1 0 0\n",
            " 0 0 1 0 1 1 1 0 1 0 0 0 0 1 0 1 0 1 1 1 0 1 1 1 0 1 1 0 0 0 1 0 0 0 0 0 0\n",
            " 1 0 1 0 0 0 1 1 0 0 1 0 1 0 1 1 1 1 0 0 0 1 0 1 0 0 1 1 1 1 1 1 0 0 1 1 0\n",
            " 0 1 0 1 0 0 0 1 0 0 1 1 0 1 0 0 0 1 0 1 0 0 1 1 1 1 0 1 0 0 1 1 1 0 1 1 0\n",
            " 1 1 1 1 0 0 0 1 1 1 1 1 1 0 0 0 1 1 1 1 1 0 0 0 1 1 0 0 1 0 1 0 1 1 1 1 1\n",
            " 1 0 1 1 0 1 1 0 1 1 1 0 1 0 0 1 1 0 1 0 0 0 1 1 0 1 1 1 0 0 0 0 0 1 1 1 1\n",
            " 0 0 0 0 1 1 1 0 1 1 1 0 1 1 1 0 1 1 0 1 1 1 1 0 0 0 1 1 0 1 0 1 1 1 0 0 0\n",
            " 1 1 1 1 0 0 0 1 1 0 0 1 0 0 1 1 0 1 1 1 0 1 1 0 1 1 0 1 1 1 1 1 0 1 0 1 1\n",
            " 0 0 1 1 0 1 1 0 0 1 1 1 1 0 1 0 0 1 0 1 0 0 0 1 1 0 0 1 0 0 0 0 1 0 1 0 0\n",
            " 1 0 0 1 1 0 1 0 1 0 0 0 0 1 1 0 1 0 0 0 0 0 1 1 0 0 1 1 0 1 0 1 1 0 0 1 1\n",
            " 1 1 1 1 0 1 1 0 0 1 1 0 0 1 0 0 1 1 0 0 0 1 1 0 1 0 0 0 1 1 1 1 1 1 1 0 1\n",
            " 1 0 1 1 0 1 0 1 1 0 0 1 1 1 0 1 0 1 1 1 1 0 0 1 0 0 1 1 1 0 1 0 1 0 0 0 0\n",
            " 0 0 1 1 1 1 0 0 1 0 1 0 0 1 0 1 1 1 1 0 1 0 1 0 0 0 0 0 1 1 1 1 0 1 0 1 0\n",
            " 0]\n",
            "[0 0 1 1 1 1 0 0 0 0 0 0 1 0 1 1 0 0 0 0 0 1 1 1 1 0 0 0 1 0 1 1 1 0 0 0 1\n",
            " 1 0 0 1 1 1 0 0 1 0 0 1 1 0 1 1 0 0 0 0 0 1 1 0 0 0 1 1 0 0 0 1 0 0 1 0 1\n",
            " 1 1 0 0 1 1 0 1 1 0 1 1 1 1 0 1 1 0 0 1 1 0 0 0 0 0 0 1 0 1 0 1 0 0 0 1 0\n",
            " 1 0 1 1 0 1 0 0 1 1 0 1 1 1 0 1 1 0 0 1 0 1 1 1 0 1 1 0 0 1 0 1 1 0 0 0 1\n",
            " 1 0 0 0 1 0 0 0 0 1 0 0 1 0 0 1 0 0 1 0 0 0 0 1 0 1 1 0 0 1 1 1 0 0 1 1 1\n",
            " 0 1 0 1 1 0 0 1 0 1 0 1 1 0 0 0 1 0 0 0 1 0 1 1 1 0 0 0 1 1 1 1 1 1 1 1 1\n",
            " 1 1 1 1 0 1 0 0 0 1 0 1 1 0 0 0 1 0 1 1 1 0 0 0 0 1 0 1 0 0 1 0 0 1 0 1 0\n",
            " 1 0 1 1 0 0 0 0 0 0 0 0 0 0 1 1 1 1 1 0 0 1 1 1 0 0 1 1 0 1 0 0 0 0 1 0 0\n",
            " 1 0 0 0 0 0 0 0 0 1 1 1 1 1 0 1 1 1 1 1 1 1 1 0 1 1 1 1 1 1 0 0 1 0 0 0 1\n",
            " 1 1 1 0 0 0 0 0 0 0 1 1 0 0 1 0 1 1 1 0 1 0 0 1 0 1 0 0 1 1 1 0 1 1 1 0 0\n",
            " 1 1 0 0 1 1 1 1 0 0 1 0 1 1 0 0 1 0 1 1 0 1 0 0 1 0 1 1 1 1 1 1 1 0 0 0 1\n",
            " 0 0 0 0 1 0 0 0 1 1 1 0 0 1 1 0 1 0 1 0 0 1 1 0 1 1 0 1 0 1 0 0 0 0 0 0 0\n",
            " 1 1 0 0 0 0 1 1 0 1 1 0 1 0 0 1 1 1 0 0 1 0 1 0 0 1 1 1 1 0 1 1 0 0 0 1 1\n",
            " 0 1 1 1 0 0 0 1 0 1 0 0 1 0 0 1 0 0 0 1 1 1 0 1 0 1 1 0 1 0 1 1 1 1 0 1 0\n",
            " 0 1 1 0 1 1 1 0 1 0 1 0 0 1 0 1 0 1 1 1 0 0 1 1 1 1 0 0 1 0 1 0 1 1 1 0 1\n",
            " 0 0 1 0 0 1 1 0 1 0 1 1 0 1 0 1 0 1 0 1 0 1 0 1 0 1 1 0 0 0 1 0 0 0 0 0 0\n",
            " 1 0 1 0 0 0 1 1 0 1 1 0 1 0 0 1 1 0 1 0 0 1 1 1 0 0 1 1 1 1 1 1 1 0 1 1 0\n",
            " 0 1 1 1 0 1 0 1 0 0 1 1 1 1 0 0 0 1 0 1 1 0 1 1 1 0 0 1 1 1 1 0 1 1 1 1 1\n",
            " 1 1 1 1 0 1 1 1 1 1 1 1 1 0 0 0 1 0 1 1 1 1 1 0 0 1 0 0 1 0 1 0 1 1 1 1 0\n",
            " 1 0 1 1 1 1 1 0 1 0 1 1 1 0 0 1 1 1 1 1 0 1 1 1 0 1 0 1 0 0 0 0 0 1 1 1 1\n",
            " 1 0 0 0 1 1 1 0 1 1 1 0 1 1 1 0 1 1 0 1 0 1 1 0 0 0 1 1 0 0 0 1 1 1 0 0 0\n",
            " 1 1 1 1 0 1 1 1 0 0 0 1 1 0 1 1 0 1 1 1 0 1 0 0 1 1 0 1 1 1 0 1 0 1 0 1 1\n",
            " 1 0 0 1 0 1 1 0 0 1 1 1 1 0 0 0 0 1 0 1 0 0 1 1 1 0 0 1 0 0 1 0 0 1 1 0 0\n",
            " 1 0 1 1 1 0 1 0 0 0 1 0 0 1 1 0 1 0 0 0 0 1 1 1 1 1 1 1 0 1 0 1 1 1 0 1 1\n",
            " 1 1 1 1 1 1 1 0 0 1 1 0 1 1 0 1 0 0 0 1 0 1 1 1 0 1 0 0 1 0 1 1 1 1 1 0 1\n",
            " 1 0 1 1 0 1 1 1 1 0 0 1 1 1 0 1 0 1 1 0 1 0 0 1 1 1 1 0 0 0 1 0 0 0 0 0 0\n",
            " 1 0 1 1 1 1 0 0 1 1 1 0 0 1 1 1 1 1 1 0 1 0 1 1 1 1 1 0 1 1 1 1 1 1 0 1 0\n",
            " 1]\n"
          ],
          "name": "stdout"
        }
      ]
    },
    {
      "cell_type": "code",
      "metadata": {
        "id": "6-wbVCdHGlt-",
        "colab_type": "code",
        "colab": {
          "base_uri": "https://localhost:8080/",
          "height": 287
        },
        "outputId": "95d2a0c0-ce1b-4d5e-b813-0af586437ec3"
      },
      "source": [
        "eval_sklearn(y_test, logreg_preds)"
      ],
      "execution_count": 31,
      "outputs": [
        {
          "output_type": "error",
          "ename": "NameError",
          "evalue": "ignored",
          "traceback": [
            "\u001b[0;31m---------------------------------------------------------------------------\u001b[0m",
            "\u001b[0;31mNameError\u001b[0m                                 Traceback (most recent call last)",
            "\u001b[0;32m<ipython-input-31-0ff26d790556>\u001b[0m in \u001b[0;36m<module>\u001b[0;34m()\u001b[0m\n\u001b[0;32m----> 1\u001b[0;31m \u001b[0meval_sklearn\u001b[0m\u001b[0;34m(\u001b[0m\u001b[0my_test\u001b[0m\u001b[0;34m,\u001b[0m \u001b[0mlogreg_preds\u001b[0m\u001b[0;34m)\u001b[0m\u001b[0;34m\u001b[0m\u001b[0;34m\u001b[0m\u001b[0m\n\u001b[0m",
            "\u001b[0;32m<ipython-input-30-ac314eab2ac3>\u001b[0m in \u001b[0;36meval_sklearn\u001b[0;34m(true, predicted, categories, visual)\u001b[0m\n\u001b[1;32m      1\u001b[0m \u001b[0;32mdef\u001b[0m \u001b[0meval_sklearn\u001b[0m\u001b[0;34m(\u001b[0m\u001b[0mtrue\u001b[0m\u001b[0;34m,\u001b[0m \u001b[0mpredicted\u001b[0m\u001b[0;34m,\u001b[0m \u001b[0mcategories\u001b[0m \u001b[0;34m=\u001b[0m \u001b[0;34m[\u001b[0m\u001b[0;34m'neg'\u001b[0m\u001b[0;34m,\u001b[0m \u001b[0;34m'pos'\u001b[0m\u001b[0;34m]\u001b[0m\u001b[0;34m,\u001b[0m \u001b[0mvisual\u001b[0m\u001b[0;34m=\u001b[0m\u001b[0;32mTrue\u001b[0m\u001b[0;34m)\u001b[0m\u001b[0;34m:\u001b[0m\u001b[0;34m\u001b[0m\u001b[0;34m\u001b[0m\u001b[0m\n\u001b[0;32m----> 2\u001b[0;31m     \u001b[0macc\u001b[0m \u001b[0;34m=\u001b[0m \u001b[0maccuracy_score\u001b[0m\u001b[0;34m(\u001b[0m\u001b[0mtrue\u001b[0m\u001b[0;34m,\u001b[0m \u001b[0mpredicted\u001b[0m\u001b[0;34m)\u001b[0m\u001b[0;34m\u001b[0m\u001b[0;34m\u001b[0m\u001b[0m\n\u001b[0m\u001b[1;32m      3\u001b[0m     \u001b[0mmicro_p\u001b[0m \u001b[0;34m=\u001b[0m \u001b[0mprecision_score\u001b[0m\u001b[0;34m(\u001b[0m\u001b[0mtrue\u001b[0m\u001b[0;34m,\u001b[0m \u001b[0mpredicted\u001b[0m\u001b[0;34m,\u001b[0m \u001b[0maverage\u001b[0m \u001b[0;34m=\u001b[0m \u001b[0;34m'micro'\u001b[0m\u001b[0;34m)\u001b[0m\u001b[0;34m\u001b[0m\u001b[0;34m\u001b[0m\u001b[0m\n\u001b[1;32m      4\u001b[0m     \u001b[0mmacro_p\u001b[0m \u001b[0;34m=\u001b[0m \u001b[0mprecision_score\u001b[0m\u001b[0;34m(\u001b[0m\u001b[0mtrue\u001b[0m\u001b[0;34m,\u001b[0m \u001b[0mpredicted\u001b[0m\u001b[0;34m,\u001b[0m \u001b[0maverage\u001b[0m \u001b[0;34m=\u001b[0m \u001b[0;34m'macro'\u001b[0m\u001b[0;34m)\u001b[0m\u001b[0;34m\u001b[0m\u001b[0;34m\u001b[0m\u001b[0m\n\u001b[1;32m      5\u001b[0m     \u001b[0mweighted_p\u001b[0m \u001b[0;34m=\u001b[0m \u001b[0mprecision_score\u001b[0m\u001b[0;34m(\u001b[0m\u001b[0mtrue\u001b[0m\u001b[0;34m,\u001b[0m \u001b[0mpredicted\u001b[0m\u001b[0;34m,\u001b[0m \u001b[0maverage\u001b[0m \u001b[0;34m=\u001b[0m \u001b[0;34m'weighted'\u001b[0m\u001b[0;34m)\u001b[0m\u001b[0;34m\u001b[0m\u001b[0;34m\u001b[0m\u001b[0m\n",
            "\u001b[0;31mNameError\u001b[0m: name 'accuracy_score' is not defined"
          ]
        }
      ]
    }
  ]
}