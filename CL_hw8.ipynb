{
  "nbformat": 4,
  "nbformat_minor": 0,
  "metadata": {
    "colab": {
      "name": "CL_hw8.ipynb",
      "provenance": [],
      "authorship_tag": "ABX9TyOnImag41Tb+qFMCxg1Qj5m",
      "include_colab_link": true
    },
    "kernelspec": {
      "name": "python3",
      "display_name": "Python 3"
    }
  },
  "cells": [
    {
      "cell_type": "markdown",
      "metadata": {
        "id": "view-in-github",
        "colab_type": "text"
      },
      "source": [
        "<a href=\"https://colab.research.google.com/github/lnpetrova/comp_ling/blob/master/CL_hw8.ipynb\" target=\"_parent\"><img src=\"https://colab.research.google.com/assets/colab-badge.svg\" alt=\"Open In Colab\"/></a>"
      ]
    },
    {
      "cell_type": "code",
      "metadata": {
        "id": "Kpfi8VOpUuDn",
        "colab_type": "code",
        "colab": {
          "base_uri": "https://localhost:8080/",
          "height": 124
        },
        "outputId": "0430955f-6d3d-493e-a509-16cc18d8fc20"
      },
      "source": [
        "!pip install pymorphy2[fast]"
      ],
      "execution_count": 2,
      "outputs": [
        {
          "output_type": "stream",
          "text": [
            "Requirement already satisfied: pymorphy2[fast] in /usr/local/lib/python3.6/dist-packages (0.8)\n",
            "Requirement already satisfied: docopt>=0.6 in /usr/local/lib/python3.6/dist-packages (from pymorphy2[fast]) (0.6.2)\n",
            "Requirement already satisfied: dawg-python>=0.7 in /usr/local/lib/python3.6/dist-packages (from pymorphy2[fast]) (0.7.2)\n",
            "Requirement already satisfied: pymorphy2-dicts<3.0,>=2.4 in /usr/local/lib/python3.6/dist-packages (from pymorphy2[fast]) (2.4.393442.3710985)\n",
            "Requirement already satisfied: DAWG>=0.7.3; extra == \"fast\" in /usr/local/lib/python3.6/dist-packages (from pymorphy2[fast]) (0.8.0)\n"
          ],
          "name": "stdout"
        }
      ]
    },
    {
      "cell_type": "code",
      "metadata": {
        "id": "Xu5aN6vgUwar",
        "colab_type": "code",
        "colab": {
          "base_uri": "https://localhost:8080/",
          "height": 52
        },
        "outputId": "ecee4073-35d2-4dc0-fe98-50be654ecdfd"
      },
      "source": [
        "import json, os\n",
        "import pandas as pd\n",
        "from nltk.corpus import stopwords\n",
        "import nltk\n",
        "nltk.download('stopwords')\n",
        "import numpy as np\n",
        "from pymorphy2 import MorphAnalyzer\n",
        "from collections import Counter\n",
        "from sklearn.feature_extraction.text import TfidfVectorizer\n",
        "morph = MorphAnalyzer()\n",
        "stops = set(stopwords.words('russian'))"
      ],
      "execution_count": 3,
      "outputs": [
        {
          "output_type": "stream",
          "text": [
            "[nltk_data] Downloading package stopwords to /root/nltk_data...\n",
            "[nltk_data]   Package stopwords is already up-to-date!\n"
          ],
          "name": "stdout"
        }
      ]
    },
    {
      "cell_type": "code",
      "metadata": {
        "id": "22K6TQDjUzJC",
        "colab_type": "code",
        "colab": {
          "resources": {
            "http://localhost:8080/nbextensions/google.colab/files.js": {
              "data": "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",
              "ok": true,
              "headers": [
                [
                  "content-type",
                  "application/javascript"
                ]
              ],
              "status": 200,
              "status_text": ""
            }
          },
          "base_uri": "https://localhost:8080/",
          "height": 73
        },
        "outputId": "4a427cb2-9d72-4361-b92a-2f01835103d6"
      },
      "source": [
        "from google.colab import files\n",
        "uploaded = files.upload()"
      ],
      "execution_count": 3,
      "outputs": [
        {
          "output_type": "display_data",
          "data": {
            "text/html": [
              "\n",
              "     <input type=\"file\" id=\"files-29085e8f-45ae-426b-995c-4820d19acdb7\" name=\"files[]\" multiple disabled\n",
              "        style=\"border:none\" />\n",
              "     <output id=\"result-29085e8f-45ae-426b-995c-4820d19acdb7\">\n",
              "      Upload widget is only available when the cell has been executed in the\n",
              "      current browser session. Please rerun this cell to enable.\n",
              "      </output>\n",
              "      <script src=\"/nbextensions/google.colab/files.js\"></script> "
            ],
            "text/plain": [
              "<IPython.core.display.HTML object>"
            ]
          },
          "metadata": {
            "tags": []
          }
        },
        {
          "output_type": "stream",
          "text": [
            "Saving hw8_data.zip to hw8_data.zip\n"
          ],
          "name": "stdout"
        }
      ]
    },
    {
      "cell_type": "code",
      "metadata": {
        "id": "fGhbnLyXU-6a",
        "colab_type": "code",
        "colab": {
          "base_uri": "https://localhost:8080/",
          "height": 381
        },
        "outputId": "3dd653a8-179f-46c1-92dc-64d859c1d6b6"
      },
      "source": [
        "!unzip hw8_data.zip"
      ],
      "execution_count": 4,
      "outputs": [
        {
          "output_type": "stream",
          "text": [
            "Archive:  hw8_data.zip\n",
            "   creating: hw8_data/\n",
            "  inflating: hw8_data/russia_today_7.jsonlines  \n",
            "  inflating: hw8_data/russia_today_6.jsonlines  \n",
            "  inflating: hw8_data/russia_today_5.jsonlines  \n",
            "  inflating: hw8_data/russia_today_4.jsonlines  \n",
            "  inflating: hw8_data/russia_today_3.jsonlines  \n",
            "  inflating: hw8_data/russia_today_2.jsonlines  \n",
            "  inflating: hw8_data/russia_today_1.jsonlines  \n",
            "  inflating: hw8_data/russia_today_0.jsonlines  \n",
            "  inflating: hw8_data/ng_1.jsonlines  \n",
            "  inflating: hw8_data/ng_0.jsonlines  \n",
            "  inflating: hw8_data/habrahabr_3.jsonlines  \n",
            "  inflating: hw8_data/habrahabr_2.jsonlines  \n",
            "  inflating: hw8_data/habrahabr_1.jsonlines  \n",
            "  inflating: hw8_data/habrahabr_0.jsonlines  \n",
            "  inflating: hw8_data/cyberleninka_4.jsonlines  \n",
            "  inflating: hw8_data/cyberleninka_3.jsonlines  \n",
            "  inflating: hw8_data/cyberleninka_2.jsonlines  \n",
            "  inflating: hw8_data/cyberleninka_1.jsonlines  \n",
            "  inflating: hw8_data/cyberleninka_0.jsonlines  \n"
          ],
          "name": "stdout"
        }
      ]
    },
    {
      "cell_type": "code",
      "metadata": {
        "id": "uZRG0mVlU_jh",
        "colab_type": "code",
        "colab": {}
      },
      "source": [
        "files = [os.path.join('hw8_data/.', file) for file in os.listdir('hw8_data/.')]"
      ],
      "execution_count": 4,
      "outputs": []
    },
    {
      "cell_type": "code",
      "metadata": {
        "id": "VR41V04tVEDs",
        "colab_type": "code",
        "colab": {}
      },
      "source": [
        "pd.set_option('display.max_colwidth', 1000)"
      ],
      "execution_count": 5,
      "outputs": []
    },
    {
      "cell_type": "code",
      "metadata": {
        "id": "LrMv1lbaVGQ9",
        "colab_type": "code",
        "colab": {}
      },
      "source": [
        "data = pd.concat([pd.read_json(file, lines=True) for file in files][:5], axis=0, ignore_index=True)"
      ],
      "execution_count": 6,
      "outputs": []
    },
    {
      "cell_type": "code",
      "metadata": {
        "id": "n1fwIjmcVI3R",
        "colab_type": "code",
        "colab": {
          "base_uri": "https://localhost:8080/",
          "height": 35
        },
        "outputId": "3ac84e07-6e3d-4268-a11e-3fc3f99d2d8a"
      },
      "source": [
        "data.shape"
      ],
      "execution_count": 7,
      "outputs": [
        {
          "output_type": "execute_result",
          "data": {
            "text/plain": [
              "(4988, 6)"
            ]
          },
          "metadata": {
            "tags": []
          },
          "execution_count": 7
        }
      ]
    },
    {
      "cell_type": "code",
      "metadata": {
        "id": "PMsuc1cUVJhg",
        "colab_type": "code",
        "colab": {
          "base_uri": "https://localhost:8080/",
          "height": 1000
        },
        "outputId": "9e4185f7-9a57-43cf-b61b-3a0b3558fc3e"
      },
      "source": [
        "data.head(5)"
      ],
      "execution_count": 10,
      "outputs": [
        {
          "output_type": "execute_result",
          "data": {
            "text/html": [
              "<div>\n",
              "<style scoped>\n",
              "    .dataframe tbody tr th:only-of-type {\n",
              "        vertical-align: middle;\n",
              "    }\n",
              "\n",
              "    .dataframe tbody tr th {\n",
              "        vertical-align: top;\n",
              "    }\n",
              "\n",
              "    .dataframe thead th {\n",
              "        text-align: right;\n",
              "    }\n",
              "</style>\n",
              "<table border=\"1\" class=\"dataframe\">\n",
              "  <thead>\n",
              "    <tr style=\"text-align: right;\">\n",
              "      <th></th>\n",
              "      <th>keywords</th>\n",
              "      <th>title</th>\n",
              "      <th>summary</th>\n",
              "      <th>url</th>\n",
              "      <th>content</th>\n",
              "      <th>abstract</th>\n",
              "    </tr>\n",
              "  </thead>\n",
              "  <tbody>\n",
              "    <tr>\n",
              "      <th>0</th>\n",
              "      <td>[ангела меркель, владимир путин, днр, джон маккейн, дмитрий песков, дональд трамп, донбасс, донецк, киев, лнр, луганск, обсе, переговоры в минске, пётр порошенко, сша, украина, украина]</td>\n",
              "      <td>Сила от бессилия: что стоит за обострением конфликта в Донбассе</td>\n",
              "      <td>Президент Украины Пётр Порошенко прервал визит в Германию из-за обстрелов в Авдеевке. Об этом сообщил его пресс-секретарь Святослав Цеголко. Ранее украинский лидер отправился с визитом в Германию на фоне беспрецедентного обострения конфликта в Донбассе, где только за последние сутки ВСУ около двух тысяч раз нарушили режим прекращения огня. По какой причине происходит эскалация конфликта, почему молчит миссия ОБСЕ и откуда ждать помощи Донбассу — в материале RT.</td>\n",
              "      <td>https://russian.rt.com/ussr/article/354753-donbass-obostrenie-prichiny</td>\n",
              "      <td>Канцлер Германии Ангела Меркель в ходе брифинга в преддверии переговоров с украинским президентом заявила, что на востоке Украины не действует режим прекращения огня.\\n«Опять узнали, что режима прекращения огня фактически не существует, что снова гибнут солдаты. Ситуация на линии разграничения вызывает беспокойство», — отметила Меркель.\\nСам Порошенко заявил, что Украина остаётся преданной минским договорённостям, и призвал страны Запада к продлению и усилению антироссийских санкций, если не будет достигнут прогресс в реализации Минских соглашений по Донбассу.\\n Reuters \\nЭти заявления звучат по меньшей мере странно на фоне того, что последние несколько дней происходит беспрецедентное обострение обстановки в Донбассе, о чём сам же Порошенко не преминул сообщить председателю бундестага Норберту Ламмерту.\\n«Они пришли учиться, а не страдать от обстрелов»\\nЗаместитель начальника управления народной милиции ДНР, полковник Эдуард Басурин во время брифингов сообщил, что за последние трое...</td>\n",
              "      <td>NaN</td>\n",
              "    </tr>\n",
              "    <tr>\n",
              "      <th>1</th>\n",
              "      <td>[авиаудары, авиация, армия, белоруссия, боевики, вкс россии, военная техника, военнослужащие, диверсия, оборона, россия, союзники, терроризм, учения, армия]</td>\n",
              "      <td>Завершающий удар: войска Союзного государства начали второй этап учений «Запад-2017»</td>\n",
              "      <td>Минобороны РФ объявило о начале второго этапа российско-белорусских стратегических учений «Запад-2017». На первом этапе, который прошёл с 14 по 16 сентября, военнослужащие Союзного государства отразили нападение условного противника и взяли под защиту ключевые объекты инфраструктуры. Второй этап предполагает окружение диверсионных групп и их последующее уничтожение. О том, чем успели запомниться стратегические учения, — в материале RT.</td>\n",
              "      <td>https://russian.rt.com/russia/article/431010-ucheniya-zapad-rossiya-belorussiya</td>\n",
              "      <td>Российские и белорусские войска успешно завершили первый этап стратегических учений «Запад-2017». 17 сентября военнослужащие двух стран приступили к выполнению задач в рамках второго этапа. Условные боевые действия развернутся на полигоне Лужский (Ленинградская область), на полигоне Борисовский (Белоруссия), а также в акватории Балтийского моря.\\n Также по теме \\n Запад против «Запада»: почему страны НАТО опасаются российско-белорусских учений \\n Российские и белорусские военнослужащие начали стратегические учения «Запад-2017». Согласно сценарию войска Союзного государства... \\nКак уточняет Минобороны, «силами региональной группировки будут проведены розыгрыши практических действий по ведению манёвренной обороны, переходу к наступательным действиям и завершению разгрома противника». Основная часть учений пройдёт 18 и 20 сентября.\\n16 сентября белорусское командование и органы военного управления региональной группировки войск приступили к планированию совместной операции по блокиро...</td>\n",
              "      <td>NaN</td>\n",
              "    </tr>\n",
              "    <tr>\n",
              "      <th>2</th>\n",
              "      <td>[англия, артём дзюба, бразилия, бундеслига, в россии, георгий джикия, германия, испания, италия, нигерия, пфк цска, примера, рфпл, россия, россияне, севилья, сербия, серия а, спорт, спортсмен, трансферы, фк динамо, фк зенит, фк краснодар, фк рубин, фк спартак, фк тосно, фк уфа, фёдор смолов, хорватия, чемпионат россии, футбол]</td>\n",
              "      <td>Дзюба в «Зените-2», первая покупка ЦСКА за три года и «Спартак» в поиске: что происходит на трансферном рынке РФПЛ</td>\n",
              "      <td>Александр Анюков, Артём Дзюба и Олег Шатов провели первую тренировку в «Зените-2» после решения Роберто Манчини не брать их на сбор с основной командой. ЦСКА совершил первую покупку за три года, подписав контракт с 19-летним хорватским полузащитником Кристияном Бистровичем. Нападающий «Тосно» Евгений Марков перешёл в московское «Динамо», а «Спартак» продолжает поиски центрального защитника. RT рассказывает о последних трансферных новостях из клубов РФПЛ.</td>\n",
              "      <td>https://russian.rt.com/sport/article/471854-rfpl-transfery-dzyuba-smolov-cska</td>\n",
              "      <td>Дзюба, Шатов и Анюков оказались не нужны «Зениту»\\nВ российском футболе — зимнее межсезонье. Команды уезжают на сборы и тренируются вдали от болельщиков. В такие моменты любители футбола зачастую переключают своё внимание на более соответствующие сезону виды спорта, например хоккей и биатлон. Однако нынешний год начался в РФПЛ совсем не скучно, и главная заслуга в этом принадлежит Роберто Манчини. Главный тренер «Зенита» не взял в основной состав на первый сбор в Дубай сразу четырёх российских игроков: Александра Анюкова, Артёма Дзюбу, Олега Шатова и Ивана Новосельцева.\\nВсе они в первой части сезона получали не слишком много игровой практики, а последний и вовсе довольствовался лишь регулярными появлениями на скамейке запасных. Не сильно удивила и «опала» Анюкова. Защитнику в прошлом году исполнилось 35 лет, и он проигрывает конкуренцию более молодым футболистам. Другое дело, что Александр выступает за «Зенит» с 2005-го. Но за верность клубу тренерский штаб «наградил» его ссылкой ...</td>\n",
              "      <td>NaN</td>\n",
              "    </tr>\n",
              "    <tr>\n",
              "      <th>3</th>\n",
              "      <td>[в россии, денис глушаков, дмитрий комбаров, квинси промес, лига чемпионов уефа, массимо каррера, рфпл, россия, спорт, спортсмен, уефа, фк анжи, фк спартак, чемпионат россии, футбол]</td>\n",
              "      <td>Санкции против фанатов, новый контракт капитана и травма лучшего бомбардира: потери и приобретения «Спартака» за неделю</td>\n",
              "      <td>В преддверии матча 11-го тура РФПЛ с «Анжи» и за несколько дней до встречи с «Ливерпулем» в Лиге чемпионов главный тренер «Спартака» Массимо Каррера провёл пресс-конференцию, на которой рассказал о причинах большого количества травм в команде, встрече с руководством и отношениях с подопечными. Также накануне этого мероприятия стало известно о том, что «Спартак» проведёт выездной матч ЛЧ с «Севильей» при закрытой гостевой трибуне из-за поведения фанатов красно-белых в Словении.</td>\n",
              "      <td>https://russian.rt.com/sport/article/432804-spartak-promes-glushakov-karrera</td>\n",
              "      <td>В Испанию без фанатов\\nПожалуй, главной пятничной новостью для «Спартака» стало решение Дисциплинарного комитета УЕФА о закрытии гостевого сектора в выездном матче с «Севильей», который состоится 1 ноября, и штрафе размером в €60 тыс. Такое наказание красно-белые понесут за беспорядки, устроенные московскими фанатами в Словении на игре с «Марибором». Тогда болельщики из России активно жгли пиротехнику, а один из залпов ракетницы чуть было не попал в голову судье, после чего матч был на несколько минут остановлен. Между тем в клубе отметили, что «Спартак» отделался довольно легко.\\n«Клуб сделал всё возможное, чтобы наказание было минимальным. Не буду рассказывать о подробностях, важно то, что мы имеем на выходе. Если вы возьмёте регламент УЕФА, то увидите, что мы добились своего. «Спартак» получил минимальное наказание — €60 тыс. за файеры и ракетницу, минус гостевой сектор в Севилье. Объясню, почему это минимально: нам грозило наказание вплоть до матчей без зрителей. Однако появлен...</td>\n",
              "      <td>NaN</td>\n",
              "    </tr>\n",
              "    <tr>\n",
              "      <th>4</th>\n",
              "      <td>[live видео, rt, нью-йорк, оон, сша, видео]</td>\n",
              "      <td>RT начнёт вещание в телесети ООН</td>\n",
              "      <td>С 2017 года RT будет транслироваться во внутренней информационной сети штаб-квартиры Организации Объединённых Наций в Нью-Йорке. Генеральный директор RT Алексей Николов и заместитель Генсека ООН Кристина Галлах приняли участие в церемонии передачи договора о вещании телеканала в стенах организации. RT вёл прямую трансляцию из Нью-Йорка.</td>\n",
              "      <td>https://russian.rt.com/world/article/351156-veschanie-rt-oon</td>\n",
              "      <td>Постпред России при ООН Виталий Чуркин, говоря о вещании телеканала, заявил, что аббревиатура RT известна в мире не меньше, чем название ООН.\\nЧуркин: RT и ООН — одни из самых известных аббревиатур в мире \\nhttps://t.co/I6y1oyIJjs\\npic.twitter.com/g9D6rn6HmQ\\n— RT на русском (@RT_russian) \\n18 января 2017 г.\\nКристина Галлах также положительно оценила присоединение RT.\\n«Трансляции внутренней сети ООН смотрят сотрудники ООН, делегаты и приглашённые официальные лица. В ней уже представлены многие ведущие новостные каналы мира, и сегодня мы с радостью приветствуем нового члена нашей сети», — сказала она.</td>\n",
              "      <td>NaN</td>\n",
              "    </tr>\n",
              "  </tbody>\n",
              "</table>\n",
              "</div>"
            ],
            "text/plain": [
              "                                                                                                                                                                                                                                                                                                                                   keywords  ... abstract\n",
              "0                                                                                                                                                 [ангела меркель, владимир путин, днр, джон маккейн, дмитрий песков, дональд трамп, донбасс, донецк, киев, лнр, луганск, обсе, переговоры в минске, пётр порошенко, сша, украина, украина]  ...      NaN\n",
              "1                                                                                                                                                                              [авиаудары, авиация, армия, белоруссия, боевики, вкс россии, военная техника, военнослужащие, диверсия, оборона, россия, союзники, терроризм, учения, армия]  ...      NaN\n",
              "2  [англия, артём дзюба, бразилия, бундеслига, в россии, георгий джикия, германия, испания, италия, нигерия, пфк цска, примера, рфпл, россия, россияне, севилья, сербия, серия а, спорт, спортсмен, трансферы, фк динамо, фк зенит, фк краснодар, фк рубин, фк спартак, фк тосно, фк уфа, фёдор смолов, хорватия, чемпионат россии, футбол]  ...      NaN\n",
              "3                                                                                                                                                    [в россии, денис глушаков, дмитрий комбаров, квинси промес, лига чемпионов уефа, массимо каррера, рфпл, россия, спорт, спортсмен, уефа, фк анжи, фк спартак, чемпионат россии, футбол]  ...      NaN\n",
              "4                                                                                                                                                                                                                                                                                               [live видео, rt, нью-йорк, оон, сша, видео]  ...      NaN\n",
              "\n",
              "[5 rows x 6 columns]"
            ]
          },
          "metadata": {
            "tags": []
          },
          "execution_count": 10
        }
      ]
    },
    {
      "cell_type": "code",
      "metadata": {
        "id": "TACs6oW0VLeL",
        "colab_type": "code",
        "colab": {}
      },
      "source": [
        "def evaluate(true_kws, predicted_kws):\n",
        "    assert len(true_kws) == len(predicted_kws)\n",
        "    \n",
        "    precisions = []\n",
        "    recalls = []\n",
        "    f1s = []\n",
        "    jaccards = []\n",
        "    \n",
        "    for i in range(len(true_kws)):\n",
        "        true_kw = set(true_kws[i])\n",
        "        predicted_kw = set(predicted_kws[i])\n",
        "        \n",
        "        tp = len(true_kw & predicted_kw)\n",
        "        union = len(true_kw | predicted_kw)\n",
        "        fp = len(predicted_kw - true_kw)\n",
        "        fn = len(true_kw - predicted_kw)\n",
        "        \n",
        "        if (tp+fp) == 0:\n",
        "            prec = 0\n",
        "        else:\n",
        "            prec = tp / (tp + fp)\n",
        "        \n",
        "        if (tp+fn) == 0:\n",
        "            rec = 0\n",
        "        else:\n",
        "            rec = tp / (tp + fn)\n",
        "        if (prec+rec) == 0:\n",
        "            f1 = 0\n",
        "        else:\n",
        "            f1 = (2*(prec*rec))/(prec+rec)\n",
        "            \n",
        "        jac = tp / union\n",
        "        \n",
        "        precisions.append(prec)\n",
        "        recalls.append(rec)\n",
        "        f1s.append(f1)\n",
        "        jaccards.append(jac)\n",
        "    print('Precision - ', round(np.mean(precisions), 2))\n",
        "    print('Recall - ', round(np.mean(recalls), 2))\n",
        "    print('F1 - ', round(np.mean(f1s), 2))\n",
        "    print('Jaccard - ', round(np.mean(jaccards), 2))"
      ],
      "execution_count": 8,
      "outputs": []
    },
    {
      "cell_type": "code",
      "metadata": {
        "id": "4QbksENPVYNI",
        "colab_type": "code",
        "colab": {}
      },
      "source": [
        "from string import punctuation\n",
        "from nltk.corpus import stopwords\n",
        "punct = punctuation+'«»—…“”*№–'\n",
        "stops = set(stopwords.words('russian'))\n",
        "\n",
        "def normalize(text):\n",
        "    \n",
        "    words = [word.strip(punct) for word in text.lower().split()]\n",
        "    words = [morph.parse(word)[0].normal_form for word in words if word and word not in stops]\n",
        "\n",
        "    return words"
      ],
      "execution_count": 9,
      "outputs": []
    },
    {
      "cell_type": "code",
      "metadata": {
        "id": "lq_jlsSNVkyd",
        "colab_type": "code",
        "colab": {}
      },
      "source": [
        "data['content_norm'] = data['content'].apply(normalize)"
      ],
      "execution_count": 10,
      "outputs": []
    },
    {
      "cell_type": "code",
      "metadata": {
        "id": "4XkzWhQ7VXXP",
        "colab_type": "code",
        "colab": {}
      },
      "source": [
        "data['content_norm_str'] = data['content_norm'].apply(' '.join)"
      ],
      "execution_count": 11,
      "outputs": []
    },
    {
      "cell_type": "code",
      "metadata": {
        "id": "29VDbfWfVqvu",
        "colab_type": "code",
        "colab": {}
      },
      "source": [
        "tfidf = TfidfVectorizer(ngram_range=(1,2), min_df=5)"
      ],
      "execution_count": 41,
      "outputs": []
    },
    {
      "cell_type": "code",
      "metadata": {
        "id": "S9Ef5wcsVukq",
        "colab_type": "code",
        "colab": {
          "base_uri": "https://localhost:8080/",
          "height": 139
        },
        "outputId": "c5632136-092c-4380-fb77-5b58f8021c00"
      },
      "source": [
        "tfidf.fit(data['content_norm_str'])"
      ],
      "execution_count": 42,
      "outputs": [
        {
          "output_type": "execute_result",
          "data": {
            "text/plain": [
              "TfidfVectorizer(analyzer='word', binary=False, decode_error='strict',\n",
              "                dtype=<class 'numpy.float64'>, encoding='utf-8',\n",
              "                input='content', lowercase=True, max_df=1.0, max_features=None,\n",
              "                min_df=5, ngram_range=(1, 2), norm='l2', preprocessor=None,\n",
              "                smooth_idf=True, stop_words=None, strip_accents=None,\n",
              "                sublinear_tf=False, token_pattern='(?u)\\\\b\\\\w\\\\w+\\\\b',\n",
              "                tokenizer=None, use_idf=True, vocabulary=None)"
            ]
          },
          "metadata": {
            "tags": []
          },
          "execution_count": 42
        }
      ]
    },
    {
      "cell_type": "code",
      "metadata": {
        "id": "YaEoxu2IVuhs",
        "colab_type": "code",
        "colab": {}
      },
      "source": [
        "id2word = {i:word for i,word in enumerate(tfidf.get_feature_names())}"
      ],
      "execution_count": 43,
      "outputs": []
    },
    {
      "cell_type": "code",
      "metadata": {
        "id": "OKZPLIqYVuet",
        "colab_type": "code",
        "colab": {}
      },
      "source": [
        "texts_vectors = tfidf.transform(data['content_norm_str'])"
      ],
      "execution_count": 44,
      "outputs": []
    },
    {
      "cell_type": "code",
      "metadata": {
        "id": "7ljy3oUmV9-B",
        "colab_type": "code",
        "colab": {}
      },
      "source": [
        "keywords = [[id2word[w] for w in top] for top in texts_vectors.toarray().argsort()[:,:-11:-1]] "
      ],
      "execution_count": 45,
      "outputs": []
    },
    {
      "cell_type": "code",
      "metadata": {
        "id": "GbPA6d_KWB8A",
        "colab_type": "code",
        "colab": {
          "base_uri": "https://localhost:8080/",
          "height": 191
        },
        "outputId": "17fda19f-e595-4de0-9a37-ac94fd40de96"
      },
      "source": [
        "keywords[:1]"
      ],
      "execution_count": 46,
      "outputs": [
        {
          "output_type": "execute_result",
          "data": {
            "text/plain": [
              "[['обстрел',\n",
              "  'донбасс',\n",
              "  'украина',\n",
              "  'jwplayer',\n",
              "  'украинский',\n",
              "  'ga',\n",
              "  'днр',\n",
              "  'обсе',\n",
              "  'x20',\n",
              "  'location']]"
            ]
          },
          "metadata": {
            "tags": []
          },
          "execution_count": 46
        }
      ]
    },
    {
      "cell_type": "code",
      "metadata": {
        "id": "gsEy2zQVVubZ",
        "colab_type": "code",
        "colab": {
          "base_uri": "https://localhost:8080/",
          "height": 87
        },
        "outputId": "3a8d7a46-bf24-4f64-9c91-85c02269a78d"
      },
      "source": [
        "evaluate(data['keywords'], keywords)"
      ],
      "execution_count": 47,
      "outputs": [
        {
          "output_type": "stream",
          "text": [
            "Precision -  0.1\n",
            "Recall -  0.13\n",
            "F1 -  0.11\n",
            "Jaccard -  0.06\n"
          ],
          "name": "stdout"
        }
      ]
    },
    {
      "cell_type": "markdown",
      "metadata": {
        "id": "FVPrgEk-VrK7",
        "colab_type": "text"
      },
      "source": [
        "**Возьмем этот результат за baseline. Precision - 0.1 Recall - 0.13 F1 - 0.11 Jaccard - 0.06**"
      ]
    },
    {
      "cell_type": "markdown",
      "metadata": {
        "id": "CxqY6M5bvr1y",
        "colab_type": "text"
      },
      "source": [
        "# **Подход1. Графы**"
      ]
    },
    {
      "cell_type": "markdown",
      "metadata": {
        "id": "nWJr5yNpXCd-",
        "colab_type": "text"
      },
      "source": [
        "Попробуем поэкспериментировать с графами"
      ]
    },
    {
      "cell_type": "code",
      "metadata": {
        "id": "XY4ffgcOXBjk",
        "colab_type": "code",
        "colab": {}
      },
      "source": [
        "import networkx as nx"
      ],
      "execution_count": 35,
      "outputs": []
    },
    {
      "cell_type": "code",
      "metadata": {
        "id": "PlEKyYQVdkkv",
        "colab_type": "code",
        "colab": {}
      },
      "source": [
        "from itertools import combinations"
      ],
      "execution_count": 36,
      "outputs": []
    },
    {
      "cell_type": "code",
      "metadata": {
        "id": "yhoeE377c7c7",
        "colab_type": "code",
        "colab": {}
      },
      "source": [
        "def build_matrix(text, window_size=5):\n",
        "    vocab = set(text)\n",
        "    word2id = {w:i for i, w in enumerate(vocab)}\n",
        "    id2word = {i:w for i, w in enumerate(vocab)}\n",
        "    # преобразуем слова в индексы для удобства\n",
        "    ids = [word2id[word] for word in text]\n",
        "\n",
        "    # создадим матрицу совстречаемости\n",
        "    m = np.zeros((len(vocab), len(vocab)))\n",
        "\n",
        "    # пройдемся окном по всему тексту\n",
        "    for i in range(0, len(ids), window_size):\n",
        "        window = ids[i:i+window_size]\n",
        "        # добавим единичку всем парам слов в этом окне\n",
        "        for j, k in combinations(window, 2):\n",
        "            # чтобы граф был ненаправленный \n",
        "            m[j][k] += 1\n",
        "            m[k][j] += 1\n",
        "    \n",
        "    return m, id2word\n",
        "\n",
        "def some_centrality_measure(text, window_size=5, topn=5):\n",
        "    \n",
        "    matrix, id2word = build_matrix(text, window_size)\n",
        "    G = nx.from_numpy_array(matrix)\n",
        "    node2measure = dict(nx.degree_centrality(G))   \n",
        "    return [id2word[index] for index,measure in sorted(node2measure.items(), key=lambda x: -x[1])[:topn]]"
      ],
      "execution_count": 37,
      "outputs": []
    },
    {
      "cell_type": "markdown",
      "metadata": {
        "id": "3Lvkvu_6qFjl",
        "colab_type": "text"
      },
      "source": [
        "Я пробовала разные меры центральности, c degree_centrality выходит лучший результат."
      ]
    },
    {
      "cell_type": "code",
      "metadata": {
        "id": "nvjaBjWDc7zr",
        "colab_type": "code",
        "colab": {}
      },
      "source": [
        "keyword_nx = data['content_norm'].apply(lambda x: some_centrality_measure(x, 10, 10))"
      ],
      "execution_count": 38,
      "outputs": []
    },
    {
      "cell_type": "code",
      "metadata": {
        "id": "3CUWZG78fDeb",
        "colab_type": "code",
        "colab": {
          "base_uri": "https://localhost:8080/",
          "height": 0
        },
        "outputId": "d4e65df7-dd72-4897-8017-b87e36b5357d"
      },
      "source": [
        "evaluate(data['keywords'], keyword_nx)"
      ],
      "execution_count": 39,
      "outputs": [
        {
          "output_type": "stream",
          "text": [
            "Precision -  0.12\n",
            "Recall -  0.15\n",
            "F1 -  0.13\n",
            "Jaccard -  0.07\n"
          ],
          "name": "stdout"
        }
      ]
    },
    {
      "cell_type": "markdown",
      "metadata": {
        "id": "dRslsRHHs2Ev",
        "colab_type": "text"
      },
      "source": [
        "Все метрики немного улучшились. Бейзлайн побит."
      ]
    },
    {
      "cell_type": "markdown",
      "metadata": {
        "id": "jFUI8WfrvnDp",
        "colab_type": "text"
      },
      "source": [
        "# **Подход2. Нормализация**"
      ]
    },
    {
      "cell_type": "markdown",
      "metadata": {
        "id": "kttIHdhNs7dU",
        "colab_type": "text"
      },
      "source": [
        "Попробуем добавить еще стоп-слова и поработать с нормализацией "
      ]
    },
    {
      "cell_type": "code",
      "metadata": {
        "id": "VjR6tw3xts4_",
        "colab_type": "code",
        "colab": {
          "base_uri": "https://localhost:8080/",
          "height": 208
        },
        "outputId": "39c85592-c26c-4c3d-94fb-1b504db580d3"
      },
      "source": [
        "!wget https://raw.githubusercontent.com/stopwords-iso/stopwords-ru/master/stopwords-ru.json"
      ],
      "execution_count": 12,
      "outputs": [
        {
          "output_type": "stream",
          "text": [
            "--2020-06-19 15:53:20--  https://raw.githubusercontent.com/stopwords-iso/stopwords-ru/master/stopwords-ru.json\n",
            "Resolving raw.githubusercontent.com (raw.githubusercontent.com)... 151.101.0.133, 151.101.64.133, 151.101.128.133, ...\n",
            "Connecting to raw.githubusercontent.com (raw.githubusercontent.com)|151.101.0.133|:443... connected.\n",
            "HTTP request sent, awaiting response... 200 OK\n",
            "Length: 7349 (7.2K) [text/plain]\n",
            "Saving to: ‘stopwords-ru.json.2’\n",
            "\n",
            "\rstopwords-ru.json.2   0%[                    ]       0  --.-KB/s               \rstopwords-ru.json.2 100%[===================>]   7.18K  --.-KB/s    in 0s      \n",
            "\n",
            "2020-06-19 15:53:21 (74.7 MB/s) - ‘stopwords-ru.json.2’ saved [7349/7349]\n",
            "\n"
          ],
          "name": "stdout"
        }
      ]
    },
    {
      "cell_type": "code",
      "metadata": {
        "id": "oyCmh3BQt0Ea",
        "colab_type": "code",
        "colab": {}
      },
      "source": [
        "with open('stopwords-ru.json', 'r') as stw:\n",
        "    added_stopwords = set(json.load(stw, encoding = 'utf-8')) "
      ],
      "execution_count": 13,
      "outputs": []
    },
    {
      "cell_type": "code",
      "metadata": {
        "id": "ry3a2Q14c7-d",
        "colab_type": "code",
        "colab": {}
      },
      "source": [
        "from string import punctuation\n",
        "from nltk.corpus import stopwords\n",
        "punct = punctuation+'«»—…“”*№–'\n",
        "stops = set(stopwords.words('russian'))\n",
        "stops = stops.union(added_stopwords)\n",
        "\n",
        "def normalize2(text):\n",
        "    \n",
        "    words = [word.strip(punct) for word in text.lower().split()]\n",
        "    words = [morph.parse(word)[0].normal_form for word in words if word and word not in stops]\n",
        "\n",
        "    return words"
      ],
      "execution_count": 14,
      "outputs": []
    },
    {
      "cell_type": "code",
      "metadata": {
        "id": "gS4lTEmTuGBS",
        "colab_type": "code",
        "colab": {}
      },
      "source": [
        "data['content_norm'] = data['content'].apply(normalize2)"
      ],
      "execution_count": 15,
      "outputs": []
    },
    {
      "cell_type": "code",
      "metadata": {
        "id": "T5FI5A8juGNJ",
        "colab_type": "code",
        "colab": {
          "base_uri": "https://localhost:8080/",
          "height": 381
        },
        "outputId": "c4a0ea76-f4af-4e63-fc9b-f76977a60730"
      },
      "source": [
        "data['content_norm'].apply(lambda x: [x[0] for x in Counter(x).most_common(10)]).head(20)"
      ],
      "execution_count": 17,
      "outputs": [
        {
          "output_type": "execute_result",
          "data": {
            "text/plain": [
              "0                           [украина, украинский, сторона, донбасс, обстрел, ситуация, днр, позиция, действие, минский]\n",
              "1                [противник, учение, условный, сентябрь, российский, войско, военнослужащий, полигон, военный, область]\n",
              "2                                        [клуб, футболист, команда, игрок, цска, зенит, сезон, один, информация, дзюба]\n",
              "3                                   [команда, матч, спартак, травма, глушаков, каррер, сезон, клуб, руководство, фанат]\n",
              "4                                      [оон, rt, чуркин, аббревиатура, известный, мир, сеть, постпред, россия, виталий]\n",
              "5                            [трамп, расход, миллиард, бюджет, военный, сша, социальный, проект, сокращение, программа]\n",
              "6                        [военный, операция, сирийский, ракки, исламский, государство, город, сша, пункт, американский]\n",
              "7        [аляска, америка, русский, компания, российско-американский, резановый, американец, николай, продать, миллион]\n",
              "8                                         [инфляция, россия, ставка, цб, центробанк, целевой, июль, рубль, снижение, 4]\n",
              "9                      [cas, мокнуть, суд, решение, спортсмен, российский, апелляция, wada, спортивный, антидопинговый]\n",
              "10                     [шарапов, турнир, мария, штутгарт, приглашение, соревнование, винчи, ракетка, свой, специальный]\n",
              "11                                            [f1, пилот, formula, 1, сентябрь, 2017, singaporegp, один, гонка, трасса]\n",
              "12                        [военный, сша, расход, бюджет, оборона, американский, увеличение, проект, угроза, управление]\n",
              "13    [родченков, следственный, спортсмен, комитет, россия, международный, лаборатория, ск, российский, антидопинговый]\n",
              "14                                        [спартак, чемпион, команда, сезон, лига, хотеть, новый, играть, июль, медаль]\n",
              "15                              [мирный, дом, коалиция, житель, мосул, город, оставаться, рфай, исламский, государство]\n",
              "16                           [антонов, украинский, самолёт, китайский, предприятие, эксперт, пекин, украина, китай, гп]\n",
              "17                               [rt, сша, американский, агент, sputnik, иностранный, журналист, слово, телеканал, сми]\n",
              "18                     [спортсмен, iaaf, международный, федерация, вфл, лёгкий, атлетика, заявка, российский, получить]\n",
              "19                             [этап, кубок, 2017, александр, два, соревнование, российский, большунов, спринт, занять]\n",
              "Name: content_norm, dtype: object"
            ]
          },
          "metadata": {
            "tags": []
          },
          "execution_count": 17
        }
      ]
    },
    {
      "cell_type": "code",
      "metadata": {
        "id": "ZEqLJ8cfu7WA",
        "colab_type": "code",
        "colab": {
          "base_uri": "https://localhost:8080/",
          "height": 87
        },
        "outputId": "c0981bd3-1089-4739-9a11-af93aff56e46"
      },
      "source": [
        "evaluate(data['keywords'], data['content_norm'].apply(lambda x: [x[0] for x in Counter(x).most_common(10)]))"
      ],
      "execution_count": 18,
      "outputs": [
        {
          "output_type": "stream",
          "text": [
            "Precision -  0.12\n",
            "Recall -  0.16\n",
            "F1 -  0.13\n",
            "Jaccard -  0.07\n"
          ],
          "name": "stdout"
        }
      ]
    },
    {
      "cell_type": "markdown",
      "metadata": {
        "id": "d9Qzw02PvP_4",
        "colab_type": "text"
      },
      "source": [
        "Качество немного улучшилось, бейзлайн побит. Попробуем еще больше нормализовать данные, оставим только существительные и прилагательные."
      ]
    },
    {
      "cell_type": "code",
      "metadata": {
        "id": "qGxZAxdxSSAv",
        "colab_type": "code",
        "colab": {}
      },
      "source": [
        "def normalize3(text):\n",
        "    words = [word.strip(punct) for word in text.lower().split()]\n",
        "    words = [morph.parse(word)[0].normal_form for word in words if word and word not in stops]\n",
        "    words = [morph.parse(word)[0].normal_form for word in words if 'NOUN' in morph.parse(word)[0].tag or 'ADJF' in morph.parse(word)[0].tag]\n",
        "    return words"
      ],
      "execution_count": 30,
      "outputs": []
    },
    {
      "cell_type": "code",
      "metadata": {
        "id": "q5mDtvKTTDPN",
        "colab_type": "code",
        "colab": {}
      },
      "source": [
        "data['content_norm3'] = data['content'].apply(normalize3)"
      ],
      "execution_count": 31,
      "outputs": []
    },
    {
      "cell_type": "code",
      "metadata": {
        "id": "ATLqGfy5TJyA",
        "colab_type": "code",
        "colab": {
          "base_uri": "https://localhost:8080/",
          "height": 381
        },
        "outputId": "0547429e-6ec1-4e06-9cae-75b8c49ea523"
      },
      "source": [
        "data['content_norm3'].apply(lambda x: [x[0] for x in Counter(x).most_common(10)]).head(20)"
      ],
      "execution_count": 32,
      "outputs": [
        {
          "output_type": "execute_result",
          "data": {
            "text/plain": [
              "0                                 [украина, украинский, сторона, донбасс, обстрел, ситуация, позиция, действие, минский, обсе]\n",
              "1                       [противник, учение, условный, сентябрь, российский, войско, военнослужащий, полигон, военный, область]\n",
              "2                                               [клуб, футболист, команда, игрок, цска, зенит, сезон, один, информация, дзюба]\n",
              "3                                          [команда, матч, спартак, травма, глушаков, каррер, сезон, клуб, руководство, фанат]\n",
              "4                                        [оон, чуркин, аббревиатура, известный, мир, сеть, постпред, россия, виталий, вещание]\n",
              "5                                       [трамп, расход, миллиард, бюджет, военный, сша, социальный, судак, проект, сокращение]\n",
              "6                               [военный, операция, сирийский, ракки, исламский, государство, город, сша, пункт, американский]\n",
              "7         [аляска, америка, русский, компания, российско-американский, резановый, американец, николай, миллион, правительство]\n",
              "8                                          [инфляция, россия, ставка, цб, центробанк, целевой, июль, рубль, снижение, уровень]\n",
              "9                  [суд, решение, спортсмен, российский, апелляция, спортивный, антидопинговый, агентство, допинг, оправдание]\n",
              "10                                   [шарап, турнир, мария, штутгарт, карьер, приглашение, соревнование, винчи, ракетка, свой]\n",
              "11                                     [пилот, сентябрь, один, гонка, трасса, риккардо, хэмилтон, сингапур, мерседес, феттель]\n",
              "12                               [военный, сша, расход, бюджет, оборона, американский, увеличение, проект, угроза, управление]\n",
              "13    [родченков, следственный, спортсмен, комитет, россия, международный, лаборатория, российский, антидопинговый, следствие]\n",
              "14                                         [спартак, чемпион, команда, сезон, лига, новый, июль, медаль, болельщик, футболист]\n",
              "15                                           [мирный, дом, коалиция, житель, мосул, город, рфай, исламский, государство, сила]\n",
              "16                                [антонов, украинский, самолёт, китайский, предприятие, эксперт, пекин, украина, китай, мрия]\n",
              "17                                   [сша, американский, агент, иностранный, журналист, слово, телеканал, сми, фбр, сотрудник]\n",
              "18                        [спортсмен, международный, федерация, лёгкий, атлетика, заявка, российский, вопрос, статус, который]\n",
              "19                             [этап, кубок, александр, соревнование, российский, большунов, спринт, публикация, ной, белорук]\n",
              "Name: content_norm3, dtype: object"
            ]
          },
          "metadata": {
            "tags": []
          },
          "execution_count": 32
        }
      ]
    },
    {
      "cell_type": "code",
      "metadata": {
        "id": "Cm39gfHMTYS0",
        "colab_type": "code",
        "colab": {
          "base_uri": "https://localhost:8080/",
          "height": 87
        },
        "outputId": "79585466-1d80-48c3-e988-691e9a6577a9"
      },
      "source": [
        "evaluate(data['keywords'], data['content_norm3'].apply(lambda x: [x[0] for x in Counter(x).most_common(10)]))"
      ],
      "execution_count": 33,
      "outputs": [
        {
          "output_type": "stream",
          "text": [
            "Precision -  0.12\n",
            "Recall -  0.16\n",
            "F1 -  0.13\n",
            "Jaccard -  0.08\n"
          ],
          "name": "stdout"
        }
      ]
    },
    {
      "cell_type": "markdown",
      "metadata": {
        "id": "ZbWrebVcVi4d",
        "colab_type": "text"
      },
      "source": [
        "Улучшилась метрика Jaccard  по сравнению с предыдущей нормализацией, но совсем немного. Остальные метрики остались прежними. Этот результат тоже больше, чем результаты бейзлайна."
      ]
    },
    {
      "cell_type": "markdown",
      "metadata": {
        "id": "mkzLhginvyiq",
        "colab_type": "text"
      },
      "source": [
        "# **Подход3. Готовое решение**"
      ]
    },
    {
      "cell_type": "code",
      "metadata": {
        "id": "1CpeTIFBz7XU",
        "colab_type": "code",
        "colab": {
          "base_uri": "https://localhost:8080/",
          "height": 0
        },
        "outputId": "f73300da-2454-47dd-f241-d039d3dfe3a4"
      },
      "source": [
        "!pip install summa"
      ],
      "execution_count": 25,
      "outputs": [
        {
          "output_type": "stream",
          "text": [
            "Requirement already satisfied: summa in /usr/local/lib/python3.6/dist-packages (1.2.0)\n",
            "Requirement already satisfied: scipy>=0.19 in /usr/local/lib/python3.6/dist-packages (from summa) (1.4.1)\n",
            "Requirement already satisfied: numpy>=1.13.3 in /usr/local/lib/python3.6/dist-packages (from scipy>=0.19->summa) (1.18.5)\n"
          ],
          "name": "stdout"
        }
      ]
    },
    {
      "cell_type": "code",
      "metadata": {
        "id": "Y4niKsF_0DQ7",
        "colab_type": "code",
        "colab": {}
      },
      "source": [
        "from summa import keywords\n",
        "from tqdm import tqdm"
      ],
      "execution_count": 26,
      "outputs": []
    },
    {
      "cell_type": "code",
      "metadata": {
        "id": "e_BU1GDy0Hxi",
        "colab_type": "code",
        "colab": {
          "base_uri": "https://localhost:8080/",
          "height": 0
        },
        "outputId": "a9ceffca-56c2-4930-d95c-27134ed3f492"
      },
      "source": [
        "summa_keywords = []\n",
        "for text in tqdm(data['content_norm_str']):\n",
        "  try:\n",
        "    kwords = keywords.keywords(text, words=20, language='russian').split('\\n')  \n",
        "  except:\n",
        "    kwords = ['']\n",
        "  summa_keywords.append(kwords)"
      ],
      "execution_count": 27,
      "outputs": [
        {
          "output_type": "stream",
          "text": [
            "100%|██████████| 4988/4988 [1:21:26<00:00,  1.02it/s]\n"
          ],
          "name": "stderr"
        }
      ]
    },
    {
      "cell_type": "code",
      "metadata": {
        "id": "FSDZ-AS20raX",
        "colab_type": "code",
        "colab": {
          "base_uri": "https://localhost:8080/",
          "height": 0
        },
        "outputId": "92758729-e0c4-4583-a3b0-48c2a5fd48a0"
      },
      "source": [
        "evaluate(data['keywords'], summa_keywords)"
      ],
      "execution_count": 29,
      "outputs": [
        {
          "output_type": "stream",
          "text": [
            "Precision -  0.06\n",
            "Recall -  0.13\n",
            "F1 -  0.08\n",
            "Jaccard -  0.04\n"
          ],
          "name": "stdout"
        }
      ]
    },
    {
      "cell_type": "markdown",
      "metadata": {
        "id": "mg4iXYFn1oQv",
        "colab_type": "text"
      },
      "source": [
        "Метрики не улучшились, готовое решение справляется плохо. "
      ]
    },
    {
      "cell_type": "markdown",
      "metadata": {
        "id": "LARf9srM1os-",
        "colab_type": "text"
      },
      "source": [
        "# **Подход 4. Gensim**"
      ]
    },
    {
      "cell_type": "markdown",
      "metadata": {
        "id": "7C6ErFJ_Na6z",
        "colab_type": "text"
      },
      "source": [
        "Попробуем найти фразы с помощью gensim "
      ]
    },
    {
      "cell_type": "code",
      "metadata": {
        "id": "W3qafab81nR3",
        "colab_type": "code",
        "colab": {}
      },
      "source": [
        "from gensim.models.phrases import Phrases, Phraser"
      ],
      "execution_count": 34,
      "outputs": []
    },
    {
      "cell_type": "code",
      "metadata": {
        "id": "FselVVaXMUXW",
        "colab_type": "code",
        "colab": {}
      },
      "source": [
        "def make_phrases(words):\n",
        "  phrases = Phrases([words], min_count=4, threshold=6)\n",
        "  bigram = Phraser(phrases)\n",
        "  cols = bigram[words]\n",
        "  cols = [word.replace('_', ' ')for word in cols]\n",
        "  return cols"
      ],
      "execution_count": 35,
      "outputs": []
    },
    {
      "cell_type": "code",
      "metadata": {
        "id": "5swmegNPM7_B",
        "colab_type": "code",
        "colab": {}
      },
      "source": [
        "data['phrases'] = data['content_norm3'].apply(make_phrases)"
      ],
      "execution_count": 36,
      "outputs": []
    },
    {
      "cell_type": "code",
      "metadata": {
        "id": "Nen19DU7Nelo",
        "colab_type": "code",
        "colab": {
          "base_uri": "https://localhost:8080/",
          "height": 0
        },
        "outputId": "f18145b0-e41c-4f84-f76b-8dead0d202b9"
      },
      "source": [
        "data['phrases'].head(5)"
      ],
      "execution_count": 37,
      "outputs": [
        {
          "output_type": "execute_result",
          "data": {
            "text/plain": [
              "0            [канцлер, германия, ангел, меркель, ход, брифинг, преддверие, переговоры, украинский, президент, восток, украина, режим, прекращение, огонь, режим, прекращение, огонь, солдат, ситуация, линия, разграничение, беспокойство, меркель, порошенко, украина, минский, договорённость, страна, запад, продление, усиление, антироссийский, санкция, прогресс, реализация, минский, соглашение, донбасс, заявление, меньший, мера, последний, день, беспрецедентный, обострение, обстановка, донбасс, порошенко, председатель, бундестаг, норберт, ламмерота, обстрел, заместитель, начальник, управление, народный, милиция, полковник, эдуард, басурина, брифинг, последний, сутки, январь, украинский, силовик, территория, последний, сутки, артиллерийский, снаряд, калибр, танковый, снаряд, мина, калибр, боеприпас, различный, тип, гранатомёт, стрелковый, оружие, дом, донецк, макеевка, ряд, пункт, обстрел, больница, школа, детский, сад, донецкий, фильтровальный, станция, металлопрокатный, завод, территория, ...]\n",
              "1    [российский, белорусский, войско, этап, стратегический, учение, сентябрь, военнослужащий, страна, выполнение, задача, рамка, этап, условный, боев, действие, полигон, лужский, ленинградский область, полигон, борисовский, белоруссия, акватория, балтийский, мор, тема, запад, запад, страна, нато, российско-белорусский, учение, российский, белорусский, военнослужащий, стратегический, учение, сценарий, войско, союзный, государство, минобороны, сила, региональный, группировка, розыгрыш, практический, действие, ведение, манёвренный, оборона, переход, наступательный, действие, завершение, разгром, противник, основный, учение, сентябрь, сентябрь, белорусский, командование, орган, военный, управление, региональный, группировка, войско, планирование, совместный, операция, блокирование, уничтожение, диверсант, прикрытие, средство, пво, мотострелковый, танковый, артиллерийский, подразделение, оборона, позиция, условный противник, учение, участие, тысяча, военнослужащий, тысяча, россиянин, террит...\n",
              "2                                                                                                                                             [дзюба, анюк, нужный, зенит, российский, футбол, зимний, межсезонье, команда, сбор, болельщик, момент, любитель, футбол, свой, внимание, соответствующий, сезон, вид, спорт, хоккей, биатлон, нынешний, рфплый, главный, заслуга, роберто, тренер, зенит, основной, состав, сбор, дубай, российский, игрок, александр, анюк, артём, дзюба, олег, шат, иван, новосельцев, один, часть, сезон, игровой, практика, регулярный, появление, скамейка, запасный, анюк, защитник, прошлое, конкуренция, молодая, футболист, александр, зенит, 2005-го, верность, клуб, тренерский, штаб, ссылка, информация, сми, игрок, отправка, фарм-клуб, группа, команда, ссылка, анюк, новосельцев, спортивный, точка, зрение, подобный, шаг, отношение, шат, дзюба, спорный, футболист, главный, роль, расцвет, сила, олег, артём, лидер, команда, сборный, итальянский, наставник, зенит, игрок, нужный, ...]\n",
              "3                                                                [испания, фанат, главный, пятничный, новость, спартак, решение, дисциплинарный, комитет, уефа, закрытие, гостев, сектор, выездной, матч, севилья, ноябрь, штраф, размер, тысяча, наказание, красно-белые, беспорядок, устроенный, московский, фанат, словения, игра, марибора, болельщик, россия, пиротехник, залповый, ракетница, голова, судья, матч, минута, клуб, спартак, клуб, возможный, наказание, минимальный, подробность, важный, выход, регламент, уефа, спартак, минимальный, наказание, тысяча, файер, ракетница, гостев, сектор, севилья, наказание, матч, зритель, появление, файер, следующий, матч, спартак, серьёзный, санкция, болельщик, уровень, повод, клуб, сверхурочный, работа, чемпионат, слово, глава, департамент, связь, общественность, спартак, леонид, трахтенберг, чиновник, уефа, болельщик, спартак, случай, повторный, нарушение, команда, серьёзный, санкция, сожаление, вероятность, рецидив, домашний, матч, ливерпуль, фанат, ...]\n",
              "4                                                                                                                                                                                                                                                                                                                                                                                                                                                                                                                                                                                                                                                                               [постпред, россия, оон, виталий, чуркин, вещание, телеканал, аббревиатура, известный, мир, название, оон, чуркин, оон, один, самый, известный, аббревиатура, мир, русский, январь, кристина, галл, присоединение, трансляция, внутренний, сеть, оон, сотрудник, оон, делегат, официальный, лицо, ведущий, новостной, канал, радость, новое, член, наш, сеть]\n",
              "Name: phrases, dtype: object"
            ]
          },
          "metadata": {
            "tags": []
          },
          "execution_count": 37
        }
      ]
    },
    {
      "cell_type": "code",
      "metadata": {
        "id": "6bbfGtdBM8L4",
        "colab_type": "code",
        "colab": {}
      },
      "source": [
        "key_words = data['phrases'].apply(lambda x: [x[0] for x in Counter(x).most_common(20)])"
      ],
      "execution_count": 38,
      "outputs": []
    },
    {
      "cell_type": "code",
      "metadata": {
        "id": "4w8n2weCM8S7",
        "colab_type": "code",
        "colab": {
          "base_uri": "https://localhost:8080/",
          "height": 0
        },
        "outputId": "923011b5-953b-44cd-8403-29d8fbf68048"
      },
      "source": [
        "evaluate(data['keywords'], key_words)"
      ],
      "execution_count": 39,
      "outputs": [
        {
          "output_type": "stream",
          "text": [
            "Precision -  0.09\n",
            "Recall -  0.21\n",
            "F1 -  0.12\n",
            "Jaccard -  0.06\n"
          ],
          "name": "stdout"
        }
      ]
    },
    {
      "cell_type": "markdown",
      "metadata": {
        "id": "OJqVn24YOSW0",
        "colab_type": "text"
      },
      "source": [
        "Полнота выросла, но остальные метрики - нет."
      ]
    }
  ]
}