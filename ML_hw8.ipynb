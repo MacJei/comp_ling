{
  "nbformat": 4,
  "nbformat_minor": 0,
  "metadata": {
    "colab": {
      "name": "ML_hw8",
      "provenance": [],
      "authorship_tag": "ABX9TyNkxv9YuoxJDo1ouc7WXa+I",
      "include_colab_link": true
    },
    "kernelspec": {
      "name": "python3",
      "display_name": "Python 3"
    }
  },
  "cells": [
    {
      "cell_type": "markdown",
      "metadata": {
        "id": "view-in-github",
        "colab_type": "text"
      },
      "source": [
        "<a href=\"https://colab.research.google.com/github/lnpetrova/comp_ling/blob/master/ML_hw8.ipynb\" target=\"_parent\"><img src=\"https://colab.research.google.com/assets/colab-badge.svg\" alt=\"Open In Colab\"/></a>"
      ]
    },
    {
      "cell_type": "markdown",
      "metadata": {
        "id": "xshp-xzGKjJP",
        "colab_type": "text"
      },
      "source": [
        "# **Импорты**"
      ]
    },
    {
      "cell_type": "code",
      "metadata": {
        "id": "0F8dEUgZX9_0",
        "colab_type": "code",
        "colab": {
          "base_uri": "https://localhost:8080/",
          "height": 87
        },
        "outputId": "d038bacf-0fe0-452c-fc46-40d2aaf42dbf"
      },
      "source": [
        "import tensorflow as tf\n",
        "from tensorflow.keras.layers import Activation, LSTM, Bidirectional, TimeDistributed, InputLayer, Embedding, Input, Dropout, Flatten, Conv1D\n",
        "from tensorflow.keras.preprocessing.sequence import pad_sequences\n",
        "from tensorflow.keras.utils import to_categorical\n",
        "from tensorflow.keras.models import Model\n",
        "\n",
        "import numpy as np\n",
        "from itertools import chain\n",
        "from sklearn.model_selection import train_test_split\n",
        "import matplotlib.pyplot as plt\n",
        "from collections import Counter\n",
        "import nltk\n",
        "nltk.download('punkt')\n",
        "nltk.download('treebank')\n",
        "from string import punctuation\n",
        "punct = punctuation+'«»—…“”*№–'"
      ],
      "execution_count": 2,
      "outputs": [
        {
          "output_type": "stream",
          "text": [
            "[nltk_data] Downloading package punkt to /root/nltk_data...\n",
            "[nltk_data]   Unzipping tokenizers/punkt.zip.\n",
            "[nltk_data] Downloading package treebank to /root/nltk_data...\n",
            "[nltk_data]   Unzipping corpora/treebank.zip.\n"
          ],
          "name": "stdout"
        }
      ]
    },
    {
      "cell_type": "code",
      "metadata": {
        "id": "Cbz-TjAcZxmX",
        "colab_type": "code",
        "colab": {}
      },
      "source": [
        "from numpy.random import seed\n",
        "seed(0)\n",
        "from tensorflow.random import set_seed\n",
        "set_seed(0)"
      ],
      "execution_count": 3,
      "outputs": []
    },
    {
      "cell_type": "code",
      "metadata": {
        "id": "ajjqCARLZzRZ",
        "colab_type": "code",
        "colab": {}
      },
      "source": [
        "tagged_sentences = nltk.corpus.treebank.tagged_sents()"
      ],
      "execution_count": 5,
      "outputs": []
    },
    {
      "cell_type": "code",
      "metadata": {
        "id": "AzZDMGeIb76F",
        "colab_type": "code",
        "colab": {
          "base_uri": "https://localhost:8080/",
          "height": 329
        },
        "outputId": "01ad6700-32d6-43c0-833e-90bcc981cbd2"
      },
      "source": [
        "tagged_sentences[0]"
      ],
      "execution_count": 6,
      "outputs": [
        {
          "output_type": "execute_result",
          "data": {
            "text/plain": [
              "[('Pierre', 'NNP'),\n",
              " ('Vinken', 'NNP'),\n",
              " (',', ','),\n",
              " ('61', 'CD'),\n",
              " ('years', 'NNS'),\n",
              " ('old', 'JJ'),\n",
              " (',', ','),\n",
              " ('will', 'MD'),\n",
              " ('join', 'VB'),\n",
              " ('the', 'DT'),\n",
              " ('board', 'NN'),\n",
              " ('as', 'IN'),\n",
              " ('a', 'DT'),\n",
              " ('nonexecutive', 'JJ'),\n",
              " ('director', 'NN'),\n",
              " ('Nov.', 'NNP'),\n",
              " ('29', 'CD'),\n",
              " ('.', '.')]"
            ]
          },
          "metadata": {
            "tags": []
          },
          "execution_count": 6
        }
      ]
    },
    {
      "cell_type": "code",
      "metadata": {
        "id": "OTUOsIXHcBSz",
        "colab_type": "code",
        "colab": {}
      },
      "source": [
        "sentences, sentence_tags =[], [] \n",
        "for tagged_sentence in tagged_sentences:\n",
        "    sentence, tags = zip(*tagged_sentence)\n",
        "    sentences.append(sentence)\n",
        "    sentence_tags.append(tags)"
      ],
      "execution_count": 7,
      "outputs": []
    },
    {
      "cell_type": "code",
      "metadata": {
        "id": "RM4ByrH1cBe9",
        "colab_type": "code",
        "colab": {
          "base_uri": "https://localhost:8080/",
          "height": 329
        },
        "outputId": "d356eedb-53c1-44e7-930f-5310eb0f0061"
      },
      "source": [
        "sentence_tags[0]"
      ],
      "execution_count": 8,
      "outputs": [
        {
          "output_type": "execute_result",
          "data": {
            "text/plain": [
              "('NNP',\n",
              " 'NNP',\n",
              " ',',\n",
              " 'CD',\n",
              " 'NNS',\n",
              " 'JJ',\n",
              " ',',\n",
              " 'MD',\n",
              " 'VB',\n",
              " 'DT',\n",
              " 'NN',\n",
              " 'IN',\n",
              " 'DT',\n",
              " 'JJ',\n",
              " 'NN',\n",
              " 'NNP',\n",
              " 'CD',\n",
              " '.')"
            ]
          },
          "metadata": {
            "tags": []
          },
          "execution_count": 8
        }
      ]
    },
    {
      "cell_type": "code",
      "metadata": {
        "id": "xIsZGpDtcBjw",
        "colab_type": "code",
        "colab": {}
      },
      "source": [
        "sent_train, sent_test, tag_train, tag_test = train_test_split(sentences, sentence_tags, test_size=0.2, random_state=0)"
      ],
      "execution_count": 9,
      "outputs": []
    },
    {
      "cell_type": "code",
      "metadata": {
        "id": "aVmz5dnMeELX",
        "colab_type": "code",
        "colab": {}
      },
      "source": [
        "vocab = Counter()\n",
        "for sent in sent_train:\n",
        "    sent = [word.lower() for word in sent]\n",
        "    vocab.update(sent)"
      ],
      "execution_count": 10,
      "outputs": []
    },
    {
      "cell_type": "code",
      "metadata": {
        "id": "uZcl-owMeEY8",
        "colab_type": "code",
        "colab": {}
      },
      "source": [
        "filtered_vocab = {word for word in vocab if vocab[word] > 5}"
      ],
      "execution_count": 11,
      "outputs": []
    },
    {
      "cell_type": "code",
      "metadata": {
        "id": "gCn9swZjeQZc",
        "colab_type": "code",
        "colab": {
          "base_uri": "https://localhost:8080/",
          "height": 35
        },
        "outputId": "ce812d89-261f-473d-bd1b-498aa57a8755"
      },
      "source": [
        "len(filtered_vocab)"
      ],
      "execution_count": 12,
      "outputs": [
        {
          "output_type": "execute_result",
          "data": {
            "text/plain": [
              "1679"
            ]
          },
          "metadata": {
            "tags": []
          },
          "execution_count": 12
        }
      ]
    },
    {
      "cell_type": "code",
      "metadata": {
        "id": "3ziNDvsmeQeY",
        "colab_type": "code",
        "colab": {}
      },
      "source": [
        "word2id = {'PAD':0,'UNK':1}    \n",
        "for i,word in enumerate(filtered_vocab):\n",
        "      word2id[word] = i + 2\n",
        "\n",
        "id2word = {i:word for word, i in word2id.items()}"
      ],
      "execution_count": 13,
      "outputs": []
    },
    {
      "cell_type": "code",
      "metadata": {
        "id": "0qhruO5aeQnZ",
        "colab_type": "code",
        "colab": {}
      },
      "source": [
        "tag2id = {'PAD':0}  \n",
        "for tags in tag_train:\n",
        "    for tag in tags:\n",
        "      if tag.lower() not in tag2id:\n",
        "        tag2id[tag.lower()] = len(tag2id)\n",
        "\n",
        "id2tag = {i:tag for tag, i in tag2id.items()}"
      ],
      "execution_count": 14,
      "outputs": []
    },
    {
      "cell_type": "code",
      "metadata": {
        "id": "Rx3LBEwwe_t5",
        "colab_type": "code",
        "colab": {
          "base_uri": "https://localhost:8080/",
          "height": 35
        },
        "outputId": "f5da9fd1-25fe-4c1b-af50-2d85a39e8f6b"
      },
      "source": [
        "len(id2tag)"
      ],
      "execution_count": 15,
      "outputs": [
        {
          "output_type": "execute_result",
          "data": {
            "text/plain": [
              "47"
            ]
          },
          "metadata": {
            "tags": []
          },
          "execution_count": 15
        }
      ]
    },
    {
      "cell_type": "code",
      "metadata": {
        "id": "ARWahZvqeQqv",
        "colab_type": "code",
        "colab": {}
      },
      "source": [
        "def data2ints(data, smth2id):\n",
        "  int_data = []\n",
        "  for seq in data:\n",
        "      int_seq = []\n",
        "      for i in seq:\n",
        "          try:\n",
        "            int_seq.append(smth2id[i.lower()])\n",
        "          except KeyError:\n",
        "            int_seq.append(smth2id['UNK'])\n",
        "  \n",
        "      int_data.append(int_seq)\n",
        "  return int_data"
      ],
      "execution_count": 16,
      "outputs": []
    },
    {
      "cell_type": "code",
      "metadata": {
        "id": "QJ8S5mjLeQlP",
        "colab_type": "code",
        "colab": {
          "base_uri": "https://localhost:8080/",
          "height": 87
        },
        "outputId": "41ff336c-24a2-42a4-f24e-d1b5f536a953"
      },
      "source": [
        "X_train_ids, X_test_ids = data2ints(sent_train, word2id), data2ints(sent_test, word2id)\n",
        "y_train_ids, y_test_ids = data2ints(tag_train, tag2id), data2ints(tag_test, tag2id)\n",
        "\n",
        "\n",
        "print(X_train_ids[0])\n",
        "print(X_test_ids[0])\n",
        "print(y_train_ids[0])\n",
        "print(y_test_ids[0])"
      ],
      "execution_count": 17,
      "outputs": [
        {
          "output_type": "stream",
          "text": [
            "[111, 1, 1, 1, 1288, 1, 1115, 1225, 1286]\n",
            "[1680, 631, 1485, 320, 796, 1105, 790, 1, 1616, 1, 1067, 169, 1352, 1286]\n",
            "[1, 1, 1, 2, 1, 1, 3, 4, 5]\n",
            "[18, 19, 21, 24, 10, 25, 24, 18, 21, 14, 3, 7, 15, 5]\n"
          ],
          "name": "stdout"
        }
      ]
    },
    {
      "cell_type": "code",
      "metadata": {
        "id": "xU_DmEK-eQip",
        "colab_type": "code",
        "colab": {}
      },
      "source": [
        "MAX_LEN = max(len(x) for x in X_train_ids)"
      ],
      "execution_count": 18,
      "outputs": []
    },
    {
      "cell_type": "code",
      "metadata": {
        "id": "3_wQqVxqfmiS",
        "colab_type": "code",
        "colab": {}
      },
      "source": [
        "X_train, X_test = pad_sequences(X_train_ids, maxlen=MAX_LEN, padding='post'), pad_sequences(X_test_ids, maxlen=MAX_LEN, padding='post')\n",
        "y_train_pad, y_test_pad = pad_sequences(y_train_ids, maxlen=MAX_LEN, padding='post'), pad_sequences(y_test_ids, maxlen=MAX_LEN, padding='post')"
      ],
      "execution_count": 19,
      "outputs": []
    },
    {
      "cell_type": "code",
      "metadata": {
        "id": "SMLNENlefqS3",
        "colab_type": "code",
        "colab": {
          "base_uri": "https://localhost:8080/",
          "height": 35
        },
        "outputId": "334c7323-0d18-4e2c-f097-f0b18f9daed8"
      },
      "source": [
        "print(X_train.shape, y_train_pad.shape, X_test.shape, y_test_pad.shape)"
      ],
      "execution_count": 20,
      "outputs": [
        {
          "output_type": "stream",
          "text": [
            "(3131, 128) (3131, 128) (783, 128) (783, 128)\n"
          ],
          "name": "stdout"
        }
      ]
    },
    {
      "cell_type": "code",
      "metadata": {
        "id": "FeeAzRX-fqfc",
        "colab_type": "code",
        "colab": {}
      },
      "source": [
        "y_train, y_test = to_categorical(y_train_pad, num_classes=len(tag2id)), to_categorical(y_test_pad, num_classes=len(tag2id))"
      ],
      "execution_count": 21,
      "outputs": []
    },
    {
      "cell_type": "code",
      "metadata": {
        "id": "r59LFqxygj9t",
        "colab_type": "code",
        "colab": {
          "base_uri": "https://localhost:8080/",
          "height": 35
        },
        "outputId": "56b138f2-9125-438e-a3ab-45fb10cc6fba"
      },
      "source": [
        "y_test.shape"
      ],
      "execution_count": 22,
      "outputs": [
        {
          "output_type": "execute_result",
          "data": {
            "text/plain": [
              "(783, 128, 47)"
            ]
          },
          "metadata": {
            "tags": []
          },
          "execution_count": 22
        }
      ]
    },
    {
      "cell_type": "code",
      "metadata": {
        "id": "RKdNM1vS1iwD",
        "colab_type": "code",
        "colab": {}
      },
      "source": [
        "chars = Counter()\n",
        "for sent in sent_train:\n",
        "  for word in sent:\n",
        "    word = [char.lower() for char in word]\n",
        "    chars.update(word)"
      ],
      "execution_count": 23,
      "outputs": []
    },
    {
      "cell_type": "code",
      "metadata": {
        "id": "Z4woaveG7enq",
        "colab_type": "code",
        "colab": {}
      },
      "source": [
        "char2id = {'PAD':0,'UNK':1}    \n",
        "for i,char in enumerate(chars):\n",
        "      char2id[char] = i + 2\n",
        "\n",
        "id2char = {i:char for char, i in char2id.items()}"
      ],
      "execution_count": 24,
      "outputs": []
    },
    {
      "cell_type": "code",
      "metadata": {
        "id": "Ri2JkVWd4_jv",
        "colab_type": "code",
        "colab": {
          "base_uri": "https://localhost:8080/",
          "height": 35
        },
        "outputId": "c9a1ba45-05c0-459c-9b81-dffb4be455fc"
      },
      "source": [
        "MAX_CHAR_LEN = max(max(len(word) for word in sent) for sent in sent_train)\n",
        "MAX_CHAR_LEN "
      ],
      "execution_count": 25,
      "outputs": [
        {
          "output_type": "execute_result",
          "data": {
            "text/plain": [
              "24"
            ]
          },
          "metadata": {
            "tags": []
          },
          "execution_count": 25
        }
      ]
    },
    {
      "cell_type": "code",
      "metadata": {
        "id": "enLGLlnU4-Em",
        "colab_type": "code",
        "colab": {}
      },
      "source": [
        "X_train_ids_char = [data2ints(sent, char2id) for sent in sent_train]\n",
        "X_test_ids_char = [data2ints(sent, char2id) for sent in sent_test]"
      ],
      "execution_count": 26,
      "outputs": []
    },
    {
      "cell_type": "code",
      "metadata": {
        "id": "TfFAck83CQqr",
        "colab_type": "code",
        "colab": {}
      },
      "source": [
        "X_train_char = pad_sequences([pad_sequences(ids, maxlen=MAX_CHAR_LEN, padding='post') for ids in X_train_ids_char], maxlen=MAX_LEN, padding='post')\n",
        "X_test_char = pad_sequences([pad_sequences(ids, maxlen=MAX_CHAR_LEN, padding='post') for ids in X_test_ids_char], maxlen=MAX_LEN, padding='post')"
      ],
      "execution_count": 27,
      "outputs": []
    },
    {
      "cell_type": "code",
      "metadata": {
        "id": "KfPGXSlW3k2M",
        "colab_type": "code",
        "colab": {
          "base_uri": "https://localhost:8080/",
          "height": 35
        },
        "outputId": "641b31eb-96a9-46d0-f9dd-1f7a1dacc29f"
      },
      "source": [
        "print(X_train_char.shape, X_test_char.shape)"
      ],
      "execution_count": 28,
      "outputs": [
        {
          "output_type": "stream",
          "text": [
            "(3131, 128, 24) (783, 128, 24)\n"
          ],
          "name": "stdout"
        }
      ]
    },
    {
      "cell_type": "code",
      "metadata": {
        "id": "4BLxf4kgYN9s",
        "colab_type": "code",
        "colab": {}
      },
      "source": [
        "from tensorflow.keras.layers import Concatenate, Dense"
      ],
      "execution_count": 29,
      "outputs": []
    },
    {
      "cell_type": "code",
      "metadata": {
        "id": "IOId7TZC4iPS",
        "colab_type": "code",
        "colab": {}
      },
      "source": [
        "input1 = Input(shape=(MAX_LEN,))\n",
        "embeddings1 = Embedding(input_dim=len(word2id), output_dim=100, mask_zero=True)(input1)\n",
        "bilstm1 = Bidirectional(LSTM(128, return_sequences=True))(embeddings1)\n",
        "drop1 = Dropout(0.2)(bilstm1)\n",
        "\n",
        "input2 = Input(shape=(MAX_LEN, MAX_CHAR_LEN,))\n",
        "embeddings2 = TimeDistributed(Embedding(len(char2id),output_dim=40))(input2)\n",
        "conv = TimeDistributed(tf.keras.layers.Conv1D(25, 3, 1))(embeddings2)\n",
        "flat = TimeDistributed(Flatten(), name='flat')(conv)\n",
        "drop2 = Dropout(0.2)(flat)\n",
        "drops = Concatenate()([drop1, drop2])\n",
        "\n",
        "bi = Bidirectional(LSTM(128, return_sequences=True))(drops)\n",
        "outputs = TimeDistributed(Dense(len(tag2id), activation='softmax'))(bi)\n",
        "\n",
        "model = tf.keras.Model(inputs=[input1, input2], outputs=outputs)\n",
        "model.compile(optimizer='Adam',\n",
        "              loss='categorical_crossentropy',\n",
        "              metrics=['accuracy'])"
      ],
      "execution_count": 30,
      "outputs": []
    },
    {
      "cell_type": "code",
      "metadata": {
        "id": "JCJgDpy4JHOr",
        "colab_type": "code",
        "colab": {
          "base_uri": "https://localhost:8080/",
          "height": 589
        },
        "outputId": "65a1dc40-3758-4397-84a2-26d01175a7f7"
      },
      "source": [
        "model.summary()"
      ],
      "execution_count": 31,
      "outputs": [
        {
          "output_type": "stream",
          "text": [
            "Model: \"model\"\n",
            "__________________________________________________________________________________________________\n",
            "Layer (type)                    Output Shape         Param #     Connected to                     \n",
            "==================================================================================================\n",
            "input_2 (InputLayer)            [(None, 128, 24)]    0                                            \n",
            "__________________________________________________________________________________________________\n",
            "input_1 (InputLayer)            [(None, 128)]        0                                            \n",
            "__________________________________________________________________________________________________\n",
            "time_distributed (TimeDistribut (None, 128, 24, 40)  2160        input_2[0][0]                    \n",
            "__________________________________________________________________________________________________\n",
            "embedding (Embedding)           (None, 128, 100)     168100      input_1[0][0]                    \n",
            "__________________________________________________________________________________________________\n",
            "time_distributed_1 (TimeDistrib (None, 128, 22, 25)  3025        time_distributed[0][0]           \n",
            "__________________________________________________________________________________________________\n",
            "bidirectional (Bidirectional)   (None, 128, 256)     234496      embedding[0][0]                  \n",
            "__________________________________________________________________________________________________\n",
            "flat (TimeDistributed)          (None, 128, 550)     0           time_distributed_1[0][0]         \n",
            "__________________________________________________________________________________________________\n",
            "dropout (Dropout)               (None, 128, 256)     0           bidirectional[0][0]              \n",
            "__________________________________________________________________________________________________\n",
            "dropout_1 (Dropout)             (None, 128, 550)     0           flat[0][0]                       \n",
            "__________________________________________________________________________________________________\n",
            "concatenate (Concatenate)       (None, 128, 806)     0           dropout[0][0]                    \n",
            "                                                                 dropout_1[0][0]                  \n",
            "__________________________________________________________________________________________________\n",
            "bidirectional_1 (Bidirectional) (None, 128, 256)     957440      concatenate[0][0]                \n",
            "__________________________________________________________________________________________________\n",
            "time_distributed_2 (TimeDistrib (None, 128, 47)      12079       bidirectional_1[0][0]            \n",
            "==================================================================================================\n",
            "Total params: 1,377,300\n",
            "Trainable params: 1,377,300\n",
            "Non-trainable params: 0\n",
            "__________________________________________________________________________________________________\n"
          ],
          "name": "stdout"
        }
      ]
    },
    {
      "cell_type": "code",
      "metadata": {
        "id": "p5MZWetGafzp",
        "colab_type": "code",
        "colab": {
          "base_uri": "https://localhost:8080/",
          "height": 555
        },
        "outputId": "b49ed6da-8dd4-4743-ba64-92b842c5d91a"
      },
      "source": [
        "model.fit([X_train, X_train_char], y_train, \n",
        "          validation_data=([X_test, X_test_char], y_test),\n",
        "          batch_size=64,\n",
        "          epochs=15)"
      ],
      "execution_count": 33,
      "outputs": [
        {
          "output_type": "stream",
          "text": [
            "Epoch 1/15\n",
            "49/49 [==============================] - 121s 2s/step - loss: 0.3269 - accuracy: 0.1088 - val_loss: 0.2161 - val_accuracy: 0.1448\n",
            "Epoch 2/15\n",
            "49/49 [==============================] - 121s 2s/step - loss: 0.1521 - accuracy: 0.1595 - val_loss: 0.1168 - val_accuracy: 0.1746\n",
            "Epoch 3/15\n",
            "49/49 [==============================] - 121s 2s/step - loss: 0.0909 - accuracy: 0.1750 - val_loss: 0.0838 - val_accuracy: 0.1826\n",
            "Epoch 4/15\n",
            "49/49 [==============================] - 122s 2s/step - loss: 0.0666 - accuracy: 0.1810 - val_loss: 0.0684 - val_accuracy: 0.1857\n",
            "Epoch 5/15\n",
            "49/49 [==============================] - 122s 2s/step - loss: 0.0544 - accuracy: 0.1840 - val_loss: 0.0646 - val_accuracy: 0.1863\n",
            "Epoch 6/15\n",
            "49/49 [==============================] - 121s 2s/step - loss: 0.0472 - accuracy: 0.1857 - val_loss: 0.0553 - val_accuracy: 0.1893\n",
            "Epoch 7/15\n",
            "49/49 [==============================] - 121s 2s/step - loss: 0.0422 - accuracy: 0.1870 - val_loss: 0.0515 - val_accuracy: 0.1902\n",
            "Epoch 8/15\n",
            "49/49 [==============================] - 120s 2s/step - loss: 0.0374 - accuracy: 0.1883 - val_loss: 0.0500 - val_accuracy: 0.1903\n",
            "Epoch 9/15\n",
            "49/49 [==============================] - 120s 2s/step - loss: 0.0339 - accuracy: 0.1893 - val_loss: 0.0474 - val_accuracy: 0.1911\n",
            "Epoch 10/15\n",
            "49/49 [==============================] - 121s 2s/step - loss: 0.0307 - accuracy: 0.1902 - val_loss: 0.0470 - val_accuracy: 0.1912\n",
            "Epoch 11/15\n",
            "49/49 [==============================] - 120s 2s/step - loss: 0.0282 - accuracy: 0.1909 - val_loss: 0.0456 - val_accuracy: 0.1912\n",
            "Epoch 12/15\n",
            "49/49 [==============================] - 120s 2s/step - loss: 0.0259 - accuracy: 0.1915 - val_loss: 0.0466 - val_accuracy: 0.1914\n",
            "Epoch 13/15\n",
            "49/49 [==============================] - 120s 2s/step - loss: 0.0236 - accuracy: 0.1923 - val_loss: 0.0460 - val_accuracy: 0.1915\n",
            "Epoch 14/15\n",
            "49/49 [==============================] - 120s 2s/step - loss: 0.0215 - accuracy: 0.1930 - val_loss: 0.0470 - val_accuracy: 0.1915\n",
            "Epoch 15/15\n",
            "49/49 [==============================] - 120s 2s/step - loss: 0.0195 - accuracy: 0.1937 - val_loss: 0.0481 - val_accuracy: 0.1911\n"
          ],
          "name": "stdout"
        },
        {
          "output_type": "execute_result",
          "data": {
            "text/plain": [
              "<tensorflow.python.keras.callbacks.History at 0x7f5b8bc90cf8>"
            ]
          },
          "metadata": {
            "tags": []
          },
          "execution_count": 33
        }
      ]
    },
    {
      "cell_type": "markdown",
      "metadata": {
        "id": "ncY3AvEeVEVG",
        "colab_type": "text"
      },
      "source": [
        "# **Функция для проверки**"
      ]
    },
    {
      "cell_type": "code",
      "metadata": {
        "id": "ah-YSwt8forL",
        "colab_type": "code",
        "colab": {}
      },
      "source": [
        "def checking(text, model=model):\n",
        "    chars = [[char2id.get(char.lower(), 1) for char in word] for word in text]\n",
        "    sent = [word2id.get(word.lower(), 1) for word in text]\n",
        "    pad_chars = pad_sequences([pad_sequences(ids, maxlen=MAX_CHAR_LEN, padding='post') for ids in [chars]], maxlen=MAX_LEN, padding='post')   \n",
        "    pad_sent = pad_sequences([sent], maxlen=MAX_LEN, padding='post')\n",
        "    predicted_tags = model.predict([pad_sent, pad_chars])\n",
        "    predicted_tags = [id2tag[tag] for tag in np.argmax(predicted_tags, axis=2)[0, :len(text)]]\n",
        "    tagged_sent= list(zip(text, predicted_tags))\n",
        "    return tagged_sent"
      ],
      "execution_count": 66,
      "outputs": []
    },
    {
      "cell_type": "code",
      "metadata": {
        "id": "8a2bTomrV-YG",
        "colab_type": "code",
        "colab": {
          "base_uri": "https://localhost:8080/",
          "height": 260
        },
        "outputId": "bc24ca0a-8616-49a9-cfcf-d74f3370f26c"
      },
      "source": [
        "checking(sent_test[0], model)"
      ],
      "execution_count": 67,
      "outputs": [
        {
          "output_type": "execute_result",
          "data": {
            "text/plain": [
              "[('You', 'prp'),\n",
              " ('do', 'vbp'),\n",
              " (\"n't\", 'rb'),\n",
              " ('want', 'vb'),\n",
              " ('*-1', '-none-'),\n",
              " ('to', 'to'),\n",
              " ('get', 'vb'),\n",
              " ('yourself', 'nn'),\n",
              " ('too', 'rb'),\n",
              " ('upset', 'vbn'),\n",
              " ('about', 'in'),\n",
              " ('these', 'dt'),\n",
              " ('things', 'nns'),\n",
              " ('.', '.')]"
            ]
          },
          "metadata": {
            "tags": []
          },
          "execution_count": 67
        }
      ]
    },
    {
      "cell_type": "code",
      "metadata": {
        "id": "W8ymt3pCi-KY",
        "colab_type": "code",
        "colab": {
          "base_uri": "https://localhost:8080/",
          "height": 485
        },
        "outputId": "9415f1fa-5940-4853-c327-4636a1030af0"
      },
      "source": [
        "checking(sent_test[5], model)"
      ],
      "execution_count": 68,
      "outputs": [
        {
          "output_type": "execute_result",
          "data": {
            "text/plain": [
              "[('Mr.', 'nnp'),\n",
              " ('Reupke', 'nnp'),\n",
              " ('was', 'vbd'),\n",
              " ('one', 'cd'),\n",
              " ('of', 'in'),\n",
              " ('three', 'cd'),\n",
              " ('executives', 'nns'),\n",
              " ('on', 'in'),\n",
              " ('Reuters', 'nnp'),\n",
              " (\"'s\", 'pos'),\n",
              " ('eight-person', 'jj'),\n",
              " ('executive', 'jj'),\n",
              " ('committee', 'nn'),\n",
              " ('who', 'wp'),\n",
              " ('*T*-1', '-none-'),\n",
              " ('did', 'vbd'),\n",
              " (\"n't\", 'rb'),\n",
              " ('also', 'rb'),\n",
              " ('serve', 'vb'),\n",
              " ('on', 'in'),\n",
              " ('the', 'dt'),\n",
              " ('company', 'nn'),\n",
              " (\"'s\", 'pos'),\n",
              " ('board', 'nn'),\n",
              " ('of', 'in'),\n",
              " ('directors', 'nns'),\n",
              " ('.', '.')]"
            ]
          },
          "metadata": {
            "tags": []
          },
          "execution_count": 68
        }
      ]
    }
  ]
}