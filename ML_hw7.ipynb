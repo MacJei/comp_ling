{
  "nbformat": 4,
  "nbformat_minor": 0,
  "metadata": {
    "colab": {
      "name": "ML_hw7.ipynb",
      "provenance": [],
      "authorship_tag": "ABX9TyP1Z6iAWld/4f3SPU6vsLyQ",
      "include_colab_link": true
    },
    "kernelspec": {
      "name": "python3",
      "display_name": "Python 3"
    },
    "accelerator": "GPU"
  },
  "cells": [
    {
      "cell_type": "markdown",
      "metadata": {
        "id": "view-in-github",
        "colab_type": "text"
      },
      "source": [
        "<a href=\"https://colab.research.google.com/github/lnpetrova/comp_ling/blob/master/ML_hw7.ipynb\" target=\"_parent\"><img src=\"https://colab.research.google.com/assets/colab-badge.svg\" alt=\"Open In Colab\"/></a>"
      ]
    },
    {
      "cell_type": "markdown",
      "metadata": {
        "id": "cEl6lcgz3WxP",
        "colab_type": "text"
      },
      "source": [
        "# **Импорты**"
      ]
    },
    {
      "cell_type": "code",
      "metadata": {
        "id": "OiJ8b_0JmHDc",
        "colab_type": "code",
        "colab": {
          "base_uri": "https://localhost:8080/",
          "height": 245
        },
        "outputId": "3e84a1e0-f30a-4935-8a99-cdcc3a2ec4dd"
      },
      "source": [
        "!pip3 install pandas scikit-learn matplotlib"
      ],
      "execution_count": 2,
      "outputs": [
        {
          "output_type": "stream",
          "text": [
            "Requirement already satisfied: pandas in /usr/local/lib/python3.6/dist-packages (1.0.5)\n",
            "Requirement already satisfied: scikit-learn in /usr/local/lib/python3.6/dist-packages (0.22.2.post1)\n",
            "Requirement already satisfied: matplotlib in /usr/local/lib/python3.6/dist-packages (3.2.2)\n",
            "Requirement already satisfied: python-dateutil>=2.6.1 in /usr/local/lib/python3.6/dist-packages (from pandas) (2.8.1)\n",
            "Requirement already satisfied: numpy>=1.13.3 in /usr/local/lib/python3.6/dist-packages (from pandas) (1.18.5)\n",
            "Requirement already satisfied: pytz>=2017.2 in /usr/local/lib/python3.6/dist-packages (from pandas) (2018.9)\n",
            "Requirement already satisfied: scipy>=0.17.0 in /usr/local/lib/python3.6/dist-packages (from scikit-learn) (1.4.1)\n",
            "Requirement already satisfied: joblib>=0.11 in /usr/local/lib/python3.6/dist-packages (from scikit-learn) (0.15.1)\n",
            "Requirement already satisfied: kiwisolver>=1.0.1 in /usr/local/lib/python3.6/dist-packages (from matplotlib) (1.2.0)\n",
            "Requirement already satisfied: cycler>=0.10 in /usr/local/lib/python3.6/dist-packages (from matplotlib) (0.10.0)\n",
            "Requirement already satisfied: pyparsing!=2.0.4,!=2.1.2,!=2.1.6,>=2.0.1 in /usr/local/lib/python3.6/dist-packages (from matplotlib) (2.4.7)\n",
            "Requirement already satisfied: six>=1.5 in /usr/local/lib/python3.6/dist-packages (from python-dateutil>=2.6.1->pandas) (1.12.0)\n"
          ],
          "name": "stdout"
        }
      ]
    },
    {
      "cell_type": "code",
      "metadata": {
        "id": "YXV-XfhFmNS5",
        "colab_type": "code",
        "colab": {}
      },
      "source": [
        "import tensorflow as tf\n",
        "import pandas as pd\n",
        "import numpy as np\n",
        "from string import punctuation\n",
        "from sklearn.model_selection import train_test_split\n",
        "from sklearn.metrics import classification_report\n",
        "from collections import Counter\n",
        "import matplotlib.pyplot as plt\n",
        "%matplotlib inline\n",
        "from string import punctuation, digits, ascii_lowercase\n",
        "punct = punctuation+'«»—…“”*№–'"
      ],
      "execution_count": 7,
      "outputs": []
    },
    {
      "cell_type": "code",
      "metadata": {
        "id": "eRu0uQB6pDco",
        "colab_type": "code",
        "colab": {}
      },
      "source": [
        "from tensorflow.keras import backend as K\n",
        "def f1(y_true, y_pred):\n",
        "    def recall(y_true, y_pred):\n",
        "        \"\"\"Recall metric.\n",
        "\n",
        "        Only computes a batch-wise average of recall.\n",
        "\n",
        "        Computes the recall, a metric for multi-label classification of\n",
        "        how many relevant items are selected.\n",
        "        \"\"\"\n",
        "        true_positives = K.sum(K.round(K.clip(y_true * y_pred, 0, 1)))\n",
        "        possible_positives = K.sum(K.round(K.clip(y_true, 0, 1)))\n",
        "        recall = true_positives / (possible_positives + K.epsilon())\n",
        "        return recall\n",
        "\n",
        "    def precision(y_true, y_pred):\n",
        "        \"\"\"Precision metric.\n",
        "\n",
        "        Only computes a batch-wise average of precision.\n",
        "\n",
        "        Computes the precision, a metric for multi-label classification of\n",
        "        how many selected items are relevant.\n",
        "        \"\"\"\n",
        "        true_positives = K.sum(K.round(K.clip(y_true * y_pred, 0, 1)))\n",
        "        predicted_positives = K.sum(K.round(K.clip(y_pred, 0, 1)))\n",
        "        precision = true_positives / (predicted_positives + K.epsilon())\n",
        "        return precision\n",
        "    precision = precision(y_true, y_pred)\n",
        "    recall = recall(y_true, y_pred)\n",
        "    return 2*((precision*recall)/(precision+recall+K.epsilon()))"
      ],
      "execution_count": 5,
      "outputs": []
    },
    {
      "cell_type": "code",
      "metadata": {
        "id": "LJE-IjZKmjdp",
        "colab_type": "code",
        "colab": {}
      },
      "source": [
        "def make_plot(model):\n",
        "  print(model.history.history.keys())\n",
        "  plt.plot(model.history.history['f1'])\n",
        "  plt.plot(model.history.history['val_f1'])\n",
        "  plt.title('model f1')\n",
        "  plt.ylabel('f1')\n",
        "  plt.xlabel('epoch')\n",
        "  plt.legend(['train', 'val'], loc='upper left')\n",
        "  plt.show()"
      ],
      "execution_count": 3,
      "outputs": []
    },
    {
      "cell_type": "markdown",
      "metadata": {
        "id": "FXESQl5hpLM9",
        "colab_type": "text"
      },
      "source": [
        "# **Данные**"
      ]
    },
    {
      "cell_type": "code",
      "metadata": {
        "id": "btmLuow33bgJ",
        "colab_type": "code",
        "colab": {
          "base_uri": "https://localhost:8080/",
          "height": 384
        },
        "outputId": "2e365702-f2fb-4939-eb88-f37d025e59ea"
      },
      "source": [
        "!wget https://www.dropbox.com/s/kztcxbki36m8yrn/quora.csv?dl=0"
      ],
      "execution_count": 1,
      "outputs": [
        {
          "output_type": "stream",
          "text": [
            "--2020-06-28 15:42:46--  https://www.dropbox.com/s/kztcxbki36m8yrn/quora.csv?dl=0\n",
            "Resolving www.dropbox.com (www.dropbox.com)... 162.125.1.1, 2620:100:6016:1::a27d:101\n",
            "Connecting to www.dropbox.com (www.dropbox.com)|162.125.1.1|:443... connected.\n",
            "HTTP request sent, awaiting response... 301 Moved Permanently\n",
            "Location: /s/raw/kztcxbki36m8yrn/quora.csv [following]\n",
            "--2020-06-28 15:42:47--  https://www.dropbox.com/s/raw/kztcxbki36m8yrn/quora.csv\n",
            "Reusing existing connection to www.dropbox.com:443.\n",
            "HTTP request sent, awaiting response... 302 Found\n",
            "Location: https://uc5fe3f3f3f1d4e87e56dac4efb9.dl.dropboxusercontent.com/cd/0/inline/A6hX0LvAQ8OCIJ2e9HnTb9VSAbhAKLzAmDLyFK2-R48NmU98sQKoz4yZ1eIZkefgBRLQRtI03YQNzrY1Dt8vQEgTx6rFnePXgf_yvIoUyRrO4XegdJa9qZoIjBEkz5WVTwc/file# [following]\n",
            "--2020-06-28 15:42:47--  https://uc5fe3f3f3f1d4e87e56dac4efb9.dl.dropboxusercontent.com/cd/0/inline/A6hX0LvAQ8OCIJ2e9HnTb9VSAbhAKLzAmDLyFK2-R48NmU98sQKoz4yZ1eIZkefgBRLQRtI03YQNzrY1Dt8vQEgTx6rFnePXgf_yvIoUyRrO4XegdJa9qZoIjBEkz5WVTwc/file\n",
            "Resolving uc5fe3f3f3f1d4e87e56dac4efb9.dl.dropboxusercontent.com (uc5fe3f3f3f1d4e87e56dac4efb9.dl.dropboxusercontent.com)... 162.125.1.15, 2620:100:6016:15::a27d:10f\n",
            "Connecting to uc5fe3f3f3f1d4e87e56dac4efb9.dl.dropboxusercontent.com (uc5fe3f3f3f1d4e87e56dac4efb9.dl.dropboxusercontent.com)|162.125.1.15|:443... connected.\n",
            "HTTP request sent, awaiting response... 200 OK\n",
            "Length: 124206772 (118M) [text/plain]\n",
            "Saving to: ‘quora.csv?dl=0’\n",
            "\n",
            "quora.csv?dl=0      100%[===================>] 118.45M  43.0MB/s    in 2.8s    \n",
            "\n",
            "2020-06-28 15:42:50 (43.0 MB/s) - ‘quora.csv?dl=0’ saved [124206772/124206772]\n",
            "\n"
          ],
          "name": "stdout"
        }
      ]
    },
    {
      "cell_type": "code",
      "metadata": {
        "id": "51SVWFZ4pRzc",
        "colab_type": "code",
        "colab": {}
      },
      "source": [
        "quora = pd.read_csv('quora.csv?dl=0')"
      ],
      "execution_count": 8,
      "outputs": []
    },
    {
      "cell_type": "code",
      "metadata": {
        "id": "eEn_hjvepnCr",
        "colab_type": "code",
        "colab": {
          "base_uri": "https://localhost:8080/",
          "height": 415
        },
        "outputId": "86b26665-d54a-402d-92ae-e9a95dd3ed5f"
      },
      "source": [
        "quora"
      ],
      "execution_count": 9,
      "outputs": [
        {
          "output_type": "execute_result",
          "data": {
            "text/html": [
              "<div>\n",
              "<style scoped>\n",
              "    .dataframe tbody tr th:only-of-type {\n",
              "        vertical-align: middle;\n",
              "    }\n",
              "\n",
              "    .dataframe tbody tr th {\n",
              "        vertical-align: top;\n",
              "    }\n",
              "\n",
              "    .dataframe thead th {\n",
              "        text-align: right;\n",
              "    }\n",
              "</style>\n",
              "<table border=\"1\" class=\"dataframe\">\n",
              "  <thead>\n",
              "    <tr style=\"text-align: right;\">\n",
              "      <th></th>\n",
              "      <th>qid</th>\n",
              "      <th>question_text</th>\n",
              "      <th>target</th>\n",
              "    </tr>\n",
              "  </thead>\n",
              "  <tbody>\n",
              "    <tr>\n",
              "      <th>0</th>\n",
              "      <td>00002165364db923c7e6</td>\n",
              "      <td>How did Quebec nationalists see their province...</td>\n",
              "      <td>0</td>\n",
              "    </tr>\n",
              "    <tr>\n",
              "      <th>1</th>\n",
              "      <td>000032939017120e6e44</td>\n",
              "      <td>Do you have an adopted dog, how would you enco...</td>\n",
              "      <td>0</td>\n",
              "    </tr>\n",
              "    <tr>\n",
              "      <th>2</th>\n",
              "      <td>0000412ca6e4628ce2cf</td>\n",
              "      <td>Why does velocity affect time? Does velocity a...</td>\n",
              "      <td>0</td>\n",
              "    </tr>\n",
              "    <tr>\n",
              "      <th>3</th>\n",
              "      <td>000042bf85aa498cd78e</td>\n",
              "      <td>How did Otto von Guericke used the Magdeburg h...</td>\n",
              "      <td>0</td>\n",
              "    </tr>\n",
              "    <tr>\n",
              "      <th>4</th>\n",
              "      <td>0000455dfa3e01eae3af</td>\n",
              "      <td>Can I convert montra helicon D to a mountain b...</td>\n",
              "      <td>0</td>\n",
              "    </tr>\n",
              "    <tr>\n",
              "      <th>...</th>\n",
              "      <td>...</td>\n",
              "      <td>...</td>\n",
              "      <td>...</td>\n",
              "    </tr>\n",
              "    <tr>\n",
              "      <th>1306117</th>\n",
              "      <td>ffffcc4e2331aaf1e41e</td>\n",
              "      <td>What other technical skills do you need as a c...</td>\n",
              "      <td>0</td>\n",
              "    </tr>\n",
              "    <tr>\n",
              "      <th>1306118</th>\n",
              "      <td>ffffd431801e5a2f4861</td>\n",
              "      <td>Does MS in ECE have good job prospects in USA ...</td>\n",
              "      <td>0</td>\n",
              "    </tr>\n",
              "    <tr>\n",
              "      <th>1306119</th>\n",
              "      <td>ffffd48fb36b63db010c</td>\n",
              "      <td>Is foam insulation toxic?</td>\n",
              "      <td>0</td>\n",
              "    </tr>\n",
              "    <tr>\n",
              "      <th>1306120</th>\n",
              "      <td>ffffec519fa37cf60c78</td>\n",
              "      <td>How can one start a research project based on ...</td>\n",
              "      <td>0</td>\n",
              "    </tr>\n",
              "    <tr>\n",
              "      <th>1306121</th>\n",
              "      <td>ffffed09fedb5088744a</td>\n",
              "      <td>Who wins in a battle between a Wolverine and a...</td>\n",
              "      <td>0</td>\n",
              "    </tr>\n",
              "  </tbody>\n",
              "</table>\n",
              "<p>1306122 rows × 3 columns</p>\n",
              "</div>"
            ],
            "text/plain": [
              "                          qid  ... target\n",
              "0        00002165364db923c7e6  ...      0\n",
              "1        000032939017120e6e44  ...      0\n",
              "2        0000412ca6e4628ce2cf  ...      0\n",
              "3        000042bf85aa498cd78e  ...      0\n",
              "4        0000455dfa3e01eae3af  ...      0\n",
              "...                       ...  ...    ...\n",
              "1306117  ffffcc4e2331aaf1e41e  ...      0\n",
              "1306118  ffffd431801e5a2f4861  ...      0\n",
              "1306119  ffffd48fb36b63db010c  ...      0\n",
              "1306120  ffffec519fa37cf60c78  ...      0\n",
              "1306121  ffffed09fedb5088744a  ...      0\n",
              "\n",
              "[1306122 rows x 3 columns]"
            ]
          },
          "metadata": {
            "tags": []
          },
          "execution_count": 9
        }
      ]
    },
    {
      "cell_type": "markdown",
      "metadata": {
        "id": "LZaOUmCaGFrq",
        "colab_type": "text"
      },
      "source": [
        "**Посимвольная токенизация**"
      ]
    },
    {
      "cell_type": "code",
      "metadata": {
        "id": "N4spXqnyGKsS",
        "colab_type": "code",
        "colab": {}
      },
      "source": [
        "def char_tokenize(text):\n",
        "    chars = list(text)\n",
        "    return chars"
      ],
      "execution_count": 86,
      "outputs": []
    },
    {
      "cell_type": "code",
      "metadata": {
        "id": "s7MXyIUZGLEz",
        "colab_type": "code",
        "colab": {}
      },
      "source": [
        "vocab = Counter()\n",
        "\n",
        "for text in quora.question_text:\n",
        "    vocab.update(char_tokenize(text))"
      ],
      "execution_count": 87,
      "outputs": []
    },
    {
      "cell_type": "code",
      "metadata": {
        "id": "Y4Py4M41GLBG",
        "colab_type": "code",
        "colab": {}
      },
      "source": [
        "char2id = {'UNK':1, 'PAD':0}\n",
        "\n",
        "for char in vocab:\n",
        "    char2id[char] = len(char2id)"
      ],
      "execution_count": 88,
      "outputs": []
    },
    {
      "cell_type": "code",
      "metadata": {
        "id": "vUo4MEusGK87",
        "colab_type": "code",
        "colab": {}
      },
      "source": [
        "id2char = {i:char for char, i in char2id.items()}"
      ],
      "execution_count": 89,
      "outputs": []
    },
    {
      "cell_type": "code",
      "metadata": {
        "id": "TDHrtQKdGK4i",
        "colab_type": "code",
        "colab": {}
      },
      "source": [
        "X = []\n",
        "\n",
        "for text in quora.question_text:\n",
        "    chars = char_tokenize(text)\n",
        "    ids = [char2id.get(char, 1) for char in chars]\n",
        "    X.append(ids)"
      ],
      "execution_count": 90,
      "outputs": []
    },
    {
      "cell_type": "code",
      "metadata": {
        "id": "d4CX0qMnGiPD",
        "colab_type": "code",
        "colab": {}
      },
      "source": [
        "MEAN_LEN = np.median([len(x) for x in X])\n",
        "MAX_LEN = int(MEAN_LEN + 5)"
      ],
      "execution_count": 91,
      "outputs": []
    },
    {
      "cell_type": "code",
      "metadata": {
        "id": "ec8HZLzTGXdI",
        "colab_type": "code",
        "colab": {}
      },
      "source": [
        "X = tf.keras.preprocessing.sequence.pad_sequences(X, maxlen=MAX_LEN)"
      ],
      "execution_count": 92,
      "outputs": []
    },
    {
      "cell_type": "code",
      "metadata": {
        "id": "GwEfht3jGXqg",
        "colab_type": "code",
        "colab": {}
      },
      "source": [
        "y = quora.target.values"
      ],
      "execution_count": 93,
      "outputs": []
    },
    {
      "cell_type": "code",
      "metadata": {
        "id": "OPEWov-MGXl9",
        "colab_type": "code",
        "colab": {}
      },
      "source": [
        "X_train, X_valid, y_train, y_valid = train_test_split(X, y, test_size=0.3, random_state=42, stratify=y)"
      ],
      "execution_count": 94,
      "outputs": []
    },
    {
      "cell_type": "markdown",
      "metadata": {
        "id": "wql210KvG3AK",
        "colab_type": "text"
      },
      "source": [
        "# **Модель1**"
      ]
    },
    {
      "cell_type": "markdown",
      "metadata": {
        "id": "MIE83jtsJc3l",
        "colab_type": "text"
      },
      "source": [
        "С другими активаторами модель показывает результаты намного хуже"
      ]
    },
    {
      "cell_type": "code",
      "metadata": {
        "id": "3gmz0eDMHA1r",
        "colab_type": "code",
        "colab": {}
      },
      "source": [
        "# ModelCheckpoint сохраняет лучшие версии моделей\n",
        "checkpoint = tf.keras.callbacks.ModelCheckpoint('model.weights', # названия файла \n",
        "                                                monitor='val_f1', # за какой метрикой следить\n",
        "                                                verbose=1, # будет печатать что происходит\n",
        "                                                save_weights_only=True, # если нужно только веса сохранить\n",
        "                                                save_best_only=True, # сохранять только лучшие\n",
        "                                                mode='max', # если метрика должна расти, то тут max и min если наоборот\n",
        "                                                save_freq='epoch' # как часто вызывать\n",
        "                                               )\n",
        "\n",
        "# EarlyStopping позволяет автоматически остановить обучение, если качество не улучшается \n",
        "early_stop = tf.keras.callbacks.EarlyStopping(monitor='val_f1', \n",
        "                                              min_delta=0.01, # какая разница считается как улучшение\n",
        "                                              patience=3, # сколько эпох терпеть отсутствие улучшений\n",
        "                                              verbose=1, \n",
        "                                              mode='max',\n",
        "                                              )"
      ],
      "execution_count": 95,
      "outputs": []
    },
    {
      "cell_type": "code",
      "metadata": {
        "id": "riirWd0uttBd",
        "colab_type": "code",
        "colab": {}
      },
      "source": [
        "inputs = tf.keras.layers.Input(shape=(MAX_LEN,))\n",
        "embeddings = tf.keras.layers.Embedding(input_dim=len(char2id), output_dim=50)(inputs, )\n",
        "\n",
        "all_drops = []\n",
        "\n",
        "conv1 = tf.keras.layers.Conv1D(kernel_size=5, filters=8, activation='relu')(embeddings)\n",
        "conv2 = tf.keras.layers.Conv1D(kernel_size=5, filters=8, activation='relu')(conv1)\n",
        "conv3 = tf.keras.layers.Conv1D(kernel_size=5, filters=8, activation='relu')(conv2)\n",
        "pool1 = tf.keras.layers.AveragePooling1D()(conv3)\n",
        "drop1 = tf.keras.layers.Dropout(0.2)(pool1)\n",
        "all_drops.append(drop1)\n",
        "\n",
        "conv4 = tf.keras.layers.Conv1D(kernel_size=5, filters=16, activation='relu')(embeddings)\n",
        "conv5 = tf.keras.layers.Conv1D(kernel_size=5, filters=16, activation='relu')(conv4)\n",
        "conv6 = tf.keras.layers.Conv1D(kernel_size=5, filters=16, activation='relu')(conv5)\n",
        "pool2 = tf.keras.layers.AveragePooling1D()(conv6)\n",
        "drop2 = tf.keras.layers.Dropout(0.2)(pool2)\n",
        "all_drops.append(drop2)\n",
        "\n",
        "conv7 = tf.keras.layers.Conv1D(kernel_size=5, filters=8, activation='relu')(embeddings)\n",
        "conv8 = tf.keras.layers.Conv1D(kernel_size=5, filters=8, activation='relu')(conv7)\n",
        "conv9 = tf.keras.layers.Conv1D(kernel_size=5, filters=8, activation='relu')(conv8)\n",
        "pool3 = tf.keras.layers.AveragePooling1D()(conv9)\n",
        "drop3 = tf.keras.layers.Dropout(0.2)(pool3)\n",
        "all_drops.append(drop3)\n",
        "\n",
        "concat = tf.keras.layers.Concatenate()(all_drops)\n",
        "dense1 = tf.keras.layers.Dense(128, activation='relu')(concat)\n",
        "outputs = tf.keras.layers.Dense(1, activation='sigmoid')(dense1)\n",
        "\n",
        "model = tf.keras.Model(inputs=inputs, outputs=outputs)\n",
        "optimizer = tf.keras.optimizers.Adam(learning_rate=0.001)\n",
        "model.compile(optimizer=optimizer,\n",
        "              loss='binary_crossentropy',\n",
        "              metrics=[f1])"
      ],
      "execution_count": 99,
      "outputs": []
    },
    {
      "cell_type": "code",
      "metadata": {
        "id": "yski6v_PH-B0",
        "colab_type": "code",
        "colab": {
          "base_uri": "https://localhost:8080/",
          "height": 676
        },
        "outputId": "806a70da-e7a0-485a-ecf9-1e1e12090fd5"
      },
      "source": [
        "model.fit(X_train, y_train, \n",
        "          validation_data=(X_valid, y_valid),\n",
        "          batch_size=1024,\n",
        "          epochs=10,\n",
        "          callbacks=[checkpoint, early_stop])"
      ],
      "execution_count": 100,
      "outputs": [
        {
          "output_type": "stream",
          "text": [
            "Epoch 1/10\n",
            "893/893 [==============================] - ETA: 0s - loss: 0.2350 - f1: 1.7726e-04\n",
            "Epoch 00001: val_f1 did not improve from 0.85167\n",
            "893/893 [==============================] - 42s 47ms/step - loss: 0.2350 - f1: 1.7726e-04 - val_loss: 0.2154 - val_f1: 0.0000e+00\n",
            "Epoch 2/10\n",
            "893/893 [==============================] - ETA: 0s - loss: 0.2128 - f1: 0.1163\n",
            "Epoch 00002: val_f1 did not improve from 0.85167\n",
            "893/893 [==============================] - 41s 46ms/step - loss: 0.2128 - f1: 0.1163 - val_loss: 0.2110 - val_f1: 0.4900\n",
            "Epoch 3/10\n",
            "892/893 [============================>.] - ETA: 0s - loss: 0.2084 - f1: 0.5058\n",
            "Epoch 00003: val_f1 did not improve from 0.85167\n",
            "893/893 [==============================] - 41s 46ms/step - loss: 0.2084 - f1: 0.5056 - val_loss: 0.2072 - val_f1: 0.5756\n",
            "Epoch 4/10\n",
            "892/893 [============================>.] - ETA: 0s - loss: 0.2064 - f1: 0.5914\n",
            "Epoch 00004: val_f1 did not improve from 0.85167\n",
            "893/893 [==============================] - 41s 46ms/step - loss: 0.2064 - f1: 0.5910 - val_loss: 0.2062 - val_f1: 0.4676\n",
            "Epoch 5/10\n",
            "893/893 [==============================] - ETA: 0s - loss: 0.2052 - f1: 0.6315\n",
            "Epoch 00005: val_f1 did not improve from 0.85167\n",
            "893/893 [==============================] - 41s 46ms/step - loss: 0.2052 - f1: 0.6315 - val_loss: 0.2063 - val_f1: 0.6840\n",
            "Epoch 6/10\n",
            "893/893 [==============================] - ETA: 0s - loss: 0.2042 - f1: 0.6693\n",
            "Epoch 00006: val_f1 did not improve from 0.85167\n",
            "893/893 [==============================] - 41s 46ms/step - loss: 0.2042 - f1: 0.6693 - val_loss: 0.2067 - val_f1: 0.7033\n",
            "Epoch 7/10\n",
            "892/893 [============================>.] - ETA: 0s - loss: 0.2034 - f1: 0.6914\n",
            "Epoch 00007: val_f1 did not improve from 0.85167\n",
            "893/893 [==============================] - 42s 47ms/step - loss: 0.2034 - f1: 0.6913 - val_loss: 0.2080 - val_f1: 0.7078\n",
            "Epoch 8/10\n",
            "892/893 [============================>.] - ETA: 0s - loss: 0.2028 - f1: 0.7043\n",
            "Epoch 00008: val_f1 did not improve from 0.85167\n",
            "893/893 [==============================] - 41s 46ms/step - loss: 0.2028 - f1: 0.7042 - val_loss: 0.2080 - val_f1: 0.7037\n",
            "Epoch 9/10\n",
            "892/893 [============================>.] - ETA: 0s - loss: 0.2023 - f1: 0.7146\n",
            "Epoch 00009: val_f1 did not improve from 0.85167\n",
            "893/893 [==============================] - 41s 46ms/step - loss: 0.2023 - f1: 0.7145 - val_loss: 0.2064 - val_f1: 0.6661\n",
            "Epoch 00009: early stopping\n"
          ],
          "name": "stdout"
        },
        {
          "output_type": "execute_result",
          "data": {
            "text/plain": [
              "<tensorflow.python.keras.callbacks.History at 0x7f3b16176358>"
            ]
          },
          "metadata": {
            "tags": []
          },
          "execution_count": 100
        }
      ]
    },
    {
      "cell_type": "code",
      "metadata": {
        "id": "ydEgqT5XH-QC",
        "colab_type": "code",
        "colab": {
          "base_uri": "https://localhost:8080/",
          "height": 313
        },
        "outputId": "4dccb8f7-651b-47e7-d056-553be301ae60"
      },
      "source": [
        "make_plot(model)"
      ],
      "execution_count": 101,
      "outputs": [
        {
          "output_type": "stream",
          "text": [
            "dict_keys(['loss', 'f1', 'val_loss', 'val_f1'])\n"
          ],
          "name": "stdout"
        },
        {
          "output_type": "display_data",
          "data": {
            "image/png": "[encoded data removed]",
            "text/plain": [
              "<Figure size 432x288 with 1 Axes>"
            ]
          },
          "metadata": {
            "tags": [],
            "needs_background": "light"
          }
        }
      ]
    },
    {
      "cell_type": "markdown",
      "metadata": {
        "id": "2IJW5y_UIF1h",
        "colab_type": "text"
      },
      "source": [
        "**Попробуем добавить паддинги**"
      ]
    },
    {
      "cell_type": "code",
      "metadata": {
        "id": "DBwRSpLBHN5t",
        "colab_type": "code",
        "colab": {}
      },
      "source": [
        "inputs = tf.keras.layers.Input(shape=(MAX_LEN,))\n",
        "embeddings = tf.keras.layers.Embedding(input_dim=len(char2id), output_dim=100)(inputs, )\n",
        "\n",
        "all_drops = []\n",
        "\n",
        "conv1 = tf.keras.layers.Conv1D(kernel_size=5, filters=32, padding = 'same', activation='relu')(embeddings)\n",
        "conv2 = tf.keras.layers.Conv1D(kernel_size=5, filters=32, padding = 'same', activation='relu')(conv1)\n",
        "conv3 = tf.keras.layers.Conv1D(kernel_size=5, filters=32, padding = 'same', activation='relu')(conv2)\n",
        "pool1 = tf.keras.layers.AveragePooling1D()(conv3)\n",
        "drop1 = tf.keras.layers.Dropout(0.2)(pool1)\n",
        "all_drops.append(drop1)\n",
        "\n",
        "conv4 = tf.keras.layers.Conv1D(kernel_size=5, filters=16, padding = 'same', activation='relu')(embeddings)\n",
        "conv5 = tf.keras.layers.Conv1D(kernel_size=5, filters=16, padding = 'same', activation='relu')(conv4)\n",
        "conv6 = tf.keras.layers.Conv1D(kernel_size=5, filters=16, padding = 'same', activation='relu')(conv5)\n",
        "pool2 = tf.keras.layers.AveragePooling1D()(conv6)\n",
        "drop2 = tf.keras.layers.Dropout(0.2)(pool2)\n",
        "all_drops.append(drop2)\n",
        "\n",
        "conv7 = tf.keras.layers.Conv1D(kernel_size=5, filters=32, padding = 'same', activation='relu')(embeddings)\n",
        "conv8 = tf.keras.layers.Conv1D(kernel_size=5, filters=32, padding = 'same', activation='relu')(conv7)\n",
        "conv9 = tf.keras.layers.Conv1D(kernel_size=5, filters=32, padding = 'same', activation='relu')(conv8)\n",
        "pool3 = tf.keras.layers.AveragePooling1D()(conv9)\n",
        "drop3 = tf.keras.layers.Dropout(0.2)(pool3)\n",
        "all_drops.append(drop3)\n",
        "\n",
        "concat = tf.keras.layers.Concatenate()(all_drops)\n",
        "dense1 = tf.keras.layers.Dense(128, activation='relu')(concat)\n",
        "outputs = tf.keras.layers.Dense(1, activation='sigmoid')(dense1)\n",
        "\n",
        "model1 = tf.keras.Model(inputs=inputs, outputs=outputs)\n",
        "optimizer = tf.keras.optimizers.Adam(learning_rate=0.001)\n",
        "model1.compile(optimizer=optimizer,\n",
        "              loss='binary_crossentropy',\n",
        "              metrics=[f1])"
      ],
      "execution_count": 96,
      "outputs": []
    },
    {
      "cell_type": "code",
      "metadata": {
        "id": "G9b8lPILHPEv",
        "colab_type": "code",
        "colab": {
          "base_uri": "https://localhost:8080/",
          "height": 607
        },
        "outputId": "3b908282-4702-49b2-b803-e22e20d059f4"
      },
      "source": [
        "model1.fit(X_train, y_train, \n",
        "          validation_data=(X_valid, y_valid),\n",
        "          batch_size=1024,\n",
        "          epochs=10,\n",
        "          callbacks=[checkpoint, early_stop])"
      ],
      "execution_count": 97,
      "outputs": [
        {
          "output_type": "stream",
          "text": [
            "Epoch 1/10\n",
            "893/893 [==============================] - ETA: 0s - loss: 0.2250 - f1: 0.0535\n",
            "Epoch 00001: val_f1 improved from -inf to 0.58175, saving model to model.weights\n",
            "893/893 [==============================] - 79s 88ms/step - loss: 0.2250 - f1: 0.0535 - val_loss: 0.2092 - val_f1: 0.5817\n",
            "Epoch 2/10\n",
            "893/893 [==============================] - ETA: 0s - loss: 0.2066 - f1: 0.6681\n",
            "Epoch 00002: val_f1 improved from 0.58175 to 0.72287, saving model to model.weights\n",
            "893/893 [==============================] - 77s 87ms/step - loss: 0.2066 - f1: 0.6681 - val_loss: 0.2048 - val_f1: 0.7229\n",
            "Epoch 3/10\n",
            "893/893 [==============================] - ETA: 0s - loss: 0.2031 - f1: 0.7760\n",
            "Epoch 00003: val_f1 improved from 0.72287 to 0.72606, saving model to model.weights\n",
            "893/893 [==============================] - 77s 87ms/step - loss: 0.2031 - f1: 0.7760 - val_loss: 0.2023 - val_f1: 0.7261\n",
            "Epoch 4/10\n",
            "893/893 [==============================] - ETA: 0s - loss: 0.2012 - f1: 0.8169\n",
            "Epoch 00004: val_f1 improved from 0.72606 to 0.75781, saving model to model.weights\n",
            "893/893 [==============================] - 78s 87ms/step - loss: 0.2012 - f1: 0.8169 - val_loss: 0.2006 - val_f1: 0.7578\n",
            "Epoch 5/10\n",
            "893/893 [==============================] - ETA: 0s - loss: 0.1999 - f1: 0.8382\n",
            "Epoch 00005: val_f1 improved from 0.75781 to 0.85167, saving model to model.weights\n",
            "893/893 [==============================] - 77s 87ms/step - loss: 0.1999 - f1: 0.8382 - val_loss: 0.1994 - val_f1: 0.8517\n",
            "Epoch 6/10\n",
            "893/893 [==============================] - ETA: 0s - loss: 0.1990 - f1: 0.8506\n",
            "Epoch 00006: val_f1 did not improve from 0.85167\n",
            "893/893 [==============================] - 77s 87ms/step - loss: 0.1990 - f1: 0.8506 - val_loss: 0.1992 - val_f1: 0.8132\n",
            "Epoch 7/10\n",
            "893/893 [==============================] - ETA: 0s - loss: 0.1982 - f1: 0.8619\n",
            "Epoch 00007: val_f1 did not improve from 0.85167\n",
            "893/893 [==============================] - 77s 87ms/step - loss: 0.1982 - f1: 0.8619 - val_loss: 0.1987 - val_f1: 0.8277\n",
            "Epoch 8/10\n",
            "893/893 [==============================] - ETA: 0s - loss: 0.1976 - f1: 0.8694\n",
            "Epoch 00008: val_f1 did not improve from 0.85167\n",
            "893/893 [==============================] - 78s 87ms/step - loss: 0.1976 - f1: 0.8694 - val_loss: 0.1981 - val_f1: 0.8098\n",
            "Epoch 00008: early stopping\n"
          ],
          "name": "stdout"
        },
        {
          "output_type": "execute_result",
          "data": {
            "text/plain": [
              "<tensorflow.python.keras.callbacks.History at 0x7f3b2694a0b8>"
            ]
          },
          "metadata": {
            "tags": []
          },
          "execution_count": 97
        }
      ]
    },
    {
      "cell_type": "code",
      "metadata": {
        "id": "-PocOAoNHO_d",
        "colab_type": "code",
        "colab": {
          "base_uri": "https://localhost:8080/",
          "height": 313
        },
        "outputId": "d46c3292-3377-4499-9050-a7d4bfd23e13"
      },
      "source": [
        "make_plot(model1)"
      ],
      "execution_count": 98,
      "outputs": [
        {
          "output_type": "stream",
          "text": [
            "dict_keys(['loss', 'f1', 'val_loss', 'val_f1'])\n"
          ],
          "name": "stdout"
        },
        {
          "output_type": "display_data",
          "data": {
            "image/png": "[encoded data removed]",
            "text/plain": [
              "<Figure size 432x288 with 1 Axes>"
            ]
          },
          "metadata": {
            "tags": [],
            "needs_background": "light"
          }
        }
      ]
    },
    {
      "cell_type": "markdown",
      "metadata": {
        "id": "qUT11pAKLe1T",
        "colab_type": "text"
      },
      "source": [
        "Как видно, модель с паддингами показала лучший результат, дальше будем использовать."
      ]
    },
    {
      "cell_type": "markdown",
      "metadata": {
        "id": "_wZ4kpGLqx2I",
        "colab_type": "text"
      },
      "source": [
        "**Приведем к нижнему регистру**"
      ]
    },
    {
      "cell_type": "code",
      "metadata": {
        "id": "ZIJBTCaipCXZ",
        "colab_type": "code",
        "colab": {}
      },
      "source": [
        "def char_tokenize(text):\n",
        "    chars = list(text.lower())\n",
        "    return chars"
      ],
      "execution_count": 102,
      "outputs": []
    },
    {
      "cell_type": "code",
      "metadata": {
        "id": "y7kC0gtfppKN",
        "colab_type": "code",
        "colab": {}
      },
      "source": [
        "vocab = Counter()\n",
        "\n",
        "for text in quora.question_text:\n",
        "    vocab.update(char_tokenize(text))"
      ],
      "execution_count": 103,
      "outputs": []
    },
    {
      "cell_type": "code",
      "metadata": {
        "id": "AJFvLEVgp4ih",
        "colab_type": "code",
        "colab": {}
      },
      "source": [
        "char2id = {'UNK':1, 'PAD':0}\n",
        "\n",
        "for char in vocab:\n",
        "    char2id[char] = len(char2id)"
      ],
      "execution_count": 104,
      "outputs": []
    },
    {
      "cell_type": "code",
      "metadata": {
        "id": "2Snr-YnMp5T-",
        "colab_type": "code",
        "colab": {}
      },
      "source": [
        "id2char = {i:char for char, i in char2id.items()}"
      ],
      "execution_count": 105,
      "outputs": []
    },
    {
      "cell_type": "code",
      "metadata": {
        "id": "kf-B0Cl0p8nt",
        "colab_type": "code",
        "colab": {}
      },
      "source": [
        "X = []\n",
        "\n",
        "for text in quora.question_text:\n",
        "    chars = char_tokenize(text)\n",
        "    ids = [char2id.get(char, 1) for char in chars]\n",
        "    X.append(ids)"
      ],
      "execution_count": 106,
      "outputs": []
    },
    {
      "cell_type": "code",
      "metadata": {
        "id": "KwrTcdKDtL4T",
        "colab_type": "code",
        "colab": {}
      },
      "source": [
        "X = tf.keras.preprocessing.sequence.pad_sequences(X, maxlen=MAX_LEN)"
      ],
      "execution_count": 107,
      "outputs": []
    },
    {
      "cell_type": "code",
      "metadata": {
        "id": "5DfQWXgeqWJJ",
        "colab_type": "code",
        "colab": {}
      },
      "source": [
        "y = quora.target.values"
      ],
      "execution_count": 108,
      "outputs": []
    },
    {
      "cell_type": "code",
      "metadata": {
        "id": "5qLJA1eBtkV2",
        "colab_type": "code",
        "colab": {}
      },
      "source": [
        "X_train, X_valid, y_train, y_valid = train_test_split(X, y, test_size=0.3, random_state=42, stratify=y)"
      ],
      "execution_count": 109,
      "outputs": []
    },
    {
      "cell_type": "markdown",
      "metadata": {
        "id": "DasKOy2wuQ6V",
        "colab_type": "text"
      },
      "source": [
        "# **Модель2**"
      ]
    },
    {
      "cell_type": "code",
      "metadata": {
        "id": "U7_EM3zM-XQr",
        "colab_type": "code",
        "colab": {}
      },
      "source": [
        "inputs = tf.keras.layers.Input(shape=(MAX_LEN,))\n",
        "embeddings = tf.keras.layers.Embedding(input_dim=len(char2id), output_dim=100)(inputs, )\n",
        "\n",
        "all_drops = []\n",
        "\n",
        "conv1 = tf.keras.layers.Conv1D(kernel_size=5, filters=32, padding = 'same', activation='relu')(embeddings)\n",
        "conv2 = tf.keras.layers.Conv1D(kernel_size=5, filters=32, padding = 'same', activation='relu')(conv1)\n",
        "conv3 = tf.keras.layers.Conv1D(kernel_size=5, filters=32, padding = 'same', activation='relu')(conv2)\n",
        "pool1 = tf.keras.layers.AveragePooling1D()(conv3)\n",
        "drop1 = tf.keras.layers.Dropout(0.2)(pool1)\n",
        "all_drops.append(drop1)\n",
        "\n",
        "conv4 = tf.keras.layers.Conv1D(kernel_size=5, filters=16, padding = 'same', activation='relu')(embeddings)\n",
        "conv5 = tf.keras.layers.Conv1D(kernel_size=5, filters=16, padding = 'same', activation='relu')(conv4)\n",
        "conv6 = tf.keras.layers.Conv1D(kernel_size=5, filters=16, padding = 'same', activation='relu')(conv5)\n",
        "pool2 = tf.keras.layers.AveragePooling1D()(conv6)\n",
        "drop2 = tf.keras.layers.Dropout(0.2)(pool2)\n",
        "all_drops.append(drop2)\n",
        "\n",
        "conv7 = tf.keras.layers.Conv1D(kernel_size=5, filters=32, padding = 'same', activation='relu')(embeddings)\n",
        "conv8 = tf.keras.layers.Conv1D(kernel_size=5, filters=32, padding = 'same', activation='relu')(conv7)\n",
        "conv9 = tf.keras.layers.Conv1D(kernel_size=5, filters=32, padding = 'same', activation='relu')(conv8)\n",
        "pool3 = tf.keras.layers.AveragePooling1D()(conv9)\n",
        "drop3 = tf.keras.layers.Dropout(0.2)(pool3)\n",
        "all_drops.append(drop3)\n",
        "\n",
        "concat = tf.keras.layers.Concatenate()(all_drops)\n",
        "dense1 = tf.keras.layers.Dense(128, activation='relu')(concat)\n",
        "outputs = tf.keras.layers.Dense(1, activation='sigmoid')(dense1)\n",
        "\n",
        "model2 = tf.keras.Model(inputs=inputs, outputs=outputs)\n",
        "optimizer = tf.keras.optimizers.Adam(learning_rate=0.001)\n",
        "model2.compile(optimizer=optimizer,\n",
        "              loss='binary_crossentropy',\n",
        "              metrics=[f1])"
      ],
      "execution_count": 110,
      "outputs": []
    },
    {
      "cell_type": "code",
      "metadata": {
        "id": "BDYz9Ekk9S44",
        "colab_type": "code",
        "colab": {
          "base_uri": "https://localhost:8080/",
          "height": 745
        },
        "outputId": "0072cac8-47ce-4109-c297-6589dde9d508"
      },
      "source": [
        "model2.fit(X_train, y_train, \n",
        "          validation_data=(X_valid, y_valid),\n",
        "          batch_size=1024,\n",
        "          epochs=10,\n",
        "          callbacks=[checkpoint, early_stop])"
      ],
      "execution_count": 111,
      "outputs": [
        {
          "output_type": "stream",
          "text": [
            "Epoch 1/10\n",
            "893/893 [==============================] - ETA: 0s - loss: 0.2255 - f1: 0.0043\n",
            "Epoch 00001: val_f1 did not improve from 0.85167\n",
            "893/893 [==============================] - 78s 87ms/step - loss: 0.2255 - f1: 0.0043 - val_loss: 0.2117 - val_f1: 0.0998\n",
            "Epoch 2/10\n",
            "893/893 [==============================] - ETA: 0s - loss: 0.2084 - f1: 0.5494\n",
            "Epoch 00002: val_f1 did not improve from 0.85167\n",
            "893/893 [==============================] - 77s 87ms/step - loss: 0.2084 - f1: 0.5494 - val_loss: 0.2052 - val_f1: 0.7027\n",
            "Epoch 3/10\n",
            "893/893 [==============================] - ETA: 0s - loss: 0.2044 - f1: 0.7503\n",
            "Epoch 00003: val_f1 did not improve from 0.85167\n",
            "893/893 [==============================] - 77s 87ms/step - loss: 0.2044 - f1: 0.7503 - val_loss: 0.2027 - val_f1: 0.8090\n",
            "Epoch 4/10\n",
            "893/893 [==============================] - ETA: 0s - loss: 0.2023 - f1: 0.7954\n",
            "Epoch 00004: val_f1 did not improve from 0.85167\n",
            "893/893 [==============================] - 77s 87ms/step - loss: 0.2023 - f1: 0.7954 - val_loss: 0.2020 - val_f1: 0.7321\n",
            "Epoch 5/10\n",
            "893/893 [==============================] - ETA: 0s - loss: 0.2010 - f1: 0.8174\n",
            "Epoch 00005: val_f1 did not improve from 0.85167\n",
            "893/893 [==============================] - 77s 87ms/step - loss: 0.2010 - f1: 0.8174 - val_loss: 0.2007 - val_f1: 0.7581\n",
            "Epoch 6/10\n",
            "893/893 [==============================] - ETA: 0s - loss: 0.2000 - f1: 0.8311\n",
            "Epoch 00006: val_f1 did not improve from 0.85167\n",
            "893/893 [==============================] - 77s 86ms/step - loss: 0.2000 - f1: 0.8311 - val_loss: 0.1996 - val_f1: 0.8450\n",
            "Epoch 7/10\n",
            "893/893 [==============================] - ETA: 0s - loss: 0.1993 - f1: 0.8468\n",
            "Epoch 00007: val_f1 improved from 0.85167 to 0.88209, saving model to model.weights\n",
            "893/893 [==============================] - 77s 87ms/step - loss: 0.1993 - f1: 0.8468 - val_loss: 0.2019 - val_f1: 0.8821\n",
            "Epoch 8/10\n",
            "893/893 [==============================] - ETA: 0s - loss: 0.1988 - f1: 0.8507\n",
            "Epoch 00008: val_f1 did not improve from 0.88209\n",
            "893/893 [==============================] - 77s 87ms/step - loss: 0.1988 - f1: 0.8507 - val_loss: 0.1990 - val_f1: 0.8145\n",
            "Epoch 9/10\n",
            "893/893 [==============================] - ETA: 0s - loss: 0.1982 - f1: 0.8653\n",
            "Epoch 00009: val_f1 did not improve from 0.88209\n",
            "893/893 [==============================] - 77s 87ms/step - loss: 0.1982 - f1: 0.8653 - val_loss: 0.2003 - val_f1: 0.8778\n",
            "Epoch 10/10\n",
            "893/893 [==============================] - ETA: 0s - loss: 0.1978 - f1: 0.8695\n",
            "Epoch 00010: val_f1 did not improve from 0.88209\n",
            "893/893 [==============================] - 77s 86ms/step - loss: 0.1978 - f1: 0.8695 - val_loss: 0.1988 - val_f1: 0.8237\n",
            "Epoch 00010: early stopping\n"
          ],
          "name": "stdout"
        },
        {
          "output_type": "execute_result",
          "data": {
            "text/plain": [
              "<tensorflow.python.keras.callbacks.History at 0x7f3b162b10b8>"
            ]
          },
          "metadata": {
            "tags": []
          },
          "execution_count": 111
        }
      ]
    },
    {
      "cell_type": "code",
      "metadata": {
        "id": "IvJrO1nrAiZF",
        "colab_type": "code",
        "colab": {
          "base_uri": "https://localhost:8080/",
          "height": 313
        },
        "outputId": "c6400e42-ef03-4e42-a37b-ec6b236a435a"
      },
      "source": [
        "make_plot(model2)"
      ],
      "execution_count": 112,
      "outputs": [
        {
          "output_type": "stream",
          "text": [
            "dict_keys(['loss', 'f1', 'val_loss', 'val_f1'])\n"
          ],
          "name": "stdout"
        },
        {
          "output_type": "display_data",
          "data": {
            "image/png": "[encoded data removed]",
            "text/plain": [
              "<Figure size 432x288 with 1 Axes>"
            ]
          },
          "metadata": {
            "tags": [],
            "needs_background": "light"
          }
        }
      ]
    },
    {
      "cell_type": "markdown",
      "metadata": {
        "id": "93PHH2rBNwAG",
        "colab_type": "text"
      },
      "source": [
        "После приведения текста в нижний регистр f1немного возросла, поэтому такая нормализация будет не лишней."
      ]
    }
  ]
}