{
  "nbformat": 4,
  "nbformat_minor": 0,
  "metadata": {
    "colab": {
      "name": "ML4",
      "provenance": [],
      "toc_visible": true,
      "authorship_tag": "ABX9TyO+seLh6a5yBFrxw1w4K4Q/",
      "include_colab_link": true
    },
    "kernelspec": {
      "name": "python3",
      "display_name": "Python 3"
    }
  },
  "cells": [
    {
      "cell_type": "markdown",
      "metadata": {
        "id": "view-in-github",
        "colab_type": "text"
      },
      "source": [
        "<a href=\"https://colab.research.google.com/github/lnpetrova/comp_ling/blob/master/ML4.ipynb\" target=\"_parent\"><img src=\"https://colab.research.google.com/assets/colab-badge.svg\" alt=\"Open In Colab\"/></a>"
      ]
    },
    {
      "cell_type": "markdown",
      "metadata": {
        "id": "5jaDggYcQ_xe",
        "colab_type": "text"
      },
      "source": [
        "# **Импорты**"
      ]
    },
    {
      "cell_type": "code",
      "metadata": {
        "id": "Xx-qe1RV4NVr",
        "colab_type": "code",
        "colab": {}
      },
      "source": [
        "import pandas as pd"
      ],
      "execution_count": 0,
      "outputs": []
    },
    {
      "cell_type": "code",
      "metadata": {
        "id": "YGB5500O7MLS",
        "colab_type": "code",
        "colab": {}
      },
      "source": [
        "import pandas as pd\n",
        "from sklearn.cluster import AffinityPropagation, \\\n",
        "                            KMeans, MiniBatchKMeans, Birch, MeanShift, DBSCAN, SpectralClustering, OPTICS\n",
        "from sklearn.metrics import adjusted_rand_score, adjusted_mutual_info_score, \\\n",
        "                            silhouette_score\n",
        "\n",
        "from sklearn.feature_extraction.text import CountVectorizer, TfidfVectorizer\n",
        "from sklearn.decomposition import TruncatedSVD, NMF\n",
        "from sklearn.ensemble import IsolationForest\n",
        "from sklearn.covariance import EllipticEnvelope\n",
        "from sklearn.svm import OneClassSVM\n",
        "from sklearn import metrics\n",
        "from sklearn.datasets import make_blobs\n",
        "import warnings\n",
        "warnings.filterwarnings(\"ignore\")"
      ],
      "execution_count": 0,
      "outputs": []
    },
    {
      "cell_type": "code",
      "metadata": {
        "id": "AD_I5unW5lw6",
        "colab_type": "code",
        "outputId": "779fb848-16b5-44a1-e00c-a06b6221bace",
        "colab": {
          "resources": {
            "http://localhost:8080/nbextensions/google.colab/files.js": {
              "data": "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",
              "ok": true,
              "headers": [
                [
                  "content-type",
                  "application/javascript"
                ]
              ],
              "status": 200,
              "status_text": ""
            }
          },
          "base_uri": "https://localhost:8080/",
          "height": 0
        }
      },
      "source": [
        "from google.colab import files\n",
        "files.upload()"
      ],
      "execution_count": 4,
      "outputs": [
        {
          "output_type": "display_data",
          "data": {
            "text/html": [
              "\n",
              "     <input type=\"file\" id=\"files-82cf2527-60a8-4714-a83d-386a22e1d2ab\" name=\"files[]\" multiple disabled />\n",
              "     <output id=\"result-82cf2527-60a8-4714-a83d-386a22e1d2ab\">\n",
              "      Upload widget is only available when the cell has been executed in the\n",
              "      current browser session. Please rerun this cell to enable.\n",
              "      </output>\n",
              "      <script src=\"/nbextensions/google.colab/files.js\"></script> "
            ],
            "text/plain": [
              "<IPython.core.display.HTML object>"
            ]
          },
          "metadata": {
            "tags": []
          }
        },
        {
          "output_type": "stream",
          "text": [
            "Saving data.csv to data.csv\n"
          ],
          "name": "stdout"
        }
      ]
    },
    {
      "cell_type": "code",
      "metadata": {
        "id": "dG6mif-j4fVf",
        "colab_type": "code",
        "colab": {}
      },
      "source": [
        "data = pd.read_csv('data.csv')"
      ],
      "execution_count": 0,
      "outputs": []
    },
    {
      "cell_type": "code",
      "metadata": {
        "id": "Pa_b2uqw6J3K",
        "colab_type": "code",
        "colab": {
          "base_uri": "https://localhost:8080/",
          "height": 0
        },
        "outputId": "669c08e7-d85a-42c9-b71f-076842c4a9e9"
      },
      "source": [
        "data.head(5)"
      ],
      "execution_count": 6,
      "outputs": [
        {
          "output_type": "execute_result",
          "data": {
            "text/html": [
              "<div>\n",
              "<style scoped>\n",
              "    .dataframe tbody tr th:only-of-type {\n",
              "        vertical-align: middle;\n",
              "    }\n",
              "\n",
              "    .dataframe tbody tr th {\n",
              "        vertical-align: top;\n",
              "    }\n",
              "\n",
              "    .dataframe thead th {\n",
              "        text-align: right;\n",
              "    }\n",
              "</style>\n",
              "<table border=\"1\" class=\"dataframe\">\n",
              "  <thead>\n",
              "    <tr style=\"text-align: right;\">\n",
              "      <th></th>\n",
              "      <th>item_id</th>\n",
              "      <th>user_id</th>\n",
              "      <th>region</th>\n",
              "      <th>city</th>\n",
              "      <th>parent_category_name</th>\n",
              "      <th>category_name</th>\n",
              "      <th>param_1</th>\n",
              "      <th>param_2</th>\n",
              "      <th>param_3</th>\n",
              "      <th>title</th>\n",
              "      <th>description</th>\n",
              "      <th>price</th>\n",
              "      <th>item_seq_number</th>\n",
              "      <th>activation_date</th>\n",
              "      <th>user_type</th>\n",
              "      <th>image</th>\n",
              "      <th>image_top_1</th>\n",
              "      <th>deal_probability</th>\n",
              "    </tr>\n",
              "  </thead>\n",
              "  <tbody>\n",
              "    <tr>\n",
              "      <th>0</th>\n",
              "      <td>757a85cd1cb3</td>\n",
              "      <td>b4b6f38f786a</td>\n",
              "      <td>Ростовская область</td>\n",
              "      <td>Таганрог</td>\n",
              "      <td>Бытовая электроника</td>\n",
              "      <td>Телефоны</td>\n",
              "      <td>Xiaomi</td>\n",
              "      <td>NaN</td>\n",
              "      <td>NaN</td>\n",
              "      <td>Xiaomi RedMI 4a</td>\n",
              "      <td>Телефон новый, не использованный, в заводской ...</td>\n",
              "      <td>6900.0</td>\n",
              "      <td>22</td>\n",
              "      <td>2017-03-26</td>\n",
              "      <td>Private</td>\n",
              "      <td>9403908e0f7a71528ecf8a07077733f6178175f3b33c1b...</td>\n",
              "      <td>2944.0</td>\n",
              "      <td>0.16933</td>\n",
              "    </tr>\n",
              "    <tr>\n",
              "      <th>1</th>\n",
              "      <td>fac21c7864e9</td>\n",
              "      <td>1bad10362240</td>\n",
              "      <td>Челябинская область</td>\n",
              "      <td>Усть-Катав</td>\n",
              "      <td>Транспорт</td>\n",
              "      <td>Автомобили</td>\n",
              "      <td>С пробегом</td>\n",
              "      <td>Audi</td>\n",
              "      <td>Q5</td>\n",
              "      <td>Audi Q5, 2009</td>\n",
              "      <td>Продам автомобиль AUDI SUV Stronic Quattro 2.0...</td>\n",
              "      <td>890000.0</td>\n",
              "      <td>6</td>\n",
              "      <td>2017-03-16</td>\n",
              "      <td>Private</td>\n",
              "      <td>cb3ea40d48be0795d4f9149b07d69606221c859be2a65d...</td>\n",
              "      <td>1132.0</td>\n",
              "      <td>0.26029</td>\n",
              "    </tr>\n",
              "    <tr>\n",
              "      <th>2</th>\n",
              "      <td>0ab9d9f84260</td>\n",
              "      <td>b1e40dd45fa1</td>\n",
              "      <td>Омская область</td>\n",
              "      <td>Омск</td>\n",
              "      <td>Личные вещи</td>\n",
              "      <td>Детская одежда и обувь</td>\n",
              "      <td>Для мальчиков</td>\n",
              "      <td>Верхняя одежда</td>\n",
              "      <td>98-104 см (2-4 года)</td>\n",
              "      <td>Толстовка очень теплая</td>\n",
              "      <td>на меху, очень теплая, хорошее состояние , бол...</td>\n",
              "      <td>500.0</td>\n",
              "      <td>123</td>\n",
              "      <td>2017-03-27</td>\n",
              "      <td>Private</td>\n",
              "      <td>68ec1a7bce8d019d60a8685c179f13e60390857e5494cf...</td>\n",
              "      <td>61.0</td>\n",
              "      <td>0.80323</td>\n",
              "    </tr>\n",
              "    <tr>\n",
              "      <th>3</th>\n",
              "      <td>9a743c7d0787</td>\n",
              "      <td>7eaee75271c8</td>\n",
              "      <td>Омская область</td>\n",
              "      <td>Омск</td>\n",
              "      <td>Бытовая электроника</td>\n",
              "      <td>Телефоны</td>\n",
              "      <td>iPhone</td>\n",
              "      <td>NaN</td>\n",
              "      <td>NaN</td>\n",
              "      <td>Продаю айфон 6 16 гб сильвер с зарядкой,без ко...</td>\n",
              "      <td>Продаю айфон 6 16 гб сильвер с зарядкой,без ко...</td>\n",
              "      <td>23000.0</td>\n",
              "      <td>7</td>\n",
              "      <td>2017-03-15</td>\n",
              "      <td>Private</td>\n",
              "      <td>25ec86e255768c7645a0b5e6a8e5c05f5ae362e7daa0d6...</td>\n",
              "      <td>2918.0</td>\n",
              "      <td>0.03486</td>\n",
              "    </tr>\n",
              "    <tr>\n",
              "      <th>4</th>\n",
              "      <td>f20041153ca0</td>\n",
              "      <td>82c7f87322b0</td>\n",
              "      <td>Башкортостан</td>\n",
              "      <td>Уфа</td>\n",
              "      <td>Животные</td>\n",
              "      <td>Аквариум</td>\n",
              "      <td>NaN</td>\n",
              "      <td>NaN</td>\n",
              "      <td>NaN</td>\n",
              "      <td>Аквариум</td>\n",
              "      <td>Аквариум для маленьких рыбок+корм+грунт+подста...</td>\n",
              "      <td>1000.0</td>\n",
              "      <td>109</td>\n",
              "      <td>2017-03-25</td>\n",
              "      <td>Company</td>\n",
              "      <td>15859cf907e234799cb756017178d05dd211d05f4a181f...</td>\n",
              "      <td>1718.0</td>\n",
              "      <td>0.00000</td>\n",
              "    </tr>\n",
              "  </tbody>\n",
              "</table>\n",
              "</div>"
            ],
            "text/plain": [
              "        item_id       user_id  ... image_top_1 deal_probability\n",
              "0  757a85cd1cb3  b4b6f38f786a  ...      2944.0          0.16933\n",
              "1  fac21c7864e9  1bad10362240  ...      1132.0          0.26029\n",
              "2  0ab9d9f84260  b1e40dd45fa1  ...        61.0          0.80323\n",
              "3  9a743c7d0787  7eaee75271c8  ...      2918.0          0.03486\n",
              "4  f20041153ca0  82c7f87322b0  ...      1718.0          0.00000\n",
              "\n",
              "[5 rows x 18 columns]"
            ]
          },
          "metadata": {
            "tags": []
          },
          "execution_count": 6
        }
      ]
    },
    {
      "cell_type": "code",
      "metadata": {
        "id": "bYJM-f2H6KBV",
        "colab_type": "code",
        "colab": {}
      },
      "source": [
        "data = data[['category_name', 'title']]"
      ],
      "execution_count": 0,
      "outputs": []
    },
    {
      "cell_type": "code",
      "metadata": {
        "id": "iByT2vPN6afp",
        "colab_type": "code",
        "colab": {
          "base_uri": "https://localhost:8080/",
          "height": 0
        },
        "outputId": "603b4f8d-5b7a-404a-ae4d-e74ff732bcc3"
      },
      "source": [
        "data.shape"
      ],
      "execution_count": 8,
      "outputs": [
        {
          "output_type": "execute_result",
          "data": {
            "text/plain": [
              "(138715, 2)"
            ]
          },
          "metadata": {
            "tags": []
          },
          "execution_count": 8
        }
      ]
    },
    {
      "cell_type": "code",
      "metadata": {
        "id": "m7_eYTP1iZHq",
        "colab_type": "code",
        "colab": {}
      },
      "source": [
        "def create_clusters(X, cluster_model):\n",
        "  cluster_model.fit(X)\n",
        "  labels = cluster_model.labels_\n",
        "  return labels"
      ],
      "execution_count": 0,
      "outputs": []
    },
    {
      "cell_type": "code",
      "metadata": {
        "id": "OoeSsaWEpk1r",
        "colab_type": "code",
        "colab": {}
      },
      "source": [
        "def show_metrics(X, y, labels):\n",
        "  print(\"Homogeneity: %0.3f\" % metrics.homogeneity_score(y, labels)) # проверяет, что в кластере объекты одного класса\n",
        "  print(\"Completeness: %0.3f\" % metrics.completeness_score(y, labels)) # проверяет, что объекты класса только в одном кластере\n",
        "  print(\"V-measure: %0.3f\" % metrics.v_measure_score(y, labels)) # превращает обе метрики в одну "
      ],
      "execution_count": 0,
      "outputs": []
    },
    {
      "cell_type": "markdown",
      "metadata": {
        "id": "rPiUezVUmPTg",
        "colab_type": "text"
      },
      "source": [
        "# **Задание1. Count_Vectorizer или TfidfVectorizer** "
      ]
    },
    {
      "cell_type": "markdown",
      "metadata": {
        "id": "xuxpHPckqpX_",
        "colab_type": "text"
      },
      "source": [
        "**Affinity Propagation**"
      ]
    },
    {
      "cell_type": "code",
      "metadata": {
        "id": "howp4_Q-6aoG",
        "colab_type": "code",
        "colab": {}
      },
      "source": [
        "#Поэкспериментируем с параметрами CountVectorize и TfidfVectorizer\n",
        "cv = CountVectorizer(max_features = 100, max_df=0.9, min_df=5, ngram_range=(1, 3))\n",
        "cv1 = CountVectorizer(max_df=0.9, min_df=5, max_features=100, analyzer='char_wb', ngram_range=(10,15))\n",
        "cv2 = CountVectorizer(max_features = 100, max_df=0.9, min_df=5)\n",
        "tfidf = TfidfVectorizer(max_df=0.8, min_df=6, max_features = 400, ngram_range=(1, 3))\n",
        "tfidf1 = TfidfVectorizer(max_df=0.8, min_df=6, max_features = 400, analyzer='char_wb', ngram_range=(7,15))\n",
        "tfidf2= TfidfVectorizer(max_df=0.5, min_df=6)"
      ],
      "execution_count": 0,
      "outputs": []
    },
    {
      "cell_type": "code",
      "metadata": {
        "id": "6fLA9NBmQbB9",
        "colab_type": "code",
        "colab": {}
      },
      "source": [
        "sample = data.sample(frac=0.01)\n",
        "X_cv = cv.fit_transform(sample['title'])\n",
        "X_cv1 = cv1.fit_transform(sample['title'])\n",
        "X_cv2 = cv2.fit_transform(sample['title'])\n",
        "X_tfidf = tfidf.fit_transform(sample['title'])\n",
        "X_tfidf1 = tfidf1.fit_transform(sample['title'])\n",
        "X_tfidf2 = tfidf2.fit_transform(sample['title'])\n",
        "y = sample['category_name']"
      ],
      "execution_count": 0,
      "outputs": []
    },
    {
      "cell_type": "code",
      "metadata": {
        "id": "b9s6i9S2hYH2",
        "colab_type": "code",
        "colab": {}
      },
      "source": [
        "AP = AffinityPropagation(damping=0.7, preference=-5, \n",
        "                              max_iter=500, verbose=2)"
      ],
      "execution_count": 0,
      "outputs": []
    },
    {
      "cell_type": "code",
      "metadata": {
        "id": "lcCzFncfsEN_",
        "colab_type": "code",
        "colab": {
          "base_uri": "https://localhost:8080/",
          "height": 0
        },
        "outputId": "289e0f56-e5a1-4e58-a4b7-1403548c2d1d"
      },
      "source": [
        "APlabels_cv = create_clusters(X_cv, AP)\n",
        "APlabels_cv1 = create_clusters(X_cv1, AP)\n",
        "APlabels_cv2 = create_clusters(X_cv2, AP)"
      ],
      "execution_count": 125,
      "outputs": [
        {
          "output_type": "stream",
          "text": [
            "Converged after 130 iterations.\n",
            "Converged after 196 iterations.\n",
            "Converged after 183 iterations.\n"
          ],
          "name": "stdout"
        }
      ]
    },
    {
      "cell_type": "code",
      "metadata": {
        "id": "velq0-_jjwIu",
        "colab_type": "code",
        "colab": {
          "base_uri": "https://localhost:8080/",
          "height": 0
        },
        "outputId": "a478bf89-524b-400c-9161-f1cf53ed7982"
      },
      "source": [
        "APlabels_tfidf = create_clusters(X_tfidf, AP)\n",
        "APlabels_tfidf1 = create_clusters(X_tfidf1, AP)\n",
        "APlabels_tfidf2 = create_clusters(X_tfidf2, AP)"
      ],
      "execution_count": 207,
      "outputs": [
        {
          "output_type": "stream",
          "text": [
            "Converged after 169 iterations.\n",
            "Converged after 166 iterations.\n",
            "Converged after 207 iterations.\n"
          ],
          "name": "stdout"
        }
      ]
    },
    {
      "cell_type": "code",
      "metadata": {
        "id": "wDGebcOiplK6",
        "colab_type": "code",
        "colab": {
          "base_uri": "https://localhost:8080/",
          "height": 0
        },
        "outputId": "845678c3-5c20-4729-cd22-8e4ad2aa7008"
      },
      "source": [
        "show_metrics(X_cv, y, APlabels_cv) #ngrams\n",
        "show_metrics(X_cv1, y, APlabels_cv1) #charngrams\n",
        "show_metrics(X_cv2, y, APlabels_cv2) #words"
      ],
      "execution_count": 153,
      "outputs": [
        {
          "output_type": "stream",
          "text": [
            "Homogeneity: 0.389\n",
            "Completeness: 0.400\n",
            "V-measure: 0.395\n",
            "Homogeneity: 0.374\n",
            "Completeness: 0.387\n",
            "V-measure: 0.380\n",
            "Homogeneity: 0.407\n",
            "Completeness: 0.409\n",
            "V-measure: 0.408\n"
          ],
          "name": "stdout"
        }
      ]
    },
    {
      "cell_type": "code",
      "metadata": {
        "id": "0u3wfpyOplZP",
        "colab_type": "code",
        "colab": {
          "base_uri": "https://localhost:8080/",
          "height": 0
        },
        "outputId": "2614fa60-b09c-4e0f-99b5-071e6d9a7e1e"
      },
      "source": [
        "show_metrics(X_tfidf, y, APlabels_tfidf) #ngrams\n",
        "show_metrics(X_tfidf1, y, APlabels_tfidf1) #charngrams\n",
        "show_metrics(X_tfidf2, y, APlabels_tfidf2) #words"
      ],
      "execution_count": 208,
      "outputs": [
        {
          "output_type": "stream",
          "text": [
            "Homogeneity: 0.369\n",
            "Completeness: 0.404\n",
            "V-measure: 0.385\n",
            "Homogeneity: 0.414\n",
            "Completeness: 0.404\n",
            "V-measure: 0.409\n",
            "Homogeneity: 0.807\n",
            "Completeness: 0.435\n",
            "V-measure: 0.566\n"
          ],
          "name": "stdout"
        }
      ]
    },
    {
      "cell_type": "markdown",
      "metadata": {
        "id": "X-XEba-fAk2w",
        "colab_type": "text"
      },
      "source": [
        "Рассмотрим лучшие результаты, в обоих случаях это варианты с униграммами по метрикам. Однако в случае tfidf при оценке \"на глаз\" лучше справляются варианты с символьными нграммами. \n",
        "Вариант с униграммами разбивает на слишком большое количество кластеров (больше 500). "
      ]
    },
    {
      "cell_type": "code",
      "metadata": {
        "id": "OKmNuV8HwNX4",
        "colab_type": "code",
        "colab": {}
      },
      "source": [
        "sample['AP_cv2'] = APlabels_cv2\n",
        "sample['AP_tfidf1'] = APlabels_tfidf1"
      ],
      "execution_count": 0,
      "outputs": []
    },
    {
      "cell_type": "code",
      "metadata": {
        "id": "7wvxIb2p-sFZ",
        "colab_type": "code",
        "colab": {
          "base_uri": "https://localhost:8080/",
          "height": 0
        },
        "outputId": "fc533f9b-2636-4999-e843-8e819c81e5a1"
      },
      "source": [
        "max(sample.AP_tfidf2)"
      ],
      "execution_count": 221,
      "outputs": [
        {
          "output_type": "execute_result",
          "data": {
            "text/plain": [
              "529"
            ]
          },
          "metadata": {
            "tags": []
          },
          "execution_count": 221
        }
      ]
    },
    {
      "cell_type": "code",
      "metadata": {
        "id": "5T7qXDpN_afV",
        "colab_type": "code",
        "colab": {}
      },
      "source": [
        "del sample['AP_tfidf2']"
      ],
      "execution_count": 0,
      "outputs": []
    },
    {
      "cell_type": "code",
      "metadata": {
        "id": "THxNRr8WwR7H",
        "colab_type": "code",
        "colab": {
          "base_uri": "https://localhost:8080/",
          "height": 0
        },
        "outputId": "7a0167f4-d3e9-4143-a181-0b29bb44c06c"
      },
      "source": [
        "sample[sample.AP_tfidf1==17].head(10)"
      ],
      "execution_count": 237,
      "outputs": [
        {
          "output_type": "execute_result",
          "data": {
            "text/html": [
              "<div>\n",
              "<style scoped>\n",
              "    .dataframe tbody tr th:only-of-type {\n",
              "        vertical-align: middle;\n",
              "    }\n",
              "\n",
              "    .dataframe tbody tr th {\n",
              "        vertical-align: top;\n",
              "    }\n",
              "\n",
              "    .dataframe thead th {\n",
              "        text-align: right;\n",
              "    }\n",
              "</style>\n",
              "<table border=\"1\" class=\"dataframe\">\n",
              "  <thead>\n",
              "    <tr style=\"text-align: right;\">\n",
              "      <th></th>\n",
              "      <th>category_name</th>\n",
              "      <th>title</th>\n",
              "      <th>AP_cv2</th>\n",
              "      <th>AP_tfidf1</th>\n",
              "    </tr>\n",
              "  </thead>\n",
              "  <tbody>\n",
              "    <tr>\n",
              "      <th>38093</th>\n",
              "      <td>Товары для детей и игрушки</td>\n",
              "      <td>Молокоотсос medela ручной б/у</td>\n",
              "      <td>10</td>\n",
              "      <td>17</td>\n",
              "    </tr>\n",
              "    <tr>\n",
              "      <th>26890</th>\n",
              "      <td>Мебель и интерьер</td>\n",
              "      <td>Продается б/у стол универсальный 90*60*77 см</td>\n",
              "      <td>19</td>\n",
              "      <td>17</td>\n",
              "    </tr>\n",
              "    <tr>\n",
              "      <th>37342</th>\n",
              "      <td>Детская одежда и обувь</td>\n",
              "      <td>Чешки б/у</td>\n",
              "      <td>10</td>\n",
              "      <td>17</td>\n",
              "    </tr>\n",
              "    <tr>\n",
              "      <th>90866</th>\n",
              "      <td>Мебель и интерьер</td>\n",
              "      <td>Кухня б/у</td>\n",
              "      <td>10</td>\n",
              "      <td>17</td>\n",
              "    </tr>\n",
              "    <tr>\n",
              "      <th>62518</th>\n",
              "      <td>Мебель и интерьер</td>\n",
              "      <td>Стеллаж металлический б/у</td>\n",
              "      <td>10</td>\n",
              "      <td>17</td>\n",
              "    </tr>\n",
              "    <tr>\n",
              "      <th>38077</th>\n",
              "      <td>Мебель и интерьер</td>\n",
              "      <td>Б/У Матрац 1800*2000</td>\n",
              "      <td>10</td>\n",
              "      <td>17</td>\n",
              "    </tr>\n",
              "    <tr>\n",
              "      <th>111943</th>\n",
              "      <td>Мебель и интерьер</td>\n",
              "      <td>Диван и кресло б/у</td>\n",
              "      <td>10</td>\n",
              "      <td>17</td>\n",
              "    </tr>\n",
              "  </tbody>\n",
              "</table>\n",
              "</div>"
            ],
            "text/plain": [
              "                     category_name  ... AP_tfidf1\n",
              "38093   Товары для детей и игрушки  ...        17\n",
              "26890            Мебель и интерьер  ...        17\n",
              "37342       Детская одежда и обувь  ...        17\n",
              "90866            Мебель и интерьер  ...        17\n",
              "62518            Мебель и интерьер  ...        17\n",
              "38077            Мебель и интерьер  ...        17\n",
              "111943           Мебель и интерьер  ...        17\n",
              "\n",
              "[7 rows x 4 columns]"
            ]
          },
          "metadata": {
            "tags": []
          },
          "execution_count": 237
        }
      ]
    },
    {
      "cell_type": "markdown",
      "metadata": {
        "id": "jYyWdX14PLXo",
        "colab_type": "text"
      },
      "source": [
        "V-measure для алгоритмов с TfidfVectorizer (409) и CountVectorizer (408) одинаковая, поэтому по этому параметру сложно судить. По моему мнению, лучше справляется алгоритм с TfidfVectorizer: он более подробно и точно кластеризует данные, что видно по метрикам (Homogeneity выше)."
      ]
    },
    {
      "cell_type": "markdown",
      "metadata": {
        "id": "v7fnDqIK1IgW",
        "colab_type": "text"
      },
      "source": [
        "**KMeans**"
      ]
    },
    {
      "cell_type": "code",
      "metadata": {
        "id": "WT54KKLEB3_h",
        "colab_type": "code",
        "colab": {}
      },
      "source": [
        "cv = CountVectorizer(max_features = 100, max_df=0.6, min_df=5, ngram_range=(1, 3))\n",
        "cv1 = CountVectorizer(max_df=0.6, min_df=5, max_features=100, analyzer='char_wb', ngram_range=(10,15))\n",
        "cv2 = CountVectorizer(max_features = 100, max_df=0.6, min_df=5)\n",
        "tfidf = TfidfVectorizer(max_df=0.8, min_df=6, max_features = 100, ngram_range=(1, 3))\n",
        "tfidf1 = TfidfVectorizer(max_df=0.8, min_df=6, max_features = 100, analyzer='char_wb', ngram_range=(10,15))\n",
        "tfidf2= TfidfVectorizer(max_df=0.8, min_df=6)"
      ],
      "execution_count": 0,
      "outputs": []
    },
    {
      "cell_type": "code",
      "metadata": {
        "id": "5ZVjKfP44r9Y",
        "colab_type": "code",
        "colab": {}
      },
      "source": [
        "KMsample = data.sample(frac=0.01)\n",
        "km_X_cv = cv.fit_transform(KMsample['title'])\n",
        "km_X_cv1 = cv1.fit_transform(KMsample['title'])\n",
        "km_X_cv2 = cv2.fit_transform(KMsample['title'])\n",
        "km_X_tfidf = tfidf.fit_transform(KMsample['title'])\n",
        "km_X_tfidf1 = tfidf1.fit_transform(KMsample['title'])\n",
        "km_X_tfidf2 = tfidf2.fit_transform(KMsample['title'])\n",
        "y = KMsample['category_name']"
      ],
      "execution_count": 0,
      "outputs": []
    },
    {
      "cell_type": "code",
      "metadata": {
        "id": "PD-UyWVK21d3",
        "colab_type": "code",
        "colab": {}
      },
      "source": [
        "#Количество кластеров возьмем немного больше, чем в самом датасете(47).\n",
        "KM = KMeans(n_clusters=55, random_state=42, max_iter=1000, n_jobs=5, algorithm='full')"
      ],
      "execution_count": 0,
      "outputs": []
    },
    {
      "cell_type": "code",
      "metadata": {
        "id": "B4ciefii1pGC",
        "colab_type": "code",
        "colab": {}
      },
      "source": [
        "KMlabels_cv = create_clusters(km_X_cv, KM)\n",
        "KMlabels_cv1 = create_clusters(km_X_cv1, KM)\n",
        "KMlabels_cv2 = create_clusters(km_X_cv2, KM)"
      ],
      "execution_count": 0,
      "outputs": []
    },
    {
      "cell_type": "code",
      "metadata": {
        "id": "SgFqfpqt1pUO",
        "colab_type": "code",
        "colab": {}
      },
      "source": [
        "KMlabels_tfidf= create_clusters(km_X_tfidf, KM)\n",
        "KMlabels_tfidf1= create_clusters(km_X_tfidf1, KM)\n",
        "KMlabels_tfidf2= create_clusters(km_X_tfidf2, KM)"
      ],
      "execution_count": 0,
      "outputs": []
    },
    {
      "cell_type": "code",
      "metadata": {
        "id": "EySKMBAB1pX6",
        "colab_type": "code",
        "colab": {
          "base_uri": "https://localhost:8080/",
          "height": 0
        },
        "outputId": "305a4c46-f641-4674-dc49-308550e8334d"
      },
      "source": [
        "show_metrics(km_X_cv, y, KMlabels_cv) #ngrams\n",
        "show_metrics(km_X_cv1, y, KMlabels_cv1) #charngrams\n",
        "show_metrics(km_X_cv2, y, KMlabels_cv2) #words"
      ],
      "execution_count": 285,
      "outputs": [
        {
          "output_type": "stream",
          "text": [
            "Homogeneity: 0.322\n",
            "Completeness: 0.392\n",
            "V-measure: 0.353\n",
            "Homogeneity: 0.332\n",
            "Completeness: 0.385\n",
            "V-measure: 0.356\n",
            "Homogeneity: 0.338\n",
            "Completeness: 0.405\n",
            "V-measure: 0.369\n"
          ],
          "name": "stdout"
        }
      ]
    },
    {
      "cell_type": "code",
      "metadata": {
        "id": "zys3sEaB1pcD",
        "colab_type": "code",
        "colab": {
          "base_uri": "https://localhost:8080/",
          "height": 0
        },
        "outputId": "3dd2aa97-10e3-451c-e281-6e2a1f23e735"
      },
      "source": [
        "show_metrics(km_X_tfidf, y, KMlabels_tfidf) #ngrams\n",
        "show_metrics(km_X_tfidf1, y, KMlabels_tfidf1) #charngrams\n",
        "show_metrics(km_X_tfidf2, y, KMlabels_tfidf2) #words"
      ],
      "execution_count": 286,
      "outputs": [
        {
          "output_type": "stream",
          "text": [
            "Homogeneity: 0.361\n",
            "Completeness: 0.398\n",
            "V-measure: 0.379\n",
            "Homogeneity: 0.359\n",
            "Completeness: 0.385\n",
            "V-measure: 0.371\n",
            "Homogeneity: 0.377\n",
            "Completeness: 0.411\n",
            "V-measure: 0.393\n"
          ],
          "name": "stdout"
        }
      ]
    },
    {
      "cell_type": "markdown",
      "metadata": {
        "id": "Zn2J3wgOI51f",
        "colab_type": "text"
      },
      "source": [
        "Снова рассмотрим лучшие результаты (снова варианты с униграммами) по V-мере, которая объединяет Homogeneity и Completeness. "
      ]
    },
    {
      "cell_type": "code",
      "metadata": {
        "id": "My72S_-j1pgS",
        "colab_type": "code",
        "colab": {}
      },
      "source": [
        "KMsample['KMlabels_cv2'] = KMlabels_cv2\n",
        "KMsample['KMlabels_tfidf2'] = KMlabels_tfidf2"
      ],
      "execution_count": 0,
      "outputs": []
    },
    {
      "cell_type": "code",
      "metadata": {
        "id": "i-J0MJfG4Nfi",
        "colab_type": "code",
        "colab": {
          "base_uri": "https://localhost:8080/",
          "height": 0
        },
        "outputId": "1755c544-e8ae-4685-d375-935d6d2f017a"
      },
      "source": [
        "KMsample[KMsample.KMlabels_cv2 == 27].head(10)"
      ],
      "execution_count": 307,
      "outputs": [
        {
          "output_type": "execute_result",
          "data": {
            "text/html": [
              "<div>\n",
              "<style scoped>\n",
              "    .dataframe tbody tr th:only-of-type {\n",
              "        vertical-align: middle;\n",
              "    }\n",
              "\n",
              "    .dataframe tbody tr th {\n",
              "        vertical-align: top;\n",
              "    }\n",
              "\n",
              "    .dataframe thead th {\n",
              "        text-align: right;\n",
              "    }\n",
              "</style>\n",
              "<table border=\"1\" class=\"dataframe\">\n",
              "  <thead>\n",
              "    <tr style=\"text-align: right;\">\n",
              "      <th></th>\n",
              "      <th>category_name</th>\n",
              "      <th>title</th>\n",
              "      <th>KMlabels_tfidf2</th>\n",
              "      <th>KMlabels_cv2</th>\n",
              "    </tr>\n",
              "  </thead>\n",
              "  <tbody>\n",
              "    <tr>\n",
              "      <th>53019</th>\n",
              "      <td>Детская одежда и обувь</td>\n",
              "      <td>Сапоги резиновые</td>\n",
              "      <td>35</td>\n",
              "      <td>27</td>\n",
              "    </tr>\n",
              "    <tr>\n",
              "      <th>134703</th>\n",
              "      <td>Одежда, обувь, аксессуары</td>\n",
              "      <td>Сапоги резиновые</td>\n",
              "      <td>35</td>\n",
              "      <td>27</td>\n",
              "    </tr>\n",
              "    <tr>\n",
              "      <th>54999</th>\n",
              "      <td>Детская одежда и обувь</td>\n",
              "      <td>Сапоги межсезонье р29</td>\n",
              "      <td>37</td>\n",
              "      <td>27</td>\n",
              "    </tr>\n",
              "    <tr>\n",
              "      <th>109083</th>\n",
              "      <td>Одежда, обувь, аксессуары</td>\n",
              "      <td>Сапоги демисезонные</td>\n",
              "      <td>37</td>\n",
              "      <td>27</td>\n",
              "    </tr>\n",
              "    <tr>\n",
              "      <th>1618</th>\n",
              "      <td>Детская одежда и обувь</td>\n",
              "      <td>Зимние сапоги</td>\n",
              "      <td>37</td>\n",
              "      <td>27</td>\n",
              "    </tr>\n",
              "    <tr>\n",
              "      <th>44160</th>\n",
              "      <td>Одежда, обувь, аксессуары</td>\n",
              "      <td>Сапоги зима</td>\n",
              "      <td>37</td>\n",
              "      <td>27</td>\n",
              "    </tr>\n",
              "    <tr>\n",
              "      <th>117837</th>\n",
              "      <td>Одежда, обувь, аксессуары</td>\n",
              "      <td>Сапоги</td>\n",
              "      <td>37</td>\n",
              "      <td>27</td>\n",
              "    </tr>\n",
              "    <tr>\n",
              "      <th>14074</th>\n",
              "      <td>Детская одежда и обувь</td>\n",
              "      <td>Сапоги резиновые</td>\n",
              "      <td>35</td>\n",
              "      <td>27</td>\n",
              "    </tr>\n",
              "    <tr>\n",
              "      <th>8512</th>\n",
              "      <td>Одежда, обувь, аксессуары</td>\n",
              "      <td>Сапоги демисезонные</td>\n",
              "      <td>37</td>\n",
              "      <td>27</td>\n",
              "    </tr>\n",
              "    <tr>\n",
              "      <th>74541</th>\n",
              "      <td>Одежда, обувь, аксессуары</td>\n",
              "      <td>Сапоги женские весна</td>\n",
              "      <td>37</td>\n",
              "      <td>27</td>\n",
              "    </tr>\n",
              "  </tbody>\n",
              "</table>\n",
              "</div>"
            ],
            "text/plain": [
              "                    category_name  ... KMlabels_cv2\n",
              "53019      Детская одежда и обувь  ...           27\n",
              "134703  Одежда, обувь, аксессуары  ...           27\n",
              "54999      Детская одежда и обувь  ...           27\n",
              "109083  Одежда, обувь, аксессуары  ...           27\n",
              "1618       Детская одежда и обувь  ...           27\n",
              "44160   Одежда, обувь, аксессуары  ...           27\n",
              "117837  Одежда, обувь, аксессуары  ...           27\n",
              "14074      Детская одежда и обувь  ...           27\n",
              "8512    Одежда, обувь, аксессуары  ...           27\n",
              "74541   Одежда, обувь, аксессуары  ...           27\n",
              "\n",
              "[10 rows x 4 columns]"
            ]
          },
          "metadata": {
            "tags": []
          },
          "execution_count": 307
        }
      ]
    },
    {
      "cell_type": "markdown",
      "metadata": {
        "id": "wHF6iS_nVYTo",
        "colab_type": "text"
      },
      "source": [
        "Этот алгоритм и с CountVectorizer, и с TfidfVectorizer справляется примерно одинаково, если сравнивать результаты визуально. Можно судить по V-measure, что TfidfVectorizer все-таки справляется немного лучше.\n",
        "\n",
        "V-measure для алгоритма с TfidfVectorizer немного выше. Этот алгоритм и с CountVectorizer, и с TfidfVectorizer справляется примерно одинаково, если сравнивать результаты визуально, однако с tfidf иногда кластеризация точнее.\n"
      ]
    },
    {
      "cell_type": "markdown",
      "metadata": {
        "id": "ObCg9bF469nz",
        "colab_type": "text"
      },
      "source": [
        "**MiniBatchKM**"
      ]
    },
    {
      "cell_type": "code",
      "metadata": {
        "id": "qsRHmxKLMHaD",
        "colab_type": "code",
        "colab": {}
      },
      "source": [
        "cv = CountVectorizer(max_features = 100, max_df=0.4, min_df=5, ngram_range=(1, 3))\n",
        "cv1 = CountVectorizer(max_df=0.4, min_df=5, max_features=100, analyzer='char_wb', ngram_range=(10,15))\n",
        "cv2 = CountVectorizer(max_features = 100, max_df=0.4, min_df=5)\n",
        "tfidf = TfidfVectorizer(max_df=0.4, min_df=6, max_features = 100, ngram_range=(1, 3))\n",
        "tfidf1 = TfidfVectorizer(max_df=0.4, min_df=6, max_features = 100, analyzer='char_wb', ngram_range=(10,15))\n",
        "tfidf2= TfidfVectorizer(max_df=0.4, min_df=6)"
      ],
      "execution_count": 0,
      "outputs": []
    },
    {
      "cell_type": "code",
      "metadata": {
        "id": "yu-U2Sv5MQLC",
        "colab_type": "code",
        "colab": {}
      },
      "source": [
        "MBsample = data.sample(frac=0.01)\n",
        "MBX_cv = cv.fit_transform(MBsample['title'])\n",
        "MBX_cv1 = cv1.fit_transform(MBsample['title'])\n",
        "MBX_cv2 = cv2.fit_transform(MBsample['title'])\n",
        "MBX_tfidf = tfidf.fit_transform(MBsample['title'])\n",
        "MBX_tfidf1 = tfidf1.fit_transform(MBsample['title'])\n",
        "MBX_tfidf2 = tfidf2.fit_transform(MBsample['title'])\n",
        "y = MBsample['category_name']"
      ],
      "execution_count": 0,
      "outputs": []
    },
    {
      "cell_type": "code",
      "metadata": {
        "id": "GQNx4tfB7yDE",
        "colab_type": "code",
        "colab": {}
      },
      "source": [
        "MBKMeans = MiniBatchKMeans(n_clusters=55, init_size=500, \\\n",
        "                                   verbose=3, max_iter=1000, batch_size=1000, random_state=42, \\\n",
        "                                   max_no_improvement=200, reassignment_ratio=0.02)"
      ],
      "execution_count": 0,
      "outputs": []
    },
    {
      "cell_type": "code",
      "metadata": {
        "id": "eVD-5PIE7yYN",
        "colab_type": "code",
        "colab": {}
      },
      "source": [
        "MBlabels_cv = create_clusters(MBX_cv, MBKMeans)\n",
        "MBlabels_cv1 = create_clusters(MBX_cv1, MBKMeans)\n",
        "MBlabels_cv2 = create_clusters(MBX_cv2, MBKMeans)"
      ],
      "execution_count": 0,
      "outputs": []
    },
    {
      "cell_type": "code",
      "metadata": {
        "id": "wf8cEDVONYqm",
        "colab_type": "code",
        "colab": {
          "base_uri": "https://localhost:8080/",
          "height": 0
        },
        "outputId": "656bbdb6-b7f9-419f-d405-b9837ff98e0d"
      },
      "source": [
        "show_metrics(MBX_cv, y, MBlabels_cv)\n",
        "show_metrics(MBX_cv1, y, MBlabels_cv1)\n",
        "show_metrics(MBX_cv2, y, MBlabels_cv2)"
      ],
      "execution_count": 321,
      "outputs": [
        {
          "output_type": "stream",
          "text": [
            "Homogeneity: 0.351\n",
            "Completeness: 0.378\n",
            "V-measure: 0.364\n",
            "Homogeneity: 0.343\n",
            "Completeness: 0.370\n",
            "V-measure: 0.356\n",
            "Homogeneity: 0.362\n",
            "Completeness: 0.383\n",
            "V-measure: 0.372\n"
          ],
          "name": "stdout"
        }
      ]
    },
    {
      "cell_type": "code",
      "metadata": {
        "id": "8-x1o22Z7yRy",
        "colab_type": "code",
        "colab": {}
      },
      "source": [
        "MBlabels_tfidf = create_clusters(MBX_tfidf, MBKMeans)\n",
        "MBlabels_tfidf1 = create_clusters(MBX_tfidf1, MBKMeans)\n",
        "MBlabels_tfidf2 = create_clusters(MBX_tfidf2, MBKMeans)"
      ],
      "execution_count": 0,
      "outputs": []
    },
    {
      "cell_type": "code",
      "metadata": {
        "id": "SYS4m4Js8rzk",
        "colab_type": "code",
        "colab": {
          "base_uri": "https://localhost:8080/",
          "height": 0
        },
        "outputId": "cfcb0a6f-70c5-4b7e-f9cb-686c1a4dc7e8"
      },
      "source": [
        "show_metrics(MBX_tfidf, y, MBlabels_tfidf)\n",
        "show_metrics(MBX_tfidf1, y, MBlabels_tfidf1)\n",
        "show_metrics(MBX_tfidf2, y, MBlabels_tfidf2)"
      ],
      "execution_count": 323,
      "outputs": [
        {
          "output_type": "stream",
          "text": [
            "Homogeneity: 0.366\n",
            "Completeness: 0.405\n",
            "V-measure: 0.384\n",
            "Homogeneity: 0.366\n",
            "Completeness: 0.382\n",
            "V-measure: 0.374\n",
            "Homogeneity: 0.384\n",
            "Completeness: 0.394\n",
            "V-measure: 0.389\n"
          ],
          "name": "stdout"
        }
      ]
    },
    {
      "cell_type": "markdown",
      "metadata": {
        "id": "gzza2sA4O9Uj",
        "colab_type": "text"
      },
      "source": [
        "Снова рассмотрим варианты с лучшими результатами V-measure. MBX_tfidf и MBX_tfidf2 показывают примерно одинаковый результат, поэтому рассмотрим оба."
      ]
    },
    {
      "cell_type": "code",
      "metadata": {
        "id": "s8LJdcDu88Uo",
        "colab_type": "code",
        "colab": {}
      },
      "source": [
        "MBsample['MBlabels_cv2'] = MBlabels_cv2\n",
        "MBsample['MBlabels_tfidf2'] = MBlabels_tfidf2\n",
        "MBsample['MBlabels_tfidf'] = MBlabels_tfidf"
      ],
      "execution_count": 0,
      "outputs": []
    },
    {
      "cell_type": "code",
      "metadata": {
        "id": "v52YvJ-s88kL",
        "colab_type": "code",
        "colab": {
          "base_uri": "https://localhost:8080/",
          "height": 0
        },
        "outputId": "688a14f2-51cb-44e2-ccb7-70489baa510a"
      },
      "source": [
        "MBsample[MBsample.MBlabels_tfidf2==19].head(10)"
      ],
      "execution_count": 336,
      "outputs": [
        {
          "output_type": "execute_result",
          "data": {
            "text/html": [
              "<div>\n",
              "<style scoped>\n",
              "    .dataframe tbody tr th:only-of-type {\n",
              "        vertical-align: middle;\n",
              "    }\n",
              "\n",
              "    .dataframe tbody tr th {\n",
              "        vertical-align: top;\n",
              "    }\n",
              "\n",
              "    .dataframe thead th {\n",
              "        text-align: right;\n",
              "    }\n",
              "</style>\n",
              "<table border=\"1\" class=\"dataframe\">\n",
              "  <thead>\n",
              "    <tr style=\"text-align: right;\">\n",
              "      <th></th>\n",
              "      <th>category_name</th>\n",
              "      <th>title</th>\n",
              "      <th>MBlabels_cv2</th>\n",
              "      <th>MBlabels_tfidf2</th>\n",
              "      <th>MBlabels_tfidf</th>\n",
              "    </tr>\n",
              "  </thead>\n",
              "  <tbody>\n",
              "    <tr>\n",
              "      <th>97036</th>\n",
              "      <td>Детская одежда и обувь</td>\n",
              "      <td>Geox туфли</td>\n",
              "      <td>1</td>\n",
              "      <td>19</td>\n",
              "      <td>33</td>\n",
              "    </tr>\n",
              "    <tr>\n",
              "      <th>106288</th>\n",
              "      <td>Детская одежда и обувь</td>\n",
              "      <td>Новые туфли для девочки</td>\n",
              "      <td>6</td>\n",
              "      <td>19</td>\n",
              "      <td>36</td>\n",
              "    </tr>\n",
              "    <tr>\n",
              "      <th>74942</th>\n",
              "      <td>Детская одежда и обувь</td>\n",
              "      <td>Туфли Кенгуру</td>\n",
              "      <td>1</td>\n",
              "      <td>19</td>\n",
              "      <td>33</td>\n",
              "    </tr>\n",
              "    <tr>\n",
              "      <th>49618</th>\n",
              "      <td>Одежда, обувь, аксессуары</td>\n",
              "      <td>Туфли красивые</td>\n",
              "      <td>1</td>\n",
              "      <td>19</td>\n",
              "      <td>33</td>\n",
              "    </tr>\n",
              "    <tr>\n",
              "      <th>124153</th>\n",
              "      <td>Одежда, обувь, аксессуары</td>\n",
              "      <td>Туфли (новые) замша</td>\n",
              "      <td>26</td>\n",
              "      <td>19</td>\n",
              "      <td>33</td>\n",
              "    </tr>\n",
              "    <tr>\n",
              "      <th>15887</th>\n",
              "      <td>Одежда, обувь, аксессуары</td>\n",
              "      <td>Туфли летние мужские новые</td>\n",
              "      <td>26</td>\n",
              "      <td>19</td>\n",
              "      <td>33</td>\n",
              "    </tr>\n",
              "    <tr>\n",
              "      <th>108106</th>\n",
              "      <td>Одежда, обувь, аксессуары</td>\n",
              "      <td>Туфли, сабо</td>\n",
              "      <td>1</td>\n",
              "      <td>19</td>\n",
              "      <td>33</td>\n",
              "    </tr>\n",
              "    <tr>\n",
              "      <th>131126</th>\n",
              "      <td>Одежда, обувь, аксессуары</td>\n",
              "      <td>Туфли</td>\n",
              "      <td>1</td>\n",
              "      <td>19</td>\n",
              "      <td>33</td>\n",
              "    </tr>\n",
              "    <tr>\n",
              "      <th>24682</th>\n",
              "      <td>Детская одежда и обувь</td>\n",
              "      <td>Туфли</td>\n",
              "      <td>1</td>\n",
              "      <td>19</td>\n",
              "      <td>33</td>\n",
              "    </tr>\n",
              "    <tr>\n",
              "      <th>20901</th>\n",
              "      <td>Одежда, обувь, аксессуары</td>\n",
              "      <td>Лоферы ботинки туфли Nando Muzi новые</td>\n",
              "      <td>26</td>\n",
              "      <td>19</td>\n",
              "      <td>33</td>\n",
              "    </tr>\n",
              "  </tbody>\n",
              "</table>\n",
              "</div>"
            ],
            "text/plain": [
              "                    category_name  ... MBlabels_tfidf\n",
              "97036      Детская одежда и обувь  ...             33\n",
              "106288     Детская одежда и обувь  ...             36\n",
              "74942      Детская одежда и обувь  ...             33\n",
              "49618   Одежда, обувь, аксессуары  ...             33\n",
              "124153  Одежда, обувь, аксессуары  ...             33\n",
              "15887   Одежда, обувь, аксессуары  ...             33\n",
              "108106  Одежда, обувь, аксессуары  ...             33\n",
              "131126  Одежда, обувь, аксессуары  ...             33\n",
              "24682      Детская одежда и обувь  ...             33\n",
              "20901   Одежда, обувь, аксессуары  ...             33\n",
              "\n",
              "[10 rows x 5 columns]"
            ]
          },
          "metadata": {
            "tags": []
          },
          "execution_count": 336
        }
      ]
    },
    {
      "cell_type": "markdown",
      "metadata": {
        "id": "JcggVmqYJ-X3",
        "colab_type": "text"
      },
      "source": [
        "V-measure у TfidfVectorizer выше, однако визуально по результатам сложно утверждать, что работает лучше. "
      ]
    },
    {
      "cell_type": "markdown",
      "metadata": {
        "id": "7utiSOmwbweU",
        "colab_type": "text"
      },
      "source": [
        " ***Вывод:***\n",
        "\n",
        "На примере этих 3 алгоритмов TfidfVectorizer работает все-таки немного лучше, хотя V-measure, учитывающая метрики Homogeneity и Completeness, зачастую бывает примерно одинаковой и у TfidfVectorizer, и у CountVectorizer. "
      ]
    },
    {
      "cell_type": "markdown",
      "metadata": {
        "id": "yizgNWuEddGw",
        "colab_type": "text"
      },
      "source": [
        "# **Задание2. TruncatedSVD или NMF**"
      ]
    },
    {
      "cell_type": "markdown",
      "metadata": {
        "id": "juDOR9yzd8k7",
        "colab_type": "text"
      },
      "source": [
        "**KMeans**"
      ]
    },
    {
      "cell_type": "code",
      "metadata": {
        "id": "jjXgzYsIFPnV",
        "colab_type": "code",
        "colab": {}
      },
      "source": [
        "km_sample = data.sample(frac=0.01)\n",
        "tfidf = TfidfVectorizer(max_df=0.8, min_df=6, max_features = 400, ngram_range=(1, 3))\n",
        "svd = TruncatedSVD(100)\n",
        "X = tfidf.fit_transform(km_sample['title'])\n",
        "X_svd = svd.fit_transform(X)\n",
        "nmf = NMF(100)\n",
        "X_nmf = nmf.fit_transform(X)\n",
        "y = km_sample['category_name']"
      ],
      "execution_count": 0,
      "outputs": []
    },
    {
      "cell_type": "code",
      "metadata": {
        "id": "sKP2XMwvZlWf",
        "colab_type": "code",
        "colab": {}
      },
      "source": [
        "KM = KMeans(n_clusters=55, random_state=42, max_iter=1000, n_jobs=5, algorithm='full')"
      ],
      "execution_count": 0,
      "outputs": []
    },
    {
      "cell_type": "code",
      "metadata": {
        "id": "69Y3FOnWBPpo",
        "colab_type": "code",
        "colab": {}
      },
      "source": [
        "KMlabels_svd = create_clusters(X_svd, KM)"
      ],
      "execution_count": 0,
      "outputs": []
    },
    {
      "cell_type": "code",
      "metadata": {
        "id": "eeL981yaC-gA",
        "colab_type": "code",
        "colab": {}
      },
      "source": [
        "KMlabels_nmf = create_clusters(X_nmf, KM)"
      ],
      "execution_count": 0,
      "outputs": []
    },
    {
      "cell_type": "code",
      "metadata": {
        "id": "HdOSmGXe-n6V",
        "colab_type": "code",
        "colab": {
          "base_uri": "https://localhost:8080/",
          "height": 0
        },
        "outputId": "203f71ce-2a5a-4987-8368-980c990a4215"
      },
      "source": [
        "show_metrics(X_svd, y, KMlabels_svd)"
      ],
      "execution_count": 350,
      "outputs": [
        {
          "output_type": "stream",
          "text": [
            "Homogeneity: 0.368\n",
            "Completeness: 0.401\n",
            "V-measure: 0.384\n"
          ],
          "name": "stdout"
        }
      ]
    },
    {
      "cell_type": "code",
      "metadata": {
        "id": "TZOLnW3VDJxI",
        "colab_type": "code",
        "colab": {
          "base_uri": "https://localhost:8080/",
          "height": 0
        },
        "outputId": "e6a37965-d460-45df-ff52-228b40f535f8"
      },
      "source": [
        "show_metrics(X_nmf, y, KMlabels_nmf)"
      ],
      "execution_count": 351,
      "outputs": [
        {
          "output_type": "stream",
          "text": [
            "Homogeneity: 0.346\n",
            "Completeness: 0.388\n",
            "V-measure: 0.366\n"
          ],
          "name": "stdout"
        }
      ]
    },
    {
      "cell_type": "code",
      "metadata": {
        "id": "urSapnfg-n-U",
        "colab_type": "code",
        "colab": {}
      },
      "source": [
        "km_sample['KMlabels_svd'] = KMlabels_svd\n",
        "km_sample['KMlabels_nmf'] = KMlabels_nmf"
      ],
      "execution_count": 0,
      "outputs": []
    },
    {
      "cell_type": "code",
      "metadata": {
        "id": "CTU5IX4qG5cy",
        "colab_type": "code",
        "colab": {
          "base_uri": "https://localhost:8080/",
          "height": 0
        },
        "outputId": "5f3fc3f9-6315-4742-f6f6-661a453b2654"
      },
      "source": [
        "km_sample[km_sample.KMlabels_nmf==32].head(20)"
      ],
      "execution_count": 368,
      "outputs": [
        {
          "output_type": "execute_result",
          "data": {
            "text/html": [
              "<div>\n",
              "<style scoped>\n",
              "    .dataframe tbody tr th:only-of-type {\n",
              "        vertical-align: middle;\n",
              "    }\n",
              "\n",
              "    .dataframe tbody tr th {\n",
              "        vertical-align: top;\n",
              "    }\n",
              "\n",
              "    .dataframe thead th {\n",
              "        text-align: right;\n",
              "    }\n",
              "</style>\n",
              "<table border=\"1\" class=\"dataframe\">\n",
              "  <thead>\n",
              "    <tr style=\"text-align: right;\">\n",
              "      <th></th>\n",
              "      <th>category_name</th>\n",
              "      <th>title</th>\n",
              "      <th>KMlabels_svd</th>\n",
              "      <th>KMlabels_nmf</th>\n",
              "    </tr>\n",
              "  </thead>\n",
              "  <tbody>\n",
              "    <tr>\n",
              "      <th>56734</th>\n",
              "      <td>Предложение услуг</td>\n",
              "      <td>Услуги автокрана и другой спецтехники от владе...</td>\n",
              "      <td>41</td>\n",
              "      <td>32</td>\n",
              "    </tr>\n",
              "    <tr>\n",
              "      <th>32714</th>\n",
              "      <td>Детская одежда и обувь</td>\n",
              "      <td>Детские новые вещи от 1 года до 5 лет</td>\n",
              "      <td>27</td>\n",
              "      <td>32</td>\n",
              "    </tr>\n",
              "    <tr>\n",
              "      <th>56443</th>\n",
              "      <td>Одежда, обувь, аксессуары</td>\n",
              "      <td>Джегинсы от магазина топ шоп</td>\n",
              "      <td>1</td>\n",
              "      <td>32</td>\n",
              "    </tr>\n",
              "    <tr>\n",
              "      <th>16512</th>\n",
              "      <td>Ремонт и строительство</td>\n",
              "      <td>Очиститель от бетона, клея, ржавчины Барракуда...</td>\n",
              "      <td>1</td>\n",
              "      <td>32</td>\n",
              "    </tr>\n",
              "    <tr>\n",
              "      <th>86436</th>\n",
              "      <td>Коммерческая недвижимость</td>\n",
              "      <td>Открытая площадка, 2000 м². От собственника</td>\n",
              "      <td>1</td>\n",
              "      <td>32</td>\n",
              "    </tr>\n",
              "    <tr>\n",
              "      <th>12696</th>\n",
              "      <td>Аудио и видео</td>\n",
              "      <td>Гарнитура от iPhone 4s</td>\n",
              "      <td>14</td>\n",
              "      <td>32</td>\n",
              "    </tr>\n",
              "    <tr>\n",
              "      <th>80743</th>\n",
              "      <td>Собаки</td>\n",
              "      <td>Щенки бивера от Чемпионов!</td>\n",
              "      <td>1</td>\n",
              "      <td>32</td>\n",
              "    </tr>\n",
              "    <tr>\n",
              "      <th>5242</th>\n",
              "      <td>Детская одежда и обувь</td>\n",
              "      <td>Нарядное платье. На рост от 98 до 110</td>\n",
              "      <td>27</td>\n",
              "      <td>32</td>\n",
              "    </tr>\n",
              "  </tbody>\n",
              "</table>\n",
              "</div>"
            ],
            "text/plain": [
              "                   category_name  ... KMlabels_nmf\n",
              "56734          Предложение услуг  ...           32\n",
              "32714     Детская одежда и обувь  ...           32\n",
              "56443  Одежда, обувь, аксессуары  ...           32\n",
              "16512     Ремонт и строительство  ...           32\n",
              "86436  Коммерческая недвижимость  ...           32\n",
              "12696              Аудио и видео  ...           32\n",
              "80743                     Собаки  ...           32\n",
              "5242      Детская одежда и обувь  ...           32\n",
              "\n",
              "[8 rows x 4 columns]"
            ]
          },
          "metadata": {
            "tags": []
          },
          "execution_count": 368
        }
      ]
    },
    {
      "cell_type": "markdown",
      "metadata": {
        "id": "o4mkD8RibMpg",
        "colab_type": "text"
      },
      "source": [
        "TruncatedSVD работает лучше для кластеризации алгоритмом KMeans, как показывают метрики. "
      ]
    },
    {
      "cell_type": "markdown",
      "metadata": {
        "id": "Hgb0LPfvcNA2",
        "colab_type": "text"
      },
      "source": [
        "**Spectral Clustering**"
      ]
    },
    {
      "cell_type": "code",
      "metadata": {
        "id": "VJMFrphycpGO",
        "colab_type": "code",
        "colab": {}
      },
      "source": [
        "SC_sample = data.sample(frac=0.01)\n",
        "tfidf = TfidfVectorizer(max_df=0.7, min_df=6, max_features=500, ngram_range=(1,3))\n",
        "svd = TruncatedSVD(100)\n",
        "X = tfidf.fit_transform(SC_sample['title'])\n",
        "X_svd = svd.fit_transform(X)\n",
        "nmf = NMF(100)\n",
        "X_nmf = nmf.fit_transform(X)\n",
        "y = SC_sample['category_name']"
      ],
      "execution_count": 0,
      "outputs": []
    },
    {
      "cell_type": "code",
      "metadata": {
        "id": "rRjEYWToc6XQ",
        "colab_type": "code",
        "colab": {}
      },
      "source": [
        "SC = SpectralClustering(affinity='rbf', coef0=0.8, degree=4,\n",
        "          gamma=1.0, n_clusters=55, \n",
        "          n_init=10, n_jobs=5, n_neighbors=10,\n",
        "          random_state=42)"
      ],
      "execution_count": 0,
      "outputs": []
    },
    {
      "cell_type": "code",
      "metadata": {
        "id": "XNnZz4icdXmx",
        "colab_type": "code",
        "colab": {}
      },
      "source": [
        "SClabels_svd = create_clusters(X_svd, SC)"
      ],
      "execution_count": 0,
      "outputs": []
    },
    {
      "cell_type": "code",
      "metadata": {
        "id": "Vm7OtVUwdgOH",
        "colab_type": "code",
        "colab": {
          "base_uri": "https://localhost:8080/",
          "height": 0
        },
        "outputId": "ee11cd82-e0a7-49ac-af38-14ee85f1ee46"
      },
      "source": [
        "show_metrics(X_svd, y, SClabels_svd)"
      ],
      "execution_count": 385,
      "outputs": [
        {
          "output_type": "stream",
          "text": [
            "Homogeneity: 0.379\n",
            "Completeness: 0.417\n",
            "V-measure: 0.397\n"
          ],
          "name": "stdout"
        }
      ]
    },
    {
      "cell_type": "code",
      "metadata": {
        "id": "D9PeHjYxdwlz",
        "colab_type": "code",
        "colab": {}
      },
      "source": [
        "SClabels_nmf = create_clusters(X_nmf, SC)"
      ],
      "execution_count": 0,
      "outputs": []
    },
    {
      "cell_type": "code",
      "metadata": {
        "id": "nF1LGTVDekS8",
        "colab_type": "code",
        "colab": {
          "base_uri": "https://localhost:8080/",
          "height": 0
        },
        "outputId": "064bc378-0b73-4790-a9d8-f31186c67cda"
      },
      "source": [
        "show_metrics(X_nmf, y, SClabels_nmf)"
      ],
      "execution_count": 387,
      "outputs": [
        {
          "output_type": "stream",
          "text": [
            "Homogeneity: 0.357\n",
            "Completeness: 0.399\n",
            "V-measure: 0.377\n"
          ],
          "name": "stdout"
        }
      ]
    },
    {
      "cell_type": "code",
      "metadata": {
        "id": "feLG3Asiepjr",
        "colab_type": "code",
        "colab": {}
      },
      "source": [
        "SC_sample['SClabels_svd'] = SClabels_svd\n",
        "SC_sample['SClabels_nmf'] = SClabels_nmf"
      ],
      "execution_count": 0,
      "outputs": []
    },
    {
      "cell_type": "code",
      "metadata": {
        "id": "M3g7Z4hUfbED",
        "colab_type": "code",
        "colab": {
          "base_uri": "https://localhost:8080/",
          "height": 0
        },
        "outputId": "26b8d92c-25f9-4c75-a3c6-76d144c19710"
      },
      "source": [
        "SC_sample[SC_sample.SClabels_nmf==39].head(10)"
      ],
      "execution_count": 407,
      "outputs": [
        {
          "output_type": "execute_result",
          "data": {
            "text/html": [
              "<div>\n",
              "<style scoped>\n",
              "    .dataframe tbody tr th:only-of-type {\n",
              "        vertical-align: middle;\n",
              "    }\n",
              "\n",
              "    .dataframe tbody tr th {\n",
              "        vertical-align: top;\n",
              "    }\n",
              "\n",
              "    .dataframe thead th {\n",
              "        text-align: right;\n",
              "    }\n",
              "</style>\n",
              "<table border=\"1\" class=\"dataframe\">\n",
              "  <thead>\n",
              "    <tr style=\"text-align: right;\">\n",
              "      <th></th>\n",
              "      <th>category_name</th>\n",
              "      <th>title</th>\n",
              "      <th>SClabels_svd</th>\n",
              "      <th>SClabels_nmf</th>\n",
              "    </tr>\n",
              "  </thead>\n",
              "  <tbody>\n",
              "    <tr>\n",
              "      <th>7587</th>\n",
              "      <td>Комнаты</td>\n",
              "      <td>Комната 11.1 м² в 9-к, 1/3 эт.</td>\n",
              "      <td>35</td>\n",
              "      <td>39</td>\n",
              "    </tr>\n",
              "    <tr>\n",
              "      <th>46602</th>\n",
              "      <td>Ремонт и строительство</td>\n",
              "      <td>Выключатель автоматический 12 штук. Цена догов...</td>\n",
              "      <td>1</td>\n",
              "      <td>39</td>\n",
              "    </tr>\n",
              "    <tr>\n",
              "      <th>123329</th>\n",
              "      <td>Комнаты</td>\n",
              "      <td>Комната 12 м² в 4-к, 7/9 эт.</td>\n",
              "      <td>35</td>\n",
              "      <td>39</td>\n",
              "    </tr>\n",
              "    <tr>\n",
              "      <th>7707</th>\n",
              "      <td>Билеты и путешествия</td>\n",
              "      <td>Греция, о. Крит из Уфы с 6 мая на 12 ночей</td>\n",
              "      <td>1</td>\n",
              "      <td>39</td>\n",
              "    </tr>\n",
              "    <tr>\n",
              "      <th>105428</th>\n",
              "      <td>Детская одежда и обувь</td>\n",
              "      <td>Куртка для девочки 10-12 лет</td>\n",
              "      <td>44</td>\n",
              "      <td>39</td>\n",
              "    </tr>\n",
              "    <tr>\n",
              "      <th>60491</th>\n",
              "      <td>Комнаты</td>\n",
              "      <td>Комната 18 м² в 3-к, 8/9 эт.</td>\n",
              "      <td>35</td>\n",
              "      <td>39</td>\n",
              "    </tr>\n",
              "    <tr>\n",
              "      <th>112065</th>\n",
              "      <td>Комнаты</td>\n",
              "      <td>Комната 18 м² в 1-к, 3/3 эт.</td>\n",
              "      <td>35</td>\n",
              "      <td>39</td>\n",
              "    </tr>\n",
              "    <tr>\n",
              "      <th>77601</th>\n",
              "      <td>Комнаты</td>\n",
              "      <td>Комната 12 м² в 2-к, 2/2 эт.</td>\n",
              "      <td>35</td>\n",
              "      <td>39</td>\n",
              "    </tr>\n",
              "    <tr>\n",
              "      <th>124764</th>\n",
              "      <td>Товары для детей и игрушки</td>\n",
              "      <td>Электрокачель до 12 кг все работает</td>\n",
              "      <td>1</td>\n",
              "      <td>39</td>\n",
              "    </tr>\n",
              "    <tr>\n",
              "      <th>127170</th>\n",
              "      <td>Комнаты</td>\n",
              "      <td>Комната 18 м² в &gt; 9-к, 3/5 эт.</td>\n",
              "      <td>35</td>\n",
              "      <td>39</td>\n",
              "    </tr>\n",
              "  </tbody>\n",
              "</table>\n",
              "</div>"
            ],
            "text/plain": [
              "                     category_name  ... SClabels_nmf\n",
              "7587                       Комнаты  ...           39\n",
              "46602       Ремонт и строительство  ...           39\n",
              "123329                     Комнаты  ...           39\n",
              "7707          Билеты и путешествия  ...           39\n",
              "105428      Детская одежда и обувь  ...           39\n",
              "60491                      Комнаты  ...           39\n",
              "112065                     Комнаты  ...           39\n",
              "77601                      Комнаты  ...           39\n",
              "124764  Товары для детей и игрушки  ...           39\n",
              "127170                     Комнаты  ...           39\n",
              "\n",
              "[10 rows x 4 columns]"
            ]
          },
          "metadata": {
            "tags": []
          },
          "execution_count": 407
        }
      ]
    },
    {
      "cell_type": "markdown",
      "metadata": {
        "id": "vufrO8Q9fosc",
        "colab_type": "text"
      },
      "source": [
        "В этом случае также получается результат лучше при использовании TruncatedSVD. C таким разложением кластеры определяются более точно (более подробная кластеризация), метрики тоже выше.  "
      ]
    },
    {
      "cell_type": "markdown",
      "metadata": {
        "id": "oc2RAgPtgOrp",
        "colab_type": "text"
      },
      "source": [
        "**MiniBatchKMeans**"
      ]
    },
    {
      "cell_type": "code",
      "metadata": {
        "id": "KJ35CD0jfkYy",
        "colab_type": "code",
        "colab": {}
      },
      "source": [
        "MBKM_sample = data.sample(frac=0.01)\n",
        "tfidf = TfidfVectorizer(max_df=0.7, min_df=6, max_features=500, ngram_range=(1,3))\n",
        "svd = TruncatedSVD(100)\n",
        "X = tfidf.fit_transform(MBKM_sample['title'])\n",
        "X_svd = svd.fit_transform(X)\n",
        "nmf = NMF(100)\n",
        "X_nmf = nmf.fit_transform(X)\n",
        "y = MBKM_sample['category_name']"
      ],
      "execution_count": 0,
      "outputs": []
    },
    {
      "cell_type": "code",
      "metadata": {
        "id": "yQRRhIp5hIzr",
        "colab_type": "code",
        "colab": {}
      },
      "source": [
        "MBKMeans = MiniBatchKMeans(n_clusters=55, init_size=500, \\\n",
        "                                   verbose=2, max_iter=1000, batch_size=1000, random_state=42, \\\n",
        "                                   max_no_improvement=200, reassignment_ratio=0.04)"
      ],
      "execution_count": 0,
      "outputs": []
    },
    {
      "cell_type": "code",
      "metadata": {
        "id": "oxE7avctox9w",
        "colab_type": "code",
        "colab": {}
      },
      "source": [
        "MBKMlabels_svd = create_clusters(X_svd,MBKMeans)"
      ],
      "execution_count": 0,
      "outputs": []
    },
    {
      "cell_type": "code",
      "metadata": {
        "id": "mBTx2SXaoyd1",
        "colab_type": "code",
        "colab": {}
      },
      "source": [
        "MBKMlabels_nmf = create_clusters(X_nmf, MBKMeans)"
      ],
      "execution_count": 0,
      "outputs": []
    },
    {
      "cell_type": "code",
      "metadata": {
        "id": "pkMPL2UnoyXN",
        "colab_type": "code",
        "colab": {
          "base_uri": "https://localhost:8080/",
          "height": 0
        },
        "outputId": "8f5f2f3e-aa0c-46e5-97ea-a73a7cbd1be5"
      },
      "source": [
        "show_metrics(X_svd, y, MBKMlabels_svd)"
      ],
      "execution_count": 412,
      "outputs": [
        {
          "output_type": "stream",
          "text": [
            "Homogeneity: 0.361\n",
            "Completeness: 0.393\n",
            "V-measure: 0.376\n"
          ],
          "name": "stdout"
        }
      ]
    },
    {
      "cell_type": "code",
      "metadata": {
        "id": "GtWZQp7ToyPN",
        "colab_type": "code",
        "colab": {
          "base_uri": "https://localhost:8080/",
          "height": 0
        },
        "outputId": "5d34c690-384e-4d1c-8c81-9aeace8ff0f9"
      },
      "source": [
        "show_metrics(X_nmf, y, MBKMlabels_nmf)"
      ],
      "execution_count": 413,
      "outputs": [
        {
          "output_type": "stream",
          "text": [
            "Homogeneity: 0.371\n",
            "Completeness: 0.415\n",
            "V-measure: 0.391\n"
          ],
          "name": "stdout"
        }
      ]
    },
    {
      "cell_type": "code",
      "metadata": {
        "id": "40FJxbkNqQmd",
        "colab_type": "code",
        "colab": {}
      },
      "source": [
        "MBKM_sample['MBKMlabels_svd'] = MBKMlabels_svd\n",
        "MBKM_sample['MBKMlabels_nmf'] = MBKMlabels_nmf"
      ],
      "execution_count": 0,
      "outputs": []
    },
    {
      "cell_type": "code",
      "metadata": {
        "id": "p1et4ILOqrn_",
        "colab_type": "code",
        "colab": {
          "base_uri": "https://localhost:8080/",
          "height": 0
        },
        "outputId": "389313c5-2fc6-4345-ff8b-9ceccb378dc2"
      },
      "source": [
        "MBKM_sample[MBKM_sample.MBKMlabels_nmf==39].head(10)"
      ],
      "execution_count": 436,
      "outputs": [
        {
          "output_type": "execute_result",
          "data": {
            "text/html": [
              "<div>\n",
              "<style scoped>\n",
              "    .dataframe tbody tr th:only-of-type {\n",
              "        vertical-align: middle;\n",
              "    }\n",
              "\n",
              "    .dataframe tbody tr th {\n",
              "        vertical-align: top;\n",
              "    }\n",
              "\n",
              "    .dataframe thead th {\n",
              "        text-align: right;\n",
              "    }\n",
              "</style>\n",
              "<table border=\"1\" class=\"dataframe\">\n",
              "  <thead>\n",
              "    <tr style=\"text-align: right;\">\n",
              "      <th></th>\n",
              "      <th>category_name</th>\n",
              "      <th>title</th>\n",
              "      <th>MBKMlabels_svd</th>\n",
              "      <th>MBKMlabels_nmf</th>\n",
              "    </tr>\n",
              "  </thead>\n",
              "  <tbody>\n",
              "    <tr>\n",
              "      <th>20542</th>\n",
              "      <td>Квартиры</td>\n",
              "      <td>1-к квартира, 32 м², 4/5 эт.</td>\n",
              "      <td>3</td>\n",
              "      <td>39</td>\n",
              "    </tr>\n",
              "    <tr>\n",
              "      <th>93144</th>\n",
              "      <td>Квартиры</td>\n",
              "      <td>1-к квартира, 32 м², 2/5 эт.</td>\n",
              "      <td>3</td>\n",
              "      <td>39</td>\n",
              "    </tr>\n",
              "    <tr>\n",
              "      <th>22278</th>\n",
              "      <td>Дома, дачи, коттеджи</td>\n",
              "      <td>Дом 32 м² на участке 6 сот.</td>\n",
              "      <td>1</td>\n",
              "      <td>39</td>\n",
              "    </tr>\n",
              "    <tr>\n",
              "      <th>103328</th>\n",
              "      <td>Дома, дачи, коттеджи</td>\n",
              "      <td>Дом 32 м² на участке 10 сот.</td>\n",
              "      <td>1</td>\n",
              "      <td>39</td>\n",
              "    </tr>\n",
              "    <tr>\n",
              "      <th>94187</th>\n",
              "      <td>Квартиры</td>\n",
              "      <td>1-к квартира, 32 м², 1/5 эт.</td>\n",
              "      <td>3</td>\n",
              "      <td>39</td>\n",
              "    </tr>\n",
              "  </tbody>\n",
              "</table>\n",
              "</div>"
            ],
            "text/plain": [
              "               category_name  ... MBKMlabels_nmf\n",
              "20542               Квартиры  ...             39\n",
              "93144               Квартиры  ...             39\n",
              "22278   Дома, дачи, коттеджи  ...             39\n",
              "103328  Дома, дачи, коттеджи  ...             39\n",
              "94187               Квартиры  ...             39\n",
              "\n",
              "[5 rows x 4 columns]"
            ]
          },
          "metadata": {
            "tags": []
          },
          "execution_count": 436
        }
      ]
    },
    {
      "cell_type": "markdown",
      "metadata": {
        "id": "gUCuIA84rGZB",
        "colab_type": "text"
      },
      "source": [
        "Несмотря на то, что с разложением TruncatedSVD метрики ниже,чем с NMF, но если посмотреть на примеры, то видно, что  алгоритм с разложением TruncatedSVD кластеризует лучше в целом. Кластеры, по моему мнению, получаются более обоснованными."
      ]
    },
    {
      "cell_type": "markdown",
      "metadata": {
        "id": "3PeMGJ3tfCgZ",
        "colab_type": "text"
      },
      "source": [
        "***Вывод:***\n",
        "\n",
        "На этих 3 примерах видно, что разложение TruncatedSVD работает лучше, чем NMF. V-measure с TruncatedSVD  в 2 случаях из 3 выше."
      ]
    },
    {
      "cell_type": "markdown",
      "metadata": {
        "id": "dS4aZx4O6tj-",
        "colab_type": "text"
      },
      "source": [
        "# **Задание3. Выбросы**"
      ]
    },
    {
      "cell_type": "markdown",
      "metadata": {
        "id": "sdFhRfMZqWgy",
        "colab_type": "text"
      },
      "source": [
        "**DBSCAN**"
      ]
    },
    {
      "cell_type": "code",
      "metadata": {
        "id": "7sKa4xFqf95z",
        "colab_type": "code",
        "colab": {}
      },
      "source": [
        "dbsample = data.sample(frac=0.01)\n",
        "tfidf = TfidfVectorizer(max_df=0.7, min_df=6, max_features=500, ngram_range=(1,3))\n",
        "svd = TruncatedSVD(100)\n",
        "X = tfidf.fit_transform(dbsample['title'])\n",
        "X_svd = svd.fit_transform(X)\n",
        "y = dbsample['category_name']"
      ],
      "execution_count": 0,
      "outputs": []
    },
    {
      "cell_type": "code",
      "metadata": {
        "id": "VmVEx5BefX7e",
        "colab_type": "code",
        "colab": {}
      },
      "source": [
        "dbscan = DBSCAN(min_samples=2, eps=0.3) "
      ],
      "execution_count": 0,
      "outputs": []
    },
    {
      "cell_type": "code",
      "metadata": {
        "id": "eyuh5oBFfYNT",
        "colab_type": "code",
        "colab": {}
      },
      "source": [
        "db_labels = create_clusters(X_svd, dbscan)"
      ],
      "execution_count": 0,
      "outputs": []
    },
    {
      "cell_type": "code",
      "metadata": {
        "id": "0-A14Qe-h2I7",
        "colab_type": "code",
        "colab": {}
      },
      "source": [
        "dbsample['labels'] = db_labels"
      ],
      "execution_count": 0,
      "outputs": []
    },
    {
      "cell_type": "code",
      "metadata": {
        "id": "voyqxmcp6yj6",
        "colab_type": "code",
        "colab": {}
      },
      "source": [
        "outliers = dbsample[dbsample.labels==-1]"
      ],
      "execution_count": 0,
      "outputs": []
    },
    {
      "cell_type": "code",
      "metadata": {
        "id": "7u2hwusJ3Qjb",
        "colab_type": "code",
        "colab": {
          "base_uri": "https://localhost:8080/",
          "height": 34
        },
        "outputId": "52b9ed7e-eb9e-434b-b4a1-484ad42591aa"
      },
      "source": [
        "len(outliers.values)"
      ],
      "execution_count": 498,
      "outputs": [
        {
          "output_type": "execute_result",
          "data": {
            "text/plain": [
              "178"
            ]
          },
          "metadata": {
            "tags": []
          },
          "execution_count": 498
        }
      ]
    },
    {
      "cell_type": "code",
      "metadata": {
        "id": "BlM6N2fb6zGI",
        "colab_type": "code",
        "colab": {
          "base_uri": "https://localhost:8080/",
          "height": 935
        },
        "outputId": "02cd49a3-367f-41bd-e627-b3655559579d"
      },
      "source": [
        "outliers[50:80]"
      ],
      "execution_count": 508,
      "outputs": [
        {
          "output_type": "execute_result",
          "data": {
            "text/html": [
              "<div>\n",
              "<style scoped>\n",
              "    .dataframe tbody tr th:only-of-type {\n",
              "        vertical-align: middle;\n",
              "    }\n",
              "\n",
              "    .dataframe tbody tr th {\n",
              "        vertical-align: top;\n",
              "    }\n",
              "\n",
              "    .dataframe thead th {\n",
              "        text-align: right;\n",
              "    }\n",
              "</style>\n",
              "<table border=\"1\" class=\"dataframe\">\n",
              "  <thead>\n",
              "    <tr style=\"text-align: right;\">\n",
              "      <th></th>\n",
              "      <th>category_name</th>\n",
              "      <th>title</th>\n",
              "      <th>labels</th>\n",
              "    </tr>\n",
              "  </thead>\n",
              "  <tbody>\n",
              "    <tr>\n",
              "      <th>99185</th>\n",
              "      <td>Телефоны</td>\n",
              "      <td>Новый чехол для Samsung Galaxy S6 Edge</td>\n",
              "      <td>-1</td>\n",
              "    </tr>\n",
              "    <tr>\n",
              "      <th>74740</th>\n",
              "      <td>Детская одежда и обувь</td>\n",
              "      <td>Pablosky кеды 21 (5) размер</td>\n",
              "      <td>-1</td>\n",
              "    </tr>\n",
              "    <tr>\n",
              "      <th>103575</th>\n",
              "      <td>Детская одежда и обувь</td>\n",
              "      <td>Теплый костюм для малышки</td>\n",
              "      <td>-1</td>\n",
              "    </tr>\n",
              "    <tr>\n",
              "      <th>113822</th>\n",
              "      <td>Детская одежда и обувь</td>\n",
              "      <td>Костюм на ребенка</td>\n",
              "      <td>-1</td>\n",
              "    </tr>\n",
              "    <tr>\n",
              "      <th>91768</th>\n",
              "      <td>Спорт и отдых</td>\n",
              "      <td>Диски для штанги 2.5 и 1.25кг под диаметр 50мм</td>\n",
              "      <td>-1</td>\n",
              "    </tr>\n",
              "    <tr>\n",
              "      <th>111787</th>\n",
              "      <td>Одежда, обувь, аксессуары</td>\n",
              "      <td>Продам шикарные платья</td>\n",
              "      <td>-1</td>\n",
              "    </tr>\n",
              "    <tr>\n",
              "      <th>56714</th>\n",
              "      <td>Одежда, обувь, аксессуары</td>\n",
              "      <td>Вещи на беременность,весна,теплые</td>\n",
              "      <td>-1</td>\n",
              "    </tr>\n",
              "    <tr>\n",
              "      <th>88500</th>\n",
              "      <td>Детская одежда и обувь</td>\n",
              "      <td>Сапожки детские Весна-Осень размер 23</td>\n",
              "      <td>-1</td>\n",
              "    </tr>\n",
              "    <tr>\n",
              "      <th>119230</th>\n",
              "      <td>Часы и украшения</td>\n",
              "      <td>Серьги с Бриллиантами 18-0,57 ct. (арт. 8609 К)</td>\n",
              "      <td>-1</td>\n",
              "    </tr>\n",
              "    <tr>\n",
              "      <th>99879</th>\n",
              "      <td>Товары для детей и игрушки</td>\n",
              "      <td>Продаю кровать-трансфорер</td>\n",
              "      <td>-1</td>\n",
              "    </tr>\n",
              "    <tr>\n",
              "      <th>27020</th>\n",
              "      <td>Одежда, обувь, аксессуары</td>\n",
              "      <td>Продам новые туфли 42 размера</td>\n",
              "      <td>-1</td>\n",
              "    </tr>\n",
              "    <tr>\n",
              "      <th>107215</th>\n",
              "      <td>Мебель и интерьер</td>\n",
              "      <td>Диван от производителя фото 51 в ассортименте</td>\n",
              "      <td>-1</td>\n",
              "    </tr>\n",
              "    <tr>\n",
              "      <th>36800</th>\n",
              "      <td>Детская одежда и обувь</td>\n",
              "      <td>Шапочки весна</td>\n",
              "      <td>-1</td>\n",
              "    </tr>\n",
              "    <tr>\n",
              "      <th>87668</th>\n",
              "      <td>Автомобили</td>\n",
              "      <td>ВАЗ 2107, 2008</td>\n",
              "      <td>-1</td>\n",
              "    </tr>\n",
              "    <tr>\n",
              "      <th>70281</th>\n",
              "      <td>Детская одежда и обувь</td>\n",
              "      <td>Демисезонные сапожки</td>\n",
              "      <td>-1</td>\n",
              "    </tr>\n",
              "    <tr>\n",
              "      <th>28380</th>\n",
              "      <td>Одежда, обувь, аксессуары</td>\n",
              "      <td>Белые (новые) кроссовки</td>\n",
              "      <td>-1</td>\n",
              "    </tr>\n",
              "    <tr>\n",
              "      <th>82711</th>\n",
              "      <td>Квартиры</td>\n",
              "      <td>1-к квартира, 36 м², 2/12 эт.</td>\n",
              "      <td>-1</td>\n",
              "    </tr>\n",
              "    <tr>\n",
              "      <th>55063</th>\n",
              "      <td>Одежда, обувь, аксессуары</td>\n",
              "      <td>Рубашка новая, размер 56-58</td>\n",
              "      <td>-1</td>\n",
              "    </tr>\n",
              "    <tr>\n",
              "      <th>131214</th>\n",
              "      <td>Одежда, обувь, аксессуары</td>\n",
              "      <td>Халат тёплый, новый, р. 42-44</td>\n",
              "      <td>-1</td>\n",
              "    </tr>\n",
              "    <tr>\n",
              "      <th>36186</th>\n",
              "      <td>Детская одежда и обувь</td>\n",
              "      <td>Кроссовки детские</td>\n",
              "      <td>-1</td>\n",
              "    </tr>\n",
              "    <tr>\n",
              "      <th>33413</th>\n",
              "      <td>Одежда, обувь, аксессуары</td>\n",
              "      <td>Куртка Demix весна-осень размер 42-44</td>\n",
              "      <td>-1</td>\n",
              "    </tr>\n",
              "    <tr>\n",
              "      <th>87191</th>\n",
              "      <td>Мебель и интерьер</td>\n",
              "      <td>Детская кровать</td>\n",
              "      <td>-1</td>\n",
              "    </tr>\n",
              "    <tr>\n",
              "      <th>42012</th>\n",
              "      <td>Дома, дачи, коттеджи</td>\n",
              "      <td>Дача 50 м² на участке 6 сот.</td>\n",
              "      <td>-1</td>\n",
              "    </tr>\n",
              "    <tr>\n",
              "      <th>65199</th>\n",
              "      <td>Детская одежда и обувь</td>\n",
              "      <td>Костюм на девочку весна/осень</td>\n",
              "      <td>-1</td>\n",
              "    </tr>\n",
              "    <tr>\n",
              "      <th>33193</th>\n",
              "      <td>Детская одежда и обувь</td>\n",
              "      <td>Продам ботинки Barkito осень-весна, лето</td>\n",
              "      <td>-1</td>\n",
              "    </tr>\n",
              "    <tr>\n",
              "      <th>67796</th>\n",
              "      <td>Детская одежда и обувь</td>\n",
              "      <td>Комбинезон на 3месяца</td>\n",
              "      <td>-1</td>\n",
              "    </tr>\n",
              "    <tr>\n",
              "      <th>105476</th>\n",
              "      <td>Детская одежда и обувь</td>\n",
              "      <td>Костюм-конверт Зима-осень-весна</td>\n",
              "      <td>-1</td>\n",
              "    </tr>\n",
              "    <tr>\n",
              "      <th>93388</th>\n",
              "      <td>Дома, дачи, коттеджи</td>\n",
              "      <td>Дом 34.7 м² на участке 30 сот.</td>\n",
              "      <td>-1</td>\n",
              "    </tr>\n",
              "    <tr>\n",
              "      <th>53646</th>\n",
              "      <td>Автомобили</td>\n",
              "      <td>Nissan Teana, 2008</td>\n",
              "      <td>-1</td>\n",
              "    </tr>\n",
              "    <tr>\n",
              "      <th>27878</th>\n",
              "      <td>Растения</td>\n",
              "      <td>Букет из 15 Нарцисов</td>\n",
              "      <td>-1</td>\n",
              "    </tr>\n",
              "  </tbody>\n",
              "</table>\n",
              "</div>"
            ],
            "text/plain": [
              "                     category_name  ... labels\n",
              "99185                     Телефоны  ...     -1\n",
              "74740       Детская одежда и обувь  ...     -1\n",
              "103575      Детская одежда и обувь  ...     -1\n",
              "113822      Детская одежда и обувь  ...     -1\n",
              "91768                Спорт и отдых  ...     -1\n",
              "111787   Одежда, обувь, аксессуары  ...     -1\n",
              "56714    Одежда, обувь, аксессуары  ...     -1\n",
              "88500       Детская одежда и обувь  ...     -1\n",
              "119230            Часы и украшения  ...     -1\n",
              "99879   Товары для детей и игрушки  ...     -1\n",
              "27020    Одежда, обувь, аксессуары  ...     -1\n",
              "107215           Мебель и интерьер  ...     -1\n",
              "36800       Детская одежда и обувь  ...     -1\n",
              "87668                   Автомобили  ...     -1\n",
              "70281       Детская одежда и обувь  ...     -1\n",
              "28380    Одежда, обувь, аксессуары  ...     -1\n",
              "82711                     Квартиры  ...     -1\n",
              "55063    Одежда, обувь, аксессуары  ...     -1\n",
              "131214   Одежда, обувь, аксессуары  ...     -1\n",
              "36186       Детская одежда и обувь  ...     -1\n",
              "33413    Одежда, обувь, аксессуары  ...     -1\n",
              "87191            Мебель и интерьер  ...     -1\n",
              "42012         Дома, дачи, коттеджи  ...     -1\n",
              "65199       Детская одежда и обувь  ...     -1\n",
              "33193       Детская одежда и обувь  ...     -1\n",
              "67796       Детская одежда и обувь  ...     -1\n",
              "105476      Детская одежда и обувь  ...     -1\n",
              "93388         Дома, дачи, коттеджи  ...     -1\n",
              "53646                   Автомобили  ...     -1\n",
              "27878                     Растения  ...     -1\n",
              "\n",
              "[30 rows x 3 columns]"
            ]
          },
          "metadata": {
            "tags": []
          },
          "execution_count": 508
        }
      ]
    },
    {
      "cell_type": "markdown",
      "metadata": {
        "id": "2BdCbWqbh8Ul",
        "colab_type": "text"
      },
      "source": [
        "В данном случае среди выбросов оказалось много объявлений с деминутивами (например, \"кроссовочки\", \"сапожки\", \"утюжок\"). Также есть пример с опечаткой - \"Спаоги\". Часто в выбросах встречаются примеры с различными сокращениями: \"Спаоги 41 р-р\", \"Босоножки ф. Котофей, р. 23\", \"Продаю ноут\" и т.д. В выборке есть примеры транслитерации - \"Volta FS-18 сабвуфер\". Однако стоит заметить, что в выбросах много \"очевидных\" примеров, которые могли быть в других кластерах. "
      ]
    },
    {
      "cell_type": "markdown",
      "metadata": {
        "id": "NPdsp45Tqebg",
        "colab_type": "text"
      },
      "source": [
        "**DBSCAN с другими параметрами**"
      ]
    },
    {
      "cell_type": "code",
      "metadata": {
        "id": "LRFrVuy-qjQJ",
        "colab_type": "code",
        "colab": {}
      },
      "source": [
        "dbssample = data.sample(frac=0.01)\n",
        "tfidf = TfidfVectorizer(analyzer = 'char_wb', max_df=0.6, min_df=10, ngram_range=(10,15))\n",
        "svd = TruncatedSVD(50)\n",
        "X = tfidf.fit_transform(dbssample['title'])\n",
        "X_svd = svd.fit_transform(X)\n",
        "y = dbssample['category_name']"
      ],
      "execution_count": 0,
      "outputs": []
    },
    {
      "cell_type": "code",
      "metadata": {
        "id": "fj9_JD9A6y-w",
        "colab_type": "code",
        "colab": {}
      },
      "source": [
        "dbscan1 = DBSCAN(min_samples=3, eps=0.3) "
      ],
      "execution_count": 0,
      "outputs": []
    },
    {
      "cell_type": "code",
      "metadata": {
        "id": "aQbxXu9q6y3A",
        "colab_type": "code",
        "colab": {}
      },
      "source": [
        "db_labels1 = create_clusters(X_svd, dbscan1)"
      ],
      "execution_count": 0,
      "outputs": []
    },
    {
      "cell_type": "code",
      "metadata": {
        "id": "rqbjytWdjO68",
        "colab_type": "code",
        "colab": {}
      },
      "source": [
        "dbssample['labels1'] = db_labels1"
      ],
      "execution_count": 0,
      "outputs": []
    },
    {
      "cell_type": "code",
      "metadata": {
        "id": "OXjxanwBjUii",
        "colab_type": "code",
        "colab": {}
      },
      "source": [
        "outliers1 = dbssample[dbssample.labels1==-1]"
      ],
      "execution_count": 0,
      "outputs": []
    },
    {
      "cell_type": "code",
      "metadata": {
        "id": "h_jq-nsGrfyN",
        "colab_type": "code",
        "colab": {
          "base_uri": "https://localhost:8080/",
          "height": 402
        },
        "outputId": "951ad43a-99d8-4f4d-edab-0b00e60d18aa"
      },
      "source": [
        "dbssample[dbssample.category_name == 'Товары для детей и игрушки']"
      ],
      "execution_count": 460,
      "outputs": [
        {
          "output_type": "execute_result",
          "data": {
            "text/html": [
              "<div>\n",
              "<style scoped>\n",
              "    .dataframe tbody tr th:only-of-type {\n",
              "        vertical-align: middle;\n",
              "    }\n",
              "\n",
              "    .dataframe tbody tr th {\n",
              "        vertical-align: top;\n",
              "    }\n",
              "\n",
              "    .dataframe thead th {\n",
              "        text-align: right;\n",
              "    }\n",
              "</style>\n",
              "<table border=\"1\" class=\"dataframe\">\n",
              "  <thead>\n",
              "    <tr style=\"text-align: right;\">\n",
              "      <th></th>\n",
              "      <th>category_name</th>\n",
              "      <th>title</th>\n",
              "      <th>labels1</th>\n",
              "    </tr>\n",
              "  </thead>\n",
              "  <tbody>\n",
              "    <tr>\n",
              "      <th>15226</th>\n",
              "      <td>Товары для детей и игрушки</td>\n",
              "      <td>Пульки пластиковые в гранате</td>\n",
              "      <td>0</td>\n",
              "    </tr>\n",
              "    <tr>\n",
              "      <th>69557</th>\n",
              "      <td>Товары для детей и игрушки</td>\n",
              "      <td>Maxxpro, с 3. Лет</td>\n",
              "      <td>-1</td>\n",
              "    </tr>\n",
              "    <tr>\n",
              "      <th>13407</th>\n",
              "      <td>Товары для детей и игрушки</td>\n",
              "      <td>Манеж детский</td>\n",
              "      <td>3</td>\n",
              "    </tr>\n",
              "    <tr>\n",
              "      <th>62507</th>\n",
              "      <td>Товары для детей и игрушки</td>\n",
              "      <td>Продаю сухую молочную смесь Нутрилон 1</td>\n",
              "      <td>3</td>\n",
              "    </tr>\n",
              "    <tr>\n",
              "      <th>105569</th>\n",
              "      <td>Товары для детей и игрушки</td>\n",
              "      <td>Кровать чердак</td>\n",
              "      <td>3</td>\n",
              "    </tr>\n",
              "    <tr>\n",
              "      <th>...</th>\n",
              "      <td>...</td>\n",
              "      <td>...</td>\n",
              "      <td>...</td>\n",
              "    </tr>\n",
              "    <tr>\n",
              "      <th>134346</th>\n",
              "      <td>Товары для детей и игрушки</td>\n",
              "      <td>Коляска трансформер</td>\n",
              "      <td>40</td>\n",
              "    </tr>\n",
              "    <tr>\n",
              "      <th>41030</th>\n",
              "      <td>Товары для детей и игрушки</td>\n",
              "      <td>Baby Care Jogger Cruze</td>\n",
              "      <td>3</td>\n",
              "    </tr>\n",
              "    <tr>\n",
              "      <th>100107</th>\n",
              "      <td>Товары для детей и игрушки</td>\n",
              "      <td>Коляска</td>\n",
              "      <td>40</td>\n",
              "    </tr>\n",
              "    <tr>\n",
              "      <th>82348</th>\n",
              "      <td>Товары для детей и игрушки</td>\n",
              "      <td>Детский стол для еды</td>\n",
              "      <td>1</td>\n",
              "    </tr>\n",
              "    <tr>\n",
              "      <th>60986</th>\n",
              "      <td>Товары для детей и игрушки</td>\n",
              "      <td>Подгузники для мальчика Huggies</td>\n",
              "      <td>-1</td>\n",
              "    </tr>\n",
              "  </tbody>\n",
              "</table>\n",
              "<p>108 rows × 3 columns</p>\n",
              "</div>"
            ],
            "text/plain": [
              "                     category_name  ... labels1\n",
              "15226   Товары для детей и игрушки  ...       0\n",
              "69557   Товары для детей и игрушки  ...      -1\n",
              "13407   Товары для детей и игрушки  ...       3\n",
              "62507   Товары для детей и игрушки  ...       3\n",
              "105569  Товары для детей и игрушки  ...       3\n",
              "...                            ...  ...     ...\n",
              "134346  Товары для детей и игрушки  ...      40\n",
              "41030   Товары для детей и игрушки  ...       3\n",
              "100107  Товары для детей и игрушки  ...      40\n",
              "82348   Товары для детей и игрушки  ...       1\n",
              "60986   Товары для детей и игрушки  ...      -1\n",
              "\n",
              "[108 rows x 3 columns]"
            ]
          },
          "metadata": {
            "tags": []
          },
          "execution_count": 460
        }
      ]
    },
    {
      "cell_type": "code",
      "metadata": {
        "id": "s98H2Vb83MP4",
        "colab_type": "code",
        "colab": {
          "base_uri": "https://localhost:8080/",
          "height": 34
        },
        "outputId": "5d8d02d5-91a0-4d51-9086-758eec8a4cfa"
      },
      "source": [
        "len(outliers1.values)"
      ],
      "execution_count": 496,
      "outputs": [
        {
          "output_type": "execute_result",
          "data": {
            "text/plain": [
              "136"
            ]
          },
          "metadata": {
            "tags": []
          },
          "execution_count": 496
        }
      ]
    },
    {
      "cell_type": "code",
      "metadata": {
        "id": "NW7mFbg_jWYp",
        "colab_type": "code",
        "colab": {
          "base_uri": "https://localhost:8080/",
          "height": 1000
        },
        "outputId": "5ef545e3-068f-42d7-8647-4d10c2a3995b"
      },
      "source": [
        "outliers1[50:100]"
      ],
      "execution_count": 494,
      "outputs": [
        {
          "output_type": "execute_result",
          "data": {
            "text/html": [
              "<div>\n",
              "<style scoped>\n",
              "    .dataframe tbody tr th:only-of-type {\n",
              "        vertical-align: middle;\n",
              "    }\n",
              "\n",
              "    .dataframe tbody tr th {\n",
              "        vertical-align: top;\n",
              "    }\n",
              "\n",
              "    .dataframe thead th {\n",
              "        text-align: right;\n",
              "    }\n",
              "</style>\n",
              "<table border=\"1\" class=\"dataframe\">\n",
              "  <thead>\n",
              "    <tr style=\"text-align: right;\">\n",
              "      <th></th>\n",
              "      <th>category_name</th>\n",
              "      <th>title</th>\n",
              "      <th>labels1</th>\n",
              "    </tr>\n",
              "  </thead>\n",
              "  <tbody>\n",
              "    <tr>\n",
              "      <th>64353</th>\n",
              "      <td>Предложение услуг</td>\n",
              "      <td>Сантехник без выходных и в любое время</td>\n",
              "      <td>-1</td>\n",
              "    </tr>\n",
              "    <tr>\n",
              "      <th>6340</th>\n",
              "      <td>Одежда, обувь, аксессуары</td>\n",
              "      <td>Продам пальто</td>\n",
              "      <td>-1</td>\n",
              "    </tr>\n",
              "    <tr>\n",
              "      <th>65113</th>\n",
              "      <td>Детская одежда и обувь</td>\n",
              "      <td>Ботиночки фирмы Геокс бронзовые новые размер 24</td>\n",
              "      <td>-1</td>\n",
              "    </tr>\n",
              "    <tr>\n",
              "      <th>90040</th>\n",
              "      <td>Оборудование для бизнеса</td>\n",
              "      <td>Продам павильон для кофе</td>\n",
              "      <td>-1</td>\n",
              "    </tr>\n",
              "    <tr>\n",
              "      <th>126073</th>\n",
              "      <td>Планшеты и электронные книги</td>\n",
              "      <td>Кабель для айфона в Спортаж 3. Оригинал</td>\n",
              "      <td>-1</td>\n",
              "    </tr>\n",
              "    <tr>\n",
              "      <th>15823</th>\n",
              "      <td>Автомобили</td>\n",
              "      <td>ВАЗ 2107, 2007</td>\n",
              "      <td>-1</td>\n",
              "    </tr>\n",
              "    <tr>\n",
              "      <th>57039</th>\n",
              "      <td>Детская одежда и обувь</td>\n",
              "      <td>Джинсы от 6-9лет</td>\n",
              "      <td>-1</td>\n",
              "    </tr>\n",
              "    <tr>\n",
              "      <th>3221</th>\n",
              "      <td>Одежда, обувь, аксессуары</td>\n",
              "      <td>Куртка весна</td>\n",
              "      <td>-1</td>\n",
              "    </tr>\n",
              "    <tr>\n",
              "      <th>27052</th>\n",
              "      <td>Одежда, обувь, аксессуары</td>\n",
              "      <td>Ботинки из натуральной замши, р-р 38</td>\n",
              "      <td>-1</td>\n",
              "    </tr>\n",
              "    <tr>\n",
              "      <th>98224</th>\n",
              "      <td>Детская одежда и обувь</td>\n",
              "      <td>Джинсы для девочки</td>\n",
              "      <td>-1</td>\n",
              "    </tr>\n",
              "    <tr>\n",
              "      <th>129069</th>\n",
              "      <td>Детская одежда и обувь</td>\n",
              "      <td>Ветровка на флисе р-р104</td>\n",
              "      <td>-1</td>\n",
              "    </tr>\n",
              "    <tr>\n",
              "      <th>1741</th>\n",
              "      <td>Детская одежда и обувь</td>\n",
              "      <td>Кико зимний комплект 6 лет 116-128</td>\n",
              "      <td>-1</td>\n",
              "    </tr>\n",
              "    <tr>\n",
              "      <th>60443</th>\n",
              "      <td>Одежда, обувь, аксессуары</td>\n",
              "      <td>Платье с кожанным поясом</td>\n",
              "      <td>-1</td>\n",
              "    </tr>\n",
              "    <tr>\n",
              "      <th>48039</th>\n",
              "      <td>Детская одежда и обувь</td>\n",
              "      <td>Продам куртку 2 в 1</td>\n",
              "      <td>-1</td>\n",
              "    </tr>\n",
              "    <tr>\n",
              "      <th>34734</th>\n",
              "      <td>Телефоны</td>\n",
              "      <td>iPhone 6 16, 64 gb</td>\n",
              "      <td>-1</td>\n",
              "    </tr>\n",
              "    <tr>\n",
              "      <th>53461</th>\n",
              "      <td>Детская одежда и обувь</td>\n",
              "      <td>Юбки в ассортименте размеры от 34 до 38</td>\n",
              "      <td>-1</td>\n",
              "    </tr>\n",
              "    <tr>\n",
              "      <th>80271</th>\n",
              "      <td>Детская одежда и обувь</td>\n",
              "      <td>Сапоги резиновые, 37 размер</td>\n",
              "      <td>-1</td>\n",
              "    </tr>\n",
              "    <tr>\n",
              "      <th>131872</th>\n",
              "      <td>Одежда, обувь, аксессуары</td>\n",
              "      <td>Новые брюки (джегинсы)</td>\n",
              "      <td>-1</td>\n",
              "    </tr>\n",
              "    <tr>\n",
              "      <th>55054</th>\n",
              "      <td>Телефоны</td>\n",
              "      <td>Продам iPhone 5S 16gb</td>\n",
              "      <td>-1</td>\n",
              "    </tr>\n",
              "    <tr>\n",
              "      <th>25502</th>\n",
              "      <td>Телефоны</td>\n",
              "      <td>Кабель usb для iPad, iPod, iPhone 3, 4/4S</td>\n",
              "      <td>-1</td>\n",
              "    </tr>\n",
              "    <tr>\n",
              "      <th>22665</th>\n",
              "      <td>Детская одежда и обувь</td>\n",
              "      <td>Осенние ботиночки 25 размер</td>\n",
              "      <td>-1</td>\n",
              "    </tr>\n",
              "    <tr>\n",
              "      <th>7578</th>\n",
              "      <td>Одежда, обувь, аксессуары</td>\n",
              "      <td>Продам осенние ботинки</td>\n",
              "      <td>-1</td>\n",
              "    </tr>\n",
              "    <tr>\n",
              "      <th>76851</th>\n",
              "      <td>Детская одежда и обувь</td>\n",
              "      <td>Куртка для девочки</td>\n",
              "      <td>-1</td>\n",
              "    </tr>\n",
              "    <tr>\n",
              "      <th>38964</th>\n",
              "      <td>Одежда, обувь, аксессуары</td>\n",
              "      <td>Новый сувенирный турецкий рюкзак с орнаментом</td>\n",
              "      <td>-1</td>\n",
              "    </tr>\n",
              "    <tr>\n",
              "      <th>83860</th>\n",
              "      <td>Детская одежда и обувь</td>\n",
              "      <td>Ветровка на флисе орби</td>\n",
              "      <td>-1</td>\n",
              "    </tr>\n",
              "    <tr>\n",
              "      <th>107058</th>\n",
              "      <td>Детская одежда и обувь</td>\n",
              "      <td>Праздничное платье на девочку</td>\n",
              "      <td>-1</td>\n",
              "    </tr>\n",
              "    <tr>\n",
              "      <th>121703</th>\n",
              "      <td>Грузовики и спецтехника</td>\n",
              "      <td>Продам телегу для пчел</td>\n",
              "      <td>-1</td>\n",
              "    </tr>\n",
              "    <tr>\n",
              "      <th>100890</th>\n",
              "      <td>Коммерческая недвижимость</td>\n",
              "      <td>Складское помещение 1700 м² с пандусом</td>\n",
              "      <td>-1</td>\n",
              "    </tr>\n",
              "    <tr>\n",
              "      <th>51757</th>\n",
              "      <td>Фототехника</td>\n",
              "      <td>Новый мини компактный монопод для сэлфи FX 22</td>\n",
              "      <td>-1</td>\n",
              "    </tr>\n",
              "    <tr>\n",
              "      <th>26275</th>\n",
              "      <td>Предложение услуг</td>\n",
              "      <td>Продам абонемент в фитнес клуб x-fit</td>\n",
              "      <td>-1</td>\n",
              "    </tr>\n",
              "    <tr>\n",
              "      <th>93426</th>\n",
              "      <td>Детская одежда и обувь</td>\n",
              "      <td>Серые джинсы NM в отличном состоянии</td>\n",
              "      <td>-1</td>\n",
              "    </tr>\n",
              "    <tr>\n",
              "      <th>72190</th>\n",
              "      <td>Дома, дачи, коттеджи</td>\n",
              "      <td>Дом 30 м² на участке 2 сот.</td>\n",
              "      <td>-1</td>\n",
              "    </tr>\n",
              "    <tr>\n",
              "      <th>108780</th>\n",
              "      <td>Детская одежда и обувь</td>\n",
              "      <td>Сапоги Весна -осень</td>\n",
              "      <td>-1</td>\n",
              "    </tr>\n",
              "    <tr>\n",
              "      <th>15887</th>\n",
              "      <td>Одежда, обувь, аксессуары</td>\n",
              "      <td>Туфли летние мужские новые</td>\n",
              "      <td>-1</td>\n",
              "    </tr>\n",
              "    <tr>\n",
              "      <th>107839</th>\n",
              "      <td>Ноутбуки</td>\n",
              "      <td>HP DV6 подходит под кс го и доту 2 по 2.4 GHZ</td>\n",
              "      <td>-1</td>\n",
              "    </tr>\n",
              "    <tr>\n",
              "      <th>135305</th>\n",
              "      <td>Одежда, обувь, аксессуары</td>\n",
              "      <td>Сапоги демисезонные</td>\n",
              "      <td>-1</td>\n",
              "    </tr>\n",
              "    <tr>\n",
              "      <th>39035</th>\n",
              "      <td>Детская одежда и обувь</td>\n",
              "      <td>Платье на выпускной в детский сад</td>\n",
              "      <td>-1</td>\n",
              "    </tr>\n",
              "    <tr>\n",
              "      <th>108907</th>\n",
              "      <td>Детская одежда и обувь</td>\n",
              "      <td>Ботинки на мальчика</td>\n",
              "      <td>-1</td>\n",
              "    </tr>\n",
              "    <tr>\n",
              "      <th>30615</th>\n",
              "      <td>Одежда, обувь, аксессуары</td>\n",
              "      <td>Продам курточку новая</td>\n",
              "      <td>-1</td>\n",
              "    </tr>\n",
              "    <tr>\n",
              "      <th>93192</th>\n",
              "      <td>Детская одежда и обувь</td>\n",
              "      <td>Джинсы на флисе</td>\n",
              "      <td>-1</td>\n",
              "    </tr>\n",
              "    <tr>\n",
              "      <th>93157</th>\n",
              "      <td>Телефоны</td>\n",
              "      <td>Homtom ht7 5.5HD 1/8gb 4 ядра 2sim новый</td>\n",
              "      <td>-1</td>\n",
              "    </tr>\n",
              "    <tr>\n",
              "      <th>100940</th>\n",
              "      <td>Одежда, обувь, аксессуары</td>\n",
              "      <td>Брюки, джинсы для беременных</td>\n",
              "      <td>-1</td>\n",
              "    </tr>\n",
              "    <tr>\n",
              "      <th>119572</th>\n",
              "      <td>Детская одежда и обувь</td>\n",
              "      <td>Ветровка из мембранной ткани на х/б для девочки\"С</td>\n",
              "      <td>-1</td>\n",
              "    </tr>\n",
              "    <tr>\n",
              "      <th>132144</th>\n",
              "      <td>Товары для компьютера</td>\n",
              "      <td>Кабель и переходник для монитора</td>\n",
              "      <td>-1</td>\n",
              "    </tr>\n",
              "    <tr>\n",
              "      <th>95496</th>\n",
              "      <td>Детская одежда и обувь</td>\n",
              "      <td>Ботинки утепленные весна осень</td>\n",
              "      <td>-1</td>\n",
              "    </tr>\n",
              "    <tr>\n",
              "      <th>110547</th>\n",
              "      <td>Ремонт и строительство</td>\n",
              "      <td>Новые шланги для смесителя 40 см</td>\n",
              "      <td>-1</td>\n",
              "    </tr>\n",
              "    <tr>\n",
              "      <th>66787</th>\n",
              "      <td>Детская одежда и обувь</td>\n",
              "      <td>Ботинки на мальчика зимние</td>\n",
              "      <td>-1</td>\n",
              "    </tr>\n",
              "    <tr>\n",
              "      <th>34812</th>\n",
              "      <td>Телефоны</td>\n",
              "      <td>iPhone 6</td>\n",
              "      <td>-1</td>\n",
              "    </tr>\n",
              "    <tr>\n",
              "      <th>94324</th>\n",
              "      <td>Детская одежда и обувь</td>\n",
              "      <td>Сапоги резиновые с утеплителем б/у</td>\n",
              "      <td>-1</td>\n",
              "    </tr>\n",
              "    <tr>\n",
              "      <th>130393</th>\n",
              "      <td>Детская одежда и обувь</td>\n",
              "      <td>Курточка zara на 1-1,6 г. весна осень</td>\n",
              "      <td>-1</td>\n",
              "    </tr>\n",
              "  </tbody>\n",
              "</table>\n",
              "</div>"
            ],
            "text/plain": [
              "                       category_name  ... labels1\n",
              "64353              Предложение услуг  ...      -1\n",
              "6340       Одежда, обувь, аксессуары  ...      -1\n",
              "65113         Детская одежда и обувь  ...      -1\n",
              "90040       Оборудование для бизнеса  ...      -1\n",
              "126073  Планшеты и электронные книги  ...      -1\n",
              "15823                     Автомобили  ...      -1\n",
              "57039         Детская одежда и обувь  ...      -1\n",
              "3221       Одежда, обувь, аксессуары  ...      -1\n",
              "27052      Одежда, обувь, аксессуары  ...      -1\n",
              "98224         Детская одежда и обувь  ...      -1\n",
              "129069        Детская одежда и обувь  ...      -1\n",
              "1741          Детская одежда и обувь  ...      -1\n",
              "60443      Одежда, обувь, аксессуары  ...      -1\n",
              "48039         Детская одежда и обувь  ...      -1\n",
              "34734                       Телефоны  ...      -1\n",
              "53461         Детская одежда и обувь  ...      -1\n",
              "80271         Детская одежда и обувь  ...      -1\n",
              "131872     Одежда, обувь, аксессуары  ...      -1\n",
              "55054                       Телефоны  ...      -1\n",
              "25502                       Телефоны  ...      -1\n",
              "22665         Детская одежда и обувь  ...      -1\n",
              "7578       Одежда, обувь, аксессуары  ...      -1\n",
              "76851         Детская одежда и обувь  ...      -1\n",
              "38964      Одежда, обувь, аксессуары  ...      -1\n",
              "83860         Детская одежда и обувь  ...      -1\n",
              "107058        Детская одежда и обувь  ...      -1\n",
              "121703       Грузовики и спецтехника  ...      -1\n",
              "100890     Коммерческая недвижимость  ...      -1\n",
              "51757                    Фототехника  ...      -1\n",
              "26275              Предложение услуг  ...      -1\n",
              "93426         Детская одежда и обувь  ...      -1\n",
              "72190           Дома, дачи, коттеджи  ...      -1\n",
              "108780        Детская одежда и обувь  ...      -1\n",
              "15887      Одежда, обувь, аксессуары  ...      -1\n",
              "107839                      Ноутбуки  ...      -1\n",
              "135305     Одежда, обувь, аксессуары  ...      -1\n",
              "39035         Детская одежда и обувь  ...      -1\n",
              "108907        Детская одежда и обувь  ...      -1\n",
              "30615      Одежда, обувь, аксессуары  ...      -1\n",
              "93192         Детская одежда и обувь  ...      -1\n",
              "93157                       Телефоны  ...      -1\n",
              "100940     Одежда, обувь, аксессуары  ...      -1\n",
              "119572        Детская одежда и обувь  ...      -1\n",
              "132144         Товары для компьютера  ...      -1\n",
              "95496         Детская одежда и обувь  ...      -1\n",
              "110547        Ремонт и строительство  ...      -1\n",
              "66787         Детская одежда и обувь  ...      -1\n",
              "34812                       Телефоны  ...      -1\n",
              "94324         Детская одежда и обувь  ...      -1\n",
              "130393        Детская одежда и обувь  ...      -1\n",
              "\n",
              "[50 rows x 3 columns]"
            ]
          },
          "metadata": {
            "tags": []
          },
          "execution_count": 494
        }
      ]
    },
    {
      "cell_type": "markdown",
      "metadata": {
        "id": "PCeBPUQJsvhU",
        "colab_type": "text"
      },
      "source": [
        "С новыми параметрами количество выбросов уменьшилось. В выборке встречаются транслитерации: \"Ботиночки фирмы Геокс бронзовые новые размер 24\", \"Ветровка на флисе орби\", \"Кико зимний комплект 6 лет 116-128\". Можно отметить, что встречается много примеров, где есть слова на русском и на английском: \"Куртка Benetton р. XXL 160 новая\", \"Maxxpro, с 3. Лет\", \"Микроволновая печь Samsung в идеальном состоянии\". Помимо этого, довольно часто встречаются примеры со скобками: \"Шапка теплая (от 0 до 6 мес.)\", \"Молочная смесь Малютка 2 (с 6 месяцев)\", \"Емкость 3 тонны (б/у) (Тула и Щекино)\". Также встретился интересный пример с ошибкой - \"Платье с кожанным поясом\"."
      ]
    },
    {
      "cell_type": "markdown",
      "metadata": {
        "id": "fw8IH2MxvYZf",
        "colab_type": "text"
      },
      "source": [
        "**Mean Shift**"
      ]
    },
    {
      "cell_type": "code",
      "metadata": {
        "id": "Bz49AfLIviK3",
        "colab_type": "code",
        "colab": {}
      },
      "source": [
        "MSsample = data.sample(frac=0.01)\n",
        "tfidf = TfidfVectorizer(max_df=0.7, min_df=6, max_features=500, ngram_range=(1,3))\n",
        "svd = TruncatedSVD(50)\n",
        "X = tfidf.fit_transform(MSsample['title'])\n",
        "X_svd = svd.fit_transform(X)\n",
        "y = MSsample['category_name']"
      ],
      "execution_count": 0,
      "outputs": []
    },
    {
      "cell_type": "code",
      "metadata": {
        "id": "xHaLCprxjX3e",
        "colab_type": "code",
        "colab": {}
      },
      "source": [
        "MS = MeanShift(cluster_all=False, bandwidth=0.5)"
      ],
      "execution_count": 0,
      "outputs": []
    },
    {
      "cell_type": "code",
      "metadata": {
        "id": "cAf6L7b7ver0",
        "colab_type": "code",
        "colab": {}
      },
      "source": [
        "ms_labels = create_clusters(X_svd, MS)"
      ],
      "execution_count": 0,
      "outputs": []
    },
    {
      "cell_type": "code",
      "metadata": {
        "id": "1bd3OyIzvenL",
        "colab_type": "code",
        "colab": {}
      },
      "source": [
        "MSsample['ms_labels'] = ms_labels"
      ],
      "execution_count": 0,
      "outputs": []
    },
    {
      "cell_type": "code",
      "metadata": {
        "id": "3tU6vnnMveiK",
        "colab_type": "code",
        "colab": {}
      },
      "source": [
        "outliers = MSsample[MSsample.ms_labels==-1]"
      ],
      "execution_count": 0,
      "outputs": []
    },
    {
      "cell_type": "code",
      "metadata": {
        "id": "4gz8HcS23GkG",
        "colab_type": "code",
        "colab": {
          "base_uri": "https://localhost:8080/",
          "height": 34
        },
        "outputId": "3d16fb6a-005c-483d-aa6a-fe4f5dbbcfa2"
      },
      "source": [
        "len(outliers.values)"
      ],
      "execution_count": 495,
      "outputs": [
        {
          "output_type": "execute_result",
          "data": {
            "text/plain": [
              "26"
            ]
          },
          "metadata": {
            "tags": []
          },
          "execution_count": 495
        }
      ]
    },
    {
      "cell_type": "code",
      "metadata": {
        "id": "rR_nVLB1xDIA",
        "colab_type": "code",
        "colab": {
          "base_uri": "https://localhost:8080/",
          "height": 817
        },
        "outputId": "247878e8-2f5b-4136-910a-ee4f1d4ea60d"
      },
      "source": [
        "outliers.head(30)"
      ],
      "execution_count": 487,
      "outputs": [
        {
          "output_type": "execute_result",
          "data": {
            "text/html": [
              "<div>\n",
              "<style scoped>\n",
              "    .dataframe tbody tr th:only-of-type {\n",
              "        vertical-align: middle;\n",
              "    }\n",
              "\n",
              "    .dataframe tbody tr th {\n",
              "        vertical-align: top;\n",
              "    }\n",
              "\n",
              "    .dataframe thead th {\n",
              "        text-align: right;\n",
              "    }\n",
              "</style>\n",
              "<table border=\"1\" class=\"dataframe\">\n",
              "  <thead>\n",
              "    <tr style=\"text-align: right;\">\n",
              "      <th></th>\n",
              "      <th>category_name</th>\n",
              "      <th>title</th>\n",
              "      <th>ms_labels</th>\n",
              "    </tr>\n",
              "  </thead>\n",
              "  <tbody>\n",
              "    <tr>\n",
              "      <th>79347</th>\n",
              "      <td>Одежда, обувь, аксессуары</td>\n",
              "      <td>Босоножки летние</td>\n",
              "      <td>-1</td>\n",
              "    </tr>\n",
              "    <tr>\n",
              "      <th>8446</th>\n",
              "      <td>Детская одежда и обувь</td>\n",
              "      <td>Куртка на весну-осень</td>\n",
              "      <td>-1</td>\n",
              "    </tr>\n",
              "    <tr>\n",
              "      <th>118677</th>\n",
              "      <td>Детская одежда и обувь</td>\n",
              "      <td>Ветровка на флисе</td>\n",
              "      <td>-1</td>\n",
              "    </tr>\n",
              "    <tr>\n",
              "      <th>125439</th>\n",
              "      <td>Одежда, обувь, аксессуары</td>\n",
              "      <td>Сапоги женские резиновые на меху</td>\n",
              "      <td>-1</td>\n",
              "    </tr>\n",
              "    <tr>\n",
              "      <th>41733</th>\n",
              "      <td>Одежда, обувь, аксессуары</td>\n",
              "      <td>Продам женская кожанная куртка</td>\n",
              "      <td>-1</td>\n",
              "    </tr>\n",
              "    <tr>\n",
              "      <th>9664</th>\n",
              "      <td>Одежда, обувь, аксессуары</td>\n",
              "      <td>Босоножки Sasha Fabiani</td>\n",
              "      <td>-1</td>\n",
              "    </tr>\n",
              "    <tr>\n",
              "      <th>31753</th>\n",
              "      <td>Детская одежда и обувь</td>\n",
              "      <td>Ветровка на девочку</td>\n",
              "      <td>-1</td>\n",
              "    </tr>\n",
              "    <tr>\n",
              "      <th>113529</th>\n",
              "      <td>Детская одежда и обувь</td>\n",
              "      <td>Продам шапочку на 50-52 см</td>\n",
              "      <td>-1</td>\n",
              "    </tr>\n",
              "    <tr>\n",
              "      <th>67824</th>\n",
              "      <td>Детская одежда и обувь</td>\n",
              "      <td>Костюмчик на мальчика</td>\n",
              "      <td>-1</td>\n",
              "    </tr>\n",
              "    <tr>\n",
              "      <th>113999</th>\n",
              "      <td>Детская одежда и обувь</td>\n",
              "      <td>Рубашка на мальчика</td>\n",
              "      <td>-1</td>\n",
              "    </tr>\n",
              "    <tr>\n",
              "      <th>110016</th>\n",
              "      <td>Одежда, обувь, аксессуары</td>\n",
              "      <td>Юбка для офиса большой размер</td>\n",
              "      <td>-1</td>\n",
              "    </tr>\n",
              "    <tr>\n",
              "      <th>129562</th>\n",
              "      <td>Одежда, обувь, аксессуары</td>\n",
              "      <td>Босоножки литые лакированные бразильские Мелисса</td>\n",
              "      <td>-1</td>\n",
              "    </tr>\n",
              "    <tr>\n",
              "      <th>86154</th>\n",
              "      <td>Спорт и отдых</td>\n",
              "      <td>Коньки фигурные женские</td>\n",
              "      <td>-1</td>\n",
              "    </tr>\n",
              "    <tr>\n",
              "      <th>90454</th>\n",
              "      <td>Телефоны</td>\n",
              "      <td>Чехол на iPhone 6, 6s</td>\n",
              "      <td>-1</td>\n",
              "    </tr>\n",
              "    <tr>\n",
              "      <th>48787</th>\n",
              "      <td>Детская одежда и обувь</td>\n",
              "      <td>Комбинезон на весну-осень 80 см Lummie</td>\n",
              "      <td>-1</td>\n",
              "    </tr>\n",
              "    <tr>\n",
              "      <th>106330</th>\n",
              "      <td>Детская одежда и обувь</td>\n",
              "      <td>Босоножки кожаные-лак</td>\n",
              "      <td>-1</td>\n",
              "    </tr>\n",
              "    <tr>\n",
              "      <th>17961</th>\n",
              "      <td>Одежда, обувь, аксессуары</td>\n",
              "      <td>Комбинезон- трансформер для беременной</td>\n",
              "      <td>-1</td>\n",
              "    </tr>\n",
              "    <tr>\n",
              "      <th>13639</th>\n",
              "      <td>Товары для детей и игрушки</td>\n",
              "      <td>Дом для кукол</td>\n",
              "      <td>-1</td>\n",
              "    </tr>\n",
              "    <tr>\n",
              "      <th>119453</th>\n",
              "      <td>Одежда, обувь, аксессуары</td>\n",
              "      <td>Сапоги женские</td>\n",
              "      <td>-1</td>\n",
              "    </tr>\n",
              "    <tr>\n",
              "      <th>103292</th>\n",
              "      <td>Детская одежда и обувь</td>\n",
              "      <td>Кроссовки на девочку</td>\n",
              "      <td>-1</td>\n",
              "    </tr>\n",
              "    <tr>\n",
              "      <th>104778</th>\n",
              "      <td>Детская одежда и обувь</td>\n",
              "      <td>Ветровка на мальчика</td>\n",
              "      <td>-1</td>\n",
              "    </tr>\n",
              "    <tr>\n",
              "      <th>117286</th>\n",
              "      <td>Товары для животных</td>\n",
              "      <td>Дом для кошки</td>\n",
              "      <td>-1</td>\n",
              "    </tr>\n",
              "    <tr>\n",
              "      <th>52662</th>\n",
              "      <td>Гаражи и машиноместа</td>\n",
              "      <td>Сниму гараж</td>\n",
              "      <td>-1</td>\n",
              "    </tr>\n",
              "    <tr>\n",
              "      <th>128229</th>\n",
              "      <td>Детская одежда и обувь</td>\n",
              "      <td>Босоножки ортопедические детские</td>\n",
              "      <td>-1</td>\n",
              "    </tr>\n",
              "    <tr>\n",
              "      <th>128681</th>\n",
              "      <td>Детская одежда и обувь</td>\n",
              "      <td>Ботинки демисезонные. Размер 30</td>\n",
              "      <td>-1</td>\n",
              "    </tr>\n",
              "    <tr>\n",
              "      <th>67819</th>\n",
              "      <td>Одежда, обувь, аксессуары</td>\n",
              "      <td>Босоножки Ecco новые!</td>\n",
              "      <td>-1</td>\n",
              "    </tr>\n",
              "  </tbody>\n",
              "</table>\n",
              "</div>"
            ],
            "text/plain": [
              "                     category_name  ... ms_labels\n",
              "79347    Одежда, обувь, аксессуары  ...        -1\n",
              "8446        Детская одежда и обувь  ...        -1\n",
              "118677      Детская одежда и обувь  ...        -1\n",
              "125439   Одежда, обувь, аксессуары  ...        -1\n",
              "41733    Одежда, обувь, аксессуары  ...        -1\n",
              "9664     Одежда, обувь, аксессуары  ...        -1\n",
              "31753       Детская одежда и обувь  ...        -1\n",
              "113529      Детская одежда и обувь  ...        -1\n",
              "67824       Детская одежда и обувь  ...        -1\n",
              "113999      Детская одежда и обувь  ...        -1\n",
              "110016   Одежда, обувь, аксессуары  ...        -1\n",
              "129562   Одежда, обувь, аксессуары  ...        -1\n",
              "86154                Спорт и отдых  ...        -1\n",
              "90454                     Телефоны  ...        -1\n",
              "48787       Детская одежда и обувь  ...        -1\n",
              "106330      Детская одежда и обувь  ...        -1\n",
              "17961    Одежда, обувь, аксессуары  ...        -1\n",
              "13639   Товары для детей и игрушки  ...        -1\n",
              "119453   Одежда, обувь, аксессуары  ...        -1\n",
              "103292      Детская одежда и обувь  ...        -1\n",
              "104778      Детская одежда и обувь  ...        -1\n",
              "117286         Товары для животных  ...        -1\n",
              "52662         Гаражи и машиноместа  ...        -1\n",
              "128229      Детская одежда и обувь  ...        -1\n",
              "128681      Детская одежда и обувь  ...        -1\n",
              "67819    Одежда, обувь, аксессуары  ...        -1\n",
              "\n",
              "[26 rows x 3 columns]"
            ]
          },
          "metadata": {
            "tags": []
          },
          "execution_count": 487
        }
      ]
    },
    {
      "cell_type": "markdown",
      "metadata": {
        "id": "g6qCC2YixtZt",
        "colab_type": "text"
      },
      "source": [
        "Снова в выбросах встречаются деминутивы: \"Костюмчик на мальчика\", \"Продам шапочку на 50-52 см\". Помимо этого, встречается пример транслитерации (\"Босоножки литые лакированные бразильские Мелисса\")."
      ]
    },
    {
      "cell_type": "markdown",
      "metadata": {
        "id": "80yGTLcK70HP",
        "colab_type": "text"
      },
      "source": [
        "**Вывод:**\n",
        "\n",
        "В выбросах часто встречаются:\n",
        "1) деминутивы;\n",
        "2) примеры транслитерации;\n",
        "3) примеры двуязычных заголовков;\n",
        "4) опечатки;\n",
        "5) орфографические ошибки;\n",
        "6) заголовки со скобками;\n",
        "7) заголовки с сокращениями."
      ]
    },
    {
      "cell_type": "markdown",
      "metadata": {
        "id": "INXXyP4g9EmA",
        "colab_type": "text"
      },
      "source": [
        "# **Метод локтя**"
      ]
    },
    {
      "cell_type": "code",
      "metadata": {
        "id": "Pa97WselxEuX",
        "colab_type": "code",
        "colab": {}
      },
      "source": [
        "from tqdm import tqdm\n",
        "import numpy as np\n",
        "%matplotlib inline\n",
        "import matplotlib.pyplot as plt"
      ],
      "execution_count": 0,
      "outputs": []
    },
    {
      "cell_type": "code",
      "metadata": {
        "id": "p6QEtgT-9eFf",
        "colab_type": "code",
        "colab": {
          "base_uri": "https://localhost:8080/",
          "height": 34
        },
        "outputId": "2e10c020-3e99-49f4-f360-6faf8e2ba5e6"
      },
      "source": [
        "new_sample = data.sample(frac=0.01)\n",
        "new_sample.shape"
      ],
      "execution_count": 531,
      "outputs": [
        {
          "output_type": "execute_result",
          "data": {
            "text/plain": [
              "(1387, 2)"
            ]
          },
          "metadata": {
            "tags": []
          },
          "execution_count": 531
        }
      ]
    },
    {
      "cell_type": "code",
      "metadata": {
        "id": "iWn7enGe9emJ",
        "colab_type": "code",
        "colab": {}
      },
      "source": [
        "tfidf = TfidfVectorizer(max_df=0.7, min_df=6, max_features=500, ngram_range=(1,3))\n",
        "X = tf.fit_transform(new_sample['title'])"
      ],
      "execution_count": 0,
      "outputs": []
    },
    {
      "cell_type": "code",
      "metadata": {
        "id": "7-9nbblK9egg",
        "colab_type": "code",
        "colab": {
          "base_uri": "https://localhost:8080/",
          "height": 34
        },
        "outputId": "695205fb-d14c-4f96-a0b0-4fca446b1412"
      },
      "source": [
        "scores = []\n",
        "for i in tqdm(range(5, 400, 50)):\n",
        "    cluster = MiniBatchKMeans(n_clusters=i, init_size=i*3)\n",
        "    cluster.fit(X)\n",
        "    scores.append(metrics.silhouette_score(X, cluster.labels_))"
      ],
      "execution_count": 535,
      "outputs": [
        {
          "output_type": "stream",
          "text": [
            "100%|██████████| 8/8 [00:05<00:00,  1.60it/s]\n"
          ],
          "name": "stderr"
        }
      ]
    },
    {
      "cell_type": "code",
      "metadata": {
        "id": "-Bbh7KBh9eau",
        "colab_type": "code",
        "colab": {
          "base_uri": "https://localhost:8080/",
          "height": 337
        },
        "outputId": "4c2adbc8-9563-4936-c449-49a4a6bfe62e"
      },
      "source": [
        "plt.figure(figsize=(12, 5))\n",
        "plt.plot(list(range(5, 400, 50)), scores)"
      ],
      "execution_count": 536,
      "outputs": [
        {
          "output_type": "execute_result",
          "data": {
            "text/plain": [
              "[<matplotlib.lines.Line2D at 0x7f5786792fd0>]"
            ]
          },
          "metadata": {
            "tags": []
          },
          "execution_count": 536
        },
        {
          "output_type": "display_data",
          "data": {
            "image/png": "[encoded data removed]",
            "text/plain": [
              "<Figure size 864x360 with 1 Axes>"
            ]
          },
          "metadata": {
            "tags": [],
            "needs_background": "light"
          }
        }
      ]
    },
    {
      "cell_type": "code",
      "metadata": {
        "id": "Vcav9nn0CuP8",
        "colab_type": "code",
        "colab": {
          "base_uri": "https://localhost:8080/",
          "height": 34
        },
        "outputId": "0995cdb9-4dcf-43e5-8886-214efff9d43a"
      },
      "source": [
        "scores = []\n",
        "for i in tqdm(range(5, 200, 10)):\n",
        "    cluster = MiniBatchKMeans(n_clusters=i, init_size=i*3)\n",
        "    cluster.fit(X)\n",
        "    scores.append(metrics.silhouette_score(X, cluster.labels_))"
      ],
      "execution_count": 539,
      "outputs": [
        {
          "output_type": "stream",
          "text": [
            "100%|██████████| 20/20 [00:06<00:00,  2.86it/s]\n"
          ],
          "name": "stderr"
        }
      ]
    },
    {
      "cell_type": "code",
      "metadata": {
        "id": "P5KeIB0VC1iQ",
        "colab_type": "code",
        "colab": {
          "base_uri": "https://localhost:8080/",
          "height": 337
        },
        "outputId": "fd045a18-2ea5-4f22-a913-8b3a451439a8"
      },
      "source": [
        "plt.figure(figsize=(12, 5))\n",
        "plt.plot(list(range(5, 200, 10)), scores)"
      ],
      "execution_count": 540,
      "outputs": [
        {
          "output_type": "execute_result",
          "data": {
            "text/plain": [
              "[<matplotlib.lines.Line2D at 0x7f5783a88550>]"
            ]
          },
          "metadata": {
            "tags": []
          },
          "execution_count": 540
        },
        {
          "output_type": "display_data",
          "data": {
            "image/png": "[encoded data removed]",
            "text/plain": [
              "<Figure size 864x360 with 1 Axes>"
            ]
          },
          "metadata": {
            "tags": [],
            "needs_background": "light"
          }
        }
      ]
    },
    {
      "cell_type": "markdown",
      "metadata": {
        "id": "s3POK6KECRj2",
        "colab_type": "text"
      },
      "source": [
        "Сложно утверждать, какое число кластеров должно быть использовано, но оно должно быть примерно около 150 -170."
      ]
    }
  ]
}